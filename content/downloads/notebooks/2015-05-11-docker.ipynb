{
 "metadata": {
  "kernelspec": {
   "display_name": "Iris (Python 2)",
   "language": "python",
   "name": "iris_python2"
  },
  "language_info": {
   "codemirror_mode": {
    "name": "ipython",
    "version": 2
   },
   "file_extension": ".py",
   "mimetype": "text/x-python",
   "name": "python",
   "nbconvert_exporter": "python",
   "pygments_lexer": "ipython2",
   "version": "2.7.8"
  },
  "name": "",
  "signature": "sha256:f1200f091cddca8b9717af37d55fd20ac286a650c6b4cd36d3c9ff50bd81dbef"
 },
 "nbformat": 3,
 "nbformat_minor": 0,
 "worksheets": [
  {
   "cells": [
    {
     "cell_type": "code",
     "collapsed": false,
     "input": [
      "name = '2015-05-11-docker'\n",
      "title = \"Notes on using docker (to build IOOS binstar channel)\"\n",
      "\n",
      "import os\n",
      "from datetime import datetime\n",
      "\n",
      "from IPython.core.display import HTML\n",
      "\n",
      "%matplotlib inline\n",
      "\n",
      "with open('creative_commons.txt', 'r') as f:\n",
      "    html = f.read()\n",
      "    \n",
      "with open('./styles/custom.css', 'r') as f:\n",
      "    styles = f.read()\n",
      "    \n",
      "HTML(styles)\n",
      "\n",
      "\n",
      "html = \"\"\"\n",
      "<small>\n",
      "<p> This post was written as an IPython notebook.  It is available for\n",
      "<a href=\"http://ocefpaf.github.com/python4oceanographers/downloads/\n",
      "notebooks/%s.ipynb\">download</a> or as a static\n",
      "<a href=\"http://nbviewer.ipython.org/url/ocefpaf.github.com/\n",
      "python4oceanographers/downloads/notebooks/%s.ipynb\">html</a>.</p>\n",
      "<p></p>\n",
      "%s \"\"\" % (name, name, html)\n",
      "\n",
      "hour = datetime.utcnow().strftime('%H:%M')\n",
      "comments=\"true\"\n",
      "\n",
      "date = '-'.join(name.split('-')[:3])\n",
      "slug = '-'.join(name.split('-')[3:])\n",
      "\n",
      "metadata = dict(title=title,\n",
      "                date=date,\n",
      "                hour=hour,\n",
      "                comments=comments,\n",
      "                slug=slug,\n",
      "                name=name)\n",
      "\n",
      "markdown = \"\"\"Title: {title}\n",
      "date:  {date} {hour}\n",
      "comments: {comments}\n",
      "slug: {slug}\n",
      "\n",
      "{{% notebook {name}.ipynb cells[1:] %}}\n",
      "\"\"\".format(**metadata)\n",
      "\n",
      "content = os.path.abspath(os.path.join(os.getcwd(), os.pardir, os.pardir, '{}.md'.format(name)))\n",
      "with open('{}'.format(content), 'w') as f:\n",
      "    f.writelines(markdown)"
     ],
     "language": "python",
     "metadata": {},
     "outputs": [],
     "prompt_number": 1
    },
    {
     "cell_type": "markdown",
     "metadata": {},
     "source": [
      "This post contains my notes on how to use docker.  The goal is to use a\n",
      "docker image to speedup Linux32 and Linus64 builds for the IOOS channel.\n",
      "\n",
      "## Install\n",
      "\n",
      "[OpenSUSE](https://docs.docker.com/installation/SUSE/)\n",
      "\n",
      "```bash\n",
      "sudo systemctl start docker\n",
      "sudo systemctl enable docker\n",
      "sudo /usr/sbin/usermod -a -G docker $USER\n",
      "```\n",
      "\n",
      "[No sudo](http://askubuntu.com/questions/477551/how-can-i-use-docker-without-sudo)\n",
      "\n",
      "```bash\n",
      "sudo groupadd docker\n",
      "sudo gpasswd -a ${USER} docker\n",
      "sudo service docker restart\n",
      "```\n",
      "\n",
      "[Login (docker-hub)](https://registry.hub.docker.com/)\n",
      "\n",
      "```bash\n",
      "docker login\n",
      "```"
     ]
    },
    {
     "cell_type": "markdown",
     "metadata": {},
     "source": [
      "## Manage images\n",
      "\n",
      "Using [pelson's Centos image](https://registry.hub.docker.com/u/pelson/conda64_obvious_ci/)  with conda+obvious-ci\n",
      "\n",
      "```bash\n",
      "docker pull pelson/conda64_obvious_ci\n",
      "```\n",
      "\n",
      "List your images\n",
      "\n",
      "```bash\n",
      "docker images\n",
      "```\n",
      "\n",
      "Remove an image\n",
      "\n",
      "```bash\n",
      "docker rmi <image>\n",
      "```"
     ]
    },
    {
     "cell_type": "markdown",
     "metadata": {},
     "source": [
      "## Using the image\n",
      "\n",
      "Run something once\n",
      "\n",
      "```bash\n",
      "docker run pelson/conda64_obvious_ci /bin/echo 'Hello world'\n",
      "```\n",
      "\n",
      "Open a terminal inside the container\n",
      "```bash\n",
      "docker run -i -t pelson/conda64_obvious_ci /bin/bash\n",
      "```\n",
      "\n",
      "Start terminal and mout a directory at image's /home\n",
      "```bash\n",
      "docker run -it --rm -v $(pwd):/home/ pelson/conda64_obvious_ci /bin/bash\n",
      "cd home\n",
      "```\n",
      "\n",
      "**Note:** The `--rm` does not save the container state.  All changes will be deleted once you leave the image!"
     ]
    },
    {
     "cell_type": "markdown",
     "metadata": {},
     "source": [
      "## Inside the container\n",
      "\n",
      "To build all packages at [IOOS](https://conda.binstar.org/ioos) we need:\n",
      "\n",
      "```bash\n",
      "yum install -y patch\n",
      "yum install -y file\n",
      "\n",
      "# Qt, matplotlib deps, vispy\n",
      "yum install -y libXext\n",
      "yum install -y libSM\n",
      "yum install -y libXrender\n",
      "yum install -y fontconfig\n",
      "yum install -y mesa-libGL\n",
      "\n",
      "# octant\n",
      "yum install -y gcc-gfortran\n",
      "\n",
      "# udunits2\n",
      "yum install -y expat-devel\n",
      "\n",
      "# rasterio\n",
      "yum install -y compat-expat1.i686\n",
      "\n",
      "# nco\n",
      "yum install -y bison\n",
      "yum install -y byacc\n",
      "yum install -y flex\n",
      "yum install -y gsl-devel\n",
      "yum install -y antlr\n",
      "```"
     ]
    },
    {
     "cell_type": "markdown",
     "metadata": {},
     "source": [
      "## Updating and configuring conda\n",
      "\n",
      "```bash\n",
      "conda update --all\n",
      "conda config --add channels ioos\n",
      "\n",
      "BINSTAR_TOKEN=<your-token-here>\n",
      "export BINSTAR_TOKEN\n",
      "\n",
      "binstar login\n",
      "conda config --set binstar_upload yes\n",
      "```"
     ]
    },
    {
     "cell_type": "markdown",
     "metadata": {},
     "source": [
      "# Firing up obvious-ci\n",
      "\n",
      "```bash\n",
      "obvci_conda_build_dir.py ./ ioos --channel main\n",
      "```"
     ]
    },
    {
     "cell_type": "code",
     "collapsed": false,
     "input": [
      "HTML(html)"
     ],
     "language": "python",
     "metadata": {},
     "outputs": [
      {
       "html": [
        "\n",
        "<small>\n",
        "<p> This post was written as an IPython notebook.  It is available for\n",
        "<a href=\"http://ocefpaf.github.com/python4oceanographers/downloads/\n",
        "notebooks/2015-05-11-docker.ipynb\">download</a> or as a static\n",
        "<a href=\"http://nbviewer.ipython.org/url/ocefpaf.github.com/\n",
        "python4oceanographers/downloads/notebooks/2015-05-11-docker.ipynb\">html</a>.</p>\n",
        "<p></p>\n",
        "<a rel=\"license\" href=\"http://creativecommons.org/licenses/by-sa/4.0/\"><img\n",
        "alt=\"Creative Commons License\" style=\"border-width:0\"\n",
        "src=\"http://i.creativecommons.org/l/by-sa/4.0/88x31.png\" /></a><br /><span\n",
        "xmlns:dct=\"http://purl.org/dc/terms/\"\n",
        "property=\"dct:title\">python4oceanographers</span> by <a\n",
        "xmlns:cc=\"http://creativecommons.org/ns#\" href=\"http://ocefpaf.github.io/\"\n",
        "property=\"cc:attributionName\" rel=\"cc:attributionURL\">Filipe Fernandes</a> is\n",
        "licensed under a <a rel=\"license\"\n",
        "href=\"http://creativecommons.org/licenses/by-sa/4.0/\">Creative Commons\n",
        "Attribution-ShareAlike 4.0 International License</a>.<br />Based on a work at <a\n",
        "xmlns:dct=\"http://purl.org/dc/terms/\" href=\"http://ocefpaf.github.io/\"\n",
        "rel=\"dct:source\">http://ocefpaf.github.io/</a>.\n",
        " "
       ],
       "metadata": {},
       "output_type": "pyout",
       "prompt_number": 2,
       "text": [
        "<IPython.core.display.HTML at 0x7fb249bc3ad0>"
       ]
      }
     ],
     "prompt_number": 2
    }
   ],
   "metadata": {}
  }
 ]
}