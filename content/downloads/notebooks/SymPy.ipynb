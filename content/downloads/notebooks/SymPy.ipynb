{
 "metadata": {
  "name": "SymPy"
 },
 "nbformat": 3,
 "nbformat_minor": 0,
 "worksheets": [
  {
   "cells": [
    {
     "cell_type": "code",
     "collapsed": false,
     "input": [
      "from __future__ import division"
     ],
     "language": "python",
     "metadata": {},
     "outputs": [],
     "prompt_number": 1
    },
    {
     "cell_type": "code",
     "collapsed": false,
     "input": [
      "import sympy\n",
      "import numpy\n",
      "\n",
      "print(\"SymPy version: %s\" % sympy.__version__)\n",
      "print(\"NumPy version: %s\" % numpy.__version__)"
     ],
     "language": "python",
     "metadata": {},
     "outputs": [
      {
       "output_type": "stream",
       "stream": "stdout",
       "text": [
        "SymPy version: 0.7.2-git\n",
        "NumPy version: 1.8.0.dev-Unknown\n"
       ]
      }
     ],
     "prompt_number": 2
    },
    {
     "cell_type": "code",
     "collapsed": false,
     "input": [
      "import numpy as np\n",
      "import numpy.ma as ma\n",
      "import matplotlib.pyplot as plt\n",
      "\n",
      "from sympy.solvers import solve\n",
      "from sympy.functions import exp\n",
      "from sympy import Symbol, Matrix\n",
      "\n",
      "from mpltools import style, layout\n",
      "style.use('ggplot')\n",
      "\n",
      "from sympy.interactive import ipythonprinting\n",
      "ipythonprinting.init_printing()"
     ],
     "language": "python",
     "metadata": {},
     "outputs": [],
     "prompt_number": 3
    },
    {
     "cell_type": "code",
     "collapsed": false,
     "input": [
      "c = Symbol('c')\n",
      "k = Symbol('k')"
     ],
     "language": "python",
     "metadata": {},
     "outputs": [],
     "prompt_number": 4
    },
    {
     "cell_type": "code",
     "collapsed": false,
     "input": [
      "A = Matrix([[-c + 1 / (2 * k), -exp(-k / 2) / k,  exp(-k) / (2 * k)],\n",
      "            [exp(-k / 2) / (2 * k), -1 / k + 1 / 2 - c, exp(-k / 2) / (2 * k)],\n",
      "            [exp(-k) / (2 * k), -exp(-k / 2) / (k), - c + 1 / (2 * k)]])\n",
      "A"
     ],
     "language": "python",
     "metadata": {},
     "outputs": [
      {
       "latex": [
        "$$\\left[\\begin{smallmatrix}- c + \\frac{1}{2 k} & - \\frac{e^{- \\frac{1}{2} k}}{k} & \\frac{e^{- k}}{2 k}\\\\\\frac{e^{- \\frac{1}{2} k}}{2 k} & - c + 0.5 - \\frac{1}{k} & \\frac{e^{- \\frac{1}{2} k}}{2 k}\\\\\\frac{e^{- k}}{2 k} & - \\frac{e^{- \\frac{1}{2} k}}{k} & - c + \\frac{1}{2 k}\\end{smallmatrix}\\right]$$"
       ],
       "output_type": "pyout",
       "png": "[encoded data removed]",
       "prompt_number": 5,
       "text": [
        "\u23a1                -k              \u23a4\n",
        "\u23a2                \u2500\u2500              \u23a5\n",
        "\u23a2                2          -k   \u23a5\n",
        "\u23a2      1       -\u212f          \u212f     \u23a5\n",
        "\u23a2-c + \u2500\u2500\u2500      \u2500\u2500\u2500\u2500        \u2500\u2500\u2500   \u23a5\n",
        "\u23a2     2\u22c5k       k          2\u22c5k   \u23a5\n",
        "\u23a2                                \u23a5\n",
        "\u23a2   -k                      -k   \u23a5\n",
        "\u23a2   \u2500\u2500                      \u2500\u2500   \u23a5\n",
        "\u23a2   2                       2    \u23a5\n",
        "\u23a2  \u212f                  1    \u212f     \u23a5\n",
        "\u23a2  \u2500\u2500\u2500     -c + 0.5 - \u2500    \u2500\u2500\u2500   \u23a5\n",
        "\u23a2  2\u22c5k                k    2\u22c5k   \u23a5\n",
        "\u23a2                                \u23a5\n",
        "\u23a2                -k              \u23a5\n",
        "\u23a2                \u2500\u2500              \u23a5\n",
        "\u23a2   -k           2               \u23a5\n",
        "\u23a2  \u212f           -\u212f              1 \u23a5\n",
        "\u23a2  \u2500\u2500\u2500         \u2500\u2500\u2500\u2500      -c + \u2500\u2500\u2500\u23a5\n",
        "\u23a3  2\u22c5k          k             2\u22c5k\u23a6"
       ]
      }
     ],
     "prompt_number": 5
    },
    {
     "cell_type": "code",
     "collapsed": false,
     "input": [
      "det = A.det()\n",
      "det"
     ],
     "language": "python",
     "metadata": {},
     "outputs": [
      {
       "latex": [
        "$$- 1.0 c^{3} + 0.5 c^{2} - 0.5 \\frac{c}{k} + 0.75 \\frac{c}{k^{2}} - 1.0 \\frac{c e^{- k}}{k^{2}} + 0.25 \\frac{c e^{- 2 k}}{k^{2}} + 0.125 \\frac{1}{k^{2}} - 0.125 \\frac{e^{- 2 k}}{k^{2}} - 0.25 \\frac{1}{k^{3}} + 0.5 \\frac{e^{- k}}{k^{3}} - 0.25 \\frac{e^{- 2 k}}{k^{3}}$$"
       ],
       "output_type": "pyout",
       "png": "[encoded data removed]",
       "prompt_number": 6,
       "text": [
        "                                            -k           -2\u22c5k                 \n",
        "       3        2   0.5\u22c5c   0.75\u22c5c   1.0\u22c5c\u22c5\u212f     0.25\u22c5c\u22c5\u212f       0.125   0.125\u22c5\n",
        "- 1.0\u22c5c  + 0.5\u22c5c  - \u2500\u2500\u2500\u2500\u2500 + \u2500\u2500\u2500\u2500\u2500\u2500 - \u2500\u2500\u2500\u2500\u2500\u2500\u2500\u2500\u2500 + \u2500\u2500\u2500\u2500\u2500\u2500\u2500\u2500\u2500\u2500\u2500\u2500 + \u2500\u2500\u2500\u2500\u2500 - \u2500\u2500\u2500\u2500\u2500\u2500\n",
        "                      k        2          2            2           2          \n",
        "                              k          k            k           k          k\n",
        "\n",
        " -2\u22c5k               -k         -2\u22c5k\n",
        "\u212f       0.25   0.5\u22c5\u212f     0.25\u22c5\u212f    \n",
        "\u2500\u2500\u2500\u2500\u2500 - \u2500\u2500\u2500\u2500 + \u2500\u2500\u2500\u2500\u2500\u2500\u2500 - \u2500\u2500\u2500\u2500\u2500\u2500\u2500\u2500\u2500\u2500\n",
        "2         3        3          3    \n",
        "         k        k          k     "
       ]
      }
     ],
     "prompt_number": 6
    },
    {
     "cell_type": "code",
     "collapsed": false,
     "input": [
      "K = solve(det, c)\n",
      "K"
     ],
     "language": "python",
     "metadata": {},
     "outputs": [
      {
       "latex": [
        "$$\\begin{bmatrix}0.25 \\frac{\\left(k^{2} e^{k} - k e^{k} + k - \\sqrt{k^{4} e^{2.0 k} - 2.0 k^{3} \\left(e^{2.0 k}\\right)^{0.5} - 6.0 k^{3} e^{2.0 k} - 10.0 k^{2} \\left(e^{2.0 k}\\right)^{0.5} + 9.0 k^{2} e^{2.0 k} + k^{2}}\\right) e^{- k}}{k^{2}}, & 0.25 \\frac{\\left(k^{2} e^{k} - k e^{k} + k + \\sqrt{k^{4} e^{2.0 k} - 2.0 k^{3} \\left(e^{2.0 k}\\right)^{0.5} - 6.0 k^{3} e^{2.0 k} - 10.0 k^{2} \\left(e^{2.0 k}\\right)^{0.5} + 9.0 k^{2} e^{2.0 k} + k^{2}}\\right) e^{- k}}{k^{2}}, & 0.5 \\frac{\\left(e^{k} -1.0\\right) e^{- k}}{k}\\end{bmatrix}$$"
       ],
       "output_type": "pyout",
       "prompt_number": 7,
       "text": [
        "\u23a1     \u239b                       ________________________________________________\n",
        "\u23a2     \u239c                      \u2571                            0.5                 \n",
        "\u23a2     \u239c 2  k      k         \u2571   4  2.0\u22c5k        3 \u239b 2.0\u22c5k\u239e           3  2.0\u22c5k \n",
        "\u23a20.25\u22c5\u239dk \u22c5\u212f  - k\u22c5\u212f  + k - \u2572\u2571   k \u22c5\u212f      - 2.0\u22c5k \u22c5\u239d\u212f     \u23a0    - 6.0\u22c5k \u22c5\u212f      \n",
        "\u23a2\u2500\u2500\u2500\u2500\u2500\u2500\u2500\u2500\u2500\u2500\u2500\u2500\u2500\u2500\u2500\u2500\u2500\u2500\u2500\u2500\u2500\u2500\u2500\u2500\u2500\u2500\u2500\u2500\u2500\u2500\u2500\u2500\u2500\u2500\u2500\u2500\u2500\u2500\u2500\u2500\u2500\u2500\u2500\u2500\u2500\u2500\u2500\u2500\u2500\u2500\u2500\u2500\u2500\u2500\u2500\u2500\u2500\u2500\u2500\u2500\u2500\u2500\u2500\u2500\u2500\u2500\u2500\u2500\u2500\u2500\u2500\u2500\u2500\u2500\u2500\u2500\u2500\n",
        "\u23a2                                                               2             \n",
        "\u23a3                                                              k              \n",
        "\n",
        "___________________________________________\u239e           \u239b                      \n",
        "                  0.5                      \u239f           \u239c                      \n",
        "        2 \u239b 2.0\u22c5k\u239e           2  2.0\u22c5k    2 \u239f  -k       \u239c 2  k      k         \u2571\n",
        "- 10.0\u22c5k \u22c5\u239d\u212f     \u23a0    + 9.0\u22c5k \u22c5\u212f      + k  \u23a0\u22c5\u212f    0.25\u22c5\u239dk \u22c5\u212f  - k\u22c5\u212f  + k + \u2572\u2571 \n",
        "\u2500\u2500\u2500\u2500\u2500\u2500\u2500\u2500\u2500\u2500\u2500\u2500\u2500\u2500\u2500\u2500\u2500\u2500\u2500\u2500\u2500\u2500\u2500\u2500\u2500\u2500\u2500\u2500\u2500\u2500\u2500\u2500\u2500\u2500\u2500\u2500\u2500\u2500\u2500\u2500\u2500\u2500\u2500\u2500\u2500\u2500\u2500\u2500, \u2500\u2500\u2500\u2500\u2500\u2500\u2500\u2500\u2500\u2500\u2500\u2500\u2500\u2500\u2500\u2500\u2500\u2500\u2500\u2500\u2500\u2500\u2500\u2500\u2500\u2500\u2500\u2500\n",
        "                                                                              \n",
        "                                                                              \n",
        "\n",
        " _____________________________________________________________________________\n",
        "\u2571                            0.5                                   0.5        \n",
        "   4  2.0\u22c5k        3 \u239b 2.0\u22c5k\u239e           3  2.0\u22c5k         2 \u239b 2.0\u22c5k\u239e           \n",
        "  k \u22c5\u212f      - 2.0\u22c5k \u22c5\u239d\u212f     \u23a0    - 6.0\u22c5k \u22c5\u212f      - 10.0\u22c5k \u22c5\u239d\u212f     \u23a0    + 9.0\u22c5k\n",
        "\u2500\u2500\u2500\u2500\u2500\u2500\u2500\u2500\u2500\u2500\u2500\u2500\u2500\u2500\u2500\u2500\u2500\u2500\u2500\u2500\u2500\u2500\u2500\u2500\u2500\u2500\u2500\u2500\u2500\u2500\u2500\u2500\u2500\u2500\u2500\u2500\u2500\u2500\u2500\u2500\u2500\u2500\u2500\u2500\u2500\u2500\u2500\u2500\u2500\u2500\u2500\u2500\u2500\u2500\u2500\u2500\u2500\u2500\u2500\u2500\u2500\u2500\u2500\u2500\u2500\u2500\u2500\u2500\u2500\u2500\u2500\u2500\u2500\u2500\u2500\u2500\u2500\u2500\n",
        "                                   2                                          \n",
        "                                  k                                           \n",
        "\n",
        "______________\u239e                        \u23a4\n",
        "              \u239f                        \u23a5\n",
        "2  2.0\u22c5k    2 \u239f  -k      \u239b k      \u239e  -k\u23a5\n",
        " \u22c5\u212f      + k  \u23a0\u22c5\u212f    0.5\u22c5\u239d\u212f  - 1.0\u23a0\u22c5\u212f  \u23a5\n",
        "\u2500\u2500\u2500\u2500\u2500\u2500\u2500\u2500\u2500\u2500\u2500\u2500\u2500\u2500\u2500\u2500\u2500\u2500\u2500, \u2500\u2500\u2500\u2500\u2500\u2500\u2500\u2500\u2500\u2500\u2500\u2500\u2500\u2500\u2500\u2500\u2500\u2500\u23a5\n",
        "                             k         \u23a5\n",
        "                                       \u23a6"
       ]
      }
     ],
     "prompt_number": 7
    },
    {
     "cell_type": "code",
     "collapsed": false,
     "input": [
      "dk = np.arange(0.01, 2.5, 0.01)\n",
      "\n",
      "C1, C2, C3 = [], [], []\n",
      "\n",
      "for i in np.arange(np.size(dk)):\n",
      "    C1.append(K[0].subs(k, dk[i]))\n",
      "    C2.append(K[1].subs(k, dk[i]))\n",
      "    C3.append(K[2].subs(k, dk[i]))\n",
      "    \n",
      "C1, C2, C3 = map(lambda x: np.asanyarray(x, np.complex_), (C1, C2, C3))"
     ],
     "language": "python",
     "metadata": {},
     "outputs": [],
     "prompt_number": 20
    },
    {
     "cell_type": "code",
     "collapsed": false,
     "input": [
      "print(\"NaNs in C1: %s\" % np.isnan(C1).all())\n",
      "print(\"NaNs in C2: %s\" % np.isnan(C2).all())\n",
      "print(\"NaNs in C3: %s\" % np.isnan(C3).all())"
     ],
     "language": "python",
     "metadata": {},
     "outputs": [
      {
       "output_type": "stream",
       "stream": "stdout",
       "text": [
        "NaNs in C1: False\n",
        "NaNs in C2: False\n",
        "NaNs in C3: False\n"
       ]
      }
     ],
     "prompt_number": 21
    },
    {
     "cell_type": "code",
     "collapsed": false,
     "input": [
      "print(\"Complex in C1: %s\" % np.iscomplex(C1).all())\n",
      "print(\"Complex in C2: %s\" % np.iscomplex(C2).all())\n",
      "print(\"Complex in C3: %s\" % np.iscomplex(C3).all())"
     ],
     "language": "python",
     "metadata": {},
     "outputs": [
      {
       "output_type": "stream",
       "stream": "stdout",
       "text": [
        "Complex in C1: True\n",
        "Complex in C2: True\n",
        "Complex in C3: False\n"
       ]
      }
     ],
     "prompt_number": 22
    },
    {
     "cell_type": "code",
     "collapsed": false,
     "input": [
      "C3 = C3.real  # No need to be imaginary."
     ],
     "language": "python",
     "metadata": {},
     "outputs": [],
     "prompt_number": 23
    },
    {
     "cell_type": "code",
     "collapsed": false,
     "input": [
      "fig, ax = plt.subplots()\n",
      "l1, = ax.plot(dk, C1.real, ':', label='C1')\n",
      "l2, = ax.plot(dk, C2.real, '--', label='C2')\n",
      "l3, = ax.plot(dk, C3, '-', label='C3')\n",
      "ax.legend()\n",
      "ax.margins(0)\n",
      "_ = layout.cross_spines(ax=ax)"
     ],
     "language": "python",
     "metadata": {},
     "outputs": [
      {
       "output_type": "display_data",
       "png": "[encoded data removed]",
       "text": [
        "Figure(480x320)"
       ]
      }
     ],
     "prompt_number": 29
    },
    {
     "cell_type": "code",
     "collapsed": false,
     "input": [
      "fig, ax = plt.subplots()\n",
      "l1, = ax.plot(dk, C1.imag, '-,', label='C1')\n",
      "l2, = ax.plot(dk, C2.imag, '--', label='C2')\n",
      "l3, = ax.plot(dk, C3, '-', label='C3')\n",
      "ax.legend()\n",
      "ax.margins(0)\n",
      "_ = layout.cross_spines(ax=ax)"
     ],
     "language": "python",
     "metadata": {},
     "outputs": [
      {
       "output_type": "display_data",
       "png": "[encoded data removed]",
       "text": [
        "Figure(480x320)"
       ]
      }
     ],
     "prompt_number": 25
    }
   ],
   "metadata": {}
  }
 ]
}