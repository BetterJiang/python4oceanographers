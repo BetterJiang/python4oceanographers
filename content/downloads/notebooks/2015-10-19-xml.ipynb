{
 "metadata": {
  "kernelspec": {
   "display_name": "Iris (Python 2)",
   "language": "python",
   "name": "iris_python2"
  },
  "language_info": {
   "codemirror_mode": {
    "name": "ipython",
    "version": 2
   },
   "file_extension": ".py",
   "mimetype": "text/x-python",
   "name": "python",
   "nbconvert_exporter": "python",
   "pygments_lexer": "ipython2",
   "version": "2.7.8"
  },
  "name": "",
  "signature": "sha256:160ceb3ee6c3cdfb1d48f465dc02fa6fe4f4dafb46ee57c91d594e5b942141e7"
 },
 "nbformat": 3,
 "nbformat_minor": 0,
 "worksheets": [
  {
   "cells": [
    {
     "cell_type": "code",
     "collapsed": false,
     "input": [
      "name = '2015-10-19-xml'\n",
      "title = \"xml is OK (if you don't have to write or read it)\""
     ],
     "language": "python",
     "metadata": {},
     "outputs": [],
     "prompt_number": 1
    },
    {
     "cell_type": "code",
     "collapsed": false,
     "input": [
      "%matplotlib inline\n",
      "\n",
      "import os\n",
      "from datetime import datetime\n",
      "from IPython.core.display import HTML\n",
      "\n",
      "with open('creative_commons.txt', 'r') as f:\n",
      "    html = f.read()\n",
      "\n",
      "\n",
      "hour = datetime.utcnow().strftime('%H:%M')\n",
      "comments=\"true\"\n",
      "\n",
      "\n",
      "date = '-'.join(name.split('-')[:3])\n",
      "slug = '-'.join(name.split('-')[3:])\n",
      "\n",
      "metadata = dict(title=title,\n",
      "                date=date,\n",
      "                hour=hour,\n",
      "                comments=comments,\n",
      "                slug=slug,\n",
      "                name=name)\n",
      "\n",
      "markdown = \"\"\"Title: {title}\n",
      "date:  {date} {hour}\n",
      "comments: {comments}\n",
      "slug: {slug}\n",
      "\n",
      "{{% notebook {name}.ipynb cells[2:] %}}\n",
      "\"\"\".format(**metadata)\n",
      "\n",
      "content = os.path.abspath(os.path.join(os.getcwd(),\n",
      "                                       os.pardir,\n",
      "                                       os.pardir, \n",
      "                                       '{}.md'.format(name)))\n",
      "with open('{}'.format(content), 'w') as f:\n",
      "    f.writelines(markdown)\n",
      "    \n",
      "html = '''\n",
      "<small>\n",
      "<p> This post was written as an IPython notebook.\n",
      " It is available for <a href='https://ocefpaf.github.com/python4oceanographers/downloads/notebooks/%s.ipynb'>download</a>\n",
      " or as a static <a href='https://nbviewer.ipython.org/url/ocefpaf.github.com/python4oceanographers/downloads/notebooks/%s.ipynb'>html</a>.</p>\n",
      "<p></p>\n",
      "%s''' % (name, name, html)"
     ],
     "language": "python",
     "metadata": {},
     "outputs": [],
     "prompt_number": 2
    },
    {
     "cell_type": "markdown",
     "metadata": {},
     "source": [
      "DISCLAIMER: most of the code below was stolen from the old,\n",
      "but still awesome and very useful [cfchecker](https://pypi.python.org/pypi/cfchecker/2.0.9).\n",
      "\n",
      "I am writing a library that needs to \"understand\" the CF-conventions standard names [table](http://cfconventions.org/Data/cf-standard-names/29/src/cf-standard-name-table.xml).  More specifically I need to know the variable `standard_name` and its corresponding `units`.\n",
      "The format of choice for the standard names table is the [Extensible Markup Language](https://en.wikipedia.org/wiki/XML) (XML).\n",
      "\n",
      "I don't like XML and avoid it as much as I can,\n",
      "but in a case like this there is no way around.  Or is there?\n",
      "\n",
      "This post is just a few notes for my future self on how to parse the CF standard names table using Python.\n",
      "\n",
      "Let's start with a boilerplate class to parse the table and construct a dictionary with the `standard_name`s as keys and `units` as values.\n",
      "\n",
      "(PS: I am sure there are better ways to do this.  So if you are a XML expert feel free to post a better way in the comments section.)"
     ]
    },
    {
     "cell_type": "code",
     "collapsed": false,
     "input": [
      "from xml.sax import ContentHandler\n",
      "\n",
      "def normalize_whitespace(text):\n",
      "    \"\"\"\n",
      "    Remove redundant whitespace from a string.\n",
      "    \n",
      "    \"\"\"\n",
      "    return ' '.join(text.split())\n",
      "\n",
      "\n",
      "class ConstructDict(ContentHandler):\n",
      "    \"\"\"\n",
      "    Parse the xml standard_name table, reading all entries\n",
      "    into a dictionary and storing the `standard_name` and the `units`.\n",
      "    \n",
      "    \"\"\"\n",
      "    def __init__(self):\n",
      "        self.inUnitsContent = 0\n",
      "        self.inEntryIdContent = 0\n",
      "        self.inVersionNoContent = 0\n",
      "        self.inLastModifiedContent = 0\n",
      "        self.dict = {}\n",
      "        \n",
      "    def startElement(self, name, attrs):\n",
      "        # If it's an entry element, save the id\n",
      "        if name == 'entry':\n",
      "            id = normalize_whitespace(attrs.get('id', \"\"))\n",
      "            self.this_id = id\n",
      "\n",
      "        # If it's the start of a canonical_units element\n",
      "        elif name == 'canonical_units':\n",
      "            self.inUnitsContent = 1\n",
      "            self.units = \"\"\n",
      "\n",
      "        elif name == 'alias':\n",
      "            id = normalize_whitespace(attrs.get('id', \"\"))\n",
      "            self.this_id = id\n",
      "\n",
      "        elif name == 'entry_id':\n",
      "            self.inEntryIdContent = 1\n",
      "            self.entry_id = \"\"\n",
      "\n",
      "        elif name == 'version_number':\n",
      "            self.inVersionNoContent = 1\n",
      "            self.version_number = \"\"\n",
      "\n",
      "        elif name == 'last_modified':\n",
      "            self.inLastModifiedContent = 1\n",
      "            self.last_modified = \"\"\n",
      "\n",
      "    def characters(self, ch):\n",
      "        if self.inUnitsContent:\n",
      "            self.units = self.units + ch\n",
      "\n",
      "        elif self.inEntryIdContent:\n",
      "            self.entry_id = self.entry_id + ch\n",
      "\n",
      "        elif self.inVersionNoContent:\n",
      "            self.version_number = self.version_number + ch\n",
      "\n",
      "        elif self.inLastModifiedContent:\n",
      "            self.last_modified = self.last_modified + ch\n",
      "\n",
      "    def endElement(self, name):\n",
      "        # If it's the end of the canonical_units element, save the units\n",
      "        if name == 'canonical_units':\n",
      "            self.inUnitsContent = 0\n",
      "            self.units = normalize_whitespace(self.units)\n",
      "            self.dict[self.this_id] = self.units\n",
      "            \n",
      "        # If it's the end of the entry_id element, find the units for the self.alias\n",
      "        elif name == 'entry_id':\n",
      "            self.inEntryIdContent = 0\n",
      "            self.entry_id = normalize_whitespace(self.entry_id)\n",
      "            self.dict[self.this_id] = self.dict[self.entry_id]\n",
      "\n",
      "        # If it's the end of the version_number element, save it\n",
      "        elif name == 'version_number':\n",
      "            self.inVersionNoContent = 0\n",
      "            self.version_number = normalize_whitespace(self.version_number)\n",
      "\n",
      "        # If it's the end of the last_modified element, save the last modified date\n",
      "        elif name == 'last_modified':\n",
      "            self.inLastModifiedContent = 0\n",
      "            self.last_modified = normalize_whitespace(self.last_modified)"
     ],
     "language": "python",
     "metadata": {},
     "outputs": [],
     "prompt_number": 3
    },
    {
     "cell_type": "markdown",
     "metadata": {},
     "source": [
      "In the cell below we initiate the parser and feed it with the a\n",
      "`ConstructDict` instance."
     ]
    },
    {
     "cell_type": "code",
     "collapsed": false,
     "input": [
      "from xml.sax import make_parser\n",
      "from xml.sax.handler import feature_namespaces\n",
      "\n",
      "parser = make_parser()\n",
      "parser.setFeature(feature_namespaces, 0)\n",
      "\n",
      "std_name_dict = ConstructDict()\n",
      "parser.setContentHandler(std_name_dict)\n",
      "\n",
      "standard_name = './data/cf-standard-name-table.xml'\n",
      "parser.parse(standard_name)"
     ],
     "language": "python",
     "metadata": {},
     "outputs": [],
     "prompt_number": 4
    },
    {
     "cell_type": "markdown",
     "metadata": {},
     "source": [
      "Now we can access the table as a python dictionary."
     ]
    },
    {
     "cell_type": "code",
     "collapsed": false,
     "input": [
      "std_name_dict.dict.get(\"sea_water_potential_temperature\")"
     ],
     "language": "python",
     "metadata": {},
     "outputs": [
      {
       "metadata": {},
       "output_type": "pyout",
       "prompt_number": 5,
       "text": [
        "u'K'"
       ]
      }
     ],
     "prompt_number": 5
    },
    {
     "cell_type": "code",
     "collapsed": false,
     "input": [
      "std_name_dict.dict.get(\"sea_water_salinity\")"
     ],
     "language": "python",
     "metadata": {},
     "outputs": [
      {
       "metadata": {},
       "output_type": "pyout",
       "prompt_number": 6,
       "text": [
        "u'1e-3'"
       ]
      }
     ],
     "prompt_number": 6
    },
    {
     "cell_type": "markdown",
     "metadata": {},
     "source": [
      "Cool we have a `{standard_name: units}` dictionary!"
     ]
    },
    {
     "cell_type": "markdown",
     "metadata": {},
     "source": [
      "I also need some way to parse and validate the CF `formula_terms`.\n",
      "To do that I need to steal a little bit more from `cfchecker`.\n",
      "\n",
      "In the cells below there are some snippets to,\n",
      "\n",
      "- identify a coordinate variable,\n",
      "- check for valid `formula_terms`,\n",
      "- and check is all `formula_terms` variables are presented."
     ]
    },
    {
     "cell_type": "code",
     "collapsed": false,
     "input": [
      "from netCDF4 import Dataset\n",
      "\n",
      "url = ('http://tds.marine.rutgers.edu/thredds/dodsC/roms/espresso/2013_da/avg/'\n",
      "       'ESPRESSO_Real-Time_v2_Averages_Best')\n",
      "\n",
      "nc = Dataset(url)"
     ],
     "language": "python",
     "metadata": {},
     "outputs": [],
     "prompt_number": 7
    },
    {
     "cell_type": "code",
     "collapsed": false,
     "input": [
      "formula_terms = lambda v: v is not None\n",
      "\n",
      "var = nc.get_variables_by_attributes(formula_terms=formula_terms)[0]\n",
      "\n",
      "formula_terms = var.formula_terms\n",
      "formula_terms"
     ],
     "language": "python",
     "metadata": {},
     "outputs": [
      {
       "metadata": {},
       "output_type": "pyout",
       "prompt_number": 8,
       "text": [
        "u's: s_rho C: Cs_r eta: zeta depth: h depth_c: hc'"
       ]
      }
     ],
     "prompt_number": 8
    },
    {
     "cell_type": "code",
     "collapsed": false,
     "input": [
      "if nc.dimensions.get(var.name):\n",
      "    print(\"Hurray I am a coordinate variable!\")"
     ],
     "language": "python",
     "metadata": {},
     "outputs": [
      {
       "output_type": "stream",
       "stream": "stdout",
       "text": [
        "Hurray I am a coordinate variable!\n"
       ]
      }
     ],
     "prompt_number": 9
    },
    {
     "cell_type": "code",
     "collapsed": false,
     "input": [
      "import re\n",
      "\n",
      "if re.search(\"^([a-zA-Z0-9_]+: +[a-zA-Z0-9_]+( +)?)*$\", formula_terms):\n",
      "    print(\"And I have a valid `formula_terms`!\")"
     ],
     "language": "python",
     "metadata": {},
     "outputs": [
      {
       "output_type": "stream",
       "stream": "stdout",
       "text": [
        "And I have a valid `formula_terms`!\n"
       ]
      }
     ],
     "prompt_number": 10
    },
    {
     "cell_type": "code",
     "collapsed": false,
     "input": [
      "for x in formula_terms.split():\n",
      "    if not re.search(\"^[a-zA-Z0-9_]+:$\", x):\n",
      "        if x in nc.variables.keys():\n",
      "            print(\"{} is present in the file!\".format(x))"
     ],
     "language": "python",
     "metadata": {},
     "outputs": [
      {
       "output_type": "stream",
       "stream": "stdout",
       "text": [
        "s_rho is present in the file!\n",
        "Cs_r is present in the file!\n",
        "zeta is present in the file!\n",
        "h is present in the file!\n",
        "hc is present in the file!\n"
       ]
      }
     ],
     "prompt_number": 11
    },
    {
     "cell_type": "markdown",
     "metadata": {
      "collapsed": false
     },
     "source": [
      "Now I have all the pieces I need to build a CF-convention `formula_terms` parser.\n",
      "\n",
      "With that information I can improve [odvc](https://github.com/ioos/odvc) to automatically find which formula should be used and correctly determine the derived `z` variable units. All while avoiding dealing with this:"
     ]
    },
    {
     "cell_type": "code",
     "collapsed": false,
     "input": [
      "!head -20 ./data/cf-standard-name-table.xml"
     ],
     "language": "python",
     "metadata": {},
     "outputs": [
      {
       "output_type": "stream",
       "stream": "stdout",
       "text": [
        "<?xml version=\"1.0\"?>\r\n",
        "<standard_name_table xmlns:xsi=\"http://www.w3.org/2001/XMLSchema-instance\" xsi:noNamespaceSchemaLocation=\"cf-standard-name-table-1.1.xsd\">\r\n",
        "   <version_number>27</version_number>\r\n",
        "   <last_modified>2013-11-28T05:25:32Z</last_modified>\r\n",
        "   <institution>Program for Climate Model Diagnosis and Intercomparison</institution>\r\n",
        "   <contact>webmaster@pcmdi.llnl.gov</contact>\r\n",
        "\r\n",
        "  \r\n",
        "   <entry id=\"age_of_sea_ice\">\r\n",
        "      <canonical_units>year</canonical_units>\r\n",
        "      <grib></grib>\r\n",
        "      <amip></amip>\r\n",
        "      <description>&quot;Age of sea ice&quot; means the length of time elapsed since the ice formed.</description>\r\n",
        "   </entry>\r\n",
        "  \r\n",
        "   <entry id=\"age_of_stratospheric_air\">\r\n",
        "      <canonical_units>s</canonical_units>\r\n",
        "      <grib></grib>\r\n",
        "      <amip></amip>\r\n",
        "      <description>&quot;Age of stratospheric air&quot; means an estimate of the time since a parcel of stratospheric air was last in contact with the troposphere.</description>\r\n"
       ]
      }
     ],
     "prompt_number": 12
    },
    {
     "cell_type": "code",
     "collapsed": false,
     "input": [
      "HTML(html)"
     ],
     "language": "python",
     "metadata": {},
     "outputs": [
      {
       "html": [
        "\n",
        "<small>\n",
        "<p> This post was written as an IPython notebook.\n",
        " It is available for <a href='https://ocefpaf.github.com/python4oceanographers/downloads/notebooks/2015-10-19-xml.ipynb'>download</a>\n",
        " or as a static <a href='https://nbviewer.ipython.org/url/ocefpaf.github.com/python4oceanographers/downloads/notebooks/2015-10-19-xml.ipynb'>html</a>.</p>\n",
        "<p></p>\n",
        "<a rel=\"license\" href=\"https://creativecommons.org/licenses/by-sa/4.0/\"><img\n",
        "alt=\"Creative Commons License\" style=\"border-width:0\"\n",
        "src=\"https://i.creativecommons.org/l/by-sa/4.0/88x31.png\" /></a><br /><span\n",
        "xmlns:dct=\"https://purl.org/dc/terms/\"\n",
        "property=\"dct:title\">python4oceanographers</span> by <a\n",
        "xmlns:cc=\"https://creativecommons.org/ns#\" href=\"https://ocefpaf.github.io/\"\n",
        "property=\"cc:attributionName\" rel=\"cc:attributionURL\">Filipe Fernandes</a> is\n",
        "licensed under a <a rel=\"license\"\n",
        "href=\"https://creativecommons.org/licenses/by-sa/4.0/\">Creative Commons\n",
        "Attribution-ShareAlike 4.0 International License</a>.<br />Based on a work at <a\n",
        "xmlns:dct=\"https://purl.org/dc/terms/\" href=\"https://ocefpaf.github.io/\"\n",
        "rel=\"dct:source\">https://ocefpaf.github.io/</a>.\n"
       ],
       "metadata": {},
       "output_type": "pyout",
       "prompt_number": 13,
       "text": [
        "<IPython.core.display.HTML at 0x7fd3a84bb250>"
       ]
      }
     ],
     "prompt_number": 13
    }
   ],
   "metadata": {}
  }
 ]
}