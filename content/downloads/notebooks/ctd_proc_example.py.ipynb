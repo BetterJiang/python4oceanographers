{
 "metadata": {
  "name": ""
 },
 "nbformat": 3,
 "nbformat_minor": 0,
 "worksheets": [
  {
   "cells": [
    {
     "cell_type": "code",
     "collapsed": false,
     "input": [
      "import re\n",
      "import os\n",
      "\n",
      "from glob import glob\n",
      "from collections import OrderedDict\n",
      "\n",
      "import gsw\n",
      "import numpy as np\n",
      "import matplotlib.pyplot as plt\n",
      "\n",
      "from pandas import Panel\n",
      "from matplotlib.patches import Polygon\n",
      "from mpl_toolkits.basemap import Basemap\n",
      "from mpl_toolkits.axes_grid1.inset_locator import inset_axes\n",
      "\n",
      "from oceans.datasets import etopo_subset\n",
      "from oceans.seawater import gamma_GP_from_SP_pt\n",
      "\n",
      "from ctd import DataFrame, Series, lp_filter, plot_section, movingaverage"
     ],
     "language": "python",
     "metadata": {},
     "outputs": [],
     "prompt_number": 1
    },
    {
     "cell_type": "code",
     "collapsed": false,
     "input": [
      "def alphanum_key(s):\n",
      "    key = re.split(r\"(\\d+)\", s)\n",
      "    key[1::2] = map(int, key[1::2])\n",
      "    return key"
     ],
     "language": "python",
     "metadata": {},
     "outputs": [],
     "prompt_number": 2
    },
    {
     "cell_type": "code",
     "collapsed": false,
     "input": [
      "def derive(cast):\n",
      "    p = cast.index.values.astype(float)\n",
      "    cast['SP'] = gsw.SP_from_C(cast['c0S/m'] * 10., cast['t090C'], p)\n",
      "    #cast['SA'] = gsw.SA_from_SP(cast['SP'], p, cast.lon, cast.lat)\n",
      "    cast['SA'] = gsw.SR_from_SP(cast['SP'])\n",
      "    cast['CT'] = gsw.CT_from_t(cast['SA'], cast['t090C'], p)\n",
      "    cast['z'] = -gsw.z_from_p(p, cast.lat)\n",
      "    cast['GP'] = gamma_GP_from_SP_pt(cast['SA'], cast['CT'], p, cast.lon,\n",
      "                                     cast.lat)\n",
      "    return cast\n",
      "\n",
      "def proc_ctd(fname, compression='gzip', below_water=True):\n",
      "    # 00-Split, clean 'bad pump' data, and apply flag.\n",
      "    cast = DataFrame.from_cnv(fname, compression=compression,\n",
      "                              below_water=below_water).split()[0]\n",
      "    cast = cast[cast['pumps']]\n",
      "    cast = cast[~cast['flag']]  # True for bad values.\n",
      "    name = os.path.basename(fname).split('.')[0]\n",
      "\n",
      "    # Removed unwanted columns.\n",
      "    keep = set(['altM', 'c0S/m', 'dz/dtM', 'wetCDOM', 'latitude',\n",
      "                'longitude', 'sbeox0Mm/Kg', 'sbeox1Mm/Kg', 'oxsolMm/Kg',\n",
      "                'oxsatMm/Kg', 'par', 'pla', 'sva', 't090C', 't190C', 'tsa',\n",
      "                'sbeox0V'])\n",
      "\n",
      "    null = map(cast.pop, keep.symmetric_difference(cast.columns))\n",
      "    del null\n",
      "\n",
      "    # Smooth velocity with a 2 seconds windows.\n",
      "    cast['dz/dtM'] = movingaverage(cast['dz/dtM'], window_size=48)\n",
      "\n",
      "    # 01-Filter pressure.\n",
      "    kw = dict(sample_rate=24.0, time_constant=0.15)\n",
      "    cast.index = lp_filter(cast.index, **kw)\n",
      "\n",
      "    # 02-Remove pressure reversals.\n",
      "    cast = cast.press_check()\n",
      "    cast = cast.dropna()\n",
      "\n",
      "    # 03-Loop Edit.\n",
      "    cast = cast[cast['dz/dtM'] >= 0.25]  # Threshold velocity.\n",
      "\n",
      "    # 04-Remove spikes.\n",
      "    kw = dict(n1=2, n2=20, block=100)\n",
      "    cast = cast.apply(Series.despike, **kw)\n",
      "\n",
      "    # 05-Bin-average.\n",
      "    cast = cast.apply(Series.bindata, **dict(delta=1.))\n",
      "\n",
      "    # 06-interpolate.\n",
      "    cast = cast.apply(Series.interpolate)\n",
      "\n",
      "    if True:  # 07-Smooth.\n",
      "        pmax = max(cast.index)\n",
      "        if pmax >= 500.:\n",
      "            window_len = 21\n",
      "        elif pmax >= 100.:\n",
      "            window_len = 11\n",
      "        else:\n",
      "            window_len = 5\n",
      "        kw = dict(window_len=window_len, window='hanning')\n",
      "        cast = cast.apply(Series.smooth, **kw)\n",
      "\n",
      "    # 08-Derive.\n",
      "    cast.lat = cast['latitude'].mean()\n",
      "    cast.lon = cast['longitude'].mean()\n",
      "    cast = derive(cast)\n",
      "    cast.name = name\n",
      "    return cast"
     ],
     "language": "python",
     "metadata": {},
     "outputs": [],
     "prompt_number": 3
    },
    {
     "cell_type": "code",
     "collapsed": false,
     "input": [
      "def map_limits(m):\n",
      "    llcrnrlon = min(m.boundarylons)\n",
      "    urcrnrlon = max(m.boundarylons)\n",
      "    llcrnrlat = min(m.boundarylats)\n",
      "    urcrnrlat = max(m.boundarylats)\n",
      "    return llcrnrlon, urcrnrlon, llcrnrlat, urcrnrlat\n",
      "\n",
      "def make_map(llcrnrlon=-91.1, urcrnrlon=-87.5, llcrnrlat=27.5, urcrnrlat=29.5,\n",
      "             projection='merc', resolution='i', figsize=(6, 6), inset=True):\n",
      "    m = Basemap(llcrnrlon=llcrnrlon, urcrnrlon=urcrnrlon,\n",
      "                llcrnrlat=llcrnrlat, urcrnrlat=urcrnrlat,\n",
      "                projection=projection, resolution=resolution)\n",
      "    fig, ax = plt.subplots(figsize=figsize)\n",
      "    m.drawstates()\n",
      "    m.drawcoastlines()\n",
      "    m.fillcontinents(color='0.85')\n",
      "    meridians = np.arange(llcrnrlon, urcrnrlon + 2, 2)\n",
      "    parallels = np.arange(llcrnrlat, urcrnrlat + 1, 1)\n",
      "    m.drawparallels(parallels, linewidth=0, labels=[1, 0, 0, 0])\n",
      "    m.drawmeridians(meridians, linewidth=0, labels=[0, 0, 0, 1])\n",
      "    m.ax = ax\n",
      "\n",
      "    if inset:\n",
      "        axin = inset_axes(m.ax, width=\"40%\", height=\"40%\", loc=4)\n",
      "        # Global inset map.\n",
      "        inmap = Basemap(lon_0=np.mean(m.boundarylons),\n",
      "                        lat_0=np.mean(m.boundarylats),\n",
      "                        projection='ortho', ax=axin, anchor='NE')\n",
      "        inmap.drawcountries(color='white')\n",
      "        inmap.fillcontinents(color='gray')\n",
      "        bx, by = inmap(m.boundarylons, m.boundarylats)\n",
      "        xy = list(zip(bx, by))\n",
      "        mapboundary = Polygon(xy, edgecolor='k', linewidth=1, fill=False)\n",
      "        inmap.ax.add_patch(mapboundary)\n",
      "    return fig, m"
     ],
     "language": "python",
     "metadata": {},
     "outputs": [],
     "prompt_number": 4
    },
    {
     "cell_type": "code",
     "collapsed": false,
     "input": [
      "path = '/home/filipe/Dropbox/pymodules/python-ctd/test/data/CTD'"
     ],
     "language": "python",
     "metadata": {},
     "outputs": [],
     "prompt_number": 5
    },
    {
     "cell_type": "code",
     "collapsed": false,
     "input": [
      "lon, lat = [], []\n",
      "pattern = '%s/*c.cnv.gz' % path\n",
      "fnames = sorted(glob(pattern), key=alphanum_key)\n",
      "section = OrderedDict()\n",
      "\n",
      "for fname in fnames:\n",
      "    cast = proc_ctd(fname)\n",
      "    name = os.path.basename(fname).split('.')[0]\n",
      "    section.update({name: cast})\n",
      "    lon.append(cast.longitude.mean())\n",
      "    lat.append(cast.latitude.mean())\n",
      "\n",
      "# Section.\n",
      "section = Panel.fromDict(section)"
     ],
     "language": "python",
     "metadata": {},
     "outputs": [
      {
       "output_type": "stream",
       "stream": "stderr",
       "text": [
        "/home/filipe/bin/ctd/ctd.py:186: UserWarning: Could not convert sbeox1Mm/Kg to float.\n",
        "  warnings.warn('Could not convert %s to float.' % column)\n"
       ]
      }
     ],
     "prompt_number": 6
    },
    {
     "cell_type": "code",
     "collapsed": false,
     "input": [
      "# Stations map.\n",
      "fig, m = make_map(figsize=(9, 8))\n",
      "x, y, topo = etopo_subset(*map_limits(m), smoo=True, tfile='dap')\n",
      "topo = np.where(topo > -1., 1.e10, topo)\n",
      "topo = np.ma.masked_values(topo, 1.e10)\n",
      "cs = m.contour(x, y, -topo, (100, 200, 500, 1000), colors='k',\n",
      "                latlon=True, alpha=0.5)\n",
      "m.ax.clabel(cs, fmt='%1.0f m', fontsize=8, inline=1)\n",
      "m.plot(lon, lat, 'k.', latlon=True)\n",
      "\n",
      "fig, ax = plt.subplots()\n",
      "for x, y, name in zip(lon, lat, fnames):\n",
      "    name = os.path.basename(name).split('.')[0]\n",
      "    ax.plot(x, y, 'k.', alpha=0.2)\n",
      "    ax.text(x, y, name, fontsize=8)"
     ],
     "language": "python",
     "metadata": {},
     "outputs": []
    },
    {
     "cell_type": "code",
     "collapsed": false,
     "input": [
      "# Plot consevative temperature section.\n",
      "CT = section.minor_xs('CT')\n",
      "CT.lon, CT.lat = lon, lat\n",
      "fig, ax, cb = plot_section(CT, reverse=True)\n",
      "fig.set_size_inches((12, 6))"
     ],
     "language": "python",
     "metadata": {},
     "outputs": [
      {
       "metadata": {},
       "output_type": "display_data",
       "png": "[encoded data removed]",
       "text": [
        "<matplotlib.figure.Figure at 0x4dc2fd0>"
       ]
      }
     ],
     "prompt_number": 7
    }
   ],
   "metadata": {}
  }
 ]
}