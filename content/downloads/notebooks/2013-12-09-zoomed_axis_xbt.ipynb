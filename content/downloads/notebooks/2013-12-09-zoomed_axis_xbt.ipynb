{
 "metadata": {
  "name": "",
  "signature": "sha256:c222d2af1096577f72265e4bdcbbe443450f0e86f48a95b15c19fe8733aa9e17"
 },
 "nbformat": 3,
 "nbformat_minor": 0,
 "worksheets": [
  {
   "cells": [
    {
     "cell_type": "code",
     "collapsed": false,
     "input": [
      "from IPython.core.display import HTML\n",
      "\n",
      "with open('creative_commons.txt', 'r') as f:\n",
      "    html = f.read()\n",
      "    \n",
      "with open('./styles/custom.css', 'r') as f:\n",
      "    styles = f.read()\n",
      "    \n",
      "HTML(styles)\n",
      "\n",
      "name = '2013-12-09-zoomed_axis_xbt'\n",
      "\n",
      "html = \"\"\"\n",
      "<small>\n",
      "<p> This post was written as an IPython notebook.  It is available for\n",
      "<a href=\"http://ocefpaf.github.com/python4oceanographers/downloads/\n",
      "notebooks/%s.ipynb\">download</a> or as a static\n",
      "<a href=\"http://nbviewer.ipython.org/url/ocefpaf.github.com/\n",
      "python4oceanographers/downloads/notebooks/%s.ipynb\">html</a>.</p>\n",
      "<p></p>\n",
      "%s \"\"\" % (name, name, html)\n",
      "\n",
      "set_matplotlib_formats('png')\n",
      "seaborn.set_style(\"whitegrid\")"
     ],
     "language": "python",
     "metadata": {},
     "outputs": [],
     "prompt_number": 1
    },
    {
     "cell_type": "markdown",
     "metadata": {},
     "source": [
      "This post is just a very simple example on how to use matplotlib's\n",
      "`zoomed_inset_axes`.  It is an easy shortcut to create very sophisticated plots.\n",
      "\n",
      "We need to `import` `mark_inset`, to show lines marking where we are zooming,\n",
      "and `zoomed_inset_axes` to create the actual zoomed axes."
     ]
    },
    {
     "cell_type": "code",
     "collapsed": false,
     "input": [
      "import numpy as np\n",
      "import matplotlib.pyplot as plt\n",
      "\n",
      "from matplotlib.ticker import MaxNLocator\n",
      "from mpl_toolkits.axes_grid1.inset_locator import mark_inset\n",
      "from mpl_toolkits.axes_grid1.inset_locator import zoomed_inset_axes"
     ],
     "language": "python",
     "metadata": {},
     "outputs": [],
     "prompt_number": 2
    },
    {
     "cell_type": "markdown",
     "metadata": {},
     "source": [
      "To demonstrate this feature we will load three different versions of the same\n",
      "data.  A raw XBT, a smoothed version of the ame XBT, data and the accompanying\n",
      "CTD data.  All these three temperature profiles have, of course, some\n",
      "differences and similarities that are worth taking a look to understand the:\n",
      "\n",
      "1. nature of the smoothing pre-processing;\n",
      "2. different devices used in the profiles."
     ]
    },
    {
     "cell_type": "code",
     "collapsed": false,
     "input": [
      "dtype = [('temp', 'f4'), ('depth', 'f4')]\n",
      "kw = dict(usecols=(0, 1), dtype=dtype)\n",
      "xbt_raw = np.genfromtxt(\"./data/C4_XBT_22.EDF\", skiprows=41, **kw)\n",
      "xbt_smoo = np.loadtxt('./data/C4_XBT_22.ASC', **kw)\n",
      "ctd = np.loadtxt(\"./data/C4_CTD_22.ASC\", **kw)"
     ],
     "language": "python",
     "metadata": {},
     "outputs": [],
     "prompt_number": 3
    },
    {
     "cell_type": "markdown",
     "metadata": {},
     "source": [
      "This block defines some handy `kw` `dicts` that we will use in all three plots."
     ]
    },
    {
     "cell_type": "code",
     "collapsed": false,
     "input": [
      "deg = u\"\\u00b0\"\n",
      "raw = dict(color='#FF8000', marker='.', linestyle='none', alpha=0.5, label='XBT Raw')\n",
      "smoo = dict(color='#2E2E2E', linestyle='-.', label='XBT Smooth')\n",
      "comp = dict(color='#0B610B', label='CTD')"
     ],
     "language": "python",
     "metadata": {},
     "outputs": [],
     "prompt_number": 4
    },
    {
     "cell_type": "markdown",
     "metadata": {},
     "source": [
      "The next block creates the main plot and the two zoomed levels.  The two zooms are created in a\n",
      "different manner to demonstrate two different techniques.  For the first one we use the\n",
      "automatic locator keyword `loc=`. And for the second one, since we placed it\n",
      "outside of the main plot, we specified the `x`, `y` coordinates in `Figure`\n",
      "units."
     ]
    },
    {
     "cell_type": "code",
     "collapsed": false,
     "input": [
      "fig, ax = plt.subplots(figsize=(4, 6))\n",
      "ax.invert_yaxis()\n",
      "ax.plot(ctd['depth'], ctd['temp'], **comp)\n",
      "ax.plot(xbt_raw['depth'], xbt_raw['temp'], **raw)\n",
      "ax.plot(xbt_smoo['depth'], xbt_smoo['temp'], **smoo)\n",
      "ax.set_ylabel('Pressure [dbar]')\n",
      "ax.set_xlabel(u'Temperature %sC' % deg)\n",
      "ax.legend(numpoints=1, loc='upper left')\n",
      "\n",
      "# Zoom 1.\n",
      "axins = zoomed_inset_axes(ax, 5, loc=5)\n",
      "axins.plot(ctd['depth'], ctd['temp'], **comp)\n",
      "axins.plot(xbt_raw['depth'], xbt_raw['temp'], **raw)\n",
      "axins.plot(xbt_smoo['depth'], xbt_smoo['temp'], **smoo)\n",
      "axins.invert_yaxis()\n",
      "axins.axis([3.5, 3.8, 1420, 1300])\n",
      "axins.xaxis.tick_top()\n",
      "mark_inset(ax, axins, loc1=2, loc2=4, fc=\"none\", ec=\"0.5\")\n",
      "axins.xaxis.set_major_locator(MaxNLocator(nbins=1, prune='lower'))\n",
      "\n",
      "# Zoom 2.\n",
      "axins_2 = zoomed_inset_axes(axins, 10,  loc=4,\n",
      "                     bbox_to_anchor=(1.2, 0.75),\n",
      "                     bbox_transform=ax.figure.transFigure)\n",
      "\n",
      "axins_2.plot(ctd['depth'], ctd['temp'], **comp)\n",
      "axins_2.plot(xbt_raw['depth'], xbt_raw['temp'], **raw)\n",
      "axins_2.plot(xbt_smoo['depth'], xbt_smoo['temp'], **smoo)\n",
      "axins_2.axis([3.6, 3.75, 1360, 1340])\n",
      "axins_2.invert_yaxis()\n",
      "axins_2.set_yticks([])\n",
      "axins_2.set_xticks([])\n",
      "axins_2.set_axis_bgcolor('none')\n",
      "axes = mark_inset(axins, axins_2, loc1=2, loc2=4, fc=\"none\", ec=\"0.5\")"
     ],
     "language": "python",
     "metadata": {},
     "outputs": [
      {
       "metadata": {},
       "output_type": "display_data",
       "png": "[encoded data removed]",
       "text": [
        "<matplotlib.figure.Figure at 0x7f97f507a150>"
       ]
      }
     ],
     "prompt_number": 5
    },
    {
     "cell_type": "markdown",
     "metadata": {},
     "source": [
      "That's it!  We can note that the raw XBT data is a little \"off\" when\n",
      "compared with the CTD.  That difference seemed to be corrected by the smoothing\n",
      "at some points but not in others.\n",
      "\n",
      "This plot was created to show my students the need to correct the\n",
      "XBT's depth velocity, and the dangers of smoothing the data before a proper\n",
      "pre-processing.  \n",
      "\n",
      "A future version of this plot, using the [Bokeh](http://bokeh.pydata.org/) package,\n",
      "might show up here in the blog.  That way we will be able to use the interactive\n",
      "pan/zoom to explore more those details I'm talking about.\n",
      "\n",
      "If we correct the\n",
      "[XBT descent velocity properly](http://dx.doi.org/10.1175/2009JTECHO711.1)\n",
      "the raw data will be closer to the CTD data, and very little to no smoothing would\n",
      "be needed.\n",
      "\n",
      "More regarding this pre-processing in future posts ;)"
     ]
    },
    {
     "cell_type": "code",
     "collapsed": false,
     "input": [
      "HTML(html)"
     ],
     "language": "python",
     "metadata": {},
     "outputs": [
      {
       "html": [
        "\n",
        "<small>\n",
        "<p> This post was written as an IPython notebook.  It is available for\n",
        "<a href=\"http://ocefpaf.github.com/python4oceanographers/downloads/\n",
        "notebooks/2013-12-09-zoomed_axis_xbt.ipynb\">download</a> or as a static\n",
        "<a href=\"http://nbviewer.ipython.org/url/ocefpaf.github.com/\n",
        "python4oceanographers/downloads/notebooks/2013-12-09-zoomed_axis_xbt.ipynb\">html</a>.</p>\n",
        "<p></p>\n",
        "<a rel=\"license\" href=\"http://creativecommons.org/licenses/by-sa/4.0/\"><img\n",
        "alt=\"Creative Commons License\" style=\"border-width:0\"\n",
        "src=\"http://i.creativecommons.org/l/by-sa/4.0/88x31.png\" /></a><br /><span\n",
        "xmlns:dct=\"http://purl.org/dc/terms/\"\n",
        "property=\"dct:title\">python4oceanographers</span> by <a\n",
        "xmlns:cc=\"http://creativecommons.org/ns#\" href=\"http://ocefpaf.github.io/\"\n",
        "property=\"cc:attributionName\" rel=\"cc:attributionURL\">Filipe Fernandes</a> is\n",
        "licensed under a <a rel=\"license\"\n",
        "href=\"http://creativecommons.org/licenses/by-sa/4.0/\">Creative Commons\n",
        "Attribution-ShareAlike 4.0 International License</a>.<br />Based on a work at <a\n",
        "xmlns:dct=\"http://purl.org/dc/terms/\" href=\"http://ocefpaf.github.io/\"\n",
        "rel=\"dct:source\">http://ocefpaf.github.io/</a>.\n",
        " "
       ],
       "metadata": {},
       "output_type": "pyout",
       "prompt_number": 6,
       "text": [
        "<IPython.core.display.HTML object>"
       ]
      }
     ],
     "prompt_number": 6
    }
   ],
   "metadata": {}
  }
 ]
}