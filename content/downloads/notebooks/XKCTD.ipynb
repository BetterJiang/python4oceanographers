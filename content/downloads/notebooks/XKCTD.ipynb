{
 "metadata": {
  "name": ""
 },
 "nbformat": 3,
 "nbformat_minor": 0,
 "worksheets": [
  {
   "cells": [
    {
     "cell_type": "code",
     "collapsed": false,
     "input": [
      "import gsw\n",
      "import numpy as np\n",
      "from oceans.seawater.sw_extras import o2sat\n",
      "from oceans.seawater import gamma_GP_from_SP_pt\n",
      "from oceans.ctd import DataFrame, Series, movingaverage, rosette_summary, seabird_filter"
     ],
     "language": "python",
     "metadata": {},
     "outputs": [],
     "prompt_number": 2
    },
    {
     "cell_type": "code",
     "collapsed": false,
     "input": [
      "import matplotlib.pyplot as plt\n",
      "plt.xkcd()  #<- That's it!"
     ],
     "language": "python",
     "metadata": {},
     "outputs": [
      {
       "metadata": {},
       "output_type": "pyout",
       "prompt_number": 3,
       "text": [
        "<matplotlib.rc_context at 0x4550750>"
       ]
      }
     ],
     "prompt_number": 3
    },
    {
     "cell_type": "code",
     "collapsed": false,
     "input": [
      "cast = DataFrame.from_cnv('./data/CTD_001.cnv.gz', compression='gzip')"
     ],
     "language": "python",
     "metadata": {},
     "outputs": [],
     "prompt_number": 4
    },
    {
     "cell_type": "code",
     "collapsed": false,
     "input": [
      "# Read metadata.\n",
      "hours = cast['times'].max() / 60. / 60.\n",
      "lon, lat = cast.longitude.mean(), cast.latitude.mean()\n",
      "\n",
      "# Apply 'bad pump' and 'flag'.\n",
      "cast = cast[cast['pumps']]  # True for good values.\n",
      "cast = cast[~cast['flag']]  # True for bad values blame SBE!\n",
      "\n",
      "print(\"Cast duration was: %2.2f hours.\" % hours)\n",
      "cast[['t090c', 't190c', 'c0s/m', 'c1s/m']].describe()  # Statistics for sensors pairs 0, 1."
     ],
     "language": "python",
     "metadata": {},
     "outputs": [
      {
       "output_type": "stream",
       "stream": "stdout",
       "text": [
        "Cast duration was: 3.91 hours.\n"
       ]
      },
      {
       "html": [
        "<div style=\"max-height:1000px;max-width:1500px;overflow:auto;\">\n",
        "<table border=\"1\" class=\"dataframe\">\n",
        "  <thead>\n",
        "    <tr style=\"text-align: right;\">\n",
        "      <th></th>\n",
        "      <th>t090c</th>\n",
        "      <th>t190c</th>\n",
        "      <th>c0s/m</th>\n",
        "      <th>c1s/m</th>\n",
        "    </tr>\n",
        "  </thead>\n",
        "  <tbody>\n",
        "    <tr>\n",
        "      <th>count</th>\n",
        "      <td> 337916.000000</td>\n",
        "      <td> 337916.000000</td>\n",
        "      <td> 337916.000000</td>\n",
        "      <td> 3.379160e+05</td>\n",
        "    </tr>\n",
        "    <tr>\n",
        "      <th>mean</th>\n",
        "      <td>      4.665746</td>\n",
        "      <td>      4.661965</td>\n",
        "      <td>      3.417277</td>\n",
        "      <td> 3.416835e+00</td>\n",
        "    </tr>\n",
        "    <tr>\n",
        "      <th>std</th>\n",
        "      <td>      5.100514</td>\n",
        "      <td>      5.099301</td>\n",
        "      <td>      0.516788</td>\n",
        "      <td> 5.165796e-01</td>\n",
        "    </tr>\n",
        "    <tr>\n",
        "      <th>min</th>\n",
        "      <td>      0.925100</td>\n",
        "      <td>      0.921800</td>\n",
        "      <td>      3.119202</td>\n",
        "      <td>-9.990000e-29</td>\n",
        "    </tr>\n",
        "    <tr>\n",
        "      <th>25%</th>\n",
        "      <td>      2.569000</td>\n",
        "      <td>      2.565900</td>\n",
        "      <td>      3.228872</td>\n",
        "      <td> 3.228444e+00</td>\n",
        "    </tr>\n",
        "    <tr>\n",
        "      <th>50%</th>\n",
        "      <td>      3.234400</td>\n",
        "      <td>      3.231500</td>\n",
        "      <td>      3.262658</td>\n",
        "      <td> 3.262342e+00</td>\n",
        "    </tr>\n",
        "    <tr>\n",
        "      <th>75%</th>\n",
        "      <td>      3.875200</td>\n",
        "      <td>      3.871600</td>\n",
        "      <td>      3.300690</td>\n",
        "      <td> 3.300353e+00</td>\n",
        "    </tr>\n",
        "    <tr>\n",
        "      <th>max</th>\n",
        "      <td>     24.240500</td>\n",
        "      <td>     24.240200</td>\n",
        "      <td>      5.529971</td>\n",
        "      <td> 5.529486e+00</td>\n",
        "    </tr>\n",
        "  </tbody>\n",
        "</table>\n",
        "</div>"
       ],
       "metadata": {},
       "output_type": "pyout",
       "prompt_number": 5,
       "text": [
        "               t090c          t190c          c0s/m         c1s/m\n",
        "count  337916.000000  337916.000000  337916.000000  3.379160e+05\n",
        "mean        4.665746       4.661965       3.417277  3.416835e+00\n",
        "std         5.100514       5.099301       0.516788  5.165796e-01\n",
        "min         0.925100       0.921800       3.119202 -9.990000e-29\n",
        "25%         2.569000       2.565900       3.228872  3.228444e+00\n",
        "50%         3.234400       3.231500       3.262658  3.262342e+00\n",
        "75%         3.875200       3.871600       3.300690  3.300353e+00\n",
        "max        24.240500      24.240200       5.529971  5.529486e+00"
       ]
      }
     ],
     "prompt_number": 5
    },
    {
     "cell_type": "code",
     "collapsed": false,
     "input": [
      "keep = set(['t090c', 'c0s/m', 'sbeox0mm/kg', 'dz/dtm'])\n",
      "cast = cast.drop(keep.symmetric_difference(cast.columns), axis=1)  # Remove unwanted columns.\n",
      "\n",
      "# Smooth velocity and Oxygen with a 2 seconds window.\n",
      "cast['dz/dtm'] = movingaverage(cast['dz/dtm'], window_size=48)\n",
      "cast['sbeox0mm/kg'] = movingaverage(cast['sbeox0mm/kg'], window_size=48)"
     ],
     "language": "python",
     "metadata": {},
     "outputs": [],
     "prompt_number": 6
    },
    {
     "cell_type": "code",
     "collapsed": false,
     "input": [
      "# Filter pressure.\n",
      "kw = dict(sample_rate=24.0, time_constant=0.15)\n",
      "cast.index = seabird_filter(cast.index, **kw)"
     ],
     "language": "python",
     "metadata": {},
     "outputs": [],
     "prompt_number": 7
    },
    {
     "cell_type": "code",
     "collapsed": false,
     "input": [
      "# Split.\n",
      "downcast, upcast = cast.split()"
     ],
     "language": "python",
     "metadata": {},
     "outputs": [],
     "prompt_number": 8
    },
    {
     "cell_type": "code",
     "collapsed": false,
     "input": [
      "# Loop Edit.\n",
      "downcast = downcast.press_check()  # Remove pressure reversals.\n",
      "downcast = downcast[downcast['dz/dtm'] >= 0.25]  # Threshold velocity."
     ],
     "language": "python",
     "metadata": {},
     "outputs": [],
     "prompt_number": 9
    },
    {
     "cell_type": "code",
     "collapsed": false,
     "input": [
      "# Wild Edit.\n",
      "kw = dict(n1=2, n2=20, block=150)\n",
      "downcast = downcast.apply(Series.despike, **kw)"
     ],
     "language": "python",
     "metadata": {},
     "outputs": [],
     "prompt_number": 10
    },
    {
     "cell_type": "code",
     "collapsed": false,
     "input": [
      "# Bin-average.\n",
      "downcast = downcast.apply(Series.bindata, **dict(delta=1.))\n",
      "downcast = downcast.apply(Series.interpolate)"
     ],
     "language": "python",
     "metadata": {},
     "outputs": [],
     "prompt_number": 11
    },
    {
     "cell_type": "code",
     "collapsed": false,
     "input": [
      "# Smooth.\n",
      "pmax = max(cast.index)\n",
      "if pmax >= 500:\n",
      "    window_len = 21\n",
      "elif pmax >= 100:\n",
      "    window_len = 11\n",
      "else:\n",
      "    window_len = 5\n",
      "kw = dict(window_len=window_len, window='hanning')\n",
      "downcast = downcast.apply(Series.smooth, **kw)"
     ],
     "language": "python",
     "metadata": {},
     "outputs": [],
     "prompt_number": 12
    },
    {
     "cell_type": "code",
     "collapsed": false,
     "input": [
      "fig, ax = downcast['t090c'].plot()\n",
      "ax.set_title(\"XKCTD\")\n",
      "ax.set_xlabel(\"Temperature\")\n",
      "ax.set_ylabel(\"Pressure [dbar]\")\n",
      "fig.set_size_inches((6, 8))"
     ],
     "language": "python",
     "metadata": {},
     "outputs": [
      {
       "metadata": {},
       "output_type": "display_data",
       "png": "[encoded data removed]",
       "text": [
        "<matplotlib.figure.Figure at 0x455bb10>"
       ]
      }
     ],
     "prompt_number": 13
    }
   ],
   "metadata": {}
  }
 ]
}