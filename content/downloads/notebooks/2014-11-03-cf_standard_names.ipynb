{
 "metadata": {
  "kernelspec": {
   "codemirror_mode": {
    "name": "ipython",
    "version": 3
   },
   "display_name": "IPython (Python 3)",
   "language": "python",
   "name": "python3"
  },
  "name": "",
  "signature": "sha256:6b4b35fa4ece31397d82b378861484852ffe09fe24f4fa1301573812daa837f4"
 },
 "nbformat": 3,
 "nbformat_minor": 0,
 "worksheets": [
  {
   "cells": [
    {
     "cell_type": "code",
     "collapsed": true,
     "input": [
      "import os\n",
      "from IPython.core.display import HTML\n",
      "\n",
      "with open('creative_commons.txt', 'r') as f:\n",
      "    html = f.read()\n",
      "\n",
      "with open('./styles/custom.css', 'r') as f:\n",
      "    styles = f.read()\n",
      "\n",
      "HTML(styles)\n",
      "\n",
      "name = '2014-11-03-cf_standard_names'\n",
      "\n",
      "html = '''\n",
      "<small>\n",
      "<p> This post was written as an IPython notebook.\n",
      " It is available for <a href='http://ocefpaf.github.com/python4oceanographers/downloads/notebooks/%s.ipynb'>download</a>\n",
      " or as a static <a href='http://nbviewer.ipython.org/url/ocefpaf.github.com/python4oceanographers/downloads/notebooks/%s.ipynb'>html</a>.</p>\n",
      "<p></p>\n",
      "%s''' % (name, name, html)\n",
      "\n",
      "\n",
      "from datetime import datetime\n",
      "\n",
      "title = \"Finding CF-standard Names\"\n",
      "hour = datetime.utcnow().strftime('%H:%M')\n",
      "comments=\"true\"\n",
      "\n",
      "date = '-'.join(name.split('-')[:3])\n",
      "slug = '-'.join(name.split('-')[3:])\n",
      "\n",
      "metadata = dict(title=title,\n",
      "                date=date,\n",
      "                hour=hour,\n",
      "                comments=comments,\n",
      "                slug=slug,\n",
      "                name=name)\n",
      "\n",
      "markdown = '''Title: {title}\n",
      "date:  {date} {hour}\n",
      "comments: {comments}\n",
      "slug: {slug}\n",
      "\n",
      "{{% notebook {name}.ipynb cells[1:] %}}\n",
      "'''.format(**metadata)\n",
      "\n",
      "content = os.path.abspath(os.path.join(os.getcwd(), os.pardir, os.pardir, '{}.md'.format(name)))\n",
      "with open('{}'.format(content), 'w') as f:\n",
      "    f.writelines(markdown)"
     ],
     "language": "python",
     "metadata": {},
     "outputs": [],
     "prompt_number": 1
    },
    {
     "cell_type": "markdown",
     "metadata": {},
     "source": [
      "The [CF conventions](http://cfconventions.org/) uses standard names for any variable stored using the CF-rules.  I often find myself looking for possible\n",
      "names for a specific variable (e.g.: currents or temperature).  Sadly, the\n",
      "answer is not that  easy.  Take a look at the CF Standard Names\n",
      "[table](http://cfconventions.org/Data/cf-standard-names/27/build/cf-standard-name-table.html) and check confusion you get when searching for velocity.\n",
      "\n",
      "\n",
      "This post is a quick hack in the `xml` standard names table to quickly find\n",
      "the proper names.  Finding the names is useful when trying to query data that\n",
      "uses CF-rules."
     ]
    },
    {
     "cell_type": "code",
     "collapsed": false,
     "input": [
      "from xml.etree import ElementTree\n",
      "\n",
      "\n",
      "def remove_name(exclude, standard_name):\n",
      "    excluded = False\n",
      "    for e in exclude:\n",
      "        if e in standard_name:\n",
      "            excluded = True\n",
      "    return excluded\n",
      "\n",
      "\n",
      "def get_standard_names(hints, units, strict=False, exclude=[]):\n",
      "    \"\"\"If `hints` and `units` are True return `standard_name` in the list.\n",
      "    Searches for `hints` in the description+standard_name, searches and units\n",
      "    in the canonical_units field.\"\"\"\n",
      "\n",
      "    standard_names = []\n",
      "    tree = ElementTree.parse('./data/cf-standard-name-table.xml')\n",
      "    root = tree.getroot()\n",
      "    entries = root.findall('entry')\n",
      "    for entry in entries:\n",
      "        standard_name = entry.get('id')\n",
      "        canonical_units = entry.find('canonical_units').text\n",
      "        description = entry.find('description').text\n",
      "        if description:\n",
      "            description = '{} {}'.format(description.lower(), standard_name)\n",
      "        else:\n",
      "            description = '{}'.format(standard_name)\n",
      "        description = set(description.lower().strip().split())\n",
      "\n",
      "        if strict:\n",
      "            remove = remove_name(exclude, standard_name)\n",
      "            if (set(hints) < description and units == canonical_units and not remove):\n",
      "                standard_names.append(standard_name)\n",
      "        else:\n",
      "            for hint in hints:\n",
      "                remove = remove_name(exclude, standard_name)\n",
      "                if (hint in description and units == canonical_units and not remove):\n",
      "                    standard_names.append(standard_name)\n",
      "    return standard_names"
     ],
     "language": "python",
     "metadata": {},
     "outputs": [],
     "prompt_number": 2
    },
    {
     "cell_type": "code",
     "collapsed": false,
     "input": [
      "hints = ['temperature', 'sea']\n",
      "exclude = ['air']\n",
      "units = 'K'\n",
      "CF_names = get_standard_names(hints=hints, units=units, strict=True, exclude=exclude)\n",
      "\n",
      "print('\\n'.join(CF_names))"
     ],
     "language": "python",
     "metadata": {},
     "outputs": [
      {
       "output_type": "stream",
       "stream": "stdout",
       "text": [
        "change_over_time_in_sea_water_conservative_temperature\n",
        "change_over_time_in_sea_water_potential_temperature\n",
        "change_over_time_in_sea_water_temperature\n",
        "equivalent_potential_temperature\n",
        "pseudo_equivalent_potential_temperature\n",
        "sea_ice_surface_temperature\n",
        "sea_surface_foundation_temperature\n",
        "sea_surface_skin_temperature\n",
        "sea_surface_subskin_temperature\n",
        "sea_surface_temperature\n",
        "sea_water_conservative_temperature\n",
        "sea_water_potential_temperature\n",
        "sea_water_temperature\n",
        "temperature_of_sensor_for_oxygen_in_sea_water\n"
       ]
      }
     ],
     "prompt_number": 3
    },
    {
     "cell_type": "code",
     "collapsed": false,
     "input": [
      "hints = ['velocity']\n",
      "exclude = ['ice', 'land', 'wind', 'air']\n",
      "units = 'm s-1'\n",
      "CF_names = get_standard_names(hints=hints, units=units, exclude=exclude)\n",
      "\n",
      "print('\\n'.join(CF_names))"
     ],
     "language": "python",
     "metadata": {},
     "outputs": [
      {
       "output_type": "stream",
       "stream": "stdout",
       "text": [
        "baroclinic_eastward_sea_water_velocity\n",
        "baroclinic_northward_sea_water_velocity\n",
        "barotropic_eastward_sea_water_velocity\n",
        "barotropic_northward_sea_water_velocity\n",
        "barotropic_sea_water_x_velocity\n",
        "barotropic_sea_water_y_velocity\n",
        "bolus_eastward_sea_water_velocity\n",
        "bolus_northward_sea_water_velocity\n",
        "bolus_sea_water_x_velocity\n",
        "bolus_sea_water_y_velocity\n",
        "bolus_upward_sea_water_velocity\n",
        "eastward_sea_water_velocity\n",
        "eastward_sea_water_velocity_assuming_no_tide\n",
        "northward_sea_water_velocity\n",
        "northward_sea_water_velocity_assuming_no_tide\n",
        "product_of_eastward_sea_water_velocity_and_salinity\n",
        "product_of_northward_sea_water_velocity_and_salinity\n",
        "radial_sea_water_velocity_away_from_instrument\n",
        "radial_velocity_of_scatterers_away_from_instrument\n",
        "sea_water_x_velocity\n",
        "sea_water_y_velocity\n",
        "surface_eastward_sea_water_velocity\n",
        "surface_geostrophic_eastward_sea_water_velocity\n",
        "surface_geostrophic_eastward_sea_water_velocity_assuming_sea_level_for_geoid\n",
        "surface_geostrophic_northward_sea_water_velocity\n",
        "surface_geostrophic_northward_sea_water_velocity_assuming_sea_level_for_geoid\n",
        "surface_geostrophic_sea_water_x_velocity\n",
        "surface_geostrophic_sea_water_x_velocity_assuming_sea_level_for_geoid\n",
        "surface_geostrophic_sea_water_y_velocity\n",
        "surface_geostrophic_sea_water_y_velocity_assuming_sea_level_for_geoid\n",
        "surface_northward_sea_water_velocity\n",
        "upward_sea_water_velocity\n"
       ]
      }
     ],
     "prompt_number": 4
    },
    {
     "cell_type": "markdown",
     "metadata": {},
     "source": [
      "Simple and efficient!  (At least I like to think so ;-)"
     ]
    },
    {
     "cell_type": "code",
     "collapsed": false,
     "input": [
      "HTML(html)"
     ],
     "language": "python",
     "metadata": {},
     "outputs": [
      {
       "html": [
        "\n",
        "<small>\n",
        "<p> This post was written as an IPython notebook.\n",
        " It is available for <a href='http://ocefpaf.github.com/python4oceanographers/downloads/notebooks/2014-11-03-cf_standard_names.ipynb'>download</a>\n",
        " or as a static <a href='http://nbviewer.ipython.org/url/ocefpaf.github.com/python4oceanographers/downloads/notebooks/2014-11-03-cf_standard_names.ipynb'>html</a>.</p>\n",
        "<p></p>\n",
        "<a rel=\"license\" href=\"http://creativecommons.org/licenses/by-sa/4.0/\"><img\n",
        "alt=\"Creative Commons License\" style=\"border-width:0\"\n",
        "src=\"http://i.creativecommons.org/l/by-sa/4.0/88x31.png\" /></a><br /><span\n",
        "xmlns:dct=\"http://purl.org/dc/terms/\"\n",
        "property=\"dct:title\">python4oceanographers</span> by <a\n",
        "xmlns:cc=\"http://creativecommons.org/ns#\" href=\"http://ocefpaf.github.io/\"\n",
        "property=\"cc:attributionName\" rel=\"cc:attributionURL\">Filipe Fernandes</a> is\n",
        "licensed under a <a rel=\"license\"\n",
        "href=\"http://creativecommons.org/licenses/by-sa/4.0/\">Creative Commons\n",
        "Attribution-ShareAlike 4.0 International License</a>.<br />Based on a work at <a\n",
        "xmlns:dct=\"http://purl.org/dc/terms/\" href=\"http://ocefpaf.github.io/\"\n",
        "rel=\"dct:source\">http://ocefpaf.github.io/</a>.\n"
       ],
       "metadata": {},
       "output_type": "pyout",
       "prompt_number": 5,
       "text": [
        "<IPython.core.display.HTML object>"
       ]
      }
     ],
     "prompt_number": 5
    }
   ],
   "metadata": {}
  }
 ]
}