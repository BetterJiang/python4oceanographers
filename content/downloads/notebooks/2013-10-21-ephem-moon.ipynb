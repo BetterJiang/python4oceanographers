{
 "metadata": {
  "name": "",
  "signature": "sha256:00fb1ae99c4455421e02838ddd1447a6e95b7708d3e0f5899baa9eeafa518cb8"
 },
 "nbformat": 3,
 "nbformat_minor": 0,
 "worksheets": [
  {
   "cells": [
    {
     "cell_type": "code",
     "collapsed": false,
     "input": [
      "from IPython.core.display import HTML\n",
      "\n",
      "with open('creative_commons.txt', 'r') as f:\n",
      "    html = f.read()\n",
      "    \n",
      "name = '2013-10-21-ephem-moon.ipynb'\n",
      "\n",
      "html = \"\"\"\n",
      "<small>\n",
      "<p> This post was written as an IPython notebook.  It is available for\n",
      "<a href=\"https://ocefpaf.github.com/python4oceanographers/downloads/\n",
      "notebooks/%s.ipynb\">download</a> or as a static\n",
      "<a href=\"https://nbviewer.ipython.org/url/ocefpaf.github.com/\n",
      "python4oceanographers/downloads/notebooks/%s.ipynb\">html</a>.</p>\n",
      "<p></p>\n",
      "%s \"\"\" % (name, name, html)\n",
      "\n",
      "%matplotlib inline\n",
      "from matplotlib import style\n",
      "style.use('ggplot')"
     ],
     "language": "python",
     "metadata": {},
     "outputs": [],
     "prompt_number": 1
    },
    {
     "cell_type": "markdown",
     "metadata": {},
     "source": [
      "I'm teaching tides in a\n",
      "[Waves and Tides course](https://github.com/ocefpaf/waves_and_tides) and, every \n",
      "now and then, I find myself creating new figures to show the students.  This\n",
      "post is to show how I created a \"moon phase path\" using\n",
      "[pyephem](http://rhodesmill.org/pyephem/).  The final plot was based on\n",
      "[this example](http://michelanders.blogspot.com.br/2011/01/moon-phases-with-pyephem.html).\n",
      "\n",
      "Just for fun I'll find the city we are in using the machine IP instead of\n",
      "specifying the longitude and latitude.  The function below returns the IP."
     ]
    },
    {
     "cell_type": "code",
     "collapsed": false,
     "input": [
      "import re\n",
      "import urllib\n",
      "\n",
      "def get_ip(url='http://checkip.dyndns.org'):\n",
      "    request = urllib.urlopen(url).read().decode('utf-8')\n",
      "    return re.findall(r\"\\d{1,3}\\.\\d{1,3}\\.\\d{1,3}.\\d{1,3}\", request)[0]"
     ],
     "language": "python",
     "metadata": {},
     "outputs": [],
     "prompt_number": 2
    },
    {
     "cell_type": "markdown",
     "metadata": {},
     "source": [
      "Now, to find the city, we need the\n",
      "[GeoLiteCity](http://dev.maxmind.com/geoip/legacy/geolite/) database\n",
      "and the [GeoIP](https://pypi.python.org/pypi/pygeoip/) module."
     ]
    },
    {
     "cell_type": "code",
     "collapsed": false,
     "input": [
      "from pygeoip import GeoIP\n",
      "\n",
      "def get_location(ip, fname='./data/GeoLiteCity.dat'):\n",
      "    \"\"\"Database can be downloaded at:\n",
      "        http://dev.maxmind.com/geoip/legacy/geolite/\"\"\"\n",
      "    gi = GeoIP(fname)\n",
      "    location = gi.record_by_addr(ip)\n",
      "    return location"
     ],
     "language": "python",
     "metadata": {},
     "outputs": [],
     "prompt_number": 3
    },
    {
     "cell_type": "code",
     "collapsed": false,
     "input": [
      "ip = get_ip()\n",
      "location = get_location(ip)\n",
      "location"
     ],
     "language": "python",
     "metadata": {},
     "outputs": [
      {
       "metadata": {},
       "output_type": "pyout",
       "prompt_number": 4,
       "text": [
        "{'area_code': 0,\n",
        " 'city': u'Cama\\xe7ari',\n",
        " 'continent': 'SA',\n",
        " 'country_code': 'BR',\n",
        " 'country_code3': 'BRA',\n",
        " 'country_name': 'Brazil',\n",
        " 'dma_code': 0,\n",
        " 'latitude': -12.483300000000014,\n",
        " 'longitude': -38.2167,\n",
        " 'metro_code': None,\n",
        " 'postal_code': None,\n",
        " 'region_code': u'05',\n",
        " 'time_zone': 'America/Bahia'}"
       ]
      }
     ],
     "prompt_number": 4
    },
    {
     "cell_type": "markdown",
     "metadata": {},
     "source": [
      "PyEphem main object is the `Observer` class.  We need to \"feed it\" with our\n",
      "position and date.  Also, since we are interested in Earth's natural satellite,\n",
      "we will start a `moon` object as well."
     ]
    },
    {
     "cell_type": "code",
     "collapsed": false,
     "input": [
      "import ephem\n",
      "import numpy as np\n",
      "from datetime import datetime\n",
      "\n",
      "date = datetime.utcnow()\n",
      "moon = ephem.Moon()\n",
      "\n",
      "obs = ephem.Observer()\n",
      "obs.date = date\n",
      "obs.lon = np.deg2rad(location['longitude'])\n",
      "obs.lat = np.deg2rad(location['latitude'])"
     ],
     "language": "python",
     "metadata": {},
     "outputs": [],
     "prompt_number": 5
    },
    {
     "cell_type": "markdown",
     "metadata": {},
     "source": [
      "We can print some information like rising times, and next full moon date."
     ]
    },
    {
     "cell_type": "code",
     "collapsed": false,
     "input": [
      "print(\"Next full Moon: %s\" % ephem.next_full_moon(date))\n",
      "print(\"Previous rising: %s\" % obs.previous_rising(moon))\n",
      "print(\"Next rising: %s\" % obs.next_rising(moon))"
     ],
     "language": "python",
     "metadata": {},
     "outputs": [
      {
       "output_type": "stream",
       "stream": "stdout",
       "text": [
        "Next full Moon: 2016/2/22 18:19:52\n",
        "Previous rising: 2016/2/2 03:02:17\n",
        "Next rising: 2016/2/3 03:47:43\n"
       ]
      }
     ],
     "prompt_number": 6
    },
    {
     "cell_type": "markdown",
     "metadata": {},
     "source": [
      "Now let's loop over one day saving the azimuth, altitude, hour, and a symbol\n",
      "for the moon phase."
     ]
    },
    {
     "cell_type": "code",
     "collapsed": false,
     "input": [
      "az, alt, symbols, times = [], [], [], []\n",
      "\n",
      "for k in range(24):\n",
      "    moon.compute(obs)  \n",
      "  \n",
      "    nnm = ephem.next_new_moon(obs.date)  \n",
      "    pnm = ephem.previous_new_moon(obs.date)  \n",
      "    lunation = (obs.date - pnm) / (nnm - pnm)  \n",
      "    symbol = lunation * 26\n",
      "    if symbol < 0.2 or symbol > 25.8:\n",
      "        symbol = '1'\n",
      "    else:  \n",
      "        symbol = chr(ord('A') + int(symbol + 0.5) - 1)\n",
      "        times.append(ephem.localtime(obs.date).time().strftime(\"%H:%M\"))\n",
      "        symbols.append(symbol)\n",
      "        alt.append(moon.alt)\n",
      "        az.append(moon.az)\n",
      "    \n",
      "    obs.date += ephem.hour\n",
      "    \n",
      "az, alt = map(np.rad2deg, (az, alt))"
     ],
     "language": "python",
     "metadata": {},
     "outputs": [],
     "prompt_number": 7
    },
    {
     "cell_type": "markdown",
     "metadata": {},
     "source": [
      "Finally, we can plot the figure with the moon path."
     ]
    },
    {
     "cell_type": "code",
     "collapsed": false,
     "input": [
      "import matplotlib.pyplot as plt\n",
      "from matplotlib.font_manager import FontProperties\n",
      "\n",
      "prop = FontProperties(fname='./data/moon_phases.ttf', size=25)\n",
      "\n",
      "fig, ax = plt.subplots()\n",
      "offset = 20\n",
      "ax.set_xlim(0-10, 360+30)\n",
      "ax.set_ylim(-90-5, 90+5)\n",
      "[ax.text(x, y, text, fontproperties=prop, alpha=0.3, zorder=1)\n",
      " for x, y, text in zip(az, alt, symbols)]\n",
      "[ax.text(x, y, hour, fontdict=dict(size=11, weight='bold'), zorder=0, color='r')\n",
      " for x, y, hour in zip(az, alt, times)]\n",
      "                            \n",
      "ax.set_xlabel(\"Azimuth (compass direction, in degrees)\")\n",
      "ax.set_ylabel(\"Elevation (degrees above horizon)\")"
     ],
     "language": "python",
     "metadata": {},
     "outputs": [
      {
       "metadata": {},
       "output_type": "pyout",
       "prompt_number": 8,
       "text": [
        "<matplotlib.text.Text at 0x7f772abae910>"
       ]
      },
      {
       "metadata": {},
       "output_type": "display_data",
       "png": "[encoded data removed]",
       "text": [
        "<matplotlib.figure.Figure at 0x7f772cce88d0>"
       ]
      }
     ],
     "prompt_number": 8
    },
    {
     "cell_type": "markdown",
     "metadata": {},
     "source": [
      "The font `moon_font.ttf` convert the symbol we crated into a nice moon phase\n",
      "icon."
     ]
    },
    {
     "cell_type": "code",
     "collapsed": false,
     "input": [
      "HTML(html)"
     ],
     "language": "python",
     "metadata": {},
     "outputs": [
      {
       "html": [
        "\n",
        "<small>\n",
        "<p> This post was written as an IPython notebook.  It is available for\n",
        "<a href=\"https://ocefpaf.github.com/python4oceanographers/downloads/\n",
        "notebooks/2013-10-21-ephem-moon.ipynb.ipynb\">download</a> or as a static\n",
        "<a href=\"https://nbviewer.ipython.org/url/ocefpaf.github.com/\n",
        "python4oceanographers/downloads/notebooks/2013-10-21-ephem-moon.ipynb.ipynb\">html</a>.</p>\n",
        "<p></p>\n",
        "<a rel=\"license\" href=\"https://creativecommons.org/licenses/by-sa/4.0/\"><img\n",
        "alt=\"Creative Commons License\" style=\"border-width:0\"\n",
        "src=\"https://i.creativecommons.org/l/by-sa/4.0/88x31.png\" /></a><br /><span\n",
        "xmlns:dct=\"https://purl.org/dc/terms/\"\n",
        "property=\"dct:title\">python4oceanographers</span> by <a\n",
        "xmlns:cc=\"https://creativecommons.org/ns#\" href=\"https://ocefpaf.github.io/\"\n",
        "property=\"cc:attributionName\" rel=\"cc:attributionURL\">Filipe Fernandes</a> is\n",
        "licensed under a <a rel=\"license\"\n",
        "href=\"https://creativecommons.org/licenses/by-sa/4.0/\">Creative Commons\n",
        "Attribution-ShareAlike 4.0 International License</a>.<br />Based on a work at <a\n",
        "xmlns:dct=\"https://purl.org/dc/terms/\" href=\"https://ocefpaf.github.io/\"\n",
        "rel=\"dct:source\">https://ocefpaf.github.io/</a>.\n",
        " "
       ],
       "metadata": {},
       "output_type": "pyout",
       "prompt_number": 9,
       "text": [
        "<IPython.core.display.HTML at 0x7f772cccfe10>"
       ]
      }
     ],
     "prompt_number": 9
    }
   ],
   "metadata": {}
  }
 ]
}