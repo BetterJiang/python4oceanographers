{
 "metadata": {
  "kernelspec": {
   "codemirror_mode": {
    "name": "python",
    "version": 3
   },
   "display_name": "Python 3",
   "language": "python",
   "name": "python3"
  },
  "name": "",
  "signature": "sha256:ff2dd7f45c3b3d12e930610f4a6d99474f759a80fd275fb17905ab2abe42d8cb"
 },
 "nbformat": 3,
 "nbformat_minor": 0,
 "worksheets": [
  {
   "cells": [
    {
     "cell_type": "code",
     "collapsed": false,
     "input": [
      "from IPython.core.display import HTML\n",
      "\n",
      "with open('creative_commons.txt', 'r') as f:\n",
      "    html = f.read()\n",
      "    \n",
      "with open('./styles/custom.css', 'r') as f:\n",
      "    styles = f.read()\n",
      "    \n",
      "HTML(styles)\n",
      "\n",
      "name = '2014-07-28-time_series_cube'\n",
      "\n",
      "html = \"\"\"\n",
      "<small>\n",
      "<p> This post was written as an IPython notebook.  It is available for\n",
      "<a href=\"http://ocefpaf.github.com/python4oceanographers/downloads/\n",
      "notebooks/%s.ipynb\">download</a> or as a static\n",
      "<a href=\"http://nbviewer.ipython.org/url/ocefpaf.github.com/\n",
      "python4oceanographers/downloads/notebooks/%s.ipynb\">html</a>.</p>\n",
      "<p></p>\n",
      "%s \"\"\" % (name, name, html)\n",
      "\n",
      "import seaborn\n",
      "%matplotlib inline"
     ],
     "language": "python",
     "metadata": {},
     "outputs": [],
     "prompt_number": 1
    },
    {
     "cell_type": "markdown",
     "metadata": {},
     "source": [
      "If you have not checked Nikolay Koldunov's [Earthpy](http://earthpy.org/) blog\n",
      "by now stop reading this and click on my blog roll at the bottom right of the\n",
      "page.  This post is basically \"re-post\" from his\n",
      "[time-series](http://earthpy.org/time_series_analysis_with_pandas_part_2.html)\n",
      "part 2.  I will to try reproduce his results using my two favorite\n",
      "tools pandas and iris.\n",
      "\n",
      "Pandas was created by and for quant analysis, it is a mature tool\n",
      "built to do virtually anything you can imagine with time-series.  However,\n",
      "pandas may disapoint you when used for oceanographic or meteorological data analysis.\n",
      "Iris, on the other hand, was born at the [UK Met Office](http://scitools.org.uk/iris/), it\n",
      "is tailor made for meteorology and oceanography.  In this post I will try to\n",
      "get the best of both.\n",
      "\n",
      "Luckily `iris.pandas` module already implements functions for that like\n",
      "`as_cube`, `as_series` and `as_data_frame` to convert to and from iris cubes\n",
      "and pandas Series/DataFrame objects.  It is important to note that iris does\n",
      "rely on pandas for 1D time-series."
     ]
    },
    {
     "cell_type": "code",
     "collapsed": false,
     "input": [
      "from pandas import DataFrame, read_csv"
     ],
     "language": "python",
     "metadata": {},
     "outputs": [],
     "prompt_number": 2
    },
    {
     "cell_type": "markdown",
     "metadata": {},
     "source": [
      "First let's download the data for the AO and NOA used in the original post.\n",
      "Iris can read `OpenDAP`, `netCDF`, `PP` and `grib` easily, but it is\n",
      "[complicated](http://scitools.org.uk/iris/docs/latest/examples/graphics/custom_file_loading.html) to load a custom format, even simple text formats like the ones below.\n",
      "Thankfully, reading various text formats with pandas is a piece of cake."
     ]
    },
    {
     "cell_type": "code",
     "collapsed": false,
     "input": [
      "url = 'http://www.cpc.ncep.noaa.gov/products/precip/CWlink/'\n",
      "\n",
      "ao_file = url + 'daily_ao_index/monthly.ao.index.b50.current.ascii'\n",
      "nao_file = url + 'pna/norm.nao.monthly.b5001.current.ascii'\n",
      "\n",
      "kw = dict(sep='\\s*', parse_dates={'dates': [0, 1]},\n",
      "          header=None, index_col=0, squeeze=True, engine='python')\n",
      "\n",
      "AO = read_csv(ao_file, **kw)\n",
      "NAO = read_csv(nao_file, **kw)"
     ],
     "language": "python",
     "metadata": {},
     "outputs": [],
     "prompt_number": 3
    },
    {
     "cell_type": "markdown",
     "metadata": {},
     "source": [
      "`read_csv` downloads the file and load it into a pandas `Series` indexing by\n",
      "its date.  To better understand all the `kw` used check the original post.\n",
      "\n",
      "I want to represent those series as iris cubes.  Below I show some *boiler\n",
      "plate* to get a nicer cube, with calendar, units and etc.  That is not \n",
      "necessary if you wish just a default cube."
     ]
    },
    {
     "cell_type": "code",
     "collapsed": false,
     "input": [
      "import iris\n",
      "from iris.pandas import as_cube, as_series, as_data_frame\n",
      "\n",
      "def boiler_plate(df, name=None, calendars=None,\n",
      "                 unit=None, index_name=None):\n",
      "    cube = as_cube(df, calendars=calendars)\n",
      "    cube.rename(name)\n",
      "    cube.coord(\"index\").rename(\"time\")\n",
      "    cube.units = unit\n",
      "    return cube\n",
      "\n",
      "kw = dict(index_name='time',\n",
      "          unit=iris.unit.Unit('no_unit'),\n",
      "          calendars={0: iris.unit.CALENDAR_GREGORIAN})\n",
      "\n",
      "AO = boiler_plate(AO, name=\"AO\", **kw)\n",
      "NAO = boiler_plate(NAO, name=\"NAO\", **kw)\n",
      "\n",
      "cubes = iris.cube.CubeList([AO, NAO])\n",
      "\n",
      "print(cubes)"
     ],
     "language": "python",
     "metadata": {},
     "outputs": [
      {
       "output_type": "stream",
       "stream": "stdout",
       "text": [
        "0: AO / (no_unit)                      (time: 775)\n",
        "1: NAO / (no_unit)                     (time: 775)\n"
       ]
      }
     ],
     "prompt_number": 4
    },
    {
     "cell_type": "markdown",
     "metadata": {},
     "source": [
      "Here is where iris shines, instead of hacking our way with pandas resample,\n",
      "like in the original post, we can actually `aggregate_by` seasons.  All we need\n",
      "to do is to add a `coord_categorisation` as an auxiliary coordinate.  I will\n",
      "add two categories: months and seasons."
     ]
    },
    {
     "cell_type": "code",
     "collapsed": false,
     "input": [
      "import iris.coord_categorisation as coord_cat\n",
      "\n",
      "[coord_cat.add_season(cube, 'time', name='clim_season')\n",
      " for cube in cubes]\n",
      "\n",
      "[coord_cat.add_month(cube, 'time', name='months')\n",
      " for cube in cubes]\n",
      "\n",
      "print(cubes[0])"
     ],
     "language": "python",
     "metadata": {},
     "outputs": [
      {
       "output_type": "stream",
       "stream": "stdout",
       "text": [
        "AO / (no_unit)                      (time: 775)\n",
        "     Dimension coordinates:\n",
        "          time                           x\n",
        "     Auxiliary coordinates:\n",
        "          clim_season                    x\n",
        "          months                         x\n"
       ]
      }
     ],
     "prompt_number": 5
    },
    {
     "cell_type": "markdown",
     "metadata": {},
     "source": [
      "Let's extract the boreal winter."
     ]
    },
    {
     "cell_type": "code",
     "collapsed": false,
     "input": [
      "constraint = iris.Constraint(clim_season='djf')\n",
      "winter = cubes.extract(constraint)\n",
      "print(winter)"
     ],
     "language": "python",
     "metadata": {},
     "outputs": [
      {
       "output_type": "stream",
       "stream": "stdout",
       "text": [
        "0: AO / (no_unit)                      (time: 194)\n",
        "1: NAO / (no_unit)                     (time: 194)\n"
       ]
      }
     ],
     "prompt_number": 6
    },
    {
     "cell_type": "markdown",
     "metadata": {},
     "source": [
      "Try compare this with the results obtained by pandas resample in the original\n",
      "notebook."
     ]
    },
    {
     "cell_type": "code",
     "collapsed": false,
     "input": [
      "import matplotlib.pyplot as plt\n",
      "import iris.quickplot as qplt\n",
      "\n",
      "fig, ax = plt.subplots(figsize=(7, 3.5))\n",
      "qplt.plot(winter[0], label=winter[0].name())\n",
      "qplt.plot(winter[1], label=winter[1].name(), alpha=0.75)\n",
      "ax.set_title(\"Winter\")\n",
      "ax.set_ylabel(\"AO/NAO Index\")\n",
      "leg = ax.legend()"
     ],
     "language": "python",
     "metadata": {},
     "outputs": [
      {
       "metadata": {},
       "output_type": "display_data",
       "png": "[encoded data removed]",
       "text": [
        "<matplotlib.figure.Figure at 0x6044a50>"
       ]
      }
     ],
     "prompt_number": 7
    },
    {
     "cell_type": "markdown",
     "metadata": {},
     "source": [
      "And here is where iris starts to come short.  The bar plot with pandas is just one\n",
      "line of code.  Iris does not have such a handy method, and we have to deal with\n",
      "raw matplotlib."
     ]
    },
    {
     "cell_type": "code",
     "collapsed": false,
     "input": [
      "fig, ax = plt.subplots(figsize=(7, 3.5))\n",
      "width = 0.5\n",
      "months = np.arange(1, 13)\n",
      "\n",
      "monthly_mean = cubes[0].aggregated_by('months', iris.analysis.MEAN)\n",
      "ax.bar(months, monthly_mean.data,\n",
      "       label=monthly_mean.name(), color='blue',\n",
      "       alpha=0.75, align='edge', width=width)\n",
      "\n",
      "monthly_mean = cubes[1].aggregated_by('months', iris.analysis.MEAN)\n",
      "ax.bar(months+width, monthly_mean.data,\n",
      "       label=monthly_mean.name(), color='green',\n",
      "       alpha=0.75, align='edge', width=width)\n",
      "ax.locator_params(axis='x', tight=True, nbins=12)"
     ],
     "language": "python",
     "metadata": {},
     "outputs": [
      {
       "metadata": {},
       "output_type": "display_data",
       "png": "[encoded data removed]",
       "text": [
        "<matplotlib.figure.Figure at 0x62cfcd0>"
       ]
      }
     ],
     "prompt_number": 8
    },
    {
     "cell_type": "markdown",
     "metadata": {},
     "source": [
      "So let's ditch iris and go from cube to DataFrame to enjoy pandas plotting library."
     ]
    },
    {
     "cell_type": "code",
     "collapsed": false,
     "input": [
      "df = as_series(cube)\n",
      "df.head()"
     ],
     "language": "python",
     "metadata": {},
     "outputs": [
      {
       "metadata": {},
       "output_type": "pyout",
       "prompt_number": 9,
       "text": [
        "1950-01-06    0.92\n",
        "1950-02-06    0.40\n",
        "1950-03-06   -0.36\n",
        "1950-04-06    0.73\n",
        "1950-05-06   -0.59\n",
        "dtype: float32"
       ]
      }
     ],
     "prompt_number": 9
    },
    {
     "cell_type": "markdown",
     "metadata": {},
     "source": [
      "That is a problem for me `as_series` uses the main coordinate as the index and\n",
      "drops the rest.  I want to be able to choose which coordinate to pass as\n",
      "index.  So let's try `as_data_frame` instead."
     ]
    },
    {
     "cell_type": "code",
     "collapsed": false,
     "input": [
      "from iris.exceptions import CoordinateNotFoundError\n",
      "\n",
      "try:\n",
      "    df = as_data_frame(cube)\n",
      "except CoordinateNotFoundError as e:\n",
      "    print(e)"
     ],
     "language": "python",
     "metadata": {},
     "outputs": [
      {
       "output_type": "stream",
       "stream": "stdout",
       "text": [
        "u'Expected to find exactly 1 coordinate, but found 3. They were: time, clim_season, months.'\n"
       ]
      }
     ],
     "prompt_number": 10
    },
    {
     "cell_type": "markdown",
     "metadata": {},
     "source": [
      "That is worse.  We cannot get a DataFrame back because of the auxiliary\n",
      "coordinates we added.\n",
      "\n",
      "We can circumvent those issues by hacking `as_series` and implementing an\n",
      "index `keyword` to gain control over which index to use.  Also, we can\n",
      "attach the Auxiliary coordinates to the data as extra columns in `as_data_frame`."
     ]
    },
    {
     "cell_type": "code",
     "collapsed": false,
     "input": [
      "import pandas\n",
      "from iris.pandas import _as_pandas_coord\n",
      "\n",
      "def as_series(cube, index=None, copy=True):\n",
      "    data = cube.data\n",
      "    if isinstance(data, np.ma.MaskedArray):\n",
      "        if not copy:\n",
      "            raise ValueError(\"Masked arrays must always be copied.\")\n",
      "        data = data.astype('f').filled(np.nan)\n",
      "    elif copy:\n",
      "        data = data.copy()\n",
      "\n",
      "    if not index:\n",
      "        if cube.dim_coords:\n",
      "            index = _as_pandas_coord(cube.dim_coords[0])\n",
      "    else:\n",
      "        index = _as_pandas_coord(index)\n",
      "\n",
      "    series = pandas.Series(data, index)\n",
      "    if not copy:\n",
      "        _assert_shared(data, series)\n",
      "\n",
      "    return series\n",
      "\n",
      "def as_data_frame(cube, copy=True):\n",
      "    data = cube.data\n",
      "    if isinstance(data, np.ma.MaskedArray):\n",
      "        if not copy:\n",
      "            raise ValueError(\"Masked arrays must always be copied.\")\n",
      "        data = data.astype('f').filled(np.nan)\n",
      "    elif copy:\n",
      "        data = data.copy()\n",
      "\n",
      "    index = columns = None\n",
      "    coords0 = cube.coords(dimensions=[0])\n",
      "    if coords0:\n",
      "        index = _as_pandas_coord(coords0.pop(0))\n",
      "        if cube.ndim == 1:\n",
      "            columns = [cube.name()]+[coord.name() for coord in coords0]\n",
      "            extra_cols = np.asanyarray([coord.points for coord in coords0]).T\n",
      "            data = np.c_[data, extra_cols]\n",
      "    coords1 = cube.coords(dimensions=[1])\n",
      "    if coords1:\n",
      "        columns = _as_pandas_coord(coords1)\n",
      "        columns.extend([coord.name() for coord in coords0])\n",
      "        data = np.c_[data, [coord.points for coord in coords0]]\n",
      "    data_frame = DataFrame(data, index, columns)\n",
      "    if not copy:\n",
      "        _assert_shared(data, data_frame)\n",
      "\n",
      "    return data_frame"
     ],
     "language": "python",
     "metadata": {
      "code_folding": [
       3
      ]
     },
     "outputs": [],
     "prompt_number": 11
    },
    {
     "cell_type": "code",
     "collapsed": false,
     "input": [
      "df = as_series(AO, AO.coord('clim_season'))\n",
      "print(df.head())\n",
      "print('\\n')\n",
      "df = as_series(AO, AO.coord('months'))\n",
      "print(df.head())"
     ],
     "language": "python",
     "metadata": {},
     "outputs": [
      {
       "output_type": "stream",
       "stream": "stdout",
       "text": [
        "djf   -0.060310\n",
        "djf    0.626810\n",
        "mam   -0.008128\n",
        "mam    0.555100\n",
        "mam    0.071577\n",
        "dtype: float32\n",
        "\n",
        "\n",
        "Jan   -0.060310\n",
        "Feb    0.626810\n",
        "Mar   -0.008128\n",
        "Apr    0.555100\n",
        "May    0.071577\n",
        "dtype: float32\n"
       ]
      }
     ],
     "prompt_number": 12
    },
    {
     "cell_type": "code",
     "collapsed": false,
     "input": [
      "df_ao = as_data_frame(AO)\n",
      "df_nao = as_data_frame(NAO)\n",
      "print(df_ao.head())"
     ],
     "language": "python",
     "metadata": {},
     "outputs": [
      {
       "output_type": "stream",
       "stream": "stdout",
       "text": [
        "                           AO clim_season months\n",
        "1950-01-06   -0.0603099986911         djf    Jan\n",
        "1950-02-06     0.626810014248         djf    Feb\n",
        "1950-03-06  -0.00812750030309         mam    Mar\n",
        "1950-04-06     0.555100023746         mam    Apr\n",
        "1950-05-06    0.0715769976377         mam    May\n"
       ]
      }
     ],
     "prompt_number": 13
    },
    {
     "cell_type": "markdown",
     "metadata": {},
     "source": [
      "That's much better! One side effect is that all the dtypes are objects now."
     ]
    },
    {
     "cell_type": "code",
     "collapsed": false,
     "input": [
      "print(df_ao.dtypes)"
     ],
     "language": "python",
     "metadata": {},
     "outputs": [
      {
       "output_type": "stream",
       "stream": "stdout",
       "text": [
        "AO             object\n",
        "clim_season    object\n",
        "months         object\n",
        "dtype: object\n"
       ]
      }
     ],
     "prompt_number": 14
    },
    {
     "cell_type": "markdown",
     "metadata": {},
     "source": [
      "That is easy to solve."
     ]
    },
    {
     "cell_type": "code",
     "collapsed": false,
     "input": [
      "df_ao[['AO']] = df_ao[['AO']].astype(float)\n",
      "df_nao[['NAO']] = df_nao[['NAO']].astype(float)"
     ],
     "language": "python",
     "metadata": {},
     "outputs": [],
     "prompt_number": 15
    },
    {
     "cell_type": "code",
     "collapsed": false,
     "input": [
      "print(df_ao.dtypes)"
     ],
     "language": "python",
     "metadata": {},
     "outputs": [
      {
       "output_type": "stream",
       "stream": "stdout",
       "text": [
        "AO             float64\n",
        "clim_season     object\n",
        "months          object\n",
        "dtype: object\n"
       ]
      }
     ],
     "prompt_number": 16
    },
    {
     "cell_type": "markdown",
     "metadata": {},
     "source": [
      "We survived the barplot without pandas, but there was now\n",
      "way I was going to try the boxplots without it."
     ]
    },
    {
     "cell_type": "code",
     "collapsed": false,
     "input": [
      "ax = df_ao.boxplot(column=['AO'], by='months')\n",
      "ax = df_nao.boxplot(column=['NAO'], by='months')"
     ],
     "language": "python",
     "metadata": {},
     "outputs": [
      {
       "metadata": {},
       "output_type": "display_data",
       "png": "[encoded data removed]",
       "text": [
        "<matplotlib.figure.Figure at 0x60af590>"
       ]
      },
      {
       "metadata": {},
       "output_type": "display_data",
       "png": "[encoded data removed]",
       "text": [
        "<matplotlib.figure.Figure at 0x657ee10>"
       ]
      }
     ],
     "prompt_number": 17
    },
    {
     "cell_type": "markdown",
     "metadata": {},
     "source": [
      "I will stop here for now.  Don't forget to check the original post at\n",
      "[Earthpy](http://earthpy.org/time_series_analysis_with_pandas_part_2.html)."
     ]
    },
    {
     "cell_type": "code",
     "collapsed": false,
     "input": [
      "HTML(html)"
     ],
     "language": "python",
     "metadata": {},
     "outputs": [
      {
       "html": [
        "\n",
        "<small>\n",
        "<p> This post was written as an IPython notebook.  It is available for\n",
        "<a href=\"http://ocefpaf.github.com/python4oceanographers/downloads/\n",
        "notebooks/2014-07-28-time_series_cube.ipynb\">download</a> or as a static\n",
        "<a href=\"http://nbviewer.ipython.org/url/ocefpaf.github.com/\n",
        "python4oceanographers/downloads/notebooks/2014-07-28-time_series_cube.ipynb\">html</a>.</p>\n",
        "<p></p>\n",
        "<a rel=\"license\" href=\"http://creativecommons.org/licenses/by-sa/4.0/\"><img\n",
        "alt=\"Creative Commons License\" style=\"border-width:0\"\n",
        "src=\"http://i.creativecommons.org/l/by-sa/4.0/88x31.png\" /></a><br /><span\n",
        "xmlns:dct=\"http://purl.org/dc/terms/\"\n",
        "property=\"dct:title\">python4oceanographers</span> by <a\n",
        "xmlns:cc=\"http://creativecommons.org/ns#\" href=\"http://ocefpaf.github.io/\"\n",
        "property=\"cc:attributionName\" rel=\"cc:attributionURL\">Filipe Fernandes</a> is\n",
        "licensed under a <a rel=\"license\"\n",
        "href=\"http://creativecommons.org/licenses/by-sa/4.0/\">Creative Commons\n",
        "Attribution-ShareAlike 4.0 International License</a>.<br />Based on a work at <a\n",
        "xmlns:dct=\"http://purl.org/dc/terms/\" href=\"http://ocefpaf.github.io/\"\n",
        "rel=\"dct:source\">http://ocefpaf.github.io/</a>.\n",
        " "
       ],
       "metadata": {},
       "output_type": "pyout",
       "prompt_number": 18,
       "text": [
        "<IPython.core.display.HTML at 0x62ebdd0>"
       ]
      }
     ],
     "prompt_number": 18
    }
   ],
   "metadata": {}
  }
 ]
}
