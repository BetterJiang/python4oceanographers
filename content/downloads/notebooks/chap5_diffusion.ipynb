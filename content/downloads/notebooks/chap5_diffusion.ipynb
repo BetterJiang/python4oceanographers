{
 "metadata": {
  "name": "",
  "signature": "sha256:8e143b5dec8a534c2ec8c150214dd3378e6b17b14dfe00c97eb3f28367538379"
 },
 "nbformat": 3,
 "nbformat_minor": 0,
 "worksheets": [
  {
   "cells": [
    {
     "cell_type": "code",
     "collapsed": false,
     "input": [
      "from IPython.core.display import HTML\n",
      "\n",
      "with open('creative_commons.txt', 'r') as f:\n",
      "    html = f.read()\n",
      "    \n",
      "with open('./styles/custom.css', 'r') as f:\n",
      "    styles = f.read()\n",
      "    \n",
      "HTML(styles)\n",
      "\n",
      "name = 'chap5_diffusion'\n",
      "\n",
      "html = \"\"\"\n",
      "<small>\n",
      "<p> This post was written as an IPython notebook. It is available for <a href=\"http://ocef\n",
      "paf.github.com/python4oceanographers/downloads/notebooks/%s.ipynb\">download</a> or as a static <a href=\"http://\n",
      "nbviewer.ipython.org/url/ocefpaf.github.com/python4oceanographers/downloads/notebooks/%s.ipynb\">html</a>.</p>\n",
      "<p></p>\n",
      "%s \"\"\" % (name, name, html)"
     ],
     "language": "python",
     "metadata": {},
     "outputs": []
    },
    {
     "cell_type": "markdown",
     "metadata": {},
     "source": [
      "This post is part of the\n",
      "[Introduction to Geophysical Fluid Dynamics, 2nd Edition](http://store.elsevier.com/product.jsp?isbn=9780120887590)\n",
      "post series on converting the MatlabTM examples to python.  Chapter 5..."
     ]
    },
    {
     "cell_type": "code",
     "collapsed": false,
     "input": [
      "import numpy as np\n",
      "import matplotlib.pyplot as plt"
     ],
     "language": "python",
     "metadata": {},
     "outputs": []
    },
    {
     "cell_type": "code",
     "collapsed": false,
     "input": [
      "# Calculation nodes (first point below bottom, last one above surface.\n",
      "# Boundaries between two first points and two last points)\n",
      "# (M-2)*DZ=H\n",
      "# N number of time steps\n",
      "# Think about the number N of steps to be performed to simulate a fixed time\n",
      "# inverval\n",
      "# You can adapt the speed of plotting by adapting timetowait.\n",
      "timetowait = 0.5\n",
      "\n",
      "# Number of grid nodes.\n",
      "M = 20\n",
      "# Depth.\n",
      "H = 100\n",
      "# Diffusion coefficient.\n",
      "kappa = 0.01\n",
      "# Grid spacing.\n",
      "DZ = H / (M-2)\n",
      "# Time step\n",
      "DT = H**2 / kappa / M\n",
      "# Number of time steps.\n",
      "N = 20\n",
      "# Time origin.\n",
      "t = 0\n",
      "# 2 * DS is the (arbitrary) initial difference of C across the domain..\n",
      "DS = -1"
     ],
     "language": "python",
     "metadata": {},
     "outputs": []
    },
    {
     "cell_type": "markdown",
     "metadata": {},
     "source": [
      "### Resolution and plot."
     ]
    },
    {
     "cell_type": "code",
     "collapsed": false,
     "input": [
      "# Initial field for field CN, you can verify that the finite difference at the\n",
      "# boundary leads to zero gradients.\n",
      "\n",
      "z, CN = np.zeros(M), np.zeros(M)\n",
      "for k in range(M):\n",
      "    z[k] = -H + (k - 1/2) * DZ\n",
      "    CN[k] = 37 + DS * np.cos(z[k] / H * np.pi)"
     ],
     "language": "python",
     "metadata": {},
     "outputs": []
    },
    {
     "cell_type": "code",
     "collapsed": false,
     "input": [
      "fig, ax = plt.subplots()\n",
      "\n",
      "CNP = np.zeros(M)\n",
      "\n",
      "# Make N time steps.\n",
      "for n in range(N):\n",
      "    ax.plot(CN, z)\n",
      "    ax.set_xlabel('S')\n",
      "    ax.set_ylabel('z')\n",
      "    \n",
      "    # Values for interior points.\n",
      "    for i in range(1, M):\n",
      "        CNP[i] += kappa * DT / DZ / DZ * (CN[i] - 2 * CN[i+1] + CN[i+2])\n",
      "\n",
      "    # Update new values and diagnose conservation at time step n by summing concentrations.\n",
      "    SUM[n] = 0\n",
      "    for i in (1, M):\n",
      "        # New value is old value for next step.\n",
      "        CN[i] = CNP[i]\n",
      "        # Diagnose sum (integral).\n",
      "        SUM[n] += CN[i] * DZ\n",
      "    integratedc = SUM[n]\n",
      "    # Boundary condition (zero gradient).\n",
      "    CN[0] = CN[1]\n",
      "    CN[M] = CN[M-1]\n",
      "    # Update time.\n",
      "    t += DT"
     ],
     "language": "python",
     "metadata": {},
     "outputs": []
    },
    {
     "cell_type": "code",
     "collapsed": false,
     "input": [
      "fig, ax = plt.subplot()\n",
      "ax.plot(CN, z)\n",
      "ax.set_xlabel('C')\n",
      "ax.set_ylabel('z')\n",
      "\n",
      "fig, ax = plt.subplot()\n",
      "ax.set_title('Conservation over time')\n",
      "ax.plot(SUM)\n",
      "ax.set_xlabel('iteration')\n",
      "ax.set_ylabel('SUM')"
     ],
     "language": "python",
     "metadata": {},
     "outputs": []
    },
    {
     "cell_type": "code",
     "collapsed": false,
     "input": [
      "HTML(html)"
     ],
     "language": "python",
     "metadata": {},
     "outputs": []
    }
   ],
   "metadata": {}
  }
 ]
}