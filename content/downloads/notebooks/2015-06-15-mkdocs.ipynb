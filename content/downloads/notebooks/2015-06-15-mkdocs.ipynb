{
 "metadata": {
  "kernelspec": {
   "codemirror_mode": {
    "name": "ipython",
    "version": 3
   },
   "display_name": "Iris (Python 2)",
   "language": "python",
   "name": "iris_python2"
  },
  "name": "",
  "signature": "sha256:4689454f5176389687fe852fb0a1b378d35ff7584f70a087aabee6f17a82cc45"
 },
 "nbformat": 3,
 "nbformat_minor": 0,
 "worksheets": [
  {
   "cells": [
    {
     "cell_type": "code",
     "collapsed": false,
     "input": [
      "from IPython.core.display import HTML\n",
      "\n",
      "with open('creative_commons.txt', 'r') as f:\n",
      "    html = f.read()\n",
      "    \n",
      "name = '2015-06-15-mkdocs'\n",
      "\n",
      "html = '''\n",
      "<small>\n",
      "<p> This post was written as an IPython notebook.\n",
      " It is available for <a href='https://ocefpaf.github.com/python4oceanographers/downloads/notebooks/%s.ipynb'>download</a>\n",
      " or as a static <a href='https://nbviewer.ipython.org/url/ocefpaf.github.com/python4oceanographers/downloads/notebooks/%s.ipynb'>html</a>.</p>\n",
      "<p></p>\n",
      "%s''' % (name, name, html)\n",
      "\n",
      "%matplotlib inline\n",
      "from matplotlib import style\n",
      "style.use('ggplot')"
     ],
     "language": "python",
     "metadata": {},
     "outputs": [],
     "prompt_number": 1
    },
    {
     "cell_type": "code",
     "collapsed": false,
     "input": [
      "import os\n",
      "from datetime import datetime\n",
      "\n",
      "title = \"Building a site with mkdocs\"\n",
      "hour = datetime.utcnow().strftime('%H:%M')\n",
      "comments=\"true\"\n",
      "\n",
      "date = '-'.join(name.split('-')[:3])\n",
      "slug = '-'.join(name.split('-')[3:])\n",
      "\n",
      "metadata = dict(title=title,\n",
      "                date=date,\n",
      "                hour=hour,\n",
      "                comments=comments,\n",
      "                slug=slug,\n",
      "                name=name)\n",
      "\n",
      "markdown = \"\"\"Title: {title}\n",
      "date:  {date} {hour}\n",
      "comments: {comments}\n",
      "slug: {slug}\n",
      "\n",
      "{{% notebook {name}.ipynb cells[2:] %}}\n",
      "\"\"\".format(**metadata)\n",
      "\n",
      "content = os.path.abspath(os.path.join(os.getcwd(), os.pardir, os.pardir, '{}.md'.format(name)))\n",
      "with open('{}'.format(content), 'w') as f:\n",
      "    f.writelines(markdown)"
     ],
     "language": "python",
     "metadata": {},
     "outputs": [],
     "prompt_number": 2
    },
    {
     "cell_type": "markdown",
     "metadata": {},
     "source": [
      "I already wrote about how to build this blog using\n",
      "[pelican](https://ocefpaf.github.io/python4oceanographers/blog/2013/12/23/blog/),\n",
      "how to create sites with\n",
      "[Jekyll](https://ocefpaf.github.io/python4oceanographers/blog/2014/07/28/secoora_website/),\n",
      "and [Hyde](https://ocefpaf.github.io/python4oceanographers/blog/2014/12/08/intro_python_website/).\n",
      "In the past I also tried [Nikola](https://getnikola.com/blog/) and even raw\n",
      "[HTML](http://ocefpaf.github.io/homepage/).  However, since I found out about\n",
      "[mkdocs](http://www.mkdocs.org/), I gave up all others.  Particularly when\n",
      "building quick sites for classes, courses and (obviously) docs.\n",
      "\n",
      "Mkdocs is extremely simple.  All you need is to `pip install mkdocs` and then\n",
      "\n",
      "```python\n",
      "  new        Create a new MkDocs project\n",
      "  build      Build the MkDocs documentation\n",
      "  serve      Run the built-in development server\n",
      "  gh-deploy  Deploy your documentation to GitHub Pages\n",
      "```\n",
      "\n",
      "In that order!  Well, you need to flesh a configuration file out after `new`, and\n",
      "`gh-deploy` works only if you are hosting your page as a GitHub project page ;-)\n",
      "\n",
      "[Here](https://github.com/ocefpaf/python4oceanographers_intro_course/blob/master/mkdocs.yml) is a config file example:\n",
      "\n",
      "```yaml\n",
      "site_name: My Awesome Site\n",
      "pages:\n",
      "  - Home: index.md\n",
      "  - About: about.md\n",
      "\n",
      "theme_dir: custom\n",
      "\n",
      "site_description: My awesome site\n",
      "site_url: https://username.github.io/awesome_site\n",
      "repo_url: https://github.com/username/awesome_site\n",
      "site_author: Your Name Here\n",
      "site_favicon: favicon.png\n",
      "docs_dir: src\n",
      "site_dir: _site\n",
      "copyright: Preferably a copyleft ;-)\n",
      "markdown_extensions:\n",
      "    - toc:\n",
      "        permalink: \"\uf0c1\"\n",
      "    - extra\n",
      "    - smarty\n",
      "    - math\n",
      "    - markdown_checklist.extension\n",
      "extra_javascript: ['https://cdn.mathjax.org/mathjax/latest/MathJax.js?config=TeX-AMS_HTML','js/mathjaxhelper.js']\n",
      "google_analytics: ['UA-xxxxxx-xx', 'username.github.io']\n",
      "```\n",
      "\n",
      "The file is mostly self explanatory.  You need to fill in the information \n",
      "about your site while choosing themes, markdown extensions, etc.  Check mkdocs \n",
      "[documentation](http://www.mkdocs.org/) for more information.\n",
      "\n",
      "The actual pages are in fact just Markdown files.  Easy to write, easy to\n",
      "deploy!  Once you get the basic config going you can always type\n",
      "`mkdocs serve`, before editing, your files and the changes will be re-rendered as you type.\n",
      "\n",
      "Click [here](http://ocefpaf.github.io/python4oceanographers_intro_course/) to see a rendered example of the results."
     ]
    },
    {
     "cell_type": "code",
     "collapsed": false,
     "input": [
      "HTML(html)"
     ],
     "language": "python",
     "metadata": {},
     "outputs": [
      {
       "html": [
        "\n",
        "<small>\n",
        "<p> This post was written as an IPython notebook.\n",
        " It is available for <a href='https://ocefpaf.github.com/python4oceanographers/downloads/notebooks/2015-06-15-mkdocs.ipynb'>download</a>\n",
        " or as a static <a href='https://nbviewer.ipython.org/url/ocefpaf.github.com/python4oceanographers/downloads/notebooks/2015-06-15-mkdocs.ipynb'>html</a>.</p>\n",
        "<p></p>\n",
        "<a rel=\"license\" href=\"https://creativecommons.org/licenses/by-sa/4.0/\"><img\n",
        "alt=\"Creative Commons License\" style=\"border-width:0\"\n",
        "src=\"https://i.creativecommons.org/l/by-sa/4.0/88x31.png\" /></a><br /><span\n",
        "xmlns:dct=\"https://purl.org/dc/terms/\"\n",
        "property=\"dct:title\">python4oceanographers</span> by <a\n",
        "xmlns:cc=\"https://creativecommons.org/ns#\" href=\"https://ocefpaf.github.io/\"\n",
        "property=\"cc:attributionName\" rel=\"cc:attributionURL\">Filipe Fernandes</a> is\n",
        "licensed under a <a rel=\"license\"\n",
        "href=\"https://creativecommons.org/licenses/by-sa/4.0/\">Creative Commons\n",
        "Attribution-ShareAlike 4.0 International License</a>.<br />Based on a work at <a\n",
        "xmlns:dct=\"https://purl.org/dc/terms/\" href=\"https://ocefpaf.github.io/\"\n",
        "rel=\"dct:source\">https://ocefpaf.github.io/</a>.\n"
       ],
       "metadata": {},
       "output_type": "pyout",
       "prompt_number": 3,
       "text": [
        "<IPython.core.display.HTML at 0x7f91c478f090>"
       ]
      }
     ],
     "prompt_number": 3
    }
   ],
   "metadata": {}
  }
 ]
}