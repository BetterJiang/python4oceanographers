{
 "metadata": {
  "name": ""
 },
 "nbformat": 3,
 "nbformat_minor": 0,
 "worksheets": [
  {
   "cells": [
    {
     "cell_type": "code",
     "collapsed": false,
     "input": [
      "from IPython.core.display import HTML\n",
      "\n",
      "html = \"\"\"<a rel=\"license\" href=\"http://creativecommons.org/licenses/by-nc-sa/3.0/deed.en_US\"><img alt=\"Creative Commons License\"\n",
      "style=\"border-width:0\" src=\"http://i.creativecommons.org/l/by-nc-sa/3.0/88x31.png\" /></a><br />\n",
      "<span xmlns:dct=\"http://purl.org/dc/terms/\" href=\"http://purl.org/dc/dcmitype/Dataset\" property=\"dct:title\" rel=\"dct:type\">\n",
      "\"python4oceanographers\"</span> by <a xmlns:cc=\"http://creativecommons.org/ns#\" href=\"http://ocefpaf.github.io/\"\n",
      "property=\"cc:attributionName\" rel=\"cc:attributionURL\">Filipe Fernandes</a> is licensed under a <a rel=\"license\"\n",
      "href=\"http://creativecommons.org/licenses/by-nc-sa/3.0/deed.en_US\">\n",
      "Creative Commons Attribution-NonCommercial-ShareAlike 3.0 Unported License</a>.<br />\n",
      "Based on a work at <a xmlns:dct=\"http://purl.org/dc/terms/\" href=\"http://ocefpaf.github.io/\"\n",
      "rel=\"dct:source\">http://ocefpaf.github.io/</a>.\"\"\"\n",
      "\n",
      "def css_styling():\n",
      "    styles = open(\"./styles/custom.css\", \"r\").read()\n",
      "    return HTML(styles)\n",
      "css_styling()"
     ],
     "language": "python",
     "metadata": {},
     "outputs": []
    },
    {
     "cell_type": "code",
     "collapsed": false,
     "input": [
      "import os\n",
      "\n",
      "import numpy as np\n",
      "\n",
      "from pandas import read_hdf\n",
      "from mpl_toolkits.basemap import Basemap\n",
      "from mpl_toolkits.axes_grid1.inset_locator import inset_axes\n",
      "\n",
      "from ctd import plot_section\n",
      "from oceans.colormaps import cm\n",
      "from oceans.datasets import woa_subset"
     ],
     "language": "python",
     "metadata": {},
     "outputs": []
    },
    {
     "cell_type": "code",
     "collapsed": false,
     "input": [
      "longitude = -25.5\n",
      "\n",
      "if os.path.isfile('cross_section_salinity.h5'):\n",
      "    dataset = read_hdf('cross_section_salinity.h5', 'salinity')\n",
      "else:\n",
      "    dataset = woa_subset(var='salinity', clim_type='annual',\n",
      "                         resolution='1deg', levels=slice(0, 40),\n",
      "                         llcrnrlat=-70, urcrnrlat=70,\n",
      "                         llcrnrlon=longitude,\n",
      "                         urcrnrlon=longitude)\n",
      "    dataset = dataset['OA Climatology']['annual'].squeeze().T\n",
      "    dataset.to_hdf('cross_section_salinity.h5', 'salinity')\n",
      "    \n",
      "dataset = dataset.clip(27.5, 37.5)\n",
      "levels = np.arange(dataset.min().min(), dataset.max().max(), 0.02)\n",
      "dataset.lat = dataset.columns.values.astype(float)\n",
      "dataset.lon = len(dataset.lat) * [longitude]\n",
      "\n",
      "fig, ax, cbar = plot_section(dataset, cmap=cm.odv, marker=None,\n",
      "                             levels=levels)\n",
      "X = ax.get_xticks()\n",
      "offset = 1.01\n",
      "ax.set_xlim(X.min() * offset, X.max() * offset)\n",
      "new_labels = np.linspace(dataset.lat.min(), dataset.lat.max(), len(X))\n",
      "new_labels = [u'%i\\u00B0' % num for num in new_labels]\n",
      "ax.set_xticklabels(new_labels)\n",
      "ax.set_xlabel(u'Se\u00e7\u00e3o de Salinidade climatol\u00f3gica (WOA09)'\n",
      "              u' no Atl\u00e2ntico (em longitude %3.1f\\u00B0)' % longitude)\n",
      "ax.set_ylabel('Profundidade [m]')\n",
      "\n",
      "axin = inset_axes(ax, width=\"40%\", height=\"40%\", loc=4)\n",
      "inmap = Basemap(projection='ortho', lon_0=longitude, lat_0=0,\n",
      "                ax=axin, anchor='NE')\n",
      "inmap.bluemarble()\n",
      "_ = inmap.plot(dataset.lon, dataset.lat, 'r', latlon=True)"
     ],
     "language": "python",
     "metadata": {},
     "outputs": []
    },
    {
     "cell_type": "markdown",
     "metadata": {},
     "source": [
      "Check this post at [*nbviewer*.](http://nbviewer.ipython.org/urls/raw.github.com/ocefpaf/python4oceanographers/master/content/downloads/notebooks/woa09_atlantic_section.ipynb)"
     ]
    },
    {
     "cell_type": "code",
     "collapsed": false,
     "input": [
      "HTML(html)"
     ],
     "language": "python",
     "metadata": {},
     "outputs": []
    }
   ],
   "metadata": {}
  }
 ]
}