{
 "metadata": {
  "kernelspec": {
   "codemirror_mode": {
    "name": "ipython",
    "version": 3
   },
   "display_name": "IPython (Python 3)",
   "language": "python",
   "name": "python3"
  },
  "name": "",
  "signature": "sha256:d16fc3ba9ab0abc6dda6d1b35952d89af5911bf10403aaec0b604935c4310ca3"
 },
 "nbformat": 3,
 "nbformat_minor": 0,
 "worksheets": [
  {
   "cells": [
    {
     "cell_type": "code",
     "collapsed": false,
     "input": [
      "import os\n",
      "from IPython.core.display import HTML\n",
      "\n",
      "with open('creative_commons.txt', 'r') as f:\n",
      "    html = f.read()\n",
      "    \n",
      "with open('./styles/custom.css', 'r') as f:\n",
      "    styles = f.read()\n",
      "    \n",
      "HTML(styles)\n",
      "\n",
      "name = '2015-03-16-outlier_detection'\n",
      "\n",
      "html = \"\"\"\n",
      "<small>\n",
      "<p> This post was written as an IPython notebook.  It is available for\n",
      "<a href=\"http://ocefpaf.github.com/python4oceanographers/downloads/\n",
      "notebooks/%s.ipynb\">download</a> or as a static\n",
      "<a href=\"http://nbviewer.ipython.org/url/ocefpaf.github.com/\n",
      "python4oceanographers/downloads/notebooks/%s.ipynb\">html</a>.</p>\n",
      "<p></p>\n",
      "%s \"\"\" % (name, name, html)\n",
      "\n",
      "%matplotlib inline\n",
      "\n",
      "import seaborn\n",
      "from datetime import datetime\n",
      "\n",
      "title = \"3 ways to remove outliers from your data\"\n",
      "hour = datetime.utcnow().strftime('%H:%M')\n",
      "comments=\"true\"\n",
      "\n",
      "date = '-'.join(name.split('-')[:3])\n",
      "slug = '-'.join(name.split('-')[3:])\n",
      "\n",
      "metadata = dict(title=title,\n",
      "                date=date,\n",
      "                hour=hour,\n",
      "                comments=comments,\n",
      "                slug=slug,\n",
      "                name=name)\n",
      "\n",
      "markdown = \"\"\"Title: {title}\n",
      "date:  {date} {hour}\n",
      "comments: {comments}\n",
      "slug: {slug}\n",
      "\n",
      "{{% notebook {name}.ipynb cells[1:] %}}\n",
      "\"\"\".format(**metadata)\n",
      "\n",
      "content = os.path.abspath(os.path.join(os.getcwd(), os.pardir, os.pardir, '{}.md'.format(name)))\n",
      "with open('{}'.format(content), 'w') as f:\n",
      "    f.writelines(markdown)"
     ],
     "language": "python",
     "metadata": {},
     "outputs": [],
     "prompt_number": 1
    },
    {
     "cell_type": "markdown",
     "metadata": {},
     "source": [
      "According to Google Analytics, my post\n",
      "[Dealing with spiky data](https://ocefpaf.github.io/python4oceanographers/blog/2013/05/20/spikes),\n",
      "is by far the most visited.  I think that the reasons are: it is one the\n",
      "oldest post on this blog and it is a real problem that people have to\n",
      "deal everyday.\n",
      "\n",
      "Recently I found an amazing series of post by Bugra on how to perform \n",
      "outlier detection using\n",
      "[FFT, median filtering](http://bugra.github.io/work/notes/2014-03-31/outlier-detection-in-time-series-signals-fft-median-filtering/),\n",
      "and even using\n",
      "[Gaussian processes](http://bugra.github.io/work/notes/2014-05-11/robust-regression-and-outlier-detection-via-gaussian-processes/)\n",
      "and\n",
      "[MCMC](http://bugra.github.io/work/notes/2014-04-26/outlier-detection-markov-chain-monte-carlo-via-pymc/)\n",
      "\n",
      "I will test out the low hanging fruit, the FFT and median filtering using the\n",
      "same data from my\n",
      "[original post](https://ocefpaf.github.io/python4oceanographers/blog/2013/05/20/spikes)."
     ]
    },
    {
     "cell_type": "code",
     "collapsed": false,
     "input": [
      "from datetime import datetime\n",
      "from pandas import read_table\n",
      "\n",
      "fname = './data/spikey_v.dat'\n",
      "cols = ['j', 'u', 'v', 'temp', 'sal', 'y', 'mn', 'd', 'h', 'mi']\n",
      "\n",
      "df = read_table(fname , delim_whitespace=True, names=cols)\n",
      "\n",
      "df.index = [datetime(*x) for x in zip(df['y'], df['mn'], df['d'], df['h'], df['mi'])]\n",
      "df = df.drop(['y', 'mn', 'd', 'h', 'mi'], axis=1)\n",
      "\n",
      "df.head()"
     ],
     "language": "python",
     "metadata": {},
     "outputs": [
      {
       "html": [
        "<div style=\"max-height:1000px;max-width:1500px;overflow:auto;\">\n",
        "<table border=\"1\" class=\"dataframe\">\n",
        "  <thead>\n",
        "    <tr style=\"text-align: right;\">\n",
        "      <th></th>\n",
        "      <th>j</th>\n",
        "      <th>u</th>\n",
        "      <th>v</th>\n",
        "      <th>temp</th>\n",
        "      <th>sal</th>\n",
        "    </tr>\n",
        "  </thead>\n",
        "  <tbody>\n",
        "    <tr>\n",
        "      <th>1994-11-22 04:00:00</th>\n",
        "      <td> 1056.1667</td>\n",
        "      <td>-0.1</td>\n",
        "      <td> 0.0</td>\n",
        "      <td> 23.9</td>\n",
        "      <td> 34.6</td>\n",
        "    </tr>\n",
        "    <tr>\n",
        "      <th>1994-11-22 05:00:00</th>\n",
        "      <td> 1056.2083</td>\n",
        "      <td>-0.2</td>\n",
        "      <td> 0.7</td>\n",
        "      <td> 23.9</td>\n",
        "      <td> 34.6</td>\n",
        "    </tr>\n",
        "    <tr>\n",
        "      <th>1994-11-22 06:00:00</th>\n",
        "      <td> 1056.2500</td>\n",
        "      <td>-0.1</td>\n",
        "      <td> 2.0</td>\n",
        "      <td> 23.9</td>\n",
        "      <td> 34.6</td>\n",
        "    </tr>\n",
        "    <tr>\n",
        "      <th>1994-11-22 07:00:00</th>\n",
        "      <td> 1056.2917</td>\n",
        "      <td> 0.0</td>\n",
        "      <td> 3.1</td>\n",
        "      <td> 23.9</td>\n",
        "      <td> 34.6</td>\n",
        "    </tr>\n",
        "    <tr>\n",
        "      <th>1994-11-22 08:00:00</th>\n",
        "      <td> 1056.3333</td>\n",
        "      <td>-0.1</td>\n",
        "      <td> 2.7</td>\n",
        "      <td> 23.9</td>\n",
        "      <td> 34.6</td>\n",
        "    </tr>\n",
        "  </tbody>\n",
        "</table>\n",
        "</div>"
       ],
       "metadata": {},
       "output_type": "pyout",
       "prompt_number": 2,
       "text": [
        "                             j    u    v  temp   sal\n",
        "1994-11-22 04:00:00  1056.1667 -0.1  0.0  23.9  34.6\n",
        "1994-11-22 05:00:00  1056.2083 -0.2  0.7  23.9  34.6\n",
        "1994-11-22 06:00:00  1056.2500 -0.1  2.0  23.9  34.6\n",
        "1994-11-22 07:00:00  1056.2917  0.0  3.1  23.9  34.6\n",
        "1994-11-22 08:00:00  1056.3333 -0.1  2.7  23.9  34.6"
       ]
      }
     ],
     "prompt_number": 2
    },
    {
     "cell_type": "markdown",
     "metadata": {},
     "source": [
      "Lets start with Bugra's `get_median_filtered()`."
     ]
    },
    {
     "cell_type": "code",
     "collapsed": false,
     "input": [
      "import numpy as np\n",
      "\n",
      "\n",
      "def get_median_filtered(signal, threshold=3):\n",
      "    signal = signal.copy()\n",
      "    difference = np.abs(signal - np.median(signal))\n",
      "    median_difference = np.median(difference)\n",
      "    if median_difference == 0:\n",
      "        s = 0\n",
      "    else:\n",
      "        s = difference / float(median_difference)\n",
      "    mask = s > threshold\n",
      "    signal[mask] = np.median(signal)\n",
      "    return signal"
     ],
     "language": "python",
     "metadata": {},
     "outputs": [],
     "prompt_number": 3
    },
    {
     "cell_type": "code",
     "collapsed": false,
     "input": [
      "import matplotlib.pyplot as plt\n",
      "\n",
      "figsize = (7, 2.75)\n",
      "kw = dict(marker='o', linestyle='none', color='r', alpha=0.3)\n",
      "\n",
      "df['u_medf'] = get_median_filtered(df['u'].values, threshold=3)\n",
      "\n",
      "outlier_idx = np.where(df['u_medf'].values != df['u'].values)[0]\n",
      "\n",
      "fig, ax = plt.subplots(figsize=figsize)\n",
      "df['u'].plot()\n",
      "df['u'][outlier_idx].plot(**kw)\n",
      "_ = ax.set_ylim(-50, 50)"
     ],
     "language": "python",
     "metadata": {},
     "outputs": [
      {
       "metadata": {},
       "output_type": "display_data",
       "png": "[encoded data removed]",
       "text": [
        "<matplotlib.figure.Figure at 0x7f23c2839ad0>"
       ]
      }
     ],
     "prompt_number": 4
    },
    {
     "cell_type": "markdown",
     "metadata": {},
     "source": [
      "Not bad, but it missed the other two spikes. Lets go for the \n",
      "`detect_outlier_position_by_fft()`."
     ]
    },
    {
     "cell_type": "code",
     "collapsed": false,
     "input": [
      "def detect_outlier_position_by_fft(signal, threshold_freq=0.1,\n",
      "                                   frequency_amplitude=.001):\n",
      "    signal = signal.copy()\n",
      "    fft_of_signal = np.fft.fft(signal)\n",
      "    outlier = np.max(signal) if abs(np.max(signal)) > abs(np.min(signal)) else np.min(signal)\n",
      "    if np.any(np.abs(fft_of_signal[threshold_freq:]) > frequency_amplitude):\n",
      "        index_of_outlier = np.where(signal == outlier)\n",
      "        return index_of_outlier[0]\n",
      "    else:\n",
      "        return None"
     ],
     "language": "python",
     "metadata": {},
     "outputs": [],
     "prompt_number": 5
    },
    {
     "cell_type": "code",
     "collapsed": false,
     "input": [
      "outlier_idx = []\n",
      "\n",
      "y = df['u'].values\n",
      "\n",
      "opt = dict(threshold_freq=0.01, frequency_amplitude=0.001)\n",
      "\n",
      "win = 20\n",
      "for k in range(win*2, y.size, win):\n",
      "    idx = detect_outlier_position_by_fft(y[k-win:k+win], **opt)\n",
      "    if idx is not None:\n",
      "        outlier_idx.append(k + idx[0] - win)\n",
      "outlier_idx = list(set(outlier_idx))\n",
      "\n",
      "fig, ax = plt.subplots(figsize=(7, 2.75))\n",
      "\n",
      "df['u'].plot()\n",
      "df['u'][outlier_idx].plot(**kw)\n",
      "_ = ax.set_ylim(-50, 50)"
     ],
     "language": "python",
     "metadata": {},
     "outputs": [
      {
       "metadata": {},
       "output_type": "display_data",
       "png": "[encoded data removed]",
       "text": [
        "<matplotlib.figure.Figure at 0x7f239d574890>"
       ]
      }
     ]
    },
    {
     "cell_type": "markdown",
     "metadata": {},
     "source": [
      "Not sure if this method is the best here.  Maybe if I had a high frequency \n",
      "noise this method would perform better.  However, I cannot live this post\n",
      "without doing something new and better than the first one.  Inspired by\n",
      "Bugra's median filter lets try a `rolling_median` filter using pandas."
     ]
    },
    {
     "cell_type": "code",
     "collapsed": false,
     "input": [
      "from pandas import rolling_median\n",
      "\n",
      "threshold = 3\n",
      "df['pandas'] = rolling_median(df['u'], window=3, center=True).fillna(method='bfill').fillna(method='ffill')\n",
      "\n",
      "difference = np.abs(df['u'] - df['pandas'])\n",
      "outlier_idx = difference > threshold\n",
      "\n",
      "fig, ax = plt.subplots(figsize=figsize)\n",
      "df['u'].plot()\n",
      "df['u'][outlier_idx].plot(**kw)\n",
      "_ = ax.set_ylim(-50, 50)"
     ],
     "language": "python",
     "metadata": {},
     "outputs": []
    },
    {
     "cell_type": "markdown",
     "metadata": {},
     "source": [
      "Perfect!"
     ]
    },
    {
     "cell_type": "code",
     "collapsed": false,
     "input": [
      "HTML(html)"
     ],
     "language": "python",
     "metadata": {},
     "outputs": []
    }
   ],
   "metadata": {}
  }
 ]
}