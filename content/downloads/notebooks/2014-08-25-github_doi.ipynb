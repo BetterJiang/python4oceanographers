{
 "metadata": {
  "kernelspec": {
   "codemirror_mode": {
    "name": "python",
    "version": 3
   },
   "display_name": "Python 3",
   "language": "python",
   "name": "python3"
  },
  "name": "",
  "signature": "sha256:18e25edefa01b737c05c60740086b7824f2272ab4fecfeb5db2bba7a9ccd1003"
 },
 "nbformat": 3,
 "nbformat_minor": 0,
 "worksheets": [
  {
   "cells": [
    {
     "cell_type": "code",
     "collapsed": false,
     "input": [
      "import os\n",
      "from IPython.core.display import HTML\n",
      "\n",
      "with open('creative_commons.txt', 'r') as f:\n",
      "    html = f.read()\n",
      "    \n",
      "with open('./styles/custom.css', 'r') as f:\n",
      "    styles = f.read()\n",
      "    \n",
      "HTML(styles)\n",
      "\n",
      "name = '2014-08-25-github_doi'\n",
      "\n",
      "html = \"\"\"\n",
      "<small>\n",
      "<p> This post was written as an IPython notebook.  It is available for\n",
      "<a href=\"http://ocefpaf.github.com/python4oceanographers/downloads/\n",
      "notebooks/%s.ipynb\">download</a> or as a static\n",
      "<a href=\"http://nbviewer.ipython.org/url/ocefpaf.github.com/\n",
      "python4oceanographers/downloads/notebooks/%s.ipynb\">html</a>.</p>\n",
      "<p></p>\n",
      "%s \"\"\" % (name, name, html)"
     ],
     "language": "python",
     "metadata": {},
     "outputs": [],
     "prompt_number": 1
    },
    {
     "cell_type": "code",
     "collapsed": false,
     "input": [
      "date = '-'.join(name.split('-')[:3])\n",
      "slug = '-'.join(name.split('-')[3:])\n",
      "\n",
      "metadata = dict(title=\"Minting DOIs for research software\",\n",
      "                date=date,\n",
      "                hour='17:00',\n",
      "                comments=\"true\",\n",
      "                slug=slug,\n",
      "                name=name)\n",
      "\n",
      "markdown = \"\"\"Title: {title}\n",
      "date:  {date} {hour}\n",
      "comments: {comments}\n",
      "slug: {slug}\n",
      "\n",
      "{{% notebook {name}.ipynb cells[2:] %}}\n",
      "\"\"\".format(**metadata)\n",
      "\n",
      "content = os.path.abspath(os.path.join(os.getcwd(), os.pardir, os.pardir, '{}.md'.format(name)))\n",
      "with open('{}'.format(content), 'w') as f:\n",
      "    f.writelines(markdown)"
     ],
     "language": "python",
     "metadata": {},
     "outputs": [],
     "prompt_number": 2
    },
    {
     "cell_type": "markdown",
     "metadata": {},
     "source": [
      "I have been a little busy this past week.  That is why this is a very short\n",
      "post, just to keep track of what I have been doing lately.\n",
      "\n",
      "[Zenodo](https://zenodo.org/) and [GitHub](https://github.com/) joined forces\n",
      "to create an easy way to make\n",
      "[citable-code](https://guides.github.com/activities/citable-code/).  You can\n",
      "generate a DOI with just 4 clicks:\n",
      "\n",
      "- Sign-in with you [GitHub account](https://zenodo.org/account/settings/github/).\n",
      "- \"Turn on\" zenodo for your software repository.\n",
      "- Create a software release for that repository.\n",
      "- Go back to [zenodo](https://zenodo.org/deposit/) and edit your DOI info.\n",
      "\n",
      "That's it!  There is even a badge for READMEs and webpages.  I already\n",
      "minted new releases of all my repositories and added DOIs to them.  Check it out:\n",
      "\n",
      "- [python-gsw](http://dx.doi.org/10.5281/zenodo.11397)\n",
      "- [python-ctd](http://dx.doi.org/10.5281/zenodo.11396)\n",
      "- [python-oceans ](http://dx.doi.org/10.5281/zenodo.11394)\n",
      "- [python-seawater](http://dx.doi.org/10.5281/zenodo.11395)\n",
      "\n",
      "Next time you use any of these packages for your research, be sure to use the DOI and make\n",
      "your research more reproducible."
     ]
    },
    {
     "cell_type": "code",
     "collapsed": false,
     "input": [
      "HTML(html)"
     ],
     "language": "python",
     "metadata": {},
     "outputs": [
      {
       "html": [
        "\n",
        "<small>\n",
        "<p> This post was written as an IPython notebook.  It is available for\n",
        "<a href=\"http://ocefpaf.github.com/python4oceanographers/downloads/\n",
        "notebooks/2014-08-25-github_doi.ipynb\">download</a> or as a static\n",
        "<a href=\"http://nbviewer.ipython.org/url/ocefpaf.github.com/\n",
        "python4oceanographers/downloads/notebooks/2014-08-25-github_doi.ipynb\">html</a>.</p>\n",
        "<p></p>\n",
        "<a rel=\"license\" href=\"http://creativecommons.org/licenses/by-sa/4.0/\"><img\n",
        "alt=\"Creative Commons License\" style=\"border-width:0\"\n",
        "src=\"http://i.creativecommons.org/l/by-sa/4.0/88x31.png\" /></a><br /><span\n",
        "xmlns:dct=\"http://purl.org/dc/terms/\"\n",
        "property=\"dct:title\">python4oceanographers</span> by <a\n",
        "xmlns:cc=\"http://creativecommons.org/ns#\" href=\"http://ocefpaf.github.io/\"\n",
        "property=\"cc:attributionName\" rel=\"cc:attributionURL\">Filipe Fernandes</a> is\n",
        "licensed under a <a rel=\"license\"\n",
        "href=\"http://creativecommons.org/licenses/by-sa/4.0/\">Creative Commons\n",
        "Attribution-ShareAlike 4.0 International License</a>.<br />Based on a work at <a\n",
        "xmlns:dct=\"http://purl.org/dc/terms/\" href=\"http://ocefpaf.github.io/\"\n",
        "rel=\"dct:source\">http://ocefpaf.github.io/</a>.\n",
        " "
       ],
       "metadata": {},
       "output_type": "pyout",
       "prompt_number": 3,
       "text": [
        "<IPython.core.display.HTML object>"
       ]
      }
     ],
     "prompt_number": 3
    }
   ],
   "metadata": {}
  }
 ]
}