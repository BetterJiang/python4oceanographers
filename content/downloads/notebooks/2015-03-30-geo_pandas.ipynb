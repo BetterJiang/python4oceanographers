{
 "metadata": {
  "name": "",
  "signature": "sha256:a11c71c1e40e1fb44bce4f34a86023aae8c2fa171fcac756f969649b0d8e608b"
 },
 "nbformat": 3,
 "nbformat_minor": 0,
 "worksheets": [
  {
   "cells": [
    {
     "cell_type": "code",
     "collapsed": false,
     "input": [
      "import os\n",
      "from IPython.core.display import HTML\n",
      "\n",
      "with open('creative_commons.txt', 'r') as f:\n",
      "    html = f.read()\n",
      "    \n",
      "name = '2015-03-30-geo_pandas'\n",
      "\n",
      "html = '''\n",
      "<small>\n",
      "<p> This post was written as an IPython notebook.\n",
      " It is available for <a href='https://ocefpaf.github.com/python4oceanographers/downloads/notebooks/%s.ipynb'>download</a>\n",
      " or as a static <a href='https://nbviewer.ipython.org/url/ocefpaf.github.com/python4oceanographers/downloads/notebooks/%s.ipynb'>html</a>.</p>\n",
      "<p></p>\n",
      "%s''' % (name, name, html)\n",
      "\n",
      "%matplotlib inline\n",
      "from matplotlib import style\n",
      "style.use('ggplot')\n",
      "\n",
      "from datetime import datetime\n",
      "\n",
      "title = \"Loading GeoJSON with geopandas\"\n",
      "hour = datetime.utcnow().strftime('%H:%M')\n",
      "comments=\"true\"\n",
      "\n",
      "date = '-'.join(name.split('-')[:3])\n",
      "slug = '-'.join(name.split('-')[3:])\n",
      "\n",
      "metadata = dict(title=title,\n",
      "                date=date,\n",
      "                hour=hour,\n",
      "                comments=comments,\n",
      "                slug=slug,\n",
      "                name=name)\n",
      "\n",
      "markdown = \"\"\"Title: {title}\n",
      "date:  {date} {hour}\n",
      "comments: {comments}\n",
      "slug: {slug}\n",
      "\n",
      "{{% notebook {name}.ipynb cells[1:] %}}\n",
      "\"\"\".format(**metadata)\n",
      "\n",
      "content = os.path.abspath(os.path.join(os.getcwd(), os.pardir, os.pardir, '{}.md'.format(name)))\n",
      "with open('{}'.format(content), 'w') as f:\n",
      "    f.writelines(markdown)"
     ],
     "language": "python",
     "metadata": {},
     "outputs": [],
     "prompt_number": 1
    },
    {
     "cell_type": "markdown",
     "metadata": {},
     "source": [
      "[Geopandas](http://geopandas.org/) is an awesome project that brings the power\n",
      "of pandas to geospatial data.  I am not sure if we can load GPX data directly,\n",
      "so for this notebook I will use a GeoJSON that I previously converted from a\n",
      "GPX.  (In a future post I will try to write a GPX reader for geopandas.)\n",
      "\n",
      "Let's load the data!"
     ]
    },
    {
     "cell_type": "code",
     "collapsed": false,
     "input": [
      "import geopandas as gpd\n",
      "\n",
      "fname = \"./data/2013-04-29-Running.geojson\"\n",
      "\n",
      "df = gpd.read_file(fname)\n",
      "\n",
      "print(type(df))\n",
      "\n",
      "df"
     ],
     "language": "python",
     "metadata": {},
     "outputs": [
      {
       "output_type": "stream",
       "stream": "stdout",
       "text": [
        "<class 'geopandas.geodataframe.GeoDataFrame'>\n"
       ]
      },
      {
       "html": [
        "<div style=\"max-height:1000px;max-width:1500px;overflow:auto;\">\n",
        "<table border=\"1\" class=\"dataframe\">\n",
        "  <thead>\n",
        "    <tr style=\"text-align: right;\">\n",
        "      <th></th>\n",
        "      <th>geometry</th>\n",
        "    </tr>\n",
        "  </thead>\n",
        "  <tbody>\n",
        "    <tr>\n",
        "      <th>0</th>\n",
        "      <td>(LINESTRING (-46.7350076045841 -23.55963248759...</td>\n",
        "    </tr>\n",
        "  </tbody>\n",
        "</table>\n",
        "</div>"
       ],
       "metadata": {},
       "output_type": "pyout",
       "prompt_number": 2,
       "text": [
        "                                            geometry\n",
        "0  (LINESTRING (-46.7350076045841 -23.55963248759..."
       ]
      }
     ],
     "prompt_number": 2
    },
    {
     "cell_type": "markdown",
     "metadata": {},
     "source": [
      "That is a `GeoDataFrame` with only one column.  Let's see if slicing it\n",
      "we get GeoSeries."
     ]
    },
    {
     "cell_type": "code",
     "collapsed": false,
     "input": [
      "df = df.ix[0]\n",
      "\n",
      "print('{!r}'.format(type(df)))"
     ],
     "language": "python",
     "metadata": {},
     "outputs": [
      {
       "output_type": "stream",
       "stream": "stdout",
       "text": [
        "<class 'pandas.core.series.Series'>\n"
       ]
      }
     ],
     "prompt_number": 3
    },
    {
     "cell_type": "markdown",
     "metadata": {},
     "source": [
      "Apparently not.  As you can see the \"Geo\" type was not preserved.\n",
      "To fix that we can just call the `GeoSeries` method on the pandas\n",
      "`Series` object."
     ]
    },
    {
     "cell_type": "code",
     "collapsed": false,
     "input": [
      "series = gpd.GeoSeries(df)\n",
      "type(series)"
     ],
     "language": "python",
     "metadata": {},
     "outputs": [
      {
       "metadata": {},
       "output_type": "pyout",
       "prompt_number": 4,
       "text": [
        "geopandas.geoseries.GeoSeries"
       ]
      }
     ],
     "prompt_number": 4
    },
    {
     "cell_type": "markdown",
     "metadata": {},
     "source": [
      "Now let's explore what is in this `GeoSeries` object."
     ]
    },
    {
     "cell_type": "code",
     "collapsed": false,
     "input": [
      "series.total_bounds  # Nice tuple that we can use for axis lims/bbox."
     ],
     "language": "python",
     "metadata": {},
     "outputs": [
      {
       "metadata": {},
       "output_type": "pyout",
       "prompt_number": 5,
       "text": [
        "(-46.737991729751229,\n",
        " -23.564499272033572,\n",
        " -46.713051293045282,\n",
        " -23.551835222169757)"
       ]
      }
     ],
     "prompt_number": 5
    },
    {
     "cell_type": "code",
     "collapsed": false,
     "input": [
      "series.bounds  # Same as above, but as a DataFrame."
     ],
     "language": "python",
     "metadata": {},
     "outputs": [
      {
       "html": [
        "<div style=\"max-height:1000px;max-width:1500px;overflow:auto;\">\n",
        "<table border=\"1\" class=\"dataframe\">\n",
        "  <thead>\n",
        "    <tr style=\"text-align: right;\">\n",
        "      <th></th>\n",
        "      <th>minx</th>\n",
        "      <th>miny</th>\n",
        "      <th>maxx</th>\n",
        "      <th>maxy</th>\n",
        "    </tr>\n",
        "  </thead>\n",
        "  <tbody>\n",
        "    <tr>\n",
        "      <th>geometry</th>\n",
        "      <td>-46.737992</td>\n",
        "      <td>-23.564499</td>\n",
        "      <td>-46.713051</td>\n",
        "      <td>-23.551835</td>\n",
        "    </tr>\n",
        "  </tbody>\n",
        "</table>\n",
        "</div>"
       ],
       "metadata": {},
       "output_type": "pyout",
       "prompt_number": 6,
       "text": [
        "               minx       miny       maxx       maxy\n",
        "geometry -46.737992 -23.564499 -46.713051 -23.551835"
       ]
      }
     ],
     "prompt_number": 6
    },
    {
     "cell_type": "code",
     "collapsed": false,
     "input": [
      "deg2km = 111\n",
      "\n",
      "series.length * deg2km"
     ],
     "language": "python",
     "metadata": {},
     "outputs": [
      {
       "metadata": {},
       "output_type": "pyout",
       "prompt_number": 7,
       "text": [
        "geometry    7.278114\n",
        "dtype: float64"
       ]
      }
     ],
     "prompt_number": 7
    },
    {
     "cell_type": "code",
     "collapsed": false,
     "input": [
      "series.centroid"
     ],
     "language": "python",
     "metadata": {},
     "outputs": [
      {
       "metadata": {},
       "output_type": "pyout",
       "prompt_number": 8,
       "text": [
        "geometry    POINT (-46.72445652998366 -23.55928803359001)\n",
        "dtype: object"
       ]
      }
     ],
     "prompt_number": 8
    },
    {
     "cell_type": "markdown",
     "metadata": {},
     "source": [
      "The `GeoSeries` and `GeoDataFrame` have plenty\n",
      "[more](http://geopandas.org/user.html#examples) useful method\n",
      "and properties that I did not show here.  I will address some of them\n",
      "in another post.\n",
      "\n",
      "Let's finish this with my favorite feature, plotting!"
     ]
    },
    {
     "cell_type": "code",
     "collapsed": false,
     "input": [
      "ax = series.plot()"
     ],
     "language": "python",
     "metadata": {},
     "outputs": [
      {
       "metadata": {},
       "output_type": "display_data",
       "png": "[encoded data removed]",
       "text": [
        "<matplotlib.figure.Figure at 0x7fbb6aa4d490>"
       ]
      }
     ],
     "prompt_number": 9
    },
    {
     "cell_type": "markdown",
     "metadata": {},
     "source": [
      "Better yet, let's plot it as UTM instead of WGS84."
     ]
    },
    {
     "cell_type": "code",
     "collapsed": false,
     "input": [
      "original = dict(ellps='WGS84', datum='WGS84', proj='longlat')\n",
      "\n",
      "series.crs = original\n",
      "\n",
      "target = dict(ellps='WGS84', datum='WGS84', proj='utm', zone=23, units='km', no_defs=True)\n",
      "\n",
      "ax = series.to_crs(crs=target).plot()"
     ],
     "language": "python",
     "metadata": {},
     "outputs": [
      {
       "metadata": {},
       "output_type": "display_data",
       "png": "[encoded data removed]",
       "text": [
        "<matplotlib.figure.Figure at 0x7fbb8799afd0>"
       ]
      }
     ],
     "prompt_number": 10
    },
    {
     "cell_type": "markdown",
     "metadata": {},
     "source": [
      "PS: Here is an \"eastern egg\" that I found out while writing this post.\n",
      "IPython notebook rich display renders Shapely objects."
     ]
    },
    {
     "cell_type": "code",
     "collapsed": false,
     "input": [
      "print('{!r}'.format(type(series.values[0])))\n",
      "\n",
      "series.values[0]"
     ],
     "language": "python",
     "metadata": {},
     "outputs": [
      {
       "output_type": "stream",
       "stream": "stdout",
       "text": [
        "<class 'shapely.geometry.multilinestring.MultiLineString'>\n"
       ]
      },
      {
       "metadata": {},
       "output_type": "pyout",
       "prompt_number": 11,
       "svg": [
        "<svg xmlns=\"http://www.w3.org/2000/svg\" xmlns:xlink=\"http://www.w3.org/1999/xlink\" width=\"100.0\" height=\"100.0\" viewBox=\"-46.7389893472 -23.5654968895 0.0269356716424 0.0146592848003\" preserveAspectRatio=\"xMinYMin meet\"><g transform=\"matrix(1,0,0,-1,0,-47.1163344942)\"><g><polyline fill=\"none\" stroke=\"#66cc99\" stroke-width=\"0.000538713432848\" points=\"-46.7350076046,-23.5596324876 -46.7351684533,-23.5596151371 -46.7352716345,-23.559613796 -46.735469196,-23.5596232675 -46.7355783284,-23.5596243571 -46.7357053142,-23.559608683 -46.7358311266,-23.5596106108 -46.7359794024,-23.5595821124 -46.7361019459,-23.5596117005 -46.736225076,-23.5596225969 -46.7363586836,-23.5596326552 -46.7364833225,-23.5596260335 -46.7365860008,-23.5596970282 -46.7367580812,-23.559683701 -46.7368629389,-23.559672134 -46.7370372824,-23.5596063361 -46.7371397931,-23.5596094374 -46.7372720595,-23.559611449 -46.7373645958,-23.5595117882 -46.7374394462,-23.5594248679 -46.7376148794,-23.5594179109 -46.737755863,-23.5594186652 -46.7378758918,-23.5594252031 -46.7379917298,-23.559415061 -46.7379728705,-23.5592988878 -46.7378697731,-23.5592541285 -46.7377608921,-23.5591496062 -46.7376517598,-23.5590814613 -46.7375562899,-23.5590082034 -46.7374656815,-23.5589589179 -46.7373588122,-23.5588533897 -46.7372614145,-23.5587678105 -46.7371449061,-23.558768481 -46.7370486818,-23.5586863384 -46.736964779,-23.5585926287 -46.7368620168,-23.5585218016 -46.7367708217,-23.558412334 -46.7367149983,-23.5583161097 -46.7366066203,-23.5582315363 -46.7365062889,-23.5582230706 -46.7363533191,-23.5582110845 -46.7362526525,-23.5581527464 -46.736125499,-23.558122823 -46.7360397521,-23.5580597073 -46.7359435279,-23.5579929873 -46.735840179,-23.5579064023 -46.7357435357,-23.5578382574 -46.7356496584,-23.5577814281 -46.7355652526,-23.5577159654 -46.735445559,-23.557640193 -46.7353395279,-23.5575686954 -46.7352578882,-23.5575184878 -46.7351624183,-23.5574583057 -46.735061584,-23.5574271251 -46.7349153198,-23.5573795158 -46.7348033376,-23.5573391151 -46.7347607575,-23.5571912583 -46.7347370367,-23.5570960399 -46.7346707359,-23.5570235364 -46.7345917784,-23.5569253843 -46.734483568,-23.5568848159 -46.7343834043,-23.5568232089 -46.7342898622,-23.5567605123 -46.7341876868,-23.5566770285 -46.7341070529,-23.5565783735 -46.7340508942,-23.5564876813 -46.733975457,-23.5563909542 -46.7339118384,-23.5562950652 -46.7339012772,-23.5561866872 -46.7338611279,-23.5560990963 -46.7338304501,-23.5560122598 -46.7337431945,-23.5559107549 -46.7336732894,-23.5558105912 -46.733626686,-23.5557192285 -46.7335601337,-23.5556503292 -46.7334731296,-23.5555658396 -46.7334211618,-23.5554696154 -46.7333651707,-23.5553214233 -46.733297864,-23.5552008078 -46.7332573794,-23.5551167373 -46.7331956048,-23.5550236981 -46.7331360932,-23.5549456626 -46.7330767494,-23.554844493 -46.7330127116,-23.5547475144 -46.7329574749,-23.5546690598 -46.7328853905,-23.5545252264 -46.7328257952,-23.5544150043 -46.7327627633,-23.5543116555 -46.7327300739,-23.5542129166 -46.7326876614,-23.5540885292 -46.7326261383,-23.5539760441 -46.7325558979,-23.5538783111 -46.7325054388,-23.5537854396 -46.7324195243,-23.5536582023 -46.7323587555,-23.5535518359 -46.7323074583,-23.5534391832 -46.7322548199,-23.553338768 -46.7322052829,-23.5532300547 -46.732144095,-23.5531086009 -46.7320692446,-23.5529996362 -46.7319789715,-23.5528653581 -46.7319283448,-23.5527638532 -46.7318701744,-23.5526356939 -46.7318205535,-23.552541649 -46.7317072302,-23.5525632743 -46.7316189688,-23.5524720792 -46.7315543443,-23.5523659643 -46.7314654123,-23.5522507131 -46.7313888017,-23.5521467775 -46.7313362472,-23.552057175 -46.7312662583,-23.551968243 -46.7311717104,-23.5518754553 -46.7310733907,-23.5518352222 -46.7309320718,-23.5518546682 -46.7308180779,-23.5518914647 -46.7306916788,-23.5518968292 -46.7305846419,-23.5519441869 -46.7304855678,-23.5520144273 -46.7303876672,-23.5520866793 -46.7302611843,-23.5521416645 -46.7301545665,-23.5522128269 -46.7300552409,-23.5522555746 -46.729906546,-23.5523069557 -46.7297645565,-23.5523727536 -46.7296400014,-23.5524490289 -46.7295235768,-23.5524902679 -46.7294184677,-23.5525499471 -46.7293048929,-23.5526162479 -46.7292033043,-23.5526982229 -46.7292248458,-23.5528133903 -46.7290564533,-23.5528007336 -46.7289518472,-23.5528195091 -46.7288628314,-23.5528856423 -46.7286830395,-23.5529684555 -46.7285179999,-23.5530067608 -46.7284017429,-23.5530299786 -46.728233099,-23.5531054996 -46.7279427499,-23.553227121 -46.727825487,-23.5533075035 -46.7276601121,-23.5533346608 -46.7274997663,-23.5533779114 -46.7273544241,-23.5534738004 -46.7272629775,-23.5535482317 -46.7271593772,-23.5536058154 -46.727056196,-23.5536636505 -46.726958463,-23.5537459608 -46.7267237697,-23.5537764709 -46.7264981288,-23.5538571049 -46.726349853,-23.5539269261 -46.726250276,-23.5539684165 -46.7261539679,-23.5540060513 -46.7260667123,-23.5540865175 -46.7259239685,-23.5541792214 -46.7257079668,-23.5542961489 -46.7255874351,-23.5543951392 -46.7253866885,-23.5545783676 -46.7252553441,-23.5546403099 -46.7251493968,-23.5547009949 -46.7250301223,-23.5547674634 -46.7249068245,-23.554880619 -46.7247976083,-23.5549226962 -46.7246769089,-23.5550402105 -46.7244832031,-23.555140039 -46.7243456561,-23.55522478 -46.7242179159,-23.5553717986 -46.7240345199,-23.5554518458 -46.7239062767,-23.5555307195 -46.7235767003,-23.5556392651 -46.7234798055,-23.5557015426 -46.723327674,-23.5557157919 -46.7232325394,-23.5557810031 -46.7231111694,-23.5558857769 -46.7230276857,-23.5559529159 -46.7229362391,-23.5560188815 -46.7227954231,-23.5560939834 -46.7226980254,-23.5561708454 -46.7226194032,-23.556230776 -46.7224562913,-23.5563084763 -46.722330898,-23.5563930497 -46.7222070135,-23.5564810596 -46.7220555525,-23.5565549042 -46.7219976336,-23.5566372145 -46.7218916863,-23.5567074548 -46.7217583302,-23.5567818023 -46.7216564063,-23.5568121448 -46.7215179373,-23.5568206105 -46.7213975731,-23.5568334348 -46.7212767899,-23.5568784457 -46.7211807333,-23.5569211934 -46.72105534,-23.5569609236 -46.7209237441,-23.5570082814 -46.7208115943,-23.5570632666 -46.7207008693,-23.5570990574 -46.7206452973,-23.5571755841 -46.7205546889,-23.5572559666 -46.7204306368,-23.557303492 -46.7203234322,-23.5573435575 -46.7202117015,-23.5574089363 -46.7200258747,-23.5574699566 -46.7198859807,-23.5575520154 -46.7198216077,-23.5576375946 -46.7197122239,-23.5576898139 -46.7196198553,-23.5577677656 -46.7195222061,-23.5578154586 -46.7193309311,-23.5577910673 -46.7190920468,-23.5577593837 -46.7189549189,-23.5578067414 -46.7188651487,-23.5578654148 -46.7187105026,-23.5579818394 -46.7186332215,-23.5580549296 -46.7184907291,-23.5580501519 -46.718361564,-23.5580990184 -46.718260562,-23.558134893 -46.717990078,-23.5582271777 -46.7178777605,-23.5582621302 -46.7175444961,-23.5582623817 -46.7173789535,-23.5583744477 -46.7172856629,-23.5585071333 -46.7171746027,-23.5585751105 -46.7170896102,-23.5586663894 -46.7169403285,-23.5586362146 -46.7168296035,-23.5587002523 -46.7167112511,-23.5587455146 -46.7166044656,-23.5588072054 -46.7164912261,-23.5588596761 -46.7163639888,-23.5588890128 -46.7162542697,-23.5589598399 -46.7161287088,-23.5590382945 -46.7159277108,-23.5591776017 -46.7157137208,-23.5591915995 -46.7156130541,-23.5592338443 -46.7154952884,-23.5593001451 -46.7153751757,-23.5593915917 -46.7151789553,-23.5595251992 -46.7150524724,-23.5596116167 -46.7149269953,-23.5596778337 -46.7148239817,-23.5596766602 -46.7147357203,-23.5597650893 -46.714604795,-23.5598531831 -46.7144622188,-23.5598803405 -46.7143469676,-23.5599198192 -46.7142203171,-23.5599548556 -46.714112442,-23.5600256827 -46.7140516732,-23.5601269361 -46.7139755655,-23.5602122638 -46.7138230149,-23.5603096616 -46.7137512658,-23.5603916366 -46.7136754934,-23.5604569316 -46.7135866452,-23.5605301894 -46.7135081068,-23.5606334545 -46.7134231981,-23.5607059579 -46.7133344337,-23.5607688222 -46.7132877465,-23.5608671419 -46.7132609244,-23.5609999951 -46.7132260557,-23.561131591 -46.7132097948,-23.5613108799 -46.7131349444,-23.5616977047 -46.7131150793,-23.5618241876 -46.7130990699,-23.5619210824 -46.7130953819,-23.5620500799 -46.71310829,-23.5621719528 -46.713111978,-23.5622880422 -46.7131188512,-23.5624141898 -46.7131273169,-23.5625562631 -46.7131077871,-23.5626810696 -46.7131193541,-23.5628401581 -46.7131237965,-23.5629379749 -46.7130891792,-23.5630274098 -46.7131507024,-23.5631563235 -46.7130816355,-23.5633929446 -46.713051293,-23.5635366105 -46.7131014168,-23.5638159793 -46.7131538875,-23.5639982019 -46.7131830566,-23.5641475674 -46.7132258043,-23.5642652493 -46.7132874113,-23.564409418 -46.7133709788,-23.564499272 -46.7135104537,-23.5644988529 -46.7135969549,-23.5644431971 -46.7137206718,-23.5644698516 -46.7138111126,-23.5644089151 -46.7139139585,-23.5643350706 -46.7140829377,-23.5642801691 -46.7141789105,-23.5642109346 -46.7142392602,-23.564135246 -46.7143327184,-23.5640706215 -46.714479737,-23.5639851261 -46.7145715188,-23.5639074259 -46.7147508077,-23.563843891 -46.7148562521,-23.5638004728 -46.7149770353,-23.5637179948 -46.7150580883,-23.5636557173 -46.7152158357,-23.5636164062 -46.7153562326,-23.5635320842 -46.7154900078,-23.5635019094 -46.7156481743,-23.5634753387 -46.7158140521,-23.5633921903 -46.7159237713,-23.5635202657 -46.7160127033,-23.5634098761 -46.7161292955,-23.5633069463 -46.7161978595,-23.5632014181 -46.716261562,-23.563125059 -46.7163768969,-23.5630557407 -46.7168516479,-23.5629242286 -46.7169476207,-23.5628831573 -46.7170285899,-23.5628113244 -46.7171118222,-23.5627627932 -46.71721383,-23.5627105739 -46.7173184361,-23.5626482964 -46.7174203601,-23.5625945684 -46.7175667081,-23.5625498928 -46.7176901735,-23.5625027027 -46.7178340908,-23.5624153633 -46.7179341707,-23.5623458773 -46.7180329934,-23.5622799117 -46.718131816,-23.5622338112 -46.7182108574,-23.56213063 -46.7182686925,-23.5620172229 -46.7183114402,-23.5619231779 -46.7183654197,-23.5618451424 -46.7184459697,-23.561786972 -46.7185641546,-23.5617638379 -46.7186622228,-23.5617556237 -46.7188125104,-23.5617180727 -46.7189284321,-23.5616851319 -46.7190370616,-23.5616592318 -46.7191343755,-23.5616157297 -46.7192342039,-23.5616002232 -46.7193294223,-23.5615586489 -46.7194024287,-23.5614913423 -46.7194954678,-23.5614222754 -46.7195687257,-23.5613443237 -46.7196102999,-23.5612230375 -46.7196466774,-23.5611009132 -46.7196632735,-23.5609975643 -46.7196943704,-23.5608743504 -46.719777016,-23.5607570037 -46.7198533751,-23.5606538225 -46.7199700512,-23.5605668183 -46.7200976238,-23.5605508089 -46.7202251963,-23.5605420917 -46.7205188982,-23.5604899563 -46.7206169665,-23.5605612863 -46.7207392585,-23.5606448539 -46.7208504863,-23.5606912058 -46.7209347244,-23.5607497953 -46.721008569,-23.5608132463 -46.7212120816,-23.5610020068 -46.7212645523,-23.5611227062 -46.7212889437,-23.561257571 -46.7212990858,-23.5613502748 -46.7212718446,-23.5616237763 -46.721259607,-23.5617848765 -46.7211617902,-23.5618838668 -46.7210672423,-23.5619489942 -46.720983088,-23.562005572 -46.7209005263,-23.5620610602 -46.7207799107,-23.5621006228 -46.7206316348,-23.5621009581 -46.7204696964,-23.5620839428 -46.7204194888,-23.5621631518 -46.7203614861,-23.5622768104 -46.7202956043,-23.5623608809 -46.720165601,-23.5624234099 -46.7200734001,-23.5624773894 -46.7199792713,-23.5625672434 -46.7200550437,-23.5626741126 -46.7201458197,-23.5627345461 -46.7202663515,-23.5627746955 -46.7204665951,-23.5629379749 -46.7205889709,-23.5629630368 -46.7206866201,-23.5630048625 -46.7208277714,-23.5630079638 -46.7209647316,-23.5630043596 -46.7211189587,-23.562975945 -46.7212394066,-23.5629639588 -46.7213657219,-23.5630215425 -46.7214685678,-23.5630837362 -46.7214970663,-23.5631911084 -46.7215552367,-23.5633148253 -46.7215781193,-23.5634047631 -46.7216776125,-23.5634731594 -46.7217185162,-23.5635692999 -46.7218222003,-23.5636630934 -46.7220444046,-23.5636697151 -46.7221525311,-23.5636960343 -46.7222475819,-23.5638343357 -46.7223516852,-23.5638704617 -46.7224790901,-23.5638916679 -46.7225386854,-23.5639650095 -46.7226455547,-23.5640136246 -46.7227857001,-23.5640589707 -46.7229114287,-23.5640811827 -46.7230313737,-23.5640932526 -46.723148888,-23.5640733875 -46.7232969124,-23.564046314 -46.7234076373,-23.56406115 -46.7238997389,-23.5639631655 -46.7238247208,-23.5639005527 -46.7239122279,-23.5638265405 -46.7240980547,-23.5637039132 -46.7242100369,-23.563678097 -46.7243362684,-23.5635703895 -46.7244613264,-23.5635525361 -46.7248291243,-23.5633655358 -46.7249867879,-23.5632404778 -46.7250596266,-23.5631530546 -46.7251796555,-23.5630747676 -46.7253061384,-23.5629999172 -46.725477716,-23.5628745239 -46.725612497,-23.5628337879 -46.7257684004,-23.562769834 -46.7259180173,-23.562689703 -46.7260752618,-23.5626161937 -46.7261874955,-23.5625480488 -46.7264351808,-23.5624379106 -46.7266229354,-23.5624861065 -46.7267782521,-23.5625705961 -46.7268620711,-23.5626184568 -46.726961229,-23.5628496297 -46.7270504963,-23.5629257374 -46.727143703,-23.5629652161 -46.7272884585,-23.5630870052 -46.7274374887,-23.5631227959 -46.7276029475,-23.5630483646 -46.7277016025,-23.5628595203 -46.7277471162,-23.5627264157 -46.7277842481,-23.5626224801 -46.7278295942,-23.5625143535 -46.7279278301,-23.5623322148 -46.7279776186,-23.5622444563 -46.7280285805,-23.5621560272 -46.728119608,-23.5619192384 -46.7282235436,-23.5618403647 -46.7283560615,-23.5617424641 -46.728428565,-23.5616657697 -46.7285345122,-23.5616035759 -46.7286400404,-23.5615664441 -46.7287174053,-23.5615008138 -46.7288429663,-23.5614278913 -46.72894774,-23.5613850597 -46.7295443639,-23.561275173 -46.729705967,-23.5611773562 -46.7296382412,-23.5610697325 -46.7297756206,-23.5609304253 -46.7298903689,-23.5608637892 -46.7300374713,-23.5607700795 -46.7302102223,-23.5606475361 -46.7303249706,-23.5605837498 -46.7304296605,-23.5605643876 -46.7306130566,-23.5604703426 -46.7306713108,-23.5603856854 -46.7308277171,-23.560405802 -46.7309184093,-23.5603666585 -46.7310271226,-23.5603324603 -46.7312093452,-23.5603407584 -46.7314921506,-23.5603563488 -46.7317342199,-23.5603418481 -46.7321101483,-23.5604330432 -46.7322121561,-23.5604376532\" opacity=\"0.8\" /></g></g></svg>"
       ],
       "text": [
        "<shapely.geometry.multilinestring.MultiLineString at 0x7fbb8417b210>"
       ]
      }
     ],
     "prompt_number": 11
    },
    {
     "cell_type": "code",
     "collapsed": false,
     "input": [
      "HTML(html)"
     ],
     "language": "python",
     "metadata": {},
     "outputs": [
      {
       "html": [
        "\n",
        "<small>\n",
        "<p> This post was written as an IPython notebook.\n",
        " It is available for <a href='https://ocefpaf.github.com/python4oceanographers/downloads/notebooks/2015-03-30-geo_pandas.ipynb'>download</a>\n",
        " or as a static <a href='https://nbviewer.ipython.org/url/ocefpaf.github.com/python4oceanographers/downloads/notebooks/2015-03-30-geo_pandas.ipynb'>html</a>.</p>\n",
        "<p></p>\n",
        "<a rel=\"license\" href=\"https://creativecommons.org/licenses/by-sa/4.0/\"><img\n",
        "alt=\"Creative Commons License\" style=\"border-width:0\"\n",
        "src=\"https://i.creativecommons.org/l/by-sa/4.0/88x31.png\" /></a><br /><span\n",
        "xmlns:dct=\"https://purl.org/dc/terms/\"\n",
        "property=\"dct:title\">python4oceanographers</span> by <a\n",
        "xmlns:cc=\"https://creativecommons.org/ns#\" href=\"https://ocefpaf.github.io/\"\n",
        "property=\"cc:attributionName\" rel=\"cc:attributionURL\">Filipe Fernandes</a> is\n",
        "licensed under a <a rel=\"license\"\n",
        "href=\"https://creativecommons.org/licenses/by-sa/4.0/\">Creative Commons\n",
        "Attribution-ShareAlike 4.0 International License</a>.<br />Based on a work at <a\n",
        "xmlns:dct=\"https://purl.org/dc/terms/\" href=\"https://ocefpaf.github.io/\"\n",
        "rel=\"dct:source\">https://ocefpaf.github.io/</a>.\n"
       ],
       "metadata": {},
       "output_type": "pyout",
       "prompt_number": 12,
       "text": [
        "<IPython.core.display.HTML at 0x7f2d71d3d350>"
       ]
      }
     ],
     "prompt_number": 12
    }
   ],
   "metadata": {}
  }
 ]
}