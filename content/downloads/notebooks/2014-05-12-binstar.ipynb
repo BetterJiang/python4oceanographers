{
 "metadata": {
  "name": "",
  "signature": "sha256:c81675c342b52ee0a49e3821596aaf262f3a353dc95ab5c18d1ddc495565f0fe"
 },
 "nbformat": 3,
 "nbformat_minor": 0,
 "worksheets": [
  {
   "cells": [
    {
     "cell_type": "code",
     "collapsed": false,
     "input": [
      "from IPython.core.display import HTML\n",
      "\n",
      "with open('creative_commons.txt', 'r') as f:\n",
      "    html = f.read()\n",
      "    \n",
      "with open('./styles/custom.css', 'r') as f:\n",
      "    styles = f.read()\n",
      "    \n",
      "HTML(styles)\n",
      "\n",
      "name = '2014-05-12-binstar'\n",
      "\n",
      "html = \"\"\"\n",
      "<small>\n",
      "<p> This post was written as an IPython notebook.  It is available for\n",
      "<a href=\"http://ocefpaf.github.com/python4oceanographers/downloads/\n",
      "notebooks/%s.ipynb\">download</a> or as a static\n",
      "<a href=\"http://nbviewer.ipython.org/url/ocefpaf.github.com/\n",
      "python4oceanographers/downloads/notebooks/%s.ipynb\">html</a>.</p>\n",
      "<p></p>\n",
      "%s \"\"\" % (name, name, html)"
     ],
     "language": "python",
     "metadata": {},
     "outputs": [],
     "prompt_number": 1
    },
    {
     "cell_type": "markdown",
     "metadata": {},
     "source": [
      "My new job is forcing me to surrender to\n",
      "[conda](http://www.continuum.io/blog/conda).  I have to say that I still prefer\n",
      "to keep all my packages at my\n",
      "[home](https://build.opensuse.org/project/monitor/home:ocefpaf) repository for\n",
      "openSUSE, but I have to admit that conda is quite useful.\n",
      "\n",
      "First we need to download Miniconda, or get the whole\n",
      "[thing](http://continuum.io/downloads), and then let conda updated itself.\n",
      "\n",
      "    wget http://repo.continuum.io/miniconda/Miniconda-3.4.2-Linux-x86_64.sh -O miniconda.sh\n",
      "\n",
      "    chmod +x miniconda.sh\n",
      "    ./miniconda.sh -b\n",
      "\n",
      "Note that I am downloading Miniconda for 64 bit Linux!  Be sure to download the\n",
      "right [file](http://conda.pydata.org/miniconda.html) for your system.\n",
      "\n",
      "\n",
      "Now we need to add `Miniconda` binaries to our path (if that is going to\n",
      "become your main python you should add that to your `.bashrc`).\n",
      "\n",
      "    export PATH=/$HOME/anaconda/bin:$PATH\n",
      "\n",
      "I always create a virtual environments for each job:\n",
      "\n",
      "    conda create --yes -n ocefpaf python=2.7\n",
      "\n",
      "And let's activate it:\n",
      "\n",
      "    source activate ocefpaf\n",
      "\n",
      "Now we are ready to install python packages.\n",
      "\n",
      "    conda install oceans\n",
      "\n",
      "That simple command should give you virtually everything you need for most of\n",
      "the posts in this blog.\n",
      "\n",
      "Once you are done with that virtual environment just type `source deactivate`\n",
      "and everything is back to normal."
     ]
    },
    {
     "cell_type": "code",
     "collapsed": false,
     "input": [
      "HTML(html)"
     ],
     "language": "python",
     "metadata": {},
     "outputs": [
      {
       "html": [
        "\n",
        "<small>\n",
        "<p> This post was written as an IPython notebook.  It is available for\n",
        "<a href=\"http://ocefpaf.github.com/python4oceanographers/downloads/\n",
        "notebooks/2014-05-12-binstar.ipynb\">download</a> or as a static\n",
        "<a href=\"http://nbviewer.ipython.org/url/ocefpaf.github.com/\n",
        "python4oceanographers/downloads/notebooks/2014-05-12-binstar.ipynb\">html</a>.</p>\n",
        "<p></p>\n",
        "<a rel=\"license\" href=\"http://creativecommons.org/licenses/by-sa/4.0/\"><img\n",
        "alt=\"Creative Commons License\" style=\"border-width:0\"\n",
        "src=\"http://i.creativecommons.org/l/by-sa/4.0/88x31.png\" /></a><br /><span\n",
        "xmlns:dct=\"http://purl.org/dc/terms/\"\n",
        "property=\"dct:title\">python4oceanographers</span> by <a\n",
        "xmlns:cc=\"http://creativecommons.org/ns#\" href=\"http://ocefpaf.github.io/\"\n",
        "property=\"cc:attributionName\" rel=\"cc:attributionURL\">Filipe Fernandes</a> is\n",
        "licensed under a <a rel=\"license\"\n",
        "href=\"http://creativecommons.org/licenses/by-sa/4.0/\">Creative Commons\n",
        "Attribution-ShareAlike 4.0 International License</a>.<br />Based on a work at <a\n",
        "xmlns:dct=\"http://purl.org/dc/terms/\" href=\"http://ocefpaf.github.io/\"\n",
        "rel=\"dct:source\">http://ocefpaf.github.io/</a>.\n",
        " "
       ],
       "metadata": {},
       "output_type": "pyout",
       "prompt_number": 2,
       "text": [
        "<IPython.core.display.HTML object>"
       ]
      }
     ],
     "prompt_number": 2
    }
   ],
   "metadata": {}
  }
 ]
}