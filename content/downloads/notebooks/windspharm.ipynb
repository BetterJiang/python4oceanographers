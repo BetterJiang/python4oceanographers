{
 "metadata": {
  "name": "",
  "signature": "sha256:55d3daea4b56f4ff25ab86b4a09b1ddaae52b380da931ba746c38dfcf728df74"
 },
 "nbformat": 3,
 "nbformat_minor": 0,
 "worksheets": [
  {
   "cells": [
    {
     "cell_type": "code",
     "collapsed": false,
     "input": [
      "from IPython.core.display import HTML\n",
      "\n",
      "with open('creative_commons.txt', 'r') as f:\n",
      "    html = f.read()\n",
      "    \n",
      "with open('./styles/custom.css', 'r') as f:\n",
      "    styles = f.read()\n",
      "    \n",
      "HTML(styles)\n",
      "\n",
      "name = 'windspharm'\n",
      "\n",
      "html = \"\"\"\n",
      "<small>\n",
      "<p> This post was written as an IPython notebook.  It is available for\n",
      "<a href=\"http://ocefpaf.github.com/python4oceanographers/downloads/\n",
      "notebooks/%s.ipynb\">download</a> or as a static\n",
      "<a href=\"http://nbviewer.ipython.org/url/ocefpaf.github.com/\n",
      "python4oceanographers/downloads/notebooks/%s.ipynb\">html</a>.</p>\n",
      "<p></p>\n",
      "%s \"\"\" % (name, name, html)"
     ],
     "language": "python",
     "metadata": {},
     "outputs": []
    },
    {
     "cell_type": "markdown",
     "metadata": {},
     "source": [
      "[windspharm](http://ajdawson.github.io/windspharm/)"
     ]
    },
    {
     "cell_type": "code",
     "collapsed": false,
     "input": [
      "import numpy as np\n",
      "import numpy.ma as ma\n",
      "from netCDF4 import Dataset\n",
      "import matplotlib.pyplot as plt\n",
      "\n",
      "from brewer2mpl import brewer2mpl\n",
      "from mpl_toolkits.basemap import Basemap, addcyclic\n",
      "\n",
      "from windspharm.standard import VectorWind\n",
      "from windspharm.examples import example_data_path\n",
      "from windspharm.tools import prep_data, recover_data, order_latdim"
     ],
     "language": "python",
     "metadata": {},
     "outputs": []
    },
    {
     "cell_type": "code",
     "collapsed": false,
     "input": [
      "dx = dy = slice(0, -1, 10)\n",
      "\n",
      "with Dataset('./data/mdt_cnes_cls2009_global_v1.1.nc') as nc:\n",
      "    h = nc.variables['Grid_0001'][dx, dy]\n",
      "    u = nc.variables['Grid_0002'][dx, dy]\n",
      "    v = nc.variables['Grid_0003'][dx, dy]\n",
      "    lat = nc.variables['NbLatitudes'][dy]\n",
      "    lon = nc.variables['NbLongitudes'][dx]\n",
      "    \n",
      "mask = u.mask"
     ],
     "language": "python",
     "metadata": {},
     "outputs": []
    },
    {
     "cell_type": "markdown",
     "metadata": {},
     "source": [
      "The standard interface requires that latitude and longitude be the leading\n",
      "dimensions of the input wind components, and that wind components must be\n",
      "either 2D or 3D arrays. The data read in is 3D and has latitude and\n",
      "longitude as the last dimensions. The bundled tools can make the process of\n",
      "re-shaping the data a lot easier to manage."
     ]
    },
    {
     "cell_type": "code",
     "collapsed": false,
     "input": [
      "u, info = prep_data(u, 'xy')\n",
      "v, _ = prep_data(v, 'xy')"
     ],
     "language": "python",
     "metadata": {},
     "outputs": []
    },
    {
     "cell_type": "code",
     "collapsed": false,
     "input": [
      "info"
     ],
     "language": "python",
     "metadata": {},
     "outputs": []
    },
    {
     "cell_type": "markdown",
     "metadata": {},
     "source": [
      "It is also required that the latitude dimension is north-to-south. Again the\n",
      "bundled tools make this easy."
     ]
    },
    {
     "cell_type": "code",
     "collapsed": false,
     "input": [
      "lat, u, v = order_latdim(lat, u, v)"
     ],
     "language": "python",
     "metadata": {},
     "outputs": []
    },
    {
     "cell_type": "markdown",
     "metadata": {},
     "source": [
      "Create a VectorWind instance to handle the computations."
     ]
    },
    {
     "cell_type": "code",
     "collapsed": false,
     "input": [
      "U = VectorWind(u.filled(fill_value=0), v.filled(fill_value=0))"
     ],
     "language": "python",
     "metadata": {},
     "outputs": []
    },
    {
     "cell_type": "markdown",
     "metadata": {},
     "source": [
      "Compute components of rossby wave source: absolute vorticity, divergence,\n",
      "irrotational (divergent) wind components, gradients of absolute vorticity."
     ]
    },
    {
     "cell_type": "code",
     "collapsed": false,
     "input": [
      "eta = U.absolutevorticity()\n",
      "div = U.divergence()\n",
      "uchi, vchi = U.irrotationalcomponent()\n",
      "etax, etay = U.gradient(eta)"
     ],
     "language": "python",
     "metadata": {},
     "outputs": []
    },
    {
     "cell_type": "markdown",
     "metadata": {},
     "source": [
      "Combine the components to form the Rossby wave source term. Re-shape the\n",
      "Rossby wave source array to the 4D shape of the wind components as they were\n",
      "read off files."
     ]
    },
    {
     "cell_type": "code",
     "collapsed": false,
     "input": [
      "S = -eta * div - uchi * etax + vchi * etay\n",
      "#S = recover_data(S, info)\n",
      "S = S.squeeze()"
     ],
     "language": "python",
     "metadata": {},
     "outputs": []
    },
    {
     "cell_type": "code",
     "collapsed": false,
     "input": [
      "S = ma.masked_array(S, np.flipud(mask.T))"
     ],
     "language": "python",
     "metadata": {},
     "outputs": []
    },
    {
     "cell_type": "markdown",
     "metadata": {},
     "source": [
      "Add a cyclic point for plotting purposes."
     ]
    },
    {
     "cell_type": "code",
     "collapsed": false,
     "input": [
      "S, lon = addcyclic(S, lon)\n",
      "lon, lat = np.meshgrid(lon, lat)"
     ],
     "language": "python",
     "metadata": {},
     "outputs": []
    },
    {
     "cell_type": "code",
     "collapsed": false,
     "input": [
      "S.shape, lon.shape, lat.shape"
     ],
     "language": "python",
     "metadata": {},
     "outputs": []
    },
    {
     "cell_type": "markdown",
     "metadata": {},
     "source": [
      "Plot Rossby wave source."
     ]
    },
    {
     "cell_type": "code",
     "collapsed": false,
     "input": [
      "m = Basemap(projection='robin', resolution='c',\n",
      "            lon_0=0)\n",
      "\n",
      "def make_map(projection='robin', resolution='c'):\n",
      "    fig, ax = plt.subplots(figsize=(10, 6))\n",
      "    m.drawcoastlines()\n",
      "    m.fillcontinents(color='0.85')\n",
      "    parallels = np.arange(-60, 90, 30.)\n",
      "    meridians = np.arange(-360, 360, 60.)\n",
      "    m.drawparallels(parallels, labels=[1, 0, 0, 0])\n",
      "    m.drawmeridians(meridians, labels=[0, 0, 0, 1])\n",
      "    return fig, ax"
     ],
     "language": "python",
     "metadata": {},
     "outputs": []
    },
    {
     "cell_type": "code",
     "collapsed": false,
     "input": [
      "clevs = [-10, -8, -4, -2, -1, 0, 1, 2, 4, 8, 10]\n",
      "cmap = brewer2mpl.get_map('RdBu', 'diverging', len(clevs), reverse=True).mpl_colormap\n",
      "\n",
      "fig, ax = make_map()\n",
      "cs = m.contourf(lon, lat, S*1e11, clevs, cmap=cmap,\n",
      "                extend='both', latlon=True)\n",
      "cbar = fig.colorbar(cs, orientation='vertical', shrink=0.7, extend='both')\n",
      "ax.set_title('Rossby Wave Source', fontsize=16)\n",
      "cbar.ax.set_title('$10^{-11}$s$^{-1}$')"
     ],
     "language": "python",
     "metadata": {},
     "outputs": []
    },
    {
     "cell_type": "code",
     "collapsed": false,
     "input": [
      "HTML(html)"
     ],
     "language": "python",
     "metadata": {},
     "outputs": []
    }
   ],
   "metadata": {}
  }
 ]
}