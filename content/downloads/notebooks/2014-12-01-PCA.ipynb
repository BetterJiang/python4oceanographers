{
 "metadata": {
  "kernelspec": {
   "codemirror_mode": {
    "name": "python",
    "version": 3
   },
   "display_name": "Python 3",
   "language": "python",
   "name": "python3"
  },
  "name": "",
  "signature": "sha256:39a5e816da0a897e458bc68dd30346358e3a94629bce3538331462fa09b8526a"
 },
 "nbformat": 3,
 "nbformat_minor": 0,
 "worksheets": [
  {
   "cells": [
    {
     "cell_type": "code",
     "collapsed": false,
     "input": [
      "import os\n",
      "\n",
      "from IPython.core.display import HTML\n",
      "\n",
      "with open('creative_commons.txt', 'r') as f:\n",
      "    html = f.read()\n",
      "    \n",
      "name = '2014-12-01-PCA'\n",
      "\n",
      "html = '''\n",
      "<small>\n",
      "<p> This post was written as an IPython notebook.\n",
      " It is available for <a href='https://ocefpaf.github.com/python4oceanographers/downloads/notebooks/%s.ipynb'>download</a>\n",
      " or as a static <a href='https://nbviewer.ipython.org/url/ocefpaf.github.com/python4oceanographers/downloads/notebooks/%s.ipynb'>html</a>.</p>\n",
      "<p></p>\n",
      "%s''' % (name, name, html)\n",
      "\n",
      "%matplotlib inline\n",
      "from matplotlib import style\n",
      "style.use('ggplot')\n",
      "\n",
      "from datetime import datetime\n",
      "\n",
      "title = \"Dissecando An\u00e1lise de Componentes Principais\"\n",
      "hour = datetime.utcnow().strftime('%H:%M')\n",
      "comments=\"true\"\n",
      "\n",
      "date = '-'.join(name.split('-')[:3])\n",
      "slug = '-'.join(name.split('-')[3:])\n",
      "\n",
      "metadata = dict(title=title,\n",
      "                date=date,\n",
      "                hour=hour,\n",
      "                comments=comments,\n",
      "                slug=slug,\n",
      "                name=name)\n",
      "\n",
      "markdown = \"\"\"Title: {title}\n",
      "date:  {date} {hour}\n",
      "comments: {comments}\n",
      "slug: {slug}\n",
      "\n",
      "{{% notebook {name}.ipynb cells[1:] %}}\n",
      "\"\"\".format(**metadata)\n",
      "\n",
      "content = os.path.abspath(os.path.join(os.getcwd(), os.pardir, os.pardir, '{}.md'.format(name)))\n",
      "with open('{}'.format(content), 'w') as f:\n",
      "    f.writelines(markdown)"
     ],
     "language": "python",
     "metadata": {},
     "outputs": [],
     "prompt_number": 1
    },
    {
     "cell_type": "markdown",
     "metadata": {},
     "source": [
      "- Warning 1: This post is written in Portuguese.\n",
      "- Warning 2: Most of what I have here I got from other posts/examples online.  All links are provided and I encourage you to take a look at them.\n",
      "\n",
      "A An\u00e1lise de Componentes Principais (em ingl\u00eas\n",
      "[PCA](http://en.wikipedia.org/wiki/Principal_component_analysis)) \u00e9 o nome\n",
      "comum dado \u00e0 t\u00e9cnica que usa princ\u00edpios de \u00e1lgebra linear para transformar \n",
      "vari\u00e1veis, possivelmente correlacionadas, em um n\u00famero menor de vari\u00e1veis\n",
      "chamadas de Componentes Principais (novamente em ingl\u00eas PC).\n",
      "\n",
      "A PCA \u00e9 usada em diversas aplica\u00e7\u00f5es, desde a compress\u00e3o de dados (MP3,\n",
      "JPG) at\u00e9 remo\u00e7\u00e3o de ru\u00eddos, passando pela an\u00e1lises de grande quantidade de\n",
      "dados."
     ]
    },
    {
     "cell_type": "markdown",
     "metadata": {},
     "source": [
      "## PCA do ponto de vista da Geometria Espacial\n",
      "\n",
      "Em termos gerais a PCA busca reduzir o n\u00famero de dimens\u00f5es de um set de dados.\n",
      "Projetando os dados em um novo plano.  Usando essa nova proje\u00e7\u00e3o os dados\n",
      "originais, que podem envolver diversas vari\u00e1veis, podem ser interpretados\n",
      "utilizando menos \"dimens\u00f5es.\"\n",
      "\n",
      "No set de dados reduzido podemos observar com **mais clareza** tend\u00eancias,\n",
      "padr\u00f5es e/ou *outliers*.  Mas vale lembrar que a regra: \"Se n\u00e3o est\u00e1 nos dados\n",
      "brutos n\u00e3o existe!\" \u00e9 sempre v\u00e1lida.  A PCA fornece apenas mais clareza aos\n",
      "padr\u00f5es que j\u00e1 est\u00e3o l\u00e1.\n",
      "\n",
      "Utilizaremos dois vetores 1D conhecidos $(x, y)$ para entender essa nova\n",
      "proje\u00e7\u00e3o que a PCA faz.  Note que os vetores  possuem uma clara depend\u00eancia\n",
      "linear.\n",
      "\n",
      "O primeiro passo \u00e9 remover as **m\u00e9dias** dos dados.\n",
      "\n",
      "\n",
      "(Dados e exemplo:\n",
      "[http://bekoc.blogspot.com.br/2013/12/implementing-principle-component.html](http://bekoc.blogspot.com.br/2013/12/implementing-principle-component.html))"
     ]
    },
    {
     "cell_type": "code",
     "collapsed": false,
     "input": [
      "import numpy as np\n",
      "from pandas import DataFrame\n",
      "\n",
      "x = np.array([2.5, 0.5, 2.2, 1.9, 3.1, 2.3, 2.0, 1.0, 1.5, 1.1])\n",
      "y = np.array([2.4, 0.7, 2.9, 2.2, 3.0, 2.7, 1.6, 1.1, 1.6, 0.9])\n",
      "\n",
      "Z = np.c_[x - x.mean(), y - y.mean()]\n",
      "df = DataFrame(Z, columns=['x', 'y'])\n",
      "df.index.name = 'Medidas'\n",
      "df.T"
     ],
     "language": "python",
     "metadata": {},
     "outputs": [
      {
       "html": [
        "<div style=\"max-height:1000px;max-width:1500px;overflow:auto;\">\n",
        "<table border=\"1\" class=\"dataframe\">\n",
        "  <thead>\n",
        "    <tr style=\"text-align: right;\">\n",
        "      <th>Medidas</th>\n",
        "      <th>0</th>\n",
        "      <th>1</th>\n",
        "      <th>2</th>\n",
        "      <th>3</th>\n",
        "      <th>4</th>\n",
        "      <th>5</th>\n",
        "      <th>6</th>\n",
        "      <th>7</th>\n",
        "      <th>8</th>\n",
        "      <th>9</th>\n",
        "    </tr>\n",
        "  </thead>\n",
        "  <tbody>\n",
        "    <tr>\n",
        "      <th>x</th>\n",
        "      <td> 0.69</td>\n",
        "      <td>-1.31</td>\n",
        "      <td> 0.39</td>\n",
        "      <td> 0.09</td>\n",
        "      <td> 1.29</td>\n",
        "      <td> 0.49</td>\n",
        "      <td> 0.19</td>\n",
        "      <td>-0.81</td>\n",
        "      <td>-0.31</td>\n",
        "      <td>-0.71</td>\n",
        "    </tr>\n",
        "    <tr>\n",
        "      <th>y</th>\n",
        "      <td> 0.49</td>\n",
        "      <td>-1.21</td>\n",
        "      <td> 0.99</td>\n",
        "      <td> 0.29</td>\n",
        "      <td> 1.09</td>\n",
        "      <td> 0.79</td>\n",
        "      <td>-0.31</td>\n",
        "      <td>-0.81</td>\n",
        "      <td>-0.31</td>\n",
        "      <td>-1.01</td>\n",
        "    </tr>\n",
        "  </tbody>\n",
        "</table>\n",
        "</div>"
       ],
       "metadata": {},
       "output_type": "pyout",
       "prompt_number": 2,
       "text": [
        "Medidas     0     1     2     3     4     5     6     7     8     9\n",
        "x        0.69 -1.31  0.39  0.09  1.29  0.49  0.19 -0.81 -0.31 -0.71\n",
        "y        0.49 -1.21  0.99  0.29  1.09  0.79 -0.31 -0.81 -0.31 -1.01"
       ]
      }
     ],
     "prompt_number": 2
    },
    {
     "cell_type": "markdown",
     "metadata": {},
     "source": [
      "O segundo passo \u00e9 a **normaliza\u00e7\u00e3o** dos dados.  A mais costumeira \u00e9,\n",
      "ap\u00f3s remover a m\u00e9dia, dividir os dados pelo desvio padr\u00e3o.  Esse procedimento \n",
      "tamb\u00e9m \u00e9 chamado de *z-score*."
     ]
    },
    {
     "cell_type": "code",
     "collapsed": false,
     "input": [
      "import matplotlib.pyplot as plt\n",
      "\n",
      "line = dict(linewidth=1, linestyle='--', color='k')\n",
      "marker = dict(linestyle='none', marker='o', markersize=7, color='blue', alpha=0.5)\n",
      "\n",
      "\n",
      "fig, ax = plt.subplots(figsize=(5, 5))\n",
      "ax.plot(x, y, **marker)\n",
      "ax.axhline(**line)\n",
      "ax.axvline(**line)\n",
      "ax.set_xlabel('x')\n",
      "ax.set_ylabel('y')\n",
      "ax.set_title(u'Dados Originais (com a m\u00e9dia)')\n",
      "_ = ax.axis([-1, 4, -1, 4])"
     ],
     "language": "python",
     "metadata": {},
     "outputs": [
      {
       "metadata": {},
       "output_type": "display_data",
       "png": "[encoded data removed]",
       "text": [
        "<matplotlib.figure.Figure at 0x7f3680a5dbd0>"
       ]
      }
     ],
     "prompt_number": 3
    },
    {
     "cell_type": "markdown",
     "metadata": {},
     "source": [
      "O terceiro passo \u00e9 calcular a **covari\u00e2ncia** dos dados normalizados."
     ]
    },
    {
     "cell_type": "code",
     "collapsed": false,
     "input": [
      "cov = np.cov(Z.T)\n",
      "cov"
     ],
     "language": "python",
     "metadata": {},
     "outputs": [
      {
       "metadata": {},
       "output_type": "pyout",
       "prompt_number": 4,
       "text": [
        "array([[ 0.61655556,  0.61544444],\n",
        "       [ 0.61544444,  0.71655556]])"
       ]
      }
     ],
     "prompt_number": 4
    },
    {
     "cell_type": "markdown",
     "metadata": {},
     "source": [
      "A \"redu\u00e7\u00e3o\" dos dados pode ser feita por *Singular Value Decomposition*\n",
      "([SVD](http://en.wikipedia.org/wiki/Singular_value_decomposition))\n",
      "ou *Empirical Orthogonal Functions*\n",
      "([EOF](http://en.wikipedia.org/wiki/Empirical_orthogonal_functions)).\n",
      "Estamos buscando planos ortogonais entre as vari\u00e1veis que maximize a varian\u00e7a.\n",
      "\n",
      "Vamos utilizar a EOF, ou seja, calculando os `Autovalores` e `Autovetores`\n",
      "da matriz de covarian\u00e7a.  Mas colocarei aqui o correspondente usando a SVD como exerc\u00edcio:\n",
      "\n",
      "```python\n",
      "U, S, V = np.linalg.svd(cov, full_matrices=True, compute_uv=True)\n",
      "\n",
      "S  # Similar aos Autovalores\n",
      "V  # Similar aos Autovetores\n",
      "PCs = np.dot(V, Z.T)  # Crie um gr\u00e1fico que se compare com os abaixo.\n",
      "```"
     ]
    },
    {
     "cell_type": "code",
     "collapsed": false,
     "input": [
      "eigenvalues, eigenvectors = np.linalg.eig(cov)"
     ],
     "language": "python",
     "metadata": {},
     "outputs": [],
     "prompt_number": 5
    },
    {
     "cell_type": "code",
     "collapsed": false,
     "input": [
      "eigenvalues"
     ],
     "language": "python",
     "metadata": {},
     "outputs": [
      {
       "metadata": {},
       "output_type": "pyout",
       "prompt_number": 6,
       "text": [
        "array([ 0.0490834 ,  1.28402771])"
       ]
      }
     ],
     "prompt_number": 6
    },
    {
     "cell_type": "code",
     "collapsed": false,
     "input": [
      "eigenvectors"
     ],
     "language": "python",
     "metadata": {},
     "outputs": [
      {
       "metadata": {},
       "output_type": "pyout",
       "prompt_number": 7,
       "text": [
        "array([[-0.73517866, -0.6778734 ],\n",
        "       [ 0.6778734 , -0.73517866]])"
       ]
      }
     ],
     "prompt_number": 7
    },
    {
     "cell_type": "markdown",
     "metadata": {},
     "source": [
      "As **componentes principais** s\u00e3o os Autovetores.  \u00c9 comum normalizar os\n",
      "Autovetores para facilitar as compara\u00e7\u00f5es entre eles."
     ]
    },
    {
     "cell_type": "code",
     "collapsed": false,
     "input": [
      "pc = eigenvectors[1] / eigenvectors[0]\n",
      "pc"
     ],
     "language": "python",
     "metadata": {},
     "outputs": [
      {
       "metadata": {},
       "output_type": "pyout",
       "prompt_number": 8,
       "text": [
        "array([-0.92205261,  1.08453681])"
       ]
      }
     ],
     "prompt_number": 8
    },
    {
     "cell_type": "markdown",
     "metadata": {},
     "source": [
      "Vamos plotar os **vetores** que definem esse novo plano ortogonal saindo do\n",
      "ponto $(0, 0)$ at\u00e9 $x$ m\u00e1ximo (Autovalor) e $y$ m\u00e1ximo (componente\n",
      "principal normalizada e dimensionada para o autovalor.)"
     ]
    },
    {
     "cell_type": "code",
     "collapsed": false,
     "input": [
      "fig, ax = plt.subplots(figsize=(5, 5))\n",
      "ax.plot(Z[:, 0], Z[:, 1], **marker)\n",
      "ax.set_xlim([-2, 2])\n",
      "ax.set_ylim([-2, 2])\n",
      "ax.axhline(**line)\n",
      "ax.axvline(**line)\n",
      "ax.set_xlabel('x')\n",
      "ax.set_ylabel('y')\n",
      "\n",
      "arrowprops = dict(width=0.01, head_width=0.05, alpha = 0.5,\n",
      "                  length_includes_head=False)\n",
      "a1 = ax.arrow(0, 0, eigenvalues[0], pc[0] * eigenvalues[0],\n",
      "              color='k', **arrowprops)\n",
      "a2 = ax.arrow(0, 0, eigenvalues[1], pc[1] * eigenvalues[1],\n",
      "              color='k', **arrowprops)\n",
      "a3 = ax.arrow(0, 0, -eigenvalues[0], -pc[0] * eigenvalues[0],\n",
      "              color='r', **arrowprops)\n",
      "a4 = ax.arrow(0, 0, -eigenvalues[1], -pc[1] * eigenvalues[1],\n",
      "              color='r', **arrowprops)"
     ],
     "language": "python",
     "metadata": {},
     "outputs": [
      {
       "metadata": {},
       "output_type": "display_data",
       "png": "[encoded data removed]",
       "text": [
        "<matplotlib.figure.Figure at 0x7f3680aa5350>"
       ]
      }
     ],
     "prompt_number": 9
    },
    {
     "cell_type": "markdown",
     "metadata": {},
     "source": [
      "\u00c9 f\u00e1cil de ver que esse novo plano se orienta onde os dados variam.  Bom,\n",
      "geometricamente e isso.  Agora vamos testar um pacote pronto para a an\u00e1lise de\n",
      "PCA.  Vou comparar o que acabamos de fazer com os resultados do m\u00f3dulo\n",
      "[scikit-learn](http://scikit-learn.org/stable/modules/generated/sklearn.decomposition.PCA.html)."
     ]
    },
    {
     "cell_type": "code",
     "collapsed": false,
     "input": [
      "from sklearn.decomposition import PCA\n",
      "\n",
      "pca = PCA(n_components=2, copy=True)\n",
      "X = pca.fit_transform(Z)\n",
      "\n",
      "fig, ax = plt.subplots()\n",
      "ax.plot(X[:, 0], X[:, 1], **marker) \n",
      "ax.set_xlim([-2, 2])\n",
      "ax.set_ylim([-2, 2])\n",
      "ax.axhline(**line)\n",
      "ax.axvline(**line)\n",
      "_ = ax.set_title(\"PCA\")"
     ],
     "language": "python",
     "metadata": {},
     "outputs": [
      {
       "metadata": {},
       "output_type": "display_data",
       "png": "[encoded data removed]",
       "text": [
        "<matplotlib.figure.Figure at 0x7f3680a5db10>"
       ]
      }
     ],
     "prompt_number": 10
    },
    {
     "cell_type": "markdown",
     "metadata": {},
     "source": [
      "Essa seria a cara dos dados \"rodados\" para o novo plano calculado pela an\u00e1lise.\n",
      "Para entender melhor o que isso quer dizer de uma olhada em:\n",
      "\n",
      "[https://georgemdallas.wordpress.com/2013/10/30/principal-component-analysis-4-dummies-eigenvectors-eigenvalues-and-dimension-reduction/](https://georgemdallas.wordpress.com/2013/10/30/principal-component-analysis-4-dummies-eigenvectors-eigenvalues-and-dimension-reduction/)\n",
      "\n",
      "Note que os dados em si s\u00e3o os mesmos.  Nos apenas rodamos para um novo set de\n",
      "eixos (principais).  Estamos literalmente olhado para os dados sob um novo\n",
      "\u00e2ngulo ;-).  Esse novo \"\u00e2ngulo\" \u00e9 mais intuitivo para tirarmos conclus\u00f5es sobre os\n",
      "dados.\n",
      "\n",
      "Um exemplo de aplica\u00e7\u00e3o direta em oceanografia f\u00edsica \u00e9 rodar as componentes\n",
      "da velocidade $u$ e $v$ de um fundeio em rio ou na plataforma continental para\n",
      "os seus eixos principais.  Intuitivamente podemos concluir que tais eixos, em\n",
      "geral, corresponder\u00e3o aos \"ao longo\" e \"perpendicular\" \u00e0 margem do rio ou d\u00e1\n",
      "is\u00f3bata do fundeio costeiro.  N\u00e3o \u00e9 mais intuitivo que eixos geogr\u00e1ficos Norte\n",
      "e Sul?\n",
      "\n",
      "([Aqui](https://github.com/ocefpaf/python-oceans/blob/master/oceans/ff_tools/ocfis.py#L354) tem uma fun\u00e7\u00e3o faz\n",
      "exatamente isso para s\u00e9ries temporais de velocidade.)\n",
      "\n",
      "Vamos comprar os resultados entre `sklearn` e o que fizemos anteriormente:"
     ]
    },
    {
     "cell_type": "code",
     "collapsed": false,
     "input": [
      "print(eigenvectors)\n",
      "print('')\n",
      "print(pca.components_)"
     ],
     "language": "python",
     "metadata": {},
     "outputs": [
      {
       "output_type": "stream",
       "stream": "stdout",
       "text": [
        "[[-0.73517866 -0.6778734 ]\n",
        " [ 0.6778734  -0.73517866]]\n",
        "\n",
        "[[-0.6778734  -0.73517866]\n",
        " [ 0.73517866 -0.6778734 ]]\n"
       ]
      }
     ],
     "prompt_number": 11
    },
    {
     "cell_type": "markdown",
     "metadata": {},
     "source": [
      "Mesmo resultado!  Mas note que as componentes est\u00e3o organizadas\n",
      "em ordem crescente dos autovalores no m\u00f3dulo `sklearn`.  O que\n",
      "mais temos no objeto `pca`:"
     ]
    },
    {
     "cell_type": "code",
     "collapsed": false,
     "input": [
      "pca.explained_variance_ratio_  # Quanto da vari\u00e2ncia \u00e9 explicada por cada componente."
     ],
     "language": "python",
     "metadata": {},
     "outputs": [
      {
       "metadata": {},
       "output_type": "pyout",
       "prompt_number": 12,
       "text": [
        "array([ 0.96318131,  0.03681869])"
       ]
      }
     ],
     "prompt_number": 12
    },
    {
     "cell_type": "markdown",
     "metadata": {},
     "source": [
      "Para finalizar essa parte deixo\n",
      "[aqui](http://sebastianraschka.com/Articles/2014_pca_step_by_step.html)\n",
      "um exemplo 3D que compara outros m\u00f3dulos al\u00e9m do `sklearn`."
     ]
    },
    {
     "cell_type": "markdown",
     "metadata": {},
     "source": [
      "## Entendendo a PCA do ponto de visto estat\u00edstico\n",
      "\n",
      "Uma PCA entre duas vari\u00e1veis, como fizemos no exemplo acima, n\u00e3o \u00e9 muito\n",
      "diferente de uma correla\u00e7\u00e3o simples entre elas.  A PCA come\u00e7a a ser \u00fatil quando\n",
      "lidamos com diversas vari\u00e1veis.  Para entender essa afirma\u00e7\u00e3o vamos calcular a correla\u00e7\u00e3o de Pearson para os nossos dados."
     ]
    },
    {
     "cell_type": "code",
     "collapsed": false,
     "input": [
      "from scipy.stats.stats import pearsonr\n",
      "\n",
      "r, p = pearsonr(x-x.mean(), y-y.mean())\n",
      "\n",
      "print('Pearson r: {}\\nPC 1: {}:'.format(r, pc[0]))"
     ],
     "language": "python",
     "metadata": {},
     "outputs": [
      {
       "output_type": "stream",
       "stream": "stdout",
       "text": [
        "Pearson r: 0.925929272692\n",
        "PC 1: -0.922052610499:\n"
       ]
      }
     ],
     "prompt_number": 13
    },
    {
     "cell_type": "markdown",
     "metadata": {},
     "source": [
      "Bem pr\u00f3ximo da vari\u00e2ncia explicada pela primeira PC.  J\u00e1 que estamos tentado\n",
      "relacionar esse resultado com correla\u00e7\u00e3o linear simples,\n",
      "como seria a rela\u00e7\u00e3o entre a primeira Componente Principal e um ajuste linear?"
     ]
    },
    {
     "cell_type": "code",
     "collapsed": false,
     "input": [
      "import statsmodels.api as sm\n",
      "\n",
      "\n",
      "def OLSreg(y, Xmat):\n",
      "    return sm.OLS(y, sm.add_constant(Xmat, prepend=True)).fit()\n",
      "\n",
      "\n",
      "scale = lambda x: (x - x.mean()) / x.std()\n",
      "\n",
      "ols_fit = OLSreg(Z[:, 1], Z[:, 0])\n",
      "\n",
      "fig, ax = plt.subplots(figsize=(5, 5))\n",
      "ax.plot(Z[:, 0], Z[:, 1], **marker)\n",
      "ax.set_xlim([-2, 2])\n",
      "ax.set_ylim([-2, 2])\n",
      "ax.axhline(**line)\n",
      "ax.axvline(**line)\n",
      "ax.set_xlabel('x')\n",
      "ax.set_xlabel('y')\n",
      "\n",
      "ax.plot(Z[:, 0], ols_fit.fittedvalues, 'r', alpha=0.5)\n",
      "ax.text(-1, 1, r'R$^2$ = %4.3f' % round(ols_fit.rsquared, 3))\n",
      "\n",
      "a1 = ax.arrow(0, 0, eigenvalues[1], pc[1] * eigenvalues[1],\n",
      "              **arrowprops)\n",
      "a2 = ax.arrow(0, 0, -eigenvalues[1], -pc[1] * eigenvalues[1],\n",
      "              **arrowprops)"
     ],
     "language": "python",
     "metadata": {},
     "outputs": [
      {
       "metadata": {},
       "output_type": "display_data",
       "png": "[encoded data removed]",
       "text": [
        "<matplotlib.figure.Figure at 0x7f367dc428d0>"
       ]
      }
     ],
     "prompt_number": 14
    },
    {
     "cell_type": "markdown",
     "metadata": {},
     "source": [
      "H\u00e1 um \u00e2ngulo pequeno entre as retas formadas pela correla\u00e7\u00e3o linear (vermelho)\n",
      "e a reta da **primeira** Componente Principal (azul).  Eu gosto de pensar que a\n",
      "correla\u00e7\u00e3o linear est\u00e1 \"contaminada\" pela vari\u00e2ncia da **segunda** Componente\n",
      "Principal."
     ]
    },
    {
     "cell_type": "markdown",
     "metadata": {},
     "source": [
      "## PCA com dados reais\n",
      "\n",
      "Para realmente entendermos o que \u00e9 a PCA temos que usar dados reais.  Escolhi\n",
      "seguir o exemplo dispon\u00edvel\n",
      "[nesse PDF](http://people.maths.ox.ac.uk/richardsonm/SignalProcPCA.pdf) que usa\n",
      "dados de consumo de comida em gramas, por pessoa, por semana, no Reino Unido."
     ]
    },
    {
     "cell_type": "code",
     "collapsed": false,
     "input": [
      "%%file data.csv\n",
      "Food,England,Wales,Scotland,N Ireland\n",
      "Cheese,105,103,103,66\n",
      "Carcass meat,245,227,242,267\n",
      "Other meat,685,803,750,586\n",
      "Fish,147,160,122,93\n",
      "Fats and oils,193,235,184,209\n",
      "Sugars,156,175,147,139\n",
      "Fresh potatoes,720,874,566,1033\n",
      "Fresh Veg,253,265,171,143\n",
      "Other Veg,488,570,418,355\n",
      "Processed potatoes,198,203,220,187\n",
      "Processed Veg,360,365,337,334\n",
      "Fresh fruit,1102,1137,957,674\n",
      "Cereals,1472,1582,1462,1494\n",
      "Beverages,57,73,53,47\n",
      "Soft drinks,1374,1256,1572,1506\n",
      "Alcoholic drinks,375,475,458,135\n",
      "Confectionery,54,64,62,41"
     ],
     "language": "python",
     "metadata": {},
     "outputs": [
      {
       "output_type": "stream",
       "stream": "stdout",
       "text": [
        "Overwriting data.csv\n"
       ]
      }
     ],
     "prompt_number": 15
    },
    {
     "cell_type": "code",
     "collapsed": false,
     "input": [
      "from pandas import read_csv\n",
      "\n",
      "df = read_csv('data.csv', index_col='Food')\n",
      "df"
     ],
     "language": "python",
     "metadata": {},
     "outputs": [
      {
       "html": [
        "<div style=\"max-height:1000px;max-width:1500px;overflow:auto;\">\n",
        "<table border=\"1\" class=\"dataframe\">\n",
        "  <thead>\n",
        "    <tr style=\"text-align: right;\">\n",
        "      <th></th>\n",
        "      <th>England</th>\n",
        "      <th>Wales</th>\n",
        "      <th>Scotland</th>\n",
        "      <th>N Ireland</th>\n",
        "    </tr>\n",
        "    <tr>\n",
        "      <th>Food</th>\n",
        "      <th></th>\n",
        "      <th></th>\n",
        "      <th></th>\n",
        "      <th></th>\n",
        "    </tr>\n",
        "  </thead>\n",
        "  <tbody>\n",
        "    <tr>\n",
        "      <th>Cheese</th>\n",
        "      <td>  105</td>\n",
        "      <td>  103</td>\n",
        "      <td>  103</td>\n",
        "      <td>   66</td>\n",
        "    </tr>\n",
        "    <tr>\n",
        "      <th>Carcass meat</th>\n",
        "      <td>  245</td>\n",
        "      <td>  227</td>\n",
        "      <td>  242</td>\n",
        "      <td>  267</td>\n",
        "    </tr>\n",
        "    <tr>\n",
        "      <th>Other meat</th>\n",
        "      <td>  685</td>\n",
        "      <td>  803</td>\n",
        "      <td>  750</td>\n",
        "      <td>  586</td>\n",
        "    </tr>\n",
        "    <tr>\n",
        "      <th>Fish</th>\n",
        "      <td>  147</td>\n",
        "      <td>  160</td>\n",
        "      <td>  122</td>\n",
        "      <td>   93</td>\n",
        "    </tr>\n",
        "    <tr>\n",
        "      <th>Fats and oils</th>\n",
        "      <td>  193</td>\n",
        "      <td>  235</td>\n",
        "      <td>  184</td>\n",
        "      <td>  209</td>\n",
        "    </tr>\n",
        "    <tr>\n",
        "      <th>Sugars</th>\n",
        "      <td>  156</td>\n",
        "      <td>  175</td>\n",
        "      <td>  147</td>\n",
        "      <td>  139</td>\n",
        "    </tr>\n",
        "    <tr>\n",
        "      <th>Fresh potatoes</th>\n",
        "      <td>  720</td>\n",
        "      <td>  874</td>\n",
        "      <td>  566</td>\n",
        "      <td> 1033</td>\n",
        "    </tr>\n",
        "    <tr>\n",
        "      <th>Fresh Veg</th>\n",
        "      <td>  253</td>\n",
        "      <td>  265</td>\n",
        "      <td>  171</td>\n",
        "      <td>  143</td>\n",
        "    </tr>\n",
        "    <tr>\n",
        "      <th>Other Veg</th>\n",
        "      <td>  488</td>\n",
        "      <td>  570</td>\n",
        "      <td>  418</td>\n",
        "      <td>  355</td>\n",
        "    </tr>\n",
        "    <tr>\n",
        "      <th>Processed potatoes</th>\n",
        "      <td>  198</td>\n",
        "      <td>  203</td>\n",
        "      <td>  220</td>\n",
        "      <td>  187</td>\n",
        "    </tr>\n",
        "    <tr>\n",
        "      <th>Processed Veg</th>\n",
        "      <td>  360</td>\n",
        "      <td>  365</td>\n",
        "      <td>  337</td>\n",
        "      <td>  334</td>\n",
        "    </tr>\n",
        "    <tr>\n",
        "      <th>Fresh fruit</th>\n",
        "      <td> 1102</td>\n",
        "      <td> 1137</td>\n",
        "      <td>  957</td>\n",
        "      <td>  674</td>\n",
        "    </tr>\n",
        "    <tr>\n",
        "      <th>Cereals</th>\n",
        "      <td> 1472</td>\n",
        "      <td> 1582</td>\n",
        "      <td> 1462</td>\n",
        "      <td> 1494</td>\n",
        "    </tr>\n",
        "    <tr>\n",
        "      <th>Beverages</th>\n",
        "      <td>   57</td>\n",
        "      <td>   73</td>\n",
        "      <td>   53</td>\n",
        "      <td>   47</td>\n",
        "    </tr>\n",
        "    <tr>\n",
        "      <th>Soft drinks</th>\n",
        "      <td> 1374</td>\n",
        "      <td> 1256</td>\n",
        "      <td> 1572</td>\n",
        "      <td> 1506</td>\n",
        "    </tr>\n",
        "    <tr>\n",
        "      <th>Alcoholic drinks</th>\n",
        "      <td>  375</td>\n",
        "      <td>  475</td>\n",
        "      <td>  458</td>\n",
        "      <td>  135</td>\n",
        "    </tr>\n",
        "    <tr>\n",
        "      <th>Confectionery</th>\n",
        "      <td>   54</td>\n",
        "      <td>   64</td>\n",
        "      <td>   62</td>\n",
        "      <td>   41</td>\n",
        "    </tr>\n",
        "  </tbody>\n",
        "</table>\n",
        "</div>"
       ],
       "metadata": {},
       "output_type": "pyout",
       "prompt_number": 16,
       "text": [
        "                    England  Wales  Scotland  N Ireland\n",
        "Food                                                   \n",
        "Cheese                  105    103       103         66\n",
        "Carcass meat            245    227       242        267\n",
        "Other meat              685    803       750        586\n",
        "Fish                    147    160       122         93\n",
        "Fats and oils           193    235       184        209\n",
        "Sugars                  156    175       147        139\n",
        "Fresh potatoes          720    874       566       1033\n",
        "Fresh Veg               253    265       171        143\n",
        "Other Veg               488    570       418        355\n",
        "Processed potatoes      198    203       220        187\n",
        "Processed Veg           360    365       337        334\n",
        "Fresh fruit            1102   1137       957        674\n",
        "Cereals                1472   1582      1462       1494\n",
        "Beverages                57     73        53         47\n",
        "Soft drinks            1374   1256      1572       1506\n",
        "Alcoholic drinks        375    475       458        135\n",
        "Confectionery            54     64        62         41"
       ]
      }
     ],
     "prompt_number": 16
    },
    {
     "cell_type": "markdown",
     "metadata": {},
     "source": [
      "Sem realizar ajustes lineares para cada par de dados fica quase imposs\u00edvel\n",
      "visualizar algum padr\u00e3o ou tend\u00eancia nos dados acima.  Esse \u00e9 um caso onda a\n",
      "PCA pode ajudar.  Novamente vamos usar o m\u00f3dulo `sklearn`.  Vale lembrar que\n",
      "esse m\u00f3dulo usa a SVD por tr\u00e1s da cortina, mas nos poupa do trabalho de lidar\n",
      "as sa\u00eddas `U`, `S` e `V` j\u00e1 calculando as propriedades que queremos\n",
      "diretamente.\n",
      "\n",
      "Come\u00e7aremos definindo uma fun\u00e7\u00e3o para normalizar os dados."
     ]
    },
    {
     "cell_type": "code",
     "collapsed": false,
     "input": [
      "def z_score(x):\n",
      "    \"\"\"Remove a m\u00e9dia e normaliza os pelo desvio padr\u00e3o\"\"\"\n",
      "    return (x - x.mean()) / x.std()"
     ],
     "language": "python",
     "metadata": {},
     "outputs": [],
     "prompt_number": 17
    },
    {
     "cell_type": "code",
     "collapsed": false,
     "input": [
      "from sklearn.decomposition import PCA\n",
      "\n",
      "\n",
      "pca = PCA(n_components=None)\n",
      "pca.fit(df.apply(z_score).T)"
     ],
     "language": "python",
     "metadata": {},
     "outputs": [
      {
       "metadata": {},
       "output_type": "pyout",
       "prompt_number": 18,
       "text": [
        "PCA(copy=True, n_components=None, whiten=False)"
       ]
      }
     ],
     "prompt_number": 18
    },
    {
     "cell_type": "markdown",
     "metadata": {},
     "source": [
      "Para facilitar vamos criar um um novo `DataFrame` com os resultados do objeto\n",
      "`pca`."
     ]
    },
    {
     "cell_type": "code",
     "collapsed": false,
     "input": [
      "from pandas import DataFrame\n",
      "\n",
      "loadings = DataFrame(pca.components_.T)\n",
      "loadings.index = ['PC %s' % pc for pc in loadings.index + 1]\n",
      "loadings.columns = ['TS %s' % pc for pc in loadings.columns + 1]\n",
      "loadings"
     ],
     "language": "python",
     "metadata": {},
     "outputs": [
      {
       "html": [
        "<div style=\"max-height:1000px;max-width:1500px;overflow:auto;\">\n",
        "<table border=\"1\" class=\"dataframe\">\n",
        "  <thead>\n",
        "    <tr style=\"text-align: right;\">\n",
        "      <th></th>\n",
        "      <th>TS 1</th>\n",
        "      <th>TS 2</th>\n",
        "      <th>TS 3</th>\n",
        "      <th>TS 4</th>\n",
        "    </tr>\n",
        "  </thead>\n",
        "  <tbody>\n",
        "    <tr>\n",
        "      <th>PC 1</th>\n",
        "      <td> 0.045553</td>\n",
        "      <td>-0.090186</td>\n",
        "      <td>-0.050847</td>\n",
        "      <td> 0.139679</td>\n",
        "    </tr>\n",
        "    <tr>\n",
        "      <th>PC 2</th>\n",
        "      <td> 0.146313</td>\n",
        "      <td>-0.101760</td>\n",
        "      <td>-0.142507</td>\n",
        "      <td>-0.261734</td>\n",
        "    </tr>\n",
        "    <tr>\n",
        "      <th>PC 3</th>\n",
        "      <td>-0.198748</td>\n",
        "      <td>-0.015437</td>\n",
        "      <td> 0.496829</td>\n",
        "      <td>-0.064442</td>\n",
        "    </tr>\n",
        "    <tr>\n",
        "      <th>PC 4</th>\n",
        "      <td> 0.018755</td>\n",
        "      <td>-0.015447</td>\n",
        "      <td>-0.063720</td>\n",
        "      <td>-0.274764</td>\n",
        "    </tr>\n",
        "    <tr>\n",
        "      <th>PC 5</th>\n",
        "      <td> 0.102282</td>\n",
        "      <td> 0.016966</td>\n",
        "      <td> 0.095605</td>\n",
        "      <td>-0.273123</td>\n",
        "    </tr>\n",
        "    <tr>\n",
        "      <th>PC 6</th>\n",
        "      <td> 0.066811</td>\n",
        "      <td>-0.031761</td>\n",
        "      <td> 0.006624</td>\n",
        "      <td>-0.058272</td>\n",
        "    </tr>\n",
        "    <tr>\n",
        "      <th>PC 7</th>\n",
        "      <td> 0.537218</td>\n",
        "      <td> 0.601211</td>\n",
        "      <td> 0.066594</td>\n",
        "      <td>-0.046318</td>\n",
        "    </tr>\n",
        "    <tr>\n",
        "      <th>PC 8</th>\n",
        "      <td>-0.052528</td>\n",
        "      <td> 0.097354</td>\n",
        "      <td>-0.253262</td>\n",
        "      <td>-0.038094</td>\n",
        "    </tr>\n",
        "    <tr>\n",
        "      <th>PC 9</th>\n",
        "      <td>-0.157053</td>\n",
        "      <td> 0.199079</td>\n",
        "      <td> 0.013838</td>\n",
        "      <td> 0.190878</td>\n",
        "    </tr>\n",
        "    <tr>\n",
        "      <th>PC 10</th>\n",
        "      <td> 0.069489</td>\n",
        "      <td>-0.121609</td>\n",
        "      <td> 0.027339</td>\n",
        "      <td>-0.409491</td>\n",
        "    </tr>\n",
        "    <tr>\n",
        "      <th>PC 11</th>\n",
        "      <td> 0.054850</td>\n",
        "      <td>-0.023611</td>\n",
        "      <td>-0.132797</td>\n",
        "      <td> 0.091683</td>\n",
        "    </tr>\n",
        "    <tr>\n",
        "      <th>PC 12</th>\n",
        "      <td>-0.607884</td>\n",
        "      <td> 0.234159</td>\n",
        "      <td>-0.541421</td>\n",
        "      <td>-0.240695</td>\n",
        "    </tr>\n",
        "    <tr>\n",
        "      <th>PC 13</th>\n",
        "      <td>-0.015029</td>\n",
        "      <td> 0.174118</td>\n",
        "      <td> 0.102499</td>\n",
        "      <td>-0.437589</td>\n",
        "    </tr>\n",
        "    <tr>\n",
        "      <th>PC 14</th>\n",
        "      <td> 0.084243</td>\n",
        "      <td>-0.049012</td>\n",
        "      <td> 0.029653</td>\n",
        "      <td>-0.092258</td>\n",
        "    </tr>\n",
        "    <tr>\n",
        "      <th>PC 15</th>\n",
        "      <td> 0.229944</td>\n",
        "      <td>-0.666413</td>\n",
        "      <td>-0.218661</td>\n",
        "      <td>-0.004971</td>\n",
        "    </tr>\n",
        "    <tr>\n",
        "      <th>PC 16</th>\n",
        "      <td>-0.402521</td>\n",
        "      <td>-0.121320</td>\n",
        "      <td> 0.525384</td>\n",
        "      <td>-0.073223</td>\n",
        "    </tr>\n",
        "    <tr>\n",
        "      <th>PC 17</th>\n",
        "      <td> 0.078305</td>\n",
        "      <td>-0.086331</td>\n",
        "      <td> 0.038850</td>\n",
        "      <td>-0.524318</td>\n",
        "    </tr>\n",
        "  </tbody>\n",
        "</table>\n",
        "</div>"
       ],
       "metadata": {},
       "output_type": "pyout",
       "prompt_number": 19,
       "text": [
        "           TS 1      TS 2      TS 3      TS 4\n",
        "PC 1   0.045553 -0.090186 -0.050847  0.139679\n",
        "PC 2   0.146313 -0.101760 -0.142507 -0.261734\n",
        "PC 3  -0.198748 -0.015437  0.496829 -0.064442\n",
        "PC 4   0.018755 -0.015447 -0.063720 -0.274764\n",
        "PC 5   0.102282  0.016966  0.095605 -0.273123\n",
        "PC 6   0.066811 -0.031761  0.006624 -0.058272\n",
        "PC 7   0.537218  0.601211  0.066594 -0.046318\n",
        "PC 8  -0.052528  0.097354 -0.253262 -0.038094\n",
        "PC 9  -0.157053  0.199079  0.013838  0.190878\n",
        "PC 10  0.069489 -0.121609  0.027339 -0.409491\n",
        "PC 11  0.054850 -0.023611 -0.132797  0.091683\n",
        "PC 12 -0.607884  0.234159 -0.541421 -0.240695\n",
        "PC 13 -0.015029  0.174118  0.102499 -0.437589\n",
        "PC 14  0.084243 -0.049012  0.029653 -0.092258\n",
        "PC 15  0.229944 -0.666413 -0.218661 -0.004971\n",
        "PC 16 -0.402521 -0.121320  0.525384 -0.073223\n",
        "PC 17  0.078305 -0.086331  0.038850 -0.524318"
       ]
      }
     ],
     "prompt_number": 19
    },
    {
     "cell_type": "markdown",
     "metadata": {},
     "source": [
      "Dependendo dos dados fica mais f\u00e1cil interpretar as componentes principais\n",
      "quando essas s\u00e3o projetadas nos dados originais.  Isso faz com que os n\u00fameros\n",
      "tenham a mesma unidades dos dados originais.\n",
      "\n",
      "Aten\u00e7\u00e3o! Alguns *papers* n\u00e3o projetam.  Fique atento(a) para saber o que est\u00e1\n",
      "lendo nos gr\u00e1ficos que encontrar por a\u00ed."
     ]
    },
    {
     "cell_type": "code",
     "collapsed": false,
     "input": [
      "PCs = np.dot(loadings.values.T, df)"
     ],
     "language": "python",
     "metadata": {},
     "outputs": [],
     "prompt_number": 20
    },
    {
     "cell_type": "markdown",
     "metadata": {},
     "source": [
      "Vamos ignorar a segunda dimens\u00e3o (PC 2 = 0) e plotar apenas a primeira."
     ]
    },
    {
     "cell_type": "code",
     "collapsed": false,
     "input": [
      "marker = dict(linestyle='none', marker='o', markersize=7, color='blue', alpha=0.5)\n",
      "\n",
      "fig, ax = plt.subplots(figsize=(7, 2.75))\n",
      "ax.plot(PCs[0], np.zeros_like(PCs[0]),\n",
      "        label=\"Scores\", **marker)\n",
      "[ax.text(x, y, t) for x, y, t in zip(PCs[0], loadings.values[1, :], df.columns)]\n",
      "\n",
      "ax.set_xlabel(\"PC1\")\n",
      "\n",
      "_ = ax.set_ylim(-1, 1)\n",
      "marker = dict(linestyle='none', marker='o', markersize=7, color='blue', alpha=0.5)"
     ],
     "language": "python",
     "metadata": {},
     "outputs": [
      {
       "metadata": {},
       "output_type": "display_data",
       "png": "[encoded data removed]",
       "text": [
        "<matplotlib.figure.Figure at 0x7f367dbeb550>"
       ]
      }
     ],
     "prompt_number": 21
    },
    {
     "cell_type": "markdown",
     "metadata": {},
     "source": [
      "Facilmente vemos que os habitantes da Irlanda do Norte t\u00eam uma dieta diferente\n",
      "da Inglaterra, Esc\u00f3cia e Pa\u00eds de Gales.  Esses tr\u00eas \u00faltimos parecem se agrupar\n",
      "em um grupo de dieta similar.  (O que seria uma boa hip\u00f3tese inicial,\n",
      "j\u00e1 que a Irlanda do Norte est\u00e1 geograficamente e culturalmente mais afastada do\n",
      "resto do Reino Unido.  A prop\u00f3sito, muitas das hip\u00f3teses que vemos em *papers*\n",
      "s\u00e3o definidas assim, ap\u00f3s as an\u00e1lises ;-)\n",
      "\n",
      "Esse resultado n\u00e3o \u00e9 t\u00e3o evidente quando usamos uma correla\u00e7\u00e3o simples.  Note\n",
      "que a Irlanda do Norte realmente  se correlaciona menos com o resto, mas n\u00e3o\n",
      "t\u00e3o fortemente como vemos na PC 1 acima.  Isso ocorre porque temos a\n",
      "\"contamina\u00e7\u00e3o\" da PC 2 nessa  correla\u00e7\u00e3o e, nesse caso, a PC 2 cont\u00e9m uma boa\n",
      "por\u00e7\u00e3o da vari\u00e2ncia como veremos mais a frente."
     ]
    },
    {
     "cell_type": "code",
     "collapsed": false,
     "input": [
      "ax = seaborn.corrplot(df, annot=True, diag_names=False)"
     ],
     "language": "python",
     "metadata": {},
     "outputs": [
      {
       "metadata": {},
       "output_type": "display_data",
       "png": "[encoded data removed]",
       "text": [
        "<matplotlib.figure.Figure at 0x7f36ada24c10>"
       ]
      }
     ],
     "prompt_number": 22
    },
    {
     "cell_type": "markdown",
     "metadata": {},
     "source": [
      "Agora vamos plotar a primeira e segunda PCs juntas.  Esse tipo de gr\u00e1fico\n",
      "\u00e9 chamado de *Score plot*."
     ]
    },
    {
     "cell_type": "code",
     "collapsed": false,
     "input": [
      "fig, ax = plt.subplots(figsize=(7, 2.75))\n",
      "ax.plot(PCs[0], PCs[1], label=\"Scores\", **marker)\n",
      "\n",
      "ax.set_xlabel(\"PC1\")\n",
      "ax.set_ylabel(\"PC2\")\n",
      "\n",
      "text = [ax.text(x, y, t) for x, y, t in\n",
      "        zip(PCs[0], PCs[1]+0.5, df.columns)]"
     ],
     "language": "python",
     "metadata": {},
     "outputs": [
      {
       "metadata": {},
       "output_type": "display_data",
       "png": "[encoded data removed]",
       "text": [
        "<matplotlib.figure.Figure at 0x7f367d8f9dd0>"
       ]
      }
     ],
     "prompt_number": 23
    },
    {
     "cell_type": "markdown",
     "metadata": {},
     "source": [
      "Note que na \"segunda\" dimens\u00e3o est\u00e3o as diferen\u00e7as entre os tr\u00eas pa\u00edses\n",
      "que agrupamos no gr\u00e1fico anterior.\n",
      "\n",
      "Vamos criar mais alguns gr\u00e1ficos \u00fateis para ajudar na interpreta\u00e7\u00e3o\n",
      "dos dados.  Come\u00e7aremos com a pergunta: o quanto da vari\u00e2ncia dos dados \u00e9 \n",
      "explicada por cada componente?\n",
      "\n",
      "(Isso nos informa se estamos OK usando 1, 2 ou mais dimens\u00f5es.  Em\n",
      "geral se busca componentes o suficiente para explicar entre 70-80% dos dados.)"
     ]
    },
    {
     "cell_type": "code",
     "collapsed": false,
     "input": [
      "perc = pca.explained_variance_ratio_ * 100\n",
      "\n",
      "perc = DataFrame(perc, columns=['Percentage explained ratio'], index=['PC %s' % pc for pc in np.arange(len(perc)) + 1])\n",
      "ax = perc.plot(kind='bar')"
     ],
     "language": "python",
     "metadata": {},
     "outputs": [
      {
       "metadata": {},
       "output_type": "display_data",
       "png": "[encoded data removed]",
       "text": [
        "<matplotlib.figure.Figure at 0x7f367d86f0d0>"
       ]
      }
     ],
     "prompt_number": 24
    },
    {
     "cell_type": "markdown",
     "metadata": {},
     "source": [
      "As componentes 1 e 2 juntas explicam mais de 96% da vari\u00e2ncia dos dados.\n",
      "Sa\u00edmos de uma espa\u00e7o de 17x4 para um espa\u00e7o de 2x4!  (Se isso fosse compress\u00e3o\n",
      "de uma foto para um arquivo JPEG nos ter\u00edamos um arquivo bem reduzido.)\n",
      "\n",
      "Vamos olhar tamb\u00e9m a \"s\u00e9rie\" para a primeira componente."
     ]
    },
    {
     "cell_type": "code",
     "collapsed": false,
     "input": [
      "TS1 = loadings['TS 1']\n",
      "TS1.index = df.index\n",
      "ax = TS1.plot(kind='bar')"
     ],
     "language": "python",
     "metadata": {},
     "outputs": [
      {
       "metadata": {},
       "output_type": "display_data",
       "png": "[encoded data removed]",
       "text": [
        "<matplotlib.figure.Figure at 0x7f36ada24890>"
       ]
      }
     ],
     "prompt_number": 25
    },
    {
     "cell_type": "markdown",
     "metadata": {},
     "source": [
      "Note que *Fresh Potatoes* \u00e9 o inverso de *Fresh Fruit*, certo?  Checando os\n",
      "dados originais vemos que a Irlanda do Norte consome mais *Fresh Potatoes* e\n",
      "menos *Fresh Fruit* que o resto do Reino Unido.  A diferen\u00e7a entra Irlanda do\n",
      "Norte e o resto n\u00e3o foi o resultado mais  not\u00e1vel da primeira componente?  As\n",
      "coisas come\u00e7am a se encaixar!\n",
      "\n",
      "Outro gr\u00e1fico comum para explorar os resultados \u00e9 o *Loadings plot* ou seja, a\n",
      "influ\u00eancia de cada vari\u00e1vel original nas componentes principais.  Note que\n",
      "*Fresh Fruit*, *Alcoholic drinks*, *Soft drinks* e *Fresh potatoes* se destacam\n",
      "da aglomera\u00e7\u00e3o central."
     ]
    },
    {
     "cell_type": "code",
     "collapsed": false,
     "input": [
      "marker = dict(linestyle='none', marker='o', markersize=7, color='blue', alpha=0.5)\n",
      "\n",
      "fig, ax = plt.subplots(figsize=(7, 7))\n",
      "ax.plot(loadings.icol(0), loadings.icol(1), label=\"Loadings\", **marker)\n",
      "ax.set_xlabel(\"non-projected PC1\")\n",
      "ax.set_ylabel(\"non-projected PC2\")\n",
      "ax.axis([-1, 1, -1, 1])\n",
      "text = [ax.text(x, y, t) for\n",
      "        x, y, t in zip(loadings.icol(0), loadings.icol(1), df.index)]"
     ],
     "language": "python",
     "metadata": {},
     "outputs": [
      {
       "metadata": {},
       "output_type": "display_data",
       "png": "[encoded data removed]",
       "text": [
        "<matplotlib.figure.Figure at 0x7f367d5ad450>"
       ]
      }
     ],
     "prompt_number": 26
    },
    {
     "cell_type": "markdown",
     "metadata": {},
     "source": [
      "Fica para exerc\u00edcio do leitor olhar novamente a tabela original dos dados e\n",
      "procurar algum padr\u00e3o entre os pa\u00edses e as comidas no *Loadings Plot*.\n",
      "\n",
      "Depois disso podemos retornar aos dados originais e, de posse desse\n",
      "conhecimento, come\u00e7ar e discutir os dados."
     ]
    },
    {
     "cell_type": "code",
     "collapsed": false,
     "input": [
      "HTML(html)"
     ],
     "language": "python",
     "metadata": {},
     "outputs": [
      {
       "html": [
        "\n",
        "<small>\n",
        "<p> This post was written as an IPython notebook.\n",
        " It is available for <a href='https://ocefpaf.github.com/python4oceanographers/downloads/notebooks/2014-12-01-PCA.ipynb'>download</a>\n",
        " or as a static <a href='https://nbviewer.ipython.org/url/ocefpaf.github.com/python4oceanographers/downloads/notebooks/2014-12-01-PCA.ipynb'>html</a>.</p>\n",
        "<p></p>\n",
        "<a rel=\"license\" href=\"https://creativecommons.org/licenses/by-sa/4.0/\"><img\n",
        "alt=\"Creative Commons License\" style=\"border-width:0\"\n",
        "src=\"https://i.creativecommons.org/l/by-sa/4.0/88x31.png\" /></a><br /><span\n",
        "xmlns:dct=\"https://purl.org/dc/terms/\"\n",
        "property=\"dct:title\">python4oceanographers</span> by <a\n",
        "xmlns:cc=\"https://creativecommons.org/ns#\" href=\"https://ocefpaf.github.io/\"\n",
        "property=\"cc:attributionName\" rel=\"cc:attributionURL\">Filipe Fernandes</a> is\n",
        "licensed under a <a rel=\"license\"\n",
        "href=\"https://creativecommons.org/licenses/by-sa/4.0/\">Creative Commons\n",
        "Attribution-ShareAlike 4.0 International License</a>.<br />Based on a work at <a\n",
        "xmlns:dct=\"https://purl.org/dc/terms/\" href=\"https://ocefpaf.github.io/\"\n",
        "rel=\"dct:source\">https://ocefpaf.github.io/</a>.\n"
       ],
       "metadata": {},
       "output_type": "pyout",
       "prompt_number": 27,
       "text": [
        "<IPython.core.display.HTML at 0x7fd5786c8c50>"
       ]
      }
     ],
     "prompt_number": 27
    }
   ],
   "metadata": {}
  }
 ]
}