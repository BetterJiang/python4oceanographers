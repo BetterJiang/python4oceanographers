{
 "metadata": {
  "gist_id": "ee14af5220bc3512131f",
  "kernelspec": {
   "display_name": "Python 2",
   "language": "python",
   "name": "python2"
  },
  "language_info": {
   "codemirror_mode": {
    "name": "ipython",
    "version": 2
   },
   "file_extension": ".py",
   "mimetype": "text/x-python",
   "name": "python",
   "nbconvert_exporter": "python",
   "pygments_lexer": "ipython2",
   "version": "2.7.10"
  },
  "name": "",
  "signature": "sha256:954c05f2ccd6f4cc8ba32f44876796a24e12a7124fccc6ea00727a0b6a500610"
 },
 "nbformat": 3,
 "nbformat_minor": 0,
 "worksheets": [
  {
   "cells": [
    {
     "cell_type": "code",
     "collapsed": false,
     "input": [
      "name = '2015-10-05-isosurfaces'\n",
      "\n",
      "title = \"Optimizing code for iso-surfaces using Fortran, Cython, and Numba\""
     ],
     "language": "python",
     "metadata": {},
     "outputs": [],
     "prompt_number": 1
    },
    {
     "cell_type": "code",
     "collapsed": false,
     "input": [
      "%matplotlib inline\n",
      "\n",
      "import os\n",
      "import seaborn\n",
      "seaborn.set(style='ticks')\n",
      "from datetime import datetime\n",
      "from IPython.core.display import HTML\n",
      "\n",
      "with open('creative_commons.txt', 'r') as f:\n",
      "    html = f.read()\n",
      "\n",
      "\n",
      "hour = datetime.utcnow().strftime('%H:%M')\n",
      "comments=\"true\"\n",
      "\n",
      "\n",
      "date = '-'.join(name.split('-')[:3])\n",
      "slug = '-'.join(name.split('-')[3:])\n",
      "\n",
      "metadata = dict(title=title,\n",
      "                date=date,\n",
      "                hour=hour,\n",
      "                comments=comments,\n",
      "                slug=slug,\n",
      "                name=name)\n",
      "\n",
      "markdown = \"\"\"Title: {title}\n",
      "date:  {date} {hour}\n",
      "comments: {comments}\n",
      "slug: {slug}\n",
      "\n",
      "{{% notebook {name}.ipynb cells[2:] %}}\n",
      "\"\"\".format(**metadata)\n",
      "\n",
      "content = os.path.abspath(os.path.join(os.getcwd(),\n",
      "                                       os.pardir,\n",
      "                                       os.pardir, \n",
      "                                       '{}.md'.format(name)))\n",
      "with open('{}'.format(content), 'w') as f:\n",
      "    f.writelines(markdown)\n",
      "    \n",
      "with open('./styles/custom.css', 'r') as f:\n",
      "    styles = f.read()\n",
      "\n",
      "\n",
      "html = \"\"\"\n",
      "<small>\n",
      "<p> This post was written as an IPython notebook.  It is available for\n",
      "<a href=\"http://ocefpaf.github.com/python4oceanographers/downloads/\n",
      "notebooks/%s.ipynb\">download</a> or as a static\n",
      "<a href=\"http://nbviewer.ipython.org/url/ocefpaf.github.com/\n",
      "python4oceanographers/downloads/notebooks/%s.ipynb\">html</a>.</p>\n",
      "<p></p>\n",
      "%s \"\"\" % (name, name, html)\n",
      "\n",
      "\n",
      "HTML(styles)"
     ],
     "language": "python",
     "metadata": {},
     "outputs": [
      {
       "html": [
        "<style>\n",
        "    @font-face {\n",
        "        font-family: \"Computer Modern\";\n",
        "        src: url('http://mirrors.ctan.org/fonts/cm-unicode/fonts/otf/cmunss.otf');\n",
        "    }\n",
        "    div.cell{\n",
        "        width:800px;\n",
        "/*        margin-left:16% !important;\n",
        "        margin-right:auto;*/\n",
        "        margin-left:auto;\n",
        "        margin-right:16% !important;\n",
        "    }\n",
        "    h1 {\n",
        "        font-family: Helvetica, serif;\n",
        "    }\n",
        "    h2 {\n",
        "        font-family: Helvetica, serif;\n",
        "    }\n",
        "    h4{\n",
        "        margin-top:12px;\n",
        "        margin-bottom: 3px;\n",
        "       }\n",
        "    div.text_cell_render{\n",
        "        font-family: Computer Modern, \"Helvetica Neue\", Arial, Helvetica, Geneva, sans-serif;\n",
        "        line-height: 135%;\n",
        "        font-size: 120%;\n",
        "        width:600px;\n",
        "        margin-left:auto;\n",
        "        margin-right:auto;\n",
        "    }\n",
        "    .CodeMirror{\n",
        "            font-family: \"Source Code Pro\", source-code-pro,Consolas, monospace;\n",
        "    }\n",
        "/*    .prompt{\n",
        "        display: None;\n",
        "    }*/\n",
        "    .text_cell_render h5 {\n",
        "        font-weight: 300;\n",
        "        font-size: 16pt;\n",
        "        color: #4057A1;\n",
        "        font-style: italic;\n",
        "        margin-bottom: .5em;\n",
        "        margin-top: 0.5em;\n",
        "        display: block;\n",
        "    }\n",
        "\n",
        "    .warning{\n",
        "        color: rgb( 240, 20, 20 )\n",
        "        }\n",
        "</style>\n",
        "<script>\n",
        "    MathJax.Hub.Config({\n",
        "                        TeX: {\n",
        "                           extensions: [\"AMSmath.js\"]\n",
        "                           },\n",
        "                tex2jax: {\n",
        "                    inlineMath: [ ['$','$'], [\"\\\\(\",\"\\\\)\"] ],\n",
        "                    displayMath: [ ['$$','$$'], [\"\\\\[\",\"\\\\]\"] ]\n",
        "                },\n",
        "                displayAlign: 'center', // Change this to 'center' to center equations.\n",
        "                \"HTML-CSS\": {\n",
        "                    styles: {'.MathJax_Display': {\"margin\": 4}}\n",
        "                }\n",
        "        });\n",
        "</script>\n"
       ],
       "metadata": {},
       "output_type": "pyout",
       "prompt_number": 2,
       "text": [
        "<IPython.core.display.HTML at 0x7f36a4515790>"
       ]
      }
     ],
     "prompt_number": 2
    },
    {
     "cell_type": "markdown",
     "metadata": {},
     "source": [
      "A very common operation for ocean modelers is to extract an iso-surface\n",
      "from 3D the model results.  The application ranges from fancy isopycnals 3D\n",
      "views to simply getting any variable sliced at some arbitrary depth.\n",
      "\n",
      "In this post I will explore a few different ways compute iso-surfaces.\n",
      "First we have to create some fake data for the experiment."
     ]
    },
    {
     "cell_type": "code",
     "collapsed": false,
     "input": [
      "import numpy as np\n",
      "\n",
      "\n",
      "p = np.linspace(-100, 0, 30)[:, None, None] * np.ones((50, 70))\n",
      "x, y = np.mgrid[0:20:50j, 0:20:70j]\n",
      "\n",
      "q = np.sin(x) + p\n",
      "p0 = -50."
     ],
     "language": "python",
     "metadata": {},
     "outputs": [],
     "prompt_number": 3
    },
    {
     "cell_type": "markdown",
     "metadata": {},
     "source": [
      "Let's start with a pure Python implementation:"
     ]
    },
    {
     "cell_type": "code",
     "collapsed": false,
     "input": [
      "def naive_zslice(q, p, p0, mask_val=np.NaN):\n",
      "    N, M, L = q.shape[0], q.shape[1], q.shape[2]\n",
      "    \n",
      "    q_iso = np.empty((M, L))\n",
      "    for i in range(L):\n",
      "        for j in range(M):\n",
      "            q_iso[j, i] = mask_val\n",
      "            for k in range(N-1):\n",
      "                if (((p[k, j, i] < p0) and (p[k+1, j, i] > p0)) or\n",
      "                    ((p[k, j, i] > p0) and (p[k+1, j, i] < p0))):\n",
      "                    dp = p[k+1, j, i] - p[k, j, i]\n",
      "                    dp0 = p0 - p[k, j, i]\n",
      "                    dq = q[k+1, j, i] - q[k, j, i]\n",
      "                    q_iso[j, i] = q[k, j, i] + dq*dp0/dp\n",
      "    return q_iso"
     ],
     "language": "python",
     "metadata": {},
     "outputs": [],
     "prompt_number": 4
    },
    {
     "cell_type": "code",
     "collapsed": false,
     "input": [
      "naive = %timeit -n1000 -o naive_zslice(q, p, p0)"
     ],
     "language": "python",
     "metadata": {},
     "outputs": [
      {
       "output_type": "stream",
       "stream": "stdout",
       "text": [
        "1000 loops, best of 3: 59.9 ms per loop\n"
       ]
      }
     ],
     "prompt_number": 5
    },
    {
     "cell_type": "markdown",
     "metadata": {},
     "source": [
      "It works, but it is way too slow.\n",
      "Imagine a slice of a high resolution global ocean model!\n",
      "The \"state-of-art\" for iso-surface is the original version,\n",
      "written in Fortran, that I based my `naive_zslice()` above.\n",
      "\n",
      "Since can easily wrap Fortran in Python let's try that out."
     ]
    },
    {
     "cell_type": "code",
     "collapsed": false,
     "input": [
      "%load_ext fortranmagic"
     ],
     "language": "python",
     "metadata": {},
     "outputs": [
      {
       "javascript": [
        "$.getScript(\"https://raw.github.com/marijnh/CodeMirror/master/mode/fortran/fortran.js\", function () {\n",
        "IPython.config.cell_magic_highlight['magic_fortran'] = {'reg':[/^%%fortran/]};});\n"
       ],
       "metadata": {},
       "output_type": "display_data"
      }
     ],
     "prompt_number": 6
    },
    {
     "cell_type": "code",
     "collapsed": false,
     "input": [
      "%%fortran\n",
      "\n",
      "      subroutine fortran_zslice(q, p, p0, q_iso, L, M, N)\n",
      "      implicit none\n",
      "      integer L, M, N\n",
      "      real*8 q(N,M,L)\n",
      "      real*8 p(N,M,L)\n",
      "      real*8 q_iso(M,L)\n",
      "cf2py intent(out) q_iso\n",
      "      integer i, j, k\n",
      "      real*8 dq, dp, dp0, p0\n",
      "\n",
      "      do i=1,L\n",
      "        do j=1,M\n",
      "          q_iso(j,i)=1.0d20 ! default value - isoline not in profile\n",
      "          do k=1,N-1\n",
      "            if ( (p(k,j,i).lt.p0.and.p(k+1,j,i).gt.p0).or.\n",
      "     &           (p(k,j,i).gt.p0.and.p(k+1,j,i).lt.p0) ) then\n",
      "              dp = p(k+1,j,i) - p(k,j,i)\n",
      "              dp0 = p0 - p(k,j,i)\n",
      "              dq = q(k+1,j,i) - q(k,j,i)\n",
      "              q_iso(j,i) = q(k,j,i) + dq*dp0/dp\n",
      "            endif\n",
      "          enddo\n",
      "        enddo\n",
      "      enddo\n",
      "\n",
      "      return\n",
      "      end subroutine fortran_zslice"
     ],
     "language": "python",
     "metadata": {},
     "outputs": [],
     "prompt_number": 7
    },
    {
     "cell_type": "code",
     "collapsed": false,
     "input": [
      "fotran = %timeit -n1000 -o fortran_zslice(q, p, p0)"
     ],
     "language": "python",
     "metadata": {},
     "outputs": [
      {
       "output_type": "stream",
       "stream": "stdout",
       "text": [
        "1000 loops, best of 3: 746 \u00b5s per loop\n"
       ]
      }
     ],
     "prompt_number": 8
    },
    {
     "cell_type": "markdown",
     "metadata": {},
     "source": [
      "An impressive speedup!\n",
      "Way to go good old [Fortran](https://www.youtube.com/watch?v=0-hmzurm4SE).\n",
      "However, it is not easy to ship Python wrapped Fortran code on Windows :-(\n",
      "\n",
      "We can be more Windows friendly and try Cython.\n",
      "Note that cython also needs a compilation step, but compiling cython code on\n",
      "Windows is way easier than Fortran."
     ]
    },
    {
     "cell_type": "code",
     "collapsed": false,
     "input": [
      "%load_ext Cython"
     ],
     "language": "python",
     "metadata": {},
     "outputs": [],
     "prompt_number": 9
    },
    {
     "cell_type": "code",
     "collapsed": false,
     "input": [
      "%%cython\n",
      "\n",
      "cimport cython\n",
      "import numpy as np\n",
      "cimport numpy as np\n",
      "\n",
      "@cython.boundscheck(False)\n",
      "@cython.wraparound(False)\n",
      "def cython_zslice(double[:, :, ::1] q,\n",
      "                    double[:, :, ::1] p,\n",
      "                    double p0,\n",
      "                    mask_val=np.NaN):\n",
      "    cdef int L = q.shape[2]\n",
      "    cdef int M = q.shape[1]\n",
      "    cdef int N = q.shape[0]\n",
      "    cdef double dp, dq, dq0\n",
      "    cdef int i, j, k\n",
      "    \n",
      "    cdef double[:, ::1] q_iso = np.empty((M, L), dtype=np.float64)\n",
      "    \n",
      "    for i in range(L):\n",
      "        for j in range(M):\n",
      "            q_iso[j, i] = mask_val\n",
      "            for k in range(N-1):\n",
      "                if (((p[k, j, i] < p0) and (p[k+1, j, i] > p0)) or\n",
      "                    ((p[k, j, i] > p0) and (p[k+1, j, i] < p0))):\n",
      "                    dp = p[k+1, j, i] - p[k, j, i]\n",
      "                    dp0 = p0 - p[k, j, i]\n",
      "                    dq = q[k+1, j, i] - q[k, j, i]\n",
      "                    q_iso[j, i] = q[k, j, i] + dq*dp0/dp\n",
      "    return np.array(q_iso)"
     ],
     "language": "python",
     "metadata": {},
     "outputs": [],
     "prompt_number": 10
    },
    {
     "cell_type": "code",
     "collapsed": false,
     "input": [
      "cython = %timeit -n1000 -o cython_zslice(q, p, p0)"
     ],
     "language": "python",
     "metadata": {},
     "outputs": [
      {
       "output_type": "stream",
       "stream": "stdout",
       "text": [
        "1000 loops, best of 3: 505 \u00b5s per loop\n"
       ]
      }
     ],
     "prompt_number": 11
    },
    {
     "cell_type": "markdown",
     "metadata": {},
     "source": [
      "Slightly better than Fortran ;-)\n",
      "I am not a cython expert.\n",
      "All I did was follow to follow a few blog posts\n",
      "(see [1](https://jakevdp.github.io/blog/2012/08/08/memoryview-benchmarks/)\n",
      "and\n",
      "[2](https://jakevdp.github.io/blog/2012/08/16/memoryview-benchmarks-2/)).\n",
      "I am pretty sure someone might come up with a way to make this faster.\n",
      "\n",
      "Another possibility I wanted to try is the new kid on the block,\n",
      "[numba](http://numba.pydata.org/).\n",
      "\n",
      "I remember meeting Travis Oliphant during the AMS Meeting in 2012.\n",
      "At that time all he could talk about was `llvm` and some crazy ideas on how to use it.\n",
      "\n",
      "A few months later those ideas became numba and, since then,\n",
      "numba has evolved a lot.\n",
      "One one side numba is still hard to install by yourself,\n",
      "but conda takes that pain away.  (Available on Windows too BTW.)\n",
      "\n",
      "The easiest way to use numba is to import the just-in-time compiler decorator and decorate your function.\n",
      "Note that numba is \"kind-of\" like the Julia language and pypy:\n",
      "it can optimize dumb loops, but if your code use some smart vectorization you won't get much out of it.\n",
      "\n",
      "Here is a copy the `naive_zslice` from above decorated with numba."
     ]
    },
    {
     "cell_type": "code",
     "collapsed": false,
     "input": [
      "from numba.decorators import jit\n",
      "\n",
      "@jit\n",
      "def numba_zslice(q, p, p0, mask_val=np.NaN):\n",
      "    N, M, L = q.shape[0], q.shape[1], q.shape[2]\n",
      "    \n",
      "    q_iso = np.empty((M, L))\n",
      "    for i in range(L):\n",
      "        for j in range(M):\n",
      "            q_iso[j, i] = mask_val\n",
      "            for k in range(N-1):\n",
      "                if (((p[k, j, i] < p0) and (p[k+1, j, i] > p0)) or\n",
      "                    ((p[k, j, i] > p0) and (p[k+1, j, i] < p0))):\n",
      "                    dp = p[k+1, j, i] - p[k, j, i]\n",
      "                    dp0 = p0 - p[k, j, i]\n",
      "                    dq = q[k+1, j, i] - q[k, j, i]\n",
      "                    q_iso[j, i] = q[k, j, i] + dq*dp0/dp\n",
      "    return q_iso"
     ],
     "language": "python",
     "metadata": {},
     "outputs": [],
     "prompt_number": 12
    },
    {
     "cell_type": "code",
     "collapsed": false,
     "input": [
      "numba = %timeit -n1000 -o numba_zslice(q, p, p0)"
     ],
     "language": "python",
     "metadata": {},
     "outputs": [
      {
       "output_type": "stream",
       "stream": "stdout",
       "text": [
        "1000 loops, best of 3: 175 \u00b5s per loop\n"
       ]
      }
     ],
     "prompt_number": 13
    },
    {
     "cell_type": "markdown",
     "metadata": {},
     "source": [
      "A fantastic speedup with literally zero effort.\n",
      "I spent a few hours reading about cython and spoke with some people with\n",
      "more experience to get the results above.\n",
      "In numba all I did was to add the `@jit` decorator!\n",
      "\n",
      "Just for the sake of completeness let's try using a few numpy tricks and\n",
      "make a non-naive Python version.\n",
      "\n",
      "Note that this function was in fact one of my very first Python functions!\n",
      "It was based on an old Matlab script to do zslices."
     ]
    },
    {
     "cell_type": "code",
     "collapsed": false,
     "input": [
      "def numpy_zslice(q, p, p0):\n",
      "    N, L, M = q.shape\n",
      "\n",
      "    p0 = -abs(p0)\n",
      "\n",
      "    data = q.reshape(N, -1, order='F')\n",
      "    z = p.reshape(N, -1, order='F')\n",
      "\n",
      "    bottom = np.zeros((1, L*M))\n",
      "    top = np.empty_like(bottom)\n",
      "    top.fill(-np.inf)\n",
      "    z = np.r_[top, z, bottom]\n",
      "\n",
      "    top.fill(np.NaN)\n",
      "    data = np.r_[top, data, data[-1, ...][None, :]]\n",
      "\n",
      "    z, data = map(np.flipud, (z, data))\n",
      "\n",
      "    zg_ind = np.diff(z < p0, axis=0).ravel('F').nonzero()[0]\n",
      "    zg_ind += np.arange(0, len(zg_ind), 1)\n",
      "    depth_greater_z = z.ravel('F')[zg_ind]\n",
      "    data_greater_z = data.ravel('F')[zg_ind]\n",
      "\n",
      "    zl_ind = np.diff(z > p0, axis=0).ravel('F').nonzero()[0]\n",
      "    zl_ind += np.arange(1, len(zg_ind)+1, 1)\n",
      "    depth_lesser_z = z.ravel('F')[zl_ind]\n",
      "    data_lesser_z = data.ravel('F')[zl_ind]\n",
      "\n",
      "    alpha = (p0-depth_greater_z) / (depth_lesser_z-depth_greater_z)\n",
      "    data_at_depth = (data_lesser_z*alpha) + (data_greater_z*(1-alpha))\n",
      "    return data_at_depth.reshape(L, M, order='F')"
     ],
     "language": "python",
     "metadata": {},
     "outputs": [],
     "prompt_number": 14
    },
    {
     "cell_type": "code",
     "collapsed": false,
     "input": [
      "numpy = %timeit -n1000 -o numpy_zslice(q, p, p0)"
     ],
     "language": "python",
     "metadata": {},
     "outputs": [
      {
       "output_type": "stream",
       "stream": "stdout",
       "text": [
        "1000 loops, best of 3: 2.46 ms per loop\n"
       ]
      }
     ],
     "prompt_number": 15
    },
    {
     "cell_type": "heading",
     "level": 3,
     "metadata": {},
     "source": [
      "Sure it is not as good as the compiled trio (Numba, Fortran, and Cython),\n",
      "but not bad either.  Also, unlike the other options, numpy is easy to install and ship any where. (Including my old [n900](https://en.wikipedia.org/wiki/Nokia_N900).)\n",
      "\n",
      "Summarize the result in one graph:"
     ]
    },
    {
     "cell_type": "code",
     "collapsed": false,
     "input": [
      "from pandas import Series\n",
      "\n",
      "benchmarkings = dict(naive=naive.best,\n",
      "                     numpy=numpy.best,\n",
      "                     fortran=fotran.best,\n",
      "                     cython=cython.best,\n",
      "                     numba=numba.best)\n",
      "\n",
      "benchmarkings = Series(benchmarkings)\n",
      "benchmarkings.sort(ascending=False)\n",
      "\n",
      "ax = benchmarkings.plot(kind='bar', logy=True)\n",
      "yt = ax.set_ylabel('Times (ms)')"
     ],
     "language": "python",
     "metadata": {},
     "outputs": [
      {
       "metadata": {},
       "output_type": "display_data",
       "png": "[encoded data removed]",
       "text": [
        "<matplotlib.figure.Figure at 0x7f366a067b90>"
       ]
      }
     ],
     "prompt_number": 16
    },
    {
     "cell_type": "markdown",
     "metadata": {},
     "source": [
      "And to close this post up let's try iso-slices with some real data."
     ]
    },
    {
     "cell_type": "code",
     "collapsed": true,
     "input": [
      "import warnings\n",
      "\n",
      "import iris\n",
      "\n",
      "\n",
      "url = ('http://tds.marine.rutgers.edu/thredds/dodsC/roms/espresso/2013_da/avg/'\n",
      "       'ESPRESSO_Real-Time_v2_Averages_Best')\n",
      "\n",
      "\n",
      "with warnings.catch_warnings():\n",
      "    warnings.simplefilter(\"ignore\")\n",
      "    cubes = iris.load_raw(url)"
     ],
     "language": "python",
     "metadata": {},
     "outputs": [],
     "prompt_number": 17
    },
    {
     "cell_type": "code",
     "collapsed": true,
     "input": [
      "salt = cubes.extract_strict('sea_water_salinity')[-1, ...]  # Last time step.\n",
      "\n",
      "lon = salt.coord(axis='X').points\n",
      "lat = salt.coord(axis='Y').points"
     ],
     "language": "python",
     "metadata": {},
     "outputs": [],
     "prompt_number": 18
    },
    {
     "cell_type": "code",
     "collapsed": true,
     "input": [
      "p = salt.coord('sea_surface_height_above_reference_ellipsoid').points\n",
      "q = salt.data"
     ],
     "language": "python",
     "metadata": {},
     "outputs": [],
     "prompt_number": 19
    },
    {
     "cell_type": "code",
     "collapsed": false,
     "input": [
      "p0 = -500.0\n",
      "\n",
      "naive_500 = naive_zslice(q, p, p0)\n",
      "numba_500 = numba_zslice(q, p, p0)\n",
      "numpy_500 = numpy_zslice(q, p, p0)\n",
      "fortran_500 = fortran_zslice(q, p, p0)\n",
      "# I could not figure out how to use mixed float32/float64 as input for cython!\n",
      "cython_500 = cython_zslice(q.astype(np.float64), p, p0)"
     ],
     "language": "python",
     "metadata": {},
     "outputs": [],
     "prompt_number": 20
    },
    {
     "cell_type": "markdown",
     "metadata": {},
     "source": [
      "And we have to to be sure to check if all these functions return the same result."
     ]
    },
    {
     "cell_type": "code",
     "collapsed": false,
     "input": [
      "import numpy.ma as ma\n",
      "\n",
      "\n",
      "fortran_500 = ma.masked_equal(fortran_500, 1.00000000e+20)\n",
      "\n",
      "slices = naive_500, cython_500, numba_500, numpy_500\n",
      "naive_500, cython_500, numba_500, numpy_500 = map(ma.masked_invalid, (slices))\n",
      "\n",
      "all([ma.allclose(naive_500, cython_500),\n",
      "     ma.allclose(naive_500, numba_500),\n",
      "     ma.allclose(naive_500, numpy_500)])"
     ],
     "language": "python",
     "metadata": {},
     "outputs": [
      {
       "metadata": {},
       "output_type": "pyout",
       "prompt_number": 21,
       "text": [
        "True"
       ]
      }
     ],
     "prompt_number": 21
    },
    {
     "cell_type": "code",
     "collapsed": true,
     "input": [
      "import matplotlib.pyplot as plt\n",
      "\n",
      "import cartopy.crs as ccrs\n",
      "from cartopy.io import shapereader\n",
      "from cartopy.mpl.gridliner import LONGITUDE_FORMATTER, LATITUDE_FORMATTER\n",
      "\n",
      "extent = [lon.min(), lon.max(),\n",
      "          lat.min(), lat.max()]\n",
      "\n",
      "cmap = plt.cm.Greens\n",
      "\n",
      "def make_map(projection=ccrs.PlateCarree()):\n",
      "    fig, ax = plt.subplots(figsize=(9, 13),\n",
      "                           subplot_kw=dict(projection=projection))\n",
      "    gl = ax.gridlines(draw_labels=True)\n",
      "    gl.xlabels_top = gl.ylabels_right = False\n",
      "    gl.xformatter = LONGITUDE_FORMATTER\n",
      "    gl.yformatter = LATITUDE_FORMATTER\n",
      "    ax.set_extent(extent)\n",
      "    ax.coastlines('50m')\n",
      "    return fig, ax"
     ],
     "language": "python",
     "metadata": {},
     "outputs": [],
     "prompt_number": 22
    },
    {
     "cell_type": "code",
     "collapsed": false,
     "input": [
      "fig, ax = make_map()\n",
      "\n",
      "cs = ax.pcolormesh(lon, lat, naive_500, cmap=cmap)\n",
      "\n",
      "kw = dict(shrink=0.5, orientation='vertical', extend='both')\n",
      "cbar = fig.colorbar(cs, **kw)"
     ],
     "language": "python",
     "metadata": {},
     "outputs": [
      {
       "metadata": {},
       "output_type": "display_data",
       "png": "[encoded data removed]",
       "text": [
        "<matplotlib.figure.Figure at 0x7f365f089490>"
       ]
      }
     ],
     "prompt_number": 23
    },
    {
     "cell_type": "code",
     "collapsed": false,
     "input": [
      "HTML(html)"
     ],
     "language": "python",
     "metadata": {},
     "outputs": [
      {
       "html": [
        "\n",
        "<small>\n",
        "<p> This post was written as an IPython notebook.  It is available for\n",
        "<a href=\"http://ocefpaf.github.com/python4oceanographers/downloads/\n",
        "notebooks/2015-10-05-isosurfaces.ipynb\">download</a> or as a static\n",
        "<a href=\"http://nbviewer.ipython.org/url/ocefpaf.github.com/\n",
        "python4oceanographers/downloads/notebooks/2015-10-05-isosurfaces.ipynb\">html</a>.</p>\n",
        "<p></p>\n",
        "<a rel=\"license\" href=\"http://creativecommons.org/licenses/by-sa/4.0/\"><img\n",
        "alt=\"Creative Commons License\" style=\"border-width:0\"\n",
        "src=\"http://i.creativecommons.org/l/by-sa/4.0/88x31.png\" /></a><br /><span\n",
        "xmlns:dct=\"http://purl.org/dc/terms/\"\n",
        "property=\"dct:title\">python4oceanographers</span> by <a\n",
        "xmlns:cc=\"http://creativecommons.org/ns#\" href=\"http://ocefpaf.github.io/\"\n",
        "property=\"cc:attributionName\" rel=\"cc:attributionURL\">Filipe Fernandes</a> is\n",
        "licensed under a <a rel=\"license\"\n",
        "href=\"http://creativecommons.org/licenses/by-sa/4.0/\">Creative Commons\n",
        "Attribution-ShareAlike 4.0 International License</a>.<br />Based on a work at <a\n",
        "xmlns:dct=\"http://purl.org/dc/terms/\" href=\"http://ocefpaf.github.io/\"\n",
        "rel=\"dct:source\">http://ocefpaf.github.io/</a>.\n",
        " "
       ],
       "metadata": {},
       "output_type": "pyout",
       "prompt_number": 24,
       "text": [
        "<IPython.core.display.HTML at 0x7f3665767910>"
       ]
      }
     ],
     "prompt_number": 24
    }
   ],
   "metadata": {}
  }
 ]
}