{
 "metadata": {
  "kernelspec": {
   "codemirror_mode": {
    "name": "ipython",
    "version": 3
   },
   "display_name": "Iris (Python 2)",
   "language": "python",
   "name": "iris_python2"
  },
  "name": "",
  "signature": "sha256:129d3a23aad0959de30abba71b231188d58458d65e788a2acb031a0467a2471f"
 },
 "nbformat": 3,
 "nbformat_minor": 0,
 "worksheets": [
  {
   "cells": [
    {
     "cell_type": "code",
     "collapsed": false,
     "input": [
      "%matplotlib inline\n",
      "import srtm\n",
      "import numpy as np\n",
      "import numpy.ma as ma\n",
      "import matplotlib.pyplot as plt\n",
      "import cartopy.crs as ccrs\n",
      "from cartopy.feature import NaturalEarthFeature\n",
      "from cartopy.io.srtm import srtm_composite, add_shading, fill_gaps\n",
      "\n",
      "dx, dy = 2, 3\n",
      "lon, lat = (-38.476667, -12.974722)\n",
      "\n",
      "# srtm.py\n",
      "data = srtm.get_data()\n",
      "img = data.get_image((250, 250),\n",
      "                     (lat - dy/2., lat + dy),\n",
      "                     (lon - dx/2., lon + dx), 300)\n",
      "img = np.array(img.convert('L').getdata()).reshape(img.size)\n",
      "\n",
      "# cartopy\n",
      "elev, crs, extent = srtm_composite(lon - dx/2., lat - dy/2., dx, dy)\n",
      "elev = ma.masked_equal(elev, -32768)"
     ],
     "language": "python",
     "metadata": {},
     "outputs": []
    },
    {
     "cell_type": "code",
     "collapsed": false,
     "input": [
      "subplot_kw = dict(projection=ccrs.PlateCarree())\n",
      "fig, (ax0, ax1) = plt.subplots(ncols=2, figsize=(13, 13), subplot_kw=subplot_kw)\n",
      "\n",
      "kw = dict(extent=extent, transform=crs, cmap='Greys')\n",
      "\n",
      "ax0.imshow(img, origin='upper', **kw)\n",
      "ax0.plot(lon, lat, 'ro', alpha=0.5)\n",
      "ax0.coastlines(resolution='10m', color='r')\n",
      "ax0.set_title('srtm.py')\n",
      "gl = ax0.gridlines(draw_labels=False)\n",
      "gl.xlabels_top = gl.ylabels_left = False\n",
      "\n",
      "ax1.imshow(elev, origin='lower', **kw)\n",
      "ax1.plot(lon, lat, 'ro', alpha=0.5)\n",
      "ax1.coastlines(resolution='10m', color='r')\n",
      "ax1.set_title('cartopy')\n",
      "gl = ax1.gridlines(draw_labels=False)\n",
      "gl.xlabels_top = gl.ylabels_left = False"
     ],
     "language": "python",
     "metadata": {},
     "outputs": []
    }
   ],
   "metadata": {}
  }
 ]
}