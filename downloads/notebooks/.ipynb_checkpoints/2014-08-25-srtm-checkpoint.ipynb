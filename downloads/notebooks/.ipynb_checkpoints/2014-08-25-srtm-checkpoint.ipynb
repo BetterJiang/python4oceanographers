{
 "metadata": {
  "kernelspec": {
   "codemirror_mode": {
    "name": "python",
    "version": 3
   },
   "display_name": "Python 3",
   "language": "python",
   "name": "python3"
  },
  "name": "",
  "signature": "sha256:8a3343cc1dc9b963447bdb8197f60e9e73463dc134ef6a0c21e89ea1f36a2068"
 },
 "nbformat": 3,
 "nbformat_minor": 0,
 "worksheets": [
  {
   "cells": [
    {
     "cell_type": "code",
     "collapsed": false,
     "input": [
      "from IPython.core.display import HTML\n",
      "\n",
      "with open('creative_commons.txt', 'r') as f:\n",
      "    html = f.read()\n",
      "    \n",
      "with open('./styles/custom.css', 'r') as f:\n",
      "    styles = f.read()\n",
      "    \n",
      "HTML(styles)\n",
      "\n",
      "name = '2014-08-18-srtm'\n",
      "\n",
      "html = \"\"\"\n",
      "<small>\n",
      "<p> This post was written as an IPython notebook.  It is available for\n",
      "<a href=\"http://ocefpaf.github.com/python4oceanographers/downloads/\n",
      "notebooks/%s.ipynb\">download</a> or as a static\n",
      "<a href=\"http://nbviewer.ipython.org/url/ocefpaf.github.com/\n",
      "python4oceanographers/downloads/notebooks/%s.ipynb\">html</a>.</p>\n",
      "<p></p>\n",
      "%s \"\"\" % (name, name, html)\n",
      "\n",
      "import seaborn\n",
      "%matplotlib inline"
     ],
     "language": "python",
     "metadata": {},
     "outputs": [],
     "prompt_number": 1
    },
    {
     "cell_type": "code",
     "collapsed": false,
     "input": [
      "import srtm\n",
      "import gpxpy\n",
      "\n",
      "def get_line(gpx):\n",
      "    previous_point = None\n",
      "    length = 0\n",
      "    lengths, elevations = [], []\n",
      "    for point in gpx.walk(only_points=True):\n",
      "        if previous_point:\n",
      "            length += previous_point.distance_2d(point)\n",
      "        previous_point = point\n",
      "        lengths.append(length)\n",
      "        elevations.append(point.elevation)\n",
      "    return lengths, elevations\n",
      "\n",
      "def sample_gpx():\n",
      "    return gpxpy.parse(open('./data/2014_07_26_pai_ignacio.gpx'))\n",
      "\n",
      "# Raw\n",
      "gpx = sample_gpx()\n",
      "lengths_raw, elevs_raw = get_line(gpx)\n",
      "\n",
      "# SRTM\n",
      "#gpx = sample_gpx()\n",
      "data = srtm.get_data()\n",
      "data.add_elevations(gpx)\n",
      "lengths_srtm, elevs_srtm = get_line(gpx)\n",
      "\n",
      "# SRTM Smooth\n",
      "gpx = sample_gpx()\n",
      "data = srtm.get_data()\n",
      "data.add_elevations(gpx, smooth=True)\n",
      "lengths_smoo, elevs_smoo = get_line(gpx)"
     ],
     "language": "python",
     "metadata": {},
     "outputs": []
    },
    {
     "cell_type": "code",
     "collapsed": false,
     "input": [
      "fig, ax = plt.subplots(figsize=figsize)\n",
      "ax.plot(lengths_raw, elevs_raw, label='Raw GPS')\n",
      "ax.plot(lengths_srtm, elevs_srtm, label='SRTM')\n",
      "ax.plot(lengths_smoo, elevs_smoo, label='Smoothed SRTM')\n",
      "l = ax.legend()"
     ],
     "language": "python",
     "metadata": {},
     "outputs": []
    },
    {
     "cell_type": "code",
     "collapsed": false,
     "input": [
      "s = gpx.tracks[0].segments[0]\n",
      "lon, lat = np.array([(p.longitude, p.latitude) for p in s.points]).mean(axis=0)\n",
      "center = (lat, lon)\n",
      "\n",
      "elev = srtm.get_data()\n",
      "\n",
      "img = elev.get_image((400, 400),\n",
      "                     (center[0] - 0.5, center[0] + 1),\n",
      "                     (center[1] - 0.5, center[1] + 1), 1000)\n",
      "\n",
      "img"
     ],
     "language": "python",
     "metadata": {},
     "outputs": []
    },
    {
     "cell_type": "code",
     "collapsed": false,
     "input": [
      "from io import BytesIO\n",
      "\n",
      "from PIL import Image\n",
      "from IPython.core import display\n",
      "\n",
      "\n",
      "def display_pil_image(im):\n",
      "   b = BytesIO()\n",
      "   im.save(b, format='png')\n",
      "   data = b.getvalue()\n",
      "\n",
      "   ip_img = display.Image(data=data, format='png', embed=True)\n",
      "   return ip_img._repr_png_()\n",
      "\n",
      "\n",
      "png_formatter = get_ipython().display_formatter.formatters['image/png']\n",
      "dpi = png_formatter.for_type(Image.Image, display_pil_image)"
     ],
     "language": "python",
     "metadata": {},
     "outputs": []
    },
    {
     "cell_type": "code",
     "collapsed": false,
     "input": [
      "HTML(html)"
     ],
     "language": "python",
     "metadata": {},
     "outputs": []
    }
   ],
   "metadata": {}
  }
 ]
}