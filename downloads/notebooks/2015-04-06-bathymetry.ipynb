{
 "metadata": {
  "kernelspec": {
   "display_name": "Iris (Python 2)",
   "language": "python",
   "name": "iris_python2"
  },
  "language_info": {
   "codemirror_mode": {
    "name": "ipython",
    "version": 2
   },
   "file_extension": ".py",
   "mimetype": "text/x-python",
   "name": "python",
   "nbconvert_exporter": "python",
   "pygments_lexer": "ipython2",
   "version": "2.7.8"
  },
  "name": "",
  "signature": "sha256:0bb6fdcce5f4596c571917fceea583882bd2eedd3e7ee126c17eb713c31bc5e4"
 },
 "nbformat": 3,
 "nbformat_minor": 0,
 "worksheets": [
  {
   "cells": [
    {
     "cell_type": "code",
     "collapsed": false,
     "input": [
      "name = '2015-04-06-bathymetry'\n",
      "title = \"Using iris trajectory class to extract a bathymetric profile\"\n",
      "\n",
      "import os\n",
      "from datetime import datetime\n",
      "\n",
      "from IPython.core.display import HTML\n",
      "\n",
      "%matplotlib inline\n",
      "\n",
      "with open('creative_commons.txt', 'r') as f:\n",
      "    html = f.read()\n",
      "    \n",
      "with open('./styles/custom.css', 'r') as f:\n",
      "    styles = f.read()\n",
      "    \n",
      "HTML(styles)\n",
      "\n",
      "\n",
      "html = \"\"\"\n",
      "<small>\n",
      "<p> This post was written as an IPython notebook.  It is available for\n",
      "<a href=\"http://ocefpaf.github.com/python4oceanographers/downloads/\n",
      "notebooks/%s.ipynb\">download</a> or as a static\n",
      "<a href=\"http://nbviewer.ipython.org/url/ocefpaf.github.com/\n",
      "python4oceanographers/downloads/notebooks/%s.ipynb\">html</a>.</p>\n",
      "<p></p>\n",
      "%s \"\"\" % (name, name, html)\n",
      "\n",
      "hour = datetime.utcnow().strftime('%H:%M')\n",
      "comments=\"true\"\n",
      "\n",
      "date = '-'.join(name.split('-')[:3])\n",
      "slug = '-'.join(name.split('-')[3:])\n",
      "\n",
      "metadata = dict(title=title,\n",
      "                date=date,\n",
      "                hour=hour,\n",
      "                comments=comments,\n",
      "                slug=slug,\n",
      "                name=name)\n",
      "\n",
      "markdown = \"\"\"Title: {title}\n",
      "date:  {date} {hour}\n",
      "comments: {comments}\n",
      "slug: {slug}\n",
      "\n",
      "{{% notebook {name}.ipynb cells[1:] %}}\n",
      "\"\"\".format(**metadata)\n",
      "\n",
      "content = os.path.abspath(os.path.join(os.getcwd(), os.pardir, os.pardir, '{}.md'.format(name)))\n",
      "with open('{}'.format(content), 'w') as f:\n",
      "    f.writelines(markdown)"
     ],
     "language": "python",
     "metadata": {},
     "outputs": [],
     "prompt_number": 1
    },
    {
     "cell_type": "markdown",
     "metadata": {},
     "source": [
      "Iris has a built-in\n",
      "[Trajectory](http://scitools.org.uk/iris/docs/v1.7/iris/iris/analysis/trajectory.html#iris.analysis.trajectory.Trajectory)\n",
      "class that is very easy to use.  You have to enter the waypoints and the number\n",
      "of linear spaced points between them.  Imagine a `np.linspace` for lon, lat\n",
      "points.  Below I will demonstrate with a simple use to extract\n",
      "bathymetric values from\n",
      "[ETOPO2](http://www.ngdc.noaa.gov/mgg/fliers/01mgg04.html)."
     ]
    },
    {
     "cell_type": "code",
     "collapsed": false,
     "input": [
      "import iris\n",
      "\n",
      "url = \"http://opendap.ccst.inpe.br/Misc/etopo2/ETOPO2v2c_f4.nc\"\n",
      "cube = iris.load_cube(url)\n",
      "\n",
      "print(cube)"
     ],
     "language": "python",
     "metadata": {},
     "outputs": [
      {
       "output_type": "stream",
       "stream": "stdout",
       "text": [
        "z / (1)                             (y: 5400; x: 10800)\n",
        "     Dimension coordinates:\n",
        "          y                           x        -\n",
        "          x                           -        x\n",
        "     Attributes:\n",
        "          Conventions: COARDS\n",
        "          actual_range: [-10791.   8440.]\n",
        "          node_offset: 1\n",
        "          source:                         -Rd -I2m -ZTLf                          \n",
        "          title: \n"
       ]
      }
     ],
     "prompt_number": 2
    },
    {
     "cell_type": "markdown",
     "metadata": {},
     "source": [
      "The cube has global data, let's reduce it to a smaller area."
     ]
    },
    {
     "cell_type": "code",
     "collapsed": false,
     "input": [
      "lon = iris.Constraint(x=lambda cell: -54 <= cell <= -20)\n",
      "lat = iris.Constraint(y=lambda cell: -30 <= cell <= -12)\n",
      "\n",
      "cube = cube.extract(lon & lat)\n",
      "\n",
      "print(cube)"
     ],
     "language": "python",
     "metadata": {},
     "outputs": [
      {
       "output_type": "stream",
       "stream": "stdout",
       "text": [
        "z / (1)                             (y: 540; x: 1020)\n",
        "     Dimension coordinates:\n",
        "          y                           x       -\n",
        "          x                           -       x\n",
        "     Attributes:\n",
        "          Conventions: COARDS\n",
        "          actual_range: [-10791.   8440.]\n",
        "          node_offset: 1\n",
        "          source:                         -Rd -I2m -ZTLf                          \n",
        "          title: \n"
       ]
      }
     ],
     "prompt_number": 3
    },
    {
     "cell_type": "markdown",
     "metadata": {},
     "source": [
      "Here is how to construct a trajectory."
     ]
    },
    {
     "cell_type": "code",
     "collapsed": false,
     "input": [
      "from iris.analysis import trajectory\n",
      "\n",
      "waypoints = [{'x': -38.5, 'y': -20.65}, {'x': -28.5, 'y': -20.65}]\n",
      "\n",
      "#[(-38.594367271025789, -20.40487006995896),\n",
      "#(-28.695012274806029, -20.531784877602803)]\n",
      "\n",
      "traj = trajectory.Trajectory(waypoints, sample_count=30)\n",
      "\n",
      "traj"
     ],
     "language": "python",
     "metadata": {},
     "outputs": [
      {
       "metadata": {},
       "output_type": "pyout",
       "prompt_number": 4,
       "text": [
        "Trajectory([{'y': -20.65, 'x': -38.5}, {'y': -20.65, 'x': -28.5}], sample_count=30)"
       ]
      }
     ],
     "prompt_number": 4
    },
    {
     "cell_type": "code",
     "collapsed": false,
     "input": [
      "traj.sampled_points[:5]  # First 5 points"
     ],
     "language": "python",
     "metadata": {},
     "outputs": [
      {
       "metadata": {},
       "output_type": "pyout",
       "prompt_number": 5,
       "text": [
        "[{'x': -38.5, 'y': -20.65},\n",
        " {'x': -38.1551724137931, 'y': -20.65},\n",
        " {'x': -37.810344827586206, 'y': -20.65},\n",
        " {'x': -37.46551724137931, 'y': -20.65},\n",
        " {'x': -37.12068965517241, 'y': -20.65}]"
       ]
      }
     ],
     "prompt_number": 5
    },
    {
     "cell_type": "code",
     "collapsed": false,
     "input": [
      "traj.length * 111  # Approximate distance in km."
     ],
     "language": "python",
     "metadata": {},
     "outputs": [
      {
       "metadata": {},
       "output_type": "pyout",
       "prompt_number": 6,
       "text": [
        "1110.0"
       ]
      }
     ],
     "prompt_number": 6
    },
    {
     "cell_type": "markdown",
     "metadata": {},
     "source": [
      "Here is where iris is a little bit annoying.  The\n",
      "[`trajectory.interpolate`](http://scitools.org.uk/iris/docs/v1.7/iris/iris/analysis/trajectory.html#iris.analysis.trajectory.interpolate)\n",
      "seems to be the intended consumer of this trajectory object, but interpolate\n",
      "takes a tuple with `x` and `y` points, while the Trajectory object is a list\n",
      "of dictionaries.  I am sure there is a reason for that!\n",
      "(I just cannot see it ;-)\n",
      "\n",
      "Anyways, we can quickly transform this into the input expected by interpolate."
     ]
    },
    {
     "cell_type": "code",
     "collapsed": false,
     "input": [
      "lon = [d['x'] for d in traj.sampled_points]\n",
      "lat = [d['y'] for d in traj.sampled_points]\n",
      "\n",
      "sampled_points = [('x', lon),\n",
      "                  ('y', lat)]\n",
      "\n",
      "section = trajectory.interpolate(cube, sampled_points)\n",
      "\n",
      "print(section)"
     ],
     "language": "python",
     "metadata": {},
     "outputs": [
      {
       "output_type": "stream",
       "stream": "stdout",
       "text": [
        "z / (1)                             (-- : 30)\n",
        "     Auxiliary coordinates:\n",
        "          x                             x\n",
        "          y                             x\n",
        "     Attributes:\n",
        "          Conventions: COARDS\n",
        "          actual_range: [-10791.   8440.]\n",
        "          node_offset: 1\n",
        "          source:                         -Rd -I2m -ZTLf                          \n",
        "          title: \n"
       ]
      }
     ],
     "prompt_number": 7
    },
    {
     "cell_type": "markdown",
     "metadata": {},
     "source": [
      "Not that the interpolated section data is a cube.  Lovely!  Now all that is to\n",
      "plot the section we extracted."
     ]
    },
    {
     "cell_type": "code",
     "collapsed": true,
     "input": [
      "import numpy as np\n",
      "import cartopy.crs as ccrs\n",
      "import matplotlib.pyplot as plt\n",
      "from palettable import colorbrewer\n",
      "from cartopy.mpl.gridliner import LONGITUDE_FORMATTER, LATITUDE_FORMATTER\n",
      "\n",
      "land = colorbrewer.get_map('Greens', 'sequential', 9)\n",
      "ocean = colorbrewer.get_map('Blues', 'sequential', 9, reverse=True)\n",
      "\n",
      "colors = np.array(ocean.mpl_colors + land.mpl_colors)\n",
      "levels = [-9000, -6000, -5000, -4000, -3000, -2500, -1000, -700, -400, -145, -10, 0, 10, 145, 400, 800, 1200, 1600]\n",
      "\n",
      "\n",
      "def make_map(projection=ccrs.PlateCarree()):\n",
      "    fig, ax = plt.subplots(figsize=(8, 8), subplot_kw=dict(projection=projection))\n",
      "    ax.coastlines(resolution='50m')\n",
      "    gl = ax.gridlines(draw_labels=True)\n",
      "    gl.xlabels_top = gl.ylabels_right  = False\n",
      "    gl.xformatter = LONGITUDE_FORMATTER\n",
      "    gl.yformatter = LATITUDE_FORMATTER\n",
      "    return fig, ax"
     ],
     "language": "python",
     "metadata": {},
     "outputs": [],
     "prompt_number": 8
    },
    {
     "cell_type": "code",
     "collapsed": false,
     "input": [
      "import seawater as sw\n",
      "from matplotlib.ticker import MaxNLocator\n",
      "\n",
      "lons = cube.coord('x').points\n",
      "lats = cube.coord('y').points\n",
      "\n",
      "dist = np.r_[0, sw.dist(lat, lon)[0].cumsum()]\n",
      "\n",
      "fig, ax = make_map(projection=ccrs.PlateCarree())\n",
      "offset = 1\n",
      "ax.set_extent([lons.min()+offset, lons.max()-offset,\n",
      "               lats.min()+offset, lats.max()-offset])\n",
      "cs = ax.contourf(lons, lats, cube.data, levels=levels, colors=colors)\n",
      "l, = ax.plot(lon, lat, 'r', linewidth=2, alpha=0.7)\n",
      "\n",
      "inset_ax = fig.add_axes([0.47, 0.4, 0.26, 0.125], frameon=False)\n",
      "c = inset_ax.fill_between(dist, -section.data, y2=5000, color=\"none\",\n",
      "                          hatch=\"//\", edgecolor='k', interpolate=True)\n",
      "inset_ax.yaxis.tick_right()\n",
      "inset_ax.axis([0, 1090, -400, 4000])\n",
      "inset_ax.xaxis.tick_bottom()\n",
      "inset_ax.yaxis.tick_right()\n",
      "inset_ax.invert_yaxis()\n",
      "\n",
      "inset_ax.yaxis.set_major_locator(MaxNLocator(4))\n",
      "inset_ax.xaxis.set_major_locator(MaxNLocator(5))"
     ],
     "language": "python",
     "metadata": {},
     "outputs": [
      {
       "metadata": {},
       "output_type": "display_data",
       "png": "[encoded data removed]",
       "text": [
        "<matplotlib.figure.Figure at 0x7f08f27d3a90>"
       ]
      }
     ],
     "prompt_number": 9
    },
    {
     "cell_type": "markdown",
     "metadata": {},
     "source": [
      "If you are curious\n",
      "[here](http://en.wikipedia.org/wiki/Trindade_hotspot) is the feature I am using\n",
      "for the example.\n",
      "\n",
      "Have fun!"
     ]
    },
    {
     "cell_type": "code",
     "collapsed": false,
     "input": [
      "HTML(html)"
     ],
     "language": "python",
     "metadata": {},
     "outputs": [
      {
       "html": [
        "\n",
        "<small>\n",
        "<p> This post was written as an IPython notebook.  It is available for\n",
        "<a href=\"http://ocefpaf.github.com/python4oceanographers/downloads/\n",
        "notebooks/2015-04-06-bathymetry.ipynb\">download</a> or as a static\n",
        "<a href=\"http://nbviewer.ipython.org/url/ocefpaf.github.com/\n",
        "python4oceanographers/downloads/notebooks/2015-04-06-bathymetry.ipynb\">html</a>.</p>\n",
        "<p></p>\n",
        "<a rel=\"license\" href=\"http://creativecommons.org/licenses/by-sa/4.0/\"><img\n",
        "alt=\"Creative Commons License\" style=\"border-width:0\"\n",
        "src=\"http://i.creativecommons.org/l/by-sa/4.0/88x31.png\" /></a><br /><span\n",
        "xmlns:dct=\"http://purl.org/dc/terms/\"\n",
        "property=\"dct:title\">python4oceanographers</span> by <a\n",
        "xmlns:cc=\"http://creativecommons.org/ns#\" href=\"http://ocefpaf.github.io/\"\n",
        "property=\"cc:attributionName\" rel=\"cc:attributionURL\">Filipe Fernandes</a> is\n",
        "licensed under a <a rel=\"license\"\n",
        "href=\"http://creativecommons.org/licenses/by-sa/4.0/\">Creative Commons\n",
        "Attribution-ShareAlike 4.0 International License</a>.<br />Based on a work at <a\n",
        "xmlns:dct=\"http://purl.org/dc/terms/\" href=\"http://ocefpaf.github.io/\"\n",
        "rel=\"dct:source\">http://ocefpaf.github.io/</a>.\n",
        " "
       ],
       "metadata": {},
       "output_type": "pyout",
       "prompt_number": 10,
       "text": [
        "<IPython.core.display.HTML at 0x7f091a7b9cd0>"
       ]
      }
     ],
     "prompt_number": 10
    }
   ],
   "metadata": {}
  }
 ]
}
