{
 "metadata": {
  "name": "",
  "signature": "sha256:f82042d057f6faf3dc778c3c5e4415c5b5275f37133b9d4ac562ba76b935c5da"
 },
 "nbformat": 3,
 "nbformat_minor": 0,
 "worksheets": [
  {
   "cells": [
    {
     "cell_type": "code",
     "collapsed": false,
     "input": [
      "from IPython.core.display import HTML\n",
      "\n",
      "with open('creative_commons.txt', 'r') as f:\n",
      "    html = f.read()\n",
      "    \n",
      "with open('./styles/custom.css', 'r') as f:\n",
      "    styles = f.read()\n",
      "    \n",
      "HTML(styles)\n",
      "\n",
      "name = 'chap5_diffusion'\n",
      "\n",
      "html = \"\"\"\n",
      "<small>\n",
      "<p> This post was written as an IPython notebook. It is available for <a href=\"http://ocef\n",
      "paf.github.com/downloads/notebooks/%s.ipynb\">download</a> or as a static <a href=\"http://\n",
      "nbviewer.ipython.org/url/ocefpaf.github.com/downloads/notebooks/%s.ipynb\">html</a>.</p>\n",
      "<p></p>\n",
      "%s \"\"\" % (name, name, html)"
     ],
     "language": "python",
     "metadata": {},
     "outputs": []
    },
    {
     "cell_type": "markdown",
     "metadata": {},
     "source": [
      "This post is part of the\n",
      "[Introduction to Geophysical Fluid Dynamics, 2nd Edition](http://store.elsevier.com/product.jsp?isbn=9780120887590)\n",
      "post series on converting the MatlabTM examples to python.  Chapter 3 contains\n",
      "just one mfile with an implementation for the Equation of State-80\n",
      "(Chapter 3.3 -- Equation of State.)\n",
      "\n",
      "But before we go any further it is worth mentioning that the Equation of State$^1$\n",
      "([EOS-80](http://www.teos-10.org/preteos10_software/)) is superseded by the\n",
      "Thermodynamic Equation of State$^2$ ([TEOS-10](http://unesdoc.unesco.org/images/0018/001881/188170e.pdf)).\n",
      "Also, both EOS-80 and TEOS-10 have been implemented for FORTRAN, MatlabTM and\n",
      "of-course Python ([gsw](https://github.com/ocefpaf/python-gsw) and [seawater](https://github.com/ocefpaf/python-seawater))\n",
      "\n",
      "Now we can start the post!  I usually ask my students to open and inspect all\n",
      "code they will use.  Never using code in a \"black box\" manner.\n",
      "\n",
      "For that goal, EOS-80 (eqs. 1), is a great exercise: easy to understand, quick\n",
      "to implement and with great accompanying\n",
      "[documentation](https://raw.github.com/ocefpaf/python-seawater/master/docs/UNESCO-TechPaper44_eo.pdf)$^1$.\n",
      "\n",
      "<!--\n",
      "Compare values of density obtained with the full equation of state for seawater\n",
      "*ies80* with values obtained from the linearized version (3.4), for various\n",
      "trial values of $T$ and $S$.  Then compare density differences between two\n",
      "different water masses, calculated again with both state equations.  Finally,\n",
      "using numerical derivatives of the full equation of state with, can you provide\n",
      "a numerical estimate for the expansion coefficients $\\alpha$ and $\\beta$\n",
      "introduced in (3.4) for a Mediterranean water mass of $T_o$ = 12.8$^{\\circ}$C,\n",
      "$S_o$ = 38.4?\n",
      "\n",
      "Valid for S = 0 to 42 ; t = -2 to 40$^{\\circ}$C ; p = 0 to 10000 dbar\n",
      "-->"
     ]
    },
    {
     "cell_type": "markdown",
     "metadata": {},
     "source": [
      "### Parameters."
     ]
    },
    {
     "cell_type": "code",
     "collapsed": false,
     "input": [
      "import numpy as np\n",
      "import matplotlib.pyplot as plt"
     ],
     "language": "python",
     "metadata": {},
     "outputs": [],
     "prompt_number": 1
    },
    {
     "cell_type": "code",
     "collapsed": false,
     "input": [
      "# Calculation nodes (first point below bottom, last one above surface.\n",
      "# Boundaries between two first points and two last points)\n",
      "# (M-2)*DZ=H\n",
      "# N number of time steps\n",
      "# Think about the number N of steps to be performed to simulate a fixed time\n",
      "# inverval\n",
      "# You can adapt the speed of plotting by adapting timetowait.\n",
      "timetowait = 0.5\n",
      "\n",
      "# Number of grid nodes.\n",
      "M = 20\n",
      "# Depth.\n",
      "H = 100\n",
      "# Diffusion coefficient.\n",
      "kappa = 0.01\n",
      "# Grid spacing.\n",
      "DZ = H / (M-2)\n",
      "# Time step\n",
      "DT = H**2 / kappa / M\n",
      "# Number of time steps.\n",
      "N = 20\n",
      "# Time origin.\n",
      "t = 0\n",
      "# 2 * DS is the (arbitrary) initial difference of C across the domain..\n",
      "DS = -1"
     ],
     "language": "python",
     "metadata": {},
     "outputs": [],
     "prompt_number": 2
    },
    {
     "cell_type": "markdown",
     "metadata": {},
     "source": [
      "### Resolution and plot."
     ]
    },
    {
     "cell_type": "code",
     "collapsed": false,
     "input": [
      "# Initial field for field CN, you can verify that the finite difference at the\n",
      "# boundary leads to zero gradients.\n",
      "\n",
      "z, CN = np.zeros(M), np.zeros(M)\n",
      "for k in range(M):\n",
      "    z[k] = -H + (k - 1/2) * DZ\n",
      "    CN[k] = 37 + DS * np.cos(z[k] / H * np.pi)"
     ],
     "language": "python",
     "metadata": {},
     "outputs": [],
     "prompt_number": 10
    },
    {
     "cell_type": "code",
     "collapsed": false,
     "input": [
      "fig, ax = plt.subplots()\n",
      "\n",
      "CNP = np.zeros(M)\n",
      "\n",
      "# Make N time steps.\n",
      "for n in range(N):\n",
      "    ax.plot(CN, z)\n",
      "    ax.set_xlabel('S')\n",
      "    ax.set_ylabel('z')\n",
      "    \n",
      "    # Values for interior points.\n",
      "    for i in range(1, M):\n",
      "        CNP[i] += kappa * DT / DZ / DZ * (CN[i] - 2 * CN[i+1] + CN[i+2])\n",
      "\n",
      "    # Update new values and diagnose conservation at time step n by summing concentrations.\n",
      "    SUM[n] = 0\n",
      "    for i in (1, M):\n",
      "        # New value is old value for next step.\n",
      "        CN[i] = CNP[i]\n",
      "        # Diagnose sum (integral).\n",
      "        SUM[n] += CN[i] * DZ\n",
      "    integratedc = SUM[n]\n",
      "    # Boundary condition (zero gradient).\n",
      "    CN[0] = CN[1]\n",
      "    CN[M] = CN[M-1]\n",
      "    # Update time.\n",
      "    t += DT"
     ],
     "language": "python",
     "metadata": {},
     "outputs": [
      {
       "ename": "IndexError",
       "evalue": "index 20 is out of bounds for axis 0 with size 20",
       "output_type": "pyerr",
       "traceback": [
        "\u001b[1;31m---------------------------------------------------------------------------\u001b[0m\n\u001b[1;31mIndexError\u001b[0m                                Traceback (most recent call last)",
        "\u001b[1;32m<ipython-input-14-5bf4d0540c78>\u001b[0m in \u001b[0;36m<module>\u001b[1;34m()\u001b[0m\n\u001b[0;32m     11\u001b[0m     \u001b[1;31m# Values for interior points.\u001b[0m\u001b[1;33m\u001b[0m\u001b[1;33m\u001b[0m\u001b[0m\n\u001b[0;32m     12\u001b[0m     \u001b[1;32mfor\u001b[0m \u001b[0mi\u001b[0m \u001b[1;32min\u001b[0m \u001b[0mrange\u001b[0m\u001b[1;33m(\u001b[0m\u001b[1;36m1\u001b[0m\u001b[1;33m,\u001b[0m \u001b[0mM\u001b[0m\u001b[1;33m)\u001b[0m\u001b[1;33m:\u001b[0m\u001b[1;33m\u001b[0m\u001b[0m\n\u001b[1;32m---> 13\u001b[1;33m         \u001b[0mCNP\u001b[0m\u001b[1;33m[\u001b[0m\u001b[0mi\u001b[0m\u001b[1;33m]\u001b[0m \u001b[1;33m+=\u001b[0m \u001b[0mkappa\u001b[0m \u001b[1;33m*\u001b[0m \u001b[0mDT\u001b[0m \u001b[1;33m/\u001b[0m \u001b[0mDZ\u001b[0m \u001b[1;33m/\u001b[0m \u001b[0mDZ\u001b[0m \u001b[1;33m*\u001b[0m \u001b[1;33m(\u001b[0m\u001b[0mCN\u001b[0m\u001b[1;33m[\u001b[0m\u001b[0mi\u001b[0m\u001b[1;33m]\u001b[0m \u001b[1;33m-\u001b[0m \u001b[1;36m2\u001b[0m \u001b[1;33m*\u001b[0m \u001b[0mCN\u001b[0m\u001b[1;33m[\u001b[0m\u001b[0mi\u001b[0m\u001b[1;33m+\u001b[0m\u001b[1;36m1\u001b[0m\u001b[1;33m]\u001b[0m \u001b[1;33m+\u001b[0m \u001b[0mCN\u001b[0m\u001b[1;33m[\u001b[0m\u001b[0mi\u001b[0m\u001b[1;33m+\u001b[0m\u001b[1;36m2\u001b[0m\u001b[1;33m]\u001b[0m\u001b[1;33m)\u001b[0m\u001b[1;33m\u001b[0m\u001b[0m\n\u001b[0m\u001b[0;32m     14\u001b[0m \u001b[1;33m\u001b[0m\u001b[0m\n\u001b[0;32m     15\u001b[0m     \u001b[1;31m# Update new values and diagnose conservation at time step n by summing concentrations.\u001b[0m\u001b[1;33m\u001b[0m\u001b[1;33m\u001b[0m\u001b[0m\n",
        "\u001b[1;31mIndexError\u001b[0m: index 20 is out of bounds for axis 0 with size 20"
       ]
      },
      {
       "metadata": {},
       "output_type": "display_data",
       "png": "[encoded data removed]",
       "text": [
        "<matplotlib.figure.Figure at 0x7fc431d56910>"
       ]
      }
     ],
     "prompt_number": 14
    },
    {
     "cell_type": "code",
     "collapsed": false,
     "input": [
      "fig, ax = plt.subplot()\n",
      "ax.plot(CN, z)\n",
      "ax.set_xlabel('C')\n",
      "ax.set_ylabel('z')\n",
      "\n",
      "fig, ax = plt.subplot()\n",
      "ax.set_title('Conservation over time')\n",
      "ax.plot(SUM)\n",
      "ax.set_xlabel('iteration')\n",
      "ax.set_ylabel('SUM')"
     ],
     "language": "python",
     "metadata": {},
     "outputs": []
    },
    {
     "cell_type": "code",
     "collapsed": false,
     "input": [
      "HTML(html)"
     ],
     "language": "python",
     "metadata": {},
     "outputs": []
    },
    {
     "cell_type": "markdown",
     "metadata": {},
     "source": [
      "1. UNESCO (1985) The international system of units (SI) in oceanography. UNESCO Technical Papers No.45, IAPSO Pub. Sci. No. 32, Paris, France.\n",
      "2. McDougall, T.J., R. Feistel, F. J. Millero, D. R. Jackett, D. G. Wright, B. A. King, G. M. Marion, C. T. A. Chen and P. Spitzer, 2009: Calculation of the Thermophysical Properties of Seawater, Global Shipbased Repeat Hydrography Manual, IOCCP Report No. 14, ICPO Publication Series no. 134"
     ]
    }
   ],
   "metadata": {}
  }
 ]
}