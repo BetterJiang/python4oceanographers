{
 "metadata": {
  "name": "",
  "signature": "sha256:ce6646f60465b9dee25281c2f9da76b25e2b166613e202fd3ca50df82d01c613"
 },
 "nbformat": 3,
 "nbformat_minor": 0,
 "worksheets": [
  {
   "cells": [
    {
     "cell_type": "markdown",
     "metadata": {},
     "source": [
      "Compute streamfunction and velocity potential from the long-term-mean\n",
      "flow.\n",
      "\n",
      "This example uses the standard interface."
     ]
    },
    {
     "cell_type": "code",
     "collapsed": false,
     "input": [
      "import numpy as np\n",
      "import matplotlib as mpl\n",
      "mpl.rcParams['mathtext.default'] = 'regular'\n",
      "import matplotlib.pyplot as plt\n",
      "from mpl_toolkits.basemap import Basemap, addcyclic\n",
      "from netCDF4 import Dataset\n",
      "\n",
      "from windspharm.standard import VectorWind\n",
      "from windspharm.tools import prep_data, recover_data, order_latdim\n",
      "from windspharm.examples import example_data_path"
     ],
     "language": "python",
     "metadata": {},
     "outputs": []
    },
    {
     "cell_type": "code",
     "collapsed": false,
     "input": [
      "# Read zonal and meridional wind components from file using the netCDF4\n",
      "# module. The components are defined on pressure levels and are in separate\n",
      "# files.\n",
      "with Dataset(example_data_path('uwnd_mean.nc'), 'r') as nc:\n",
      "    uwnd = nc.variables['uwnd'][:]\n",
      "    lons = nc.variables['longitude'][:]\n",
      "    lats = nc.variables['latitude'][:]\n",
      "\n",
      "with Dataset(example_data_path('vwnd_mean.nc'), 'r') as nc:\n",
      "    vwnd = nc.variables['vwnd'][:]"
     ],
     "language": "python",
     "metadata": {},
     "outputs": []
    },
    {
     "cell_type": "code",
     "collapsed": false,
     "input": [
      "# The standard interface requires that latitude and longitude be the leading\n",
      "# dimensions of the input wind components, and that wind components must be\n",
      "# either 2D or 3D arrays. The data read in is 3D and has latitude and\n",
      "# longitude as the last dimensions. The bundled tools can make the process of\n",
      "# re-shaping the data a lot easier to manage.\n",
      "uwnd, uwnd_info = prep_data(uwnd, 'tyx')\n",
      "vwnd, vwnd_info = prep_data(vwnd, 'tyx')"
     ],
     "language": "python",
     "metadata": {},
     "outputs": []
    },
    {
     "cell_type": "code",
     "collapsed": false,
     "input": [
      "# It is also required that the latitude dimension is north-to-south. Again the\n",
      "# bundled tools make this easy.\n",
      "lats, uwnd, vwnd = order_latdim(lats, uwnd, vwnd)"
     ],
     "language": "python",
     "metadata": {},
     "outputs": []
    },
    {
     "cell_type": "code",
     "collapsed": false,
     "input": [
      "# Create a VectorWind instance to handle the computation of streamfunction and\n",
      "# velocity potential.\n",
      "w = VectorWind(uwnd, vwnd)"
     ],
     "language": "python",
     "metadata": {},
     "outputs": []
    },
    {
     "cell_type": "code",
     "collapsed": false,
     "input": [
      "# Compute the streamfunction and velocity potential. Also use the bundled\n",
      "# tools to re-shape the outputs to the 4D shape of the wind components as they\n",
      "# were read off files.\n",
      "sf, vp = w.sfvp()\n",
      "sf = recover_data(sf, uwnd_info)\n",
      "vp = recover_data(vp, uwnd_info)"
     ],
     "language": "python",
     "metadata": {},
     "outputs": []
    },
    {
     "cell_type": "code",
     "collapsed": false,
     "input": [
      "# Pick out the field for December and add a cyclic point (the cyclic point is\n",
      "# for plotting purposes).\n",
      "sf_dec, lons_c = addcyclic(sf[11], lons)\n",
      "vp_dec, lons_c = addcyclic(vp[11], lons)"
     ],
     "language": "python",
     "metadata": {},
     "outputs": []
    },
    {
     "cell_type": "code",
     "collapsed": false,
     "input": [
      "def make_map():\n",
      "    fig, ax = plt.subplots(figsize=(10, 8))\n",
      "    m = Basemap(projection='cyl', resolution='c', llcrnrlon=0, llcrnrlat=-90,\n",
      "                urcrnrlon=360.01, urcrnrlat=90)\n",
      "    m.drawcoastlines()\n",
      "    m.drawparallels((-90, -60, -30, 0, 30, 60, 90), labels=[1, 0, 0, 0])\n",
      "    m.drawmeridians((0, 60, 120, 180, 240, 300, 360), labels=[0, 0, 0, 1])\n",
      "    ax.m = m\n",
      "    return fig, ax"
     ],
     "language": "python",
     "metadata": {},
     "outputs": []
    },
    {
     "cell_type": "code",
     "collapsed": false,
     "input": [
      "# Plot streamfunction.\n",
      "fig, ax = make_map()\n",
      "lon, lat = np.meshgrid(lons_c, lats)\n",
      "clevs = [-120, -100, -80, -60, -40, -20, 0, 20, 40, 60, 80, 100, 120]\n",
      "cs = ax.m.contourf(lon, lat, sf_dec*1e-06, clevs, cmap=plt.cm.RdBu_r,\n",
      "                   extend='both', latlon=True)\n",
      "fig.colorbar(cs, orientation='horizontal')\n",
      "_ = ax.set_title('Streamfunction ($10^6$m$^2$s$^{-1}$)', fontsize=16)"
     ],
     "language": "python",
     "metadata": {},
     "outputs": []
    },
    {
     "cell_type": "code",
     "collapsed": false,
     "input": [
      "# Plot velocity potential.\n",
      "fig, ax = make_map()\n",
      "clevs = [-10, -8, -6, -4, -2, 0, 2, 4, 6, 8, 10]\n",
      "cs = ax.m.contourf(lon, lat, vp_dec*1e-06, clevs, cmap=plt.cm.RdBu_r,\n",
      "                   extend='both', latlon=True)\n",
      "fig.colorbar(cs, orientation='horizontal')\n",
      "_ = ax.set_title('Velocity Potential ($10^6$m$^2$s$^{-1}$)', fontsize=16)"
     ],
     "language": "python",
     "metadata": {},
     "outputs": []
    }
   ],
   "metadata": {}
  }
 ]
}