{
 "metadata": {
  "kernelspec": {
   "display_name": "Python 2",
   "language": "python",
   "name": "python2"
  },
  "language_info": {
   "codemirror_mode": {
    "name": "ipython",
    "version": 2
   },
   "file_extension": ".py",
   "mimetype": "text/x-python",
   "name": "python",
   "nbconvert_exporter": "python",
   "pygments_lexer": "ipython2",
   "version": "2.7.9"
  },
  "name": "",
  "signature": "sha256:2408eb93bee7ba266f1f12ad5098ce0b50d7ebb5cbcb31cad794834e11664787"
 },
 "nbformat": 3,
 "nbformat_minor": 0,
 "worksheets": [
  {
   "cells": [
    {
     "cell_type": "code",
     "collapsed": false,
     "input": [
      "name = '2015-06-08-iris_load'\n",
      "title = 'Iris load, loads, and load_raw'\n",
      "\n",
      "import os\n",
      "from datetime import datetime\n",
      "\n",
      "from IPython.core.display import HTML\n",
      "\n",
      "%matplotlib inline\n",
      "\n",
      "with open('creative_commons.txt', 'r') as f:\n",
      "    html = f.read()\n",
      "    \n",
      "with open('./styles/custom.css', 'r') as f:\n",
      "    styles = f.read()\n",
      "    \n",
      "HTML(styles)\n",
      "\n",
      "\n",
      "html = \"\"\"\n",
      "<small>\n",
      "<p> This post was written as an IPython notebook.  It is available for\n",
      "<a href=\"http://ocefpaf.github.com/python4oceanographers/downloads/\n",
      "notebooks/%s.ipynb\">download</a> or as a static\n",
      "<a href=\"http://nbviewer.ipython.org/url/ocefpaf.github.com/\n",
      "python4oceanographers/downloads/notebooks/%s.ipynb\">html</a>.</p>\n",
      "<p></p>\n",
      "%s \"\"\" % (name, name, html)\n",
      "\n",
      "hour = datetime.utcnow().strftime('%H:%M')\n",
      "comments=\"true\"\n",
      "\n",
      "date = '-'.join(name.split('-')[:3])\n",
      "slug = '-'.join(name.split('-')[3:])\n",
      "\n",
      "metadata = dict(title=title,\n",
      "                date=date,\n",
      "                hour=hour,\n",
      "                comments=comments,\n",
      "                slug=slug,\n",
      "                name=name)\n",
      "\n",
      "markdown = \"\"\"Title: {title}\n",
      "date:  {date} {hour}\n",
      "comments: {comments}\n",
      "slug: {slug}\n",
      "\n",
      "{{% notebook {name}.ipynb cells[1:] %}}\n",
      "\"\"\".format(**metadata)\n",
      "\n",
      "content = os.path.abspath(os.path.join(os.getcwd(), os.pardir, os.pardir, '{}.md'.format(name)))\n",
      "with open('{}'.format(content), 'w') as f:\n",
      "    f.writelines(markdown)"
     ],
     "language": "python",
     "metadata": {},
     "outputs": [],
     "prompt_number": 1
    },
    {
     "cell_type": "markdown",
     "metadata": {},
     "source": [
      "Anyone that reads this blog knows that I use iris a lot.  Still, every now and\n",
      "then I get bitten by some iris quirkiness.  This post is to explain on of\n",
      "those quirkiness that a lot of my colleagues, myself included, like to rant\n",
      "about: \"How to load a cube?!\""
     ]
    },
    {
     "cell_type": "code",
     "collapsed": true,
     "input": [
      "import iris\n",
      "\n",
      "url = ('http://hfrnet.ucsd.edu/thredds/dodsC/HFR/USWC/6km/hourly/GNOME/'\n",
      "       'HFRADAR,_US_West_Coast,_6km_Resolution,_Hourly_RTV_(GNOME)_best.ncd')"
     ],
     "language": "python",
     "metadata": {},
     "outputs": [],
     "prompt_number": 2
    },
    {
     "cell_type": "markdown",
     "metadata": {},
     "source": [
      "It is only natural to use `load_cubes` to load your cubes, right?"
     ]
    },
    {
     "cell_type": "code",
     "collapsed": false,
     "input": [
      "cubes = iris.load_cubes(url)"
     ],
     "language": "python",
     "metadata": {},
     "outputs": [
      {
       "output_type": "stream",
       "stream": "stderr",
       "text": [
        "/home/filipe/.virtualenvs/blog/lib/python2.7/site-packages/iris/fileformats/_pyke_rules/compiled_krb/fc_rules_cf_fc.py:1395: UserWarning: Gracefully filling 'time' dimension coordinate masked points\n",
        "  warnings.warn(msg.format(str(cf_coord_var.cf_name)))\n"
       ]
      },
      {
       "ename": "ConstraintMismatchError",
       "evalue": "\n   Constraint() -> 8 cubes",
       "output_type": "pyerr",
       "traceback": [
        "\u001b[1;31m---------------------------------------------------------------------------\u001b[0m\n\u001b[1;31mConstraintMismatchError\u001b[0m                   Traceback (most recent call last)",
        "\u001b[1;32m<ipython-input-3-44813a800bd2>\u001b[0m in \u001b[0;36m<module>\u001b[1;34m()\u001b[0m\n\u001b[1;32m----> 1\u001b[1;33m \u001b[0mcubes\u001b[0m \u001b[1;33m=\u001b[0m \u001b[0miris\u001b[0m\u001b[1;33m.\u001b[0m\u001b[0mload_cubes\u001b[0m\u001b[1;33m(\u001b[0m\u001b[0murl\u001b[0m\u001b[1;33m)\u001b[0m\u001b[1;33m\u001b[0m\u001b[0m\n\u001b[0m",
        "\u001b[1;32m/home/filipe/.virtualenvs/blog/lib/python2.7/site-packages/iris/__init__.py\u001b[0m in \u001b[0;36mload_cubes\u001b[1;34m(uris, constraints, callback)\u001b[0m\n\u001b[0;32m    369\u001b[0m         \u001b[0mbits\u001b[0m \u001b[1;33m=\u001b[0m \u001b[1;33m[\u001b[0m\u001b[0mfmt\u001b[0m\u001b[1;33m.\u001b[0m\u001b[0mformat\u001b[0m\u001b[1;33m(\u001b[0m\u001b[0mpair\u001b[0m\u001b[1;33m.\u001b[0m\u001b[0mconstraint\u001b[0m\u001b[1;33m,\u001b[0m \u001b[0mlen\u001b[0m\u001b[1;33m(\u001b[0m\u001b[0mpair\u001b[0m\u001b[1;33m)\u001b[0m\u001b[1;33m)\u001b[0m \u001b[1;32mfor\u001b[0m \u001b[0mpair\u001b[0m \u001b[1;32min\u001b[0m \u001b[0mbad_pairs\u001b[0m\u001b[1;33m]\u001b[0m\u001b[1;33m\u001b[0m\u001b[0m\n\u001b[0;32m    370\u001b[0m         \u001b[0mmsg\u001b[0m \u001b[1;33m=\u001b[0m \u001b[1;34m'\\n'\u001b[0m \u001b[1;33m+\u001b[0m \u001b[1;34m'\\n'\u001b[0m\u001b[1;33m.\u001b[0m\u001b[0mjoin\u001b[0m\u001b[1;33m(\u001b[0m\u001b[0mbits\u001b[0m\u001b[1;33m)\u001b[0m\u001b[1;33m\u001b[0m\u001b[0m\n\u001b[1;32m--> 371\u001b[1;33m         \u001b[1;32mraise\u001b[0m \u001b[0miris\u001b[0m\u001b[1;33m.\u001b[0m\u001b[0mexceptions\u001b[0m\u001b[1;33m.\u001b[0m\u001b[0mConstraintMismatchError\u001b[0m\u001b[1;33m(\u001b[0m\u001b[0mmsg\u001b[0m\u001b[1;33m)\u001b[0m\u001b[1;33m\u001b[0m\u001b[0m\n\u001b[0m\u001b[0;32m    372\u001b[0m \u001b[1;33m\u001b[0m\u001b[0m\n\u001b[0;32m    373\u001b[0m     \u001b[1;32mreturn\u001b[0m \u001b[0mcollection\u001b[0m\u001b[1;33m.\u001b[0m\u001b[0mcubes\u001b[0m\u001b[1;33m(\u001b[0m\u001b[1;33m)\u001b[0m\u001b[1;33m\u001b[0m\u001b[0m\n",
        "\u001b[1;31mConstraintMismatchError\u001b[0m: \n   Constraint() -> 8 cubes"
       ]
      }
     ],
     "prompt_number": 3
    },
    {
     "cell_type": "markdown",
     "metadata": {},
     "source": [
      "Apparently not!\n",
      "\n",
      "(And you have to love when the error messages are cryptic ;-)\n",
      "\n",
      "Time to read the docs!  From the `docstring` (the online docs are better BTW):\n",
      "\n",
      "- `iris.load_cubes` :: Loads exactly one Cube for each constraint.\n",
      "- `iris.load` :: Loads any number of Cubes for each constraint.\n",
      "- `iris.load_raw` :: Loads non-merged cubes.\n",
      "\n",
      "OK, I admit.  This confusion looks a lot like the PERL [TIMTOWTDI](http://en.wikipedia.org/wiki/There%27s_more_than_one_way_to_do_it) philosophy\n",
      "and I do not like.  I try to follow the rule:\n",
      "\n",
      "        There should be one -- and preferably only one -- obvious way to do it.\n",
      "\n",
      "However, I see the appeal for at least `load_raw()` and, even though the docs\n",
      "do not recommend it, I use it a lot.  Lets see what is going on with that\n",
      "dataset using `load_raw()`."
     ]
    },
    {
     "cell_type": "code",
     "collapsed": false,
     "input": [
      "cubes = iris.load_raw(url)\n",
      "\n",
      "print(cubes)"
     ],
     "language": "python",
     "metadata": {},
     "outputs": [
      {
       "output_type": "stream",
       "stream": "stdout",
       "text": [
        "0: Contributing radar site code / (no_unit) (-- : 56; -- : 64)\n",
        "1: longitude / (degrees)               (-- : 56)\n",
        "2: RTV processing parameters / (1)     (-- : 7)\n",
        "3: surface_northward_sea_water_velocity / (m s-1) (time: 32080; latitude: 367; longitude: 234)\n",
        "4: surface_eastward_sea_water_velocity / (m s-1) (time: 32080; latitude: 367; longitude: 234)\n",
        "5: forecast_period / (hours since 2011-10-01T00:00:00Z) (time: 32080)\n",
        "6: Contributing radar site network affiliation code / (no_unit) (-- : 56; -- : 64)\n",
        "7: latitude / (degrees)                (-- : 56)\n"
       ]
      }
     ],
     "prompt_number": 4
    },
    {
     "cell_type": "markdown",
     "metadata": {},
     "source": [
      "One of those cubes is not OK with the rule \"exactly one Cube for each\n",
      "constraint.\"  What constraint?  We did not specify anything!"
     ]
    },
    {
     "cell_type": "code",
     "collapsed": false,
     "input": [
      "for cube in cubes:\n",
      "    standard_name = cube.standard_name\n",
      "    print(standard_name)"
     ],
     "language": "python",
     "metadata": {},
     "outputs": [
      {
       "output_type": "stream",
       "stream": "stdout",
       "text": [
        "None\n",
        "longitude\n",
        "None\n",
        "surface_northward_sea_water_velocity\n",
        "surface_eastward_sea_water_velocity\n",
        "forecast_period\n",
        "None\n",
        "latitude\n"
       ]
      }
     ],
     "prompt_number": 5
    },
    {
     "cell_type": "markdown",
     "metadata": {},
     "source": [
      "I guess the issue is the `None` as `standard_name`.  Iris is OK loading them using the `long_name` though."
     ]
    },
    {
     "cell_type": "code",
     "collapsed": false,
     "input": [
      "print(iris.load_cube(url, 'RTV processing parameters'))"
     ],
     "language": "python",
     "metadata": {},
     "outputs": [
      {
       "output_type": "stream",
       "stream": "stdout",
       "text": [
        "RTV processing parameters / (1)     (-- : 7)\n",
        "     Attributes:\n",
        "          Conventions: CF-1.4, _Coordinates\n",
        "          DODS.dimName: nSites_maxStrlen\n",
        "          DODS.strlen: 25\n",
        "          _CoordSysBuilder: ucar.nc2.dataset.conv.CF1Convention\n",
        "          cdm_data_type: GRID\n",
        "          comment: \n",
        "01) Maximum GDOP threshold\n",
        "02) Maximum speed threshold (cm s-1)\n",
        "03) Minimum...\n",
        "          creator_email: motero@ucsd.edu\n",
        "          creator_name: Mark Otero\n",
        "          creator_url: http://cordc.ucsd.edu/projects/mapping/\n",
        "          featureType: GRID\n",
        "          format_version: HFRNet_1.0.0\n",
        "          geospatial_lat_max: 49.992\n",
        "          geospatial_lat_min: 30.25\n",
        "          geospatial_lon_max: -115.806\n",
        "          geospatial_lon_min: -130.36\n",
        "          grid_projection: equidistant cylindrical\n",
        "          grid_resolution: 6km\n",
        "          grid_type: REGULAR\n",
        "          history: 21-May-2015 04:36:10: NetCDF file created\n",
        "21-May-2015 04:36:10: Filtered...\n",
        "          institution: Scripps Institution of Oceanography\n",
        "          location: Proto fmrc:HFRADAR,_US_West_Coast,_6km_Resolution,_Hourly_RTV_(GNOME)\n",
        "          netcdf_library_version: 4.1.3\n",
        "          product_version: HFRNet_1.1.05\n",
        "          references: Terrill, E. et al., 2006. Data Management and Real-time\n",
        "Distribution in...\n",
        "          regional_description: Unites States, West Coast\n",
        "          source: Surface Ocean HF-Radar\n",
        "          summary: Surface ocean velocities estimated from HF-Radar are\n",
        "representative of...\n",
        "          title: Near-Real Time Surface Ocean Velocity, US West Coast, 6 km Resolution ...\n"
       ]
      }
     ],
     "prompt_number": 6
    },
    {
     "cell_type": "markdown",
     "metadata": {},
     "source": [
      "And OK with `load` (Any number of Cubes for each constraint)."
     ]
    },
    {
     "cell_type": "code",
     "collapsed": false,
     "input": [
      "cubes = iris.load(url)\n",
      "\n",
      "print(cubes)"
     ],
     "language": "python",
     "metadata": {},
     "outputs": [
      {
       "output_type": "stream",
       "stream": "stdout",
       "text": [
        "0: Contributing radar site code / (no_unit) (-- : 56; -- : 64)\n",
        "1: RTV processing parameters / (1)     (-- : 7)\n",
        "2: Contributing radar site network affiliation code / (no_unit) (-- : 56; -- : 64)\n",
        "3: forecast_period / (hours since 2011-10-01T00:00:00Z) (time: 32080)\n",
        "4: latitude / (degrees)                (-- : 56)\n",
        "5: longitude / (degrees)               (-- : 56)\n",
        "6: surface_eastward_sea_water_velocity / (m s-1) (time: 32080; latitude: 367; longitude: 234)\n",
        "7: surface_northward_sea_water_velocity / (m s-1) (time: 32080; latitude: 367; longitude: 234)\n"
       ]
      }
     ],
     "prompt_number": 7
    },
    {
     "cell_type": "markdown",
     "metadata": {},
     "source": [
      "In conclusion?  Stick with either `load` or `load_raw` when you do not want to\n",
      "be strict about loading."
     ]
    },
    {
     "cell_type": "code",
     "collapsed": false,
     "input": [
      "HTML(html)"
     ],
     "language": "python",
     "metadata": {},
     "outputs": [
      {
       "html": [
        "\n",
        "<small>\n",
        "<p> This post was written as an IPython notebook.  It is available for\n",
        "<a href=\"http://ocefpaf.github.com/python4oceanographers/downloads/\n",
        "notebooks/2015-06-08-iris_load.ipynb\">download</a> or as a static\n",
        "<a href=\"http://nbviewer.ipython.org/url/ocefpaf.github.com/\n",
        "python4oceanographers/downloads/notebooks/2015-06-08-iris_load.ipynb\">html</a>.</p>\n",
        "<p></p>\n",
        "<a rel=\"license\" href=\"http://creativecommons.org/licenses/by-sa/4.0/\"><img\n",
        "alt=\"Creative Commons License\" style=\"border-width:0\"\n",
        "src=\"http://i.creativecommons.org/l/by-sa/4.0/88x31.png\" /></a><br /><span\n",
        "xmlns:dct=\"http://purl.org/dc/terms/\"\n",
        "property=\"dct:title\">python4oceanographers</span> by <a\n",
        "xmlns:cc=\"http://creativecommons.org/ns#\" href=\"http://ocefpaf.github.io/\"\n",
        "property=\"cc:attributionName\" rel=\"cc:attributionURL\">Filipe Fernandes</a> is\n",
        "licensed under a <a rel=\"license\"\n",
        "href=\"http://creativecommons.org/licenses/by-sa/4.0/\">Creative Commons\n",
        "Attribution-ShareAlike 4.0 International License</a>.<br />Based on a work at <a\n",
        "xmlns:dct=\"http://purl.org/dc/terms/\" href=\"http://ocefpaf.github.io/\"\n",
        "rel=\"dct:source\">http://ocefpaf.github.io/</a>.\n",
        " "
       ],
       "metadata": {},
       "output_type": "pyout",
       "prompt_number": 8,
       "text": [
        "<IPython.core.display.HTML at 0x7f2eb3d7c1d0>"
       ]
      }
     ],
     "prompt_number": 8
    }
   ],
   "metadata": {}
  }
 ]
}