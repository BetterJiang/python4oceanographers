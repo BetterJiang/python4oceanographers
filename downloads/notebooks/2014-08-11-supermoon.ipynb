{
 "metadata": {
  "kernelspec": {
   "codemirror_mode": {
    "name": "python",
    "version": 3
   },
   "display_name": "Python 3",
   "language": "python",
   "name": "python3"
  },
  "name": "",
  "signature": "sha256:a21152aa59b7f81d8288957344f3f7883a5d0841e77769a6d74f8c6265912367"
 },
 "nbformat": 3,
 "nbformat_minor": 0,
 "worksheets": [
  {
   "cells": [
    {
     "cell_type": "code",
     "collapsed": false,
     "input": [
      "from IPython.core.display import HTML\n",
      "\n",
      "with open('creative_commons.txt', 'r') as f:\n",
      "    html = f.read()\n",
      "    \n",
      "name = '2014-08-11-supermoon'\n",
      "\n",
      "html = '''\n",
      "<small>\n",
      "<p> This post was written as an IPython notebook.\n",
      " It is available for <a href='https://ocefpaf.github.com/python4oceanographers/downloads/notebooks/%s.ipynb'>download</a>\n",
      " or as a static <a href='https://nbviewer.ipython.org/url/ocefpaf.github.com/python4oceanographers/downloads/notebooks/%s.ipynb'>html</a>.</p>\n",
      "<p></p>\n",
      "%s''' % (name, name, html)\n",
      "\n",
      "%matplotlib inline\n",
      "from matplotlib import style\n",
      "style.use('ggplot')"
     ],
     "language": "python",
     "metadata": {},
     "outputs": [],
     "prompt_number": 1
    },
    {
     "cell_type": "markdown",
     "metadata": {},
     "source": [
      "Yesterday we had the super \"moon event\".  Unfortunately Salvador was cloudy and\n",
      "the show was not as impressive as we expected.  All the same, watching the sunset\n",
      "while the moon was rising by the\n",
      "[Barra lighthouse](http://pt.wikipedia.org/wiki/Farol_da_Barra_%28Bahia%29)\n",
      "was quite impressive.  The super moon event inspired me to go back there next\n",
      "full moon to take a fell pictures.  Sure I could just Google for the date and\n",
      "time.  But let's do this the hard way."
     ]
    },
    {
     "cell_type": "markdown",
     "metadata": {},
     "source": [
      "The next two functions are part of a previous post, so I will not\n",
      "get into the details.  Just to remember: `get_ip` returns the\n",
      "local machine ip address and `get_location` gets, among other things,\n",
      "the geographical position."
     ]
    },
    {
     "cell_type": "code",
     "collapsed": false,
     "input": [
      "import re\n",
      "import urllib\n",
      "from pygeoip import GeoIP\n",
      "\n",
      "def get_ip(url='http://checkip.dyndns.org'):\n",
      "    request = urllib.request.urlopen(url).read().decode('utf-8')\n",
      "    return re.findall(r\"\\d{1,3}\\.\\d{1,3}\\.\\d{1,3}.\\d{1,3}\", request)[0]\n",
      "\n",
      "def get_location(ip, fname):\n",
      "    \"\"\"Database can be downloaded at:\n",
      "        http://dev.maxmind.com/geoip/legacy/geolite/\"\"\"\n",
      "    gi = GeoIP(fname)\n",
      "    location = gi.record_by_addr(ip)\n",
      "    return location"
     ],
     "language": "python",
     "metadata": {
      "internals": {},
      "slideshow": {
       "slide_type": "-"
      }
     },
     "outputs": [],
     "prompt_number": 2
    },
    {
     "cell_type": "markdown",
     "metadata": {},
     "source": [
      "We get a nice dictionary back with all the information we need."
     ]
    },
    {
     "cell_type": "code",
     "collapsed": false,
     "input": [
      "ip = get_ip()\n",
      "fname = './data/GeoLiteCity.dat'\n",
      "location = get_location(ip, fname)\n",
      "location"
     ],
     "language": "python",
     "metadata": {
      "internals": {},
      "slideshow": {
       "slide_type": "-"
      }
     },
     "outputs": [
      {
       "metadata": {},
       "output_type": "pyout",
       "prompt_number": 3,
       "text": [
        "{'country_name': 'Brazil',\n",
        " 'continent': 'SA',\n",
        " 'longitude': -38.516699999999986,\n",
        " 'country_code3': 'BRA',\n",
        " 'country_code': 'BR',\n",
        " 'city': 'Salvador',\n",
        " 'time_zone': 'America/Bahia',\n",
        " 'area_code': 0,\n",
        " 'region_code': '05',\n",
        " 'latitude': -12.983300000000014,\n",
        " 'metro_code': None,\n",
        " 'dma_code': 0,\n",
        " 'postal_code': None}"
       ]
      }
     ],
     "prompt_number": 3
    },
    {
     "cell_type": "markdown",
     "metadata": {},
     "source": [
      "Now we can create a [pyephem](http://rhodesmill.org/pyephem/) `moon` object,"
     ]
    },
    {
     "cell_type": "code",
     "collapsed": false,
     "input": [
      "import ephem\n",
      "import numpy as np\n",
      "from datetime import date\n",
      "\n",
      "date = date(2014, 8, 10)\n",
      "moon = ephem.Moon()\n",
      "\n",
      "obs = ephem.Observer()\n",
      "obs.date = date\n",
      "obs.lon = np.deg2rad(location['longitude'])\n",
      "obs.lat = np.deg2rad(location['latitude'])\n",
      "obs"
     ],
     "language": "python",
     "metadata": {
      "internals": {},
      "slideshow": {
       "slide_type": "-"
      }
     },
     "outputs": [
      {
       "metadata": {},
       "output_type": "pyout",
       "prompt_number": 4,
       "text": [
        "<ephem.Observer date='2014/8/10 00:00:00' epoch='2000/1/1 12:00:00' lon=-38:31:00.1 lat=-12:58:59.9 elevation=0.0m horizon=0:00:00.0 temp=15.0C pressure=1010.0mBar>"
       ]
      }
     ],
     "prompt_number": 4
    },
    {
     "cell_type": "markdown",
     "metadata": {},
     "source": [
      "and query for the local time super moon rising."
     ]
    },
    {
     "cell_type": "code",
     "collapsed": false,
     "input": [
      "print(\"Next full Moon: %s\" % ephem.next_full_moon(date))\n",
      "print(\"Next rising: %s\" % ephem.localtime(obs.next_rising(moon)))"
     ],
     "language": "python",
     "metadata": {
      "internals": {},
      "slideshow": {
       "slide_type": "-"
      }
     },
     "outputs": [
      {
       "output_type": "stream",
       "stream": "stdout",
       "text": [
        "Next full Moon: 2014/8/10 18:09:21\n",
        "Next rising: 2014-08-10 17:29:43.000006\n"
       ]
      }
     ],
     "prompt_number": 5
    },
    {
     "cell_type": "markdown",
     "metadata": {},
     "source": [
      "Since we could not see the moon rising let's just think positive and wait for\n",
      "the next one."
     ]
    },
    {
     "cell_type": "code",
     "collapsed": false,
     "input": [
      "az, alt, symbols, times = [], [], [], []\n",
      "for k in range(30):\n",
      "    moon.compute(obs)  \n",
      "    nnm = ephem.next_new_moon(obs.date)  \n",
      "    pnm = ephem.previous_new_moon(obs.date)  \n",
      "    lunation = (obs.date - pnm) / (nnm - pnm)  \n",
      "    symbol = lunation * 26\n",
      "    if symbol < 0.2 or symbol > 25.8:\n",
      "        symbol = '1'\n",
      "    else:  \n",
      "        symbol = chr(ord('A') + int(symbol + 0.5) - 1)\n",
      "        times.append(ephem.localtime(obs.date).strftime(\"%d-%m-%Y\"))\n",
      "        symbols.append(symbol)\n",
      "        alt.append(moon.alt)\n",
      "        az.append(moon.az)\n",
      "    obs.date += ephem.hour * 24  # Increment in days.\n",
      "az, alt = map(np.rad2deg, (az, alt))"
     ],
     "language": "python",
     "metadata": {},
     "outputs": [],
     "prompt_number": 6
    },
    {
     "cell_type": "code",
     "collapsed": false,
     "input": [
      "import matplotlib.pyplot as plt\n",
      "from matplotlib.font_manager import FontProperties\n",
      "\n",
      "prop = FontProperties(fname='./data/moon_phases.ttf', size=25)\n",
      "sub = slice(0, -1, 2)\n",
      "fig, ax = plt.subplots(figsize=(6, 3.75))\n",
      "[ax.text(x, y, text, fontproperties=prop, alpha=0.3, zorder=1)\n",
      " for x, y, text in zip(az, alt, symbols)]\n",
      "[ax.text(x, y, hour, fontdict=dict(size=11, weight='bold'), zorder=0, color='#0B3B0B', alpha=0.75)\n",
      " for x, y, hour in zip(az[sub], alt[sub], times[sub])]\n",
      "\n",
      "ax.set_xlim(0-10, 360+30)\n",
      "ax.set_ylim(-90-5, 90+15)\n",
      "ax.set_ylabel(\"Elevation (degrees above horizon)\")\n",
      "ax.set_xlabel(\"Azimuth (compass direction, in degrees)\")\n",
      "ax.grid(False)\n",
      "seaborn.despine(trim=True)"
     ],
     "language": "python",
     "metadata": {
      "internals": {},
      "slideshow": {
       "slide_type": "-"
      }
     },
     "outputs": [
      {
       "metadata": {},
       "output_type": "display_data",
       "png": "[encoded data removed]",
       "text": [
        "<matplotlib.figure.Figure at 0x7f6d9ec39750>"
       ]
      }
     ],
     "prompt_number": 7
    },
    {
     "cell_type": "markdown",
     "metadata": {},
     "source": [
      "And to display the result let use the\n",
      "[moon-phases](http://michelanders.blogspot.com.br/2011/01/moon-phases-with-pyephem.html)\n",
      "graph.  This is probably a very confusing way to plot this.  I should stack the\n",
      "plots horizontally every 360 degrees to pass the idea of time.  Anyways, we can\n",
      "that the next full moon will be around 2014-09-08, let's hope it does not rain!"
     ]
    },
    {
     "cell_type": "code",
     "collapsed": false,
     "input": [
      "HTML(html)"
     ],
     "language": "python",
     "metadata": {},
     "outputs": [
      {
       "html": [
        "\n",
        "<small>\n",
        "<p> This post was written as an IPython notebook.\n",
        " It is available for <a href='https://ocefpaf.github.com/python4oceanographers/downloads/notebooks/2014-08-11-supermoon.ipynb'>download</a>\n",
        " or as a static <a href='https://nbviewer.ipython.org/url/ocefpaf.github.com/python4oceanographers/downloads/notebooks/2014-08-11-supermoon.ipynb'>html</a>.</p>\n",
        "<p></p>\n",
        "<a rel=\"license\" href=\"https://creativecommons.org/licenses/by-sa/4.0/\"><img\n",
        "alt=\"Creative Commons License\" style=\"border-width:0\"\n",
        "src=\"https://i.creativecommons.org/l/by-sa/4.0/88x31.png\" /></a><br /><span\n",
        "xmlns:dct=\"https://purl.org/dc/terms/\"\n",
        "property=\"dct:title\">python4oceanographers</span> by <a\n",
        "xmlns:cc=\"https://creativecommons.org/ns#\" href=\"https://ocefpaf.github.io/\"\n",
        "property=\"cc:attributionName\" rel=\"cc:attributionURL\">Filipe Fernandes</a> is\n",
        "licensed under a <a rel=\"license\"\n",
        "href=\"https://creativecommons.org/licenses/by-sa/4.0/\">Creative Commons\n",
        "Attribution-ShareAlike 4.0 International License</a>.<br />Based on a work at <a\n",
        "xmlns:dct=\"https://purl.org/dc/terms/\" href=\"https://ocefpaf.github.io/\"\n",
        "rel=\"dct:source\">https://ocefpaf.github.io/</a>.\n"
       ],
       "metadata": {},
       "output_type": "pyout",
       "prompt_number": 8,
       "text": [
        "<IPython.core.display.HTML at 0x7fccf15813d0>"
       ]
      }
     ],
     "prompt_number": 8
    }
   ],
   "metadata": {}
  }
 ]
}