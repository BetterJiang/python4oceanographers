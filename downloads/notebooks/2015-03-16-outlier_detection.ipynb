{
 "metadata": {
  "kernelspec": {
   "codemirror_mode": {
    "name": "ipython",
    "version": 3
   },
   "display_name": "IPython (Python 3)",
   "language": "python",
   "name": "python3"
  },
  "name": "",
  "signature": "sha256:d7a8ef25c0fe68aac10ea40211a29ba9eb1e6b41fd05f452f5dd8cc5a40b298a"
 },
 "nbformat": 3,
 "nbformat_minor": 0,
 "worksheets": [
  {
   "cells": [
    {
     "cell_type": "code",
     "collapsed": false,
     "input": [
      "import os\n",
      "from IPython.core.display import HTML\n",
      "\n",
      "with open('creative_commons.txt', 'r') as f:\n",
      "    html = f.read()\n",
      "    \n",
      "with open('./styles/custom.css', 'r') as f:\n",
      "    styles = f.read()\n",
      "    \n",
      "HTML(styles)\n",
      "\n",
      "name = '2015-02-23-outlier_detection'\n",
      "\n",
      "html = \"\"\"\n",
      "<small>\n",
      "<p> This post was written as an IPython notebook.  It is available for\n",
      "<a href=\"http://ocefpaf.github.com/python4oceanographers/downloads/\n",
      "notebooks/%s.ipynb\">download</a> or as a static\n",
      "<a href=\"http://nbviewer.ipython.org/url/ocefpaf.github.com/\n",
      "python4oceanographers/downloads/notebooks/%s.ipynb\">html</a>.</p>\n",
      "<p></p>\n",
      "%s \"\"\" % (name, name, html)\n",
      "\n",
      "%matplotlib inline\n",
      "\n",
      "import seaborn\n",
      "from datetime import datetime\n",
      "\n",
      "title = \"3 ways to remove outliers from your data\"\n",
      "hour = datetime.utcnow().strftime('%H:%M')\n",
      "comments=\"true\"\n",
      "\n",
      "date = '-'.join(name.split('-')[:3])\n",
      "slug = '-'.join(name.split('-')[3:])\n",
      "\n",
      "metadata = dict(title=title,\n",
      "                date=date,\n",
      "                hour=hour,\n",
      "                comments=comments,\n",
      "                slug=slug,\n",
      "                name=name)\n",
      "\n",
      "markdown = \"\"\"Title: {title}\n",
      "date:  {date} {hour}\n",
      "comments: {comments}\n",
      "slug: {slug}\n",
      "\n",
      "{{% notebook {name}.ipynb cells[1:] %}}\n",
      "\"\"\".format(**metadata)\n",
      "\n",
      "content = os.path.abspath(os.path.join(os.getcwd(), os.pardir, os.pardir, '{}.md'.format(name)))\n",
      "with open('{}'.format(content), 'w') as f:\n",
      "    f.writelines(markdown)"
     ],
     "language": "python",
     "metadata": {},
     "outputs": []
    },
    {
     "cell_type": "code",
     "collapsed": false,
     "input": [
      "from datetime import datetime\n",
      "from pandas import read_table\n",
      "\n",
      "fname = './data/spikey_v.dat'\n",
      "cols = ['j', 'u', 'v', 'temp', 'sal', 'y', 'mn', 'd', 'h', 'mi']\n",
      "\n",
      "df = read_table(fname , delim_whitespace=True, names=cols)\n",
      "\n",
      "df.index = [datetime(*x) for x in zip(df['y'], df['mn'], df['d'], df['h'], df['mi'])]\n",
      "df = df.drop(['y', 'mn', 'd', 'h', 'mi'], axis=1)\n",
      "\n",
      "df.head()"
     ],
     "language": "python",
     "metadata": {},
     "outputs": []
    },
    {
     "cell_type": "markdown",
     "metadata": {},
     "source": [
      "http://bugra.github.io/work/notes/2014-03-31/outlier-detection-in-time-series-signals-fft-median-filtering/"
     ]
    },
    {
     "cell_type": "code",
     "collapsed": false,
     "input": [
      "import numpy as np\n",
      "\n",
      "\n",
      "def get_median_filtered(signal, threshold=3):\n",
      "    signal = signal.copy()\n",
      "    difference = np.abs(signal - np.median(signal))\n",
      "    median_difference = np.median(difference)\n",
      "    if median_difference == 0:\n",
      "        s = 0\n",
      "    else:\n",
      "        s = difference / float(median_difference)\n",
      "    mask = s > threshold\n",
      "    signal[mask] = np.median(signal)\n",
      "    return signal"
     ],
     "language": "python",
     "metadata": {},
     "outputs": []
    },
    {
     "cell_type": "code",
     "collapsed": false,
     "input": [
      "import matplotlib.pyplot as plt\n",
      "\n",
      "figsize = (7, 2.75)\n",
      "kw = dict(marker='o', linestyle='none', color='r', alpha=0.3)\n",
      "\n",
      "df['u_medf'] = get_median_filtered(df['u'].values, threshold=3)\n",
      "\n",
      "outlier_idx = np.where(df['u_medf'].values != df['u'].values)[0]\n",
      "\n",
      "fig, ax = plt.subplots(figsize=figsize)\n",
      "df['u'].plot()\n",
      "df['u'][outlier_idx].plot(**kw)\n",
      "_ = ax.set_ylim(-50, 50)"
     ],
     "language": "python",
     "metadata": {},
     "outputs": []
    },
    {
     "cell_type": "code",
     "collapsed": false,
     "input": [
      "def detect_outlier_position_by_fft(signal, threshold_freq=0.1, frequency_amplitude=.001):\n",
      "    signal = signal.copy()\n",
      "    fft_of_signal = np.fft.fft(signal)\n",
      "    outlier = np.max(signal) if abs(np.max(signal)) > abs(np.min(signal)) else np.min(signal)\n",
      "    if np.any(np.abs(fft_of_signal[threshold_freq:]) > frequency_amplitude):\n",
      "        index_of_outlier = np.where(signal == outlier)\n",
      "        return index_of_outlier[0]\n",
      "    else:\n",
      "        return None"
     ],
     "language": "python",
     "metadata": {},
     "outputs": []
    },
    {
     "cell_type": "code",
     "collapsed": false,
     "input": [
      "outlier_idx = []\n",
      "\n",
      "y = df['u'].values\n",
      "\n",
      "opt = dict(threshold_freq=0.01, frequency_amplitude=0.001)\n",
      "\n",
      "win = 20\n",
      "for k in range(win*2, y.size, win):\n",
      "    idx = detect_outlier_position_by_fft(y[k-win:k+win], **opt)\n",
      "    if idx is not None:\n",
      "        outlier_idx.append(k + idx[0] - win)\n",
      "outlier_idx = list(set(outlier_idx))\n",
      "\n",
      "fig, ax = plt.subplots(figsize=(7, 2.75))\n",
      "\n",
      "df['u'].plot()\n",
      "df['u'][outlier_idx].plot(**kw)\n",
      "_ = ax.set_ylim(-50, 50)"
     ],
     "language": "python",
     "metadata": {},
     "outputs": []
    },
    {
     "cell_type": "code",
     "collapsed": false,
     "input": [
      "HTML(html)"
     ],
     "language": "python",
     "metadata": {},
     "outputs": []
    }
   ],
   "metadata": {}
  }
 ]
}