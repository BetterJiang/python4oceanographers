{
 "metadata": {
  "kernelspec": {
   "codemirror_mode": {
    "name": "ipython",
    "version": 3
   },
   "display_name": "IPython (Python 3)",
   "language": "python",
   "name": "python3"
  },
  "name": "",
  "signature": "sha256:f0dd875837593c50f815d406df8c07e9bf4c5e7d848ecc008719d7fece177f12"
 },
 "nbformat": 3,
 "nbformat_minor": 0,
 "worksheets": [
  {
   "cells": [
    {
     "cell_type": "code",
     "collapsed": false,
     "input": [
      "import os\n",
      "from IPython.core.display import HTML\n",
      "\n",
      "with open('creative_commons.txt', 'r') as f:\n",
      "    html = f.read()\n",
      "    \n",
      "with open('./styles/custom.css', 'r') as f:\n",
      "    styles = f.read()\n",
      "    \n",
      "HTML(styles)\n",
      "\n",
      "name = '2014-12-22-xray_iris'\n",
      "\n",
      "html = \"\"\"\n",
      "<small>\n",
      "<p> This post was written as an IPython notebook.  It is available for\n",
      "<a href=\"http://ocefpaf.github.com/python4oceanographers/downloads/\n",
      "notebooks/%s.ipynb\">download</a> or as a static\n",
      "<a href=\"http://nbviewer.ipython.org/url/ocefpaf.github.com/\n",
      "python4oceanographers/downloads/notebooks/%s.ipynb\">html</a>.</p>\n",
      "<p></p>\n",
      "%s \"\"\" % (name, name, html)\n",
      "\n",
      "%matplotlib inline\n",
      "\n",
      "from datetime import datetime\n",
      "\n",
      "title = \"Testing xray vs iris for ocean models\"\n",
      "hour = datetime.utcnow().strftime('%H:%M')\n",
      "comments=\"true\"\n",
      "\n",
      "date = '-'.join(name.split('-')[:3])\n",
      "slug = '-'.join(name.split('-')[3:])\n",
      "\n",
      "metadata = dict(title=title,\n",
      "                date=date,\n",
      "                hour=hour,\n",
      "                comments=comments,\n",
      "                slug=slug,\n",
      "                name=name)\n",
      "\n",
      "markdown = \"\"\"Title: {title}\n",
      "date:  {date} {hour}\n",
      "comments: {comments}\n",
      "slug: {slug}\n",
      "\n",
      "{{% notebook {name}.ipynb cells[2:] %}}\n",
      "\"\"\".format(**metadata)\n",
      "\n",
      "content = os.path.abspath(os.path.join(os.getcwd(), os.pardir, os.pardir, '{}.md'.format(name)))\n",
      "with open('{}'.format(content), 'w') as f:\n",
      "    f.writelines(markdown)"
     ],
     "language": "python",
     "metadata": {},
     "outputs": []
    },
    {
     "cell_type": "markdown",
     "metadata": {},
     "source": [
      "[Iris](http://scitools.org.uk/iris/docs/latest/index.html) needs no\n",
      "introduction for those that read this blog.  However, this is the first time I\n",
      "try [xray](http://xray.readthedocs.org/en/stable/).  According to the docs:\n",
      "\n",
      "    xray is an open source project and Python package that aims to bring the\n",
      "    labeled data power of pandas to the physical sciences, by providing\n",
      "    N-dimensional variants of the core pandas data structures, Series and\n",
      "    DataFrame: the xray DataArray and Dataset.\n",
      "    \n",
      "    Our goal is to provide a pandas-like and pandas-compatible toolkit for\n",
      "    analytics on multi-dimensional arrays, rather than the tabular data for\n",
      "    which pandas excels. Our approach adopts the Common Data Model for\n",
      "    self- describing scientific data in widespread use in the Earth sciences\n",
      "    (e.g., netCDF and OPeNDAP): xray.Dataset is an in-memory representation of\n",
      "    a netCDF file."
     ]
    },
    {
     "cell_type": "markdown",
     "metadata": {},
     "source": [
      "### The problem\n",
      "\n",
      "Staggered grid numeric ocean models, like\n",
      "[ROMS](https://www.myroms.org/wiki/index.php/Numerical_Solution_Technique#Horizontal_Discretization),\n",
      "an be very challenging to load when using high level tools like iris.  In fact,\n",
      "one has a better chance trying to do everything \"manually.\"  Iris will fail to\n",
      "find the proper formula terms and to construct the Auxiliary Vertical\n",
      "Coordinate.\n",
      "\n",
      "I want to test if xray make this task any easier."
     ]
    },
    {
     "cell_type": "code",
     "collapsed": false,
     "input": [
      "import xray\n",
      "\n",
      "print(xray.__version__)\n",
      "\n",
      "url = 'http://omgsrv1.meas.ncsu.edu:8080/thredds/dodsC/fmrc/sabgom/'\n",
      "url += 'SABGOM_Forecast_Model_Run_Collection_best.ncd'\n",
      "\n",
      "nc = xray.open_dataset(url)"
     ],
     "language": "python",
     "metadata": {},
     "outputs": []
    },
    {
     "cell_type": "code",
     "collapsed": false,
     "input": [
      "temp = nc['temp']\n",
      "temp"
     ],
     "language": "python",
     "metadata": {},
     "outputs": []
    },
    {
     "cell_type": "code",
     "collapsed": false,
     "input": [
      "t = temp.loc['2014-12-02T15:00:00']\n",
      "t.to_dataframe()"
     ],
     "language": "python",
     "metadata": {},
     "outputs": []
    },
    {
     "cell_type": "code",
     "collapsed": false,
     "input": [
      "for s, group in groups:\n",
      "    print(group)"
     ],
     "language": "python",
     "metadata": {},
     "outputs": []
    },
    {
     "cell_type": "code",
     "collapsed": false,
     "input": [
      "group."
     ],
     "language": "python",
     "metadata": {},
     "outputs": []
    },
    {
     "cell_type": "code",
     "collapsed": false,
     "input": [
      "import numpy.ma as ma\n",
      "import matplotlib.pyplot as plt\n",
      "\n",
      "plt.pcolormesh(ma.masked_invalid(group.values))"
     ],
     "language": "python",
     "metadata": {},
     "outputs": []
    },
    {
     "cell_type": "code",
     "collapsed": false,
     "input": [
      "HTML(html)"
     ],
     "language": "python",
     "metadata": {},
     "outputs": []
    }
   ],
   "metadata": {}
  }
 ]
}