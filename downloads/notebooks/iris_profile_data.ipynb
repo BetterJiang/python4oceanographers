{
 "metadata": {
  "name": "",
  "signature": "sha256:b815334ee8f8f1a0200c596c8b3efb06d8f25dc450414bb2b42838ca1846a71b"
 },
 "nbformat": 3,
 "nbformat_minor": 0,
 "worksheets": [
  {
   "cells": [
    {
     "cell_type": "code",
     "collapsed": false,
     "input": [
      "import iris\n",
      "import iris.plot as iplt\n",
      "import matplotlib.pyplot as plt\n",
      "%matplotlib inline\n",
      "\n",
      "# Add the .html in the end to visualize in the browser.\n",
      "url = 'http://data.nodc.noaa.gov/thredds/dodsC/testdata/netCDFTemplateExamples/profile/wodStandardLevels.nc'\n",
      "sal = iris.load_cube(url, 'sea_water_salinity')\n",
      "\n",
      "print(sal)"
     ],
     "language": "python",
     "metadata": {},
     "outputs": []
    },
    {
     "cell_type": "code",
     "collapsed": false,
     "input": [
      "lon = iris.Constraint(longitude=lambda l:100 < l < 150)\n",
      "lat = iris.Constraint(latitude=lambda l:-40 < l < -20)\n",
      "alt = iris.Constraint(altitude=lambda a: a <= 30)\n",
      "sal_profile = sal.extract(alt & lon & lat)\n",
      "print(sal_profile)"
     ],
     "language": "python",
     "metadata": {},
     "outputs": []
    },
    {
     "cell_type": "code",
     "collapsed": false,
     "input": [
      "fig, ax = plt.subplots()\n",
      "\n",
      "x = sal.coord('longitude').points\n",
      "y = sal.coord('latitude').points\n",
      "\n",
      "xc = sal_profile.coord('longitude').points\n",
      "yc = sal_profile.coord('latitude').points\n",
      "\n",
      "ax.plot(x, y, 'ko')\n",
      "ax.plot(xc, yc, 'ro')\n",
      "ax.grid()"
     ],
     "language": "python",
     "metadata": {},
     "outputs": []
    },
    {
     "cell_type": "code",
     "collapsed": false,
     "input": [
      "fig, ax = plt.subplots(figsize=(5, 6))\n",
      "iplt.plot(sal_profile, sal_profile.coord('altitude'),\n",
      "          linewidth=2,  color='k')\n",
      "ax.set_xlabel('Salinity')\n",
      "ax.set_ylabel('Depth')"
     ],
     "language": "python",
     "metadata": {},
     "outputs": []
    }
   ],
   "metadata": {}
  }
 ]
}