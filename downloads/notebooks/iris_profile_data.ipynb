{
 "metadata": {
  "name": "",
  "signature": "sha256:70f592643f1dd19c5cd8d380bde162c0a34b6a6349dad0883acc15325271c939"
 },
 "nbformat": 3,
 "nbformat_minor": 0,
 "worksheets": [
  {
   "cells": [
    {
     "cell_type": "code",
     "collapsed": false,
     "input": [
      "import iris\n",
      "import iris.plot as iplt\n",
      "import matplotlib.pyplot as plt\n",
      "%matplotlib inline\n",
      "\n",
      "# Add the .html in the end to visualize in the browser.\n",
      "url = 'http://data.nodc.noaa.gov/thredds/dodsC/testdata/netCDFTemplateExamples/profile/wodStandardLevels.nc'\n",
      "sal = iris.load_cube(url, 'sea_water_salinity')\n",
      "\n",
      "print(sal)"
     ],
     "language": "python",
     "metadata": {},
     "outputs": [
      {
       "output_type": "stream",
       "stream": "stdout",
       "text": [
        "sea_water_salinity / (unknown)      (-- : 169; altitude: 26)\n",
        "     Dimension coordinates:\n",
        "          altitude                      -              x\n",
        "     Auxiliary coordinates:\n",
        "          latitude                      x              -\n",
        "          longitude                     x              -\n",
        "          time                          x              -\n",
        "     Attributes:\n",
        "          Conventions: CF-1.6\n",
        "          DODS.dimName: strnlen\n",
        "          DODS.strlen: 170\n",
        "          cdm_data_type: Profile\n",
        "          featureType: profile\n",
        "          standard_name_vocabulary: CF-1.6\n"
       ]
      }
     ],
     "prompt_number": 1
    },
    {
     "cell_type": "code",
     "collapsed": false,
     "input": [
      "lon = iris.Constraint(longitude=lambda l:100 < l < 150)\n",
      "lat = iris.Constraint(latitude=lambda l:-40 < l < -20)\n",
      "alt = iris.Constraint(altitude=lambda a: a <= 30)\n",
      "sal_profile = sal.extract(alt & lon & lat)\n",
      "print(sal_profile)"
     ],
     "language": "python",
     "metadata": {},
     "outputs": [
      {
       "output_type": "stream",
       "stream": "stdout",
       "text": [
        "sea_water_salinity / (unknown)      (altitude: 4)\n",
        "     Dimension coordinates:\n",
        "          altitude                           x\n",
        "     Scalar coordinates:\n",
        "          latitude: -28.7667 degrees\n",
        "          longitude: 114.383 degrees\n",
        "          time: 1980-03-10 00:00:00\n",
        "     Attributes:\n",
        "          Conventions: CF-1.6\n",
        "          DODS.dimName: strnlen\n",
        "          DODS.strlen: 170\n",
        "          cdm_data_type: Profile\n",
        "          featureType: profile\n",
        "          standard_name_vocabulary: CF-1.6\n"
       ]
      }
     ],
     "prompt_number": 2
    },
    {
     "cell_type": "code",
     "collapsed": false,
     "input": [
      "fig, ax = plt.subplots()\n",
      "\n",
      "x = sal.coord('longitude').points\n",
      "y = sal.coord('latitude').points\n",
      "\n",
      "xc = sal_profile.coord('longitude').points\n",
      "yc = sal_profile.coord('latitude').points\n",
      "\n",
      "ax.plot(x, y, 'ko')\n",
      "ax.plot(xc, yc, 'ro')\n",
      "ax.grid()"
     ],
     "language": "python",
     "metadata": {},
     "outputs": [
      {
       "metadata": {},
       "output_type": "display_data",
       "png": "[encoded data removed]",
       "text": [
        "<matplotlib.figure.Figure at 0x545f2d0>"
       ]
      }
     ],
     "prompt_number": 3
    },
    {
     "cell_type": "code",
     "collapsed": false,
     "input": [
      "fig, ax = plt.subplots(figsize=(5, 6))\n",
      "iplt.plot(sal_profile, sal_profile.coord('altitude'),\n",
      "          linewidth=2,  color='k')\n",
      "ax.set_xlabel('Salinity')\n",
      "ax.set_ylabel('Depth')"
     ],
     "language": "python",
     "metadata": {},
     "outputs": [
      {
       "metadata": {},
       "output_type": "pyout",
       "prompt_number": 4,
       "text": [
        "<matplotlib.text.Text at 0x546b650>"
       ]
      },
      {
       "metadata": {},
       "output_type": "display_data",
       "png": "[encoded data removed]",
       "text": [
        "<matplotlib.figure.Figure at 0x5468910>"
       ]
      }
     ],
     "prompt_number": 4
    }
   ],
   "metadata": {}
  }
 ]
}