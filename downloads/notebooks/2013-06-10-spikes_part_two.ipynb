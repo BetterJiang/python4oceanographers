{
 "metadata": {
  "name": "",
  "signature": "sha256:439852964b2d04fa70e17242b5ad2e567245bc4b1814b7a894c200a9c6289533"
 },
 "nbformat": 3,
 "nbformat_minor": 0,
 "worksheets": [
  {
   "cells": [
    {
     "cell_type": "code",
     "collapsed": false,
     "input": [
      "from IPython.core.display import HTML\n",
      "\n",
      "with open('creative_commons.txt', 'r') as f:\n",
      "    html = f.read()\n",
      "    \n",
      "name = '2013-06-10-spikes_part_two'\n",
      "\n",
      "html = \"\"\"\n",
      "<small>\n",
      "<p> This post was written as an IPython notebook.  It is available for\n",
      "<a href=\"https://ocefpaf.github.com/python4oceanographers/downloads/\n",
      "notebooks/%s.ipynb\">download</a> or as a static\n",
      "<a href=\"https://nbviewer.ipython.org/url/ocefpaf.github.com/\n",
      "python4oceanographers/downloads/notebooks/%s.ipynb\">html</a>.</p>\n",
      "<p></p>\n",
      "%s \"\"\" % (name, name, html)\n",
      "\n",
      "%matplotlib inline\n",
      "from matplotlib import style\n",
      "style.use('ggplot')"
     ],
     "language": "python",
     "metadata": {},
     "outputs": [],
     "prompt_number": 1
    },
    {
     "cell_type": "code",
     "collapsed": false,
     "input": [
      "import gsw\n",
      "from ctd import DataFrame"
     ],
     "language": "python",
     "metadata": {},
     "outputs": [],
     "prompt_number": 2
    },
    {
     "cell_type": "code",
     "collapsed": false,
     "input": [
      "before = DataFrame.from_cnv('./data/CTD-before.cnv.gz', compression='gzip').split()[0]\n",
      "after = DataFrame.from_cnv('./data/CTD-after.cnv.gz', compression='gzip').split()[0]"
     ],
     "language": "python",
     "metadata": {},
     "outputs": [],
     "prompt_number": 3
    },
    {
     "cell_type": "code",
     "collapsed": false,
     "input": [
      "# Compute salinity before.\n",
      "p = before.index.values.astype(float)\n",
      "before['SP'] = gsw.SP_from_C(before['c0S/m'].values * 10, before['t090C'].values, p)"
     ],
     "language": "python",
     "metadata": {},
     "outputs": [],
     "prompt_number": 4
    },
    {
     "cell_type": "code",
     "collapsed": false,
     "input": [
      "# Compute salinity after.\n",
      "p = after.index.values.astype(float)\n",
      "after['SP'] = gsw.SP_from_C(after['c0S/m'].values * 10, after['t090C'].values, p)"
     ],
     "language": "python",
     "metadata": {},
     "outputs": [],
     "prompt_number": 5
    },
    {
     "cell_type": "markdown",
     "metadata": {},
     "source": [
      "The file **CTD-before.cnv.gz** is just the raw data acquired be the CTD.  The\n",
      "file **CTD-after.cnv.gz** had both the `Align` (-0.01 s and 0.07 s for the\n",
      "primary and secondary conductivity sensors respectively as provided by the\n",
      "calibration lab) and the `Cell Thermal Mass` ($\\alpha = 0.03$ for\n",
      "thermal anomaly amplitude and  $\\tau = 7$ s for the time constant) corrections\n",
      "applied.\n",
      "\n",
      "Here is the result of those \"corrections\":"
     ]
    },
    {
     "cell_type": "code",
     "collapsed": false,
     "input": [
      "kw_before = dict(linestyle='-', color='#339933', linewidth=3, label=r\"Practical Salinity Before Align and CellTM\")\n",
      "kw_after = dict(linestyle='-', color='#ff3333', alpha=0.65, linewidth=3, label=r\"Practical Salinity After Align and CellTM\")\n",
      "fig, ax = before['SP'].plot(**kw_before)\n",
      "ax.plot(after['SP'], after.index, **kw_after)\n",
      "ax.set_xlabel(\"Salinity [g kg$^{-1}$]\")\n",
      "ax.set_ylabel(\"Pressure [dbar]\")\n",
      "l = ax.legend(loc=\"lower right\")\n",
      "fig.set_size_inches((5, 7))"
     ],
     "language": "python",
     "metadata": {},
     "outputs": [
      {
       "metadata": {},
       "output_type": "display_data",
       "png": "[encoded data removed]",
       "text": [
        "<matplotlib.figure.Figure at 0x7fc1cb483e90>"
       ]
      }
     ],
     "prompt_number": 6
    },
    {
     "cell_type": "markdown",
     "metadata": {},
     "source": [
      "Unfortunately most people apply those corrections using the defaults on the SBE\n",
      "Software and then \"correct\" the bad corrections with averaging, smoothing, and\n",
      "despiking techniques.  A much better solution is to estimate these parameters\n",
      "for your CTD system and avoid them altogether."
     ]
    },
    {
     "cell_type": "code",
     "collapsed": false,
     "input": [
      "HTML(html)"
     ],
     "language": "python",
     "metadata": {},
     "outputs": [
      {
       "html": [
        "\n",
        "<small>\n",
        "<p> This post was written as an IPython notebook.  It is available for\n",
        "<a href=\"https://ocefpaf.github.com/python4oceanographers/downloads/\n",
        "notebooks/2013-06-10-spikes_part_two.ipynb\">download</a> or as a static\n",
        "<a href=\"https://nbviewer.ipython.org/url/ocefpaf.github.com/\n",
        "python4oceanographers/downloads/notebooks/2013-06-10-spikes_part_two.ipynb\">html</a>.</p>\n",
        "<p></p>\n",
        "<a rel=\"license\" href=\"https://creativecommons.org/licenses/by-sa/4.0/\"><img\n",
        "alt=\"Creative Commons License\" style=\"border-width:0\"\n",
        "src=\"https://i.creativecommons.org/l/by-sa/4.0/88x31.png\" /></a><br /><span\n",
        "xmlns:dct=\"https://purl.org/dc/terms/\"\n",
        "property=\"dct:title\">python4oceanographers</span> by <a\n",
        "xmlns:cc=\"https://creativecommons.org/ns#\" href=\"https://ocefpaf.github.io/\"\n",
        "property=\"cc:attributionName\" rel=\"cc:attributionURL\">Filipe Fernandes</a> is\n",
        "licensed under a <a rel=\"license\"\n",
        "href=\"https://creativecommons.org/licenses/by-sa/4.0/\">Creative Commons\n",
        "Attribution-ShareAlike 4.0 International License</a>.<br />Based on a work at <a\n",
        "xmlns:dct=\"https://purl.org/dc/terms/\" href=\"https://ocefpaf.github.io/\"\n",
        "rel=\"dct:source\">https://ocefpaf.github.io/</a>.\n",
        " "
       ],
       "metadata": {},
       "output_type": "pyout",
       "prompt_number": 7,
       "text": [
        "<IPython.core.display.HTML at 0x7fc1cc3474d0>"
       ]
      }
     ],
     "prompt_number": 7
    }
   ],
   "metadata": {}
  }
 ]
}