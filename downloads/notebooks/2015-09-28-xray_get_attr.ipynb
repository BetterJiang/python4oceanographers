{
 "metadata": {
  "name": "",
  "signature": "sha256:a19bcc3b7970ea198aeb7b4572a348b602c96533339019c3c74c5cb606aac0f7"
 },
 "nbformat": 3,
 "nbformat_minor": 0,
 "worksheets": [
  {
   "cells": [
    {
     "cell_type": "code",
     "collapsed": false,
     "input": [
      "name = '2015-09-28-xray_get_attr'\n",
      "title = \"Using get_variables_by_attributes with xray\""
     ],
     "language": "python",
     "metadata": {},
     "outputs": [],
     "prompt_number": 1
    },
    {
     "cell_type": "code",
     "collapsed": false,
     "input": [
      "%matplotlib inline\n",
      "\n",
      "import os\n",
      "from datetime import datetime\n",
      "from IPython.core.display import HTML\n",
      "\n",
      "with open('creative_commons.txt', 'r') as f:\n",
      "    html = f.read()\n",
      "\n",
      "hour = datetime.utcnow().strftime('%H:%M')\n",
      "comments=\"true\"\n",
      "\n",
      "date = '-'.join(name.split('-')[:3])\n",
      "slug = '-'.join(name.split('-')[3:])\n",
      "\n",
      "metadata = dict(title=title,\n",
      "                date=date,\n",
      "                hour=hour,\n",
      "                comments=comments,\n",
      "                slug=slug,\n",
      "                name=name)\n",
      "\n",
      "markdown = \"\"\"Title: {title}\n",
      "date:  {date} {hour}\n",
      "comments: {comments}\n",
      "slug: {slug}\n",
      "\n",
      "{{% notebook {name}.ipynb cells[2:] %}}\n",
      "\"\"\".format(**metadata)\n",
      "\n",
      "content = os.path.abspath(os.path.join(os.getcwd(),\n",
      "                                       os.pardir,\n",
      "                                       os.pardir, \n",
      "                                       '{}.md'.format(name)))\n",
      "with open('{}'.format(content), 'w') as f:\n",
      "    f.writelines(markdown)\n",
      "    \n",
      "html = '''\n",
      "<small>\n",
      "<p> This post was written as an IPython notebook.\n",
      " It is available for <a href='https://ocefpaf.github.com/python4oceanographers/downloads/notebooks/%s.ipynb'>download</a>\n",
      " or as a static <a href='https://nbviewer.ipython.org/url/ocefpaf.github.com/python4oceanographers/downloads/notebooks/%s.ipynb'>html</a>.</p>\n",
      "<p></p>\n",
      "%s''' % (name, name, html)"
     ],
     "language": "python",
     "metadata": {},
     "outputs": [],
     "prompt_number": 2
    },
    {
     "cell_type": "markdown",
     "metadata": {},
     "source": [
      "In my last post I showed the new `get_variables_by_attributes` method that will be available in netCDF4-python `1.2.0`.  But what if you want to use that now?  You can just copy the [method]((https://github.com/ocefpaf/netcdf4-python/blob/ef69cd01915aacfec7949a2e61884f2ccad0c2d5/netCDF4/_netCDF4.pyx#L2275-L2315) as a local function and change the `self` argument to take the the `netCDF4.Dataset` (`nc`) object.\n",
      "\n",
      "In fact we can even expand that to `xray` or `iris`.\n",
      "Well... If your dataset is CF-compliant then it makes no sense to use this in `iris`.\n",
      "Just use iris methods instead ;-)\n",
      "\n",
      "Below is an example with `xray`."
     ]
    },
    {
     "cell_type": "code",
     "collapsed": false,
     "input": [
      "def get_variables_by_attributes(ds, **kwargs):\n",
      "    vs = []\n",
      "    \n",
      "    has_value_flag  = False\n",
      "    for vname, var in ds.items():\n",
      "        for k, v in kwargs.items():\n",
      "            if callable(v):\n",
      "                has_value_flag = v(getattr(var, k, None))\n",
      "                if has_value_flag is False:\n",
      "                    break\n",
      "            elif hasattr(var, k) and getattr(var, k) == v:\n",
      "                has_value_flag = True\n",
      "            else:\n",
      "                has_value_flag = False\n",
      "                break\n",
      "        if has_value_flag is True:\n",
      "            vs.append(ds[vname])\n",
      "\n",
      "    return vs"
     ],
     "language": "python",
     "metadata": {},
     "outputs": [],
     "prompt_number": 3
    },
    {
     "cell_type": "markdown",
     "metadata": {},
     "source": [
      "And now let's do the same thing we did in the last post: construct the dimensioned vertical coordinate."
     ]
    },
    {
     "cell_type": "code",
     "collapsed": false,
     "input": [
      "import xray\n",
      "\n",
      "\n",
      "url = (\"http://omgsrv1.meas.ncsu.edu:8080/thredds/dodsC/fmrc/sabgom/\"\n",
      "       \"SABGOM_Forecast_Model_Run_Collection_best.ncd\")\n",
      "\n",
      "\n",
      "ds = xray.open_dataset(url)"
     ],
     "language": "python",
     "metadata": {},
     "outputs": [],
     "prompt_number": 4
    },
    {
     "cell_type": "code",
     "collapsed": false,
     "input": [
      "formula_terms = lambda v: v is not None\n",
      "\n",
      "var = get_variables_by_attributes(ds, formula_terms=formula_terms)[0]"
     ],
     "language": "python",
     "metadata": {},
     "outputs": [],
     "prompt_number": 5
    },
    {
     "cell_type": "code",
     "collapsed": false,
     "input": [
      "var.attrs.get('formula_terms')"
     ],
     "language": "python",
     "metadata": {},
     "outputs": [
      {
       "metadata": {},
       "output_type": "pyout",
       "prompt_number": 6,
       "text": [
        "u's: s_rho C: Cs_r eta: zeta depth: h depth_c: hc'"
       ]
      }
     ],
     "prompt_number": 6
    },
    {
     "cell_type": "code",
     "collapsed": false,
     "input": [
      "var.attrs.get('standard_name')"
     ],
     "language": "python",
     "metadata": {},
     "outputs": [
      {
       "metadata": {},
       "output_type": "pyout",
       "prompt_number": 7,
       "text": [
        "u'ocean_s_coordinate_g1'"
       ]
      }
     ],
     "prompt_number": 7
    },
    {
     "cell_type": "markdown",
     "metadata": {},
     "source": [
      "Now that we know the variable holding the `formula_terms` and all the variables in the `formula_terms` itself we can get them from the dataset.\n",
      "\n",
      "Note that I am getting only the last time-step for `eta`.  That is because\n",
      "I was unable to find a way to lazily re-shape arrays in `xray`."
     ]
    },
    {
     "cell_type": "code",
     "collapsed": false,
     "input": [
      "s = ds['s_rho']\n",
      "C = ds['Cs_r']\n",
      "eta = ds['zeta'][-1, ...]  # Last time step.\n",
      "depth = ds['h']\n",
      "depth_c = ds['hc']"
     ],
     "language": "python",
     "metadata": {},
     "outputs": [],
     "prompt_number": 8
    },
    {
     "cell_type": "markdown",
     "metadata": {},
     "source": [
      "Remember that we need to match all the shapes before computing the vertical coordinate.\n",
      "Here I will take a different approach from the last post,\n",
      "that soon will be the default behavior in [`odvc`](https://github.com/pyoceans/odvc),\n",
      "I will align the shapes based on a final desired shape.\n",
      "\n",
      "Right now this approach is incomplete because it does not guess the final shape,\n",
      "but in `odvc` this will be [possible](https://github.com/pyoceans/odvc/blob/master/odvc/utils.py#L62-L76).  The current shapes are,"
     ]
    },
    {
     "cell_type": "code",
     "collapsed": false,
     "input": [
      "s.shape, C.shape, eta.shape, depth.shape"
     ],
     "language": "python",
     "metadata": {},
     "outputs": [
      {
       "metadata": {},
       "output_type": "pyout",
       "prompt_number": 9,
       "text": [
        "((36,), (36,), (320, 440), (320, 440))"
       ]
      }
     ],
     "prompt_number": 9
    },
    {
     "cell_type": "markdown",
     "metadata": {},
     "source": [
      "We want the vertical coordinate to be the leftmost dimension.\n",
      "That means the final shape should be `(36, 320, 440)`."
     ]
    },
    {
     "cell_type": "code",
     "collapsed": false,
     "input": [
      "final = (36, 320, 440)\n",
      "\n",
      "def align(shape_in, shape_out):\n",
      "    dims = [k for k in shape_in]\n",
      "    def select(dim):\n",
      "        return dim if dim in dims else 1\n",
      "    return tuple(select(k) for k in shape_out)\n",
      "\n",
      "\n",
      "def to_shape(arr, shape):\n",
      "    reshape = align(shape_in=arr.shape, shape_out=final)\n",
      "    return arr.data.reshape(reshape)"
     ],
     "language": "python",
     "metadata": {},
     "outputs": [],
     "prompt_number": 10
    },
    {
     "cell_type": "code",
     "collapsed": false,
     "input": [
      "s = to_shape(s, shape=final)\n",
      "C = to_shape(C, shape=final)\n",
      "eta = to_shape(eta, shape=final)\n",
      "depth = to_shape(depth, shape=final)"
     ],
     "language": "python",
     "metadata": {},
     "outputs": [],
     "prompt_number": 11
    },
    {
     "cell_type": "code",
     "collapsed": false,
     "input": [
      "s.shape, C.shape, eta.shape, depth.shape"
     ],
     "language": "python",
     "metadata": {},
     "outputs": [
      {
       "metadata": {},
       "output_type": "pyout",
       "prompt_number": 12,
       "text": [
        "((36, 1, 1), (36, 1, 1), (1, 320, 440), (1, 320, 440))"
       ]
      }
     ],
     "prompt_number": 12
    },
    {
     "cell_type": "markdown",
     "metadata": {},
     "source": [
      "Nice!  It works!!  Now let's end the post with a fancy figure."
     ]
    },
    {
     "cell_type": "code",
     "collapsed": false,
     "input": [
      "from odvc import ocean_s_coordinate_g1\n",
      "\n",
      "z = ocean_s_coordinate_g1(s, C, eta, depth, depth_c.data)"
     ],
     "language": "python",
     "metadata": {},
     "outputs": [],
     "prompt_number": 13
    },
    {
     "cell_type": "code",
     "collapsed": false,
     "input": [
      "salt = get_variables_by_attributes(ds, standard_name='sea_water_salinity')[0]\n",
      "\n",
      "temp = get_variables_by_attributes(ds, standard_name='sea_water_potential_temperature')[0]"
     ],
     "language": "python",
     "metadata": {},
     "outputs": [],
     "prompt_number": 14
    },
    {
     "cell_type": "code",
     "collapsed": false,
     "input": [
      "import matplotlib.pyplot as plt\n",
      "import mpl_toolkits.axisartist as AA\n",
      "from mpl_toolkits.axes_grid1 import host_subplot\n",
      "\n",
      "import seaborn\n",
      "seaborn.set(style='ticks')\n",
      "\n",
      "\n",
      "def adjust_xlim(ax, offset):\n",
      "    x1, x2 = ax.get_xlim()\n",
      "    ax.set_xlim(x1 - offset, x2 + offset)\n",
      "\n",
      "\n",
      "fig = plt.figure(figsize=(6, 9))\n",
      "fig.subplots_adjust(bottom=0.1, top=0.85)\n",
      "ax0 = host_subplot(111, axes_class=AA.Axes)\n",
      "\n",
      "ax0.invert_yaxis()\n",
      "ax1 = ax0.twiny()\n",
      "\n",
      "new_axis0 = ax0.get_grid_helper().new_fixed_axis\n",
      "new_axis1 = ax1.get_grid_helper().new_fixed_axis\n",
      "\n",
      "ax0.axis[\"top\"] = new_axis0(loc=\"top\", axes=ax0, offset=(0, 0))\n",
      "ax1.axis[\"top\"] = new_axis1(loc=\"top\", axes=ax1, offset=(0, 40))\n",
      "\n",
      "ax0.axis[\"bottom\"].toggle(all=False)\n",
      "ax1.axis[\"bottom\"].toggle(all=False)\n",
      "\n",
      "ax0.set_ylabel(\"Depth (m)\")\n",
      "ax0.set_xlabel(u\"Temperature (\\xb0C)\")\n",
      "ax1.set_xlabel(r\"Salinity (g kg$^{-1}$)\")\n",
      "\n",
      "kw = dict(linewidth=2.5)\n",
      "l0, = ax0.plot(temp[-1, :, 5, 364], -z[:, 5, 364], **kw)\n",
      "l1, = ax1.plot(salt[-1, :, 5, 364], -z[:, 5, 364], **kw)\n",
      "\n",
      "adjust_xlim(ax0, offset=0.05)\n",
      "adjust_xlim(ax1, offset=0.05)\n",
      "\n",
      "ax0.axis[\"top\"].label.set_color(l0.get_color())\n",
      "ax1.axis[\"top\"].label.set_color(l1.get_color())"
     ],
     "language": "python",
     "metadata": {},
     "outputs": [
      {
       "metadata": {},
       "output_type": "display_data",
       "png": "[encoded data removed]",
       "text": [
        "<matplotlib.figure.Figure at 0x7fabfce7e550>"
       ]
      }
     ],
     "prompt_number": 15
    },
    {
     "cell_type": "code",
     "collapsed": false,
     "input": [
      "HTML(html)"
     ],
     "language": "python",
     "metadata": {},
     "outputs": [
      {
       "html": [
        "\n",
        "<small>\n",
        "<p> This post was written as an IPython notebook.\n",
        " It is available for <a href='https://ocefpaf.github.com/python4oceanographers/downloads/notebooks/2015-09-28-xray_get_attr.ipynb'>download</a>\n",
        " or as a static <a href='https://nbviewer.ipython.org/url/ocefpaf.github.com/python4oceanographers/downloads/notebooks/2015-09-28-xray_get_attr.ipynb'>html</a>.</p>\n",
        "<p></p>\n",
        "<a rel=\"license\" href=\"https://creativecommons.org/licenses/by-sa/4.0/\"><img\n",
        "alt=\"Creative Commons License\" style=\"border-width:0\"\n",
        "src=\"https://i.creativecommons.org/l/by-sa/4.0/88x31.png\" /></a><br /><span\n",
        "xmlns:dct=\"https://purl.org/dc/terms/\"\n",
        "property=\"dct:title\">python4oceanographers</span> by <a\n",
        "xmlns:cc=\"https://creativecommons.org/ns#\" href=\"https://ocefpaf.github.io/\"\n",
        "property=\"cc:attributionName\" rel=\"cc:attributionURL\">Filipe Fernandes</a> is\n",
        "licensed under a <a rel=\"license\"\n",
        "href=\"https://creativecommons.org/licenses/by-sa/4.0/\">Creative Commons\n",
        "Attribution-ShareAlike 4.0 International License</a>.<br />Based on a work at <a\n",
        "xmlns:dct=\"https://purl.org/dc/terms/\" href=\"https://ocefpaf.github.io/\"\n",
        "rel=\"dct:source\">https://ocefpaf.github.io/</a>.\n"
       ],
       "metadata": {},
       "output_type": "pyout",
       "prompt_number": 16,
       "text": [
        "<IPython.core.display.HTML at 0x7f6c3c166450>"
       ]
      }
     ],
     "prompt_number": 16
    }
   ],
   "metadata": {}
  }
 ]
}