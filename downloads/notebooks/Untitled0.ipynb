{
 "metadata": {
  "kernelspec": {
   "codemirror_mode": {
    "name": "ipython",
    "version": 3
   },
   "display_name": "Iris (Python 2)",
   "language": "python",
   "name": "iris_python2"
  },
  "name": "",
  "signature": "sha256:c153bc9d5b2f0ee99a3bd79ef836f7be8d798525bfc95cac963ed79a8fad9a58"
 },
 "nbformat": 3,
 "nbformat_minor": 0,
 "worksheets": [
  {
   "cells": [
    {
     "cell_type": "code",
     "collapsed": false,
     "input": [
      "%matplotlib inline\n",
      "import numpy.ma as ma\n",
      "import matplotlib.pyplot as plt\n",
      "import cartopy.crs as ccrs\n",
      "from cartopy.feature import NaturalEarthFeature, COASTLINE\n",
      "from cartopy.io.srtm import srtm_composite, add_shading, fill_gaps\n",
      "\n",
      "dx = dy = 6\n",
      "lon, lat = (-41.472195955284569, -12.457472052845537)\n",
      "\n",
      "\n",
      "elev, crs, extent = srtm_composite(lon - dx/2., lat - dx/2., dx, dy)\n",
      "elev = ma.masked_equal(elev, -32768)\n",
      "\n",
      "states = NaturalEarthFeature(category='cultural', scale='50m', facecolor='none',\n",
      "                             name='admin_1_states_provinces_shp')\n",
      "\n",
      "subplot_kw = dict(projection=ccrs.PlateCarree())\n",
      "fig, ax = plt.subplots(figsize=(6, 9), subplot_kw=subplot_kw)\n",
      "\n",
      "kw = dict(extent=extent, transform=crs, cmap='Greys')\n",
      "ax.imshow(elev, origin='lower', **kw)\n",
      "ax.plot(lon, lat, 'ro', alpha=0.5)\n",
      "ax.add_feature(states, edgecolor='gray')\n",
      "ax.add_feature(COASTLINE, color='r')\n",
      "ax.set_title('cartopy')\n",
      "gl = ax.gridlines(draw_labels=False)\n",
      "gl.xlabels_top = gl.ylabels_left = False"
     ],
     "language": "python",
     "metadata": {},
     "outputs": []
    }
   ],
   "metadata": {}
  }
 ]
}