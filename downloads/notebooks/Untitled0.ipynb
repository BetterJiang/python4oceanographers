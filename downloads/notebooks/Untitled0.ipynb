{
 "metadata": {
  "kernelspec": {
   "codemirror_mode": {
    "name": "ipython",
    "version": 3
   },
   "display_name": "Iris (Python 2)",
   "language": "python",
   "name": "iris_python2"
  },
  "name": "",
  "signature": "sha256:1d22a070b4fa3334c6be538a4a51cac723b2cc24f70a73a47ecd80ff242af6d5"
 },
 "nbformat": 3,
 "nbformat_minor": 0,
 "worksheets": [
  {
   "cells": [
    {
     "cell_type": "code",
     "collapsed": false,
     "input": [
      "%matplotlib inline\n",
      "import numpy as np\n",
      "import numpy.ma as ma\n",
      "import matplotlib.pyplot as plt\n",
      "import cartopy.crs as ccrs\n",
      "from cartopy.io.srtm import srtm_composite\n",
      "from cartopy.feature import NaturalEarthFeature\n",
      "\n",
      "dx, dy = 3, 3\n",
      "lon, lat = (-38.476667, -12.974722)\n",
      "\n",
      "# cartopy\n",
      "elev, crs, extent = srtm_composite(lon - dx/2., lat - dy/2., dx, dy)\n",
      "elev = ma.masked_equal(elev, -32768)"
     ],
     "language": "python",
     "metadata": {},
     "outputs": []
    },
    {
     "cell_type": "code",
     "collapsed": false,
     "input": [
      "subplot_kw = dict(projection=ccrs.PlateCarree())\n",
      "fig, ax = plt.subplots(figsize=(7, 7), subplot_kw=subplot_kw)\n",
      "\n",
      "kw = dict(extent=extent, transform=crs, cmap='Greys')\n",
      "ax.set_extent([lon - dx/2.,  lon + dx/2., lat - dy/2., lat + dy/2.])\n",
      "ax.imshow(elev, origin='lower', **kw)\n",
      "ax.plot(lon, lat, 'ro', alpha=0.5)\n",
      "ax.coastlines(resolution='10m', color='r', alpha=0.5)\n",
      "ax.set_title('cartopy')\n",
      "gl = ax.gridlines(draw_labels=False)\n",
      "gl.xlabels_top = gl.ylabels_left = False"
     ],
     "language": "python",
     "metadata": {},
     "outputs": []
    }
   ],
   "metadata": {}
  }
 ]
}