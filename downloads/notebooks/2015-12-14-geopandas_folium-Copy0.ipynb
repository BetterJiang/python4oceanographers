{
 "metadata": {
  "name": "",
  "signature": "sha256:337bd982651992370a6f841d5b7c727da8cc5f90717bfd22554b9a183c123cb2"
 },
 "nbformat": 3,
 "nbformat_minor": 0,
 "worksheets": [
  {
   "cells": [
    {
     "cell_type": "code",
     "collapsed": false,
     "input": [
      "import os\n",
      "import time\n",
      "from selenium import webdriver\n",
      "\n",
      "delay=5\n",
      "fn='testmap.html'\n",
      "tmpurl='file://{path}/{mapfile}'.format(path=os.getcwd(),mapfile=fn)\n",
      "m.save(fn)\n",
      "\n",
      "browser = webdriver.Firefox()\n",
      "browser.get(tmpurl)\n",
      "#Give the map tiles some time to load\n",
      "time.sleep(delay)\n",
      "browser.save_screenshot('map.png')\n",
      "browser.quit()"
     ],
     "language": "python",
     "metadata": {},
     "outputs": []
    },
    {
     "cell_type": "markdown",
     "metadata": {},
     "source": [
      "We need to know the Coordinate Reference System (CRS) of the data.\n",
      "That information is stored in the `.crs` property and we can use [pyepsg](https://github.com/rhattersley/pyepsg) to get more information about it."
     ]
    },
    {
     "cell_type": "code",
     "collapsed": false,
     "input": [
      "import pyepsg\n",
      "\n",
      "pyepsg.get(hidro.crs['init'].split(':')[1])"
     ],
     "language": "python",
     "metadata": {},
     "outputs": []
    },
    {
     "cell_type": "markdown",
     "metadata": {},
     "source": [
      "SIRGAS 2000 is a common CRS used both onshore and offshore data in Central America and South America.\n",
      "However, to plot the data on a folium map,\n",
      "we need to convert to a Geographic coordinate system with the wgs84 datum (EPSG: 4326).\n",
      "We also need to greate a GeoJSON object out of the GeoDataFrame.\n",
      "\n",
      "Luckily, `geopandas` makes that extremely easy with the `to_crs()` method and, chained with the `to_json()`, we have an object ready for plotting with just one line."
     ]
    },
    {
     "cell_type": "code",
     "collapsed": false,
     "input": [
      "gjson = hidro.to_crs(epsg='4326').to_json()"
     ],
     "language": "python",
     "metadata": {},
     "outputs": []
    },
    {
     "cell_type": "code",
     "collapsed": false,
     "input": [
      "import folium\n",
      "\n",
      "mapa = folium.Map([-15.783333, -47.866667],\n",
      "                  zoom_start=4,\n",
      "                  tiles='cartodbpositron')\n",
      "\n",
      "points = folium.features.GeoJson(gjson)\n",
      "\n",
      "mapa.add_children(points)\n",
      "mapa"
     ],
     "language": "python",
     "metadata": {},
     "outputs": []
    },
    {
     "cell_type": "markdown",
     "metadata": {},
     "source": [
      "It is very hard to make sense of what we are plotting.\n",
      "The information is cluttered and has no description.\n",
      "\n",
      "To make it better we can add more information as rich HTML popups.\n",
      "And to reduced the clutter we can use the plugin `MarkerCluster`.\n",
      "Since we have to groups of data to plot we can also use `FeatureGroup` to turn on/off the display of a specific group."
     ]
    },
    {
     "cell_type": "code",
     "collapsed": false,
     "input": [
      "table = \"\"\"\n",
      "<!DOCTYPE html>\n",
      "<html>\n",
      "<head>\n",
      "<style>\n",
      "table {{\n",
      "    width:100%;\n",
      "}}\n",
      "table, th, td {{\n",
      "    border: 1px solid black;\n",
      "    border-collapse: collapse;\n",
      "}}\n",
      "th, td {{\n",
      "    padding: 5px;\n",
      "    text-align: left;\n",
      "}}\n",
      "table#t01 tr:nth-child(odd) {{\n",
      "    background-color: #eee;\n",
      "}}\n",
      "table#t01 tr:nth-child(even) {{\n",
      "   background-color:#fff;\n",
      "}}\n",
      "</style>\n",
      "</head>\n",
      "<body>\n",
      "\n",
      "<table id=\"t01\">\n",
      "  <tr>\n",
      "    <td>Type</td>\n",
      "    <td>{}</td>\n",
      "  </tr>\n",
      "  <tr>\n",
      "    <td>Name</td>\n",
      "    <td>{}</td>\n",
      "  </tr>\n",
      "  <tr>\n",
      "    <td>Operational</td>\n",
      "    <td>{}</td>\n",
      "  </tr>\n",
      "</table>\n",
      "</body>\n",
      "</html>\n",
      "\"\"\".format"
     ],
     "language": "python",
     "metadata": {},
     "outputs": []
    },
    {
     "cell_type": "code",
     "collapsed": false,
     "input": [
      "mapa = folium.Map([-15.783333, -47.866667],\n",
      "                  zoom_start=4,\n",
      "                  tiles='cartodbpositron')"
     ],
     "language": "python",
     "metadata": {},
     "outputs": []
    },
    {
     "cell_type": "code",
     "collapsed": false,
     "input": [
      "from folium.element import IFrame\n",
      "from folium.plugins import MarkerCluster\n",
      "\n",
      "width, height = 310,110\n",
      "popups, locations = [], []\n",
      "for idx, row in hidro.iterrows():\n",
      "    locations.append([row['geometry'].y, row['geometry'].x])\n",
      "    name = row['NOME'].encode('ascii', 'xmlcharrefreplace')\n",
      "    if row['OPERACIONA'] == 'Sim':\n",
      "        opr = 'Yes'\n",
      "    elif row['OPERACIONA'] == u'N\u00e3o':\n",
      "        opr = 'No'\n",
      "    else:\n",
      "        opr = 'NA'\n",
      "    iframe = IFrame(table('Hydroelectric', name, opr), width=width, height=height)\n",
      "    popups.append(iframe)\n",
      "    \n",
      "h = folium.FeatureGroup(name='Hydroelectric')\n",
      "h.add_children(MarkerCluster(locations=locations, popups=popups))\n",
      "mapa.add_children(h)"
     ],
     "language": "python",
     "metadata": {},
     "outputs": []
    },
    {
     "cell_type": "code",
     "collapsed": false,
     "input": [
      "popups, locations = [], []\n",
      "for idx, row in termo.iterrows():\n",
      "    locations.append([row['geometry'].y, row['geometry'].x])\n",
      "    name = row['NOME'].encode('ascii', 'xmlcharrefreplace')\n",
      "    if row['OPERACIONA'] == 'Sim':\n",
      "        opr = 'Yes'\n",
      "    elif row['OPERACIONA'] == u'N\u00e3o':\n",
      "        opr = 'No'\n",
      "    else:\n",
      "        opr = 'NA'\n",
      "    iframe = IFrame(table('Thermoelectric', name, opr), width=width, height=height)\n",
      "    popups.append(iframe)\n",
      "\n",
      "t = folium.FeatureGroup(name='Thermoelectric')\n",
      "t.add_children(MarkerCluster(locations=locations, popups=popups))\n",
      "mapa.add_children(t)"
     ],
     "language": "python",
     "metadata": {},
     "outputs": []
    },
    {
     "cell_type": "code",
     "collapsed": false,
     "input": [
      "mapa.add_children(folium.LayerControl())\n",
      "\n",
      "mapa"
     ],
     "language": "python",
     "metadata": {},
     "outputs": []
    },
    {
     "cell_type": "markdown",
     "metadata": {},
     "source": [
      "Much better!  We can choose the context of what we want to display (Thermoelectric or Hydroelectric data \"layer\") and the points are aggregated by proximity thanks to `MarkerCluster`.\n",
      "\n",
      "That is all for today!  Enjoy data ;-)"
     ]
    },
    {
     "cell_type": "code",
     "collapsed": false,
     "input": [
      "HTML(html)"
     ],
     "language": "python",
     "metadata": {},
     "outputs": []
    }
   ],
   "metadata": {}
  }
 ]
}