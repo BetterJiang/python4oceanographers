{
 "metadata": {
  "name": "",
  "signature": "sha256:542674e53d1c4bce878a3b9cc1781e527d71851412ec7f3a5d72774621acaaff"
 },
 "nbformat": 3,
 "nbformat_minor": 0,
 "worksheets": [
  {
   "cells": [
    {
     "cell_type": "code",
     "collapsed": false,
     "input": [
      "from IPython.core.display import HTML\n",
      "\n",
      "with open('creative_commons.txt', 'r') as f:\n",
      "    html = f.read()\n",
      "    \n",
      "name = '2013-06-24-Plotting_AVISO_tracks'\n",
      "\n",
      "html = \"\"\"\n",
      "<small>\n",
      "<p> This post was written as an IPython notebook.  It is available for\n",
      "<a href=\"https://ocefpaf.github.com/python4oceanographers/downloads/\n",
      "notebooks/%s.ipynb\">download</a> or as a static\n",
      "<a href=\"https://nbviewer.ipython.org/url/ocefpaf.github.com/\n",
      "python4oceanographers/downloads/notebooks/%s.ipynb\">html</a>.</p>\n",
      "<p></p>\n",
      "%s \"\"\" % (name, name, html)\n",
      "\n",
      "%matplotlib inline\n",
      "from matplotlib import style\n",
      "style.use('ggplot')"
     ],
     "language": "python",
     "metadata": {},
     "outputs": [],
     "prompt_number": 1
    },
    {
     "cell_type": "markdown",
     "metadata": {},
     "source": [
      "AVISO [Altimetry](http://www.aviso.oceanobs.com/en/altimetry.html) data is\n",
      "available in two formats, gridded and along-track data.  Sometimes the\n",
      "along-track data is desirable, instead of the gridded data, to augment\n",
      "hydrographic data.  The along-track has a higher spatial and avoids the several\n",
      "assumptions made for the grid interpolation.\n",
      "\n",
      "This example helps to find the nearest track to a point of interest.  The AVISO\n",
      "group provide a nice kmz [compilation](http://www.aviso.oceanobs.com/en/data/tools/pass-locator.html) with all the satellites tracks and availability in time:\n",
      "\n",
      "The [kmz](http://en.wikipedia.org/wiki/Keyhole_Markup_Language) format is just\n",
      "a compressed kml.  So it is straight forward to unzip it and read its information\n",
      "with a simple python script.  First we will need to `import zipfile` and a\n",
      "`KML` parser,"
     ]
    },
    {
     "cell_type": "code",
     "collapsed": false,
     "input": [
      "import zipfile\n",
      "import numpy as np\n",
      "import matplotlib.pyplot as plt\n",
      "\n",
      "from fastkml.kml import KML\n",
      "from mpl_toolkits.basemap import Basemap"
     ],
     "language": "python",
     "metadata": {},
     "outputs": [],
     "prompt_number": 2
    },
    {
     "cell_type": "markdown",
     "metadata": {},
     "source": [
      "Then we need to define a function to read the kmz file:"
     ]
    },
    {
     "cell_type": "code",
     "collapsed": false,
     "input": [
      "def read_kmz(fname):\n",
      "    r\"\"\"Reads AVISO kmz file and return a dictionary with tracks as\n",
      "    keys and position (lon, lat) as values.\"\"\"\n",
      "    zfile = zipfile.ZipFile(fname)\n",
      "    kml_string = zfile.read(zfile.filelist[0].filename)\n",
      "\n",
      "    kml = KML()\n",
      "    kml.from_string(kml_string)\n",
      "    Document, Folder, SubFolder, PlaceMark = [], [], [], []\n",
      "    tracks, points = dict(), dict()\n",
      "    for Document_feat in kml.features():  # 1 level.\n",
      "        Document.append(Document_feat)\n",
      "        for Folder_feat in Document_feat.features():  # 2 levels: lines and dots.\n",
      "            Folder.append(Folder_feat)\n",
      "            for SubFolder_feat in Folder_feat.features():  # 20 levels.\n",
      "                SubFolder.append(SubFolder_feat)\n",
      "                for PlaceMark_feat in SubFolder_feat.features():\n",
      "                    if PlaceMark_feat.styleUrl == '#LINE':  # 254 levels (tracks).\n",
      "                        PlaceMark.append(PlaceMark_feat)\n",
      "                        track = PlaceMark_feat.name\n",
      "                        pos = PlaceMark_feat.geometry.xy\n",
      "                        tracks.update({track: pos})\n",
      "                    if PlaceMark_feat.styleUrl == '#DOT':\n",
      "                        track = PlaceMark_feat.name\n",
      "                        pos = PlaceMark_feat.geometry.wkt\n",
      "                        points.update({track: pos})\n",
      "    return tracks"
     ],
     "language": "python",
     "metadata": {},
     "outputs": [],
     "prompt_number": 3
    },
    {
     "cell_type": "code",
     "collapsed": false,
     "input": [
      "def plt_tracks(tracks, color, **kw):\n",
      "    for track, (lon, lat) in tracks.items():\n",
      "        lon, lat = map(np.array, (lon, lat))\n",
      "        # Prevent matplotlib from connecting the lines.\n",
      "        mask = lon >=0\n",
      "        m.plot(*m(lon[mask], lat[mask]), color=color, **kw)\n",
      "        m.plot(*m(lon[~mask], lat[~mask]), color=color, **kw)"
     ],
     "language": "python",
     "metadata": {},
     "outputs": [],
     "prompt_number": 4
    },
    {
     "cell_type": "code",
     "collapsed": false,
     "input": [
      "def make_map(lonStart=-50, lonEnd=-40, latStart=-30, latEnd=-21,\n",
      "             image=None):\n",
      "    fig, ax = plt.subplots(figsize=(4, 4))\n",
      "    # Setted for nautical chart 01.\n",
      "    m = Basemap(projection='merc', llcrnrlon=-59, urcrnrlon=-25,\n",
      "                llcrnrlat=-38, urcrnrlat=9, lat_ts=-26, resolution='i')\n",
      "    m.ax = ax\n",
      "\n",
      "    if image:\n",
      "        img = plt.imread(image)\n",
      "        m.imshow(img, origin='upper', alpha=0.45)\n",
      "    else:\n",
      "        m.drawcoastlines()\n",
      "        m.fillcontinents()\n",
      "\n",
      "    lon_lim, lat_lim = m([lonStart, lonEnd], [latStart, latEnd])\n",
      "    m.ax.axis([lon_lim[0], lon_lim[1], lat_lim[0], lat_lim[1]])\n",
      "\n",
      "    meridians = np.arange(lonStart, lonEnd, 1.5)\n",
      "    parallels = np.arange(latStart,  latEnd, 1.5)\n",
      "    xoffset = -lon_lim[0] + 1e4\n",
      "    yoffset = -lat_lim[0] + 1e4\n",
      "    kw = dict(linewidth=0)\n",
      "    m.drawparallels(parallels, xoffset=xoffset, labels=[1, 0, 0, 0], **kw)\n",
      "    m.drawmeridians(meridians, yoffset=yoffset, labels=[0, 0, 0, 1], **kw)\n",
      "    return fig, m"
     ],
     "language": "python",
     "metadata": {},
     "outputs": [],
     "prompt_number": 5
    },
    {
     "cell_type": "markdown",
     "metadata": {},
     "source": [
      "To find the nearest track we used a simple [knn_search](http://glowingpython.blogspot.com.br/2012/04/k-nearest-neighbor-search.html)\n",
      "function. Here is the final result."
     ]
    },
    {
     "cell_type": "code",
     "collapsed": false,
     "input": [
      "def knn_search(x, D, n):\n",
      "    ndata = D.shape[1]\n",
      "    n = n if n < ndata else ndata\n",
      "    sqd = np.sqrt(((D - x[:, :ndata]) ** 2).sum(axis=0))\n",
      "    return sqd\n",
      "\n",
      "def find_nearst_track(tracks, point=(-44, -28.5)):\n",
      "    name, dist = None, 1e4\n",
      "    point = np.atleast_2d(point).T\n",
      "    for track, data in tracks.items():\n",
      "        data = np.atleast_2d(data)\n",
      "        new_dist = knn_search(point, data, 1).min()\n",
      "        if new_dist < dist:\n",
      "            name = track\n",
      "            dist = new_dist\n",
      "    print(\"Nearest track: %s\" % name)\n",
      "    return tracks[name]\n"
     ],
     "language": "python",
     "metadata": {},
     "outputs": [],
     "prompt_number": 6
    },
    {
     "cell_type": "code",
     "collapsed": false,
     "input": [
      "tracks = read_kmz('./data/Visu_J1TP_Interlaced_Tracks_GE_V3.kmz')\n",
      "\n",
      "fig, m = make_map()\n",
      "lon, lat = -44, -28.5  # Some Buoy.\n",
      "kw = dict(marker='o', linestyle='none', markersize=8, markeredgecolor='w',\n",
      "          zorder=2)\n",
      "\n",
      "m.plot(*m(lon, lat), label='Buoy', markerfacecolor='#2e64fe', **kw)\n",
      "\n",
      "# Altimeter tracks.\n",
      "kw = dict(alpha=0.7, linewidth=3, solid_capstyle='round', zorder=1)\n",
      "plt_tracks(tracks, color='#848484', **kw)\n",
      "\n",
      "# Closest track to the buoy.\n",
      "lon, lat = find_nearst_track(tracks, point=(lon, lat))\n",
      "m.plot(*m(lon, lat), label=u'Nearest altimeter track', color='#f2123f', **kw)\n",
      "_ = m.ax.legend(numpoints=1, loc=2)"
     ],
     "language": "python",
     "metadata": {},
     "outputs": [
      {
       "output_type": "stream",
       "stream": "stdout",
       "text": [
        "Nearest track: Ground Track 0050\n"
       ]
      },
      {
       "metadata": {},
       "output_type": "display_data",
       "png": "[encoded data removed]",
       "text": [
        "<matplotlib.figure.Figure at 0x7fe476790f10>"
       ]
      }
     ],
     "prompt_number": 7
    },
    {
     "cell_type": "code",
     "collapsed": false,
     "input": [
      "HTML(html)"
     ],
     "language": "python",
     "metadata": {},
     "outputs": [
      {
       "html": [
        "\n",
        "<small>\n",
        "<p> This post was written as an IPython notebook.  It is available for\n",
        "<a href=\"https://ocefpaf.github.com/python4oceanographers/downloads/\n",
        "notebooks/2013-06-24-Plotting_AVISO_tracks.ipynb\">download</a> or as a static\n",
        "<a href=\"https://nbviewer.ipython.org/url/ocefpaf.github.com/\n",
        "python4oceanographers/downloads/notebooks/2013-06-24-Plotting_AVISO_tracks.ipynb\">html</a>.</p>\n",
        "<p></p>\n",
        "<a rel=\"license\" href=\"https://creativecommons.org/licenses/by-sa/4.0/\"><img\n",
        "alt=\"Creative Commons License\" style=\"border-width:0\"\n",
        "src=\"https://i.creativecommons.org/l/by-sa/4.0/88x31.png\" /></a><br /><span\n",
        "xmlns:dct=\"https://purl.org/dc/terms/\"\n",
        "property=\"dct:title\">python4oceanographers</span> by <a\n",
        "xmlns:cc=\"https://creativecommons.org/ns#\" href=\"https://ocefpaf.github.io/\"\n",
        "property=\"cc:attributionName\" rel=\"cc:attributionURL\">Filipe Fernandes</a> is\n",
        "licensed under a <a rel=\"license\"\n",
        "href=\"https://creativecommons.org/licenses/by-sa/4.0/\">Creative Commons\n",
        "Attribution-ShareAlike 4.0 International License</a>.<br />Based on a work at <a\n",
        "xmlns:dct=\"https://purl.org/dc/terms/\" href=\"https://ocefpaf.github.io/\"\n",
        "rel=\"dct:source\">https://ocefpaf.github.io/</a>.\n",
        " "
       ],
       "metadata": {},
       "output_type": "pyout",
       "prompt_number": 8,
       "text": [
        "<IPython.core.display.HTML at 0x7fe490d9de90>"
       ]
      }
     ],
     "prompt_number": 8
    }
   ],
   "metadata": {}
  }
 ]
}