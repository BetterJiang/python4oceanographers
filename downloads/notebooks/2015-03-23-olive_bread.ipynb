{
 "metadata": {
  "kernelspec": {
   "codemirror_mode": {
    "name": "ipython",
    "version": 3
   },
   "display_name": "Iris (Python 2)",
   "language": "python",
   "name": "iris_python2"
  },
  "name": "",
  "signature": "sha256:e785aa346418837011a49f2d2cebbb92db7d4d0647ec8aaa18dd91720ebf45e4"
 },
 "nbformat": 3,
 "nbformat_minor": 0,
 "worksheets": [
  {
   "cells": [
    {
     "cell_type": "code",
     "collapsed": false,
     "input": [
      "from IPython.core.display import HTML\n",
      "\n",
      "with open('creative_commons.txt', 'r') as f:\n",
      "    html = f.read()\n",
      "    \n",
      "with open('./styles/custom.css', 'r') as f:\n",
      "    styles = f.read()\n",
      "    \n",
      "HTML(styles)\n",
      "\n",
      "name = '2015-03-09-olive_bread'\n",
      "\n",
      "html = \"\"\"\n",
      "<small>\n",
      "<p> This post was written as an IPython notebook.  It is available for\n",
      "<a href=\"http://ocefpaf.github.com/python4oceanographers/downloads/\n",
      "notebooks/%s.ipynb\">download</a> or as a static\n",
      "<a href=\"http://nbviewer.ipython.org/url/ocefpaf.github.com/\n",
      "python4oceanographers/downloads/notebooks/%s.ipynb\">html</a>.</p>\n",
      "<p></p>\n",
      "%s \"\"\" % (name, name, html)"
     ],
     "language": "python",
     "metadata": {},
     "outputs": [],
     "prompt_number": 1
    },
    {
     "cell_type": "code",
     "collapsed": false,
     "input": [
      "%matplotlib inline\n",
      "\n",
      "import os\n",
      "from datetime import datetime\n",
      "\n",
      "title = \"Olive Bread\"\n",
      "hour = datetime.utcnow().strftime('%H:%M')\n",
      "comments=\"true\"\n",
      "\n",
      "date = '-'.join(name.split('-')[:3])\n",
      "slug = '-'.join(name.split('-')[3:])\n",
      "\n",
      "metadata = dict(title=title,\n",
      "                date=date,\n",
      "                hour=hour,\n",
      "                comments=comments,\n",
      "                slug=slug,\n",
      "                name=name)\n",
      "\n",
      "markdown = \"\"\"Title: {title}\n",
      "date:  {date} {hour}\n",
      "comments: {comments}\n",
      "slug: {slug}\n",
      "\n",
      "{{% notebook {name}.ipynb cells[2:] %}}\n",
      "\"\"\".format(**metadata)\n",
      "\n",
      "content = os.path.abspath(os.path.join(os.getcwd(), os.pardir, os.pardir, '{}.md'.format(name)))\n",
      "with open('{}'.format(content), 'w') as f:\n",
      "    f.writelines(markdown)"
     ],
     "language": "python",
     "metadata": {},
     "outputs": [],
     "prompt_number": 2
    },
    {
     "cell_type": "markdown",
     "metadata": {},
     "source": [
      "# P\u00e3o de Azeitona\n",
      "\n",
      "## Massa:\n",
      "- 30 g fermento biol\u00f3gico\n",
      "- 1 colher (sopa) a\u00e7\u00facar\n",
      "- 4 x\u00edcaras (ch\u00e1) farinha de trigo peneirada\n",
      "- 1 x\u00edcaras (ch\u00e1) azeite de oliva\n",
      "- 1 x\u00edcaras (ch\u00e1) sal\n",
      "- 1 gema para pincelar\n",
      "\n",
      "## Recheio:\n",
      "- 200 g azeitonas pretas picadas\n",
      "- 200 g azeitonas verdes picadas\n",
      "- 2 colheres (sopa) or\u00e9gano\n",
      "\n",
      "\n",
      "Modo de preparo\n",
      "- Leve ao fogo uma panela com 1 x\u00edcara de ch\u00e1 de \u00e1gua e deixe amornar\n",
      "- Despeje numa tigela e junte o fermento biol\u00f3gico e o a\u00e7\u00facar\n",
      "- Mexa at\u00e9 at\u00e9 dissolver o fermento\n",
      "- Adicione 1 x\u00edcara de farinha e misture at\u00e9 ficar homog\u00eaneo\n",
      "- Cubra a tigela com filme pl\u00e1stico\n",
      "- Deixe descansar em local aquecido por 30 minutos\n",
      "- Acrescente o azeite de oliva (reserve uma colher de sopa) e misture.\n",
      "- Adicione, aos poucos, o restante da farinha e o sal\n",
      "- Amasse at\u00e9 a massa ficar homog\u00eanea\n",
      "- Transfira para uma superf\u00edcie lisa e enfarinhada e sove a massa por 10\n",
      "  minutos ou at\u00e9 ficar lisa e desgrudar das m\u00e3os\n",
      "- Coloque a massa na tigela, cubra, e deixe descansar at\u00e9 crescer (espere ela\n",
      "  dobrar de tamanho)\n",
      "- Abra a massa grosseiramente em uma superf\u00edcie enfarinhada, espalhe as\n",
      "  azeitonas e metade do or\u00e9gano\n",
      "- Enrole a massa (como um rocambole)\n",
      "- Unte uma forma com o azeite de oliva restante antes de colocar o p\u00e3o\n",
      "- Bate rapidamente a gema em uma tigela e pincele o p\u00e3o, polvilhe o restante\n",
      "  do or\u00e9gano e fa\u00e7a talhos inclinados em toda a superf\u00edcie do p\u00e3o\n",
      "- Leve ao forno por ~ 35 minutos ou at\u00e9 que o p\u00e3o fique assado."
     ]
    },
    {
     "cell_type": "code",
     "collapsed": false,
     "input": [
      "HTML(html)"
     ],
     "language": "python",
     "metadata": {},
     "outputs": [
      {
       "html": [
        "\n",
        "<small>\n",
        "<p> This post was written as an IPython notebook.  It is available for\n",
        "<a href=\"http://ocefpaf.github.com/python4oceanographers/downloads/\n",
        "notebooks/2015-03-09-olive_bread.ipynb\">download</a> or as a static\n",
        "<a href=\"http://nbviewer.ipython.org/url/ocefpaf.github.com/\n",
        "python4oceanographers/downloads/notebooks/2015-03-09-olive_bread.ipynb\">html</a>.</p>\n",
        "<p></p>\n",
        "<a rel=\"license\" href=\"http://creativecommons.org/licenses/by-sa/4.0/\"><img\n",
        "alt=\"Creative Commons License\" style=\"border-width:0\"\n",
        "src=\"http://i.creativecommons.org/l/by-sa/4.0/88x31.png\" /></a><br /><span\n",
        "xmlns:dct=\"http://purl.org/dc/terms/\"\n",
        "property=\"dct:title\">python4oceanographers</span> by <a\n",
        "xmlns:cc=\"http://creativecommons.org/ns#\" href=\"http://ocefpaf.github.io/\"\n",
        "property=\"cc:attributionName\" rel=\"cc:attributionURL\">Filipe Fernandes</a> is\n",
        "licensed under a <a rel=\"license\"\n",
        "href=\"http://creativecommons.org/licenses/by-sa/4.0/\">Creative Commons\n",
        "Attribution-ShareAlike 4.0 International License</a>.<br />Based on a work at <a\n",
        "xmlns:dct=\"http://purl.org/dc/terms/\" href=\"http://ocefpaf.github.io/\"\n",
        "rel=\"dct:source\">http://ocefpaf.github.io/</a>.\n",
        " "
       ],
       "metadata": {},
       "output_type": "pyout",
       "prompt_number": 3,
       "text": [
        "<IPython.core.display.HTML at 0x7f01777c2ad0>"
       ]
      }
     ],
     "prompt_number": 3
    }
   ],
   "metadata": {}
  }
 ]
}