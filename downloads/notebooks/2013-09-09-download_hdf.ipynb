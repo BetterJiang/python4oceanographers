{
 "metadata": {
  "name": "",
  "signature": "sha256:2956df29fd9d75d717e17bac430d0e0316f130ace3936a6e48afe734f73e9db5"
 },
 "nbformat": 3,
 "nbformat_minor": 0,
 "worksheets": [
  {
   "cells": [
    {
     "cell_type": "code",
     "collapsed": false,
     "input": [
      "from IPython.core.display import HTML\n",
      "\n",
      "with open('creative_commons.txt', 'r') as f:\n",
      "    html = f.read()\n",
      "    \n",
      "with open('./styles/custom.css', 'r') as f:\n",
      "    styles = f.read()\n",
      "    \n",
      "HTML(styles)\n",
      "\n",
      "name = '2013-09-09-download_hdf'\n",
      "\n",
      "html = \"\"\"\n",
      "<small>\n",
      "<p> This post was written as an IPython notebook.  It is available for\n",
      "<a href=\"http://ocefpaf.github.com/python4oceanographers/downloads/\n",
      "notebooks/%s.ipynb\">download</a> or as a static\n",
      "<a href=\"http://nbviewer.ipython.org/url/ocefpaf.github.com/\n",
      "python4oceanographers/downloads/notebooks/%s.ipynb\">html</a>.</p>\n",
      "<p></p>\n",
      "%s \"\"\" % (name, name, html)"
     ],
     "language": "python",
     "metadata": {},
     "outputs": [],
     "prompt_number": 1
    },
    {
     "cell_type": "markdown",
     "metadata": {},
     "source": [
      "This post is a quick example on how to use download several\n",
      "[hdf 4 files](http://oceandata.sci.gsfc.nasa.gov/CZCS/Mapped/Monthly/4km/chlor/)\n",
      "by \"scrapping\" NASA's server.\n",
      "\n",
      "Manually downloading several `hdf` files is, most of the time, impractical.\n",
      "Some time ago I helped a friend with a similar problem with a simple python\n",
      "script.  This post is just a review of that script so others can modify/re-use\n",
      "it for similar cases.\n",
      "\n",
      "All we need is a `lister` class to extract the `urls` from the web-page, and a\n",
      "`hook` function to show the download progress progress."
     ]
    },
    {
     "cell_type": "code",
     "collapsed": false,
     "input": [
      "import sys\n",
      "import urllib\n",
      "import fnmatch\n",
      "import lxml.html\n",
      "\n",
      "def url_lister(url):\n",
      "    urls = []\n",
      "    connection = urllib.request.urlopen(url)\n",
      "    dom =  lxml.html.fromstring(connection.read())\n",
      "    for link in dom.xpath('//a/@href'):\n",
      "        urls.append(link)\n",
      "    return urls\n",
      "\n",
      "\n",
      "def progress_hook(out):\n",
      "    \"\"\"Return a progress hook function, suitable for passing to\n",
      "    urllib.retrieve, that writes to the file object *out*.\"\"\"\n",
      "    def it(n, bs, ts):\n",
      "        got = n * bs\n",
      "        if ts < 0:\n",
      "            outof = ''\n",
      "        else:\n",
      "            # On the last block n*bs can exceed ts, so we clamp it\n",
      "            # to avoid awkward questions.\n",
      "            got = min(got, ts)\n",
      "            outof = '/%d [%d%%]' % (ts, 100 * got // ts)\n",
      "        out.write(\"\\r  %d%s\" % (got, outof))\n",
      "        out.flush()\n",
      "    return it"
     ],
     "language": "python",
     "metadata": {},
     "outputs": [],
     "prompt_number": 2
    },
    {
     "cell_type": "markdown",
     "metadata": {},
     "source": [
      "Here we will download the\n",
      "[Mapped Monthly mean 4km CZCS\n",
      "data](http://oceandata.sci.gsfc.nasa.gov/CZCS/Mapped/Monthly/4km/chlor/),\n",
      "but this script can be extended to any web-page that has a list of urls."
     ]
    },
    {
     "cell_type": "code",
     "collapsed": false,
     "input": [
      "url = \"http://oceandata.sci.gsfc.nasa.gov/CZCS/Mapped/Monthly/4km/chlor/\"\n",
      "urls = url_lister(url)"
     ],
     "language": "python",
     "metadata": {},
     "outputs": [],
     "prompt_number": 3
    },
    {
     "cell_type": "markdown",
     "metadata": {},
     "source": [
      "Before downloading let's filter by the filename extension (bz2), so we download\n",
      "just\n",
      "what we really want."
     ]
    },
    {
     "cell_type": "code",
     "collapsed": false,
     "input": [
      "filetype = \"*.bz2\"\n",
      "file_list = [filename for filename in fnmatch.filter(urls, filetype)]"
     ],
     "language": "python",
     "metadata": {},
     "outputs": [],
     "prompt_number": 4
    },
    {
     "cell_type": "markdown",
     "metadata": {},
     "source": [
      "Now we can dowloand the whole list in a for loop, bu here I'll get only one file."
     ]
    },
    {
     "cell_type": "code",
     "collapsed": false,
     "input": [
      "url = file_list[0]\n",
      "hdf_file = url.split('/')[-1]\n",
      "sys.stdout.write(hdf_file + '\\n')\n",
      "urllib.request.urlretrieve(url, filename=hdf_file,\n",
      "                           reporthook=progress_hook(sys.stdout))\n",
      "sys.stdout.write('\\n')\n",
      "sys.stdout.flush()"
     ],
     "language": "python",
     "metadata": {},
     "outputs": [
      {
       "output_type": "stream",
       "stream": "stdout",
       "text": [
        "C19782741978304.L3m_MO_CHL_chlor_a_4km.bz2\n",
        "\r",
        "  0/64861 [0%]"
       ]
      },
      {
       "output_type": "stream",
       "stream": "stdout",
       "text": [
        "\r",
        "  8192/64861 [12%]"
       ]
      },
      {
       "output_type": "stream",
       "stream": "stdout",
       "text": [
        "\r",
        "  16384/64861 [25%]"
       ]
      },
      {
       "output_type": "stream",
       "stream": "stdout",
       "text": [
        "\r",
        "  24576/64861 [37%]"
       ]
      },
      {
       "output_type": "stream",
       "stream": "stdout",
       "text": [
        "\r",
        "  32768/64861 [50%]"
       ]
      },
      {
       "output_type": "stream",
       "stream": "stdout",
       "text": [
        "\r",
        "  40960/64861 [63%]"
       ]
      },
      {
       "output_type": "stream",
       "stream": "stdout",
       "text": [
        "\r",
        "  49152/64861 [75%]"
       ]
      },
      {
       "output_type": "stream",
       "stream": "stdout",
       "text": [
        "\r",
        "  57344/64861 [88%]"
       ]
      },
      {
       "output_type": "stream",
       "stream": "stdout",
       "text": [
        "\r",
        "  64861/64861 [100%]"
       ]
      },
      {
       "output_type": "stream",
       "stream": "stdout",
       "text": [
        "\n"
       ]
      }
     ],
     "prompt_number": 5
    },
    {
     "cell_type": "code",
     "collapsed": false,
     "input": [
      "HTML(html)"
     ],
     "language": "python",
     "metadata": {},
     "outputs": [
      {
       "html": [
        "\n",
        "<small>\n",
        "<p> This post was written as an IPython notebook.  It is available for\n",
        "<a href=\"http://ocefpaf.github.com/python4oceanographers/downloads/\n",
        "notebooks/2013-09-09-download_hdf.ipynb\">download</a> or as a static\n",
        "<a href=\"http://nbviewer.ipython.org/url/ocefpaf.github.com/\n",
        "python4oceanographers/downloads/notebooks/2013-09-09-download_hdf.ipynb\">html</a>.</p>\n",
        "<p></p>\n",
        "<a rel=\"license\" href=\"http://creativecommons.org/licenses/by-sa/4.0/\"><img\n",
        "alt=\"Creative Commons License\" style=\"border-width:0\"\n",
        "src=\"http://i.creativecommons.org/l/by-sa/4.0/88x31.png\" /></a><br /><span\n",
        "xmlns:dct=\"http://purl.org/dc/terms/\"\n",
        "property=\"dct:title\">python4oceanographers</span> by <a\n",
        "xmlns:cc=\"http://creativecommons.org/ns#\" href=\"http://ocefpaf.github.io/\"\n",
        "property=\"cc:attributionName\" rel=\"cc:attributionURL\">Filipe Fernandes</a> is\n",
        "licensed under a <a rel=\"license\"\n",
        "href=\"http://creativecommons.org/licenses/by-sa/4.0/\">Creative Commons\n",
        "Attribution-ShareAlike 4.0 International License</a>.<br />Based on a work at <a\n",
        "xmlns:dct=\"http://purl.org/dc/terms/\" href=\"http://ocefpaf.github.io/\"\n",
        "rel=\"dct:source\">http://ocefpaf.github.io/</a>.\n",
        " "
       ],
       "metadata": {},
       "output_type": "pyout",
       "prompt_number": 6,
       "text": [
        "<IPython.core.display.HTML object>"
       ]
      }
     ],
     "prompt_number": 6
    }
   ],
   "metadata": {}
  }
 ]
}