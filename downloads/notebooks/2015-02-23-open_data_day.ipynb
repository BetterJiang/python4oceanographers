{
 "metadata": {
  "name": "",
  "signature": "sha256:3c0c3489f4957a9b86c8fe6c204cf4b6c2366dd8578adea4cde040ab4a7c3b7b"
 },
 "nbformat": 3,
 "nbformat_minor": 0,
 "worksheets": [
  {
   "cells": [
    {
     "cell_type": "code",
     "collapsed": false,
     "input": [
      "name = '2015-02-23-open_data_day'\n",
      "title = \"Para um futuro melhor\"\n",
      "\n",
      "import os\n",
      "from datetime import datetime\n",
      "\n",
      "from matplotlib import style\n",
      "from IPython.core.display import HTML\n",
      "\n",
      "with open('creative_commons.txt', 'r') as f:\n",
      "    html = f.read()\n",
      "\n",
      "with open('./styles/custom.css', 'r') as f:\n",
      "    styles = f.read()\n",
      "\n",
      "HTML(styles)\n",
      "\n",
      "\n",
      "html = \"\"\"\n",
      "<small>\n",
      "<p> This post was written as an IPython notebook.  It is available for\n",
      "<a href=\"http://ocefpaf.github.com/python4oceanographers/downloads/\n",
      "notebooks/%s.ipynb\">download</a> or as a static\n",
      "<a href=\"http://nbviewer.ipython.org/url/ocefpaf.github.com/\n",
      "python4oceanographers/downloads/notebooks/%s.ipynb\">html</a>.</p>\n",
      "<p></p>\n",
      "%s \"\"\" % (name, name, html)\n",
      "\n",
      "\n",
      "hour = datetime.utcnow().strftime('%H:%M')\n",
      "comments=\"true\"\n",
      "\n",
      "date = '-'.join(name.split('-')[:3])\n",
      "slug = '-'.join(name.split('-')[3:])\n",
      "\n",
      "metadata = dict(title=title,\n",
      "                date=date,\n",
      "                hour=hour,\n",
      "                comments=comments,\n",
      "                slug=slug,\n",
      "                name=name)\n",
      "\n",
      "markdown = \"\"\"Title: {title}\n",
      "date:  {date} {hour}\n",
      "comments: {comments}\n",
      "slug: {slug}\n",
      "\n",
      "{{% notebook {name}.ipynb cells[1:] %}}\n",
      "\"\"\".format(**metadata)\n",
      "\n",
      "content = os.path.abspath(os.path.join(os.getcwd(), os.pardir, os.pardir, '{}.md'.format(name)))\n",
      "with open('{}'.format(content), 'w') as f:\n",
      "    f.writelines(markdown)\n",
      "\n",
      "\n",
      "%matplotlib inline\n",
      "style.use('ggplot')"
     ],
     "language": "python",
     "metadata": {},
     "outputs": [],
     "prompt_number": 1
    },
    {
     "cell_type": "markdown",
     "metadata": {},
     "source": [
      "S\u00e1bado passado foi o [Open Data Day](http://opendataday.org/) e, por pura\n",
      "sorte, acabei trope\u00e7ando no projeto\n",
      "[dados-abertos-cd](https://github.com/calangohc/dados-abertos-cd) do\n",
      "[Calango H4cker Clube](http://calango.club/start) de Bras\u00edlia.\n",
      "\n",
      "O projeto busca, em suas pr\u00f3prias palavras,\n",
      "\n",
      "    Solu\u00e7\u00f5es para acesso, explora\u00e7\u00e3o e consumo dos Dados Abertos\n",
      "    disponibilizados pela C\u00e2mara dos Deputados do Brasil.\n",
      "\n",
      "\n",
      "Vamos brincar com os dados que esse pessoal incr\u00edvel colocou online?  Seguindo\n",
      "a [receita de bolo](https://github.com/calangohc/dados-abertos-cd/blob/master/python/testeSuds.py)\n",
      "to pr\u00f3prio projeto vamos usar o m\u00f3dulo\n",
      "[suds](https://pypi.python.org/pypi/suds) para criar um cliente e fazer um\n",
      "*query* nos dados."
     ]
    },
    {
     "cell_type": "code",
     "collapsed": false,
     "input": [
      "from suds.client import Client\n",
      "\n",
      "\n",
      "url = 'http://www.camara.gov.br/SitCamaraWS/Proposicoes.asmx?wsdl'\n",
      "client = Client(url, headers={'Content-Type': 'text/xml; charset=UTF-8'})\n",
      "\n",
      "print(client)"
     ],
     "language": "python",
     "metadata": {},
     "outputs": [
      {
       "output_type": "stream",
       "stream": "stdout",
       "text": [
        "\n",
        "Suds ( https://fedorahosted.org/suds/ )  version: 0.4 GA  build: R699-20100913\n",
        "\n",
        "Service ( Proposicoes ) tns=\"http://www.camara.gov.br/SitCamaraWS/Proposicoes\"\n",
        "   Prefixes (0)\n",
        "   Ports (1):\n",
        "      (ProposicoesSoap)\n",
        "         Methods (11):\n",
        "            ListarProposicoes(xs:string sigla, xs:string numero, xs:string ano, xs:string datApresentacaoIni, xs:string datApresentacaoFim, xs:string idTipoAutor, xs:string parteNomeAutor, xs:string siglaPartidoAutor, xs:string siglaUFAutor, xs:string generoAutor, xs:string codEstado, xs:string codOrgaoEstado, xs:string emTramitacao, )\n",
        "            ListarProposicoesTramitadasNoPeriodo(xs:string dtInicio, xs:string dtFim, )\n",
        "            ListarProposicoesVotadasEmPlenario(xs:string ano, xs:string tipo, )\n",
        "            ListarSiglasTipoProposicao()\n",
        "            ListarSituacoesProposicao()\n",
        "            ListarTiposAutores()\n",
        "            ObterProposicao(xs:string tipo, xs:string numero, xs:string ano, )\n",
        "            ObterProposicaoPorID(xs:string idProp, )\n",
        "            ObterVotacaoProposicao(xs:string tipo, xs:string numero, xs:string ano, )\n",
        "            obterHierarquiaProposicao(xs:string idProposicao, )\n",
        "            obterProposicaoPrincipal(xs:string idProposicao, )\n",
        "         Types (0):\n",
        "\n",
        "\n"
       ]
      }
     ],
     "prompt_number": 2
    },
    {
     "cell_type": "markdown",
     "metadata": {},
     "source": [
      "Nunca havia usado o suds antes, mas o objeto `suds` parece bem simples\n",
      "e f\u00e1cil de uasr.  Para facilitar a explora\u00e7\u00e3o dos dados vamos colocar os\n",
      "anos de 2011--2014 em um \u00fanico dataframe do pandas."
     ]
    },
    {
     "cell_type": "code",
     "collapsed": false,
     "input": [
      "import pandas as pd\n",
      "from suds.client import WebFault\n",
      "\n",
      "kw = dict(sigla='MPV', numero=None, datApresentacaoIni=None, datApresentacaoFim=None,\n",
      "          idTipoAutor=None, parteNomeAutor=None, siglaPartidoAutor=None, siglaUFAutor=None,\n",
      "          generoAutor=None, codEstado=None, codOrgaoEstado=None, emTramitacao=1)\n",
      "\n",
      "dfs = []\n",
      "for ano in range(1995, 2015):\n",
      "    try:\n",
      "        res = client.service.ListarProposicoes(ano=ano, **kw)\n",
      "        props = res['proposicoes']['proposicao']\n",
      "        dfs.append(pd.DataFrame(props))\n",
      "    except WebFault:\n",
      "        print(u\"Imposs\u00edvel baixar ano {}\".format(ano))\n",
      "\n",
      "df = pd.concat(dfs, axis=0)"
     ],
     "language": "python",
     "metadata": {},
     "outputs": [
      {
       "output_type": "stream",
       "stream": "stderr",
       "text": [
        "ERROR:suds.client:<?xml version=\"1.0\" encoding=\"UTF-8\"?>\n",
        "<SOAP-ENV:Envelope xmlns:ns0=\"http://www.camara.gov.br/SitCamaraWS/Proposicoes\" xmlns:ns1=\"http://schemas.xmlsoap.org/soap/envelope/\" xmlns:xsi=\"http://www.w3.org/2001/XMLSchema-instance\" xmlns:SOAP-ENV=\"http://schemas.xmlsoap.org/soap/envelope/\">\n",
        "   <SOAP-ENV:Header/>\n",
        "   <ns1:Body>\n",
        "      <ns0:ListarProposicoes>\n",
        "         <ns0:sigla>MPV</ns0:sigla>\n",
        "         <ns0:ano>1995</ns0:ano>\n",
        "         <ns0:emTramitacao>1</ns0:emTramitacao>\n",
        "      </ns0:ListarProposicoes>\n",
        "   </ns1:Body>\n",
        "</SOAP-ENV:Envelope>\n"
       ]
      },
      {
       "output_type": "stream",
       "stream": "stderr",
       "text": [
        "ERROR:suds.client:<?xml version=\"1.0\" encoding=\"UTF-8\"?>\n",
        "<SOAP-ENV:Envelope xmlns:ns0=\"http://www.camara.gov.br/SitCamaraWS/Proposicoes\" xmlns:ns1=\"http://schemas.xmlsoap.org/soap/envelope/\" xmlns:xsi=\"http://www.w3.org/2001/XMLSchema-instance\" xmlns:SOAP-ENV=\"http://schemas.xmlsoap.org/soap/envelope/\">\n",
        "   <SOAP-ENV:Header/>\n",
        "   <ns1:Body>\n",
        "      <ns0:ListarProposicoes>\n",
        "         <ns0:sigla>MPV</ns0:sigla>\n",
        "         <ns0:ano>1996</ns0:ano>\n",
        "         <ns0:emTramitacao>1</ns0:emTramitacao>\n",
        "      </ns0:ListarProposicoes>\n",
        "   </ns1:Body>\n",
        "</SOAP-ENV:Envelope>\n"
       ]
      },
      {
       "output_type": "stream",
       "stream": "stdout",
       "text": [
        "Imposs\u00edvel baixar ano 1995\n",
        "Imposs\u00edvel baixar ano 1996"
       ]
      },
      {
       "output_type": "stream",
       "stream": "stderr",
       "text": [
        "ERROR:suds.client:<?xml version=\"1.0\" encoding=\"UTF-8\"?>\n",
        "<SOAP-ENV:Envelope xmlns:ns0=\"http://www.camara.gov.br/SitCamaraWS/Proposicoes\" xmlns:ns1=\"http://schemas.xmlsoap.org/soap/envelope/\" xmlns:xsi=\"http://www.w3.org/2001/XMLSchema-instance\" xmlns:SOAP-ENV=\"http://schemas.xmlsoap.org/soap/envelope/\">\n",
        "   <SOAP-ENV:Header/>\n",
        "   <ns1:Body>\n",
        "      <ns0:ListarProposicoes>\n",
        "         <ns0:sigla>MPV</ns0:sigla>\n",
        "         <ns0:ano>1997</ns0:ano>\n",
        "         <ns0:emTramitacao>1</ns0:emTramitacao>\n",
        "      </ns0:ListarProposicoes>\n",
        "   </ns1:Body>\n",
        "</SOAP-ENV:Envelope>\n"
       ]
      },
      {
       "output_type": "stream",
       "stream": "stdout",
       "text": [
        "\n",
        "Imposs\u00edvel baixar ano 1997"
       ]
      },
      {
       "output_type": "stream",
       "stream": "stderr",
       "text": [
        "ERROR:suds.client:<?xml version=\"1.0\" encoding=\"UTF-8\"?>\n",
        "<SOAP-ENV:Envelope xmlns:ns0=\"http://www.camara.gov.br/SitCamaraWS/Proposicoes\" xmlns:ns1=\"http://schemas.xmlsoap.org/soap/envelope/\" xmlns:xsi=\"http://www.w3.org/2001/XMLSchema-instance\" xmlns:SOAP-ENV=\"http://schemas.xmlsoap.org/soap/envelope/\">\n",
        "   <SOAP-ENV:Header/>\n",
        "   <ns1:Body>\n",
        "      <ns0:ListarProposicoes>\n",
        "         <ns0:sigla>MPV</ns0:sigla>\n",
        "         <ns0:ano>1998</ns0:ano>\n",
        "         <ns0:emTramitacao>1</ns0:emTramitacao>\n",
        "      </ns0:ListarProposicoes>\n",
        "   </ns1:Body>\n",
        "</SOAP-ENV:Envelope>\n"
       ]
      },
      {
       "output_type": "stream",
       "stream": "stdout",
       "text": [
        "\n",
        "Imposs\u00edvel baixar ano 1998"
       ]
      },
      {
       "output_type": "stream",
       "stream": "stderr",
       "text": [
        "ERROR:suds.client:<?xml version=\"1.0\" encoding=\"UTF-8\"?>\n",
        "<SOAP-ENV:Envelope xmlns:ns0=\"http://www.camara.gov.br/SitCamaraWS/Proposicoes\" xmlns:ns1=\"http://schemas.xmlsoap.org/soap/envelope/\" xmlns:xsi=\"http://www.w3.org/2001/XMLSchema-instance\" xmlns:SOAP-ENV=\"http://schemas.xmlsoap.org/soap/envelope/\">\n",
        "   <SOAP-ENV:Header/>\n",
        "   <ns1:Body>\n",
        "      <ns0:ListarProposicoes>\n",
        "         <ns0:sigla>MPV</ns0:sigla>\n",
        "         <ns0:ano>1999</ns0:ano>\n",
        "         <ns0:emTramitacao>1</ns0:emTramitacao>\n",
        "      </ns0:ListarProposicoes>\n",
        "   </ns1:Body>\n",
        "</SOAP-ENV:Envelope>\n"
       ]
      },
      {
       "output_type": "stream",
       "stream": "stdout",
       "text": [
        "\n",
        "Imposs\u00edvel baixar ano 1999"
       ]
      },
      {
       "output_type": "stream",
       "stream": "stderr",
       "text": [
        "ERROR:suds.client:<?xml version=\"1.0\" encoding=\"UTF-8\"?>\n",
        "<SOAP-ENV:Envelope xmlns:ns0=\"http://www.camara.gov.br/SitCamaraWS/Proposicoes\" xmlns:ns1=\"http://schemas.xmlsoap.org/soap/envelope/\" xmlns:xsi=\"http://www.w3.org/2001/XMLSchema-instance\" xmlns:SOAP-ENV=\"http://schemas.xmlsoap.org/soap/envelope/\">\n",
        "   <SOAP-ENV:Header/>\n",
        "   <ns1:Body>\n",
        "      <ns0:ListarProposicoes>\n",
        "         <ns0:sigla>MPV</ns0:sigla>\n",
        "         <ns0:ano>2000</ns0:ano>\n",
        "         <ns0:emTramitacao>1</ns0:emTramitacao>\n",
        "      </ns0:ListarProposicoes>\n",
        "   </ns1:Body>\n",
        "</SOAP-ENV:Envelope>\n"
       ]
      },
      {
       "output_type": "stream",
       "stream": "stdout",
       "text": [
        "\n",
        "Imposs\u00edvel baixar ano 2000"
       ]
      },
      {
       "output_type": "stream",
       "stream": "stdout",
       "text": [
        "\n"
       ]
      }
     ],
     "prompt_number": 3
    },
    {
     "cell_type": "markdown",
     "metadata": {},
     "source": [
      "Humm... sem dados antes do ano de 2000 :-(\n",
      "\n",
      "As duas fun\u00e7\u00f5es abaixo s\u00e3o apenas \"est\u00e9ticas\" uma mostra o\n",
      "dataframe como uma tabela HTML e a outra limpa os dados um pouco."
     ]
    },
    {
     "cell_type": "code",
     "collapsed": false,
     "input": [
      "def to_html(df, css='./data/table.css'):\n",
      "    from IPython.display import HTML\n",
      "    with open(css, 'r') as f:\n",
      "        style = \"\"\"<style>{}</style>\"\"\".format(f.read())\n",
      "    table = dict(style=style, table=df.to_html())\n",
      "    return HTML(u'{style}<div class=\"datagrid\">{table}</div>'.format(**table))\n",
      "\n",
      "\n",
      "def clean_df(df):\n",
      "    \"\"\"Almost clean dataframe.\"\"\"\n",
      "    columns = {k: tupla[0] for k, tupla in enumerate(df.irow(0))}\n",
      "    df.rename(columns=columns, inplace=True)\n",
      "    df = df.applymap(lambda x: x[1])\n",
      "    df.set_index('id', drop=True, inplace=True)\n",
      "    df['autor1'] = [nome.txtNomeAutor for nome in df['autor1']]\n",
      "    df['regime'] = [unicode(txt[1]) for cod, txt in df['regime']]\n",
      "    df['apreciacao'] = [unicode(apr[1]) for id, apr in df['apreciacao']]\n",
      "    df['orgaoNumerador'] = [unicode(nome[1]) for id, sigle, nome in df['orgaoNumerador']]\n",
      "    df['tipoProposicao'] = [unicode(nome[1]) for id, sigla, nome in df['tipoProposicao']]\n",
      "    df['situacao'] = [unicode(desc[1]) for id, desc, org, princ in df['situacao']]\n",
      "    drop = ['ultimoDespacho', 'qtdAutores', 'numero', 'indGenero', 'qtdOrgaosComEstado', 'datApresentacao']\n",
      "    df.drop(drop, inplace=True, axis=1)\n",
      "    df['ano'] = df['ano'].apply(int)\n",
      "    return df"
     ],
     "language": "python",
     "metadata": {},
     "outputs": [],
     "prompt_number": 4
    },
    {
     "cell_type": "markdown",
     "metadata": {},
     "source": [
      "Esse \u00e9 o resultado das fun\u00e7\u00f5es acima:"
     ]
    },
    {
     "cell_type": "code",
     "collapsed": false,
     "input": [
      "df = clean_df(df)\n",
      "\n",
      "textos = df[['txtEmenta', 'txtExplicacaoEmenta']]\n",
      "df.drop(['txtEmenta', 'txtExplicacaoEmenta'], inplace=True, axis=1)\n",
      "to_html(df.head())"
     ],
     "language": "python",
     "metadata": {},
     "outputs": [
      {
       "html": [
        "<style>.datagrid table {\n",
        "    border-collapse:collapse;\n",
        "    text-align:left;\n",
        "    width:65%\n",
        "}\n",
        "\n",
        ".datagrid td {\n",
        "    border-collapse:collapse;\n",
        "    text-align:right;\n",
        "}\n",
        "\n",
        ".datagrid {\n",
        "    font:normal 12px/150% Arial,Helvetica,sans-serif;\n",
        "    background:#fff;\n",
        "    overflow:hidden;\n",
        "    border:1px solid #069;\n",
        "    -webkit-border-radius:3px;\n",
        "    -moz-border-radius:3px;\n",
        "    border-radius:3px\n",
        "}\n",
        "\n",
        ".datagrid table td,.datagrid table th {\n",
        "    padding:3px 10px\n",
        "}\n",
        "\n",
        ".datagrid table thead th {\n",
        "    background:-webkit-gradient(linear,left top,left bottom,color-stop(0.05,#069),color-stop(1,#00557F));\n",
        "    background:-moz-linear-gradient(center top,#069 5%,#00557F 100%);\n",
        "    filter:progid:DXImageTransform.Microsoft.gradient(startColorstr='#006699',endColorstr='#00557F');\n",
        "    background-color:#069;\n",
        "    color:#FFF;\n",
        "    font-size:15px;\n",
        "    font-weight:700;\n",
        "    border-left:1px solid #0070A8\n",
        "}\n",
        "\n",
        ".datagrid table thead th:first-child {\n",
        "    border:none\n",
        "}\n",
        "\n",
        ".datagrid table tbody td {\n",
        "    color:#00496B;\n",
        "    border-left:1px solid #E1EEF4;\n",
        "    font-size:12px;\n",
        "    font-weight:400\n",
        "}\n",
        "\n",
        ".datagrid table tbody .alt td {\n",
        "    background:#E1EEF4;\n",
        "    color:#00496B\n",
        "}\n",
        "\n",
        ".datagrid table tbody td:first-child {\n",
        "    border-left:none\n",
        "}\n",
        "\n",
        ".datagrid table tbody tr:last-child td {\n",
        "    border-bottom:none\n",
        "}\n",
        "\n",
        ".datagrid table tfoot td div {\n",
        "    border-top:1px solid #069;\n",
        "    background:#E1EEF4\n",
        "}\n",
        "\n",
        ".datagrid table tfoot td {\n",
        "    padding:0;\n",
        "    font-size:12px\n",
        "}\n",
        "\n",
        ".datagrid table tfoot td div {\n",
        "    padding:2px\n",
        "}\n",
        "\n",
        ".datagrid table tfoot td ul {\n",
        "    margin:0;\n",
        "    padding:0;\n",
        "    list-style:none;\n",
        "    text-align:right\n",
        "}\n",
        "\n",
        ".datagrid table tfoot li {\n",
        "    display:inline\n",
        "}\n",
        "\n",
        ".datagrid table tfoot li a {\n",
        "    text-decoration:none;\n",
        "    display:inline-block;\n",
        "    padding:2px 8px;\n",
        "    margin:1px;\n",
        "    color:#FFF;\n",
        "    border:1px solid #069;\n",
        "    -webkit-border-radius:3px;\n",
        "    -moz-border-radius:3px;\n",
        "    border-radius:3px;\n",
        "    background:-webkit-gradient(linear,left top,left bottom,color-stop(0.05,#069),color-stop(1,#00557F));\n",
        "    background:-moz-linear-gradient(center top,#069 5%,#00557F 100%);\n",
        "    filter:progid:DXImageTransform.Microsoft.gradient(startColorstr='#006699',endColorstr='#00557F');\n",
        "    background-color:#069\n",
        "}\n",
        "\n",
        ".datagrid table tfoot ul.active,.datagrid table tfoot ul a:hover {\n",
        "    text-decoration:none;\n",
        "    border-color:#069;\n",
        "    color:#FFF;\n",
        "    background:none;\n",
        "    background-color:#00557F\n",
        "}\n",
        "\n",
        "div.dhtmlx_window_active,div.dhx_modal_cover_dv {\n",
        "    position:fixed!important\n",
        "}\n",
        "</style><div class=\"datagrid\"><table border=\"1\" class=\"dataframe\">\n",
        "  <thead>\n",
        "    <tr style=\"text-align: right;\">\n",
        "      <th></th>\n",
        "      <th>nome</th>\n",
        "      <th>tipoProposicao</th>\n",
        "      <th>ano</th>\n",
        "      <th>orgaoNumerador</th>\n",
        "      <th>regime</th>\n",
        "      <th>apreciacao</th>\n",
        "      <th>autor1</th>\n",
        "      <th>situacao</th>\n",
        "    </tr>\n",
        "    <tr>\n",
        "      <th>id</th>\n",
        "      <th></th>\n",
        "      <th></th>\n",
        "      <th></th>\n",
        "      <th></th>\n",
        "      <th></th>\n",
        "      <th></th>\n",
        "      <th></th>\n",
        "      <th></th>\n",
        "    </tr>\n",
        "  </thead>\n",
        "  <tbody>\n",
        "    <tr>\n",
        "      <th>44997</th>\n",
        "      <td> MPV 20/2001</td>\n",
        "      <td> Medida Provis\u00f3ria</td>\n",
        "      <td> 2001</td>\n",
        "      <td> </td>\n",
        "      <td> Urg\u00eancia</td>\n",
        "      <td> Proposi\u00e7\u00e3o Sujeita \u00e0 Aprecia\u00e7\u00e3o do Plen\u00e1rio</td>\n",
        "      <td> Poder Executivo</td>\n",
        "      <td> Transformado em Norma Jur\u00eddica</td>\n",
        "    </tr>\n",
        "    <tr>\n",
        "      <th>45017</th>\n",
        "      <td> MPV 19/2001</td>\n",
        "      <td> Medida Provis\u00f3ria</td>\n",
        "      <td> 2001</td>\n",
        "      <td> </td>\n",
        "      <td> Urg\u00eancia</td>\n",
        "      <td> Proposi\u00e7\u00e3o Sujeita \u00e0 Aprecia\u00e7\u00e3o do Plen\u00e1rio</td>\n",
        "      <td> Poder Executivo</td>\n",
        "      <td> Transformado em Norma Jur\u00eddica</td>\n",
        "    </tr>\n",
        "    <tr>\n",
        "      <th>44915</th>\n",
        "      <td> MPV 18/2001</td>\n",
        "      <td> Medida Provis\u00f3ria</td>\n",
        "      <td> 2001</td>\n",
        "      <td> </td>\n",
        "      <td> Urg\u00eancia</td>\n",
        "      <td> Proposi\u00e7\u00e3o Sujeita \u00e0 Aprecia\u00e7\u00e3o do Plen\u00e1rio</td>\n",
        "      <td> Poder Executivo</td>\n",
        "      <td> Transformado em Norma Jur\u00eddica</td>\n",
        "    </tr>\n",
        "    <tr>\n",
        "      <th>44913</th>\n",
        "      <td> MPV 17/2001</td>\n",
        "      <td> Medida Provis\u00f3ria</td>\n",
        "      <td> 2001</td>\n",
        "      <td> </td>\n",
        "      <td> Urg\u00eancia</td>\n",
        "      <td> Proposi\u00e7\u00e3o Sujeita \u00e0 Aprecia\u00e7\u00e3o do Plen\u00e1rio</td>\n",
        "      <td> Poder Executivo</td>\n",
        "      <td> Transformado em Norma Jur\u00eddica</td>\n",
        "    </tr>\n",
        "    <tr>\n",
        "      <th>44740</th>\n",
        "      <td> MPV 16/2001</td>\n",
        "      <td> Medida Provis\u00f3ria</td>\n",
        "      <td> 2001</td>\n",
        "      <td> </td>\n",
        "      <td> Urg\u00eancia</td>\n",
        "      <td> Proposi\u00e7\u00e3o Sujeita \u00e0 Aprecia\u00e7\u00e3o do Plen\u00e1rio</td>\n",
        "      <td> Poder Executivo</td>\n",
        "      <td> Transformado em Norma Jur\u00eddica</td>\n",
        "    </tr>\n",
        "  </tbody>\n",
        "</table></div>"
       ],
       "metadata": {},
       "output_type": "pyout",
       "prompt_number": 5,
       "text": [
        "<IPython.core.display.HTML at 0x7fc51b98d150>"
       ]
      }
     ],
     "prompt_number": 5
    },
    {
     "cell_type": "markdown",
     "metadata": {},
     "source": [
      "A primeira informa\u00e7\u00e3o que descobri explorando esses dados \u00e9 que\n",
      "o **regime**, a **aprecia\u00e7\u00e3o**, o **tipo de proposi\u00e7\u00e3o** e\n",
      "**autor** (apenas esse eu esperava) s\u00e3o sempre valores \u00fanicos.\n",
      "\n",
      "Todo **regime** \u00e9 de urg\u00eancia, toda proposi\u00e7\u00e3o est\u00e1 sujeita a **aprecia\u00e7\u00e3o**\n",
      "do plen\u00e1rio todos os **tipos de proposi\u00e7\u00e3o** s\u00e3o medidas provis\u00f3rias e o\n",
      "**autor** \u00e9 sempre o poder executivo."
     ]
    },
    {
     "cell_type": "code",
     "collapsed": false,
     "input": [
      "def print_unique(col):\n",
      "    for el in df[col].unique().tolist():\n",
      "        print(u'{}: {}'.format(col, el))\n",
      "\n",
      "print_unique(col='regime')\n",
      "print_unique(col='apreciacao')\n",
      "print_unique(col='tipoProposicao')\n",
      "print_unique(col='autor1')"
     ],
     "language": "python",
     "metadata": {},
     "outputs": [
      {
       "output_type": "stream",
       "stream": "stdout",
       "text": [
        "regime: Urg\u00eancia\n",
        "apreciacao: Proposi\u00e7\u00e3o Sujeita \u00e0 Aprecia\u00e7\u00e3o do Plen\u00e1rio\n",
        "apreciacao: .\n",
        "tipoProposicao: Medida Provis\u00f3ria\n",
        "autor1: Poder Executivo\n"
       ]
      }
     ],
     "prompt_number": 6
    },
    {
     "cell_type": "markdown",
     "metadata": {},
     "source": [
      "Como n\u00e3o tenho ainda ideia do que fazer com os dados vamos criar\n",
      "apenas uns gr\u00e1ficos explorat\u00f3rios.  Abaixo temos tr\u00eas histogramas com o\n",
      "n\u00famero de proposi\u00e7\u00f5es por ano, o \u00f3rg\u00e3o numerador e a situa\u00e7\u00e3o. "
     ]
    },
    {
     "cell_type": "code",
     "collapsed": false,
     "input": [
      "figsize = (7, 2.75)\n",
      "\n",
      "ax = df[['ano']].apply(pd.value_counts).sort().plot(kind='bar', figsize=figsize)"
     ],
     "language": "python",
     "metadata": {},
     "outputs": [
      {
       "metadata": {},
       "output_type": "display_data",
       "png": "[encoded data removed]",
       "text": [
        "<matplotlib.figure.Figure at 0x7fc5233337d0>"
       ]
      }
     ],
     "prompt_number": 7
    },
    {
     "cell_type": "markdown",
     "metadata": {},
     "source": [
      "Vou deixar pra comentar sobre os padr\u00f5es observados acima em outro post ;-)"
     ]
    },
    {
     "cell_type": "code",
     "collapsed": false,
     "input": [
      "ax = df[['orgaoNumerador']].apply(pd.value_counts).plot(kind='barh', figsize=figsize)"
     ],
     "language": "python",
     "metadata": {},
     "outputs": [
      {
       "metadata": {},
       "output_type": "display_data",
       "png": "[encoded data removed]",
       "text": [
        "<matplotlib.figure.Figure at 0x7fc51b365a50>"
       ]
      }
     ],
     "prompt_number": 8
    },
    {
     "cell_type": "markdown",
     "metadata": {},
     "source": [
      "Parece que algu\u00e9m esqueceu de preencher esse dado em algumas entradas...  Quase 100 campos vazios."
     ]
    },
    {
     "cell_type": "code",
     "collapsed": false,
     "input": [
      "ax = df[['situacao']].apply(pd.value_counts).plot(kind='barh', figsize=figsize)"
     ],
     "language": "python",
     "metadata": {},
     "outputs": [
      {
       "metadata": {},
       "output_type": "display_data",
       "png": "[encoded data removed]",
       "text": [
        "<matplotlib.figure.Figure at 0x7fc51b064190>"
       ]
      }
     ],
     "prompt_number": 9
    },
    {
     "cell_type": "markdown",
     "metadata": {},
     "source": [
      "Para continuar a explora\u00e7\u00e3o dos dados vamos buscar algumas palavras chaves\n",
      "nos textos das propostas."
     ]
    },
    {
     "cell_type": "code",
     "collapsed": false,
     "input": [
      "def find_word(word=u'educa\u00e7\u00e3o'):\n",
      "    ids = []\n",
      "    for id, row in textos[['txtEmenta', 'txtExplicacaoEmenta']].iterrows():\n",
      "        texto = '\\n'.join([row[0], row[1]])\n",
      "        if word in texto:\n",
      "            ids.append(id)\n",
      "    return ids\n",
      "\n",
      "print('educa\u00e7\u00e3o: {}\\nimposto: {}'.format(len(find_word(word=u'educa\u00e7\u00e3o')), len(find_word(word='imposto'))))"
     ],
     "language": "python",
     "metadata": {},
     "outputs": [
      {
       "output_type": "stream",
       "stream": "stdout",
       "text": [
        "educa\u00e7\u00e3o: 8\n",
        "imposto: 16\n"
       ]
      }
     ],
     "prompt_number": 10
    },
    {
     "cell_type": "markdown",
     "metadata": {},
     "source": [
      "Temos 8 propostas contendo a palavra educa\u00e7\u00e3o e o dobro contendo a\n",
      "palavra imposto.  (Juro que escolhi aleatoriamente as palavras!)\n",
      "\n",
      "Caso algu\u00e9m queira ler os textos basta usar a `id` para ler o dataframe."
     ]
    },
    {
     "cell_type": "code",
     "collapsed": false,
     "input": [
      "ids = find_word(word=u'educa\u00e7\u00e3o')\n",
      "\n",
      "print(unicode(textos['txtEmenta'].ix[ids[7]]))"
     ],
     "language": "python",
     "metadata": {},
     "outputs": [
      {
       "output_type": "stream",
       "stream": "stdout",
       "text": [
        "Autoriza o pagamento de subven\u00e7\u00e3o econ\u00f4mica aos produtores da safra 2011/2012 de cana-de-a\u00e7\u00facar e de etanol da regi\u00e3o Nordeste e o financiamento da renova\u00e7\u00e3o e implanta\u00e7\u00e3o de canaviais com equaliza\u00e7\u00e3o da taxa de juros; disp\u00f5e sobre os arranjos de pagamento e as institui\u00e7\u00f5es de pagamento integrantes do Sistema de Pagamentos Brasileiro - SPB; altera a Lei n\u00ba 12.783, de 11 de janeiro de 2013, para autorizar a Uni\u00e3o a emitir, sob a forma de coloca\u00e7\u00e3o direta, em favor da Conta de Desenvolvimento Energ\u00e9tico - CDE, t\u00edtulos da d\u00edvida p\u00fablica mobili\u00e1ria federal; e d\u00e1 outras provid\u00eancias. \n",
        "\n",
        "NOVA EMENTA: Autoriza o pagamento de subven\u00e7\u00e3o econ\u00f4mica aos produtores da safra 2011/2012 de cana-de-a\u00e7\u00facar e de etanol que especifica e o financiamento da renova\u00e7\u00e3o e implanta\u00e7\u00e3o de canaviais com equaliza\u00e7\u00e3o da taxa de juros; disp\u00f5e sobre os arranjos de pagamento e as institui\u00e7\u00f5es de pagamento integrantes do Sistema de Pagamentos Brasileiro - SPB; autoriza a Uni\u00e3o a emitir, sob a forma de coloca\u00e7\u00e3o direta, em favor da Conta de Desenvolvimento Energ\u00e9tico - CDE, t\u00edtulos da d\u00edvida p\u00fablica mobili\u00e1ria federal; estabelece novas condi\u00e7\u00f5es para as opera\u00e7\u00f5es de cr\u00e9dito rural oriundas de, ou contratadas com, recursos do Fundo Constitucional de Financiamento do Nordeste - FNE; altera os prazos previstos nas Leis n\u00ba 11.941, de 27 de maio de 2009, e n\u00ba 12.249, de 11 de junho de 2010; autoriza a Uni\u00e3o a contratar o Banco do Brasil S.A. ou suas subsidi\u00e1rias para atuar na gest\u00e3o de recursos, obras e servi\u00e7os de engenharia relacionados ao desenvolvimento de projetos, moderniza\u00e7\u00e3o, amplia\u00e7\u00e3o, constru\u00e7\u00e3o ou reforma da rede integrada e especializada para atendimento da mulher em situa\u00e7\u00e3o de viol\u00eancia; disciplina o documento digital no Sistema Financeiro Nacional; disciplina a regulariza\u00e7\u00e3o de \u00e1reas ocupadas por entidades de assist\u00eancia social, de educa\u00e7\u00e3o ou templos de qualquer culto no Distrito Federal; disciplina a transfer\u00eancia, no caso de falecimento, do direito de utiliza\u00e7\u00e3o privada de \u00e1rea p\u00fablica por equipamentos urbanos do tipo quiosque, trailer, feira, banca de venda de jornais e de revistas; altera a incid\u00eancia da Contribui\u00e7\u00e3o para o PIS/Pasep e da Cofins na cadeia de produ\u00e7\u00e3o e comercializa\u00e7\u00e3o da soja e de seus subprodutos; altera as Leis n\u00bas 12.666, de 14 de junho de 2012, 5.991, de 17 de dezembro de 1973, 11.508, de 20 de julho de 2007,  9.503, de 23 de setembro de 1997, 9.069, de 29 de junho de 1995, 10.865, de 30 de abril de 2004, 12.587, de 3 de janeiro de 2012, 10.826, de 22 de dezembro de 2003, 10.925, de 23 de julho de 2004, 12.350, de 20 de dezembro de 2010, 4.870, de 1\u00ba de dezembro de 1965 e 11.196, de 21 de novembro de 2005, e o Decreto n\u00ba 70.235, de 6 de mar\u00e7o de 1972; revoga dispositivos da Lei n\u00ba 12.546, de 14 de dezembro de 2011; e d\u00e1 outras provid\u00eancias.\n"
       ]
      }
     ],
     "prompt_number": 11
    },
    {
     "cell_type": "markdown",
     "metadata": {},
     "source": [
      "Notem que nesse caso eu n\u00e3o escolhi o \u00edndice `[7]` de forma aleat\u00f3ria,\n",
      "escolhi um que tem a palavra **educa\u00e7\u00e3o** fora do escopo que eu imaginei.\n",
      "\n",
      "Fiz isso para mostrar que trabalhar com textos \u00e9 muito complicado!\n",
      "Temos que tomar muito cuidado.  Nossa contagem sobre a educa\u00e7\u00e3o, por exemplo,\n",
      "caiu de 8 para 7 ao olhar os dados de perto.\n",
      "\n",
      "Caso algu\u00e9m tenha interesse em mais dados abertos do governo\n",
      "chequem o site http://dados.gov.br/.  Para maiores informa\u00e7\u00f5es sobre\n",
      "o evento do Calango olhem\n",
      "[p\u00e1gina](http://calango.club/eventos:oficinas:opendataday2015) do evento e\n",
      "o *Google Hangout* que ocorreu s\u00e1bado passado:"
     ]
    },
    {
     "cell_type": "code",
     "collapsed": false,
     "input": [
      "from IPython.display import YouTubeVideo\n",
      "YouTubeVideo(\"8IITQSAHJiQ\")"
     ],
     "language": "python",
     "metadata": {},
     "outputs": [
      {
       "html": [
        "\n",
        "        <iframe\n",
        "            width=\"400\"\n",
        "            height=300\"\n",
        "            src=\"https://www.youtube.com/embed/8IITQSAHJiQ\"\n",
        "            frameborder=\"0\"\n",
        "            allowfullscreen\n",
        "        ></iframe>\n",
        "        "
       ],
       "metadata": {},
       "output_type": "pyout",
       "prompt_number": 12,
       "text": [
        "<IPython.lib.display.YouTubeVideo at 0x7fc51b8f1b90>"
       ]
      }
     ],
     "prompt_number": 12
    },
    {
     "cell_type": "code",
     "collapsed": false,
     "input": [
      "HTML(html)"
     ],
     "language": "python",
     "metadata": {},
     "outputs": [
      {
       "html": [
        "\n",
        "<small>\n",
        "<p> This post was written as an IPython notebook.  It is available for\n",
        "<a href=\"http://ocefpaf.github.com/python4oceanographers/downloads/\n",
        "notebooks/2015-02-23-open_data_day.ipynb\">download</a> or as a static\n",
        "<a href=\"http://nbviewer.ipython.org/url/ocefpaf.github.com/\n",
        "python4oceanographers/downloads/notebooks/2015-02-23-open_data_day.ipynb\">html</a>.</p>\n",
        "<p></p>\n",
        "<a rel=\"license\" href=\"http://creativecommons.org/licenses/by-sa/4.0/\"><img\n",
        "alt=\"Creative Commons License\" style=\"border-width:0\"\n",
        "src=\"http://i.creativecommons.org/l/by-sa/4.0/88x31.png\" /></a><br /><span\n",
        "xmlns:dct=\"http://purl.org/dc/terms/\"\n",
        "property=\"dct:title\">python4oceanographers</span> by <a\n",
        "xmlns:cc=\"http://creativecommons.org/ns#\" href=\"http://ocefpaf.github.io/\"\n",
        "property=\"cc:attributionName\" rel=\"cc:attributionURL\">Filipe Fernandes</a> is\n",
        "licensed under a <a rel=\"license\"\n",
        "href=\"http://creativecommons.org/licenses/by-sa/4.0/\">Creative Commons\n",
        "Attribution-ShareAlike 4.0 International License</a>.<br />Based on a work at <a\n",
        "xmlns:dct=\"http://purl.org/dc/terms/\" href=\"http://ocefpaf.github.io/\"\n",
        "rel=\"dct:source\">http://ocefpaf.github.io/</a>.\n",
        " "
       ],
       "metadata": {},
       "output_type": "pyout",
       "prompt_number": 13,
       "text": [
        "<IPython.core.display.HTML at 0x7fc51b083dd0>"
       ]
      }
     ],
     "prompt_number": 13
    }
   ],
   "metadata": {}
  }
 ]
}