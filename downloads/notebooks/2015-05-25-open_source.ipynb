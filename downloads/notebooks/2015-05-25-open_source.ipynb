{
 "metadata": {
  "name": "",
  "signature": "sha256:22658a5ff333a4977caabca2f6c3adb65035f271573b9bda1cd01a2a1d148e51"
 },
 "nbformat": 3,
 "nbformat_minor": 0,
 "worksheets": [
  {
   "cells": [
    {
     "cell_type": "code",
     "collapsed": false,
     "input": [
      "name = '2015-05-25-open_source'\n",
      "title = 'Is there a \"Right Way\" to Open Source a project?'\n",
      "\n",
      "import os\n",
      "from datetime import datetime\n",
      "\n",
      "from IPython.core.display import HTML\n",
      "\n",
      "%matplotlib inline\n",
      "\n",
      "with open('creative_commons.txt', 'r') as f:\n",
      "    html = f.read()\n",
      "    \n",
      "with open('./styles/custom.css', 'r') as f:\n",
      "    styles = f.read()\n",
      "    \n",
      "HTML(styles)\n",
      "\n",
      "\n",
      "html = \"\"\"\n",
      "<small>\n",
      "<p> This post was written as an IPython notebook.  It is available for\n",
      "<a href=\"http://ocefpaf.github.com/python4oceanographers/downloads/\n",
      "notebooks/%s.ipynb\">download</a> or as a static\n",
      "<a href=\"http://nbviewer.ipython.org/url/ocefpaf.github.com/\n",
      "python4oceanographers/downloads/notebooks/%s.ipynb\">html</a>.</p>\n",
      "<p></p>\n",
      "%s \"\"\" % (name, name, html)\n",
      "\n",
      "hour = datetime.utcnow().strftime('%H:%M')\n",
      "comments=\"true\"\n",
      "\n",
      "date = '-'.join(name.split('-')[:3])\n",
      "slug = '-'.join(name.split('-')[3:])\n",
      "\n",
      "metadata = dict(title=title,\n",
      "                date=date,\n",
      "                hour=hour,\n",
      "                comments=comments,\n",
      "                slug=slug,\n",
      "                name=name)\n",
      "\n",
      "markdown = \"\"\"Title: {title}\n",
      "date:  {date} {hour}\n",
      "comments: {comments}\n",
      "slug: {slug}\n",
      "\n",
      "{{% notebook {name}.ipynb cells[1:] %}}\n",
      "\"\"\".format(**metadata)\n",
      "\n",
      "content = os.path.abspath(os.path.join(os.getcwd(), os.pardir, os.pardir, '{}.md'.format(name)))\n",
      "with open('{}'.format(content), 'w') as f:\n",
      "    f.writelines(markdown)"
     ],
     "language": "python",
     "metadata": {},
     "outputs": [],
     "prompt_number": 1
    },
    {
     "cell_type": "markdown",
     "metadata": {},
     "source": [
      "While listening to Kenneth Reitz on\n",
      "[this](http://www.talkpythontome.com/episodes/show/6/requests-pycon-and-python-s-future)\n",
      "[Talk Python to me](http://www.talkpythontome.com) episode and I realized that\n",
      "**the most** popular Python module, which is\n",
      "[requests](http://docs.python-requests.org/en/latest/),\n",
      "could have failed due to a bad name choice!  Instead of\n",
      "\"Requests: HTTP for Humans\" Kenneth Reitz almost named it\n",
      "\"Requests: HTTP for python that doesn't suck\"!  See the difference?\n",
      "\n",
      "That got me thinking about the \"Right Way\" to Open Source a project and how\n",
      "to build a community around it.  There are several good posts and articles on\n",
      "the topic, like\n",
      "[this](http://www.jeffknupp.com/blog/2013/08/16/open-sourcing-a-python-project-the-right-way/)\n",
      "(and many others on building communities).\n",
      "\n",
      "Here I just want to add a few points that I think are important, not sure if\n",
      "they **are** the right way to do things:\n",
      "\n",
      "- Variables names **are** meaningful\\*.\n",
      "- Avoid committing to master.  Fork it, branch it, and send the PR.  It does\n",
      "  not matter if you are the [BDFL](http://en.wikipedia.org/wiki/Benevolent_dictator_for_life).\n",
      "- Avoid, as much as you can, self-merging PRs.\n",
      "  Ask another person look at your code.\n",
      "  Or at least, if you can afford it, let the PRs sit for a day or two.\n",
      "  (All the great coders do that!)\n",
      "- Try to send \"Hemingwaynian PRs\".\n",
      "  AKA bold and clear ~~text~~ code that is small and concise.\n",
      "- Make an effort to send a test with every new feature or bug fix.\n",
      "- Be nice to everyone that reaches out via issues, PRs, e-mails, etc.\n",
      "  They might know nothing, like John Snow, but their help might be of\n",
      "  the essence when winter comes.\n",
      "- Give proper credit to those that reached out.  Say thanks.  I lost count of\n",
      "  the PRs I merged and needed to be fixed right after merging, but I merged\n",
      "  them anyways just so the original author got the credit for her/his\n",
      "  contribution.\n",
      "- Do not revert merged PRs and re-send them as yours :-<!\n",
      "- The \"entry level\" to your code should always be low.  If the code is\n",
      "  complex, write better docs.  Why not go the extra mile and write a\n",
      "  [developers guide](http://scitools.org.uk/iris/docs/latest/developers_guide/index.html)\n",
      "  documentation?\n",
      "- Do not be afraid of reaching out to others.\n",
      "  Be the first (or the second ;-) guy on the hill \\*\\*!\n",
      "\n",
      "\\* https://www.youtube.com/watch?v=o5D8DwvkOc8\n",
      "\n",
      "\\*\\* https://www.youtube.com/watch?v=fW8amMCVAJQ"
     ]
    },
    {
     "cell_type": "markdown",
     "metadata": {},
     "source": [
      "The video below, by Kenneth Reitz himself ;-), is a good place to start."
     ]
    },
    {
     "cell_type": "code",
     "collapsed": false,
     "input": [
      "from IPython.display import YouTubeVideo\n",
      "\n",
      "YouTubeVideo(\"ijhNSit8S30\")"
     ],
     "language": "python",
     "metadata": {},
     "outputs": [
      {
       "html": [
        "\n",
        "        <iframe\n",
        "            width=\"400\"\n",
        "            height=300\"\n",
        "            src=\"https://www.youtube.com/embed/ijhNSit8S30\"\n",
        "            frameborder=\"0\"\n",
        "            allowfullscreen\n",
        "        ></iframe>\n",
        "        "
       ],
       "metadata": {},
       "output_type": "pyout",
       "prompt_number": 2,
       "text": [
        "<IPython.lib.display.YouTubeVideo at 0x7fe660cdeb10>"
       ]
      }
     ],
     "prompt_number": 2
    },
    {
     "cell_type": "markdown",
     "metadata": {},
     "source": [
      "And if you are not feeling good about your code just sit down and watch this."
     ]
    },
    {
     "cell_type": "code",
     "collapsed": false,
     "input": [
      "YouTubeVideo(\"hIJdFxYlEKE\")"
     ],
     "language": "python",
     "metadata": {},
     "outputs": [
      {
       "html": [
        "\n",
        "        <iframe\n",
        "            width=\"400\"\n",
        "            height=300\"\n",
        "            src=\"https://www.youtube.com/embed/hIJdFxYlEKE\"\n",
        "            frameborder=\"0\"\n",
        "            allowfullscreen\n",
        "        ></iframe>\n",
        "        "
       ],
       "metadata": {},
       "output_type": "pyout",
       "prompt_number": 3,
       "text": [
        "<IPython.lib.display.YouTubeVideo at 0x7fe660d033d0>"
       ]
      }
     ],
     "prompt_number": 3
    },
    {
     "cell_type": "code",
     "collapsed": false,
     "input": [
      "HTML(html)"
     ],
     "language": "python",
     "metadata": {},
     "outputs": [
      {
       "html": [
        "\n",
        "<small>\n",
        "<p> This post was written as an IPython notebook.  It is available for\n",
        "<a href=\"http://ocefpaf.github.com/python4oceanographers/downloads/\n",
        "notebooks/2015-05-25-open_source.ipynb\">download</a> or as a static\n",
        "<a href=\"http://nbviewer.ipython.org/url/ocefpaf.github.com/\n",
        "python4oceanographers/downloads/notebooks/2015-05-25-open_source.ipynb\">html</a>.</p>\n",
        "<p></p>\n",
        "<a rel=\"license\" href=\"http://creativecommons.org/licenses/by-sa/4.0/\"><img\n",
        "alt=\"Creative Commons License\" style=\"border-width:0\"\n",
        "src=\"http://i.creativecommons.org/l/by-sa/4.0/88x31.png\" /></a><br /><span\n",
        "xmlns:dct=\"http://purl.org/dc/terms/\"\n",
        "property=\"dct:title\">python4oceanographers</span> by <a\n",
        "xmlns:cc=\"http://creativecommons.org/ns#\" href=\"http://ocefpaf.github.io/\"\n",
        "property=\"cc:attributionName\" rel=\"cc:attributionURL\">Filipe Fernandes</a> is\n",
        "licensed under a <a rel=\"license\"\n",
        "href=\"http://creativecommons.org/licenses/by-sa/4.0/\">Creative Commons\n",
        "Attribution-ShareAlike 4.0 International License</a>.<br />Based on a work at <a\n",
        "xmlns:dct=\"http://purl.org/dc/terms/\" href=\"http://ocefpaf.github.io/\"\n",
        "rel=\"dct:source\">http://ocefpaf.github.io/</a>.\n",
        " "
       ],
       "metadata": {},
       "output_type": "pyout",
       "prompt_number": 4,
       "text": [
        "<IPython.core.display.HTML at 0x7fe660cdef90>"
       ]
      }
     ],
     "prompt_number": 4
    }
   ],
   "metadata": {}
  }
 ]
}