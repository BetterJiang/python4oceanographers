{
 "metadata": {
  "kernelspec": {
   "codemirror_mode": {
    "name": "python",
    "version": 3
   },
   "display_name": "Python 3",
   "language": "python",
   "name": "python3"
  },
  "name": "",
  "signature": "sha256:38d4afc46fb95bf5e5713ea22fdf677c18349b4f9969b2826499556fdf8f42ed"
 },
 "nbformat": 3,
 "nbformat_minor": 0,
 "worksheets": [
  {
   "cells": [
    {
     "cell_type": "code",
     "collapsed": false,
     "input": [
      "from IPython.core.display import HTML\n",
      "\n",
      "with open('creative_commons.txt', 'r') as f:\n",
      "    html = f.read()\n",
      "    \n",
      "with open('./styles/custom.css', 'r') as f:\n",
      "    styles = f.read()\n",
      "    \n",
      "HTML(styles)\n",
      "\n",
      "name = '2014-07-28-secoora_website'\n",
      "\n",
      "html = \"\"\"\n",
      "<small>\n",
      "<p> This post was written as an IPython notebook.  It is available for\n",
      "<a href=\"http://ocefpaf.github.com/python4oceanographers/downloads/\n",
      "notebooks/%s.ipynb\">download</a> or as a static\n",
      "<a href=\"http://nbviewer.ipython.org/url/ocefpaf.github.com/\n",
      "python4oceanographers/downloads/notebooks/%s.ipynb\">html</a>.</p>\n",
      "<p></p>\n",
      "%s \"\"\" % (name, name, html)"
     ],
     "language": "python",
     "metadata": {},
     "outputs": [],
     "prompt_number": 1
    },
    {
     "cell_type": "markdown",
     "metadata": {},
     "source": [
      "I am building a new website with Jekyll for work using the\n",
      "[gh-pages](https://pages.github.com/) framework.  This post contains some\n",
      "notes to remind me how to do it.\n",
      "\n",
      "Jekyll is a [ruby](https://www.ruby-lang.org/en/)\n",
      "tool (always wanted to try ruby out) to build static\n",
      "websites.  GitHub uses Jekyll automatic under the hood.  That means you do not\n",
      "need to push `html` to GitHub like I do with pelican for this blog.  You just\n",
      "push the Jekyll structure and the site will be built automagically for you.\n",
      "For more information check\n",
      "[GitHub Help](https://help.github.com/articles/using-jekyll-with-pages) page.\n",
      "\n",
      "Now lets get our hand dirty!  If you have `ruby` and `bundler` installed go\n",
      "ahead and install the `github-pages` gem.  Create a text file called `Gemfile`\n",
      "with this:\n",
      "\n",
      "```\n",
      "source 'https://rubygems.org'\n",
      "gem 'github-pages'\n",
      "```\n",
      "\n",
      "than just install `github-pages` bundle with (you might also need to\n",
      "install nodejs):\n",
      "\n",
      "```bash\n",
      "bundle install\n",
      "```\n",
      "\n",
      "To keep the bundle up-to-date use:\n",
      "\n",
      "```bash\n",
      "bundle update\n",
      "```\n",
      "\n",
      "Now we can create a blank page,\n",
      "\n",
      "```bash\n",
      "jekyll new website\n",
      "```\n",
      "\n",
      "and serve it locally at `localhost:4000` to check the results.\n",
      "\n",
      "```bash\n",
      "cd website\n",
      " jekyll serve --watch --baseurl=\n",
      "```\n",
      "\n",
      "Jekyll will create a `_site` folder with the generated HTML.  Make some\n",
      "modifications and you will see them appear in the browser (thanks to\n",
      "the `watch` option).  If you need to build it manually just type `jekyll build`.\n",
      "\n",
      "An important thing to remember is that a GitHub **project** site is different\n",
      "from a GitHub **user/organization** site.  The user/organization has its root\n",
      "at `http://user_or_organization.github.io`, while the project root is located\n",
      "at `http://user_or_organization.github.io/project`.  Why is this important?  It\n",
      "will save you a world of pain to know that, when building a project site, you\n",
      "have to use the variable `{{ site.baseurl }}` for referencing files or pages\n",
      "in your website (like `href` and `src`) instead of just a `/`.  The slash will\n",
      "always refer to the root at `http://user_or_organization.github.io` and not to\n",
      "the project **site** at `http://user_or_organization.github.io/project`.\n",
      "\n",
      "For more information read Jekyll's\n",
      "[documentation](http://jekyllrb.com/docs/home/).\n",
      "Finally, [here](https://github.com/ocefpaf/secoora/tree/gh-pages) is the source\n",
      "code for the page I am building and the resulting\n",
      "[website](http://ocefpaf.github.io/secoora/).\n",
      "\n",
      "Now go have fun building websites for your projects!"
     ]
    },
    {
     "cell_type": "code",
     "collapsed": false,
     "input": [
      "HTML(html)"
     ],
     "language": "python",
     "metadata": {},
     "outputs": [
      {
       "html": [
        "\n",
        "<small>\n",
        "<p> This post was written as an IPython notebook.  It is available for\n",
        "<a href=\"http://ocefpaf.github.com/python4oceanographers/downloads/\n",
        "notebooks/2014-07-28-secoora_website.ipynb\">download</a> or as a static\n",
        "<a href=\"http://nbviewer.ipython.org/url/ocefpaf.github.com/\n",
        "python4oceanographers/downloads/notebooks/2014-07-28-secoora_website.ipynb\">html</a>.</p>\n",
        "<p></p>\n",
        "<a rel=\"license\" href=\"http://creativecommons.org/licenses/by-sa/4.0/\"><img\n",
        "alt=\"Creative Commons License\" style=\"border-width:0\"\n",
        "src=\"http://i.creativecommons.org/l/by-sa/4.0/88x31.png\" /></a><br /><span\n",
        "xmlns:dct=\"http://purl.org/dc/terms/\"\n",
        "property=\"dct:title\">python4oceanographers</span> by <a\n",
        "xmlns:cc=\"http://creativecommons.org/ns#\" href=\"http://ocefpaf.github.io/\"\n",
        "property=\"cc:attributionName\" rel=\"cc:attributionURL\">Filipe Fernandes</a> is\n",
        "licensed under a <a rel=\"license\"\n",
        "href=\"http://creativecommons.org/licenses/by-sa/4.0/\">Creative Commons\n",
        "Attribution-ShareAlike 4.0 International License</a>.<br />Based on a work at <a\n",
        "xmlns:dct=\"http://purl.org/dc/terms/\" href=\"http://ocefpaf.github.io/\"\n",
        "rel=\"dct:source\">http://ocefpaf.github.io/</a>.\n",
        " "
       ],
       "metadata": {},
       "output_type": "pyout",
       "prompt_number": 2,
       "text": [
        "<IPython.core.display.HTML object>"
       ]
      }
     ],
     "prompt_number": 2
    }
   ],
   "metadata": {}
  }
 ]
}
