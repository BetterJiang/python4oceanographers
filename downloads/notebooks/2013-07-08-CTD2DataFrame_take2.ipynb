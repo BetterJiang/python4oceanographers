{
 "metadata": {
  "name": "",
  "signature": "sha256:6036035d614abe6188096de14096b31b81648af23ebdb7dc790af4bd2c44353f"
 },
 "nbformat": 3,
 "nbformat_minor": 0,
 "worksheets": [
  {
   "cells": [
    {
     "cell_type": "code",
     "collapsed": false,
     "input": [
      "from IPython.core.display import HTML\n",
      "\n",
      "with open('creative_commons.txt', 'r') as f:\n",
      "    html = f.read()\n",
      "    \n",
      "with open('./styles/custom.css', 'r') as f:\n",
      "    styles = f.read()\n",
      "    \n",
      "HTML(styles)\n",
      "\n",
      "name = '2013-07-08-CTD2DataFrame_take2.md'\n",
      "\n",
      "html = \"\"\"\n",
      "<small>\n",
      "<p> This post was written as an IPython notebook.  It is available for\n",
      "<a href=\"http://ocefpaf.github.com/python4oceanographers/downloads/\n",
      "notebooks/%s.ipynb\">download</a> or as a static\n",
      "<a href=\"http://nbviewer.ipython.org/url/ocefpaf.github.com/\n",
      "python4oceanographers/downloads/notebooks/%s.ipynb\">html</a>.</p>\n",
      "<p></p>\n",
      "%s \"\"\" % (name, name, html)"
     ],
     "language": "python",
     "metadata": {},
     "outputs": [],
     "prompt_number": 1
    },
    {
     "cell_type": "markdown",
     "metadata": {},
     "source": [
      "The easiest way to obtain the **ctd.py** module used in previous posts is to\n",
      "[download](http://code.google.com/p/python-oceans/) the source code for\n",
      "the **oceans** python module and add the python-oceans/oceans directory to your\n",
      "`PYTHONPATH` similar to what we done for the python-gsw.\n",
      "\n",
      "To clone the repository using mercurial type:\n",
      "\n",
      "~~~~~~~~~~~~~~~~~~~~~~~~~~~~~~~~~~~~~~~~~~~~~~~~~ {.bash}\n",
      "hg clone https://code.google.com/p/python-oceans/\n",
      "~~~~~~~~~~~~~~~~~~~~~~~~~~~~~~~~~~~~~~~~~~~~~~~~~\n",
      "and to update:\n",
      "\n",
      "~~~~~~~~~~~~~~~~~~~~~~~~~~~~~~~~~~~~~~~~~~~~~~~~~ {.bash}\n",
      "hg pull\n",
      "hg update\n",
      "~~~~~~~~~~~~~~~~~~~~~~~~~~~~~~~~~~~~~~~~~~~~~~~~~\n",
      "\n",
      "Now you can import the pandas modified **DataFrame** and load CTD (SeaBird\n",
      "`CNV` and FSI `ASCII` formats) and XBT (`EDF`) files directly.\n",
      "\n",
      "~~~~~~~~~~~~~~~~~~~~~~~~~~~~~~~~~~~~~~~~~~~~~~~~~~~~~~~~ {.python}\n",
      "from oceans.ctd import DataFrame\n",
      "seabird_cast = DataFrame.from_cnv(fname)\n",
      "fsi_cast = DataFrame.from_fsi(fname)\n",
      "xbt = DataFrame.from_edf(fname)\n",
      "~~~~~~~~~~~~~~~~~~~~~~~~~~~~~~~~~~~~~~~~~~~~~~~~~~~~~~~~\n",
      "\n",
      "The available methods are:\n",
      "\n",
      "*   `split`: Separate upcast from downcast.\n",
      "*   `plot_vars`: Plot two variables together (usually Salinity and Temperature).\n",
      "*   `swap_index`: Change the index (usually from pressure to depth or scan count).\n",
      "*   `press_check`: Check for pressure inversions.\n",
      "*   `get_maxdepth`: Cast maximum depth.\n",
      "*   `plot_section`:  If the DataFrame is a collection of CTD stations this plot\n",
      "    the section.\n",
      "\n",
      "There is also a modified pandas **Series** (1D DataFrames) with the following\n",
      "methods:\n",
      "\n",
      "*   `plot`: Plot the CTD profile.\n",
      "*   `smooth`: Smooth the profile.\n",
      "*   `despike`: Remove spikes from the data.\n",
      "*   `bindata`: Performs a bin average.\n"
     ]
    },
    {
     "cell_type": "code",
     "collapsed": false,
     "input": [
      "HTML(html)"
     ],
     "language": "python",
     "metadata": {},
     "outputs": [
      {
       "html": [
        "\n",
        "<small>\n",
        "<p> This post was written as an IPython notebook.  It is available for\n",
        "<a href=\"http://ocefpaf.github.com/python4oceanographers/downloads/\n",
        "notebooks/2013-07-08-CTD2DataFrame_take2.md.ipynb\">download</a> or as a static\n",
        "<a href=\"http://nbviewer.ipython.org/url/ocefpaf.github.com/\n",
        "python4oceanographers/downloads/notebooks/2013-07-08-CTD2DataFrame_take2.md.ipynb\">html</a>.</p>\n",
        "<p></p>\n",
        "<a rel=\"license\" href=\"http://creativecommons.org/licenses/by-sa/4.0/\"><img\n",
        "alt=\"Creative Commons License\" style=\"border-width:0\"\n",
        "src=\"http://i.creativecommons.org/l/by-sa/4.0/88x31.png\" /></a><br /><span\n",
        "xmlns:dct=\"http://purl.org/dc/terms/\"\n",
        "property=\"dct:title\">python4oceanographers</span> by <a\n",
        "xmlns:cc=\"http://creativecommons.org/ns#\" href=\"http://ocefpaf.github.io/\"\n",
        "property=\"cc:attributionName\" rel=\"cc:attributionURL\">Filipe Fernandes</a> is\n",
        "licensed under a <a rel=\"license\"\n",
        "href=\"http://creativecommons.org/licenses/by-sa/4.0/\">Creative Commons\n",
        "Attribution-ShareAlike 4.0 International License</a>.<br />Based on a work at <a\n",
        "xmlns:dct=\"http://purl.org/dc/terms/\" href=\"http://ocefpaf.github.io/\"\n",
        "rel=\"dct:source\">http://ocefpaf.github.io/</a>.\n",
        " "
       ],
       "metadata": {},
       "output_type": "pyout",
       "prompt_number": 2,
       "text": [
        "<IPython.core.display.HTML object>"
       ]
      }
     ],
     "prompt_number": 2
    }
   ],
   "metadata": {}
  }
 ]
}