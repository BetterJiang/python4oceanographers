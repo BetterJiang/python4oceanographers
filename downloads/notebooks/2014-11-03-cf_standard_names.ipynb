{
 "metadata": {
  "kernelspec": {
   "codemirror_mode": {
    "name": "ipython",
    "version": 3
   },
   "display_name": "IPython (Python 3)",
   "language": "python",
   "name": "python3"
  },
  "name": "",
  "signature": "sha256:fa6387383b1c49e49c0ded1cca61dbed91dd25bc29b195b7e91d3aaf77cca18f"
 },
 "nbformat": 3,
 "nbformat_minor": 0,
 "worksheets": [
  {
   "cells": [
    {
     "cell_type": "code",
     "collapsed": false,
     "input": [
      "from IPython.core.display import HTML\n",
      "\n",
      "with open('creative_commons.txt', 'r') as f:\n",
      "    html = f.read()\n",
      "    \n",
      "with open('./styles/custom.css', 'r') as f:\n",
      "    styles = f.read()\n",
      "    \n",
      "HTML(styles)\n",
      "\n",
      "name = '2014-10-20-cf_standard_names'\n",
      "\n",
      "html = \"\"\"\n",
      "<small>\n",
      "<p> This post was written as an IPython notebook.  It is available for\n",
      "<a href=\"http://ocefpaf.github.com/python4oceanographers/downloads/\n",
      "notebooks/%s.ipynb\">download</a> or as a static\n",
      "<a href=\"http://nbviewer.ipython.org/url/ocefpaf.github.com/\n",
      "python4oceanographers/downloads/notebooks/%s.ipynb\">html</a>.</p>\n",
      "<p></p>\n",
      "%s \"\"\" % (name, name, html)\n",
      "\n",
      "%matplotlib inline"
     ],
     "language": "python",
     "metadata": {},
     "outputs": [],
     "prompt_number": 2
    },
    {
     "cell_type": "code",
     "collapsed": true,
     "input": [
      "from xml.etree import ElementTree\n",
      "\n",
      "\n",
      "def get_standard_names(hints, units, cf_table='cf-standard-name-table.xml'):\n",
      "    \"\"\"If `hints` and `units` are True return `standard_name` in the list.\n",
      "    Searches for `hints` in the description+standard_name, searches and units\n",
      "    in the canonical_units field.\"\"\"\n",
      "\n",
      "    standard_names = []\n",
      "    tree = ElementTree.parse('cf-standard-name-table.xml')\n",
      "    root = tree.getroot()\n",
      "    entries = root.findall('entry')\n",
      "    for entry in entries:\n",
      "        standard_name = entry.get('id')\n",
      "        canonical_units = entry.find('canonical_units').text\n",
      "        description = entry.find('description').text\n",
      "        if description:\n",
      "            description = '{} {}'.format(description.lower(), standard_name)\n",
      "        else:\n",
      "            description = '{}'.format(standard_name)\n",
      "        description = set(description.lower().strip().split())\n",
      "        if (set(hints) < description and units == canonical_units):\n",
      "            standard_names.append(standard_name)\n",
      "    return standard_names"
     ],
     "language": "python",
     "metadata": {},
     "outputs": [],
     "prompt_number": 1
    },
    {
     "cell_type": "code",
     "collapsed": false,
     "input": [
      "hints = ['temperature', 'sea']\n",
      "units = 'K'\n",
      "CF_names = get_standard_names(hints=hints, units=units)\n",
      "\n",
      "print('\\n'.join(CF_names))"
     ],
     "language": "python",
     "metadata": {},
     "outputs": [
      {
       "output_type": "stream",
       "stream": "stdout",
       "text": [
        "air_potential_temperature\n",
        "change_over_time_in_sea_water_conservative_temperature\n",
        "change_over_time_in_sea_water_potential_temperature\n",
        "change_over_time_in_sea_water_temperature\n",
        "equivalent_potential_temperature\n",
        "pseudo_equivalent_potential_temperature\n",
        "sea_ice_surface_temperature\n",
        "sea_surface_foundation_temperature\n",
        "sea_surface_skin_temperature\n",
        "sea_surface_subskin_temperature\n",
        "sea_surface_temperature\n",
        "sea_water_conservative_temperature\n",
        "sea_water_potential_temperature\n",
        "sea_water_temperature\n",
        "temperature_of_sensor_for_oxygen_in_sea_water\n"
       ]
      }
     ],
     "prompt_number": 3
    },
    {
     "cell_type": "code",
     "collapsed": false,
     "input": [
      "HTML(html)"
     ],
     "language": "python",
     "metadata": {},
     "outputs": [
      {
       "html": [
        "\n",
        "<small>\n",
        "<p> This post was written as an IPython notebook.  It is available for\n",
        "<a href=\"http://ocefpaf.github.com/python4oceanographers/downloads/\n",
        "notebooks/2014-10-20-cf_standard_names.ipynb\">download</a> or as a static\n",
        "<a href=\"http://nbviewer.ipython.org/url/ocefpaf.github.com/\n",
        "python4oceanographers/downloads/notebooks/2014-10-20-cf_standard_names.ipynb\">html</a>.</p>\n",
        "<p></p>\n",
        "<a rel=\"license\" href=\"http://creativecommons.org/licenses/by-sa/4.0/\"><img\n",
        "alt=\"Creative Commons License\" style=\"border-width:0\"\n",
        "src=\"http://i.creativecommons.org/l/by-sa/4.0/88x31.png\" /></a><br /><span\n",
        "xmlns:dct=\"http://purl.org/dc/terms/\"\n",
        "property=\"dct:title\">python4oceanographers</span> by <a\n",
        "xmlns:cc=\"http://creativecommons.org/ns#\" href=\"http://ocefpaf.github.io/\"\n",
        "property=\"cc:attributionName\" rel=\"cc:attributionURL\">Filipe Fernandes</a> is\n",
        "licensed under a <a rel=\"license\"\n",
        "href=\"http://creativecommons.org/licenses/by-sa/4.0/\">Creative Commons\n",
        "Attribution-ShareAlike 4.0 International License</a>.<br />Based on a work at <a\n",
        "xmlns:dct=\"http://purl.org/dc/terms/\" href=\"http://ocefpaf.github.io/\"\n",
        "rel=\"dct:source\">http://ocefpaf.github.io/</a>.\n",
        " "
       ],
       "metadata": {},
       "output_type": "pyout",
       "prompt_number": 4,
       "text": [
        "<IPython.core.display.HTML object>"
       ]
      }
     ],
     "prompt_number": 4
    }
   ],
   "metadata": {}
  }
 ]
}