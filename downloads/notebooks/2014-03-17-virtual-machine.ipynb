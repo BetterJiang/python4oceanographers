{
 "metadata": {
  "name": "",
  "signature": "sha256:335ceb0a3800f0d29064a50f2e80be755294b70a97bb3d4f4e51b376c986f423"
 },
 "nbformat": 3,
 "nbformat_minor": 0,
 "worksheets": [
  {
   "cells": [
    {
     "cell_type": "code",
     "collapsed": false,
     "input": [
      "from IPython.core.display import HTML\n",
      "\n",
      "with open('creative_commons.txt', 'r') as f:\n",
      "    html = f.read()\n",
      "    \n",
      "name = '2014-03-17-virtual-machine'\n",
      "\n",
      "html = \"\"\"\n",
      "<small>\n",
      "<p> This post was written as an IPython notebook.  It is available for\n",
      "<a href=\"https://ocefpaf.github.com/python4oceanographers/downloads/\n",
      "notebooks/%s.ipynb\">download</a> or as a static\n",
      "<a href=\"https://nbviewer.ipython.org/url/ocefpaf.github.com/\n",
      "python4oceanographers/downloads/notebooks/%s.ipynb\">html</a>.</p>\n",
      "<p></p>\n",
      "%s \"\"\" % (name, name, html)\n",
      "\n",
      "%matplotlib inline\n",
      "from matplotlib import style\n",
      "style.use('ggplot')"
     ],
     "language": "python",
     "metadata": {},
     "outputs": [],
     "prompt_number": 1
    },
    {
     "cell_type": "markdown",
     "metadata": {},
     "source": [
      "Todos os [notebooks](http://nbviewer.ipython.org/github/ocefpaf/python4oceanographers/tree/master/content/downloads/notebooks/)\n",
      "mostrados nesse site e utilizados em aula exigem uma s\u00e9rie de m\u00f3dulos Python\n",
      "que podem ser complicados de instalar.  Para facilitar as aulas onde utilizo\n",
      "esses notebooks criei uma M\u00e1quina Virtual (VM) em `OVF` (Open Virtualization\n",
      "Format), que pode ser importada tanto pelo\n",
      "[VMWare Player](https://www.vmware.com/) ou\n",
      "[VirtualBox](https://www.virtualbox.org/wiki/Downloads).\n",
      "\n",
      "Essa VM foi criada utilizando a distribui\u00e7\u00e3o Linux OpenSUSE, com o\n",
      "[SUSE Studio](https://susestudio.com/) e contendo um\n",
      "[reposit\u00f3rio](https://build.opensuse.org/project/monitor/home:ocefpaf)\n",
      "particular com todos os m\u00f3dulos, pacotes e bibliotecas necess\u00e1rias para rodar\n",
      "os notebooks.\n",
      "\n",
      "A m\u00e1quina j\u00e1 abre um browser (chormium) diretamente na pasta contendo os\n",
      "notebooks de aula.  Mas, por ser uma distribui\u00e7\u00e3o Linux completa, \u00e9 poss\u00edvel\n",
      "utiliza-l\u00e1 normalmente como qualquer outra instala\u00e7\u00e3o de Linux.  S\u00f3 n\u00e3o \u00e9\n",
      "recomendado utilizar essa VM como sua principal esta\u00e7\u00e3o de trabalho devido \u00e0\n",
      "natureza inst\u00e1vel dos pacotes nos reposit\u00f3rios.  (Todos s\u00e3o atualizados\n",
      "semanalmente diretamente do seu reposit\u00f3rio oficial.)\n",
      "\n",
      "Bom, por enquanto \u00e9 s\u00f3,\n",
      "[baixe a m\u00e1quina](https://susestudio.com/a/YfJVDT/python4oceanographers--2)\n",
      "e um ambiente virtualizador de sua prefer\u00eancia, otimize as configura\u00e7\u00e3o da\n",
      "m\u00e1quina para o seu ambiente (Mem\u00f3ria RAM, forma de conectar \u00e0 internet e etc)\n",
      "e boas aulas.\n",
      "\n",
      "ps: O download \u00e9 pesado ~1,6 gigas!"
     ]
    },
    {
     "cell_type": "code",
     "collapsed": false,
     "input": [
      "HTML(html)"
     ],
     "language": "python",
     "metadata": {},
     "outputs": [
      {
       "html": [
        "\n",
        "<small>\n",
        "<p> This post was written as an IPython notebook.  It is available for\n",
        "<a href=\"https://ocefpaf.github.com/python4oceanographers/downloads/\n",
        "notebooks/2014-03-17-virtual-machine.ipynb\">download</a> or as a static\n",
        "<a href=\"https://nbviewer.ipython.org/url/ocefpaf.github.com/\n",
        "python4oceanographers/downloads/notebooks/2014-03-17-virtual-machine.ipynb\">html</a>.</p>\n",
        "<p></p>\n",
        "<a rel=\"license\" href=\"https://creativecommons.org/licenses/by-sa/4.0/\"><img\n",
        "alt=\"Creative Commons License\" style=\"border-width:0\"\n",
        "src=\"https://i.creativecommons.org/l/by-sa/4.0/88x31.png\" /></a><br /><span\n",
        "xmlns:dct=\"https://purl.org/dc/terms/\"\n",
        "property=\"dct:title\">python4oceanographers</span> by <a\n",
        "xmlns:cc=\"https://creativecommons.org/ns#\" href=\"https://ocefpaf.github.io/\"\n",
        "property=\"cc:attributionName\" rel=\"cc:attributionURL\">Filipe Fernandes</a> is\n",
        "licensed under a <a rel=\"license\"\n",
        "href=\"https://creativecommons.org/licenses/by-sa/4.0/\">Creative Commons\n",
        "Attribution-ShareAlike 4.0 International License</a>.<br />Based on a work at <a\n",
        "xmlns:dct=\"https://purl.org/dc/terms/\" href=\"https://ocefpaf.github.io/\"\n",
        "rel=\"dct:source\">https://ocefpaf.github.io/</a>.\n",
        " "
       ],
       "metadata": {},
       "output_type": "pyout",
       "prompt_number": 2,
       "text": [
        "<IPython.core.display.HTML at 0x7fac81e886d0>"
       ]
      }
     ],
     "prompt_number": 2
    }
   ],
   "metadata": {}
  }
 ]
}