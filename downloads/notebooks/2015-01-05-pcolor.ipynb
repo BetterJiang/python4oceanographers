{
 "metadata": {
  "name": "",
  "signature": "sha256:c808abd08d7f50ac5a138d4f29bb382e2df2df38af04dacdfa31ba9f7f1693c4"
 },
 "nbformat": 3,
 "nbformat_minor": 0,
 "worksheets": [
  {
   "cells": [
    {
     "cell_type": "code",
     "collapsed": false,
     "input": [
      "import os\n",
      "from IPython.core.display import HTML\n",
      "\n",
      "with open('creative_commons.txt', 'r') as f:\n",
      "    html = f.read()\n",
      "    \n",
      "name = '2015-01-05-pcolor'\n",
      "\n",
      "html = '''\n",
      "<small>\n",
      "<p> This post was written as an IPython notebook.\n",
      " It is available for <a href='https://ocefpaf.github.com/python4oceanographers/downloads/notebooks/%s.ipynb'>download</a>\n",
      " or as a static <a href='https://nbviewer.ipython.org/url/ocefpaf.github.com/python4oceanographers/downloads/notebooks/%s.ipynb'>html</a>.</p>\n",
      "<p></p>\n",
      "%s''' % (name, name, html)\n",
      "\n",
      "%matplotlib inline\n",
      "from matplotlib import style\n",
      "style.use('ggplot')\n",
      "\n",
      "from datetime import datetime\n",
      "\n",
      "title = 'To Pcolor or not to Pcolor'\n",
      "hour = datetime.utcnow().strftime('%H:%M')\n",
      "comments=\"true\"\n",
      "\n",
      "date = '-'.join(name.split('-')[:3])\n",
      "slug = '-'.join(name.split('-')[3:])\n",
      "\n",
      "metadata = dict(title=title,\n",
      "                date=date,\n",
      "                hour=hour,\n",
      "                comments=comments,\n",
      "                slug=slug,\n",
      "                name=name)\n",
      "\n",
      "markdown = \"\"\"Title: {title}\n",
      "date:  {date} {hour}\n",
      "comments: {comments}\n",
      "slug: {slug}\n",
      "\n",
      "{{% notebook {name}.ipynb cells[1:] %}}\n",
      "\"\"\".format(**metadata)\n",
      "\n",
      "content = os.path.abspath(os.path.join(os.getcwd(), os.pardir, os.pardir, '{}.md'.format(name)))\n",
      "with open('{}'.format(content), 'w') as f:\n",
      "    f.writelines(markdown)"
     ],
     "language": "python",
     "metadata": {},
     "outputs": [],
     "prompt_number": 1
    },
    {
     "cell_type": "markdown",
     "metadata": {},
     "source": [
      "Matplotlib's pcolor is not like MatlabTM pcolor, and that leads to some\n",
      "confusion.  In fact, matplotlib's pcolor is an improved way to \"pcolor\" things.\n",
      "\n",
      "Here are some plots to illustrate what I mean.  First, some fake data"
     ]
    },
    {
     "cell_type": "code",
     "collapsed": false,
     "input": [
      "import numpy as np\n",
      "\n",
      "data = np.array([[1, 2, 3], [4, 5, 6]])\n",
      "x = np.array([1, 2, 3])\n",
      "y = np.array([1, 2])"
     ],
     "language": "python",
     "metadata": {},
     "outputs": [],
     "prompt_number": 2
    },
    {
     "cell_type": "markdown",
     "metadata": {},
     "source": [
      "now let's plot the data passing the `x` and `y` coordinates to pcolor:"
     ]
    },
    {
     "cell_type": "code",
     "collapsed": false,
     "input": [
      "import matplotlib.pyplot as plt\n",
      "\n",
      "fig, ax = plt.subplots()\n",
      "cs = ax.pcolor(x, y, data)"
     ],
     "language": "python",
     "metadata": {},
     "outputs": [
      {
       "metadata": {},
       "output_type": "display_data",
       "png": "[encoded data removed]",
       "text": [
        "<matplotlib.figure.Figure at 0x7fefdb0fdf50>"
       ]
      }
     ],
     "prompt_number": 3
    },
    {
     "cell_type": "markdown",
     "metadata": {},
     "source": [
      "OK, that is identical to Matlab's pcolor.  But wait, what if we omit the\n",
      "coordinates?"
     ]
    },
    {
     "cell_type": "code",
     "collapsed": false,
     "input": [
      "fig, ax = plt.subplots()\n",
      "cs = ax.pcolor(data)"
     ],
     "language": "python",
     "metadata": {},
     "outputs": [
      {
       "metadata": {},
       "output_type": "display_data",
       "png": "[encoded data removed]",
       "text": [
        "<matplotlib.figure.Figure at 0x7fefbf164310>"
       ]
      }
     ],
     "prompt_number": 4
    },
    {
     "cell_type": "markdown",
     "metadata": {},
     "source": [
      "Aha!  That is more like it!\n",
      "\n",
      "The secret is hidden in plain site in the\n",
      "[docstring](http://matplotlib.org/api/pyplot_api.html#matplotlib.pyplot.pcolor),\n",
      "\n",
      "\n",
      "```python\n",
      "\"\"\"\n",
      "X and Y, if given, specify the (x, y) coordinates of the colored quadrilaterals; the quadrilateral for C[i,j] has corners at:\n",
      "\n",
      "(X[i,   j],   Y[i,   j]),\n",
      "(X[i,   j+1], Y[i,   j+1]),\n",
      "(X[i+1, j],   Y[i+1, j]),\n",
      "(X[i+1, j+1], Y[i+1, j+1]).\n",
      "\n",
      "Ideally the dimensions of X and Y should be one greater than those of C; if the dimensions are the same, then the last row and column of C will be ignored.\n",
      "\"\"\"\n",
      "```\n",
      "\n",
      "That means you can say goodbye to hacked versions of MatlabTM pcolor like\n",
      "[pcolorjw.m](https://www.myroms.org/svn/om/matlab/roms_wilkin/pcolorjw.m) and\n",
      "variants.\n",
      "\n",
      "If we pass `x` and `y` with dimensions greater than `C`, like the docstring\n",
      "says, we can get a proper plot as expected:\n",
      "\n",
      "(Note that something like this in Matlab would result in an error ;-)"
     ]
    },
    {
     "cell_type": "code",
     "collapsed": false,
     "input": [
      "import matplotlib.pyplot as plt\n",
      "\n",
      "fig, ax = plt.subplots()\n",
      "cs = ax.pcolor(np.r_[x, 4], np.r_[y, 3], data)"
     ],
     "language": "python",
     "metadata": {},
     "outputs": [
      {
       "metadata": {},
       "output_type": "display_data",
       "png": "[encoded data removed]",
       "text": [
        "<matplotlib.figure.Figure at 0x7fefbe1c1fd0>"
       ]
      }
     ],
     "prompt_number": 5
    },
    {
     "cell_type": "markdown",
     "metadata": {},
     "source": [
      "If your data is an iris cube you will get proper pcolor rendering for free plus\n",
      "the right coordinate ticklabels, if the coordinate bounds are defined."
     ]
    },
    {
     "cell_type": "code",
     "collapsed": false,
     "input": [
      "import numpy as np\n",
      "from iris.cube import Cube\n",
      "from iris.coords import DimCoord\n",
      "\n",
      "\n",
      "def create_cube():\n",
      "    data = np.array([[1, 2, 3], [4, 5, 6]])\n",
      "    cube = Cube(data)\n",
      "    \n",
      "    lon = DimCoord(np.array([1, 2, 3]), standard_name='longitude',\n",
      "                   units='degrees', circular=False)\n",
      "    lat = DimCoord(np.array([1, 2]), standard_name='latitude',\n",
      "                   units='degrees')\n",
      "    cube.add_dim_coord(lon, 1)\n",
      "    cube.add_dim_coord(lat, 0)\n",
      "    return cube\n",
      "\n",
      "cube = create_cube()"
     ],
     "language": "python",
     "metadata": {},
     "outputs": [],
     "prompt_number": 6
    },
    {
     "cell_type": "code",
     "collapsed": false,
     "input": [
      "x = cube.coord(axis='X')\n",
      "x.guess_bounds()\n",
      "x"
     ],
     "language": "python",
     "metadata": {},
     "outputs": [
      {
       "metadata": {},
       "output_type": "pyout",
       "prompt_number": 7,
       "text": [
        "DimCoord(array([1, 2, 3]), bounds=array([[ 0.5,  1.5],\n",
        "       [ 1.5,  2.5],\n",
        "       [ 2.5,  3.5]]), standard_name='longitude', units=Unit('degrees'))"
       ]
      }
     ],
     "prompt_number": 7
    },
    {
     "cell_type": "code",
     "collapsed": false,
     "input": [
      "y = cube.coord(axis='Y')\n",
      "y.guess_bounds()\n",
      "y"
     ],
     "language": "python",
     "metadata": {},
     "outputs": [
      {
       "metadata": {},
       "output_type": "pyout",
       "prompt_number": 8,
       "text": [
        "DimCoord(array([1, 2]), bounds=array([[ 0.5,  1.5],\n",
        "       [ 1.5,  2.5]]), standard_name='latitude', units=Unit('degrees'))"
       ]
      }
     ],
     "prompt_number": 8
    },
    {
     "cell_type": "markdown",
     "metadata": {},
     "source": [
      "That works with plain iris,"
     ]
    },
    {
     "cell_type": "code",
     "collapsed": false,
     "input": [
      "import iris.quickplot as qplt\n",
      "\n",
      "cs = qplt.pcolormesh(cube)"
     ],
     "language": "python",
     "metadata": {},
     "outputs": [
      {
       "metadata": {},
       "output_type": "display_data",
       "png": "[encoded data removed]",
       "text": [
        "<matplotlib.figure.Figure at 0x7fefb46c4310>"
       ]
      }
     ],
     "prompt_number": 9
    },
    {
     "cell_type": "markdown",
     "metadata": {},
     "source": [
      "or cartopy with cartopy:"
     ]
    },
    {
     "cell_type": "code",
     "collapsed": false,
     "input": [
      "import cartopy.crs as ccrs\n",
      "from cartopy.mpl.ticker import LongitudeFormatter, LatitudeFormatter\n",
      "\n",
      "fig, ax = plt.subplots(subplot_kw=dict(projection=ccrs.PlateCarree()))\n",
      "cs = qplt.pcolormesh(cube)\n",
      "ax.set_xticks(x.points, crs=ccrs.PlateCarree())\n",
      "ax.set_yticks(y.points, crs=ccrs.PlateCarree())\n",
      "lon_formatter = LongitudeFormatter(zero_direction_label=True)\n",
      "lat_formatter = LatitudeFormatter()\n",
      "ax.xaxis.set_major_formatter(lon_formatter)\n",
      "ax.yaxis.set_major_formatter(lat_formatter)"
     ],
     "language": "python",
     "metadata": {},
     "outputs": [
      {
       "metadata": {},
       "output_type": "display_data",
       "png": "[encoded data removed]",
       "text": [
        "<matplotlib.figure.Figure at 0x7fefbe1c9b10>"
       ]
      }
     ],
     "prompt_number": 10
    },
    {
     "cell_type": "markdown",
     "metadata": {},
     "source": [
      "Note that when we added the extra point in `x` and `y` previously we changed\n",
      "the center of the quadrilateral.  The correct `x` and `y` coordinates in that\n",
      "example should be something like the guessed bounds from iris:"
     ]
    },
    {
     "cell_type": "code",
     "collapsed": false,
     "input": [
      "xx = np.unique(x.bounds)\n",
      "yy = np.unique(y.bounds)\n",
      "\n",
      "fig, ax = plt.subplots()\n",
      "cs = ax.pcolor(xx, yy, cube.data)"
     ],
     "language": "python",
     "metadata": {},
     "outputs": [
      {
       "metadata": {},
       "output_type": "display_data",
       "png": "[encoded data removed]",
       "text": [
        "<matplotlib.figure.Figure at 0x7fefb3756290>"
       ]
      }
     ],
     "prompt_number": 11
    },
    {
     "cell_type": "code",
     "collapsed": false,
     "input": [
      "HTML(html)"
     ],
     "language": "python",
     "metadata": {},
     "outputs": [
      {
       "html": [
        "\n",
        "<small>\n",
        "<p> This post was written as an IPython notebook.\n",
        " It is available for <a href='https://ocefpaf.github.com/python4oceanographers/downloads/notebooks/2015-01-05-pcolor.ipynb'>download</a>\n",
        " or as a static <a href='https://nbviewer.ipython.org/url/ocefpaf.github.com/python4oceanographers/downloads/notebooks/2015-01-05-pcolor.ipynb'>html</a>.</p>\n",
        "<p></p>\n",
        "<a rel=\"license\" href=\"https://creativecommons.org/licenses/by-sa/4.0/\"><img\n",
        "alt=\"Creative Commons License\" style=\"border-width:0\"\n",
        "src=\"https://i.creativecommons.org/l/by-sa/4.0/88x31.png\" /></a><br /><span\n",
        "xmlns:dct=\"https://purl.org/dc/terms/\"\n",
        "property=\"dct:title\">python4oceanographers</span> by <a\n",
        "xmlns:cc=\"https://creativecommons.org/ns#\" href=\"https://ocefpaf.github.io/\"\n",
        "property=\"cc:attributionName\" rel=\"cc:attributionURL\">Filipe Fernandes</a> is\n",
        "licensed under a <a rel=\"license\"\n",
        "href=\"https://creativecommons.org/licenses/by-sa/4.0/\">Creative Commons\n",
        "Attribution-ShareAlike 4.0 International License</a>.<br />Based on a work at <a\n",
        "xmlns:dct=\"https://purl.org/dc/terms/\" href=\"https://ocefpaf.github.io/\"\n",
        "rel=\"dct:source\">https://ocefpaf.github.io/</a>.\n"
       ],
       "metadata": {},
       "output_type": "pyout",
       "prompt_number": 12,
       "text": [
        "<IPython.core.display.HTML at 0x7f77dd4e6390>"
       ]
      }
     ],
     "prompt_number": 12
    }
   ],
   "metadata": {}
  }
 ]
}