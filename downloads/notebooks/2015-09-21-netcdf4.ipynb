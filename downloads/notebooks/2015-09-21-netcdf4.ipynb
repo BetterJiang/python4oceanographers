{
 "metadata": {
  "name": "",
  "signature": "sha256:88d5c6d4b86c1f752a30d4695e1d346defad0970a60949b19a32aec5a176d688"
 },
 "nbformat": 3,
 "nbformat_minor": 0,
 "worksheets": [
  {
   "cells": [
    {
     "cell_type": "code",
     "collapsed": false,
     "input": [
      "name = '2015-09-21-netcdf4'\n",
      "title = \"netCDF4 python and the get_variables_by_attributes\""
     ],
     "language": "python",
     "metadata": {},
     "outputs": [],
     "prompt_number": 1
    },
    {
     "cell_type": "code",
     "collapsed": false,
     "input": [
      "%matplotlib inline\n",
      "\n",
      "import os\n",
      "from datetime import datetime\n",
      "from IPython.core.display import HTML\n",
      "\n",
      "with open('creative_commons.txt', 'r') as f:\n",
      "    html = f.read()\n",
      "\n",
      "hour = datetime.utcnow().strftime('%H:%M')\n",
      "comments=\"true\"\n",
      "\n",
      "date = '-'.join(name.split('-')[:3])\n",
      "slug = '-'.join(name.split('-')[3:])\n",
      "\n",
      "metadata = dict(title=title,\n",
      "                date=date,\n",
      "                hour=hour,\n",
      "                comments=comments,\n",
      "                slug=slug,\n",
      "                name=name)\n",
      "\n",
      "markdown = \"\"\"Title: {title}\n",
      "date:  {date} {hour}\n",
      "comments: {comments}\n",
      "slug: {slug}\n",
      "\n",
      "{{% notebook {name}.ipynb cells[2:] %}}\n",
      "\"\"\".format(**metadata)\n",
      "\n",
      "content = os.path.abspath(os.path.join(os.getcwd(),\n",
      "                                       os.pardir,\n",
      "                                       os.pardir, \n",
      "                                       '{}.md'.format(name)))\n",
      "with open('{}'.format(content), 'w') as f:\n",
      "    f.writelines(markdown)\n",
      "    \n",
      "html = '''\n",
      "<small>\n",
      "<p> This post was written as an IPython notebook.\n",
      " It is available for <a href='https://ocefpaf.github.com/python4oceanographers/downloads/notebooks/%s.ipynb'>download</a>\n",
      " or as a static <a href='https://nbviewer.ipython.org/url/ocefpaf.github.com/python4oceanographers/downloads/notebooks/%s.ipynb'>html</a>.</p>\n",
      "<p></p>\n",
      "%s''' % (name, name, html)"
     ],
     "language": "python",
     "metadata": {},
     "outputs": [],
     "prompt_number": 2
    },
    {
     "cell_type": "markdown",
     "metadata": {},
     "source": [
      "netCDF-Java users like to brag about the `Get by Attribute` method in the\n",
      "Java version of the netCDF library.  This method allow the user to query for\n",
      "using the information in the variable attribute.\n",
      "That is much better than browsing the all variables\n",
      "names to find what you need.  I had a very hackish version of that to search\n",
      "the attributes using string as input, but\n",
      "[Kyle Wilcox](https://github.com/kwilcox)\n",
      "took this to a whole new level by allowing `callable`\n",
      "[searches](https://github.com/axiom-data-science/pyaxiom/blob/master/pyaxiom/netcdf/dataset.py#L10-L47).  With such a nice implementation it was time to get that\n",
      "[upstream](http://opensource.stackexchange.com/questions/993/what-does-upstream-mean)!\n",
      "\n",
      "[PR 454](https://github.com/Unidata/netcdf4-python/pull/454)\n",
      "implements the `get_by_attribute` method in the netCDF4-python library.\n",
      "this will be available in the next release.  Then we will be able to do:"
     ]
    },
    {
     "cell_type": "code",
     "collapsed": false,
     "input": [
      "from netCDF4 import Dataset\n",
      "\n",
      "url = ('http://tds.marine.rutgers.edu/thredds/dodsC/roms/espresso/2013_da/avg/'\n",
      "       'ESPRESSO_Real-Time_v2_Averages_Best')\n",
      "\n",
      "nc = Dataset(url)"
     ],
     "language": "python",
     "metadata": {},
     "outputs": [],
     "prompt_number": 3
    },
    {
     "cell_type": "code",
     "collapsed": false,
     "input": [
      "u = nc.get_variables_by_attributes(standard_name='eastward_sea_water_velocity')"
     ],
     "language": "python",
     "metadata": {},
     "outputs": [],
     "prompt_number": 4
    },
    {
     "cell_type": "code",
     "collapsed": false,
     "input": [
      "type(u), len(u)"
     ],
     "language": "python",
     "metadata": {},
     "outputs": [
      {
       "metadata": {},
       "output_type": "pyout",
       "prompt_number": 5,
       "text": [
        "(list, 1)"
       ]
      }
     ],
     "prompt_number": 5
    },
    {
     "cell_type": "code",
     "collapsed": false,
     "input": [
      "u[0]"
     ],
     "language": "python",
     "metadata": {},
     "outputs": [
      {
       "metadata": {},
       "output_type": "pyout",
       "prompt_number": 6,
       "text": [
        "<type 'netCDF4._netCDF4.Variable'>\n",
        "float32 u(time, s_rho, eta_u, xi_u)\n",
        "    units: meter second-1\n",
        "    long_name: time-averaged u-momentum component\n",
        "    time: ocean_time\n",
        "    coordinates: time_run time s_rho lat_u lon_u \n",
        "    field: u-velocity, scalar, series\n",
        "    _FillValue: 1e+37\n",
        "    _ChunkSizes: [  1  36  82 129]\n",
        "    standard_name: eastward_sea_water_velocity\n",
        "unlimited dimensions: \n",
        "current shape = (858, 36, 82, 129)\n",
        "filling off"
       ]
      }
     ],
     "prompt_number": 6
    },
    {
     "cell_type": "markdown",
     "metadata": {},
     "source": [
      "As you can see the method always returns a list of variables.\n",
      "In this case we looked for the `u` velocity using its\n",
      "[CF standard name](http://cfconventions.org/Data/cf-conventions/cf-conventions-1.6/build/cf-conventions.html#standard-name).\n",
      "\n",
      "Let's try a more complex search using a `callable`."
     ]
    },
    {
     "cell_type": "code",
     "collapsed": false,
     "input": [
      "axis = lambda v: v in ['X', 'Y', 'Z', 'T']\n",
      "\n",
      "variables = nc.get_variables_by_attributes(axis=axis)\n",
      "variables"
     ],
     "language": "python",
     "metadata": {},
     "outputs": [
      {
       "metadata": {},
       "output_type": "pyout",
       "prompt_number": 7,
       "text": [
        "[]"
       ]
      }
     ],
     "prompt_number": 7
    },
    {
     "cell_type": "markdown",
     "metadata": {},
     "source": [
      "Bad dataset!  Don't you know that defining the `axis` attribute you make the\n",
      "life of users and automated tools much easier?  This is what you get when CF only \n",
      "recommends an attribute rather than making it obligatory.\n",
      "\n",
      "OK.  Let's try something that is mandatory in CF like the `formula_terms`."
     ]
    },
    {
     "cell_type": "code",
     "collapsed": false,
     "input": [
      "formula_terms = lambda v: v is not None\n",
      "\n",
      "var = nc.get_variables_by_attributes(formula_terms=formula_terms)[0]\n",
      "\n",
      "formula_terms = var.formula_terms\n",
      "formula_terms"
     ],
     "language": "python",
     "metadata": {},
     "outputs": [
      {
       "metadata": {},
       "output_type": "pyout",
       "prompt_number": 8,
       "text": [
        "u's: s_rho C: Cs_r eta: zeta depth: h depth_c: hc'"
       ]
      }
     ],
     "prompt_number": 8
    },
    {
     "cell_type": "markdown",
     "metadata": {},
     "source": [
      "Good dataset!  Have a biscuit while I transform that horrendous CF string\n",
      "to a Python dictionary."
     ]
    },
    {
     "cell_type": "code",
     "collapsed": false,
     "input": [
      "terms = [x.strip(':') for x in formula_terms.split()]\n",
      "formula_terms = {k: v for k, v in zip(terms[::2], terms[1::2])}\n",
      "formula_terms.update(standard_name=var.standard_name)\n",
      "formula_terms"
     ],
     "language": "python",
     "metadata": {},
     "outputs": [
      {
       "metadata": {},
       "output_type": "pyout",
       "prompt_number": 9,
       "text": [
        "{u'C': u'Cs_r',\n",
        " u'depth': u'h',\n",
        " u'depth_c': u'hc',\n",
        " u'eta': u'zeta',\n",
        " u's': u's_rho',\n",
        " 'standard_name': u'ocean_s_coordinate_g1'}"
       ]
      }
     ],
     "prompt_number": 9
    },
    {
     "cell_type": "markdown",
     "metadata": {},
     "source": [
      "And now that we have the dictionary we can use the CF definition for these\n",
      "variables, never minding the actual names in the used in the dataset. This is\n",
      "extremely valuable when loading ocean models from various sources.  The variables\n",
      "names might change, but as long as they are CF-compliant we are good to go."
     ]
    },
    {
     "cell_type": "code",
     "collapsed": false,
     "input": [
      "C = nc[formula_terms['C']]\n",
      "s = nc[formula_terms['s']]\n",
      "eta = nc[formula_terms['eta']]\n",
      "depth = nc[formula_terms['depth']]\n",
      "depth_c = nc[formula_terms['depth_c']]"
     ],
     "language": "python",
     "metadata": {},
     "outputs": [],
     "prompt_number": 10
    },
    {
     "cell_type": "markdown",
     "metadata": {},
     "source": [
      "A quick example on how to use this would be to construct the dimensioned\n",
      "vertical coordinate.\n",
      "I am writing all the CF Ocean Dimensionless Vertical Coordinates\n",
      "[(ODVC)](https://github.com/pyoceans/odvc/blob/master/odvc/formulas.py#L60-L71)\n",
      "in their canonical, and almost pseudo-code like, form.\n",
      "That way users can import from there, or just copy-and-paste the formulas\n",
      "they need in their code.\n",
      "In order to keep the formulas simple I do not check, nor adjust, for the\n",
      "input shapes.\n",
      "I leave that for the end user.  That way one can easily extend these formulas\n",
      "to CDMs interprets like `xray` and `iris`.  (Actually iris already have these formulas [built-in](https://github.com/SciTools/iris/pull/1304) ;-)\n",
      "\n",
      "So... Let's adjust the shapes!"
     ]
    },
    {
     "cell_type": "code",
     "collapsed": false,
     "input": [
      "s.shape, C.shape, eta.shape, depth.shape"
     ],
     "language": "python",
     "metadata": {},
     "outputs": [
      {
       "metadata": {},
       "output_type": "pyout",
       "prompt_number": 11,
       "text": [
        "((36,), (36,), (858, 82, 130), (82, 130))"
       ]
      }
     ],
     "prompt_number": 11
    },
    {
     "cell_type": "code",
     "collapsed": false,
     "input": [
      "s, C, eta, depth = (s[:][:, None, None], C[:][:, None, None],\n",
      "                    eta[0, ...][None, ...], depth[:][None, ...])"
     ],
     "language": "python",
     "metadata": {},
     "outputs": [],
     "prompt_number": 12
    },
    {
     "cell_type": "code",
     "collapsed": false,
     "input": [
      "s.shape, C.shape, eta.shape, depth.shape"
     ],
     "language": "python",
     "metadata": {},
     "outputs": [
      {
       "metadata": {},
       "output_type": "pyout",
       "prompt_number": 13,
       "text": [
        "((36, 1, 1), (36, 1, 1), (1, 82, 130), (1, 82, 130))"
       ]
      }
     ],
     "prompt_number": 13
    },
    {
     "cell_type": "markdown",
     "metadata": {},
     "source": [
      "All 3D arrays ready for NumPy broadcasting!"
     ]
    },
    {
     "cell_type": "code",
     "collapsed": false,
     "input": [
      "def ocean_s_coordinate_g1(s, c, eta, depth, depth_c):\n",
      "    \"\"\"\n",
      "    Creates an Ocean s-coordinate, generic form 1 factory with the formula:\n",
      "    \n",
      "    z(n,k,j,i) = S(k,j,i) + eta(n,j,i) * (1 + S(k,j,i) / depth(j,i))\n",
      "    \n",
      "    where:\n",
      "      S(k,j,i) = depth_c * s(k) + (depth(j,i) - depth_c) * C(k)\n",
      "    \n",
      "    \"\"\"\n",
      "    S = depth_c * s + (depth - depth_c) * c\n",
      "    z = S + eta * (1 + S / depth)\n",
      "    return z"
     ],
     "language": "python",
     "metadata": {},
     "outputs": [],
     "prompt_number": 14
    },
    {
     "cell_type": "markdown",
     "metadata": {},
     "source": [
      "And finally let's compute `z` and make some plots."
     ]
    },
    {
     "cell_type": "code",
     "collapsed": false,
     "input": [
      "z = ocean_s_coordinate_g1(s, C, eta, depth, depth_c)\n",
      "\n",
      "salt = nc.get_variables_by_attributes(standard_name='sea_water_salinity')[0]\n",
      "temp = nc.get_variables_by_attributes(standard_name='sea_water_potential_temperature')[0]"
     ],
     "language": "python",
     "metadata": {},
     "outputs": [],
     "prompt_number": 15
    },
    {
     "cell_type": "code",
     "collapsed": false,
     "input": [
      "import seaborn\n",
      "import matplotlib.pyplot as plt\n",
      "\n",
      "seaborn.set(style='ticks')\n",
      "\n",
      "fig, (ax0, ax1) = plt.subplots(ncols=2, figsize=(9, 6), sharey=True)\n",
      "\n",
      "kw = dict(linewidth=2.5)\n",
      "ax0.plot(salt[0, :, 0, 76], z[:, 0, 76], label='Salinity', **kw)\n",
      "ax1.plot(temp[0, :, 0, 76], z[:, 0, 76], label='Temperature', **kw)\n",
      "\n",
      "ax0.grid(True)\n",
      "ax1.grid(True)\n",
      "kw = dict(right=False, top=False, left=True, bottom=True, offset=None, trim=True)\n",
      "\n",
      "seaborn.despine(ax=ax0, **kw)\n",
      "seaborn.despine(ax=ax1, **kw)"
     ],
     "language": "python",
     "metadata": {},
     "outputs": [
      {
       "metadata": {},
       "output_type": "display_data",
       "png": "[encoded data removed]",
       "text": [
        "<matplotlib.figure.Figure at 0x7fe6411ebb10>"
       ]
      }
     ],
     "prompt_number": 16
    },
    {
     "cell_type": "code",
     "collapsed": false,
     "input": [
      "HTML(html)"
     ],
     "language": "python",
     "metadata": {},
     "outputs": [
      {
       "html": [
        "\n",
        "<small>\n",
        "<p> This post was written as an IPython notebook.\n",
        " It is available for <a href='https://ocefpaf.github.com/python4oceanographers/downloads/notebooks/2015-09-21-netcdf4.ipynb'>download</a>\n",
        " or as a static <a href='https://nbviewer.ipython.org/url/ocefpaf.github.com/python4oceanographers/downloads/notebooks/2015-09-21-netcdf4.ipynb'>html</a>.</p>\n",
        "<p></p>\n",
        "<a rel=\"license\" href=\"https://creativecommons.org/licenses/by-sa/4.0/\"><img\n",
        "alt=\"Creative Commons License\" style=\"border-width:0\"\n",
        "src=\"https://i.creativecommons.org/l/by-sa/4.0/88x31.png\" /></a><br /><span\n",
        "xmlns:dct=\"https://purl.org/dc/terms/\"\n",
        "property=\"dct:title\">python4oceanographers</span> by <a\n",
        "xmlns:cc=\"https://creativecommons.org/ns#\" href=\"https://ocefpaf.github.io/\"\n",
        "property=\"cc:attributionName\" rel=\"cc:attributionURL\">Filipe Fernandes</a> is\n",
        "licensed under a <a rel=\"license\"\n",
        "href=\"https://creativecommons.org/licenses/by-sa/4.0/\">Creative Commons\n",
        "Attribution-ShareAlike 4.0 International License</a>.<br />Based on a work at <a\n",
        "xmlns:dct=\"https://purl.org/dc/terms/\" href=\"https://ocefpaf.github.io/\"\n",
        "rel=\"dct:source\">https://ocefpaf.github.io/</a>.\n"
       ],
       "metadata": {},
       "output_type": "pyout",
       "prompt_number": 17,
       "text": [
        "<IPython.core.display.HTML at 0x7f68987e9410>"
       ]
      }
     ],
     "prompt_number": 17
    }
   ],
   "metadata": {}
  }
 ]
}