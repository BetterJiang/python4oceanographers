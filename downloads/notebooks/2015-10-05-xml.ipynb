{
 "metadata": {
  "kernelspec": {
   "codemirror_mode": {
    "name": "ipython",
    "version": 3
   },
   "display_name": "Iris (Python 2)",
   "language": "python",
   "name": "iris_python2"
  },
  "name": "",
  "signature": "sha256:8dbd4d960b266c6fc338ec065debd8e1ed0047981d4374058610b0999fa48ec0"
 },
 "nbformat": 3,
 "nbformat_minor": 0,
 "worksheets": [
  {
   "cells": [
    {
     "cell_type": "code",
     "collapsed": false,
     "input": [
      "name = '2015-10-05-xml'\n",
      "\n",
      "title = \"xml is ok if you don't have to write or read it\""
     ],
     "language": "python",
     "metadata": {},
     "outputs": [],
     "prompt_number": 1
    },
    {
     "cell_type": "code",
     "collapsed": false,
     "input": [
      "%matplotlib inline\n",
      "\n",
      "import os\n",
      "import seaborn\n",
      "from datetime import datetime\n",
      "from IPython.core.display import HTML\n",
      "\n",
      "with open('creative_commons.txt', 'r') as f:\n",
      "    html = f.read()\n",
      "\n",
      "\n",
      "hour = datetime.utcnow().strftime('%H:%M')\n",
      "comments=\"true\"\n",
      "\n",
      "\n",
      "date = '-'.join(name.split('-')[:3])\n",
      "slug = '-'.join(name.split('-')[3:])\n",
      "\n",
      "metadata = dict(title=title,\n",
      "                date=date,\n",
      "                hour=hour,\n",
      "                comments=comments,\n",
      "                slug=slug,\n",
      "                name=name)\n",
      "\n",
      "markdown = \"\"\"Title: {title}\n",
      "date:  {date} {hour}\n",
      "comments: {comments}\n",
      "slug: {slug}\n",
      "\n",
      "{{% notebook {name}.ipynb cells[2:] %}}\n",
      "\"\"\".format(**metadata)\n",
      "\n",
      "content = os.path.abspath(os.path.join(os.getcwd(),\n",
      "                                       os.pardir,\n",
      "                                       os.pardir, \n",
      "                                       '{}.md'.format(name)))\n",
      "with open('{}'.format(content), 'w') as f:\n",
      "    f.writelines(markdown)\n",
      "    \n",
      "with open('./styles/custom.css', 'r') as f:\n",
      "    styles = f.read()\n",
      "\n",
      "\n",
      "html = \"\"\"\n",
      "<small>\n",
      "<p> This post was written as an IPython notebook.  It is available for\n",
      "<a href=\"http://ocefpaf.github.com/python4oceanographers/downloads/\n",
      "notebooks/%s.ipynb\">download</a> or as a static\n",
      "<a href=\"http://nbviewer.ipython.org/url/ocefpaf.github.com/\n",
      "python4oceanographers/downloads/notebooks/%s.ipynb\">html</a>.</p>\n",
      "<p></p>\n",
      "%s \"\"\" % (name, name, html)\n",
      "\n",
      "\n",
      "HTML(styles)"
     ],
     "language": "python",
     "metadata": {},
     "outputs": [
      {
       "output_type": "stream",
       "stream": "stderr",
       "text": [
        "/home/filipe/.virtualenvs/blog/lib/python2.7/site-packages/matplotlib/__init__.py:872: UserWarning: axes.color_cycle is deprecated and replaced with axes.prop_cycle; please use the latter.\n",
        "  warnings.warn(self.msg_depr % (key, alt_key))\n"
       ]
      },
      {
       "html": [
        "<style>\n",
        "    @font-face {\n",
        "        font-family: \"Computer Modern\";\n",
        "        src: url('http://mirrors.ctan.org/fonts/cm-unicode/fonts/otf/cmunss.otf');\n",
        "    }\n",
        "    div.cell{\n",
        "        width:800px;\n",
        "/*        margin-left:16% !important;\n",
        "        margin-right:auto;*/\n",
        "        margin-left:auto;\n",
        "        margin-right:16% !important;\n",
        "    }\n",
        "    h1 {\n",
        "        font-family: Helvetica, serif;\n",
        "    }\n",
        "    h2 {\n",
        "        font-family: Helvetica, serif;\n",
        "    }\n",
        "    h4{\n",
        "        margin-top:12px;\n",
        "        margin-bottom: 3px;\n",
        "       }\n",
        "    div.text_cell_render{\n",
        "        font-family: Computer Modern, \"Helvetica Neue\", Arial, Helvetica, Geneva, sans-serif;\n",
        "        line-height: 135%;\n",
        "        font-size: 120%;\n",
        "        width:600px;\n",
        "        margin-left:auto;\n",
        "        margin-right:auto;\n",
        "    }\n",
        "    .CodeMirror{\n",
        "            font-family: \"Source Code Pro\", source-code-pro,Consolas, monospace;\n",
        "    }\n",
        "/*    .prompt{\n",
        "        display: None;\n",
        "    }*/\n",
        "    .text_cell_render h5 {\n",
        "        font-weight: 300;\n",
        "        font-size: 16pt;\n",
        "        color: #4057A1;\n",
        "        font-style: italic;\n",
        "        margin-bottom: .5em;\n",
        "        margin-top: 0.5em;\n",
        "        display: block;\n",
        "    }\n",
        "\n",
        "    .warning{\n",
        "        color: rgb( 240, 20, 20 )\n",
        "        }\n",
        "</style>\n",
        "<script>\n",
        "    MathJax.Hub.Config({\n",
        "                        TeX: {\n",
        "                           extensions: [\"AMSmath.js\"]\n",
        "                           },\n",
        "                tex2jax: {\n",
        "                    inlineMath: [ ['$','$'], [\"\\\\(\",\"\\\\)\"] ],\n",
        "                    displayMath: [ ['$$','$$'], [\"\\\\[\",\"\\\\]\"] ]\n",
        "                },\n",
        "                displayAlign: 'center', // Change this to 'center' to center equations.\n",
        "                \"HTML-CSS\": {\n",
        "                    styles: {'.MathJax_Display': {\"margin\": 4}}\n",
        "                }\n",
        "        });\n",
        "</script>\n"
       ],
       "metadata": {},
       "output_type": "pyout",
       "prompt_number": 2,
       "text": [
        "<IPython.core.display.HTML at 0x7fbad89e3550>"
       ]
      }
     ],
     "prompt_number": 2
    },
    {
     "cell_type": "code",
     "collapsed": false,
     "input": [
      "from xml.sax import ContentHandler\n",
      "\n",
      "def normalize_whitespace(text):\n",
      "    \"\"\"\n",
      "    Remove redundant whitespace from a string.\n",
      "    \n",
      "    \"\"\"\n",
      "    return ' '.join(text.split())\n",
      "\n",
      "\n",
      "class ConstructDict(ContentHandler):\n",
      "    \"\"\"\n",
      "    Parse the xml standard_name table, reading all entries\n",
      "    into a dictionary and storing the `standard_name` and the `units`.\n",
      "    \n",
      "    \"\"\"\n",
      "    def __init__(self):\n",
      "        self.inUnitsContent = 0\n",
      "        self.inEntryIdContent = 0\n",
      "        self.inVersionNoContent = 0\n",
      "        self.inLastModifiedContent = 0\n",
      "        self.dict = {}\n",
      "        \n",
      "    def startElement(self, name, attrs):\n",
      "        # If it's an entry element, save the id\n",
      "        if name == 'entry':\n",
      "            id = normalize_whitespace(attrs.get('id', \"\"))\n",
      "            self.this_id = id\n",
      "\n",
      "        # If it's the start of a canonical_units element\n",
      "        elif name == 'canonical_units':\n",
      "            self.inUnitsContent = 1\n",
      "            self.units = \"\"\n",
      "\n",
      "        elif name == 'alias':\n",
      "            id = normalize_whitespace(attrs.get('id', \"\"))\n",
      "            self.this_id = id\n",
      "\n",
      "        elif name == 'entry_id':\n",
      "            self.inEntryIdContent = 1\n",
      "            self.entry_id = \"\"\n",
      "\n",
      "        elif name == 'version_number':\n",
      "            self.inVersionNoContent = 1\n",
      "            self.version_number = \"\"\n",
      "\n",
      "        elif name == 'last_modified':\n",
      "            self.inLastModifiedContent = 1\n",
      "            self.last_modified = \"\"\n",
      "\n",
      "    def characters(self, ch):\n",
      "        if self.inUnitsContent:\n",
      "            self.units = self.units + ch\n",
      "\n",
      "        elif self.inEntryIdContent:\n",
      "            self.entry_id = self.entry_id + ch\n",
      "\n",
      "        elif self.inVersionNoContent:\n",
      "            self.version_number = self.version_number + ch\n",
      "\n",
      "        elif self.inLastModifiedContent:\n",
      "            self.last_modified = self.last_modified + ch\n",
      "\n",
      "    def endElement(self, name):\n",
      "        # If it's the end of the canonical_units element, save the units\n",
      "        if name == 'canonical_units':\n",
      "            self.inUnitsContent = 0\n",
      "            self.units = normalize_whitespace(self.units)\n",
      "            self.dict[self.this_id] = self.units\n",
      "            \n",
      "        # If it's the end of the entry_id element, find the units for the self.alias\n",
      "        elif name == 'entry_id':\n",
      "            self.inEntryIdContent = 0\n",
      "            self.entry_id = normalize_whitespace(self.entry_id)\n",
      "            self.dict[self.this_id] = self.dict[self.entry_id]\n",
      "\n",
      "        # If it's the end of the version_number element, save it\n",
      "        elif name == 'version_number':\n",
      "            self.inVersionNoContent = 0\n",
      "            self.version_number = normalize_whitespace(self.version_number)\n",
      "\n",
      "        # If it's the end of the last_modified element, save the last modified date\n",
      "        elif name == 'last_modified':\n",
      "            self.inLastModifiedContent = 0\n",
      "            self.last_modified = normalize_whitespace(self.last_modified)"
     ],
     "language": "python",
     "metadata": {},
     "outputs": [],
     "prompt_number": 8
    },
    {
     "cell_type": "code",
     "collapsed": false,
     "input": [
      "standard_name = './data/cf-standard-name-table.xml'"
     ],
     "language": "python",
     "metadata": {},
     "outputs": [],
     "prompt_number": 9
    },
    {
     "cell_type": "code",
     "collapsed": false,
     "input": [
      "from xml.sax import make_parser\n",
      "from xml.sax.handler import feature_namespaces\n",
      "\n",
      "parser = make_parser()\n",
      "\n",
      "std_name_dict = ConstructDict()\n",
      "\n",
      "parser.setFeature(feature_namespaces, 0)\n",
      "\n",
      "parser.setContentHandler(std_name_dict)\n",
      "\n",
      "parser.parse(standard_name)"
     ],
     "language": "python",
     "metadata": {},
     "outputs": [],
     "prompt_number": 20
    },
    {
     "cell_type": "code",
     "collapsed": false,
     "input": [
      "std_name_dict.dict.get(\"sea_water_potential_temperature\")"
     ],
     "language": "python",
     "metadata": {},
     "outputs": [
      {
       "metadata": {},
       "output_type": "pyout",
       "prompt_number": 22,
       "text": [
        "u'K'"
       ]
      }
     ],
     "prompt_number": 22
    },
    {
     "cell_type": "code",
     "collapsed": false,
     "input": [
      "std_name_dict.dict.get(\"sea_water_salinity\")"
     ],
     "language": "python",
     "metadata": {},
     "outputs": [
      {
       "metadata": {},
       "output_type": "pyout",
       "prompt_number": 23,
       "text": [
        "u'1e-3'"
       ]
      }
     ],
     "prompt_number": 23
    },
    {
     "cell_type": "code",
     "collapsed": false,
     "input": [
      "from netCDF4 import Dataset\n",
      "\n",
      "url = ('http://tds.marine.rutgers.edu/thredds/dodsC/roms/espresso/2013_da/avg/'\n",
      "       'ESPRESSO_Real-Time_v2_Averages_Best')\n",
      "\n",
      "nc = Dataset(url)"
     ],
     "language": "python",
     "metadata": {},
     "outputs": [],
     "prompt_number": 24
    },
    {
     "cell_type": "code",
     "collapsed": false,
     "input": [
      "formula_terms = lambda v: v is not None\n",
      "\n",
      "var = nc.get_variables_by_attributes(formula_terms=formula_terms)[0]\n",
      "\n",
      "formula_terms = var.formula_terms\n",
      "formula_terms"
     ],
     "language": "python",
     "metadata": {},
     "outputs": [
      {
       "metadata": {},
       "output_type": "pyout",
       "prompt_number": 25,
       "text": [
        "u's: s_rho C: Cs_r eta: zeta depth: h depth_c: hc'"
       ]
      }
     ],
     "prompt_number": 25
    },
    {
     "cell_type": "code",
     "collapsed": false,
     "input": [
      "if nc.dimensions.get(var.name):\n",
      "    print(\"Hurray I am a coordinate variable!\")"
     ],
     "language": "python",
     "metadata": {},
     "outputs": [
      {
       "output_type": "stream",
       "stream": "stdout",
       "text": [
        "Hurray I am a coordinate variable!\n"
       ]
      }
     ],
     "prompt_number": 32
    },
    {
     "cell_type": "code",
     "collapsed": false,
     "input": [
      "import re\n",
      "\n",
      "if re.search(\"^([a-zA-Z0-9_]+: +[a-zA-Z0-9_]+( +)?)*$\", formula_terms):\n",
      "    print(\"And I have a valid `formula_terms`!\")"
     ],
     "language": "python",
     "metadata": {},
     "outputs": [
      {
       "output_type": "stream",
       "stream": "stdout",
       "text": [
        "And I have a valid `formula_terms`!\n"
       ]
      }
     ],
     "prompt_number": 39
    },
    {
     "cell_type": "code",
     "collapsed": false,
     "input": [
      "for x in formula_terms.split():\n",
      "    if not re.search(\"^[a-zA-Z0-9_]+:$\", x):\n",
      "        if x in nc.variables.keys():\n",
      "            print(\"{} is present in the file!\".format(x))"
     ],
     "language": "python",
     "metadata": {},
     "outputs": [
      {
       "output_type": "stream",
       "stream": "stdout",
       "text": [
        "s_rho is present in the file!\n",
        "Cs_r is present in the file!\n",
        "zeta is present in the file!\n",
        "h is present in the file!\n",
        "hc is present in the file!\n"
       ]
      }
     ],
     "prompt_number": 46
    },
    {
     "cell_type": "code",
     "collapsed": false,
     "input": [
      "formulas = dict()\n",
      "\n",
      "formulas['atmosphere_ln_pressure_coordinate']=['p(k)=p0*exp(-lev(k))']\n",
      "formulas['sigma']=['p(n,k,j,i)=ptop+sigma(k)*(ps(n,j,i)-ptop)']\n",
      "formulas['hybrid_sigma_pressure']=['p(n,k,j,i)=a(k)*p0+b(k)*ps(n,j,i)',\n",
      "                                   'p(n,k,j,i)=ap(k)+b(k)*ps(n,j,i)']\n",
      "formulas['atmosphere_hybrid_height_coordinate']=['z(n,k,j,i)=a(k)+b(k)*orog(n,j,i)']\n",
      "formulas['ocean_sigma_coordinate']=['z(n,k,j,i)=eta(n,j,i)+sigma(k)*(depth(j,i)+eta(n,j,i))']\n",
      "formulas['ocean_s_coordinate']=['z(n,k,j,i)=eta(n,j,i)*(1+s(k))+depth_c*s(k)+(depth(j,i)-depth_c)*C(k)',\n",
      "                                'C(k)=(1-b)*sinh(a*s(k))/sinh(a)+b*[tanh(a*(s(k)+0.5))/(2*tanh(0.5*a))-0.5]']\n",
      "formulas['ocean_sigma_z_coordinate']=['z(n,k,j,i)=eta(n,j,i)+sigma(k)*(min(depth_c,depth(j,i))+eta(n,j,i))',\n",
      "                                      'z(n,k,j,i)=zlev(k)']\n",
      "formulas['ocean_double_sigma_coordinate']=['z(k,j,i)=sigma(k)*f(j,i)',\n",
      "                                           'z(k,j,i)=f(j,i)+(sigma(k)-1)*(depth(j,i)-f(j,i))',\n",
      "                                           'f(j,i)=0.5*(z1+z2)+0.5*(z1-z2)*tanh(2*a/(z1-z2)*(depth(j,i)-href))']\n",
      "formulas['ocean_s_coordinate_g1'] = ['z(n,k,j,i)=S(k,j,i)+eta(n,j,i)*(1+S(k,j,i)/depth(j,i))',\n",
      "                                     'S(k,j,i)=depth_c*s(k)+(depth(j,i)-depth_c)*C(k)']\n",
      "formulas['ocean_s_coordinate_g2'] = ['z(n,k,j,i)=eta(n,j,i)+(eta(n,j,i)+depth(j,i))*S(k,j,i)',\n",
      "                                     'S(k,j,i)=(depth_c*s(k)+depth(j,i)*C(k))/(depth_c+depth(j,i))']"
     ],
     "language": "python",
     "metadata": {},
     "outputs": [],
     "prompt_number": 62
    },
    {
     "cell_type": "code",
     "collapsed": false,
     "input": [
      "x = 's:'\n",
      "\n",
      "x = re.sub(':', '', x)\n",
      "x\n",
      "\n",
      "for formula in formulas[var.standard_name]:\n",
      "    if x in formula:\n",
      "        print(True)"
     ],
     "language": "python",
     "metadata": {},
     "outputs": [
      {
       "output_type": "stream",
       "stream": "stdout",
       "text": [
        "True\n"
       ]
      }
     ],
     "prompt_number": 65
    },
    {
     "cell_type": "code",
     "collapsed": false,
     "input": [
      "HTML(html)"
     ],
     "language": "python",
     "metadata": {},
     "outputs": [
      {
       "html": [
        "\n",
        "<small>\n",
        "<p> This post was written as an IPython notebook.  It is available for\n",
        "<a href=\"http://ocefpaf.github.com/python4oceanographers/downloads/\n",
        "notebooks/2015-10-05-xml.ipynb\">download</a> or as a static\n",
        "<a href=\"http://nbviewer.ipython.org/url/ocefpaf.github.com/\n",
        "python4oceanographers/downloads/notebooks/2015-10-05-xml.ipynb\">html</a>.</p>\n",
        "<p></p>\n",
        "<a rel=\"license\" href=\"http://creativecommons.org/licenses/by-sa/4.0/\"><img\n",
        "alt=\"Creative Commons License\" style=\"border-width:0\"\n",
        "src=\"http://i.creativecommons.org/l/by-sa/4.0/88x31.png\" /></a><br /><span\n",
        "xmlns:dct=\"http://purl.org/dc/terms/\"\n",
        "property=\"dct:title\">python4oceanographers</span> by <a\n",
        "xmlns:cc=\"http://creativecommons.org/ns#\" href=\"http://ocefpaf.github.io/\"\n",
        "property=\"cc:attributionName\" rel=\"cc:attributionURL\">Filipe Fernandes</a> is\n",
        "licensed under a <a rel=\"license\"\n",
        "href=\"http://creativecommons.org/licenses/by-sa/4.0/\">Creative Commons\n",
        "Attribution-ShareAlike 4.0 International License</a>.<br />Based on a work at <a\n",
        "xmlns:dct=\"http://purl.org/dc/terms/\" href=\"http://ocefpaf.github.io/\"\n",
        "rel=\"dct:source\">http://ocefpaf.github.io/</a>.\n",
        " "
       ],
       "metadata": {},
       "output_type": "pyout",
       "prompt_number": 11,
       "text": [
        "<IPython.core.display.HTML at 0x7fbadd7d3810>"
       ]
      }
     ],
     "prompt_number": 11
    }
   ],
   "metadata": {}
  }
 ]
}