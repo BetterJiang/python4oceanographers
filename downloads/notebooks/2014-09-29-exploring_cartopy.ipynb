{
 "metadata": {
  "kernelspec": {
   "codemirror_mode": {
    "name": "ipython",
    "version": 3
   },
   "display_name": "Iris (Python 2)",
   "language": "python",
   "name": "iris_python2"
  },
  "name": "",
  "signature": "sha256:b5df478594628a8e08abb24195aba066de53bea6c6c3a27bc3fcab9dd255284d"
 },
 "nbformat": 3,
 "nbformat_minor": 0,
 "worksheets": [
  {
   "cells": [
    {
     "cell_type": "code",
     "collapsed": false,
     "input": [
      "import os\n",
      "from IPython.core.display import HTML\n",
      "\n",
      "with open('creative_commons.txt', 'r') as f:\n",
      "    html = f.read()\n",
      "    \n",
      "with open('./styles/custom.css', 'r') as f:\n",
      "    styles = f.read()\n",
      "    \n",
      "HTML(styles)\n",
      "\n",
      "name = '2014-09-29-exploring_cartopy'\n",
      "\n",
      "html = \"\"\"\n",
      "<small>\n",
      "<p> This post was written as an IPython notebook.  It is available for\n",
      "<a href=\"http://ocefpaf.github.com/python4oceanographers/downloads/\n",
      "notebooks/%s.ipynb\">download</a> or as a static\n",
      "<a href=\"http://nbviewer.ipython.org/url/ocefpaf.github.com/\n",
      "python4oceanographers/downloads/notebooks/%s.ipynb\">html</a>.</p>\n",
      "<p></p>\n",
      "%s \"\"\" % (name, name, html)"
     ],
     "language": "python",
     "metadata": {},
     "outputs": []
    },
    {
     "cell_type": "code",
     "collapsed": false,
     "input": [
      "%matplotlib inline\n",
      "\n",
      "from datetime import datetime\n",
      "\n",
      "title = \"Exploring what's new in Cartopy\"\n",
      "hour = datetime.utcnow().strftime('%H:%M')\n",
      "comments=\"true\"\n",
      "\n",
      "date = '-'.join(name.split('-')[:3])\n",
      "slug = '-'.join(name.split('-')[3:])\n",
      "\n",
      "metadata = dict(title=title,\n",
      "                date=date,\n",
      "                hour=hour,\n",
      "                comments=comments,\n",
      "                slug=slug,\n",
      "                name=name)\n",
      "\n",
      "markdown = \"\"\"Title: {title}\n",
      "date:  {date} {hour}\n",
      "comments: {comments}\n",
      "slug: {slug}\n",
      "\n",
      "{{% notebook {name}.ipynb cells[2:] %}}\n",
      "\"\"\".format(**metadata)\n",
      "\n",
      "content = os.path.abspath(os.path.join(os.getcwd(), os.pardir, os.pardir, '{}.md'.format(name)))\n",
      "with open('{}'.format(content), 'w') as f:\n",
      "    f.writelines(markdown)"
     ],
     "language": "python",
     "metadata": {},
     "outputs": []
    },
    {
     "cell_type": "code",
     "collapsed": false,
     "input": [
      "import cartopy.crs as ccrs\n",
      "import matplotlib.pyplot as plt\n",
      "from cartopy.mpl.gridliner import LONGITUDE_FORMATTER, LATITUDE_FORMATTER\n",
      "\n",
      "\n",
      "def plot_wmts(layer_name='BlueMarble_NextGeneration', extent=[-42, -35, -15, -10]):\n",
      "    subplot_kw = dict(projection=ccrs.PlateCarree())\n",
      "    fig, ax = plt.subplots(subplot_kw=subplot_kw)\n",
      "    url = 'http://map1c.vis.earthdata.nasa.gov/wmts-geo/wmts.cgi'\n",
      "    ax.set_extent(extent)\n",
      "    ax.add_wmts(url, layer_name)\n",
      "    ax.set_title(layer_name)\n",
      "    gl = ax.gridlines(draw_labels=True)\n",
      "    gl.xlabels_top = gl.ylabels_right = False\n",
      "    gl.xformatter = LONGITUDE_FORMATTER\n",
      "    gl.yformatter = LATITUDE_FORMATTER\n",
      "    return fig, ax"
     ],
     "language": "python",
     "metadata": {},
     "outputs": []
    },
    {
     "cell_type": "code",
     "collapsed": false,
     "input": [
      "layers = ['BlueMarble_NextGeneration', 'VIIRS_CityLights_2012',\n",
      "          'Reference_Features', 'Sea_Surface_Temp_Blended', 'MODIS_Terra_Aerosol',\n",
      "          'Coastlines', 'BlueMarble_ShadedRelief', 'BlueMarble_ShadedRelief_Bathymetry']\n",
      "\n",
      "figs = [plot_wmts(layer_name=layer_name) for layer_name in layers]"
     ],
     "language": "python",
     "metadata": {},
     "outputs": []
    },
    {
     "cell_type": "markdown",
     "metadata": {},
     "source": [
      "# Blue Marble Shaded Relief Bathymetry"
     ]
    },
    {
     "cell_type": "code",
     "collapsed": false,
     "input": [
      "lon = -(50 +  5/60. + 22/60./60.)\n",
      "lat = -( 0 + 42/60. + 28/60./60.)\n",
      "dx = dy = 5\n",
      "\n",
      "fig, ax = plot_wmts(layer_name='BlueMarble_ShadedRelief_Bathymetry', extent=[lon-dx, lon+dx, lat-dy, lat+dy])\n",
      "ax.set_title(\"Delta do Amazonas\")\n",
      "fig.set_size_inches(9, 7)"
     ],
     "language": "python",
     "metadata": {},
     "outputs": []
    },
    {
     "cell_type": "code",
     "collapsed": false,
     "input": [
      "lon = -(89 + 15/60. + 12/60./60.)\n",
      "lat =   29 +  9/60. +  4/60./60.\n",
      "dx = dy = 5\n",
      "\n",
      "fig, ax = plot_wmts(layer_name='BlueMarble_ShadedRelief_Bathymetry', extent=[lon-dx, lon+dx, lat-dy, lat+dy])\n",
      "ax.set_title(\"Mississippi\")\n",
      "fig.set_size_inches(9, 7)"
     ],
     "language": "python",
     "metadata": {},
     "outputs": []
    },
    {
     "cell_type": "code",
     "collapsed": false,
     "input": [
      "lon = -(55 + 47/60.)\n",
      "lat = -(35 + 40/60.)\n",
      "dx = dy = 5\n",
      "\n",
      "fig, ax = plot_wmts(layer_name='BlueMarble_ShadedRelief_Bathymetry', extent=[lon-dx, lon+dx, lat-dy, lat+dy])\n",
      "ax.set_title(\"Rio da Prata\")\n",
      "fig.set_size_inches(9, 7)"
     ],
     "language": "python",
     "metadata": {},
     "outputs": []
    },
    {
     "cell_type": "code",
     "collapsed": false,
     "input": [
      "lon =  (12 + 27/60.)\n",
      "lat = -( 6 +  4/60. + 45/60.)\n",
      "dx = dy = 5\n",
      "\n",
      "fig, ax = plot_wmts(layer_name='BlueMarble_ShadedRelief_Bathymetry', extent=[lon-dx, lon+dx, lat-dy, lat+dy])\n",
      "ax.set_title(\"Congo\")\n",
      "fig.set_size_inches(9, 7)"
     ],
     "language": "python",
     "metadata": {},
     "outputs": []
    },
    {
     "cell_type": "code",
     "collapsed": false,
     "input": [
      "lon = (90 + 50/60.)\n",
      "lat = (22 +  5/60.)\n",
      "dx = dy = 5\n",
      "\n",
      "fig, ax = plot_wmts(layer_name='BlueMarble_ShadedRelief_Bathymetry', extent=[lon-dx, lon+dx, lat-dy, lat+dy])\n",
      "ax.set_title(\"Ganges\")\n",
      "fig.set_size_inches(9, 7)"
     ],
     "language": "python",
     "metadata": {},
     "outputs": []
    },
    {
     "cell_type": "code",
     "collapsed": false,
     "input": [
      "lon = (67 + 25/60. + 51/60./60.)\n",
      "lat = (23 + 59/60. + 40/60./60)\n",
      "dx = dy = 5\n",
      "\n",
      "fig, ax = plot_wmts(layer_name='BlueMarble_ShadedRelief_Bathymetry', extent=[lon-dx, lon+dx, lat-dy, lat+dy])\n",
      "ax.set_title(\"Indus\")\n",
      "fig.set_size_inches(9, 7)"
     ],
     "language": "python",
     "metadata": {},
     "outputs": []
    },
    {
     "cell_type": "code",
     "collapsed": false,
     "input": [
      "HTML(html)"
     ],
     "language": "python",
     "metadata": {},
     "outputs": []
    }
   ],
   "metadata": {}
  }
 ]
}