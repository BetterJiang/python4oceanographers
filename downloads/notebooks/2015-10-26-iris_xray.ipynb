{
 "metadata": {
  "name": "",
  "signature": "sha256:b1f3c8103aa8adab30fd37d386acb50a9993a8b783b1b2c3c38df9c8ffa9a4ba"
 },
 "nbformat": 3,
 "nbformat_minor": 0,
 "worksheets": [
  {
   "cells": [
    {
     "cell_type": "code",
     "collapsed": false,
     "input": [
      "name = '2015-10-26-iris_xray'\n",
      "\n",
      "title = \"Why I am not in the xray wagon (yet)\"\n",
      "\n",
      "import warnings\n",
      "\n",
      "import iris\n",
      "warnings.simplefilter(\"ignore\")\n",
      "iris.FUTURE.netcdf_promote = True\n",
      "iris.FUTURE.cell_datetime_objects = True"
     ],
     "language": "python",
     "metadata": {},
     "outputs": []
    },
    {
     "cell_type": "code",
     "collapsed": false,
     "input": [
      "%matplotlib inline\n",
      "\n",
      "import os\n",
      "import seaborn\n",
      "from datetime import datetime\n",
      "from IPython.core.display import HTML\n",
      "\n",
      "with open('creative_commons.txt', 'r') as f:\n",
      "    html = f.read()\n",
      "\n",
      "\n",
      "hour = datetime.utcnow().strftime('%H:%M')\n",
      "comments=\"true\"\n",
      "\n",
      "\n",
      "date = '-'.join(name.split('-')[:3])\n",
      "slug = '-'.join(name.split('-')[3:])\n",
      "\n",
      "metadata = dict(title=title,\n",
      "                date=date,\n",
      "                hour=hour,\n",
      "                comments=comments,\n",
      "                slug=slug,\n",
      "                name=name)\n",
      "\n",
      "markdown = \"\"\"Title: {title}\n",
      "date:  {date} {hour}\n",
      "comments: {comments}\n",
      "slug: {slug}\n",
      "\n",
      "{{% notebook {name}.ipynb cells[2:] %}}\n",
      "\"\"\".format(**metadata)\n",
      "\n",
      "content = os.path.abspath(os.path.join(os.getcwd(),\n",
      "                                       os.pardir,\n",
      "                                       os.pardir, \n",
      "                                       '{}.md'.format(name)))\n",
      "with open('{}'.format(content), 'w') as f:\n",
      "    f.writelines(markdown)\n",
      "    \n",
      "with open('./styles/custom.css', 'r') as f:\n",
      "    styles = f.read()\n",
      "\n",
      "\n",
      "html = \"\"\"\n",
      "<small>\n",
      "<p> This post was written as an IPython notebook.  It is available for\n",
      "<a href=\"http://ocefpaf.github.com/python4oceanographers/downloads/\n",
      "notebooks/%s.ipynb\">download</a> or as a static\n",
      "<a href=\"http://nbviewer.ipython.org/url/ocefpaf.github.com/\n",
      "python4oceanographers/downloads/notebooks/%s.ipynb\">html</a>.</p>\n",
      "<p></p>\n",
      "%s \"\"\" % (name, name, html)\n",
      "\n",
      "\n",
      "HTML(styles)"
     ],
     "language": "python",
     "metadata": {},
     "outputs": []
    },
    {
     "cell_type": "markdown",
     "metadata": {},
     "source": [
      "Daniel Rothenberg wrote [here](http://danielrothenberg.com/abandoning-iris/)\n",
      "some of the reasons why he is abandoning iris.  It is easy to understand why.\n",
      "Specially if you look at these times:"
     ]
    },
    {
     "cell_type": "code",
     "collapsed": false,
     "input": [
      "import iris\n",
      "import xray\n",
      "from netCDF4 import Dataset\n",
      "\n",
      "url = ('http://thredds.cdip.ucsd.edu/thredds/dodsC/'\n",
      "       'cdip/archive/144p1/144p1_historic.nc')"
     ],
     "language": "python",
     "metadata": {},
     "outputs": []
    },
    {
     "cell_type": "code",
     "collapsed": false,
     "input": [
      "%%timeit\n",
      "\n",
      "cubes = iris.load_raw(url)"
     ],
     "language": "python",
     "metadata": {},
     "outputs": []
    },
    {
     "cell_type": "code",
     "collapsed": false,
     "input": [
      "%%timeit\n",
      "\n",
      "ds = xray.open_dataset(url)"
     ],
     "language": "python",
     "metadata": {},
     "outputs": []
    },
    {
     "cell_type": "code",
     "collapsed": false,
     "input": [
      "%%timeit\n",
      "\n",
      "cube = iris.load_raw(url)"
     ],
     "language": "python",
     "metadata": {},
     "outputs": []
    },
    {
     "cell_type": "markdown",
     "metadata": {},
     "source": [
      "More than 7 seconds is way too much for a packages named\n",
      "[iris](https://en.wikipedia.org/wiki/Iris_%28mythology%29)\n",
      ".  `Xray` does an OK job with\n",
      "~3 seconds, but both lost by a huge different from the raw `netCDF4-python`\n",
      "interface (<1 s). There is no question that if you are building an\n",
      "application you, sadly, must use `netCDF4-python`.  But we must ask: what is\n",
      "the reason behind such slow times?\n",
      "\n",
      "I did not run a proper profiling, but I can guess that the creation of the\n",
      "higher level object is the price we pay in both `iris` and `xray`.  So the\n",
      "real question is: is it worth paying such a high price for the `cube` object?\n",
      "\n",
      "The answer is... drum roll... it depends!\n",
      "\n",
      "If you are dealing with [CF-1.6](http://cfconventions.org/) data `xray` can\n",
      "be a problem.  For example,"
     ]
    },
    {
     "cell_type": "code",
     "collapsed": false,
     "input": [
      "import numpy as np\n",
      "\n",
      "data = np.random.rand(4)\n",
      "foo = xray.DataArray(data)\n",
      "foo.attrs['units'] = 'Coconuts'\n",
      "foo"
     ],
     "language": "python",
     "metadata": {},
     "outputs": []
    },
    {
     "cell_type": "code",
     "collapsed": false,
     "input": [
      "try:\n",
      "    iris.cube.Cube(data, units='Coconuts')\n",
      "except ValueError as e:\n",
      "    print(e)"
     ],
     "language": "python",
     "metadata": {},
     "outputs": []
    },
    {
     "cell_type": "markdown",
     "metadata": {},
     "source": [
      "Iris is CF-compliant from all the way!  That is a big help for modern\n",
      "scientist who must load/save data in CF but do not have the time to read the\n",
      "CF documentation and implement the conventions.\n",
      "\n",
      "Below is an example of reading a `csv` and saving it as a CF compliant file\n",
      "using iris."
     ]
    },
    {
     "cell_type": "code",
     "collapsed": false,
     "input": [
      "from  pandas import read_csv, concat\n",
      "\n",
      "url = 'http://www.cpc.ncep.noaa.gov/products/precip/CWlink/'\n",
      "\n",
      "ao_file = url + 'daily_ao_index/monthly.ao.index.b50.current.ascii'\n",
      "nao_file = url + 'pna/norm.nao.monthly.b5001.current.ascii'\n",
      "\n",
      "kw = dict(sep='\\s*', parse_dates={'dates': [0, 1]},\n",
      "          header=None, index_col=0, squeeze=True, engine='python')\n",
      "\n",
      "s1 = read_csv(ao_file, **kw)\n",
      "s2 = read_csv(nao_file, **kw)\n",
      "\n",
      "s1.name = 'AO'\n",
      "s2.name = 'NAO'\n",
      "\n",
      "df = concat([s1, s2], axis=1)\n",
      "\n",
      "df.head()"
     ],
     "language": "python",
     "metadata": {},
     "outputs": []
    },
    {
     "cell_type": "code",
     "collapsed": false,
     "input": [
      "import iris\n",
      "from iris.pandas import as_cube\n",
      "\n",
      "\n",
      "def to_cube(series, calendars={1: iris.unit.CALENDAR_GREGORIAN}):\n",
      "    cube = as_cube(series, calendars=calendars)\n",
      "    cube.coord(\"index\").rename(\"time\")\n",
      "    return cube\n",
      "\n",
      "units = iris.unit.Unit('no_unit')\n",
      "metadata = dict(featureType='timeSeries',\n",
      "                Conventions='CF-1.5',\n",
      "                title='AO and NAO',\n",
      "                summary='Arctic and North Atlantic Oscillation Indices')"
     ],
     "language": "python",
     "metadata": {},
     "outputs": []
    },
    {
     "cell_type": "code",
     "collapsed": false,
     "input": [
      "from iris.cube import CubeList\n",
      "\n",
      "cubes  = CubeList([to_cube(s1), to_cube(s2)])\n",
      "\n",
      "cubes[0].attributes = metadata\n",
      "cubes[1].attributes = metadata\n",
      "\n",
      "cubes[0].units = units\n",
      "cubes[1].units = units\n",
      "\n",
      "cubes[0].long_name = 'Arctic Oscillation'\n",
      "cubes[1].long_name = 'North Atlantic Oscillation'"
     ],
     "language": "python",
     "metadata": {},
     "outputs": []
    },
    {
     "cell_type": "code",
     "collapsed": false,
     "input": [
      "iris.FUTURE.netcdf_no_unlimited=True\n",
      "\n",
      "iris.save(cubes, './data/ao_and_nao.nc', )\n",
      "\n",
      "cubes = iris.load('./data/ao_and_nao.nc')\n",
      "\n",
      "print(cubes)"
     ],
     "language": "python",
     "metadata": {},
     "outputs": []
    },
    {
     "cell_type": "code",
     "collapsed": false,
     "input": [
      "print(cubes[0])"
     ],
     "language": "python",
     "metadata": {},
     "outputs": []
    },
    {
     "cell_type": "markdown",
     "metadata": {},
     "source": [
      "See [this](https://gist.github.com/ocefpaf/f5d6f667da41a5e620bc) notebook for a more complex example.\n",
      "\n",
      "\n",
      "Another advantage of iris is the proper interpretation of the `formula_terms`.\n",
      "That means we will get all the derived variables for free."
     ]
    },
    {
     "cell_type": "code",
     "collapsed": false,
     "input": [
      "import warnings\n",
      "\n",
      "url = (\"http://dm2.caricoos.org/thredds/dodsC/\"\n",
      "       \"content/roms/20150324/r1/ocean_his_0121.nc\")\n",
      "\n",
      "with warnings.catch_warnings():\n",
      "    warnings.simplefilter(\"ignore\")\n",
      "    cube = iris.load_cube(url, 'salinity')"
     ],
     "language": "python",
     "metadata": {},
     "outputs": []
    },
    {
     "cell_type": "code",
     "collapsed": false,
     "input": [
      "import matplotlib.pyplot as plt\n",
      "\n",
      "\n",
      "def plot_profile(cube):\n",
      "    coord = cube.coord('sea_surface_height_above_reference_ellipsoid')\n",
      "    lon = cube.coord(axis='X').points.squeeze()\n",
      "    lat = cube.coord(axis='Y').points.squeeze()\n",
      "    depth = coord.points.min()\n",
      "    \n",
      "    fig, ax = plt.subplots(figsize=(5, 6))\n",
      "    kw = dict(linewidth=2,  color=(.3, .4, .5),\n",
      "              alpha=0.75, marker='o', label='iris')\n",
      "    ax.plot(cube.data, coord.points, **kw)\n",
      "    ax.grid()\n",
      "    ax.set_ylabel('{} ({})'.format(coord.standard_name, coord.units))\n",
      "    ax.set_xlabel('{} ({})'.format(cube.name(), cube.units))\n",
      "    ax.set_title('lon: {}\\nlat: {}\\nMax depth = {}'.format(lon, lat, depth))\n",
      "    return fig, ax"
     ],
     "language": "python",
     "metadata": {},
     "outputs": []
    },
    {
     "cell_type": "code",
     "collapsed": false,
     "input": [
      "fig, ax = plot_profile(cube[0, :, 30, 80])\n",
      "ax.set_title(\"Depth [m]\")"
     ],
     "language": "python",
     "metadata": {},
     "outputs": []
    },
    {
     "cell_type": "markdown",
     "metadata": {},
     "source": [
      "Iris can convert automagically *atmosphere_hybrid_height_coordinate*,\n",
      "*atmosphere_hybrid_sigma_pressure_coordinate*, *atmosphere_sigma_coordinate*,\n",
      "*atmosphere_sleve_coordinate*, *ocean_s_coordinate*, *ocean_s_coordinate_g1*,\n",
      "*ocean_s_coordinate_g2*, *ocean_sigma_coordinate*, and\n",
      "*ocean_sigma_z_coordinate*.\n",
      "\n",
      "The CF compliance and high level CDM features make it easy to load and\n",
      "process models from very different models with little custom code.  Here is\n",
      "an example of for reading Sea Surface Height (SSH) from 3 different models. \n",
      "Including one that is not CF-compliant!  Iris allows us to \"patch it\" during\n",
      "load time."
     ]
    },
    {
     "cell_type": "code",
     "collapsed": false,
     "input": [
      "cf_name_list = ['water level',\n",
      "                'sea_surface_height',\n",
      "                'sea_surface_elevation',\n",
      "                'sea_surface_height_above_geoid',\n",
      "                'sea_surface_height_above_sea_level',\n",
      "                'water_surface_height_above_reference_datum',\n",
      "                'sea_surface_height_above_reference_ellipsoid']\n",
      "\n",
      "\n",
      "models = dict({'COAWST': 'http://geoport.whoi.edu/thredds/dodsC/coawst_4/use/'\n",
      "               'fmrc/coawst_4_use_best.ncd',\n",
      "               'HYCOM': 'http://ecowatch.ncddc.noaa.gov/thredds/dodsC/hycom/'\n",
      "               'hycom_reg1_agg/HYCOM_Region_1_Aggregation_best.ncd',\n",
      "               'NYHOP': 'http://colossus.dl.stevens-tech.edu/thredds/dodsC/'\n",
      "               'fmrc/NYBight/'\n",
      "               'NYHOPS_Forecast_Collection_for_the_New_York_Bight_best.ncd'})"
     ],
     "language": "python",
     "metadata": {},
     "outputs": []
    },
    {
     "cell_type": "code",
     "collapsed": false,
     "input": [
      "from datetime import datetime, timedelta\n",
      "\n",
      "from iris.unit import Unit\n",
      "\n",
      "units = Unit('m')\n",
      "\n",
      "lon, lat = -73.2, 39.6\n",
      "\n",
      "stop = datetime.utcnow()\n",
      "start = stop - timedelta(days=14)\n",
      "bbox = [-85, 25, -70, 42]"
     ],
     "language": "python",
     "metadata": {},
     "outputs": []
    },
    {
     "cell_type": "code",
     "collapsed": false,
     "input": [
      "from iris.pandas import as_series\n",
      "from utilities import quick_load_cubes, proc_cube, make_tree, get_nearest_water\n",
      "\n",
      "\n",
      "def hycom_callback(cube, field, filename):\n",
      "    \"\"\"Fix non-CF metadata.\"\"\"\n",
      "    if cube.name() == \"Water Surface Elevation\":\n",
      "        cube.standard_name = 'sea_surface_elevation'\n",
      "    return cube\n",
      "\n",
      "series = dict()\n",
      "for model, url in models.items():\n",
      "    if model == 'HYCOM':\n",
      "        callback = hycom_callback\n",
      "    else:\n",
      "        callback = None\n",
      "\n",
      "    cube = quick_load_cubes(url, name_list=cf_name_list,\n",
      "                            callback=callback, strict=True)\n",
      "    cube = proc_cube(cube, bbox=bbox,\n",
      "                     time=(start, stop), units=units)\n",
      "\n",
      "    kw = dict(k=10, max_dist=0.045, min_var=0.01)\n",
      "    tree, model_lon, model_lat = make_tree(cube)\n",
      "    args = cube, tree, lon, lat\n",
      "    cube, dist, idx = get_nearest_water(*args, **kw)\n",
      "\n",
      "    serie = as_series(cube)\n",
      "    series.update({model: serie})"
     ],
     "language": "python",
     "metadata": {},
     "outputs": []
    },
    {
     "cell_type": "code",
     "collapsed": false,
     "input": [
      "from pandas import DataFrame\n",
      "import matplotlib.pyplot as plt\n",
      "from matplotlib import style\n",
      "style.use('ggplot')\n",
      "\n",
      "df = DataFrame.from_dict(series).interpolate(limit=15)\n",
      "fig, ax = plt.subplots(figsize=(14, 3.25))\n",
      "ax = df.plot(ax=ax)\n",
      "_ = ax.legend(loc='center left', bbox_to_anchor=(1.0, 0.5))"
     ],
     "language": "python",
     "metadata": {},
     "outputs": []
    },
    {
     "cell_type": "markdown",
     "metadata": {},
     "source": [
      "If you work with only one type of model, or know all the variable names of\n",
      "all the models, `xray` will do just fine.  Otherwise you'll find yourself\n",
      "spending a lot of time digging for variable names in the metadata. On the\n",
      "other hand, if the only information you have is that the models are\n",
      "CF-compliant, then iris is the way to go.\n",
      "\n",
      "The cells below show another example on how to load temperature.  First let's \n",
      "define a plotting function."
     ]
    },
    {
     "cell_type": "code",
     "collapsed": false,
     "input": [
      "import numpy as np\n",
      "import numpy.ma as ma\n",
      "import cartopy.crs as ccrs\n",
      "import matplotlib.tri as tri\n",
      "import matplotlib.pyplot as plt\n",
      "\n",
      "from scipy.spatial import Delaunay\n",
      "from tardis import time_coord, get_surface, get_surface_idx\n",
      "from cartopy.feature import NaturalEarthFeature, COLORS\n",
      "from cartopy.mpl.gridliner import LONGITUDE_FORMATTER, LATITUDE_FORMATTER\n",
      "\n",
      "LAND = NaturalEarthFeature('physical', 'land', '10m', edgecolor='face',\n",
      "                           facecolor=COLORS['land'])\n",
      "\n",
      "\n",
      "def get_bbox(cube):\n",
      "    xmin = cube.coord(axis='X').points.min()\n",
      "    xmax = cube.coord(axis='X').points.max()\n",
      "    ymin = cube.coord(axis='Y').points.min()\n",
      "    ymax = cube.coord(axis='Y').points.max()\n",
      "    return [xmin, xmax, ymin, ymax]\n",
      "\n",
      "\n",
      "def plot_surface(cube, model='', unstructure=False, **kw):\n",
      "    projection = kw.pop('projection', ccrs.PlateCarree())\n",
      "    figsize = kw.pop('figsize', (8, 6))\n",
      "    cmap = kw.pop('cmap', plt.cm.rainbow)\n",
      "\n",
      "    fig, ax = plt.subplots(figsize=figsize,\n",
      "                           subplot_kw=dict(projection=projection))\n",
      "    ax.set_extent(get_bbox(cube))\n",
      "    ax.add_feature(LAND)\n",
      "    ax.coastlines(resolution='10m')\n",
      "    gl = ax.gridlines(draw_labels=True)\n",
      "    gl.xlabels_top = gl.ylabels_right = False\n",
      "    gl.xformatter = LONGITUDE_FORMATTER\n",
      "    gl.yformatter = LATITUDE_FORMATTER\n",
      "\n",
      "    idx = get_surface_idx(cube)\n",
      "    c = get_surface(cube)\n",
      "    c.data = ma.masked_invalid(c.data)\n",
      "    t = time_coord(cube)\n",
      "    t = t.units.num2date(t.points)[0]\n",
      "    if unstructure:\n",
      "        lon = cube.coord(axis='X').points\n",
      "        lat = cube.coord(axis='Y').points\n",
      "        nv = Delaunay(np.c_[lon, lat]).vertices\n",
      "        triang = tri.Triangulation(lon, lat, triangles=nv)\n",
      "        cs = ax.tricontourf(triang, c.data, cmap=cmap, **kw)\n",
      "    else:\n",
      "        cs = ax.pcolormesh(c.coord(axis='X').points,\n",
      "                           c.coord(axis='Y').points,\n",
      "                           c.data, cmap=cmap, **kw)\n",
      "    title = (model, t, c.name(), idx)\n",
      "    ax.set_title('{}: {}\\nVariable: {} level: {}'.format(*title))\n",
      "    return fig, ax, cs"
     ],
     "language": "python",
     "metadata": {},
     "outputs": []
    },
    {
     "cell_type": "code",
     "collapsed": false,
     "input": [
      "cf_name_list = ['sea_water_temperature',\n",
      "                'sea_surface_temperature',\n",
      "                'sea_water_potential_temperature',\n",
      "                'sea_water_conservative_temperature']\n",
      "\n",
      "start = datetime.utcnow() - timedelta(days=7)\n",
      "\n",
      "bbox = [-76.4751, 38.3890, -71.7432, 42.9397]\n",
      "\n",
      "units = Unit('Celsius')\n",
      "\n",
      "models = dict({'ROMS':\n",
      "               'http://tds.marine.rutgers.edu/thredds/dodsC/roms/espresso/'\n",
      "               '2013_da/his_Best/'\n",
      "               'ESPRESSO_Real-Time_v2_History_Best_Available_best.ncd',\n",
      "               'COAWST': 'http://geoport.whoi.edu/thredds/dodsC/coawst_4/use/'\n",
      "               'fmrc/coawst_4_use_best.ncd',\n",
      "               'HYCOM': 'http://ecowatch.ncddc.noaa.gov/thredds/dodsC/hycom/'\n",
      "               'hycom_reg1_agg/HYCOM_Region_1_Aggregation_best.ncd',\n",
      "               'NYHOP': 'http://colossus.dl.stevens-tech.edu/thredds/dodsC/'\n",
      "               'fmrc/NYBight/'\n",
      "               'NYHOPS_Forecast_Collection_for_the_New_York_Bight_best.ncd',\n",
      "               'FVCOM': 'http://www.smast.umassd.edu:8080/thredds/dodsC/FVCOM/'\n",
      "               'NECOFS/Forecasts/'\n",
      "               'NECOFS_GOM3_FORECAST.nc',\n",
      "               'SELFE': 'http://comt.sura.org/thredds/dodsC/data/'\n",
      "               'comt_1_archive/inundation_tropical/VIMS_SELFE/'\n",
      "               'Hurricane_Ike_2D_final_run_with_waves'})"
     ],
     "language": "python",
     "metadata": {},
     "outputs": []
    },
    {
     "cell_type": "code",
     "collapsed": false,
     "input": [
      "model = 'ROMS'\n",
      "url = models[model]\n",
      "\n",
      "get = dict(name_list=cf_name_list, strict=True)\n",
      "proc = dict(bbox=bbox, time=start, units=units)\n",
      "\n",
      "cube = quick_load_cubes(url, callback=None, **get)\n",
      "cube = proc_cube(cube, **proc)\n",
      "\n",
      "\n",
      "fig, ax, cs = plot_surface(cube, model)\n",
      "cbar = fig.colorbar(cs, extend='both', shrink=0.75)\n",
      "t = cbar.ax.set_title(cube.units)"
     ],
     "language": "python",
     "metadata": {},
     "outputs": []
    },
    {
     "cell_type": "code",
     "collapsed": false,
     "input": [
      "model = 'HYCOM'\n",
      "url = models[model]\n",
      "\n",
      "\n",
      "def callback(cube, field, filename):\n",
      "    \"\"\"Fix non-CF metadata.\"\"\"\n",
      "    if cube.name() == \"Water Surface Elevation\":\n",
      "        cube.standard_name = 'sea_surface_elevation'\n",
      "    return cube\n",
      "\n",
      "cube = quick_load_cubes(url, callback=callback, **get)\n",
      "cube = proc_cube(cube, **proc)\n",
      "\n",
      "fig, ax, cs = plot_surface(cube, model)\n",
      "cbar = fig.colorbar(cs, extend='both', shrink=0.75)\n",
      "t = cbar.ax.set_title(cube.units)"
     ],
     "language": "python",
     "metadata": {},
     "outputs": []
    },
    {
     "cell_type": "code",
     "collapsed": false,
     "input": [
      "model = 'NYHOP'\n",
      "url = models[model]\n",
      "\n",
      "cube = quick_load_cubes(url, callback=None, **get)\n",
      "cube = proc_cube(cube, **proc)\n",
      "\n",
      "fig, ax, cs = plot_surface(cube, model)\n",
      "cbar = fig.colorbar(cs, extend='both', shrink=0.75)\n",
      "t = cbar.ax.set_title(cube.units)"
     ],
     "language": "python",
     "metadata": {},
     "outputs": []
    },
    {
     "cell_type": "code",
     "collapsed": false,
     "input": [
      "model = 'COAWST'\n",
      "url = models[model]\n",
      "\n",
      "cube = quick_load_cubes(url, callback=None, **get)\n",
      "cube = proc_cube(cube, **proc)\n",
      "\n",
      "fig, ax, cs = plot_surface(cube, model)\n",
      "cbar = fig.colorbar(cs, extend='both', shrink=0.75)\n",
      "t = cbar.ax.set_title(cube.units)"
     ],
     "language": "python",
     "metadata": {},
     "outputs": []
    },
    {
     "cell_type": "code",
     "collapsed": false,
     "input": [
      "cubes = iris.load_raw(url)"
     ],
     "language": "python",
     "metadata": {},
     "outputs": []
    },
    {
     "cell_type": "code",
     "collapsed": false,
     "input": [
      "model = 'FVCOM'\n",
      "url = models[model]\n",
      "\n",
      "cube = quick_load_cubes(url, callback=None, **get)\n",
      "cube = proc_cube(cube, **proc)\n",
      "\n",
      "fig, ax, cs = plot_surface(cube, model, unstructure=True)\n",
      "cbar = fig.colorbar(cs, extend='both', shrink=0.75)\n",
      "t = cbar.ax.set_title(cube.units)"
     ],
     "language": "python",
     "metadata": {},
     "outputs": []
    },
    {
     "cell_type": "code",
     "collapsed": false,
     "input": [
      "HTML(html)"
     ],
     "language": "python",
     "metadata": {},
     "outputs": []
    }
   ],
   "metadata": {}
  }
 ]
}