{
 "metadata": {
  "name": "",
  "signature": "sha256:a01ac6bb7bd3459b7b7c833d2af5bf4ba0d3419404781b921979121cbf4e1da1"
 },
 "nbformat": 3,
 "nbformat_minor": 0,
 "worksheets": [
  {
   "cells": [
    {
     "cell_type": "code",
     "collapsed": false,
     "input": [
      "import os\n",
      "from IPython.core.display import HTML\n",
      "\n",
      "with open('creative_commons.txt', 'r') as f:\n",
      "    html = f.read()\n",
      "    \n",
      "with open('./styles/custom.css', 'r') as f:\n",
      "    styles = f.read()\n",
      "    \n",
      "HTML(styles)\n",
      "\n",
      "name = '2014-12-29-iris_ocean_models'\n",
      "\n",
      "html = \"\"\"\n",
      "<small>\n",
      "<p> This post was written as an IPython notebook.  It is available for\n",
      "<a href=\"http://ocefpaf.github.com/python4oceanographers/downloads/\n",
      "notebooks/%s.ipynb\">download</a> or as a static\n",
      "<a href=\"http://nbviewer.ipython.org/url/ocefpaf.github.com/\n",
      "python4oceanographers/downloads/notebooks/%s.ipynb\">html</a>.</p>\n",
      "<p></p>\n",
      "%s \"\"\" % (name, name, html)\n",
      "\n",
      "%matplotlib inline\n",
      "%load_ext tikzmagic\n",
      "\n",
      "from datetime import datetime\n",
      "\n",
      "title = 'How well does iris \"speak\" Ocean Models?'\n",
      "hour = datetime.utcnow().strftime('%H:%M')\n",
      "comments=\"true\"\n",
      "\n",
      "date = '-'.join(name.split('-')[:3])\n",
      "slug = '-'.join(name.split('-')[3:])\n",
      "\n",
      "metadata = dict(title=title,\n",
      "                date=date,\n",
      "                hour=hour,\n",
      "                comments=comments,\n",
      "                slug=slug,\n",
      "                name=name)\n",
      "\n",
      "markdown = \"\"\"Title: {title}\n",
      "date:  {date} {hour}\n",
      "comments: {comments}\n",
      "slug: {slug}\n",
      "\n",
      "{{% notebook {name}.ipynb cells[2:] %}}\n",
      "\"\"\".format(**metadata)\n",
      "\n",
      "content = os.path.abspath(os.path.join(os.getcwd(), os.pardir, os.pardir, '{}.md'.format(name)))\n",
      "with open('{}'.format(content), 'w') as f:\n",
      "    f.writelines(markdown)\n",
      "    \n",
      "\n",
      "import warnings\n",
      "warnings.filterwarnings(\"ignore\")"
     ],
     "language": "python",
     "metadata": {},
     "outputs": [],
     "prompt_number": 10
    },
    {
     "cell_type": "markdown",
     "metadata": {},
     "source": [
      "## The problem\n",
      "\n",
      "Iris is great when loading a `cube` dataset with 1D coordinate mapped\n",
      "to a rectangular \"regular\" grid.  However, how well does iris performance with\n",
      "modern numerical ocean model that use 2D horizontal coordinates?  How about the\n",
      "grids?  Does iris load staggered, unstructured and/or rotated grids?  And the\n",
      "dimensionless vertical coordinates?  Are they build automatically?\n",
      "\n",
      "\n",
      "This post is intended to be a brief summary of what I know about iris.\n",
      "\n",
      "\n",
      "### 2D coordinates\n",
      "To my disappointment 2D coordinates are a second class citizen in iris.\n",
      "The dataset can be loaded, but virtually all methods will fail."
     ]
    },
    {
     "cell_type": "code",
     "collapsed": false,
     "input": [
      "import iris\n",
      "iris.FUTURE.netcdf_promote = True\n",
      "\n",
      "url = 'http://omgsrv1.meas.ncsu.edu:8080/thredds/dodsC/fmrc/'\n",
      "url += 'sabgom/SABGOM_Forecast_Model_Run_Collection_best.ncd'\n",
      "\n",
      "cube = iris.load_cube(url, 'sea_surface_height')"
     ],
     "language": "python",
     "metadata": {},
     "outputs": [],
     "prompt_number": 2
    },
    {
     "cell_type": "code",
     "collapsed": false,
     "input": [
      "print('X and Y dimensions are: {!r}'.format(cube.coord(axis='X').ndim,\n",
      "                                            cube.coord(axis='Y').ndim))"
     ],
     "language": "python",
     "metadata": {},
     "outputs": [
      {
       "output_type": "stream",
       "stream": "stdout",
       "text": [
        "X and Y dimensions are: 2\n"
       ]
      }
     ],
     "prompt_number": 3
    },
    {
     "cell_type": "markdown",
     "metadata": {},
     "source": [
      "(Note the `iris.FUTURE.netcdf_promote = True` that promotes netCDF formula\n",
      " terms to cubes.  This behavior will be default in future versions of iris.\n",
      " For more information on this see\n",
      " [PR 1159](https://github.com/SciTools/iris/pull/1159).)"
     ]
    },
    {
     "cell_type": "code",
     "collapsed": false,
     "input": [
      "from iris import Constraint\n",
      "\n",
      "\n",
      "bbox = [-87.40, 24.25, -74.70, 36.70]\n",
      "lat = Constraint(latitude=lambda cell: bbox[1] <= cell < bbox[3])\n",
      "lon = Constraint(longitude=lambda cell: bbox[0] <= cell <= bbox[2])\n",
      "\n",
      "try:\n",
      "    cube = cube.extract(lon & lat)\n",
      "except Exception as e:\n",
      "    print(e)"
     ],
     "language": "python",
     "metadata": {},
     "outputs": [
      {
       "output_type": "stream",
       "stream": "stdout",
       "text": [
        "Cannot apply constraints to multidimensional coordinates\n"
       ]
      }
     ],
     "prompt_number": 4
    },
    {
     "cell_type": "markdown",
     "metadata": {},
     "source": [
      "This is a work around, that I found in the mailing [list](https://groups.google.com/forum/#!searchin/scitools-iris/def$20minmax/scitools-iris/vnmxzuIN8_Y/ElmxHMW1wuEJ), to extract a subregion with iris:"
     ]
    },
    {
     "cell_type": "code",
     "collapsed": false,
     "input": [
      "import numpy as np\n",
      "from oceans import wrap_lon180\n",
      "\n",
      "\n",
      "minmax = lambda x: (np.min(x), np.max(x))\n",
      "\n",
      "def bbox_extract_2Dcoords(cube, bbox):\n",
      "    \"\"\"Extract a sub-set of a cube inside a lon, lat bounding box\n",
      "    bbox=[lon_min lon_max lat_min lat_max].\n",
      "    NOTE: This is a work around too subset an iris cube that has\n",
      "    2D lon, lat coords.\"\"\"\n",
      "    lons = cube.coord('longitude').points\n",
      "    lats = cube.coord('latitude').points\n",
      "    lons = wrap_lon180(lons)\n",
      "\n",
      "    inregion = np.logical_and(np.logical_and(lons > bbox[0],\n",
      "                                             lons < bbox[2]),\n",
      "                              np.logical_and(lats > bbox[1],\n",
      "                                             lats < bbox[3]))\n",
      "    region_inds = np.where(inregion)\n",
      "    imin, imax = minmax(region_inds[0])\n",
      "    jmin, jmax = minmax(region_inds[1])\n",
      "    return cube[..., imin:imax+1, jmin:jmax+1]\n",
      "\n",
      "sub_cube = bbox_extract_2Dcoords(cube, bbox)\n",
      "\n",
      "print('Original {} and new {} horizontal shapes'.format(cube.shape[1:],\n",
      "                                                        sub_cube.shape[1:]))"
     ],
     "language": "python",
     "metadata": {},
     "outputs": [
      {
       "output_type": "stream",
       "stream": "stdout",
       "text": [
        "Original (320, 440) and new (293, 265) horizontal shapes\n"
       ]
      }
     ],
     "prompt_number": 5
    },
    {
     "cell_type": "markdown",
     "metadata": {},
     "source": [
      "Virtually all iris methods, that have something to do with the horizontal\n",
      "coordinates, will fail and a similar workaround will be necessary.\n",
      "[Here](https://github.com/ioos/secoora/blob/master/notebooks/utilities.py#L463)\n",
      "is another example to use a KDTree to search for nearest points with 2D coords."
     ]
    },
    {
     "cell_type": "markdown",
     "metadata": {},
     "source": [
      "### Unstructured grids\n",
      "\n",
      "Full support for unstructured grids will soon be available via\n",
      "[pyugrid](https://github.com/pyugrid/pyugrid). See PRs\n",
      "[#1359](https://github.com/SciTools/iris/pull/1359) and\n",
      "[#1235](https://github.com/SciTools/iris/pull/1235).\n",
      "\n",
      "Bare in mind that pyugrid is not needed to load, subset, search for points and\n",
      "etc.  Most of the cube high level stuff already works with unstructured grids.\n",
      "You will need to pay special attention when interpolating and plotting though."
     ]
    },
    {
     "cell_type": "code",
     "collapsed": false,
     "input": [
      "url = 'http://crow.marine.usf.edu:8080/thredds/dodsC/FVCOM-Nowcast-Agg.nc'\n",
      "\n",
      "cube = iris.load_cube(url, 'sea_water_temperature')\n",
      "\n",
      "cube = cube[-1, 0, ...]  # Latest time step and surface slice."
     ],
     "language": "python",
     "metadata": {},
     "outputs": [],
     "prompt_number": 6
    },
    {
     "cell_type": "code",
     "collapsed": false,
     "input": [
      "import numpy.ma as ma\n",
      "import matplotlib.tri as tri\n",
      "import matplotlib.pyplot as plt\n",
      "\n",
      "from scipy.spatial import Delaunay\n",
      "\n",
      "import cartopy.crs as ccrs\n",
      "from cartopy.feature import NaturalEarthFeature, COLORS\n",
      "from cartopy.mpl.gridliner import LONGITUDE_FORMATTER, LATITUDE_FORMATTER\n",
      "\n",
      "LAND = NaturalEarthFeature('physical', 'land', '10m', edgecolor='face',\n",
      "                           facecolor=COLORS['land'])\n",
      "\n",
      "fig, ax = plt.subplots(figsize=(8, 6),\n",
      "                       subplot_kw=dict(projection=ccrs.PlateCarree()))\n",
      "\n",
      "ax.set_extent([bbox[0], bbox[2], bbox[1], bbox[3]])\n",
      "ax.add_feature(LAND)\n",
      "ax.coastlines(resolution='10m')\n",
      "gl = ax.gridlines(draw_labels=True)\n",
      "gl.xlabels_top = gl.ylabels_right = False\n",
      "gl.xformatter = LONGITUDE_FORMATTER\n",
      "gl.yformatter = LATITUDE_FORMATTER\n",
      "\n",
      "cube.data = ma.masked_invalid(cube.data)\n",
      "lon = cube.coord(axis='X').points\n",
      "lat = cube.coord(axis='Y').points\n",
      "nv = Delaunay(np.c_[lon, lat]).vertices\n",
      "triang = tri.Triangulation(lon, lat, triangles=nv)\n",
      "cs = ax.tricontourf(triang, cube.data, cmap=plt.cm.rainbow)\n",
      "cbar = fig.colorbar(cs, extend='both', shrink=0.75)\n",
      "ctitle = cbar.ax.set_title(cube.units)"
     ],
     "language": "python",
     "metadata": {},
     "outputs": [
      {
       "metadata": {},
       "output_type": "display_data",
       "png": "[encoded data removed]",
       "text": [
        "<matplotlib.figure.Figure at 0x7f3afbdbf090>"
       ]
      }
     ],
     "prompt_number": 7
    },
    {
     "cell_type": "markdown",
     "metadata": {},
     "source": [
      "These three lines\n",
      "\n",
      "```python\n",
      "lon = cube.coord(axis='X').points\n",
      "lat = cube.coord(axis='Y').points\n",
      "nv = Delaunay(np.c_[lon, lat]).vertices\n",
      "```\n",
      "\n",
      "re-construct the grid information (that was already\n",
      "in the file/url).  Iris does not know about them and does not load them \n",
      "automatically.  Pyugrid, on the other hand, does know what to do with that \n",
      "information.  Hopefully unstructured grids with iris will get a lot easier in\n",
      "the near future."
     ]
    },
    {
     "cell_type": "markdown",
     "metadata": {},
     "source": [
      "### Staggered grids\n",
      "\n",
      "Staggered grid models, like\n",
      "[ROMS](https://www.myroms.org/wiki/index.php/Numerical_Solution_Technique#Horizontal_Discretization),\n",
      "can be very challenging to load when using high level tools like iris.\n",
      "In fact, it is less awkward doing everything \"manually\" with the netCDF4\n",
      "interface."
     ]
    },
    {
     "cell_type": "code",
     "collapsed": false,
     "input": [
      "url = 'http://tds.marine.rutgers.edu/thredds/dodsC/roms/espresso/2013_da/'\n",
      "url += 'his_Best/ESPRESSO_Real-Time_v2_History_Best_Available_best.ncd'\n",
      "\n",
      "u = iris.load_cube(url, 'eastward_sea_water_velocity')\n",
      "v = iris.load_cube(url, 'northward_sea_water_velocity')\n",
      "angle = iris.load_cube(url, 'angle between XI-axis and EAST')\n",
      "\n",
      "lon = angle.coord(axis='X')\n",
      "lat = angle.coord(axis='Y')\n",
      "\n",
      "# Latest time step at the surface (Yes, ROMS surface is at -1!)\n",
      "u = u[-1, -1, ...]\n",
      "v = v[-1, -1, ...]"
     ],
     "language": "python",
     "metadata": {},
     "outputs": [],
     "prompt_number": 8
    },
    {
     "cell_type": "code",
     "collapsed": false,
     "input": [
      "for var in [u, v, lon, lat, angle]:\n",
      "    print('{} shape {}'.format(var.name(), var.shape))"
     ],
     "language": "python",
     "metadata": {},
     "outputs": [
      {
       "output_type": "stream",
       "stream": "stdout",
       "text": [
        "eastward_sea_water_velocity shape (82, 129)\n",
        "northward_sea_water_velocity shape (81, 130)\n",
        "longitude shape (82, 130)\n",
        "latitude shape (82, 130)\n",
        "angle between XI-axis and EAST shape (82, 130)\n"
       ]
      }
     ],
     "prompt_number": 9
    },
    {
     "cell_type": "markdown",
     "metadata": {},
     "source": [
      "The shapes do not match.  To explain that I could send you to the ROMS\n",
      "documentation page, or I could show off my tikz skills ;-)"
     ]
    },
    {
     "cell_type": "code",
     "collapsed": false,
     "input": [
      "%%tikz -s 200,200 -sc 1.2 -f svg\n",
      "\\draw [style=help lines, step=2](-0.5, -0.5) grid (+2.5, +2.5);\n",
      "\n",
      "\\draw [black](+0, +2) node[anchor=south east] {$\\Psi_{i, j+1}$};\n",
      "\\draw [blue] (+1, +2) node[anchor=south] {$V_{i, j+1}$};\n",
      "\\draw [black](+2, +2) node[anchor=south west] {$\\Psi_{i+1, j+1}$};\n",
      "\n",
      "\\draw [red]  (+0, +1) node[anchor=east] {$u_{i, j}$};\n",
      "\\draw [green](+1, +1) node {$\\rho_{i, j}$};\n",
      "\\draw [red]  (+2, +1) node[anchor=west] {$u_{i+1, j}$};\n",
      "\n",
      "\\draw [black](+0, +0) node[anchor=north east] {$\\Psi_{i, j}$};\n",
      "\\draw [blue] (+1, +0) node[anchor=north] {$V_{i, j}$};\n",
      "\\draw [black](+2, +0) node[anchor=north west] {$\\Psi_{i+1, j}$};"
     ],
     "language": "python",
     "metadata": {},
     "outputs": [
      {
       "metadata": {
        "isolated": "true"
       },
       "output_type": "display_data",
       "svg": [
        "<svg height=\"200px\" version=\"1.1\" viewBox=\"0 0 146.236 102.246\" width=\"200px\" xmlns=\"http://www.w3.org/2000/svg\" xmlns:xlink=\"http://www.w3.org/1999/xlink\">\n",
        "<defs>\n",
        "<g>\n",
        "<symbol id=\"glyph0-0\" overflow=\"visible\">\n",
        "<path d=\"\" style=\"stroke:none;\"/>\n",
        "</symbol>\n",
        "<symbol id=\"glyph0-1\" overflow=\"visible\">\n",
        "<path d=\"M 4.25 -6.015625 C 4.25 -6.359375 4.25 -6.5 5.203125 -6.5 L 5.53125 -6.5 L 5.53125 -6.8125 C 5.171875 -6.78125 4.25 -6.78125 3.84375 -6.78125 C 3.4375 -6.78125 2.515625 -6.78125 2.15625 -6.8125 L 2.15625 -6.5 L 2.484375 -6.5 C 3.421875 -6.5 3.421875 -6.375 3.421875 -6.015625 L 3.421875 -1.59375 C 2.125 -1.9375 2.078125 -3.484375 2.078125 -4.125 C 2.0625 -5.328125 1.625 -5.515625 1.1875 -5.515625 L 0.8125 -5.515625 C 0.671875 -5.515625 0.5625 -5.515625 0.5625 -5.40625 C 0.5625 -5.359375 0.59375 -5.3125 0.65625 -5.296875 C 0.984375 -5.265625 1.234375 -5.125 1.25 -3.953125 C 1.25 -3.71875 1.28125 -2.9375 1.75 -2.265625 C 2.140625 -1.71875 2.75 -1.4375 3.421875 -1.34375 L 3.421875 -0.78125 C 3.421875 -0.453125 3.421875 -0.3125 2.484375 -0.3125 L 2.15625 -0.3125 L 2.15625 0 C 2.515625 -0.03125 3.421875 -0.03125 3.84375 -0.03125 C 4.25 -0.03125 5.171875 -0.03125 5.53125 0 L 5.53125 -0.3125 L 5.203125 -0.3125 C 4.25 -0.3125 4.25 -0.4375 4.25 -0.78125 L 4.25 -1.34375 C 4.96875 -1.4375 5.578125 -1.734375 5.96875 -2.25 C 6.484375 -2.953125 6.5 -3.75 6.5 -4.1875 C 6.5 -4.34375 6.515625 -5.234375 7.046875 -5.296875 C 7.109375 -5.3125 7.171875 -5.328125 7.171875 -5.40625 C 7.171875 -5.515625 7.09375 -5.515625 6.9375 -5.515625 L 6.5625 -5.515625 C 6.171875 -5.515625 5.6875 -5.453125 5.671875 -4 C 5.65625 -2.90625 5.328125 -1.859375 4.25 -1.59375 Z \" style=\"stroke:none;\"/>\n",
        "</symbol>\n",
        "<symbol id=\"glyph1-0\" overflow=\"visible\">\n",
        "<path d=\"\" style=\"stroke:none;\"/>\n",
        "</symbol>\n",
        "<symbol id=\"glyph1-1\" overflow=\"visible\">\n",
        "<path d=\"M 2.265625 -4.359375 C 2.265625 -4.46875 2.171875 -4.625 1.984375 -4.625 C 1.796875 -4.625 1.59375 -4.4375 1.59375 -4.234375 C 1.59375 -4.125 1.671875 -3.96875 1.875 -3.96875 C 2.0625 -3.96875 2.265625 -4.171875 2.265625 -4.359375 Z M 0.84375 -0.8125 C 0.8125 -0.71875 0.78125 -0.640625 0.78125 -0.515625 C 0.78125 -0.1875 1.046875 0.0625 1.4375 0.0625 C 2.125 0.0625 2.4375 -0.890625 2.4375 -1 C 2.4375 -1.09375 2.34375 -1.09375 2.328125 -1.09375 C 2.234375 -1.09375 2.21875 -1.046875 2.1875 -0.96875 C 2.03125 -0.40625 1.734375 -0.125 1.453125 -0.125 C 1.3125 -0.125 1.28125 -0.21875 1.28125 -0.375 C 1.28125 -0.53125 1.328125 -0.65625 1.390625 -0.8125 C 1.46875 -1 1.546875 -1.1875 1.609375 -1.375 C 1.671875 -1.546875 1.9375 -2.171875 1.953125 -2.265625 C 1.984375 -2.328125 2 -2.40625 2 -2.484375 C 2 -2.8125 1.71875 -3.078125 1.34375 -3.078125 C 0.640625 -3.078125 0.328125 -2.125 0.328125 -2 C 0.328125 -1.921875 0.421875 -1.921875 0.453125 -1.921875 C 0.546875 -1.921875 0.546875 -1.953125 0.578125 -2.03125 C 0.75 -2.625 1.0625 -2.875 1.3125 -2.875 C 1.421875 -2.875 1.484375 -2.828125 1.484375 -2.640625 C 1.484375 -2.46875 1.453125 -2.375 1.28125 -1.9375 Z \" style=\"stroke:none;\"/>\n",
        "</symbol>\n",
        "<symbol id=\"glyph1-2\" overflow=\"visible\">\n",
        "<path d=\"M 1.46875 -0.109375 C 1.46875 0.265625 1.40625 0.71875 0.921875 1.15625 C 0.90625 1.1875 0.875 1.21875 0.875 1.25 C 0.875 1.296875 0.9375 1.34375 0.96875 1.34375 C 1.078125 1.34375 1.671875 0.78125 1.671875 -0.046875 C 1.671875 -0.46875 1.5 -0.796875 1.171875 -0.796875 C 0.953125 -0.796875 0.78125 -0.625 0.78125 -0.40625 C 0.78125 -0.1875 0.9375 0 1.1875 0 C 1.359375 0 1.46875 -0.109375 1.46875 -0.109375 Z \" style=\"stroke:none;\"/>\n",
        "</symbol>\n",
        "<symbol id=\"glyph1-3\" overflow=\"visible\">\n",
        "<path d=\"M 3.0625 -4.359375 C 3.0625 -4.46875 2.96875 -4.625 2.78125 -4.625 C 2.578125 -4.625 2.390625 -4.421875 2.390625 -4.234375 C 2.390625 -4.125 2.46875 -3.96875 2.671875 -3.96875 C 2.859375 -3.96875 3.0625 -4.15625 3.0625 -4.359375 Z M 1.578125 0.34375 C 1.46875 0.828125 1.09375 1.21875 0.6875 1.21875 C 0.59375 1.21875 0.515625 1.21875 0.4375 1.1875 C 0.609375 1.09375 0.671875 0.9375 0.671875 0.828125 C 0.671875 0.65625 0.53125 0.578125 0.390625 0.578125 C 0.1875 0.578125 0 0.765625 0 0.984375 C 0 1.25 0.265625 1.421875 0.6875 1.421875 C 1.109375 1.421875 1.921875 1.171875 2.140625 0.328125 L 2.765625 -2.171875 C 2.78125 -2.25 2.796875 -2.3125 2.796875 -2.421875 C 2.796875 -2.796875 2.46875 -3.078125 2.0625 -3.078125 C 1.28125 -3.078125 0.84375 -2.109375 0.84375 -2 C 0.84375 -1.921875 0.9375 -1.921875 0.953125 -1.921875 C 1.03125 -1.921875 1.046875 -1.9375 1.09375 -2.046875 C 1.265625 -2.453125 1.625 -2.875 2.03125 -2.875 C 2.203125 -2.875 2.265625 -2.765625 2.265625 -2.53125 C 2.265625 -2.453125 2.265625 -2.359375 2.25 -2.328125 Z \" style=\"stroke:none;\"/>\n",
        "</symbol>\n",
        "<symbol id=\"glyph2-0\" overflow=\"visible\">\n",
        "<path d=\"\" style=\"stroke:none;\"/>\n",
        "</symbol>\n",
        "<symbol id=\"glyph2-1\" overflow=\"visible\">\n",
        "<path d=\"M 3.21875 -1.578125 L 5.359375 -1.578125 C 5.453125 -1.578125 5.609375 -1.578125 5.609375 -1.734375 C 5.609375 -1.921875 5.453125 -1.921875 5.359375 -1.921875 L 3.21875 -1.921875 L 3.21875 -4.0625 C 3.21875 -4.140625 3.21875 -4.3125 3.0625 -4.3125 C 2.890625 -4.3125 2.890625 -4.15625 2.890625 -4.0625 L 2.890625 -1.921875 L 0.75 -1.921875 C 0.65625 -1.921875 0.484375 -1.921875 0.484375 -1.75 C 0.484375 -1.578125 0.640625 -1.578125 0.75 -1.578125 L 2.890625 -1.578125 L 2.890625 0.5625 C 2.890625 0.65625 2.890625 0.828125 3.046875 0.828125 C 3.21875 0.828125 3.21875 0.65625 3.21875 0.5625 Z \" style=\"stroke:none;\"/>\n",
        "</symbol>\n",
        "<symbol id=\"glyph2-2\" overflow=\"visible\">\n",
        "<path d=\"M 2.328125 -4.4375 C 2.328125 -4.625 2.328125 -4.625 2.125 -4.625 C 1.671875 -4.1875 1.046875 -4.1875 0.765625 -4.1875 L 0.765625 -3.9375 C 0.921875 -3.9375 1.390625 -3.9375 1.765625 -4.125 L 1.765625 -0.578125 C 1.765625 -0.34375 1.765625 -0.25 1.078125 -0.25 L 0.8125 -0.25 L 0.8125 0 C 0.9375 0 1.796875 -0.03125 2.046875 -0.03125 C 2.265625 -0.03125 3.140625 0 3.296875 0 L 3.296875 -0.25 L 3.03125 -0.25 C 2.328125 -0.25 2.328125 -0.34375 2.328125 -0.578125 Z \" style=\"stroke:none;\"/>\n",
        "</symbol>\n",
        "<symbol id=\"glyph3-0\" overflow=\"visible\">\n",
        "<path d=\"\" style=\"stroke:none;\"/>\n",
        "</symbol>\n",
        "<symbol id=\"glyph3-1\" overflow=\"visible\">\n",
        "<path d=\"M 6.265625 -5.671875 C 6.75 -6.453125 7.171875 -6.484375 7.53125 -6.5 C 7.65625 -6.515625 7.671875 -6.671875 7.671875 -6.6875 C 7.671875 -6.765625 7.609375 -6.8125 7.53125 -6.8125 C 7.28125 -6.8125 6.984375 -6.78125 6.71875 -6.78125 C 6.390625 -6.78125 6.046875 -6.8125 5.734375 -6.8125 C 5.671875 -6.8125 5.546875 -6.8125 5.546875 -6.625 C 5.546875 -6.515625 5.625 -6.5 5.703125 -6.5 C 5.96875 -6.484375 6.15625 -6.375 6.15625 -6.171875 C 6.15625 -6.015625 6.015625 -5.796875 6.015625 -5.796875 L 2.953125 -0.921875 L 2.265625 -6.203125 C 2.265625 -6.375 2.5 -6.5 2.953125 -6.5 C 3.09375 -6.5 3.203125 -6.5 3.203125 -6.703125 C 3.203125 -6.78125 3.125 -6.8125 3.078125 -6.8125 C 2.671875 -6.8125 2.25 -6.78125 1.828125 -6.78125 C 1.65625 -6.78125 1.46875 -6.78125 1.28125 -6.78125 C 1.109375 -6.78125 0.921875 -6.8125 0.75 -6.8125 C 0.671875 -6.8125 0.5625 -6.8125 0.5625 -6.625 C 0.5625 -6.5 0.640625 -6.5 0.8125 -6.5 C 1.359375 -6.5 1.375 -6.40625 1.40625 -6.15625 L 2.1875 -0.015625 C 2.21875 0.1875 2.265625 0.21875 2.390625 0.21875 C 2.546875 0.21875 2.59375 0.171875 2.671875 0.046875 Z \" style=\"stroke:none;\"/>\n",
        "</symbol>\n",
        "<symbol id=\"glyph3-2\" overflow=\"visible\">\n",
        "<path d=\"M 3.484375 -0.5625 C 3.59375 -0.15625 3.953125 0.109375 4.375 0.109375 C 4.71875 0.109375 4.953125 -0.125 5.109375 -0.4375 C 5.28125 -0.796875 5.40625 -1.40625 5.40625 -1.421875 C 5.40625 -1.53125 5.328125 -1.53125 5.296875 -1.53125 C 5.1875 -1.53125 5.1875 -1.484375 5.15625 -1.34375 C 5.015625 -0.78125 4.828125 -0.109375 4.40625 -0.109375 C 4.203125 -0.109375 4.09375 -0.234375 4.09375 -0.5625 C 4.09375 -0.78125 4.21875 -1.25 4.296875 -1.609375 L 4.578125 -2.6875 C 4.609375 -2.828125 4.703125 -3.203125 4.75 -3.359375 C 4.796875 -3.59375 4.890625 -3.96875 4.890625 -4.03125 C 4.890625 -4.203125 4.75 -4.296875 4.609375 -4.296875 C 4.5625 -4.296875 4.296875 -4.28125 4.21875 -3.953125 C 4.03125 -3.21875 3.59375 -1.46875 3.46875 -0.953125 C 3.453125 -0.90625 3.0625 -0.109375 2.328125 -0.109375 C 1.8125 -0.109375 1.71875 -0.5625 1.71875 -0.921875 C 1.71875 -1.484375 2 -2.265625 2.25 -2.953125 C 2.375 -3.265625 2.421875 -3.40625 2.421875 -3.59375 C 2.421875 -4.03125 2.109375 -4.40625 1.609375 -4.40625 C 0.65625 -4.40625 0.296875 -2.953125 0.296875 -2.875 C 0.296875 -2.765625 0.390625 -2.765625 0.40625 -2.765625 C 0.515625 -2.765625 0.515625 -2.796875 0.5625 -2.953125 C 0.8125 -3.8125 1.203125 -4.1875 1.578125 -4.1875 C 1.671875 -4.1875 1.828125 -4.171875 1.828125 -3.859375 C 1.828125 -3.625 1.71875 -3.328125 1.65625 -3.1875 C 1.28125 -2.1875 1.078125 -1.578125 1.078125 -1.09375 C 1.078125 -0.140625 1.765625 0.109375 2.296875 0.109375 C 2.953125 0.109375 3.3125 -0.34375 3.484375 -0.5625 Z \" style=\"stroke:none;\"/>\n",
        "</symbol>\n",
        "<symbol id=\"glyph3-3\" overflow=\"visible\">\n",
        "<path d=\"M 0.328125 1.71875 C 0.296875 1.84375 0.296875 1.859375 0.296875 1.890625 C 0.296875 2.03125 0.40625 2.15625 0.578125 2.15625 C 0.78125 2.15625 0.90625 1.96875 0.921875 1.9375 C 0.984375 1.859375 1.296875 0.515625 1.5625 -0.5625 C 1.765625 -0.15625 2.078125 0.109375 2.546875 0.109375 C 3.71875 0.109375 5 -1.296875 5 -2.78125 C 5 -3.84375 4.34375 -4.40625 3.625 -4.40625 C 2.65625 -4.40625 1.609375 -3.40625 1.3125 -2.1875 Z M 2.546875 -0.109375 C 1.84375 -0.109375 1.6875 -0.90625 1.6875 -1 C 1.6875 -1.03125 1.734375 -1.234375 1.765625 -1.359375 C 2.046875 -2.484375 2.140625 -2.84375 2.359375 -3.234375 C 2.796875 -3.96875 3.296875 -4.1875 3.59375 -4.1875 C 3.96875 -4.1875 4.28125 -3.890625 4.28125 -3.203125 C 4.28125 -2.65625 4 -1.546875 3.734375 -1.0625 C 3.40625 -0.421875 2.921875 -0.109375 2.546875 -0.109375 Z \" style=\"stroke:none;\"/>\n",
        "</symbol>\n",
        "</g>\n",
        "<clipPath id=\"clip1\">\n",
        "  <path d=\"M 16 0 L 120 0 L 120 102.246094 L 16 102.246094 Z \"/>\n",
        "</clipPath>\n",
        "</defs>\n",
        "<g id=\"surface1\">\n",
        "<g clip-path=\"url(#clip1)\" clip-rule=\"nonzero\">\n",
        "<path d=\"M -17.008219 -0.001625 L 85.038656 -0.001625 M -17.008219 68.033531 L 85.038656 68.033531 M -0.00040625 -17.009437 L -0.00040625 85.041344 M 68.030844 -17.009437 L 68.030844 85.041344 \" style=\"fill:none;stroke-width:0.19925;stroke-linecap:butt;stroke-linejoin:miter;stroke:rgb(50%,50%,50%);stroke-opacity:1;stroke-miterlimit:10;\" transform=\"matrix(1,0,0,-1,34.059,85.139)\"/>\n",
        "</g>\n",
        "<g style=\"fill:rgb(0%,0%,0%);fill-opacity:1;\">\n",
        "  <use x=\"3.321\" xlink:href=\"#glyph0-1\" y=\"10.737\"/>\n",
        "</g>\n",
        "<g style=\"fill:rgb(0%,0%,0%);fill-opacity:1;\">\n",
        "  <use x=\"11.069\" xlink:href=\"#glyph1-1\" y=\"12.231\"/>\n",
        "  <use x=\"13.88781\" xlink:href=\"#glyph1-2\" y=\"12.231\"/>\n",
        "  <use x=\"16.25402\" xlink:href=\"#glyph1-3\" y=\"12.231\"/>\n",
        "</g>\n",
        "<g style=\"fill:rgb(0%,0%,0%);fill-opacity:1;\">\n",
        "  <use x=\"19.954\" xlink:href=\"#glyph2-1\" y=\"12.231\"/>\n",
        "  <use x=\"26.070023\" xlink:href=\"#glyph2-2\" y=\"12.231\"/>\n",
        "</g>\n",
        "<g style=\"fill:rgb(0%,0%,100%);fill-opacity:1;\">\n",
        "  <use x=\"55.434\" xlink:href=\"#glyph3-1\" y=\"10.737\"/>\n",
        "</g>\n",
        "<g style=\"fill:rgb(0%,0%,100%);fill-opacity:1;\">\n",
        "  <use x=\"61.245\" xlink:href=\"#glyph1-1\" y=\"12.231\"/>\n",
        "  <use x=\"64.06381\" xlink:href=\"#glyph1-2\" y=\"12.231\"/>\n",
        "  <use x=\"66.43002\" xlink:href=\"#glyph1-3\" y=\"12.231\"/>\n",
        "</g>\n",
        "<g style=\"fill:rgb(0%,0%,100%);fill-opacity:1;\">\n",
        "  <use x=\"70.13\" xlink:href=\"#glyph2-1\" y=\"12.231\"/>\n",
        "  <use x=\"76.246023\" xlink:href=\"#glyph2-2\" y=\"12.231\"/>\n",
        "</g>\n",
        "<g style=\"fill:rgb(0%,0%,0%);fill-opacity:1;\">\n",
        "  <use x=\"105.61\" xlink:href=\"#glyph0-1\" y=\"10.737\"/>\n",
        "</g>\n",
        "<g style=\"fill:rgb(0%,0%,0%);fill-opacity:1;\">\n",
        "  <use x=\"113.359\" xlink:href=\"#glyph1-1\" y=\"12.231\"/>\n",
        "</g>\n",
        "<g style=\"fill:rgb(0%,0%,0%);fill-opacity:1;\">\n",
        "  <use x=\"116.177\" xlink:href=\"#glyph2-1\" y=\"12.231\"/>\n",
        "  <use x=\"122.293023\" xlink:href=\"#glyph2-2\" y=\"12.231\"/>\n",
        "</g>\n",
        "<g style=\"fill:rgb(0%,0%,0%);fill-opacity:1;\">\n",
        "  <use x=\"126.265\" xlink:href=\"#glyph1-2\" y=\"12.231\"/>\n",
        "  <use x=\"128.63121\" xlink:href=\"#glyph1-3\" y=\"12.231\"/>\n",
        "</g>\n",
        "<g style=\"fill:rgb(0%,0%,0%);fill-opacity:1;\">\n",
        "  <use x=\"132.331\" xlink:href=\"#glyph2-1\" y=\"12.231\"/>\n",
        "  <use x=\"138.447023\" xlink:href=\"#glyph2-2\" y=\"12.231\"/>\n",
        "</g>\n",
        "<g style=\"fill:rgb(100%,0%,0%);fill-opacity:1;\">\n",
        "  <use x=\"15.453\" xlink:href=\"#glyph3-2\" y=\"51.842\"/>\n",
        "</g>\n",
        "<g style=\"fill:rgb(100%,0%,0%);fill-opacity:1;\">\n",
        "  <use x=\"21.156\" xlink:href=\"#glyph1-1\" y=\"53.337\"/>\n",
        "  <use x=\"23.97481\" xlink:href=\"#glyph1-2\" y=\"53.337\"/>\n",
        "  <use x=\"26.34102\" xlink:href=\"#glyph1-3\" y=\"53.337\"/>\n",
        "</g>\n",
        "<g style=\"fill:rgb(0%,100%,0%);fill-opacity:1;\">\n",
        "  <use x=\"60.808\" xlink:href=\"#glyph3-3\" y=\"51.842\"/>\n",
        "</g>\n",
        "<g style=\"fill:rgb(0%,100%,0%);fill-opacity:1;\">\n",
        "  <use x=\"65.959\" xlink:href=\"#glyph1-1\" y=\"53.337\"/>\n",
        "  <use x=\"68.77781\" xlink:href=\"#glyph1-2\" y=\"53.337\"/>\n",
        "  <use x=\"71.14402\" xlink:href=\"#glyph1-3\" y=\"53.337\"/>\n",
        "</g>\n",
        "<g style=\"fill:rgb(100%,0%,0%);fill-opacity:1;\">\n",
        "  <use x=\"105.61\" xlink:href=\"#glyph3-2\" y=\"51.842\"/>\n",
        "</g>\n",
        "<g style=\"fill:rgb(100%,0%,0%);fill-opacity:1;\">\n",
        "  <use x=\"111.313\" xlink:href=\"#glyph1-1\" y=\"53.337\"/>\n",
        "</g>\n",
        "<g style=\"fill:rgb(100%,0%,0%);fill-opacity:1;\">\n",
        "  <use x=\"114.132\" xlink:href=\"#glyph2-1\" y=\"53.337\"/>\n",
        "  <use x=\"120.248023\" xlink:href=\"#glyph2-2\" y=\"53.337\"/>\n",
        "</g>\n",
        "<g style=\"fill:rgb(100%,0%,0%);fill-opacity:1;\">\n",
        "  <use x=\"124.219\" xlink:href=\"#glyph1-2\" y=\"53.337\"/>\n",
        "  <use x=\"126.58521\" xlink:href=\"#glyph1-3\" y=\"53.337\"/>\n",
        "</g>\n",
        "<g style=\"fill:rgb(0%,0%,0%);fill-opacity:1;\">\n",
        "  <use x=\"13.408\" xlink:href=\"#glyph0-1\" y=\"95.466\"/>\n",
        "</g>\n",
        "<g style=\"fill:rgb(0%,0%,0%);fill-opacity:1;\">\n",
        "  <use x=\"21.157\" xlink:href=\"#glyph1-1\" y=\"96.96\"/>\n",
        "  <use x=\"23.97581\" xlink:href=\"#glyph1-2\" y=\"96.96\"/>\n",
        "  <use x=\"26.34202\" xlink:href=\"#glyph1-3\" y=\"96.96\"/>\n",
        "</g>\n",
        "<g style=\"fill:rgb(0%,0%,100%);fill-opacity:1;\">\n",
        "  <use x=\"60.478\" xlink:href=\"#glyph3-1\" y=\"95.466\"/>\n",
        "</g>\n",
        "<g style=\"fill:rgb(0%,0%,100%);fill-opacity:1;\">\n",
        "  <use x=\"66.289\" xlink:href=\"#glyph1-1\" y=\"96.96\"/>\n",
        "  <use x=\"69.10781\" xlink:href=\"#glyph1-2\" y=\"96.96\"/>\n",
        "  <use x=\"71.47402\" xlink:href=\"#glyph1-3\" y=\"96.96\"/>\n",
        "</g>\n",
        "<g style=\"fill:rgb(0%,0%,0%);fill-opacity:1;\">\n",
        "  <use x=\"105.61\" xlink:href=\"#glyph0-1\" y=\"95.466\"/>\n",
        "</g>\n",
        "<g style=\"fill:rgb(0%,0%,0%);fill-opacity:1;\">\n",
        "  <use x=\"113.359\" xlink:href=\"#glyph1-1\" y=\"96.96\"/>\n",
        "</g>\n",
        "<g style=\"fill:rgb(0%,0%,0%);fill-opacity:1;\">\n",
        "  <use x=\"116.177\" xlink:href=\"#glyph2-1\" y=\"96.96\"/>\n",
        "  <use x=\"122.293023\" xlink:href=\"#glyph2-2\" y=\"96.96\"/>\n",
        "</g>\n",
        "<g style=\"fill:rgb(0%,0%,0%);fill-opacity:1;\">\n",
        "  <use x=\"126.265\" xlink:href=\"#glyph1-2\" y=\"96.96\"/>\n",
        "  <use x=\"128.63121\" xlink:href=\"#glyph1-3\" y=\"96.96\"/>\n",
        "</g>\n",
        "</g>\n",
        "</svg>"
       ]
      }
     ],
     "prompt_number": 10
    },
    {
     "cell_type": "markdown",
     "metadata": {},
     "source": [
      "The velocities $u$ and $v$ are defined on different grids.  We have to interpolate them to\n",
      "either the $\\rho$ points (where salinity and temperature are defined) or the\n",
      "$\\psi$ (in theory the proper grid for the vector quantities).  Here is a full\n",
      "grid scheme."
     ]
    },
    {
     "cell_type": "code",
     "collapsed": false,
     "input": [
      "%%tikz -s 400,400 -sc 1.2 -f svg\n",
      "\\draw [style=help lines, step=2](-0.5, -0.5) grid (+6.5, +6.5);\n",
      "\n",
      "\\draw [green] (-2, +7) node[anchor=west] {M};\n",
      "\\draw [green] (-1, +7) node {$\\rho$};\n",
      "\\draw [green] (+1, +7) node {$\\rho$};\n",
      "\\draw [green] (+3, +7) node {$\\rho$};\n",
      "\\draw [green] (+5, +7) node {$\\rho$};\n",
      "\n",
      "\\draw [red] (+0, +7) node {$u$};\n",
      "\\draw [red] (+2, +7) node {$u$};\n",
      "\\draw [red] (+4, +7) node {$u$};\n",
      "\\draw [red] (+6, +7) node {$u$};\n",
      "\n",
      "\\draw [blue] (-2, +6) node[anchor=east] {M};\n",
      "\\draw [blue] (-1, +6) node {$v$};\n",
      "\\draw [blue] (+1, +6) node {$v$};\n",
      "\\draw [blue] (+3, +6) node {$v$};\n",
      "\\draw [blue] (+5, +6) node {$v$};\n",
      "\n",
      "\\draw [green] (-2, +5) node[anchor=west] {M-1};\n",
      "\\draw [green] (-1, +5) node {$\\rho$};\n",
      "\\draw [green] (+1, +5) node {$\\rho$};\n",
      "\\draw [green] (+3, +5) node {$\\rho$};\n",
      "\\draw [green] (+5, +5) node {$\\rho$};\n",
      "\n",
      "\\draw [red] (+0, +5) node {$u$};\n",
      "\\draw [red] (+2, +5) node {$u$};\n",
      "\\draw [red] (+4, +5) node {$u$};\n",
      "\\draw [red] (+6, +5) node {$u$};\n",
      "\n",
      "\\draw [blue] (-2, +4) node[anchor=east] {M-1};\n",
      "\\draw [blue] (-1, +4) node {$v$};\n",
      "\\draw [blue] (+1, +4) node {$v$};\n",
      "\\draw [blue] (+3, +4) node {$v$};\n",
      "\\draw [blue] (+5, +4) node {$v$};\n",
      "\n",
      "\\draw [green] (-2, +3) node[anchor=west] {M-2};\n",
      "\\draw [green] (-1, +3) node {$\\rho$};\n",
      "\\draw [green] (+1, +3) node {$\\rho$};\n",
      "\\draw [green] (+3, +3) node {$\\rho$};\n",
      "\\draw [green] (+5, +3) node {$\\rho$};\n",
      "\n",
      "\\draw [red] (+0, +3) node {$u$};\n",
      "\\draw [red] (+2, +3) node {$u$};\n",
      "\\draw [red] (+4, +3) node {$u$};\n",
      "\\draw [red] (+6, +3) node {$u$};\n",
      "\n",
      "\\draw [blue] (-2, +2) node[anchor=east] {M-2};\n",
      "\\draw [blue] (-1, +2) node {$v$};\n",
      "\\draw [blue] (+1, +2) node {$v$};\n",
      "\\draw [blue] (+3, +2) node {$v$};\n",
      "\\draw [blue] (+5, +2) node {$v$};\n",
      "\n",
      "\\draw [green] (-2, +1) node[anchor=west] {M-3};\n",
      "\\draw [green] (-1, +1) node {$\\rho$};\n",
      "\\draw [green] (+1, +1) node {$\\rho$};\n",
      "\\draw [green] (+3, +1) node {$\\rho$};\n",
      "\\draw [green] (+5, +1) node {$\\rho$};\n",
      "\n",
      "\\draw [red] (+0, +1) node {$u$};\n",
      "\\draw [red] (+2, +1) node {$u$};\n",
      "\\draw [red] (+4, +1) node {$u$};\n",
      "\\draw [red] (+6, +1) node {$u$};\n",
      "\n",
      "\\draw [blue] (-2, +0) node[anchor=east] {M-3};\n",
      "\\draw [blue] (-1, +0) node {$v$};\n",
      "\\draw [blue] (+1, +0) node {$v$};\n",
      "\\draw [blue] (+3, +0) node {$v$};\n",
      "\\draw [blue] (+5, +0) node {$v$};\n",
      "\n",
      "\\filldraw [color=gray](0, 0) circle (.1);\n",
      "\\filldraw [color=gray](0, 2) circle (.1);\n",
      "\\filldraw [color=gray](0, 4) circle (.1);\n",
      "\\filldraw [color=gray](0, 6) circle (.1);\n",
      "\\filldraw [color=gray](2, 0) circle (.1);\n",
      "\\filldraw [color=gray](2, 2) circle (.1);\n",
      "\\filldraw [color=gray](2, 4) circle (.1);\n",
      "\\filldraw [color=gray](2, 6) circle (.1);\n",
      "\\filldraw [color=gray](4, 0) circle (.1);\n",
      "\\filldraw [color=gray](4, 2) circle (.1);\n",
      "\\filldraw [color=gray](4, 4) circle (.1);\n",
      "\\filldraw [color=gray](4,6) circle (.1);\n",
      "\\filldraw [color=gray](6,0) circle (.1);\n",
      "\\filldraw [color=gray](6,2) circle (.1);\n",
      "\\filldraw [color=gray](6,4) circle (.1);\n",
      "\\filldraw [color=gray](6,6) circle (.1);"
     ],
     "language": "python",
     "metadata": {},
     "outputs": [
      {
       "metadata": {
        "isolated": "true"
       },
       "output_type": "display_data",
       "svg": [
        "<svg height=\"400px\" version=\"1.1\" viewBox=\"0 0 313.508 261.941\" width=\"400px\" xmlns=\"http://www.w3.org/2000/svg\" xmlns:xlink=\"http://www.w3.org/1999/xlink\">\n",
        "<defs>\n",
        "<g>\n",
        "<symbol id=\"glyph0-0\" overflow=\"visible\">\n",
        "<path d=\"\" style=\"stroke:none;\"/>\n",
        "</symbol>\n",
        "<symbol id=\"glyph0-1\" overflow=\"visible\">\n",
        "<path d=\"M 2.40625 -6.59375 C 2.3125 -6.8125 2.28125 -6.8125 2.046875 -6.8125 L 0.375 -6.8125 L 0.375 -6.5 L 0.609375 -6.5 C 1.375 -6.5 1.390625 -6.390625 1.390625 -6.03125 L 1.390625 -1.046875 C 1.390625 -0.78125 1.390625 -0.3125 0.375 -0.3125 L 0.375 0 C 0.71875 -0.015625 1.203125 -0.03125 1.53125 -0.03125 C 1.859375 -0.03125 2.359375 -0.015625 2.703125 0 L 2.703125 -0.3125 C 1.671875 -0.3125 1.671875 -0.78125 1.671875 -1.046875 L 1.671875 -6.421875 L 1.6875 -6.421875 L 4.09375 -0.21875 C 4.140625 -0.09375 4.1875 0 4.28125 0 C 4.390625 0 4.421875 -0.078125 4.46875 -0.1875 L 6.921875 -6.5 L 6.921875 -0.78125 C 6.921875 -0.421875 6.90625 -0.3125 6.140625 -0.3125 L 5.90625 -0.3125 L 5.90625 0 C 6.265625 -0.03125 6.953125 -0.03125 7.34375 -0.03125 C 7.71875 -0.03125 8.390625 -0.03125 8.765625 0 L 8.765625 -0.3125 L 8.515625 -0.3125 C 7.75 -0.3125 7.734375 -0.421875 7.734375 -0.78125 L 7.734375 -6.03125 C 7.734375 -6.390625 7.75 -6.5 8.515625 -6.5 L 8.765625 -6.5 L 8.765625 -6.8125 L 7.078125 -6.8125 C 6.8125 -6.8125 6.8125 -6.796875 6.75 -6.625 L 4.5625 -1 Z \" style=\"stroke:none;\"/>\n",
        "</symbol>\n",
        "<symbol id=\"glyph0-2\" overflow=\"visible\">\n",
        "<path d=\"M 2.75 -1.859375 L 2.75 -2.4375 L 0.109375 -2.4375 L 0.109375 -1.859375 Z \" style=\"stroke:none;\"/>\n",
        "</symbol>\n",
        "<symbol id=\"glyph0-3\" overflow=\"visible\">\n",
        "<path d=\"M 2.9375 -6.375 C 2.9375 -6.625 2.9375 -6.640625 2.703125 -6.640625 C 2.078125 -6 1.203125 -6 0.890625 -6 L 0.890625 -5.6875 C 1.09375 -5.6875 1.671875 -5.6875 2.1875 -5.953125 L 2.1875 -0.78125 C 2.1875 -0.421875 2.15625 -0.3125 1.265625 -0.3125 L 0.953125 -0.3125 L 0.953125 0 C 1.296875 -0.03125 2.15625 -0.03125 2.5625 -0.03125 C 2.953125 -0.03125 3.828125 -0.03125 4.171875 0 L 4.171875 -0.3125 L 3.859375 -0.3125 C 2.953125 -0.3125 2.9375 -0.421875 2.9375 -0.78125 Z \" style=\"stroke:none;\"/>\n",
        "</symbol>\n",
        "<symbol id=\"glyph0-4\" overflow=\"visible\">\n",
        "<path d=\"M 1.265625 -0.765625 L 2.328125 -1.796875 C 3.875 -3.171875 4.46875 -3.703125 4.46875 -4.703125 C 4.46875 -5.84375 3.578125 -6.640625 2.359375 -6.640625 C 1.234375 -6.640625 0.5 -5.71875 0.5 -4.828125 C 0.5 -4.28125 1 -4.28125 1.03125 -4.28125 C 1.203125 -4.28125 1.546875 -4.390625 1.546875 -4.8125 C 1.546875 -5.0625 1.359375 -5.328125 1.015625 -5.328125 C 0.9375 -5.328125 0.921875 -5.328125 0.890625 -5.3125 C 1.109375 -5.96875 1.65625 -6.328125 2.234375 -6.328125 C 3.140625 -6.328125 3.5625 -5.515625 3.5625 -4.703125 C 3.5625 -3.90625 3.078125 -3.125 2.515625 -2.5 L 0.609375 -0.375 C 0.5 -0.265625 0.5 -0.234375 0.5 0 L 4.203125 0 L 4.46875 -1.734375 L 4.234375 -1.734375 C 4.171875 -1.4375 4.109375 -1 4 -0.84375 C 3.9375 -0.765625 3.28125 -0.765625 3.0625 -0.765625 Z \" style=\"stroke:none;\"/>\n",
        "</symbol>\n",
        "<symbol id=\"glyph0-5\" overflow=\"visible\">\n",
        "<path d=\"M 2.890625 -3.515625 C 3.703125 -3.78125 4.28125 -4.46875 4.28125 -5.265625 C 4.28125 -6.078125 3.40625 -6.640625 2.453125 -6.640625 C 1.453125 -6.640625 0.6875 -6.046875 0.6875 -5.28125 C 0.6875 -4.953125 0.90625 -4.765625 1.203125 -4.765625 C 1.5 -4.765625 1.703125 -4.984375 1.703125 -5.28125 C 1.703125 -5.765625 1.234375 -5.765625 1.09375 -5.765625 C 1.390625 -6.265625 2.046875 -6.390625 2.40625 -6.390625 C 2.828125 -6.390625 3.375 -6.171875 3.375 -5.28125 C 3.375 -5.15625 3.34375 -4.578125 3.09375 -4.140625 C 2.796875 -3.65625 2.453125 -3.625 2.203125 -3.625 C 2.125 -3.609375 1.890625 -3.59375 1.8125 -3.59375 C 1.734375 -3.578125 1.671875 -3.5625 1.671875 -3.46875 C 1.671875 -3.359375 1.734375 -3.359375 1.90625 -3.359375 L 2.34375 -3.359375 C 3.15625 -3.359375 3.53125 -2.6875 3.53125 -1.703125 C 3.53125 -0.34375 2.84375 -0.0625 2.40625 -0.0625 C 1.96875 -0.0625 1.21875 -0.234375 0.875 -0.8125 C 1.21875 -0.765625 1.53125 -0.984375 1.53125 -1.359375 C 1.53125 -1.71875 1.265625 -1.921875 0.984375 -1.921875 C 0.734375 -1.921875 0.421875 -1.78125 0.421875 -1.34375 C 0.421875 -0.4375 1.34375 0.21875 2.4375 0.21875 C 3.65625 0.21875 4.5625 -0.6875 4.5625 -1.703125 C 4.5625 -2.515625 3.921875 -3.296875 2.890625 -3.515625 Z \" style=\"stroke:none;\"/>\n",
        "</symbol>\n",
        "<symbol id=\"glyph1-0\" overflow=\"visible\">\n",
        "<path d=\"\" style=\"stroke:none;\"/>\n",
        "</symbol>\n",
        "<symbol id=\"glyph1-1\" overflow=\"visible\">\n",
        "<path d=\"M 0.328125 1.71875 C 0.296875 1.84375 0.296875 1.859375 0.296875 1.890625 C 0.296875 2.03125 0.40625 2.15625 0.578125 2.15625 C 0.78125 2.15625 0.90625 1.96875 0.921875 1.9375 C 0.984375 1.859375 1.296875 0.515625 1.5625 -0.5625 C 1.765625 -0.15625 2.078125 0.109375 2.546875 0.109375 C 3.71875 0.109375 5 -1.296875 5 -2.78125 C 5 -3.84375 4.34375 -4.40625 3.625 -4.40625 C 2.65625 -4.40625 1.609375 -3.40625 1.3125 -2.1875 Z M 2.546875 -0.109375 C 1.84375 -0.109375 1.6875 -0.90625 1.6875 -1 C 1.6875 -1.03125 1.734375 -1.234375 1.765625 -1.359375 C 2.046875 -2.484375 2.140625 -2.84375 2.359375 -3.234375 C 2.796875 -3.96875 3.296875 -4.1875 3.59375 -4.1875 C 3.96875 -4.1875 4.28125 -3.890625 4.28125 -3.203125 C 4.28125 -2.65625 4 -1.546875 3.734375 -1.0625 C 3.40625 -0.421875 2.921875 -0.109375 2.546875 -0.109375 Z \" style=\"stroke:none;\"/>\n",
        "</symbol>\n",
        "<symbol id=\"glyph1-2\" overflow=\"visible\">\n",
        "<path d=\"M 3.484375 -0.5625 C 3.59375 -0.15625 3.953125 0.109375 4.375 0.109375 C 4.71875 0.109375 4.953125 -0.125 5.109375 -0.4375 C 5.28125 -0.796875 5.40625 -1.40625 5.40625 -1.421875 C 5.40625 -1.53125 5.328125 -1.53125 5.296875 -1.53125 C 5.1875 -1.53125 5.1875 -1.484375 5.15625 -1.34375 C 5.015625 -0.78125 4.828125 -0.109375 4.40625 -0.109375 C 4.203125 -0.109375 4.09375 -0.234375 4.09375 -0.5625 C 4.09375 -0.78125 4.21875 -1.25 4.296875 -1.609375 L 4.578125 -2.6875 C 4.609375 -2.828125 4.703125 -3.203125 4.75 -3.359375 C 4.796875 -3.59375 4.890625 -3.96875 4.890625 -4.03125 C 4.890625 -4.203125 4.75 -4.296875 4.609375 -4.296875 C 4.5625 -4.296875 4.296875 -4.28125 4.21875 -3.953125 C 4.03125 -3.21875 3.59375 -1.46875 3.46875 -0.953125 C 3.453125 -0.90625 3.0625 -0.109375 2.328125 -0.109375 C 1.8125 -0.109375 1.71875 -0.5625 1.71875 -0.921875 C 1.71875 -1.484375 2 -2.265625 2.25 -2.953125 C 2.375 -3.265625 2.421875 -3.40625 2.421875 -3.59375 C 2.421875 -4.03125 2.109375 -4.40625 1.609375 -4.40625 C 0.65625 -4.40625 0.296875 -2.953125 0.296875 -2.875 C 0.296875 -2.765625 0.390625 -2.765625 0.40625 -2.765625 C 0.515625 -2.765625 0.515625 -2.796875 0.5625 -2.953125 C 0.8125 -3.8125 1.203125 -4.1875 1.578125 -4.1875 C 1.671875 -4.1875 1.828125 -4.171875 1.828125 -3.859375 C 1.828125 -3.625 1.71875 -3.328125 1.65625 -3.1875 C 1.28125 -2.1875 1.078125 -1.578125 1.078125 -1.09375 C 1.078125 -0.140625 1.765625 0.109375 2.296875 0.109375 C 2.953125 0.109375 3.3125 -0.34375 3.484375 -0.5625 Z \" style=\"stroke:none;\"/>\n",
        "</symbol>\n",
        "<symbol id=\"glyph1-3\" overflow=\"visible\">\n",
        "<path d=\"M 4.671875 -3.703125 C 4.671875 -4.25 4.40625 -4.40625 4.234375 -4.40625 C 3.984375 -4.40625 3.734375 -4.140625 3.734375 -3.921875 C 3.734375 -3.796875 3.78125 -3.734375 3.890625 -3.625 C 4.109375 -3.421875 4.234375 -3.171875 4.234375 -2.8125 C 4.234375 -2.390625 3.625 -0.109375 2.46875 -0.109375 C 1.953125 -0.109375 1.71875 -0.453125 1.71875 -0.984375 C 1.71875 -1.53125 2 -2.265625 2.296875 -3.09375 C 2.375 -3.265625 2.421875 -3.40625 2.421875 -3.59375 C 2.421875 -4.03125 2.109375 -4.40625 1.609375 -4.40625 C 0.671875 -4.40625 0.296875 -2.953125 0.296875 -2.875 C 0.296875 -2.765625 0.390625 -2.765625 0.40625 -2.765625 C 0.515625 -2.765625 0.515625 -2.796875 0.5625 -2.953125 C 0.859375 -3.953125 1.28125 -4.1875 1.578125 -4.1875 C 1.65625 -4.1875 1.828125 -4.1875 1.828125 -3.875 C 1.828125 -3.625 1.71875 -3.34375 1.65625 -3.171875 C 1.21875 -2.015625 1.09375 -1.5625 1.09375 -1.125 C 1.09375 -0.046875 1.96875 0.109375 2.421875 0.109375 C 4.09375 0.109375 4.671875 -3.1875 4.671875 -3.703125 Z \" style=\"stroke:none;\"/>\n",
        "</symbol>\n",
        "</g>\n",
        "<clipPath id=\"clip1\">\n",
        "  <path d=\"M 75 23 L 313.507812 23 L 313.507812 261.941406 L 75 261.941406 Z \"/>\n",
        "</clipPath>\n",
        "</defs>\n",
        "<g id=\"surface1\">\n",
        "<g clip-path=\"url(#clip1)\" clip-rule=\"nonzero\">\n",
        "<path d=\"M -17.009125 -0.0019375 L 221.104156 -0.0019375 M -17.009125 68.033219 L 221.104156 68.033219 M -17.009125 136.064469 L 221.104156 136.064469 M -17.009125 204.095719 L 221.104156 204.095719 M -0.0013125 -17.00975 L -0.0013125 221.103531 M 68.033844 -17.00975 L 68.033844 221.103531 M 136.065094 -17.00975 L 136.065094 221.103531 M 204.096344 -17.00975 L 204.096344 221.103531 \" style=\"fill:none;stroke-width:0.19925;stroke-linecap:butt;stroke-linejoin:miter;stroke:rgb(50%,50%,50%);stroke-opacity:1;stroke-miterlimit:10;\" transform=\"matrix(1,0,0,-1,92.306,244.834)\"/>\n",
        "</g>\n",
        "<g style=\"fill:rgb(0%,100%,0%);fill-opacity:1;\">\n",
        "  <use x=\"27.795\" xlink:href=\"#glyph0-1\" y=\"10.128\"/>\n",
        "</g>\n",
        "<g style=\"fill:rgb(0%,100%,0%);fill-opacity:1;\">\n",
        "  <use x=\"55.715\" xlink:href=\"#glyph1-1\" y=\"7.9\"/>\n",
        "</g>\n",
        "<g style=\"fill:rgb(0%,100%,0%);fill-opacity:1;\">\n",
        "  <use x=\"123.746\" xlink:href=\"#glyph1-1\" y=\"7.9\"/>\n",
        "</g>\n",
        "<g style=\"fill:rgb(0%,100%,0%);fill-opacity:1;\">\n",
        "  <use x=\"191.778\" xlink:href=\"#glyph1-1\" y=\"7.9\"/>\n",
        "</g>\n",
        "<g style=\"fill:rgb(0%,100%,0%);fill-opacity:1;\">\n",
        "  <use x=\"259.809\" xlink:href=\"#glyph1-1\" y=\"7.9\"/>\n",
        "</g>\n",
        "<g style=\"fill:rgb(100%,0%,0%);fill-opacity:1;\">\n",
        "  <use x=\"89.455\" xlink:href=\"#glyph1-2\" y=\"8.869\"/>\n",
        "</g>\n",
        "<g style=\"fill:rgb(100%,0%,0%);fill-opacity:1;\">\n",
        "  <use x=\"157.486\" xlink:href=\"#glyph1-2\" y=\"8.869\"/>\n",
        "</g>\n",
        "<g style=\"fill:rgb(100%,0%,0%);fill-opacity:1;\">\n",
        "  <use x=\"225.517\" xlink:href=\"#glyph1-2\" y=\"8.869\"/>\n",
        "</g>\n",
        "<g style=\"fill:rgb(100%,0%,0%);fill-opacity:1;\">\n",
        "  <use x=\"293.548\" xlink:href=\"#glyph1-2\" y=\"8.869\"/>\n",
        "</g>\n",
        "<g style=\"fill:rgb(0%,0%,100%);fill-opacity:1;\">\n",
        "  <use x=\"11.623\" xlink:href=\"#glyph0-1\" y=\"44.144\"/>\n",
        "</g>\n",
        "<g style=\"fill:rgb(0%,0%,100%);fill-opacity:1;\">\n",
        "  <use x=\"55.697\" xlink:href=\"#glyph1-3\" y=\"42.885\"/>\n",
        "</g>\n",
        "<g style=\"fill:rgb(0%,0%,100%);fill-opacity:1;\">\n",
        "  <use x=\"123.729\" xlink:href=\"#glyph1-3\" y=\"42.885\"/>\n",
        "</g>\n",
        "<g style=\"fill:rgb(0%,0%,100%);fill-opacity:1;\">\n",
        "  <use x=\"191.76\" xlink:href=\"#glyph1-3\" y=\"42.885\"/>\n",
        "</g>\n",
        "<g style=\"fill:rgb(0%,0%,100%);fill-opacity:1;\">\n",
        "  <use x=\"259.791\" xlink:href=\"#glyph1-3\" y=\"42.885\"/>\n",
        "</g>\n",
        "<g style=\"fill:rgb(0%,100%,0%);fill-opacity:1;\">\n",
        "  <use x=\"27.795\" xlink:href=\"#glyph0-1\" y=\"78.159\"/>\n",
        "  <use x=\"36.927715\" xlink:href=\"#glyph0-2\" y=\"78.159\"/>\n",
        "  <use x=\"40.24825\" xlink:href=\"#glyph0-3\" y=\"78.159\"/>\n",
        "</g>\n",
        "<g style=\"fill:rgb(0%,100%,0%);fill-opacity:1;\">\n",
        "  <use x=\"55.715\" xlink:href=\"#glyph1-1\" y=\"75.932\"/>\n",
        "</g>\n",
        "<g style=\"fill:rgb(0%,100%,0%);fill-opacity:1;\">\n",
        "  <use x=\"123.746\" xlink:href=\"#glyph1-1\" y=\"75.932\"/>\n",
        "</g>\n",
        "<g style=\"fill:rgb(0%,100%,0%);fill-opacity:1;\">\n",
        "  <use x=\"191.778\" xlink:href=\"#glyph1-1\" y=\"75.932\"/>\n",
        "</g>\n",
        "<g style=\"fill:rgb(0%,100%,0%);fill-opacity:1;\">\n",
        "  <use x=\"259.809\" xlink:href=\"#glyph1-1\" y=\"75.932\"/>\n",
        "</g>\n",
        "<g style=\"fill:rgb(100%,0%,0%);fill-opacity:1;\">\n",
        "  <use x=\"89.455\" xlink:href=\"#glyph1-2\" y=\"76.9\"/>\n",
        "</g>\n",
        "<g style=\"fill:rgb(100%,0%,0%);fill-opacity:1;\">\n",
        "  <use x=\"157.486\" xlink:href=\"#glyph1-2\" y=\"76.9\"/>\n",
        "</g>\n",
        "<g style=\"fill:rgb(100%,0%,0%);fill-opacity:1;\">\n",
        "  <use x=\"225.517\" xlink:href=\"#glyph1-2\" y=\"76.9\"/>\n",
        "</g>\n",
        "<g style=\"fill:rgb(100%,0%,0%);fill-opacity:1;\">\n",
        "  <use x=\"293.548\" xlink:href=\"#glyph1-2\" y=\"76.9\"/>\n",
        "</g>\n",
        "<g style=\"fill:rgb(0%,0%,100%);fill-opacity:1;\">\n",
        "  <use x=\"3.32\" xlink:href=\"#glyph0-1\" y=\"112.175\"/>\n",
        "  <use x=\"12.452715\" xlink:href=\"#glyph0-2\" y=\"112.175\"/>\n",
        "  <use x=\"15.77325\" xlink:href=\"#glyph0-3\" y=\"112.175\"/>\n",
        "</g>\n",
        "<g style=\"fill:rgb(0%,0%,100%);fill-opacity:1;\">\n",
        "  <use x=\"55.697\" xlink:href=\"#glyph1-3\" y=\"110.916\"/>\n",
        "</g>\n",
        "<g style=\"fill:rgb(0%,0%,100%);fill-opacity:1;\">\n",
        "  <use x=\"123.729\" xlink:href=\"#glyph1-3\" y=\"110.916\"/>\n",
        "</g>\n",
        "<g style=\"fill:rgb(0%,0%,100%);fill-opacity:1;\">\n",
        "  <use x=\"191.76\" xlink:href=\"#glyph1-3\" y=\"110.916\"/>\n",
        "</g>\n",
        "<g style=\"fill:rgb(0%,0%,100%);fill-opacity:1;\">\n",
        "  <use x=\"259.791\" xlink:href=\"#glyph1-3\" y=\"110.916\"/>\n",
        "</g>\n",
        "<g style=\"fill:rgb(0%,100%,0%);fill-opacity:1;\">\n",
        "  <use x=\"27.795\" xlink:href=\"#glyph0-1\" y=\"146.191\"/>\n",
        "  <use x=\"36.927715\" xlink:href=\"#glyph0-2\" y=\"146.191\"/>\n",
        "  <use x=\"40.24825\" xlink:href=\"#glyph0-4\" y=\"146.191\"/>\n",
        "</g>\n",
        "<g style=\"fill:rgb(0%,100%,0%);fill-opacity:1;\">\n",
        "  <use x=\"55.715\" xlink:href=\"#glyph1-1\" y=\"143.963\"/>\n",
        "</g>\n",
        "<g style=\"fill:rgb(0%,100%,0%);fill-opacity:1;\">\n",
        "  <use x=\"123.746\" xlink:href=\"#glyph1-1\" y=\"143.963\"/>\n",
        "</g>\n",
        "<g style=\"fill:rgb(0%,100%,0%);fill-opacity:1;\">\n",
        "  <use x=\"191.778\" xlink:href=\"#glyph1-1\" y=\"143.963\"/>\n",
        "</g>\n",
        "<g style=\"fill:rgb(0%,100%,0%);fill-opacity:1;\">\n",
        "  <use x=\"259.809\" xlink:href=\"#glyph1-1\" y=\"143.963\"/>\n",
        "</g>\n",
        "<g style=\"fill:rgb(100%,0%,0%);fill-opacity:1;\">\n",
        "  <use x=\"89.455\" xlink:href=\"#glyph1-2\" y=\"144.932\"/>\n",
        "</g>\n",
        "<g style=\"fill:rgb(100%,0%,0%);fill-opacity:1;\">\n",
        "  <use x=\"157.486\" xlink:href=\"#glyph1-2\" y=\"144.932\"/>\n",
        "</g>\n",
        "<g style=\"fill:rgb(100%,0%,0%);fill-opacity:1;\">\n",
        "  <use x=\"225.517\" xlink:href=\"#glyph1-2\" y=\"144.932\"/>\n",
        "</g>\n",
        "<g style=\"fill:rgb(100%,0%,0%);fill-opacity:1;\">\n",
        "  <use x=\"293.548\" xlink:href=\"#glyph1-2\" y=\"144.932\"/>\n",
        "</g>\n",
        "<g style=\"fill:rgb(0%,0%,100%);fill-opacity:1;\">\n",
        "  <use x=\"3.32\" xlink:href=\"#glyph0-1\" y=\"180.206\"/>\n",
        "  <use x=\"12.452715\" xlink:href=\"#glyph0-2\" y=\"180.206\"/>\n",
        "  <use x=\"15.77325\" xlink:href=\"#glyph0-4\" y=\"180.206\"/>\n",
        "</g>\n",
        "<g style=\"fill:rgb(0%,0%,100%);fill-opacity:1;\">\n",
        "  <use x=\"55.697\" xlink:href=\"#glyph1-3\" y=\"178.947\"/>\n",
        "</g>\n",
        "<g style=\"fill:rgb(0%,0%,100%);fill-opacity:1;\">\n",
        "  <use x=\"123.729\" xlink:href=\"#glyph1-3\" y=\"178.947\"/>\n",
        "</g>\n",
        "<g style=\"fill:rgb(0%,0%,100%);fill-opacity:1;\">\n",
        "  <use x=\"191.76\" xlink:href=\"#glyph1-3\" y=\"178.947\"/>\n",
        "</g>\n",
        "<g style=\"fill:rgb(0%,0%,100%);fill-opacity:1;\">\n",
        "  <use x=\"259.791\" xlink:href=\"#glyph1-3\" y=\"178.947\"/>\n",
        "</g>\n",
        "<g style=\"fill:rgb(0%,100%,0%);fill-opacity:1;\">\n",
        "  <use x=\"27.795\" xlink:href=\"#glyph0-1\" y=\"214.222\"/>\n",
        "  <use x=\"36.927715\" xlink:href=\"#glyph0-2\" y=\"214.222\"/>\n",
        "  <use x=\"40.24825\" xlink:href=\"#glyph0-5\" y=\"214.222\"/>\n",
        "</g>\n",
        "<g style=\"fill:rgb(0%,100%,0%);fill-opacity:1;\">\n",
        "  <use x=\"55.715\" xlink:href=\"#glyph1-1\" y=\"211.994\"/>\n",
        "</g>\n",
        "<g style=\"fill:rgb(0%,100%,0%);fill-opacity:1;\">\n",
        "  <use x=\"123.746\" xlink:href=\"#glyph1-1\" y=\"211.994\"/>\n",
        "</g>\n",
        "<g style=\"fill:rgb(0%,100%,0%);fill-opacity:1;\">\n",
        "  <use x=\"191.778\" xlink:href=\"#glyph1-1\" y=\"211.994\"/>\n",
        "</g>\n",
        "<g style=\"fill:rgb(0%,100%,0%);fill-opacity:1;\">\n",
        "  <use x=\"259.809\" xlink:href=\"#glyph1-1\" y=\"211.994\"/>\n",
        "</g>\n",
        "<g style=\"fill:rgb(100%,0%,0%);fill-opacity:1;\">\n",
        "  <use x=\"89.455\" xlink:href=\"#glyph1-2\" y=\"212.963\"/>\n",
        "</g>\n",
        "<g style=\"fill:rgb(100%,0%,0%);fill-opacity:1;\">\n",
        "  <use x=\"157.486\" xlink:href=\"#glyph1-2\" y=\"212.963\"/>\n",
        "</g>\n",
        "<g style=\"fill:rgb(100%,0%,0%);fill-opacity:1;\">\n",
        "  <use x=\"225.517\" xlink:href=\"#glyph1-2\" y=\"212.963\"/>\n",
        "</g>\n",
        "<g style=\"fill:rgb(100%,0%,0%);fill-opacity:1;\">\n",
        "  <use x=\"293.548\" xlink:href=\"#glyph1-2\" y=\"212.963\"/>\n",
        "</g>\n",
        "<g style=\"fill:rgb(0%,0%,100%);fill-opacity:1;\">\n",
        "  <use x=\"3.32\" xlink:href=\"#glyph0-1\" y=\"248.238\"/>\n",
        "  <use x=\"12.452715\" xlink:href=\"#glyph0-2\" y=\"248.238\"/>\n",
        "  <use x=\"15.77325\" xlink:href=\"#glyph0-5\" y=\"248.238\"/>\n",
        "</g>\n",
        "<g style=\"fill:rgb(0%,0%,100%);fill-opacity:1;\">\n",
        "  <use x=\"55.697\" xlink:href=\"#glyph1-3\" y=\"246.979\"/>\n",
        "</g>\n",
        "<g style=\"fill:rgb(0%,0%,100%);fill-opacity:1;\">\n",
        "  <use x=\"123.729\" xlink:href=\"#glyph1-3\" y=\"246.979\"/>\n",
        "</g>\n",
        "<g style=\"fill:rgb(0%,0%,100%);fill-opacity:1;\">\n",
        "  <use x=\"191.76\" xlink:href=\"#glyph1-3\" y=\"246.979\"/>\n",
        "</g>\n",
        "<g style=\"fill:rgb(0%,0%,100%);fill-opacity:1;\">\n",
        "  <use x=\"259.791\" xlink:href=\"#glyph1-3\" y=\"246.979\"/>\n",
        "</g>\n",
        "<path d=\"M 3.401031 -0.0019375 C 3.401031 1.876969 1.877594 3.400406 -0.0013125 3.400406 C -1.880219 3.400406 -3.403656 1.876969 -3.403656 -0.0019375 C -3.403656 -1.876938 -1.880219 -3.400375 -0.0013125 -3.400375 C 1.877594 -3.400375 3.401031 -1.876938 3.401031 -0.0019375 Z \" style=\"fill-rule:nonzero;fill:rgb(50%,50%,50%);fill-opacity:1;stroke-width:0.3985;stroke-linecap:butt;stroke-linejoin:miter;stroke:rgb(50%,50%,50%);stroke-opacity:1;stroke-miterlimit:10;\" transform=\"matrix(1,0,0,-1,92.306,244.834)\"/>\n",
        "<path d=\"M 3.401031 68.033219 C 3.401031 69.912125 1.877594 71.435562 -0.0013125 71.435562 C -1.880219 71.435562 -3.403656 69.912125 -3.403656 68.033219 C -3.403656 66.154312 -1.880219 64.630875 -0.0013125 64.630875 C 1.877594 64.630875 3.401031 66.154312 3.401031 68.033219 Z \" style=\"fill-rule:nonzero;fill:rgb(50%,50%,50%);fill-opacity:1;stroke-width:0.3985;stroke-linecap:butt;stroke-linejoin:miter;stroke:rgb(50%,50%,50%);stroke-opacity:1;stroke-miterlimit:10;\" transform=\"matrix(1,0,0,-1,92.306,244.834)\"/>\n",
        "<path d=\"M 3.401031 136.064469 C 3.401031 137.943375 1.877594 139.466812 -0.0013125 139.466812 C -1.880219 139.466812 -3.403656 137.943375 -3.403656 136.064469 C -3.403656 134.185562 -1.880219 132.662125 -0.0013125 132.662125 C 1.877594 132.662125 3.401031 134.185562 3.401031 136.064469 Z \" style=\"fill-rule:nonzero;fill:rgb(50%,50%,50%);fill-opacity:1;stroke-width:0.3985;stroke-linecap:butt;stroke-linejoin:miter;stroke:rgb(50%,50%,50%);stroke-opacity:1;stroke-miterlimit:10;\" transform=\"matrix(1,0,0,-1,92.306,244.834)\"/>\n",
        "<path d=\"M 3.401031 204.095719 C 3.401031 205.974625 1.877594 207.498062 -0.0013125 207.498062 C -1.880219 207.498062 -3.403656 205.974625 -3.403656 204.095719 C -3.403656 202.216812 -1.880219 200.693375 -0.0013125 200.693375 C 1.877594 200.693375 3.401031 202.216812 3.401031 204.095719 Z \" style=\"fill-rule:nonzero;fill:rgb(50%,50%,50%);fill-opacity:1;stroke-width:0.3985;stroke-linecap:butt;stroke-linejoin:miter;stroke:rgb(50%,50%,50%);stroke-opacity:1;stroke-miterlimit:10;\" transform=\"matrix(1,0,0,-1,92.306,244.834)\"/>\n",
        "<path d=\"M 71.432281 -0.0019375 C 71.432281 1.876969 69.91275 3.400406 68.033844 3.400406 C 66.154938 3.400406 64.6315 1.876969 64.6315 -0.0019375 C 64.6315 -1.876938 66.154938 -3.400375 68.033844 -3.400375 C 69.91275 -3.400375 71.432281 -1.876938 71.432281 -0.0019375 Z \" style=\"fill-rule:nonzero;fill:rgb(50%,50%,50%);fill-opacity:1;stroke-width:0.3985;stroke-linecap:butt;stroke-linejoin:miter;stroke:rgb(50%,50%,50%);stroke-opacity:1;stroke-miterlimit:10;\" transform=\"matrix(1,0,0,-1,92.306,244.834)\"/>\n",
        "<path d=\"M 71.432281 68.033219 C 71.432281 69.912125 69.91275 71.435562 68.033844 71.435562 C 66.154938 71.435562 64.6315 69.912125 64.6315 68.033219 C 64.6315 66.154312 66.154938 64.630875 68.033844 64.630875 C 69.91275 64.630875 71.432281 66.154312 71.432281 68.033219 Z \" style=\"fill-rule:nonzero;fill:rgb(50%,50%,50%);fill-opacity:1;stroke-width:0.3985;stroke-linecap:butt;stroke-linejoin:miter;stroke:rgb(50%,50%,50%);stroke-opacity:1;stroke-miterlimit:10;\" transform=\"matrix(1,0,0,-1,92.306,244.834)\"/>\n",
        "<path d=\"M 71.432281 136.064469 C 71.432281 137.943375 69.91275 139.466812 68.033844 139.466812 C 66.154938 139.466812 64.6315 137.943375 64.6315 136.064469 C 64.6315 134.185562 66.154938 132.662125 68.033844 132.662125 C 69.91275 132.662125 71.432281 134.185562 71.432281 136.064469 Z \" style=\"fill-rule:nonzero;fill:rgb(50%,50%,50%);fill-opacity:1;stroke-width:0.3985;stroke-linecap:butt;stroke-linejoin:miter;stroke:rgb(50%,50%,50%);stroke-opacity:1;stroke-miterlimit:10;\" transform=\"matrix(1,0,0,-1,92.306,244.834)\"/>\n",
        "<path d=\"M 71.432281 204.095719 C 71.432281 205.974625 69.91275 207.498062 68.033844 207.498062 C 66.154938 207.498062 64.6315 205.974625 64.6315 204.095719 C 64.6315 202.216812 66.154938 200.693375 68.033844 200.693375 C 69.91275 200.693375 71.432281 202.216812 71.432281 204.095719 Z \" style=\"fill-rule:nonzero;fill:rgb(50%,50%,50%);fill-opacity:1;stroke-width:0.3985;stroke-linecap:butt;stroke-linejoin:miter;stroke:rgb(50%,50%,50%);stroke-opacity:1;stroke-miterlimit:10;\" transform=\"matrix(1,0,0,-1,92.306,244.834)\"/>\n",
        "<path d=\"M 139.467438 -0.0019375 C 139.467438 1.876969 137.944 3.400406 136.065094 3.400406 C 134.186188 3.400406 132.66275 1.876969 132.66275 -0.0019375 C 132.66275 -1.876938 134.186188 -3.400375 136.065094 -3.400375 C 137.944 -3.400375 139.467438 -1.876938 139.467438 -0.0019375 Z \" style=\"fill-rule:nonzero;fill:rgb(50%,50%,50%);fill-opacity:1;stroke-width:0.3985;stroke-linecap:butt;stroke-linejoin:miter;stroke:rgb(50%,50%,50%);stroke-opacity:1;stroke-miterlimit:10;\" transform=\"matrix(1,0,0,-1,92.306,244.834)\"/>\n",
        "<path d=\"M 139.467438 68.033219 C 139.467438 69.912125 137.944 71.435562 136.065094 71.435562 C 134.186188 71.435562 132.66275 69.912125 132.66275 68.033219 C 132.66275 66.154312 134.186188 64.630875 136.065094 64.630875 C 137.944 64.630875 139.467438 66.154312 139.467438 68.033219 Z \" style=\"fill-rule:nonzero;fill:rgb(50%,50%,50%);fill-opacity:1;stroke-width:0.3985;stroke-linecap:butt;stroke-linejoin:miter;stroke:rgb(50%,50%,50%);stroke-opacity:1;stroke-miterlimit:10;\" transform=\"matrix(1,0,0,-1,92.306,244.834)\"/>\n",
        "<path d=\"M 139.467438 136.064469 C 139.467438 137.943375 137.944 139.466812 136.065094 139.466812 C 134.186188 139.466812 132.66275 137.943375 132.66275 136.064469 C 132.66275 134.185562 134.186188 132.662125 136.065094 132.662125 C 137.944 132.662125 139.467438 134.185562 139.467438 136.064469 Z \" style=\"fill-rule:nonzero;fill:rgb(50%,50%,50%);fill-opacity:1;stroke-width:0.3985;stroke-linecap:butt;stroke-linejoin:miter;stroke:rgb(50%,50%,50%);stroke-opacity:1;stroke-miterlimit:10;\" transform=\"matrix(1,0,0,-1,92.306,244.834)\"/>\n",
        "<path d=\"M 139.467438 204.095719 C 139.467438 205.974625 137.944 207.498062 136.065094 207.498062 C 134.186188 207.498062 132.66275 205.974625 132.66275 204.095719 C 132.66275 202.216812 134.186188 200.693375 136.065094 200.693375 C 137.944 200.693375 139.467438 202.216812 139.467438 204.095719 Z \" style=\"fill-rule:nonzero;fill:rgb(50%,50%,50%);fill-opacity:1;stroke-width:0.3985;stroke-linecap:butt;stroke-linejoin:miter;stroke:rgb(50%,50%,50%);stroke-opacity:1;stroke-miterlimit:10;\" transform=\"matrix(1,0,0,-1,92.306,244.834)\"/>\n",
        "<path d=\"M 207.498688 -0.0019375 C 207.498688 1.876969 205.97525 3.400406 204.096344 3.400406 C 202.217438 3.400406 200.694 1.876969 200.694 -0.0019375 C 200.694 -1.876938 202.217438 -3.400375 204.096344 -3.400375 C 205.97525 -3.400375 207.498688 -1.876938 207.498688 -0.0019375 Z \" style=\"fill-rule:nonzero;fill:rgb(50%,50%,50%);fill-opacity:1;stroke-width:0.3985;stroke-linecap:butt;stroke-linejoin:miter;stroke:rgb(50%,50%,50%);stroke-opacity:1;stroke-miterlimit:10;\" transform=\"matrix(1,0,0,-1,92.306,244.834)\"/>\n",
        "<path d=\"M 207.498688 68.033219 C 207.498688 69.912125 205.97525 71.435562 204.096344 71.435562 C 202.217438 71.435562 200.694 69.912125 200.694 68.033219 C 200.694 66.154312 202.217438 64.630875 204.096344 64.630875 C 205.97525 64.630875 207.498688 66.154312 207.498688 68.033219 Z \" style=\"fill-rule:nonzero;fill:rgb(50%,50%,50%);fill-opacity:1;stroke-width:0.3985;stroke-linecap:butt;stroke-linejoin:miter;stroke:rgb(50%,50%,50%);stroke-opacity:1;stroke-miterlimit:10;\" transform=\"matrix(1,0,0,-1,92.306,244.834)\"/>\n",
        "<path d=\"M 207.498688 136.064469 C 207.498688 137.943375 205.97525 139.466812 204.096344 139.466812 C 202.217438 139.466812 200.694 137.943375 200.694 136.064469 C 200.694 134.185562 202.217438 132.662125 204.096344 132.662125 C 205.97525 132.662125 207.498688 134.185562 207.498688 136.064469 Z \" style=\"fill-rule:nonzero;fill:rgb(50%,50%,50%);fill-opacity:1;stroke-width:0.3985;stroke-linecap:butt;stroke-linejoin:miter;stroke:rgb(50%,50%,50%);stroke-opacity:1;stroke-miterlimit:10;\" transform=\"matrix(1,0,0,-1,92.306,244.834)\"/>\n",
        "<path d=\"M 207.498688 204.095719 C 207.498688 205.974625 205.97525 207.498062 204.096344 207.498062 C 202.217438 207.498062 200.694 205.974625 200.694 204.095719 C 200.694 202.216812 202.217438 200.693375 204.096344 200.693375 C 205.97525 200.693375 207.498688 202.216812 207.498688 204.095719 Z \" style=\"fill-rule:nonzero;fill:rgb(50%,50%,50%);fill-opacity:1;stroke-width:0.3985;stroke-linecap:butt;stroke-linejoin:miter;stroke:rgb(50%,50%,50%);stroke-opacity:1;stroke-miterlimit:10;\" transform=\"matrix(1,0,0,-1,92.306,244.834)\"/>\n",
        "</g>\n",
        "</svg>"
       ]
      }
     ],
     "prompt_number": 11
    },
    {
     "cell_type": "markdown",
     "metadata": {},
     "source": [
      "I am not sure what is the best approach here. Also, there are nothing on CF\n",
      "convention about staggered grids ([yet](https://github.com/axiomalaska/usgs-cmg-portal/issues/25)).  I will use\n",
      "the\n",
      "[shrink](https://github.com/hetland/octant/blob/b1163e5f462bf954088056aca009fd3f7cb51e86/octant/tools.py#L38)\n",
      "function from\n",
      "[octant](https://github.com/hetland/octant) to create variables with matching\n",
      "shapes."
     ]
    },
    {
     "cell_type": "code",
     "collapsed": false,
     "input": [
      "def shrink(a, b):\n",
      "    \"\"\"Return array shrunk to fit a specified shape by trimming or averaging.\"\"\"\n",
      "    if isinstance(b, np.ndarray):\n",
      "        if not len(a.shape) == len(b.shape):\n",
      "            raise Exception('Input arrays must have the same number of'\n",
      "                            'dimensions')\n",
      "        a = shrink(a, b.shape)\n",
      "        b = shrink(b, a.shape)\n",
      "        return (a, b)\n",
      "\n",
      "    if isinstance(b, int):\n",
      "        b = (b,)\n",
      "\n",
      "    if len(a.shape) == 1:  # 1D array is a special case\n",
      "        dim = b[-1]\n",
      "        while a.shape[0] > dim:  # Only shrink a.\n",
      "            if (dim - a.shape[0]) >= 2:  # Trim off edges evenly.\n",
      "                a = a[1:-1]\n",
      "            else:  # Or average adjacent cells.\n",
      "                a = 0.5*(a[1:] + a[:-1])\n",
      "    else:\n",
      "        for dim_idx in range(-(len(a.shape)), 0):\n",
      "            dim = b[dim_idx]\n",
      "            a = a.swapaxes(0, dim_idx)  # Put working dim first\n",
      "            while a.shape[0] > dim:  # Only shrink a\n",
      "                if (a.shape[0] - dim) >= 2:  # trim off edges evenly\n",
      "                    a = a[1:-1, :]\n",
      "                if (a.shape[0] - dim) == 1:  # Or average adjacent cells.\n",
      "                    a = 0.5*(a[1:, :] + a[:-1, :])\n",
      "            a = a.swapaxes(0, dim_idx)  # Swap working dim back.\n",
      "    return a"
     ],
     "language": "python",
     "metadata": {},
     "outputs": [],
     "prompt_number": 12
    },
    {
     "cell_type": "code",
     "collapsed": false,
     "input": [
      "# Removed the grid borders.\n",
      "angle = angle[1:-1, 1:-1]\n",
      "lon = lon[1:-1, 1:-1]\n",
      "lat = lat[1:-1, 1:-1]\n",
      "\n",
      "# Apply shrink.\n",
      "u = shrink(u.data, angle.shape)\n",
      "v = shrink(v.data, angle.shape)"
     ],
     "language": "python",
     "metadata": {},
     "outputs": [],
     "prompt_number": 13
    },
    {
     "cell_type": "code",
     "collapsed": false,
     "input": [
      "for key, var in dict(u=u, v=v, lon=lon, lat=lat, angle=angle).items():\n",
      "    print('{} shape {}'.format(key, var.shape))"
     ],
     "language": "python",
     "metadata": {},
     "outputs": [
      {
       "output_type": "stream",
       "stream": "stdout",
       "text": [
        "lat shape (80, 128)\n",
        "angle shape (80, 128)\n",
        "lon shape (80, 128)\n",
        "u shape (80, 128)\n",
        "v shape (80, 128)\n"
       ]
      }
     ],
     "prompt_number": 14
    },
    {
     "cell_type": "markdown",
     "metadata": {},
     "source": [
      "All shapes are consistent now!  But the process to get here was quite\n",
      "cumbersome.  Not mentioned that $u$ and $v$ are no longer cubes, so forget\n",
      "about iris high level stuff.\n",
      "\n",
      "Iris developers are aware of the\n",
      "[issue](https://github.com/SciTools/iris/issues/1164) and some actions\n",
      "have already been taken to allow users to load the data and take advantage of\n",
      "the cube object.\n",
      "\n",
      "Iris `cube.regrid()` could save us from all that, but regridding does not work\n",
      "with 2D coordinates :("
     ]
    },
    {
     "cell_type": "markdown",
     "metadata": {},
     "source": [
      "### Rotated grids\n",
      "\n",
      "Like with the staggered grids, iris has no automatic \"action\" on rotations\n",
      "when loading the dataset.  Different from the staggered grids there are CF\n",
      "conventions on how to store the angle.  And the conventions metadata tells us\n",
      "what is needed to get an un-rotated grid.\n",
      "\n",
      "```xml\n",
      "<entry id=\"angle_of_rotation_from_east_to_x\">\n",
      "    <canonical_units>degree</canonical_units>\n",
      "    <grib></grib>\n",
      "    <amip></amip>\n",
      "    <description>The quantity with standard name angle_of_rotation_from_east_to_x is the angle, anticlockwise reckoned positive, between due East and (dr/di)jk, where r(i,j,k) is the vector 3D position of the point with coordinate indices (i,j,k).  It could be used for rotating vector fields between model space and latitude-longitude space.</description>\n",
      "</entry>\n",
      "```\n",
      "\n",
      "Here is an example on how to get an un-rotated grid."
     ]
    },
    {
     "cell_type": "code",
     "collapsed": false,
     "input": [
      "def rot2d(x, y, ang):\n",
      "    \"\"\"Apply the rotation.\n",
      "    https://github.com/hetland/octant/blob/b1163e5f462bf954088056aca009fd3f7cb51e86/octant/tools.py#L26\n",
      "    \"\"\"\n",
      "    xr = x * np.cos(ang) - y * np.sin(ang)\n",
      "    yr = x * np.sin(ang) + y * np.cos(ang)\n",
      "    return xr, yr\n",
      "\n",
      "u, v = rot2d(u, v, angle.data)"
     ],
     "language": "python",
     "metadata": {},
     "outputs": [],
     "prompt_number": 15
    },
    {
     "cell_type": "code",
     "collapsed": false,
     "input": [
      "fig, ax = plt.subplots(figsize=(8, 6),\n",
      "                       subplot_kw=dict(projection=ccrs.PlateCarree()))\n",
      "\n",
      "ax.set_extent([lon.points.min(), lon.points.max(), lat.points.min(), lat.points.max()])\n",
      "ax.add_feature(LAND)\n",
      "ax.coastlines(resolution='10m')\n",
      "gl = ax.gridlines(draw_labels=True)\n",
      "gl.xlabels_top = gl.ylabels_right = False\n",
      "gl.xformatter = LONGITUDE_FORMATTER\n",
      "gl.yformatter = LATITUDE_FORMATTER\n",
      "\n",
      "kw = dict(scale=20, headwidth=2)\n",
      "n = 5\n",
      "q = ax.quiver(lon.points[::n, ::n], lat.points[::n, ::n],\n",
      "              u[::n, ::n], v[::n, ::n], color='black', **kw)"
     ],
     "language": "python",
     "metadata": {},
     "outputs": [
      {
       "metadata": {},
       "output_type": "display_data",
       "png": "[encoded data removed]",
       "text": [
        "<matplotlib.figure.Figure at 0x7f3af9a30950>"
       ]
      }
     ],
     "prompt_number": 16
    },
    {
     "cell_type": "markdown",
     "metadata": {},
     "source": [
      "### Dimensionless Vertical Coordinates\n",
      "\n",
      "The last topic on this post!  The Ocean Dimensionless Vertical Coordinates\n",
      "(ODVC) factory in iris.  Right now there is only one implemented:\n",
      "`Ocean Sigma over Z`.\n",
      "\n",
      "(`Ocean Sigma over Z` is very obscure and I have no idea why iris developers\n",
      "chose it to start ODVC.  For a list of more common ones see\n",
      "[here](https://github.com/SciTools/iris/issues/762))\n",
      "\n",
      "Note that the current version of iris will raise an Exception when trying to\n",
      "create the derived coordinate with insufficient formula terms.  However,\n",
      "staggered grids do not have the formula terms defined in all grids.\n",
      "(Congratulations!  Two issues in one!!).\n",
      "PR [#1485](https://github.com/SciTools/iris/pull/1485) should change from an\n",
      "Exception to a warning to fix that.  If the PR is accepted, iris will load the d\n",
      "data, failing only to constructs the vertical coordinate for those variables\n",
      "that do not have the formula terms properly specified."
     ]
    },
    {
     "cell_type": "code",
     "collapsed": false,
     "input": [
      "import sys\n",
      "from os.path import expanduser\n",
      "\n",
      "path = expanduser('~/Dropbox/pymodules/forks/iris/build/lib/')\n",
      "sys.path.insert(0, path)\n",
      "\n",
      "import iris\n",
      "iris.FUTURE.netcdf_promote = True"
     ],
     "language": "python",
     "metadata": {},
     "outputs": [],
     "prompt_number": 1
    },
    {
     "cell_type": "markdown",
     "metadata": {},
     "source": [
      "(I am importing iris from my local branch.  Some of the features I show below\n",
      "are not in the master development branch yet.)\n"
     ]
    },
    {
     "cell_type": "code",
     "collapsed": false,
     "input": [
      "url = 'http://tds.marine.rutgers.edu/thredds/dodsC/roms/espresso/2013_da/avg_Best/ESPRESSO_Real-Time_v2_Averages_Best_Available_best.ncd'\n",
      "\n",
      "cubes = iris.load_raw(url)"
     ],
     "language": "python",
     "metadata": {},
     "outputs": [
      {
       "output_type": "stream",
       "stream": "stderr",
       "text": [
        "/home/filipe/Dropbox/pymodules/forks/iris/build/lib/iris/fileformats/cf.py:1040: UserWarning: Ignoring formula terms variable u'h' referenced by data variable u'v' via variable u's_rho': Dimensions (u'eta_rho', u'xi_rho') do not span (u'time', u's_rho', u'eta_v', u'xi_v')\n",
        "  warnings.warn(msg)\n",
        "/home/filipe/Dropbox/pymodules/forks/iris/build/lib/iris/fileformats/cf.py:1040: UserWarning: Ignoring formula terms variable u'zeta' referenced by data variable u'v' via variable u's_rho': Dimensions (u'time', u'eta_rho', u'xi_rho') do not span (u'time', u's_rho', u'eta_v', u'xi_v')\n",
        "  warnings.warn(msg)\n",
        "/home/filipe/Dropbox/pymodules/forks/iris/build/lib/iris/fileformats/cf.py:1040: UserWarning: Ignoring formula terms variable u'h' referenced by data variable u'u' via variable u's_rho': Dimensions (u'eta_rho', u'xi_rho') do not span (u'time', u's_rho', u'eta_u', u'xi_u')\n",
        "  warnings.warn(msg)\n"
       ]
      },
      {
       "output_type": "stream",
       "stream": "stderr",
       "text": [
        "/home/filipe/Dropbox/pymodules/forks/iris/build/lib/iris/fileformats/cf.py:1040: UserWarning: Ignoring formula terms variable u'zeta' referenced by data variable u'u' via variable u's_rho': Dimensions (u'time', u'eta_rho', u'xi_rho') do not span (u'time', u's_rho', u'eta_u', u'xi_u')\n",
        "  warnings.warn(msg)\n",
        "/home/filipe/Dropbox/pymodules/forks/iris/build/lib/iris/fileformats/_pyke_rules/compiled_krb/fc_rules_cf_fc.py:1395: UserWarning: Gracefully filling 'time' dimension coordinate masked points\n",
        "  warnings.warn(msg.format(str(cf_coord_var.cf_name)))\n"
       ]
      },
      {
       "output_type": "stream",
       "stream": "stderr",
       "text": [
        "/home/filipe/Dropbox/pymodules/forks/iris/build/lib/iris/fileformats/netcdf.py:441: UserWarning: Unable to find coordinate for variable u'zeta'\n",
        "  '{!r}'.format(name))\n",
        "/home/filipe/Dropbox/pymodules/forks/iris/build/lib/iris/fileformats/netcdf.py:441: UserWarning: Unable to find coordinate for variable u'h'\n",
        "  '{!r}'.format(name))\n",
        "/home/filipe/Dropbox/pymodules/forks/iris/build/lib/iris/fileformats/netcdf.py:558: UserWarning: Unable to construct Ocean s-coordinate, generic form 1 factory due to insufficient source coordinates.\n",
        "  warnings.warn('{}'.format(e))\n"
       ]
      }
     ],
     "prompt_number": 2
    },
    {
     "cell_type": "code",
     "collapsed": false,
     "input": [
      "print(len(cubes))"
     ],
     "language": "python",
     "metadata": {},
     "outputs": [
      {
       "output_type": "stream",
       "stream": "stdout",
       "text": [
        "38\n"
       ]
      }
     ],
     "prompt_number": 3
    },
    {
     "cell_type": "markdown",
     "metadata": {},
     "source": [
      "Here is how to add extra formula terms, that you might want to get as cubes in\n",
      "case you want to construct the ODVC yourself, to iris `promote`:"
     ]
    },
    {
     "cell_type": "code",
     "collapsed": false,
     "input": [
      "from iris.fileformats.cf import reference_terms\n",
      "\n",
      "reference_terms['ocean_s_coordinate_g1'] = ['s', 'c', 'eta', 'depth', 'depth_c']\n",
      "\n",
      "cubes = iris.load_raw(url)"
     ],
     "language": "python",
     "metadata": {},
     "outputs": [
      {
       "output_type": "stream",
       "stream": "stderr",
       "text": [
        "/home/filipe/Dropbox/pymodules/forks/iris/build/lib/iris/fileformats/cf.py:1040: UserWarning: Ignoring formula terms variable u'h' referenced by data variable u'Cs_w' via variable u's_w': Dimensions (u'eta_rho', u'xi_rho') do not span (u's_w',)\n",
        "  warnings.warn(msg)\n",
        "/home/filipe/Dropbox/pymodules/forks/iris/build/lib/iris/fileformats/cf.py:1040: UserWarning: Ignoring formula terms variable u'zeta' referenced by data variable u'Cs_w' via variable u's_w': Dimensions (u'time', u'eta_rho', u'xi_rho') do not span (u's_w',)\n",
        "  warnings.warn(msg)\n",
        "/home/filipe/Dropbox/pymodules/forks/iris/build/lib/iris/fileformats/cf.py:1040: UserWarning: Ignoring formula terms variable u'h' referenced by data variable u'Cs_r' via variable u's_rho': Dimensions (u'eta_rho', u'xi_rho') do not span (u's_rho',)\n",
        "  warnings.warn(msg)\n",
        "/home/filipe/Dropbox/pymodules/forks/iris/build/lib/iris/fileformats/cf.py:1040: UserWarning: Ignoring formula terms variable u'zeta' referenced by data variable u'Cs_r' via variable u's_rho': Dimensions (u'time', u'eta_rho', u'xi_rho') do not span (u's_rho',)\n",
        "  warnings.warn(msg)\n",
        "/home/filipe/Dropbox/pymodules/forks/iris/build/lib/iris/fileformats/cf.py:1040: UserWarning: Ignoring formula terms variable u'h' referenced by data variable u's_w' via variable u's_w': Dimensions (u'eta_rho', u'xi_rho') do not span (u's_w',)\n",
        "  warnings.warn(msg)\n",
        "/home/filipe/Dropbox/pymodules/forks/iris/build/lib/iris/fileformats/cf.py:1040: UserWarning: Ignoring formula terms variable u'zeta' referenced by data variable u's_w' via variable u's_w': Dimensions (u'time', u'eta_rho', u'xi_rho') do not span (u's_w',)\n",
        "  warnings.warn(msg)\n",
        "/home/filipe/Dropbox/pymodules/forks/iris/build/lib/iris/fileformats/cf.py:1040: UserWarning: Ignoring formula terms variable u'h' referenced by data variable u's_rho' via variable u's_rho': Dimensions (u'eta_rho', u'xi_rho') do not span (u's_rho',)\n",
        "  warnings.warn(msg)\n",
        "/home/filipe/Dropbox/pymodules/forks/iris/build/lib/iris/fileformats/cf.py:1040: UserWarning: Ignoring formula terms variable u'zeta' referenced by data variable u's_rho' via variable u's_rho': Dimensions (u'time', u'eta_rho', u'xi_rho') do not span (u's_rho',)\n",
        "  warnings.warn(msg)\n"
       ]
      }
     ],
     "prompt_number": 4
    },
    {
     "cell_type": "code",
     "collapsed": false,
     "input": [
      "print(len(cubes))"
     ],
     "language": "python",
     "metadata": {},
     "outputs": [
      {
       "output_type": "stream",
       "stream": "stdout",
       "text": [
        "43\n"
       ]
      }
     ],
     "prompt_number": 5
    },
    {
     "cell_type": "code",
     "collapsed": false,
     "input": [
      "t = cubes.extract('sea_water_potential_temperature')[0]\n",
      "u = cubes.extract('eastward_sea_water_velocity')[0]"
     ],
     "language": "python",
     "metadata": {},
     "outputs": [],
     "prompt_number": 6
    },
    {
     "cell_type": "markdown",
     "metadata": {},
     "source": [
      "ROMS only specify `eta` at $\\rho$ points.  So no derived coordinate for $u$\n",
      "and $v$."
     ]
    },
    {
     "cell_type": "code",
     "collapsed": false,
     "input": [
      "u.derived_coords"
     ],
     "language": "python",
     "metadata": {},
     "outputs": [
      {
       "metadata": {},
       "output_type": "pyout",
       "prompt_number": 7,
       "text": [
        "()"
       ]
      }
     ],
     "prompt_number": 7
    },
    {
     "cell_type": "markdown",
     "metadata": {},
     "source": [
      "But things work nicely for properties at the $\\rho$ points, like temperature."
     ]
    },
    {
     "cell_type": "code",
     "collapsed": false,
     "input": [
      "t.derived_coords[0].name()"
     ],
     "language": "python",
     "metadata": {},
     "outputs": [
      {
       "metadata": {},
       "output_type": "pyout",
       "prompt_number": 8,
       "text": [
        "'sea_surface_height_above_reference_ellipsoid'"
       ]
      }
     ],
     "prompt_number": 8
    },
    {
     "cell_type": "markdown",
     "metadata": {},
     "source": [
      "Once if we find an easier way to get a consistent shaped cube from staggered\n",
      "grids we will be ready to use PR\n",
      "[#1304](https://github.com/SciTools/iris/pull/1304) and say MatlabTM+snctools\n",
      "goodbye forever!\n",
      "\n",
      "Take a look at\n",
      "[this](http://nbviewer.ipython.org/gist/ocefpaf/18e8fe29005c148fe0e3) notebook\n",
      "to see examples for **ocean sigma coordinate**, **ocean s-coordinate**,\n",
      "**ocean sigma over z coordinate** (CF-1.6).  The notebook also has\n",
      "**ocean s coordinate g1** and **ocean s coordinate g2**\n",
      "(to be included in [CF-1.7](https://cf-pcmdi.llnl.gov/trac/ticket/93)).\n",
      "\n",
      "Before someone asks why I implemented sg1 and sg2, that are not in the CF \n",
      "conventions yet, and why left **ocean double sigma coordinate** out,  well...\n",
      "I could not find a single dataset with **ocean double sigma coordinate**, and\n",
      "every modern ROMS output is either sg1 or sg2."
     ]
    },
    {
     "cell_type": "code",
     "collapsed": false,
     "input": [
      "from IPython.core.display import HTML\n",
      "\n",
      "HTML(html)"
     ],
     "language": "python",
     "metadata": {},
     "outputs": [
      {
       "html": [
        "\n",
        "<small>\n",
        "<p> This post was written as an IPython notebook.  It is available for\n",
        "<a href=\"http://ocefpaf.github.com/python4oceanographers/downloads/\n",
        "notebooks/2014-12-29-iris_ocean_models.ipynb\">download</a> or as a static\n",
        "<a href=\"http://nbviewer.ipython.org/url/ocefpaf.github.com/\n",
        "python4oceanographers/downloads/notebooks/2014-12-29-iris_ocean_models.ipynb\">html</a>.</p>\n",
        "<p></p>\n",
        "<a rel=\"license\" href=\"http://creativecommons.org/licenses/by-sa/4.0/\"><img\n",
        "alt=\"Creative Commons License\" style=\"border-width:0\"\n",
        "src=\"http://i.creativecommons.org/l/by-sa/4.0/88x31.png\" /></a><br /><span\n",
        "xmlns:dct=\"http://purl.org/dc/terms/\"\n",
        "property=\"dct:title\">python4oceanographers</span> by <a\n",
        "xmlns:cc=\"http://creativecommons.org/ns#\" href=\"http://ocefpaf.github.io/\"\n",
        "property=\"cc:attributionName\" rel=\"cc:attributionURL\">Filipe Fernandes</a> is\n",
        "licensed under a <a rel=\"license\"\n",
        "href=\"http://creativecommons.org/licenses/by-sa/4.0/\">Creative Commons\n",
        "Attribution-ShareAlike 4.0 International License</a>.<br />Based on a work at <a\n",
        "xmlns:dct=\"http://purl.org/dc/terms/\" href=\"http://ocefpaf.github.io/\"\n",
        "rel=\"dct:source\">http://ocefpaf.github.io/</a>.\n",
        " "
       ],
       "metadata": {},
       "output_type": "pyout",
       "prompt_number": 11,
       "text": [
        "<IPython.core.display.HTML at 0x7f04102f4c10>"
       ]
      }
     ],
     "prompt_number": 11
    }
   ],
   "metadata": {}
  }
 ]
}