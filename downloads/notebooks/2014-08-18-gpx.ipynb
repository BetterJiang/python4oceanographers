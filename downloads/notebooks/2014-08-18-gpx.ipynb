{
 "metadata": {
  "kernelspec": {
   "codemirror_mode": {
    "name": "python",
    "version": 3
   },
   "display_name": "Python 3",
   "language": "python",
   "name": "python3"
  },
  "name": "",
  "signature": "sha256:da13ce35d3cdd1591ad219d8ac893aaa80672656d76d873cd49ff82696cedbaf"
 },
 "nbformat": 3,
 "nbformat_minor": 0,
 "worksheets": [
  {
   "cells": [
    {
     "cell_type": "code",
     "collapsed": false,
     "input": [
      "from IPython.core.display import HTML\n",
      "\n",
      "with open('creative_commons.txt', 'r') as f:\n",
      "    html = f.read()\n",
      "    \n",
      "with open('./styles/custom.css', 'r') as f:\n",
      "    styles = f.read()\n",
      "    \n",
      "HTML(styles)\n",
      "\n",
      "name = '2014-08-11-gpx'\n",
      "\n",
      "html = \"\"\"\n",
      "<small>\n",
      "<p> This post was written as an IPython notebook.  It is available for\n",
      "<a href=\"http://ocefpaf.github.com/python4oceanographers/downloads/\n",
      "notebooks/%s.ipynb\">download</a> or as a static\n",
      "<a href=\"http://nbviewer.ipython.org/url/ocefpaf.github.com/\n",
      "python4oceanographers/downloads/notebooks/%s.ipynb\">html</a>.</p>\n",
      "<p></p>\n",
      "%s \"\"\" % (name, name, html)\n",
      "\n",
      "import seaborn\n",
      "%matplotlib inline"
     ],
     "language": "python",
     "metadata": {},
     "outputs": []
    },
    {
     "cell_type": "markdown",
     "metadata": {},
     "source": [
      "http://nbviewer.ipython.org/github/titsworth/hsvpy-runtalk/tree/master/"
     ]
    },
    {
     "cell_type": "code",
     "collapsed": false,
     "input": [
      "import gpxpy\n",
      "gpx = gpxpy.parse(open('./data/2014_08_05_farol.gpx'))\n",
      "\n",
      "print(\"{} track(s)\".format(len(gpx.tracks)))\n",
      "track = gpx.tracks[0]\n",
      "\n",
      "print(\"{} segment(s)\".format(len(track.segments)))\n",
      "segment = track.segments[0]\n",
      "\n",
      "print(\"{} point(s)\".format(len(segment.points)))"
     ],
     "language": "python",
     "metadata": {},
     "outputs": []
    },
    {
     "cell_type": "code",
     "collapsed": false,
     "input": [
      "data = []\n",
      "segment_length = segment.length_3d()\n",
      "for point_idx, point in enumerate(segment.points):\n",
      "    data.append([point.longitude, point.latitude,\n",
      "                 point.elevation, point.time, segment.get_speed(point_idx)])\n",
      "    \n",
      "from pandas import DataFrame\n",
      "\n",
      "columns = ['Longitude', 'Latitude', 'Altitude', 'Time', 'Speed']\n",
      "df = DataFrame(data, columns=columns)\n",
      "df.head()"
     ],
     "language": "python",
     "metadata": {},
     "outputs": []
    },
    {
     "cell_type": "code",
     "collapsed": false,
     "input": [
      "import numpy as np\n",
      "import seawater as sw\n",
      "from oceans.ff_tools import smoo1\n",
      "\n",
      "_, angles = sw.dist(df['Latitude'], df['Longitude'])\n",
      "angles = np.r_[0, angles]\n",
      "\n",
      "# Normalize the speed to use as the length of the arrows\n",
      "r = df['Speed'] / df['Speed'].max()\n",
      "kw = dict(window_len=31, window='hanning')\n",
      "df['u'] = smoo1(r * np.cos(angles), **kw)\n",
      "df['v'] = smoo1(r * np.sin(angles), **kw)"
     ],
     "language": "python",
     "metadata": {},
     "outputs": []
    },
    {
     "cell_type": "code",
     "collapsed": false,
     "input": [
      "import mplleaflet\n",
      "import matplotlib.pyplot as plt\n",
      "\n",
      "fig, ax = plt.subplots()\n",
      "df = df.dropna()\n",
      "ax.plot(df['Longitude'], df['Latitude'],\n",
      "        color='#FF0000', linewidth=5, alpha=0.5)\n",
      "sub = 3\n",
      "ax.quiver(df['Longitude'][::sub], df['Latitude'][::sub], df['u'][::sub], df['v'][::sub], color='k', alpha=0.5, scale=5)\n",
      "mplleaflet.display(fig=ax.figure)"
     ],
     "language": "python",
     "metadata": {},
     "outputs": []
    },
    {
     "cell_type": "code",
     "collapsed": false,
     "input": [
      "import os\n",
      "from glob import glob\n",
      "\n",
      "def load_run_data(gpx_path, filter=\"\"):\n",
      "    gpx_files = glob(os.path.join(gpx_path, filter + \"*.gpx\"))\n",
      "    run_data = []\n",
      "    for file_idx, gpx_file in enumerate(gpx_files): \n",
      "        gpx = gpxpy.parse(open(gpx_file, 'r'))\n",
      "        # Loop through tracks\n",
      "        for track_idx, track in enumerate(gpx.tracks):\n",
      "            track_name = track.name\n",
      "            track_time = track.get_time_bounds().start_time\n",
      "            track_length = track.length_3d()\n",
      "            track_duration = track.get_duration()\n",
      "            track_speed = track.get_moving_data().max_speed\n",
      "            \n",
      "            for seg_idx, segment in enumerate(track.segments):\n",
      "                segment_length = segment.length_3d()\n",
      "                for point_idx, point in enumerate(segment.points):\n",
      "                    run_data.append([file_idx, os.path.basename(gpx_file), track_idx, track_name, \n",
      "                                     track_time, track_length, track_duration, track_speed, \n",
      "                                     seg_idx, segment_length, point.time, point.latitude, \n",
      "                                     point.longitude, point.elevation, segment.get_speed(point_idx)])\n",
      "    return run_data"
     ],
     "language": "python",
     "metadata": {},
     "outputs": []
    },
    {
     "cell_type": "code",
     "collapsed": false,
     "input": [
      "data = load_run_data(gpx_path='./data/GPX/', filter=\"\")\n",
      "df = DataFrame(data, columns=['File_Index', 'File_Name', 'Track_Index', 'Track_Name',\n",
      "                              'Track_Time', 'Track_Length', 'Track_Duration', 'Track_Max_Speed',\n",
      "                              'Segment_Index', 'Segment_Length', 'Point_Time', 'Point_Latitude',\n",
      "                              'Point_Longitude', 'Point_Elevation', 'Point_Speed'])\n",
      "df.head()"
     ],
     "language": "python",
     "metadata": {},
     "outputs": []
    },
    {
     "cell_type": "code",
     "collapsed": false,
     "input": [
      "cols = ['File_Index', 'Track_Time', 'Track_Length', 'Track_Duration', 'Track_Max_Speed']\n",
      "tracks = df[cols].copy()\n",
      "tracks['Track_Length'] /= 1e3\n",
      "tracks.drop_duplicates(inplace=True)\n",
      "tracks.head()"
     ],
     "language": "python",
     "metadata": {},
     "outputs": []
    },
    {
     "cell_type": "code",
     "collapsed": false,
     "input": [
      "# Add Track Year and Month columns based on track time\n",
      "tracks['Track_Year'] = tracks['Track_Time'].apply(lambda x: x.year)\n",
      "tracks['Track_Month'] = tracks['Track_Time'].apply(lambda x: x.month)\n",
      "tracks_grouped = tracks.groupby(['Track_Year','Track_Month'])\n",
      "tracks_grouped.describe().head()"
     ],
     "language": "python",
     "metadata": {},
     "outputs": []
    },
    {
     "cell_type": "code",
     "collapsed": false,
     "input": [
      "figsize=(7, 3.5)\n",
      "\n",
      "tracks_grouped = tracks.groupby(['Track_Year', 'Track_Month'])\n",
      "ax = tracks_grouped['Track_Length'].sum().plot(kind='bar', figsize=figsize)\n",
      "xlabels = [text.get_text() for text in  ax.get_xticklabels()]\n",
      "ax.set_xticklabels(xlabels, rotation=70)\n",
      "ax.set_ylabel('Distance (km)')"
     ],
     "language": "python",
     "metadata": {},
     "outputs": []
    },
    {
     "cell_type": "code",
     "collapsed": false,
     "input": [
      "def plot_run_lenth_per_month(year, month):\n",
      "    try:\n",
      "        focus_group = tracks_grouped.get_group((year, month))\n",
      "        focus_group = focus_group.set_index('Track_Time')\n",
      "    \n",
      "        focus_group.groupby(lambda x: x.day)['Track_Length'].sum().reindex(range(1,32)).plot(kind='bar', figsize=(15,5))\n",
      "    except:\n",
      "        print(\"No data\")\n",
      "        \n",
      "from IPython.html.widgets.interaction import interactive\n",
      "interactive(plot_run_lenth_per_month, year=(2013, 2014), month=(1, 12))"
     ],
     "language": "python",
     "metadata": {},
     "outputs": []
    },
    {
     "cell_type": "code",
     "collapsed": false,
     "input": [
      "tracks.boxplot(column='Track_Length', by=['Track_Year','Track_Month'], figsize=figsize)\n",
      "\n",
      "ax = plt.gca()\n",
      "xlabels = [text.get_text() for text in ax.get_xticklabels()]\n",
      "ax.set_xticklabels(xlabels, rotation=70)\n",
      "ax.set_ylabel('Distance (km)')"
     ],
     "language": "python",
     "metadata": {},
     "outputs": []
    },
    {
     "cell_type": "code",
     "collapsed": false,
     "input": [
      "fig = plt.figure(figsize=figsize)\n",
      "seaborn.boxplot(tracks['Track_Length'], tracks['Track_Month'])"
     ],
     "language": "python",
     "metadata": {},
     "outputs": []
    },
    {
     "cell_type": "code",
     "collapsed": false,
     "input": [
      "fig = plt.figure(figsize=figsize)\n",
      "seaborn.violinplot(tracks['Track_Length'], tracks['Track_Month'], inner=\"stick\")"
     ],
     "language": "python",
     "metadata": {},
     "outputs": []
    },
    {
     "cell_type": "code",
     "collapsed": false,
     "input": [
      "def load_run_data(gpx_path, filter=\"\"):\n",
      "\n",
      "    # List all of the GPX files in the path\n",
      "    gpx_files = glob(os.path.join(gpx_path, filter+\"*.gpx\"))    \n",
      "    run_data = []\n",
      "    for file_idx, gpx_file in enumerate(gpx_files): \n",
      "        # Parse the GPX File\n",
      "        try:\n",
      "            gpx = gpxpy.parse(open(gpx_file, 'r'))\n",
      "        except: \n",
      "            # Runkeeper often leaves off some XML tags causing an ivalid file.\n",
      "            # This can be fixed, but for the purpose of this talk, lets just \n",
      "            # remove the file from the data set.\n",
      "            os.remove(gpx_file)\n",
      "            continue\n",
      "        run_data_tmp = [[file_idx, gpx_file, point.latitude,point.longitude, point.elevation] \n",
      "                            for track in gpx.tracks \n",
      "                                for segment in track.segments \n",
      "                                    for point in segment.points]\n",
      "        run_data += run_data_tmp\n",
      "    return run_data\n",
      "\n",
      "def clear_frame(ax): \n",
      "    ax.xaxis.set_visible(False) \n",
      "    ax.yaxis.set_visible(False) \n",
      "    for spine in ax.spines.values(): \n",
      "        spine.set_visible(False)\n",
      "        \n",
      "def plot_run_data(coords, **kwargs):\n",
      "    columns = ['Index', 'File_Name', 'Latitude', 'Longitude', 'Altitude']\n",
      "    coords_df = DataFrame(coords, columns=columns)\n",
      "    grouped = coords_df.groupby('Index')\n",
      "    \n",
      "    fig, ax = plt.subplots(figsize=kwargs.get('figsize', (13 ,8)))\n",
      "\n",
      "    bgcolor = kwargs.get('bgcolor', '#001933')\n",
      "    color = kwargs.get('color', '#FFFFFF')\n",
      "    linewidth = kwargs.get('linewidth', .035)\n",
      "    alpha = kwargs.get('alpha', 0.5)\n",
      "\n",
      "    kw = dict(color=color, linewidth=linewidth, alpha=alpha)\n",
      "    grouped.plot('Longitude', 'Latitude', **kw)\n",
      "    ax.grid(False)\n",
      "    ax.patch.set_facecolor(bgcolor)\n",
      "    ax.set_aspect('auto','box','C')\n",
      "    clear_frame(ax)\n",
      "    fig.subplots_adjust(left=0, right=1, top=1, bottom=.1)\n",
      "    return ax"
     ],
     "language": "python",
     "metadata": {},
     "outputs": []
    },
    {
     "cell_type": "code",
     "collapsed": false,
     "input": [
      "df = load_run_data(gpx_path='./data/GPX/')\n",
      "ax = plot_run_data(df, figsize=(4, 3), alpha=0.85,\n",
      "                   bgcolor='#0A2A0A')\n",
      "ax.axis([-46.74, -46.71, -23.57, -23.55])"
     ],
     "language": "python",
     "metadata": {},
     "outputs": []
    },
    {
     "cell_type": "code",
     "collapsed": false,
     "input": [
      "HTML(html)"
     ],
     "language": "python",
     "metadata": {},
     "outputs": []
    },
    {
     "cell_type": "code",
     "collapsed": false,
     "input": [
      "import srtm\n",
      "import gpxpy\n",
      "\n",
      "def get_line(gpx):\n",
      "    previous_point = None\n",
      "    length = 0\n",
      "    lengths, elevations = [], []\n",
      "    for point in gpx.walk(only_points=True):\n",
      "        if previous_point:\n",
      "            length += previous_point.distance_2d(point)\n",
      "        previous_point = point\n",
      "        lengths.append(length)\n",
      "        elevations.append(point.elevation)\n",
      "    return lengths, elevations\n",
      "\n",
      "def sample_gpx():\n",
      "    return gpxpy.parse(open('./data/2014_07_26_pai_ignacio.gpx'))\n",
      "\n",
      "# Raw\n",
      "gpx = sample_gpx()\n",
      "lengths_raw, elevs_raw = get_line(gpx)\n",
      "\n",
      "# SRTM\n",
      "#gpx = sample_gpx()\n",
      "data = srtm.get_data()\n",
      "data.add_elevations(gpx)\n",
      "lengths_srtm, elevs_srtm = get_line(gpx)\n",
      "\n",
      "# SRTM Smooth\n",
      "gpx = sample_gpx()\n",
      "data = srtm.get_data()\n",
      "data.add_elevations(gpx, smooth=True)\n",
      "lengths_smoo, elevs_smoo = get_line(gpx)"
     ],
     "language": "python",
     "metadata": {},
     "outputs": []
    },
    {
     "cell_type": "code",
     "collapsed": false,
     "input": [
      "fig, ax = plt.subplots(figsize=figsize)\n",
      "ax.plot(lengths_raw, elevs_raw, label='Raw GPS')\n",
      "ax.plot(lengths_srtm, elevs_srtm, label='SRTM')\n",
      "ax.plot(lengths_smoo, elevs_smoo, label='Smoothed SRTM')\n",
      "l = ax.legend()"
     ],
     "language": "python",
     "metadata": {},
     "outputs": []
    },
    {
     "cell_type": "code",
     "collapsed": false,
     "input": [
      "s = gpx.tracks[0].segments[0]\n",
      "lon, lat = np.array([(p.longitude, p.latitude) for p in s.points]).mean(axis=0)\n",
      "center = (lat, lon)\n",
      "\n",
      "elev = srtm.get_data()\n",
      "\n",
      "img = elev.get_image((400, 400),\n",
      "                     (center[0] - 0.5, center[0] + 1),\n",
      "                     (center[1] - 0.5, center[1] + 1), 1000)\n",
      "\n",
      "img"
     ],
     "language": "python",
     "metadata": {},
     "outputs": []
    },
    {
     "cell_type": "code",
     "collapsed": false,
     "input": [
      "from io import BytesIO\n",
      "\n",
      "from PIL import Image\n",
      "from IPython.core import display\n",
      "\n",
      "\n",
      "def display_pil_image(im):\n",
      "   b = BytesIO()\n",
      "   im.save(b, format='png')\n",
      "   data = b.getvalue()\n",
      "\n",
      "   ip_img = display.Image(data=data, format='png', embed=True)\n",
      "   return ip_img._repr_png_()\n",
      "\n",
      "\n",
      "png_formatter = get_ipython().display_formatter.formatters['image/png']\n",
      "dpi = png_formatter.for_type(Image.Image, display_pil_image)"
     ],
     "language": "python",
     "metadata": {},
     "outputs": []
    }
   ],
   "metadata": {}
  }
 ]
}