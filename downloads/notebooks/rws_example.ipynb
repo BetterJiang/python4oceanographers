{
 "metadata": {
  "name": "",
  "signature": "sha256:d03ab0f77be7229f28140b5632215e4762cb0821b4eeac33dc1bf4bc97148082"
 },
 "nbformat": 3,
 "nbformat_minor": 0,
 "worksheets": [
  {
   "cells": [
    {
     "cell_type": "markdown",
     "metadata": {},
     "source": [
      "Compute Rossby wave source from the long-term mean flow.\n",
      "\n",
      "This example uses the standard interface."
     ]
    },
    {
     "cell_type": "code",
     "collapsed": false,
     "input": [
      "import numpy as np\n",
      "import matplotlib as mpl\n",
      "mpl.rcParams['mathtext.default'] = 'regular'\n",
      "import matplotlib.pyplot as plt\n",
      "from mpl_toolkits.basemap import Basemap, addcyclic\n",
      "from netCDF4 import Dataset\n",
      "\n",
      "from windspharm.standard import VectorWind\n",
      "from windspharm.tools import prep_data, recover_data, order_latdim\n",
      "from windspharm.examples import example_data_path"
     ],
     "language": "python",
     "metadata": {},
     "outputs": []
    },
    {
     "cell_type": "code",
     "collapsed": false,
     "input": [
      "# Read zonal and meridional wind components from file using the cdms2 module\n",
      "# from CDAT. The components are defined on pressure levels and are in separate\n",
      "# files.\n",
      "with Dataset(example_data_path('uwnd_mean.nc'), 'r') as nc:\n",
      "    uwnd = nc.variables['uwnd'][:]\n",
      "    lons = nc.variables['longitude'][:]\n",
      "    lats = nc.variables['latitude'][:]\n",
      "    \n",
      "with Dataset(example_data_path('vwnd_mean.nc'), 'r') as nc:\n",
      "    vwnd = nc.variables['vwnd'][:]"
     ],
     "language": "python",
     "metadata": {},
     "outputs": []
    },
    {
     "cell_type": "code",
     "collapsed": false,
     "input": [
      "# The standard interface requires that latitude and longitude be the leading\n",
      "# dimensions of the input wind components, and that wind components must be\n",
      "# either 2D or 3D arrays. The data read in is 3D and has latitude and\n",
      "# longitude as the last dimensions. The bundled tools can make the process of\n",
      "# re-shaping the data a lot easier to manage.\n",
      "uwnd, uwnd_info = prep_data(uwnd, 'tyx')\n",
      "vwnd, vwnd_info = prep_data(vwnd, 'tyx')\n",
      "\n",
      "# It is also required that the latitude dimension is north-to-south. Again the\n",
      "# bundled tools make this easy.\n",
      "lats, uwnd, vwnd = order_latdim(lats, uwnd, vwnd)\n",
      "\n",
      "# Create a VectorWind instance to handle the computations.\n",
      "w = VectorWind(uwnd, vwnd)\n",
      "\n",
      "# Compute components of rossby wave source: absolute vorticity, divergence,\n",
      "# irrotational (divergent) wind components, gradients of absolute vorticity.\n",
      "eta = w.absolutevorticity()\n",
      "div = w.divergence()\n",
      "uchi, vchi = w.irrotationalcomponent()\n",
      "etax, etay = w.gradient(eta)\n",
      "\n",
      "# Combine the components to form the Rossby wave source term. Re-shape the\n",
      "# Rossby wave source array to the 4D shape of the wind components as they were\n",
      "# read off files.\n",
      "S = -eta * div - uchi * etax + vchi * etay\n",
      "S = recover_data(S, uwnd_info)\n",
      "\n",
      "# Pick out the field for December and add a cyclic point (the cyclic point is\n",
      "# for plotting purposes).\n",
      "S_dec, lons_c = addcyclic(S[11], lons)"
     ],
     "language": "python",
     "metadata": {},
     "outputs": []
    },
    {
     "cell_type": "code",
     "collapsed": false,
     "input": [
      "def make_map():\n",
      "    fig, ax = plt.subplots(figsize=(10, 8))\n",
      "    m = Basemap(projection='cyl', resolution='c', llcrnrlon=0, llcrnrlat=-90,\n",
      "                urcrnrlon=360.01, urcrnrlat=90)\n",
      "    m.drawcoastlines()\n",
      "    m.drawparallels((-90, -60, -30, 0, 30, 60, 90), labels=[1, 0, 0, 0])\n",
      "    m.drawmeridians((0, 60, 120, 180, 240, 300, 360), labels=[0, 0, 0, 1])\n",
      "    ax.m = m\n",
      "    return fig, ax"
     ],
     "language": "python",
     "metadata": {},
     "outputs": []
    },
    {
     "cell_type": "code",
     "collapsed": false,
     "input": [
      "# Plot Rossby wave source.\n",
      "fig, ax = make_map()\n",
      "lon, lat = np.meshgrid(lons_c, lats)\n",
      "clevs = [-30, -25, -20, -15, -10, -5, 0, 5, 10, 15, 20, 25, 30]\n",
      "cs = ax.m.contourf(lon, lat, S_dec*1e11, clevs, cmap=plt.cm.RdBu_r,\n",
      "                   extend='both', latlon=True)\n",
      "fig.colorbar(cs, orientation='horizontal')\n",
      "_ = ax.set_title('Rossby Wave Source ($10^{-11}$s$^{-1}$)', fontsize=16)"
     ],
     "language": "python",
     "metadata": {},
     "outputs": []
    },
    {
     "cell_type": "code",
     "collapsed": false,
     "input": [],
     "language": "python",
     "metadata": {},
     "outputs": []
    }
   ],
   "metadata": {}
  }
 ]
}