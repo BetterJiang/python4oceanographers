{
 "metadata": {
  "name": "",
  "signature": "sha256:7b0f71ef7bc253212230ae4e39c1f00b0ae2eecfa8437807c4648559b804e636"
 },
 "nbformat": 3,
 "nbformat_minor": 0,
 "worksheets": [
  {
   "cells": [
    {
     "cell_type": "code",
     "collapsed": false,
     "input": [
      "name = '2015-05-18-utide_ellipse'\n",
      "title = \"Plotting tidal ellipse with Utide\"\n",
      "\n",
      "import os\n",
      "from datetime import datetime\n",
      "\n",
      "from IPython.core.display import HTML\n",
      "\n",
      "%matplotlib inline\n",
      "\n",
      "with open('creative_commons.txt', 'r') as f:\n",
      "    html = f.read()\n",
      "    \n",
      "with open('./styles/custom.css', 'r') as f:\n",
      "    styles = f.read()\n",
      "    \n",
      "HTML(styles)\n",
      "\n",
      "\n",
      "html = \"\"\"\n",
      "<small>\n",
      "<p> This post was written as an IPython notebook.  It is available for\n",
      "<a href=\"http://ocefpaf.github.com/python4oceanographers/downloads/\n",
      "notebooks/%s.ipynb\">download</a> or as a static\n",
      "<a href=\"http://nbviewer.ipython.org/url/ocefpaf.github.com/\n",
      "python4oceanographers/downloads/notebooks/%s.ipynb\">html</a>.</p>\n",
      "<p></p>\n",
      "%s \"\"\" % (name, name, html)\n",
      "\n",
      "hour = datetime.utcnow().strftime('%H:%M')\n",
      "comments=\"true\"\n",
      "\n",
      "date = '-'.join(name.split('-')[:3])\n",
      "slug = '-'.join(name.split('-')[3:])\n",
      "\n",
      "metadata = dict(title=title,\n",
      "                date=date,\n",
      "                hour=hour,\n",
      "                comments=comments,\n",
      "                slug=slug,\n",
      "                name=name)\n",
      "\n",
      "markdown = \"\"\"Title: {title}\n",
      "date:  {date} {hour}\n",
      "comments: {comments}\n",
      "slug: {slug}\n",
      "\n",
      "{{% notebook {name}.ipynb cells[1:] %}}\n",
      "\"\"\".format(**metadata)\n",
      "\n",
      "content = os.path.abspath(os.path.join(os.getcwd(), os.pardir, os.pardir, '{}.md'.format(name)))\n",
      "with open('{}'.format(content), 'w') as f:\n",
      "    f.writelines(markdown)"
     ],
     "language": "python",
     "metadata": {},
     "outputs": [],
     "prompt_number": 1
    },
    {
     "cell_type": "markdown",
     "metadata": {},
     "source": [
      "This post is the result of an online conversation about tidal ellipses and how\n",
      "to compute them in Python.  We will be using the same data from previous posts."
     ]
    },
    {
     "cell_type": "code",
     "collapsed": false,
     "input": [
      "import pandas as pd\n",
      "from datetime import datetime\n",
      "\n",
      "fname = './data/15t30717.3f1'\n",
      "cols = ['j', 'u', 'v', 'temp', 'sal', 'y', 'mn', 'd', 'h', 'mi']\n",
      "\n",
      "\n",
      "df = pd.read_table(fname , delim_whitespace=True, names=cols)\n",
      "dates = [datetime(*x) for x in\n",
      "         zip(df['y'], df['mn'], df['d'], df['h'], df['mi'])]\n",
      "df.index = dates\n",
      "df.drop(['y', 'mn', 'd', 'h', 'mi', 'j'], axis=1, inplace=True)\n",
      "df.head()"
     ],
     "language": "python",
     "metadata": {},
     "outputs": [
      {
       "html": [
        "<div style=\"max-height:1000px;max-width:1500px;overflow:auto;\">\n",
        "<table border=\"1\" class=\"dataframe\">\n",
        "  <thead>\n",
        "    <tr style=\"text-align: right;\">\n",
        "      <th></th>\n",
        "      <th>u</th>\n",
        "      <th>v</th>\n",
        "      <th>temp</th>\n",
        "      <th>sal</th>\n",
        "    </tr>\n",
        "  </thead>\n",
        "  <tbody>\n",
        "    <tr>\n",
        "      <th>1993-07-18 03:00:00</th>\n",
        "      <td>11.7</td>\n",
        "      <td>-1.3</td>\n",
        "      <td>28.3</td>\n",
        "      <td>29.2</td>\n",
        "    </tr>\n",
        "    <tr>\n",
        "      <th>1993-07-18 04:00:00</th>\n",
        "      <td>12.3</td>\n",
        "      <td>-4.5</td>\n",
        "      <td>28.1</td>\n",
        "      <td>29.4</td>\n",
        "    </tr>\n",
        "    <tr>\n",
        "      <th>1993-07-18 05:00:00</th>\n",
        "      <td>9.6</td>\n",
        "      <td>-5.3</td>\n",
        "      <td>27.6</td>\n",
        "      <td>31.0</td>\n",
        "    </tr>\n",
        "    <tr>\n",
        "      <th>1993-07-18 06:00:00</th>\n",
        "      <td>7.6</td>\n",
        "      <td>-2.3</td>\n",
        "      <td>27.2</td>\n",
        "      <td>32.4</td>\n",
        "    </tr>\n",
        "    <tr>\n",
        "      <th>1993-07-18 07:00:00</th>\n",
        "      <td>10.6</td>\n",
        "      <td>-2.0</td>\n",
        "      <td>27.2</td>\n",
        "      <td>32.5</td>\n",
        "    </tr>\n",
        "  </tbody>\n",
        "</table>\n",
        "</div>"
       ],
       "metadata": {},
       "output_type": "pyout",
       "prompt_number": 2,
       "text": [
        "                        u    v  temp   sal\n",
        "1993-07-18 03:00:00  11.7 -1.3  28.3  29.2\n",
        "1993-07-18 04:00:00  12.3 -4.5  28.1  29.4\n",
        "1993-07-18 05:00:00   9.6 -5.3  27.6  31.0\n",
        "1993-07-18 06:00:00   7.6 -2.3  27.2  32.4\n",
        "1993-07-18 07:00:00  10.6 -2.0  27.2  32.5"
       ]
      }
     ],
     "prompt_number": 2
    },
    {
     "cell_type": "markdown",
     "metadata": {},
     "source": [
      "And now we can compute the tidal analysis using\n",
      "[utide](https://github.com/wesleybowman/UTide)."
     ]
    },
    {
     "cell_type": "code",
     "collapsed": false,
     "input": [
      "from utide._solve import solve\n",
      "from matplotlib.dates import date2num\n",
      "\n",
      "\n",
      "time = date2num(df.index.to_pydatetime())\n",
      "\n",
      "kw = dict(lat=32, cnstit='auto', notrend=True, rmin=0.95, method='ols',\n",
      "          nodiagn=True, linci=True, conf_int=True)\n",
      "\n",
      "coef = solve(time, df['u'].values, df['v'].values, **kw)"
     ],
     "language": "python",
     "metadata": {},
     "outputs": [
      {
       "output_type": "stream",
       "stream": "stdout",
       "text": [
        "solve: \n",
        "matrix prep ... "
       ]
      },
      {
       "output_type": "stream",
       "stream": "stdout",
       "text": [
        "\n",
        "Solution ..."
       ]
      },
      {
       "output_type": "stream",
       "stream": "stdout",
       "text": [
        "\n",
        "conf. int vls... "
       ]
      },
      {
       "output_type": "stream",
       "stream": "stdout",
       "text": [
        "\n",
        "Done.\n",
        "\n"
       ]
      }
     ],
     "prompt_number": 3
    },
    {
     "cell_type": "markdown",
     "metadata": {},
     "source": [
      "The two cells below just clean the results a little bit and show a table with the\n",
      "ellipse parameters."
     ]
    },
    {
     "cell_type": "code",
     "collapsed": false,
     "input": [
      "import numpy as np\n",
      "\n",
      "\n",
      "frq = coef['aux']['frq']\n",
      "for k, v in coef.items():\n",
      "    if not isinstance(v, np.ndarray) or v.shape < frq.shape:\n",
      "        del coef[k]"
     ],
     "language": "python",
     "metadata": {},
     "outputs": [],
     "prompt_number": 4
    },
    {
     "cell_type": "code",
     "collapsed": false,
     "input": [
      "df = pd.DataFrame.from_dict(coef)\n",
      "df['frq'] = frq\n",
      "\n",
      "index = [s.strip() for s in df['name']]\n",
      "df['name'] = index\n",
      "\n",
      "df = df.set_index('name').sort(['Lsmaj', 'Lsmin'], ascending=False)\n",
      "\n",
      "df.head()"
     ],
     "language": "python",
     "metadata": {},
     "outputs": [
      {
       "html": [
        "<div style=\"max-height:1000px;max-width:1500px;overflow:auto;\">\n",
        "<table border=\"1\" class=\"dataframe\">\n",
        "  <thead>\n",
        "    <tr style=\"text-align: right;\">\n",
        "      <th></th>\n",
        "      <th>Lsmaj</th>\n",
        "      <th>Lsmaj_ci</th>\n",
        "      <th>Lsmin</th>\n",
        "      <th>Lsmin_ci</th>\n",
        "      <th>g</th>\n",
        "      <th>g_ci</th>\n",
        "      <th>theta</th>\n",
        "      <th>theta_ci</th>\n",
        "      <th>frq</th>\n",
        "    </tr>\n",
        "    <tr>\n",
        "      <th>name</th>\n",
        "      <th></th>\n",
        "      <th></th>\n",
        "      <th></th>\n",
        "      <th></th>\n",
        "      <th></th>\n",
        "      <th></th>\n",
        "      <th></th>\n",
        "      <th></th>\n",
        "      <th></th>\n",
        "    </tr>\n",
        "  </thead>\n",
        "  <tbody>\n",
        "    <tr>\n",
        "      <th>MM</th>\n",
        "      <td>10.025156</td>\n",
        "      <td>1.330969</td>\n",
        "      <td>-1.472702</td>\n",
        "      <td>1.598556</td>\n",
        "      <td>357.242244</td>\n",
        "      <td>8.045043</td>\n",
        "      <td>28.903073</td>\n",
        "      <td>9.227543</td>\n",
        "      <td>0.001512</td>\n",
        "    </tr>\n",
        "    <tr>\n",
        "      <th>O1</th>\n",
        "      <td>4.120147</td>\n",
        "      <td>1.011807</td>\n",
        "      <td>-3.293878</td>\n",
        "      <td>0.175315</td>\n",
        "      <td>149.042548</td>\n",
        "      <td>39.399034</td>\n",
        "      <td>170.177282</td>\n",
        "      <td>31.926241</td>\n",
        "      <td>0.038731</td>\n",
        "    </tr>\n",
        "    <tr>\n",
        "      <th>MSF</th>\n",
        "      <td>3.638211</td>\n",
        "      <td>1.087993</td>\n",
        "      <td>-1.875688</td>\n",
        "      <td>0.567645</td>\n",
        "      <td>348.262650</td>\n",
        "      <td>23.515309</td>\n",
        "      <td>151.782141</td>\n",
        "      <td>17.031935</td>\n",
        "      <td>0.002822</td>\n",
        "    </tr>\n",
        "    <tr>\n",
        "      <th>K1</th>\n",
        "      <td>2.570776</td>\n",
        "      <td>1.049644</td>\n",
        "      <td>-1.988055</td>\n",
        "      <td>0.177977</td>\n",
        "      <td>87.852104</td>\n",
        "      <td>58.807203</td>\n",
        "      <td>9.605010</td>\n",
        "      <td>46.156704</td>\n",
        "      <td>0.041781</td>\n",
        "    </tr>\n",
        "    <tr>\n",
        "      <th>J1</th>\n",
        "      <td>2.115125</td>\n",
        "      <td>0.334725</td>\n",
        "      <td>-1.994584</td>\n",
        "      <td>0.944709</td>\n",
        "      <td>32.351296</td>\n",
        "      <td>232.821085</td>\n",
        "      <td>70.504177</td>\n",
        "      <td>243.696261</td>\n",
        "      <td>0.043293</td>\n",
        "    </tr>\n",
        "  </tbody>\n",
        "</table>\n",
        "</div>"
       ],
       "metadata": {},
       "output_type": "pyout",
       "prompt_number": 5,
       "text": [
        "          Lsmaj  Lsmaj_ci     Lsmin  Lsmin_ci           g        g_ci  \\\n",
        "name                                                                    \n",
        "MM    10.025156  1.330969 -1.472702  1.598556  357.242244    8.045043   \n",
        "O1     4.120147  1.011807 -3.293878  0.175315  149.042548   39.399034   \n",
        "MSF    3.638211  1.087993 -1.875688  0.567645  348.262650   23.515309   \n",
        "K1     2.570776  1.049644 -1.988055  0.177977   87.852104   58.807203   \n",
        "J1     2.115125  0.334725 -1.994584  0.944709   32.351296  232.821085   \n",
        "\n",
        "           theta    theta_ci       frq  \n",
        "name                                    \n",
        "MM     28.903073    9.227543  0.001512  \n",
        "O1    170.177282   31.926241  0.038731  \n",
        "MSF   151.782141   17.031935  0.002822  \n",
        "K1      9.605010   46.156704  0.041781  \n",
        "J1     70.504177  243.696261  0.043293  "
       ]
      }
     ],
     "prompt_number": 5
    },
    {
     "cell_type": "markdown",
     "metadata": {},
     "source": [
      "For the figure we can use the\n",
      "[Python translation](https://github.com/pwcazenave/PyFVCOM/blob/master/PyFVCOM/tidal_ellipse.py)\n",
      "of Zhigang Xu's tidal_ellipse \n",
      "[MATLAB tools](http://woodshole.er.usgs.gov/operations/sea-mat/tidal_ellipse-html/ap2ep.html)."
     ]
    },
    {
     "cell_type": "code",
     "collapsed": false,
     "input": [
      "MM = df.ix['MM']\n",
      "SEMA, SEMI = MM['Lsmaj'], MM['Lsmin']\n",
      "PHA, INC = MM['g'], MM['theta']\n",
      "ECC = SEMI / SEMA "
     ],
     "language": "python",
     "metadata": {},
     "outputs": [],
     "prompt_number": 6
    },
    {
     "cell_type": "markdown",
     "metadata": {},
     "source": [
      "And here is the plot!"
     ]
    },
    {
     "cell_type": "code",
     "collapsed": false,
     "input": [
      "import tidal_ellipse\n",
      "\n",
      "tidal_ellipse.do_the_plot(SEMA, ECC, INC, PHA)"
     ],
     "language": "python",
     "metadata": {},
     "outputs": [
      {
       "metadata": {},
       "output_type": "display_data",
       "png": "[encoded data removed]",
       "text": [
        "<matplotlib.figure.Figure at 0x7f9777a0be10>"
       ]
      }
     ],
     "prompt_number": 7
    },
    {
     "cell_type": "code",
     "collapsed": false,
     "input": [
      "HTML(html)"
     ],
     "language": "python",
     "metadata": {},
     "outputs": [
      {
       "html": [
        "\n",
        "<small>\n",
        "<p> This post was written as an IPython notebook.  It is available for\n",
        "<a href=\"http://ocefpaf.github.com/python4oceanographers/downloads/\n",
        "notebooks/2015-05-18-utide_ellipse.ipynb\">download</a> or as a static\n",
        "<a href=\"http://nbviewer.ipython.org/url/ocefpaf.github.com/\n",
        "python4oceanographers/downloads/notebooks/2015-05-18-utide_ellipse.ipynb\">html</a>.</p>\n",
        "<p></p>\n",
        "<a rel=\"license\" href=\"http://creativecommons.org/licenses/by-sa/4.0/\"><img\n",
        "alt=\"Creative Commons License\" style=\"border-width:0\"\n",
        "src=\"http://i.creativecommons.org/l/by-sa/4.0/88x31.png\" /></a><br /><span\n",
        "xmlns:dct=\"http://purl.org/dc/terms/\"\n",
        "property=\"dct:title\">python4oceanographers</span> by <a\n",
        "xmlns:cc=\"http://creativecommons.org/ns#\" href=\"http://ocefpaf.github.io/\"\n",
        "property=\"cc:attributionName\" rel=\"cc:attributionURL\">Filipe Fernandes</a> is\n",
        "licensed under a <a rel=\"license\"\n",
        "href=\"http://creativecommons.org/licenses/by-sa/4.0/\">Creative Commons\n",
        "Attribution-ShareAlike 4.0 International License</a>.<br />Based on a work at <a\n",
        "xmlns:dct=\"http://purl.org/dc/terms/\" href=\"http://ocefpaf.github.io/\"\n",
        "rel=\"dct:source\">http://ocefpaf.github.io/</a>.\n",
        " "
       ],
       "metadata": {},
       "output_type": "pyout",
       "prompt_number": 8,
       "text": [
        "<IPython.core.display.HTML at 0x7f9777a0bed0>"
       ]
      }
     ],
     "prompt_number": 8
    }
   ],
   "metadata": {}
  }
 ]
}