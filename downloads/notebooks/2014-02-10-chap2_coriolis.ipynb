{
 "metadata": {
  "name": "",
  "signature": "sha256:ae33d1ddafedbe1e03d61849fe8c827dbedddf0118e60b40f459f9b31ae6994f"
 },
 "nbformat": 3,
 "nbformat_minor": 0,
 "worksheets": [
  {
   "cells": [
    {
     "cell_type": "code",
     "collapsed": false,
     "input": [
      "from IPython.core.display import HTML\n",
      "\n",
      "with open('creative_commons.txt', 'r') as f:\n",
      "    html = f.read()\n",
      "    \n",
      "name = '2014-02-10-chap2_coriolis'\n",
      "\n",
      "html = \"\"\"\n",
      "<small>\n",
      "<p> This post was written as an IPython notebook.  It is available for\n",
      "<a href=\"https://ocefpaf.github.com/python4oceanographers/downloads/\n",
      "notebooks/%s.ipynb\">download</a> or as a static\n",
      "<a href=\"https://nbviewer.ipython.org/url/ocefpaf.github.com/\n",
      "python4oceanographers/downloads/notebooks/%s.ipynb\">html</a>.</p>\n",
      "<p></p>\n",
      "%s \"\"\" % (name, name, html)\n",
      "\n",
      "%matplotlib inline\n",
      "from matplotlib import style\n",
      "style.use('ggplot')"
     ],
     "language": "python",
     "metadata": {},
     "outputs": [],
     "prompt_number": 1
    },
    {
     "cell_type": "markdown",
     "metadata": {},
     "source": [
      "Another post for my Introduction to Dynamical Oceanography class using the\n",
      "MatlabTM numerical exercises from\n",
      "[Introduction to Geophysical Fluid Dynamics, 2nd Edition](http://store.elsevier.com/product.jsp?isbn=9780120887590)\n",
      "\n",
      "This time I implemented two mfiles `coriolisdis.m` (discretization of inertial oscillation) and `numcorio.m` (a function\n",
      "need by the former) both from chapter two (Coriolis).  Again I added some \"pythoness\" (or maybe I should say \"IPythoness?\") to MatlabTM version.  I used the new IPython widgets to enter some of the parameters."
     ]
    },
    {
     "cell_type": "code",
     "collapsed": false,
     "input": [
      "import numpy as np\n",
      "import matplotlib.pyplot as plt\n",
      "from IPython.html import widgets\n",
      "from IPython.display import display"
     ],
     "language": "python",
     "metadata": {},
     "outputs": [],
     "prompt_number": 2
    },
    {
     "cell_type": "markdown",
     "metadata": {},
     "source": [
      "### PARAMETERS"
     ]
    },
    {
     "cell_type": "code",
     "collapsed": false,
     "input": [
      "lat = widgets.BoundedFloatTextWidget(value=-32, min=-90, max=90, description = 'Latitude:')\n",
      "fdt = widgets.FloatTextWidget(value=0.05, description = 'Time step:')  # (To test convergence decrease the value.)\n",
      "\n",
      "display(lat)\n",
      "display(fdt)"
     ],
     "language": "python",
     "metadata": {},
     "outputs": [],
     "prompt_number": 3
    },
    {
     "cell_type": "code",
     "collapsed": false,
     "input": [
      "# Coriolis.\n",
      "twopi = 2*np.pi\n",
      "f = 2 * twopi / (24 * 3600) * np.cos(np.pi / 180 * (lat.value))\n",
      "\n",
      "# Inertial period.\n",
      "TP = twopi / f\n",
      "dt = fdt.value / f\n",
      "\n",
      "# Sampling of the discrete solution every dtsol second.\n",
      "dtsol = 1 * dt\n",
      "\n",
      "# Intitial stuff.\n",
      "t0 = 0\n",
      "u0 = 0\n",
      "v0 = 1\n",
      "\n",
      "# Simulation time (note the time is used, not the number of steps).\n",
      "tf = 10 * TP"
     ],
     "language": "python",
     "metadata": {},
     "outputs": [],
     "prompt_number": 4
    },
    {
     "cell_type": "markdown",
     "metadata": {},
     "source": [
      "### RESOLUTION"
     ]
    },
    {
     "cell_type": "code",
     "collapsed": false,
     "input": [
      "def numcorio(f, dt, t0, tf, u0, v0, dtsol, alpha=0):\n",
      "    \"\"\"Function which discretises the inertial oscillation.\n",
      "    If other equations need to be discretised, this can be done\n",
      "    by adapting numcorio.py (see Numerical Exercises 2.7 and 2.8).\"\"\"\n",
      "    # Initial condition.\n",
      "    u, v, t = [], [], []\n",
      "    u.append(u0)\n",
      "    v.append(v0)\n",
      "    t.append(t0)\n",
      "\n",
      "    # Starting iterations.\n",
      "    un = u0\n",
      "    vn = v0\n",
      "    time = t0\n",
      "\n",
      "    # Parameters appearing in the discretisations.\n",
      "    umafdt = (1 - alpha) * f * dt\n",
      "    afdt = alpha * f * dt\n",
      "    det1 = 1 / (1 + afdt ** 2)\n",
      "\n",
      "    n = 0\n",
      "    # Extract solution every dtsol/dt time steps.\n",
      "    nsol = dtsol / dt\n",
      "    isol = 0\n",
      "\n",
      "    # Loop until final time tf is reached.\n",
      "    while time < tf:\n",
      "        # Right hand side of discretisation.\n",
      "        ru = un + umafdt * vn\n",
      "        rv = vn - umafdt * un\n",
      "        # Solve linear system for the new velocities unp and vnp.\n",
      "        unp = (ru + afdt * rv) * det1\n",
      "        vnp = (rv - afdt * ru) * det1\n",
      "        # Update time.\n",
      "        time = time + dt\n",
      "        # Call old value the values you just calculated.\n",
      "        un = unp\n",
      "        vn = vnp\n",
      "        # Increase counter of time steps.\n",
      "        n += 1\n",
      "        # Save solution every nsol steps.\n",
      "        if np.mod(n, nsol) == 0:\n",
      "            isol += 1\n",
      "            # print(isol)\n",
      "            t.append(time)\n",
      "            v.append(vn)\n",
      "            u.append(un)\n",
      "\n",
      "    return map(np.array, (u, v, t))"
     ],
     "language": "python",
     "metadata": {},
     "outputs": [],
     "prompt_number": 5
    },
    {
     "cell_type": "markdown",
     "metadata": {},
     "source": [
      "Changing the time step $(f\\Delta t=0.005)$ allows to see convergence even in the case where the\n",
      "velocity norm increases.  The program calls function numcorio.py.\n",
      "(Used to prepare Figures 2.11.)"
     ]
    },
    {
     "cell_type": "code",
     "collapsed": false,
     "input": [
      "# Explicit.\n",
      "ue, ve, te = numcorio(f, dt, t0, tf, u0, v0, dtsol, alpha=0)\n",
      "\n",
      "# Implicit.\n",
      "ui, vi, ti = numcorio(f, dt, t0, tf, u0, v0, dtsol, alpha=1)\n",
      "\n",
      "# Trapezoidal.\n",
      "ut, vt, tt = numcorio(f, dt, t0, tf, u0, v0, dtsol, alpha=0.5)"
     ],
     "language": "python",
     "metadata": {},
     "outputs": [],
     "prompt_number": 6
    },
    {
     "cell_type": "markdown",
     "metadata": {},
     "source": [
      "### PLOT"
     ]
    },
    {
     "cell_type": "code",
     "collapsed": false,
     "input": [
      "fig, ax = plt.subplots(figsize=(4, 4))\n",
      "ax.plot(ue, ve, ':', label=r'Explicity ($\\alpha$ = 0)')\n",
      "ax.plot(ui, vi, '.', label=r'Implicity ($\\alpha$ = 1)')\n",
      "ax.plot(ut, vt, '-', label=r'Trapezoidal ($\\alpha$ = 0.5)')\n",
      "ax.set_xlabel('u')\n",
      "ax.set_ylabel('v')\n",
      "ax.legend()\n",
      "_ = ax.axis([-2, 2, -2, 2])"
     ],
     "language": "python",
     "metadata": {},
     "outputs": [
      {
       "metadata": {},
       "output_type": "display_data",
       "png": "[encoded data removed]",
       "text": [
        "<matplotlib.figure.Figure at 0x7f049c03a490>"
       ]
      }
     ],
     "prompt_number": 7
    },
    {
     "cell_type": "markdown",
     "metadata": {},
     "source": [
      "Have fun!\n",
      "\n",
      "ps: For the interpretation of the figure above you must attend to my lectures ;-)"
     ]
    },
    {
     "cell_type": "code",
     "collapsed": false,
     "input": [
      "HTML(html)"
     ],
     "language": "python",
     "metadata": {},
     "outputs": [
      {
       "html": [
        "\n",
        "<small>\n",
        "<p> This post was written as an IPython notebook.  It is available for\n",
        "<a href=\"https://ocefpaf.github.com/python4oceanographers/downloads/\n",
        "notebooks/2014-02-10-chap2_coriolis.ipynb\">download</a> or as a static\n",
        "<a href=\"https://nbviewer.ipython.org/url/ocefpaf.github.com/\n",
        "python4oceanographers/downloads/notebooks/2014-02-10-chap2_coriolis.ipynb\">html</a>.</p>\n",
        "<p></p>\n",
        "<a rel=\"license\" href=\"https://creativecommons.org/licenses/by-sa/4.0/\"><img\n",
        "alt=\"Creative Commons License\" style=\"border-width:0\"\n",
        "src=\"https://i.creativecommons.org/l/by-sa/4.0/88x31.png\" /></a><br /><span\n",
        "xmlns:dct=\"https://purl.org/dc/terms/\"\n",
        "property=\"dct:title\">python4oceanographers</span> by <a\n",
        "xmlns:cc=\"https://creativecommons.org/ns#\" href=\"https://ocefpaf.github.io/\"\n",
        "property=\"cc:attributionName\" rel=\"cc:attributionURL\">Filipe Fernandes</a> is\n",
        "licensed under a <a rel=\"license\"\n",
        "href=\"https://creativecommons.org/licenses/by-sa/4.0/\">Creative Commons\n",
        "Attribution-ShareAlike 4.0 International License</a>.<br />Based on a work at <a\n",
        "xmlns:dct=\"https://purl.org/dc/terms/\" href=\"https://ocefpaf.github.io/\"\n",
        "rel=\"dct:source\">https://ocefpaf.github.io/</a>.\n",
        " "
       ],
       "metadata": {},
       "output_type": "pyout",
       "prompt_number": 8,
       "text": [
        "<IPython.core.display.HTML at 0x7f048116c590>"
       ]
      }
     ],
     "prompt_number": 8
    }
   ],
   "metadata": {}
  }
 ]
}