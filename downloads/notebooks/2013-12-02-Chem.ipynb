{
 "metadata": {
  "name": "",
  "signature": "sha256:68d8486b95a5ade1c1b1da6593121881c032af895b0936869def489436234899"
 },
 "nbformat": 3,
 "nbformat_minor": 0,
 "worksheets": [
  {
   "cells": [
    {
     "cell_type": "code",
     "collapsed": false,
     "input": [
      "from IPython.core.display import HTML\n",
      "\n",
      "with open('creative_commons.txt', 'r') as f:\n",
      "    html = f.read()\n",
      "    \n",
      "name = '2013-12-02-Chem'\n",
      "\n",
      "html = \"\"\"\n",
      "<small>\n",
      "<p> This post was written as an IPython notebook.  It is available for\n",
      "<a href=\"https://ocefpaf.github.com/python4oceanographers/downloads/\n",
      "notebooks/%s.ipynb\">download</a> or as a static\n",
      "<a href=\"https://nbviewer.ipython.org/url/ocefpaf.github.com/\n",
      "python4oceanographers/downloads/notebooks/%s.ipynb\">html</a>.</p>\n",
      "<p></p>\n",
      "%s \"\"\" % (name, name, html)\n",
      "\n",
      "%matplotlib inline\n",
      "from matplotlib import style\n",
      "style.use('ggplot')"
     ],
     "language": "python",
     "metadata": {},
     "outputs": [],
     "prompt_number": 1
    },
    {
     "cell_type": "markdown",
     "metadata": {},
     "source": [
      "This post is just a quick introduction on how to use\n",
      "[rdkit](http://www.rdkit.org/) python bindings to draw chemical molecules.\n",
      "\n",
      "I have a very special friend that downloads terrible jpegs/pngs from the\n",
      "internet to use in her lectures.  Every time, I promise myself that I\n",
      "will make her better figures.  Well, now it is time to fulfill that promise!\n",
      "\n",
      "First, I had to familiarize myself with the **S**implified **M**olecular **I**nput **L**ine **E**ntry\n",
      "**S**ystem or [SMILES](http://en.wikipedia.org/wiki/Simplified_molecular-input_line-entry_system).\n",
      "In a nutshell SMILES is a string representation for molecules.\n",
      "\n",
      "Also, I'm not a chemist, so I relied on [PubChem](http://pubchem.ncbi.nlm.nih.gov/)\n",
      "to find the SMILES strings for the figures below."
     ]
    },
    {
     "cell_type": "markdown",
     "metadata": {},
     "source": [
      "I will use the `Chem` submodule from `rdkit`.  `rdkit.Chem` has an option to override\n",
      "the `IPython.display` and show the molecules objects in the notebook.\n",
      "But I was unable to make it work in my environment.  No biggie though, I just used the\n",
      "`MolToMPL()` method and displayed the plots as a matplotlib figures."
     ]
    },
    {
     "cell_type": "code",
     "collapsed": false,
     "input": [
      "from rdkit import Chem\n",
      "from rdkit.Chem import Draw\n",
      "\n",
      "size = (120, 120)  # Smaller figures than the default."
     ],
     "language": "python",
     "metadata": {},
     "outputs": [],
     "prompt_number": 2
    },
    {
     "cell_type": "markdown",
     "metadata": {},
     "source": [
      "First a simple figure with some ions."
     ]
    },
    {
     "cell_type": "code",
     "collapsed": false,
     "input": [
      "m = Chem.MolFromSmiles('[Na+].[Cl-]')\n",
      "fig = Draw.MolToMPL(m, size=size)"
     ],
     "language": "python",
     "metadata": {},
     "outputs": [
      {
       "metadata": {},
       "output_type": "display_data",
       "png": "[encoded data removed]",
       "text": [
        "<matplotlib.figure.Figure at 0x7efd1a2af710>"
       ]
      }
     ],
     "prompt_number": 3
    },
    {
     "cell_type": "markdown",
     "metadata": {},
     "source": [
      "An organic-something ring (I think)."
     ]
    },
    {
     "cell_type": "code",
     "collapsed": false,
     "input": [
      "m = Chem.MolFromSmiles('c1ccccc1')\n",
      "fig = Draw.MolToMPL(m, size=size)"
     ],
     "language": "python",
     "metadata": {},
     "outputs": [
      {
       "metadata": {},
       "output_type": "display_data",
       "png": "[encoded data removed]",
       "text": [
        "<matplotlib.figure.Figure at 0x7efd184dd890>"
       ]
      }
     ],
     "prompt_number": 4
    },
    {
     "cell_type": "markdown",
     "metadata": {},
     "source": [
      "One of the molecules that I'm sure she will need."
     ]
    },
    {
     "cell_type": "code",
     "collapsed": false,
     "input": [
      "m = Chem.MolFromSmiles('C1=C2C(=CC(=C1Cl)Cl)OC3=CC(=C(C=C3O2)Cl)Cl')\n",
      "fig = Draw.MolToMPL(m, size=size)"
     ],
     "language": "python",
     "metadata": {},
     "outputs": [
      {
       "metadata": {},
       "output_type": "display_data",
       "png": "[encoded data removed]",
       "text": [
        "<matplotlib.figure.Figure at 0x7efd19c663d0>"
       ]
      }
     ],
     "prompt_number": 5
    },
    {
     "cell_type": "markdown",
     "metadata": {},
     "source": [
      "Every nerd's favorite molecule."
     ]
    },
    {
     "cell_type": "code",
     "collapsed": false,
     "input": [
      "m = Chem.MolFromSmiles('Cn1cnc2c1c(=O)n(c(=O)n2C)C')\n",
      "fig = Draw.MolToMPL(m, size=size)"
     ],
     "language": "python",
     "metadata": {},
     "outputs": [
      {
       "metadata": {},
       "output_type": "display_data",
       "png": "[encoded data removed]",
       "text": [
        "<matplotlib.figure.Figure at 0x7efd0cf90110>"
       ]
      }
     ],
     "prompt_number": 6
    },
    {
     "cell_type": "markdown",
     "metadata": {},
     "source": [
      "And last, but not least, a Breaking Bad Good bye."
     ]
    },
    {
     "cell_type": "code",
     "collapsed": false,
     "input": [
      "m = Chem.MolFromSmiles('C[C@@H](CC1=CC=CC=C1)NC')\n",
      "fig = Draw.MolToMPL(m, size=size)"
     ],
     "language": "python",
     "metadata": {},
     "outputs": [
      {
       "metadata": {},
       "output_type": "display_data",
       "png": "[encoded data removed]",
       "text": [
        "<matplotlib.figure.Figure at 0x7efd0cf336d0>"
       ]
      }
     ],
     "prompt_number": 7
    },
    {
     "cell_type": "markdown",
     "metadata": {},
     "source": [
      "As you can see it is extremely easy to draw molecules using `rdkit` and the\n",
      "SMILES syntax.\n",
      "\n",
      "The `rdkit` package is much more than just drawing molecules and I believe that\n",
      "a chemist might enjoy it even more that I did making these figures."
     ]
    },
    {
     "cell_type": "code",
     "collapsed": false,
     "input": [
      "HTML(html)"
     ],
     "language": "python",
     "metadata": {},
     "outputs": [
      {
       "html": [
        "\n",
        "<small>\n",
        "<p> This post was written as an IPython notebook.  It is available for\n",
        "<a href=\"https://ocefpaf.github.com/python4oceanographers/downloads/\n",
        "notebooks/2013-12-02-Chem.ipynb\">download</a> or as a static\n",
        "<a href=\"https://nbviewer.ipython.org/url/ocefpaf.github.com/\n",
        "python4oceanographers/downloads/notebooks/2013-12-02-Chem.ipynb\">html</a>.</p>\n",
        "<p></p>\n",
        "<a rel=\"license\" href=\"https://creativecommons.org/licenses/by-sa/4.0/\"><img\n",
        "alt=\"Creative Commons License\" style=\"border-width:0\"\n",
        "src=\"https://i.creativecommons.org/l/by-sa/4.0/88x31.png\" /></a><br /><span\n",
        "xmlns:dct=\"https://purl.org/dc/terms/\"\n",
        "property=\"dct:title\">python4oceanographers</span> by <a\n",
        "xmlns:cc=\"https://creativecommons.org/ns#\" href=\"https://ocefpaf.github.io/\"\n",
        "property=\"cc:attributionName\" rel=\"cc:attributionURL\">Filipe Fernandes</a> is\n",
        "licensed under a <a rel=\"license\"\n",
        "href=\"https://creativecommons.org/licenses/by-sa/4.0/\">Creative Commons\n",
        "Attribution-ShareAlike 4.0 International License</a>.<br />Based on a work at <a\n",
        "xmlns:dct=\"https://purl.org/dc/terms/\" href=\"https://ocefpaf.github.io/\"\n",
        "rel=\"dct:source\">https://ocefpaf.github.io/</a>.\n",
        " "
       ],
       "metadata": {},
       "output_type": "pyout",
       "prompt_number": 8,
       "text": [
        "<IPython.core.display.HTML at 0x7efd19c66cd0>"
       ]
      }
     ],
     "prompt_number": 8
    }
   ],
   "metadata": {}
  }
 ]
}