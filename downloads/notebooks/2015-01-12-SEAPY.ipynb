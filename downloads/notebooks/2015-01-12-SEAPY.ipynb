{
 "metadata": {
  "name": "",
  "signature": "sha256:6692f3bbd65d5d7b7803a0387458c5b86ac02f3b5d22559193d67130859fb164"
 },
 "nbformat": 3,
 "nbformat_minor": 0,
 "worksheets": [
  {
   "cells": [
    {
     "cell_type": "code",
     "collapsed": false,
     "input": [
      "import os\n",
      "from IPython.core.display import HTML\n",
      "\n",
      "with open('creative_commons.txt', 'r') as f:\n",
      "    html = f.read()\n",
      "    \n",
      "name = '2015-01-12-SEAPY'\n",
      "\n",
      "html = '''\n",
      "<small>\n",
      "<p> This post was written as an IPython notebook.\n",
      " It is available for <a href='https://ocefpaf.github.com/python4oceanographers/downloads/notebooks/%s.ipynb'>download</a>\n",
      " or as a static <a href='https://nbviewer.ipython.org/url/ocefpaf.github.com/python4oceanographers/downloads/notebooks/%s.ipynb'>html</a>.</p>\n",
      "<p></p>\n",
      "%s''' % (name, name, html)\n",
      "\n",
      "%matplotlib inline\n",
      "from matplotlib import style\n",
      "style.use('ggplot')\n",
      "\n",
      "from datetime import datetime\n",
      "\n",
      "title = 'SEAPY is dead, long live SEAPY!'\n",
      "hour = datetime.utcnow().strftime('%H:%M')\n",
      "comments=\"true\"\n",
      "\n",
      "date = '-'.join(name.split('-')[:3])\n",
      "slug = '-'.join(name.split('-')[3:])\n",
      "\n",
      "metadata = dict(title=title,\n",
      "                date=date,\n",
      "                hour=hour,\n",
      "                comments=comments,\n",
      "                slug=slug,\n",
      "                name=name)\n",
      "\n",
      "markdown = \"\"\"Title: {title}\n",
      "date:  {date} {hour}\n",
      "comments: {comments}\n",
      "slug: {slug}\n",
      "\n",
      "{{% notebook {name}.ipynb cells[1:] %}}\n",
      "\"\"\".format(**metadata)\n",
      "\n",
      "content = os.path.abspath(os.path.join(os.getcwd(), os.pardir, os.pardir, '{}.md'.format(name)))\n",
      "with open('{}'.format(content), 'w') as f:\n",
      "    f.writelines(markdown)"
     ],
     "language": "python",
     "metadata": {},
     "outputs": [],
     "prompt_number": 1
    },
    {
     "cell_type": "markdown",
     "metadata": {},
     "source": [
      "Some time ago I started a website called\n",
      "[SEAPY](https://code.google.com/p/sea-py/wiki/SEAPY) ~~shameless copied from~~\n",
      "based on WHOI's [SEAMAT](http://woodshole.er.usgs.gov/operations/sea-mat).\n",
      "However, as any site that contains list of links, it suffered (and badly) from\n",
      "[link rot](http://en.wikipedia.org/wiki/Link_rot).  So here it is, SEAPY is\n",
      "dead, long live SEAPY.  I am closing the old google code site and re-opening it\n",
      "on GitHub.\n",
      "\n",
      "Why GitHub?  Well, GitHub is a social network for open source\n",
      "programmers and GitHub lowers the barriers to collaboration.  People that are\n",
      "familiar with GitHub can send PRs and those who are unfamiliar can open issues.\n",
      "All you need is a free GitHub account.\n",
      "\n",
      "Here is the new site link:\n",
      "\n",
      "[http://ocefpaf.github.io/seapy/](http://ocefpaf.github.io/seapy/)\n",
      "\n",
      "The site can be forked from [here](https://github.com/ocefpaf/seapy) and if you\n",
      "are:\n",
      "\n",
      "- the author of a library in the list and want a better description\n",
      "- user of a library that is not in the list\n",
      "- someone passing by that just found a broken link\n",
      "\n",
      "I want to hear from you!  Go [here](https://github.com/ocefpaf/seapy/issues)\n",
      "and open issues asking/fixing/commenting.\n",
      "\n",
      "PS: We need a logo!!!"
     ]
    },
    {
     "cell_type": "code",
     "collapsed": false,
     "input": [
      "HTML(html)"
     ],
     "language": "python",
     "metadata": {},
     "outputs": [
      {
       "html": [
        "\n",
        "<small>\n",
        "<p> This post was written as an IPython notebook.\n",
        " It is available for <a href='https://ocefpaf.github.com/python4oceanographers/downloads/notebooks/2015-01-12-SEAPY.ipynb'>download</a>\n",
        " or as a static <a href='https://nbviewer.ipython.org/url/ocefpaf.github.com/python4oceanographers/downloads/notebooks/2015-01-12-SEAPY.ipynb'>html</a>.</p>\n",
        "<p></p>\n",
        "<a rel=\"license\" href=\"https://creativecommons.org/licenses/by-sa/4.0/\"><img\n",
        "alt=\"Creative Commons License\" style=\"border-width:0\"\n",
        "src=\"https://i.creativecommons.org/l/by-sa/4.0/88x31.png\" /></a><br /><span\n",
        "xmlns:dct=\"https://purl.org/dc/terms/\"\n",
        "property=\"dct:title\">python4oceanographers</span> by <a\n",
        "xmlns:cc=\"https://creativecommons.org/ns#\" href=\"https://ocefpaf.github.io/\"\n",
        "property=\"cc:attributionName\" rel=\"cc:attributionURL\">Filipe Fernandes</a> is\n",
        "licensed under a <a rel=\"license\"\n",
        "href=\"https://creativecommons.org/licenses/by-sa/4.0/\">Creative Commons\n",
        "Attribution-ShareAlike 4.0 International License</a>.<br />Based on a work at <a\n",
        "xmlns:dct=\"https://purl.org/dc/terms/\" href=\"https://ocefpaf.github.io/\"\n",
        "rel=\"dct:source\">https://ocefpaf.github.io/</a>.\n"
       ],
       "metadata": {},
       "output_type": "pyout",
       "prompt_number": 2,
       "text": [
        "<IPython.core.display.HTML at 0x7f81f8785510>"
       ]
      }
     ],
     "prompt_number": 2
    }
   ],
   "metadata": {}
  }
 ]
}