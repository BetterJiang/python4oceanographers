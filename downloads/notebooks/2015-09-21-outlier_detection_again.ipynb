{
 "metadata": {
  "kernelspec": {
   "codemirror_mode": {
    "name": "ipython",
    "version": 3
   },
   "display_name": "IPython (Python 3)",
   "language": "python",
   "name": "python3"
  },
  "name": "",
  "signature": "sha256:1822830949350c59124c567a1a8f8ea1da33226e1eebe97f166aae79b56bb64b"
 },
 "nbformat": 3,
 "nbformat_minor": 0,
 "worksheets": [
  {
   "cells": [
    {
     "cell_type": "code",
     "collapsed": false,
     "input": [
      "name = '2015-08-10-outlier_detection_again'\n",
      "\n",
      "title = \"\""
     ],
     "language": "python",
     "metadata": {},
     "outputs": [],
     "prompt_number": 1
    },
    {
     "cell_type": "code",
     "collapsed": false,
     "input": [
      "%matplotlib inline\n",
      "\n",
      "import os\n",
      "import seaborn\n",
      "from datetime import datetime\n",
      "from IPython.core.display import HTML\n",
      "\n",
      "with open('creative_commons.txt', 'r') as f:\n",
      "    html = f.read()\n",
      "\n",
      "\n",
      "hour = datetime.utcnow().strftime('%H:%M')\n",
      "comments=\"true\"\n",
      "\n",
      "\n",
      "date = '-'.join(name.split('-')[:3])\n",
      "slug = '-'.join(name.split('-')[3:])\n",
      "\n",
      "metadata = dict(title=title,\n",
      "                date=date,\n",
      "                hour=hour,\n",
      "                comments=comments,\n",
      "                slug=slug,\n",
      "                name=name)\n",
      "\n",
      "markdown = \"\"\"Title: {title}\n",
      "date:  {date} {hour}\n",
      "comments: {comments}\n",
      "slug: {slug}\n",
      "\n",
      "{{% notebook {name}.ipynb cells[2:] %}}\n",
      "\"\"\".format(**metadata)\n",
      "\n",
      "content = os.path.abspath(os.path.join(os.getcwd(),\n",
      "                                       os.pardir,\n",
      "                                       os.pardir, \n",
      "                                       '{}.md'.format(name)))\n",
      "with open('{}'.format(content), 'w') as f:\n",
      "    f.writelines(markdown)\n",
      "    \n",
      "with open('./styles/custom.css', 'r') as f:\n",
      "    styles = f.read()\n",
      "\n",
      "\n",
      "html = \"\"\"\n",
      "<small>\n",
      "<p> This post was written as an IPython notebook.  It is available for\n",
      "<a href=\"http://ocefpaf.github.com/python4oceanographers/downloads/\n",
      "notebooks/%s.ipynb\">download</a> or as a static\n",
      "<a href=\"http://nbviewer.ipython.org/url/ocefpaf.github.com/\n",
      "python4oceanographers/downloads/notebooks/%s.ipynb\">html</a>.</p>\n",
      "<p></p>\n",
      "%s \"\"\" % (name, name, html)\n",
      "\n",
      "\n",
      "HTML(styles)"
     ],
     "language": "python",
     "metadata": {},
     "outputs": [
      {
       "html": [
        "<style>\n",
        "    @font-face {\n",
        "        font-family: \"Computer Modern\";\n",
        "        src: url('http://mirrors.ctan.org/fonts/cm-unicode/fonts/otf/cmunss.otf');\n",
        "    }\n",
        "    div.cell{\n",
        "        width:800px;\n",
        "/*        margin-left:16% !important;\n",
        "        margin-right:auto;*/\n",
        "        margin-left:auto;\n",
        "        margin-right:16% !important;\n",
        "    }\n",
        "    h1 {\n",
        "        font-family: Helvetica, serif;\n",
        "    }\n",
        "    h2 {\n",
        "        font-family: Helvetica, serif;\n",
        "    }\n",
        "    h4{\n",
        "        margin-top:12px;\n",
        "        margin-bottom: 3px;\n",
        "       }\n",
        "    div.text_cell_render{\n",
        "        font-family: Computer Modern, \"Helvetica Neue\", Arial, Helvetica, Geneva, sans-serif;\n",
        "        line-height: 135%;\n",
        "        font-size: 120%;\n",
        "        width:600px;\n",
        "        margin-left:auto;\n",
        "        margin-right:auto;\n",
        "    }\n",
        "    .CodeMirror{\n",
        "            font-family: \"Source Code Pro\", source-code-pro,Consolas, monospace;\n",
        "    }\n",
        "/*    .prompt{\n",
        "        display: None;\n",
        "    }*/\n",
        "    .text_cell_render h5 {\n",
        "        font-weight: 300;\n",
        "        font-size: 16pt;\n",
        "        color: #4057A1;\n",
        "        font-style: italic;\n",
        "        margin-bottom: .5em;\n",
        "        margin-top: 0.5em;\n",
        "        display: block;\n",
        "    }\n",
        "\n",
        "    .warning{\n",
        "        color: rgb( 240, 20, 20 )\n",
        "        }\n",
        "</style>\n",
        "<script>\n",
        "    MathJax.Hub.Config({\n",
        "                        TeX: {\n",
        "                           extensions: [\"AMSmath.js\"]\n",
        "                           },\n",
        "                tex2jax: {\n",
        "                    inlineMath: [ ['$','$'], [\"\\\\(\",\"\\\\)\"] ],\n",
        "                    displayMath: [ ['$$','$$'], [\"\\\\[\",\"\\\\]\"] ]\n",
        "                },\n",
        "                displayAlign: 'center', // Change this to 'center' to center equations.\n",
        "                \"HTML-CSS\": {\n",
        "                    styles: {'.MathJax_Display': {\"margin\": 4}}\n",
        "                }\n",
        "        });\n",
        "</script>\n"
       ],
       "metadata": {},
       "output_type": "pyout",
       "prompt_number": 2,
       "text": [
        "<IPython.core.display.HTML at 0x7fd43dae6290>"
       ]
      }
     ],
     "prompt_number": 2
    },
    {
     "cell_type": "code",
     "collapsed": false,
     "input": [
      "from datetime import datetime\n",
      "from pandas import read_table\n",
      "\n",
      "fname = './data/spikey_v.dat'\n",
      "cols = ['j', 'u', 'v', 'temp', 'sal', 'y', 'mn', 'd', 'h', 'mi']\n",
      "\n",
      "df = read_table(fname , delim_whitespace=True, names=cols)\n",
      "\n",
      "df.index = [datetime(*x) for x in zip(df['y'], df['mn'], df['d'], df['h'], df['mi'])]\n",
      "df = df.drop(['y', 'mn', 'd', 'h', 'mi'], axis=1)\n",
      "\n",
      "df.head()"
     ],
     "language": "python",
     "metadata": {},
     "outputs": [
      {
       "html": [
        "<div style=\"max-width:1500px;overflow:auto;\">\n",
        "<table border=\"1\" class=\"dataframe\">\n",
        "  <thead>\n",
        "    <tr style=\"text-align: right;\">\n",
        "      <th></th>\n",
        "      <th>j</th>\n",
        "      <th>u</th>\n",
        "      <th>v</th>\n",
        "      <th>temp</th>\n",
        "      <th>sal</th>\n",
        "    </tr>\n",
        "  </thead>\n",
        "  <tbody>\n",
        "    <tr>\n",
        "      <th>1994-11-22 04:00:00</th>\n",
        "      <td>1056.1667</td>\n",
        "      <td>-0.1</td>\n",
        "      <td>0.0</td>\n",
        "      <td>23.9</td>\n",
        "      <td>34.6</td>\n",
        "    </tr>\n",
        "    <tr>\n",
        "      <th>1994-11-22 05:00:00</th>\n",
        "      <td>1056.2083</td>\n",
        "      <td>-0.2</td>\n",
        "      <td>0.7</td>\n",
        "      <td>23.9</td>\n",
        "      <td>34.6</td>\n",
        "    </tr>\n",
        "    <tr>\n",
        "      <th>1994-11-22 06:00:00</th>\n",
        "      <td>1056.2500</td>\n",
        "      <td>-0.1</td>\n",
        "      <td>2.0</td>\n",
        "      <td>23.9</td>\n",
        "      <td>34.6</td>\n",
        "    </tr>\n",
        "    <tr>\n",
        "      <th>1994-11-22 07:00:00</th>\n",
        "      <td>1056.2917</td>\n",
        "      <td>0.0</td>\n",
        "      <td>3.1</td>\n",
        "      <td>23.9</td>\n",
        "      <td>34.6</td>\n",
        "    </tr>\n",
        "    <tr>\n",
        "      <th>1994-11-22 08:00:00</th>\n",
        "      <td>1056.3333</td>\n",
        "      <td>-0.1</td>\n",
        "      <td>2.7</td>\n",
        "      <td>23.9</td>\n",
        "      <td>34.6</td>\n",
        "    </tr>\n",
        "  </tbody>\n",
        "</table>\n",
        "</div>"
       ],
       "metadata": {},
       "output_type": "pyout",
       "prompt_number": 3,
       "text": [
        "                             j    u    v  temp   sal\n",
        "1994-11-22 04:00:00  1056.1667 -0.1  0.0  23.9  34.6\n",
        "1994-11-22 05:00:00  1056.2083 -0.2  0.7  23.9  34.6\n",
        "1994-11-22 06:00:00  1056.2500 -0.1  2.0  23.9  34.6\n",
        "1994-11-22 07:00:00  1056.2917  0.0  3.1  23.9  34.6\n",
        "1994-11-22 08:00:00  1056.3333 -0.1  2.7  23.9  34.6"
       ]
      }
     ],
     "prompt_number": 3
    },
    {
     "cell_type": "code",
     "collapsed": false,
     "input": [
      "import matplotlib.pyplot as plt\n",
      "from utilities import tukey53H\n",
      "\n",
      "\n",
      "u_idx = tukey53H(df['u'], k=1.5)\n",
      "v_idx = tukey53H(df['v'], k=1.5)\n",
      "\n",
      "kw = dict(marker='o', linestyle='none', color='crimson', alpha=0.3)\n",
      "fig_kw = dict(figsize=(7, 5.5), nrows=2, sharey=True, sharex=True)\n",
      "\n",
      "fig, (ax0, ax1) = plt.subplots(**fig_kw)\n",
      "\n",
      "df['u'].plot(ax=ax0)\n",
      "df['u'][u_idx].plot(ax=ax0, **kw)\n",
      "\n",
      "df['v'].plot(ax=ax1)\n",
      "df['v'][v_idx].plot(ax=ax1, **kw)\n",
      "\n",
      "_ = ax0.set_ylim(-55, 55)"
     ],
     "language": "python",
     "metadata": {},
     "outputs": [
      {
       "metadata": {},
       "output_type": "display_data",
       "png": "[encoded data removed]",
       "text": [
        "<matplotlib.figure.Figure at 0x7fd43dae66d0>"
       ]
      }
     ],
     "prompt_number": 4
    },
    {
     "cell_type": "code",
     "collapsed": false,
     "input": [
      "import numpy as np\n",
      "from pandas import rolling_median\n",
      "\n",
      "def is_spike(series, window_size=3, threshold=3, scale=False):\n",
      "    medians = rolling_median(series, window=window_size, center=True)\n",
      "    medians = medians.fillna(method='bfill').fillna(method='ffill')\n",
      "    difference = np.abs(series - medians)\n",
      "    if scale:\n",
      "        return difference > (threshold*difference.std())\n",
      "    return difference > threshold"
     ],
     "language": "python",
     "metadata": {},
     "outputs": [],
     "prompt_number": 5
    },
    {
     "cell_type": "code",
     "collapsed": false,
     "input": [
      "from pandas import Series, date_range\n",
      "\n",
      "series = [33.43, 33.45, 34.45, 90.0, 35.67, 34.9, 43.5, 34.6, 33.7]\n",
      "series = Series(series, index=date_range('1980-01-19', periods=len(series)))\n",
      "\n",
      "is_spike(series, window_size=3, threshold=3, scale=True)"
     ],
     "language": "python",
     "metadata": {},
     "outputs": [
      {
       "metadata": {},
       "output_type": "pyout",
       "prompt_number": 10,
       "text": [
        "1980-01-19    False\n",
        "1980-01-20    False\n",
        "1980-01-21    False\n",
        "1980-01-22     True\n",
        "1980-01-23    False\n",
        "1980-01-24    False\n",
        "1980-01-25    False\n",
        "1980-01-26    False\n",
        "1980-01-27    False\n",
        "Freq: D, dtype: bool"
       ]
      }
     ],
     "prompt_number": 10
    },
    {
     "cell_type": "code",
     "collapsed": false,
     "input": [
      "u_idx = is_spike(df['u'].copy(), threshold=3)\n",
      "v_idx = is_spike(df['v'].copy(), threshold=3)"
     ],
     "language": "python",
     "metadata": {},
     "outputs": [],
     "prompt_number": 6
    },
    {
     "cell_type": "code",
     "collapsed": false,
     "input": [
      "fig, (ax0, ax1) = plt.subplots(**fig_kw)\n",
      "\n",
      "df['u'].plot(ax=ax0)\n",
      "df['u'][u_idx].plot(ax=ax0, **kw)\n",
      "\n",
      "df['v'].plot(ax=ax1)\n",
      "df['v'][v_idx].plot(ax=ax1, **kw)\n",
      "\n",
      "_ = ax0.set_ylim(-55, 55)"
     ],
     "language": "python",
     "metadata": {},
     "outputs": [
      {
       "metadata": {},
       "output_type": "display_data",
       "png": "[encoded data removed]",
       "text": [
        "<matplotlib.figure.Figure at 0x7fd4638c6a90>"
       ]
      }
     ],
     "prompt_number": 7
    },
    {
     "cell_type": "code",
     "collapsed": false,
     "input": [
      "HTML(html)"
     ],
     "language": "python",
     "metadata": {},
     "outputs": [
      {
       "html": [
        "\n",
        "<small>\n",
        "<p> This post was written as an IPython notebook.  It is available for\n",
        "<a href=\"http://ocefpaf.github.com/python4oceanographers/downloads/\n",
        "notebooks/2015-08-10-outlier_detection_again.ipynb\">download</a> or as a static\n",
        "<a href=\"http://nbviewer.ipython.org/url/ocefpaf.github.com/\n",
        "python4oceanographers/downloads/notebooks/2015-08-10-outlier_detection_again.ipynb\">html</a>.</p>\n",
        "<p></p>\n",
        "<a rel=\"license\" href=\"http://creativecommons.org/licenses/by-sa/4.0/\"><img\n",
        "alt=\"Creative Commons License\" style=\"border-width:0\"\n",
        "src=\"http://i.creativecommons.org/l/by-sa/4.0/88x31.png\" /></a><br /><span\n",
        "xmlns:dct=\"http://purl.org/dc/terms/\"\n",
        "property=\"dct:title\">python4oceanographers</span> by <a\n",
        "xmlns:cc=\"http://creativecommons.org/ns#\" href=\"http://ocefpaf.github.io/\"\n",
        "property=\"cc:attributionName\" rel=\"cc:attributionURL\">Filipe Fernandes</a> is\n",
        "licensed under a <a rel=\"license\"\n",
        "href=\"http://creativecommons.org/licenses/by-sa/4.0/\">Creative Commons\n",
        "Attribution-ShareAlike 4.0 International License</a>.<br />Based on a work at <a\n",
        "xmlns:dct=\"http://purl.org/dc/terms/\" href=\"http://ocefpaf.github.io/\"\n",
        "rel=\"dct:source\">http://ocefpaf.github.io/</a>.\n",
        " "
       ],
       "metadata": {},
       "output_type": "pyout",
       "prompt_number": 8,
       "text": [
        "<IPython.core.display.HTML at 0x7fd46358f3d0>"
       ]
      }
     ],
     "prompt_number": 8
    }
   ],
   "metadata": {}
  }
 ]
}