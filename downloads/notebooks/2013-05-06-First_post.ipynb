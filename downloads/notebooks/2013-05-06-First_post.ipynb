{
 "metadata": {
  "name": "",
  "signature": "sha256:e9a450a9ca62b022c9ec55708301b2b3a130f22a1702f37d28fa5a9863d60773"
 },
 "nbformat": 3,
 "nbformat_minor": 0,
 "worksheets": [
  {
   "cells": [
    {
     "cell_type": "code",
     "collapsed": false,
     "input": [
      "from IPython.core.display import HTML\n",
      "\n",
      "with open('creative_commons.txt', 'r') as f:\n",
      "    html = f.read()\n",
      "    \n",
      "name = '2013-05-06-First_post'\n",
      "\n",
      "html = \"\"\"\n",
      "<small>\n",
      "<p> This post was written as an IPython notebook.  It is available for\n",
      "<a href=\"https://ocefpaf.github.com/python4oceanographers/downloads/\n",
      "notebooks/%s.ipynb\">download</a> or as a static\n",
      "<a href=\"https://nbviewer.ipython.org/url/ocefpaf.github.com/\n",
      "python4oceanographers/downloads/notebooks/%s.ipynb\">html</a>.</p>\n",
      "<p></p>\n",
      "%s \"\"\" % (name, name, html)\n",
      "\n",
      "%matplotlib inline\n",
      "from matplotlib import style\n",
      "style.use('ggplot')"
     ],
     "language": "python",
     "metadata": {},
     "outputs": [],
     "prompt_number": 1
    },
    {
     "cell_type": "code",
     "collapsed": false,
     "input": [
      "from __future__ import division\n",
      "import sympy\n",
      "import numpy\n",
      "\n",
      "print(\"SymPy version: %s\" % sympy.__version__)\n",
      "print(\"NumPy version: %s\" % numpy.__version__)"
     ],
     "language": "python",
     "metadata": {},
     "outputs": [
      {
       "output_type": "stream",
       "stream": "stdout",
       "text": [
        "SymPy version: 0.7.6.1\n",
        "NumPy version: 1.10.2\n"
       ]
      }
     ],
     "prompt_number": 2
    },
    {
     "cell_type": "code",
     "collapsed": false,
     "input": [
      "import numpy as np\n",
      "import numpy.ma as ma\n",
      "import matplotlib.pyplot as plt\n",
      "\n",
      "from sympy.solvers import solve\n",
      "from sympy.functions import exp\n",
      "from sympy import Symbol, Matrix\n",
      "\n",
      "from sympy.interactive import ipythonprinting\n",
      "ipythonprinting.init_printing()"
     ],
     "language": "python",
     "metadata": {},
     "outputs": [],
     "prompt_number": 3
    },
    {
     "cell_type": "code",
     "collapsed": false,
     "input": [
      "c = Symbol('c')\n",
      "k = Symbol('k')"
     ],
     "language": "python",
     "metadata": {},
     "outputs": [],
     "prompt_number": 4
    },
    {
     "cell_type": "code",
     "collapsed": false,
     "input": [
      "A = Matrix([[-c + 1 / (2 * k), -exp(-k / 2) / k,  exp(-k) / (2 * k)],\n",
      "            [exp(-k / 2) / (2 * k), -1 / k + 1 / 2 - c, exp(-k / 2) / (2 * k)],\n",
      "            [exp(-k) / (2 * k), -exp(-k / 2) / (k), - c + 1 / (2 * k)]])\n",
      "A"
     ],
     "language": "python",
     "metadata": {},
     "outputs": [
      {
       "latex": [
        "$$\\left[\\begin{matrix}- c + \\frac{1}{2 k} & - \\frac{e^{- \\frac{k}{2}}}{k} & \\frac{e^{- k}}{2 k}\\\\\\frac{e^{- \\frac{k}{2}}}{2 k} & - c + 0.5 - \\frac{1}{k} & \\frac{e^{- \\frac{k}{2}}}{2 k}\\\\\\frac{e^{- k}}{2 k} & - \\frac{e^{- \\frac{k}{2}}}{k} & - c + \\frac{1}{2 k}\\end{matrix}\\right]$$"
       ],
       "metadata": {},
       "output_type": "pyout",
       "png": "[encoded data removed]",
       "prompt_number": 5,
       "text": [
        "\u23a1               -k               \u23a4\n",
        "\u23a2               \u2500\u2500\u2500              \u23a5\n",
        "\u23a2                2          -k   \u23a5\n",
        "\u23a2      1      -\u212f           \u212f     \u23a5\n",
        "\u23a2-c + \u2500\u2500\u2500     \u2500\u2500\u2500\u2500\u2500\u2500       \u2500\u2500\u2500   \u23a5\n",
        "\u23a2     2\u22c5k       k          2\u22c5k   \u23a5\n",
        "\u23a2                                \u23a5\n",
        "\u23a2   -k                      -k   \u23a5\n",
        "\u23a2   \u2500\u2500\u2500                     \u2500\u2500\u2500  \u23a5\n",
        "\u23a2    2                       2   \u23a5\n",
        "\u23a2  \u212f                  1    \u212f     \u23a5\n",
        "\u23a2  \u2500\u2500\u2500\u2500    -c + 0.5 - \u2500    \u2500\u2500\u2500\u2500  \u23a5\n",
        "\u23a2  2\u22c5k                k    2\u22c5k   \u23a5\n",
        "\u23a2                                \u23a5\n",
        "\u23a2               -k               \u23a5\n",
        "\u23a2               \u2500\u2500\u2500              \u23a5\n",
        "\u23a2   -k           2               \u23a5\n",
        "\u23a2  \u212f          -\u212f               1 \u23a5\n",
        "\u23a2  \u2500\u2500\u2500        \u2500\u2500\u2500\u2500\u2500\u2500     -c + \u2500\u2500\u2500\u23a5\n",
        "\u23a3  2\u22c5k          k             2\u22c5k\u23a6"
       ]
      }
     ],
     "prompt_number": 5
    },
    {
     "cell_type": "code",
     "collapsed": false,
     "input": [
      "det = A.det()\n",
      "det"
     ],
     "language": "python",
     "metadata": {},
     "outputs": [
      {
       "latex": [
        "$$- c^{3} + 0.5 c^{2} - \\frac{0.5 c}{k} + \\frac{3 c}{4 k^{2}} - \\frac{c}{k^{2}} e^{- k} + \\frac{c e^{- 2 k}}{4 k^{2}} + \\frac{0.125}{k^{2}} - \\frac{0.125}{k^{2}} e^{- 2 k} - \\frac{1}{4 k^{3}} + \\frac{e^{- k}}{2 k^{3}} - \\frac{e^{- 2 k}}{4 k^{3}}$$"
       ],
       "metadata": {},
       "output_type": "pyout",
       "png": "[encoded data removed]",
       "prompt_number": 6,
       "text": [
        "                                      -k      -2\u22c5k                     -2\u22c5k   \n",
        "   3        2   - -0.5\u22c5c    3\u22c5c    c\u22c5\u212f     c\u22c5\u212f       0.125   - -0.125\u22c5\u212f       \n",
        "- c  + 0.5\u22c5c  - \u2500\u2500\u2500\u2500\u2500\u2500\u2500\u2500\u2500 + \u2500\u2500\u2500\u2500 - \u2500\u2500\u2500\u2500\u2500 + \u2500\u2500\u2500\u2500\u2500\u2500\u2500 + \u2500\u2500\u2500\u2500\u2500 - \u2500\u2500\u2500\u2500\u2500\u2500\u2500\u2500\u2500\u2500\u2500\u2500\u2500\u2500\u2500 -\n",
        "                    k          2      2         2       2            2        \n",
        "                            4\u22c5k      k       4\u22c5k       k            k         \n",
        "\n",
        "         -k     -2\u22c5k\n",
        "  1     \u212f      \u212f    \n",
        " \u2500\u2500\u2500\u2500 + \u2500\u2500\u2500\u2500 - \u2500\u2500\u2500\u2500\u2500\n",
        "    3      3       3\n",
        " 4\u22c5k    2\u22c5k     4\u22c5k "
       ]
      }
     ],
     "prompt_number": 6
    },
    {
     "cell_type": "code",
     "collapsed": false,
     "input": [
      "K = solve(det, c)\n",
      "K"
     ],
     "language": "python",
     "metadata": {},
     "outputs": [
      {
       "latex": [
        "$$\\left [ \\frac{0.25}{k^{2}} \\left(k^{2} e^{k} - k e^{k} + k - \\sqrt{k^{4} e^{2.0 k} - 2.0 k^{3} e^{k} - 6.0 k^{3} e^{2.0 k} - 10.0 k^{2} e^{k} + 9.0 k^{2} e^{2.0 k} + k^{2}}\\right) e^{- k}, \\quad \\frac{0.25}{k^{2}} \\left(k^{2} e^{k} - k e^{k} + k + \\sqrt{k^{4} e^{2.0 k} - 2.0 k^{3} e^{k} - 6.0 k^{3} e^{2.0 k} - 10.0 k^{2} e^{k} + 9.0 k^{2} e^{2.0 k} + k^{2}}\\right) e^{- k}, \\quad \\frac{0.5}{k} \\left(e^{k} - 1.0\\right) e^{- k}\\right ]$$"
       ],
       "metadata": {},
       "output_type": "pyout",
       "png": "[encoded data removed]",
       "prompt_number": 7,
       "text": [
        "\u23a1     \u239b                      _________________________________________________\n",
        "\u23a2     \u239c 2  k      k         \u2571  4  2.0\u22c5k              3  k              3  2.0\u22c5\n",
        "\u23a20.25\u22c5\u239dk \u22c5\u212f  - k\u22c5\u212f  + k - \u2572\u2571  k \u22c5\u212f      - -2.0\u22c5(-1)\u22c5k \u22c5\u212f  - -6.0\u22c5(-1)\u22c5k \u22c5\u212f    \n",
        "\u23a2\u2500\u2500\u2500\u2500\u2500\u2500\u2500\u2500\u2500\u2500\u2500\u2500\u2500\u2500\u2500\u2500\u2500\u2500\u2500\u2500\u2500\u2500\u2500\u2500\u2500\u2500\u2500\u2500\u2500\u2500\u2500\u2500\u2500\u2500\u2500\u2500\u2500\u2500\u2500\u2500\u2500\u2500\u2500\u2500\u2500\u2500\u2500\u2500\u2500\u2500\u2500\u2500\u2500\u2500\u2500\u2500\u2500\u2500\u2500\u2500\u2500\u2500\u2500\u2500\u2500\u2500\u2500\u2500\u2500\u2500\u2500\u2500\u2500\u2500\u2500\u2500\u2500\n",
        "\u23a2                                                              2              \n",
        "\u23a3                                                             k               \n",
        "\n",
        "__________________________________________\u239e           \u239b                      _\n",
        "k               2  k        2  2.0\u22c5k    2 \u239f  -k       \u239c 2  k      k         \u2571 \n",
        "  - -10.0\u22c5(-1)\u22c5k \u22c5\u212f  + 9.0\u22c5k \u22c5\u212f      + k  \u23a0\u22c5\u212f    0.25\u22c5\u239dk \u22c5\u212f  - k\u22c5\u212f  + k + \u2572\u2571  \n",
        "\u2500\u2500\u2500\u2500\u2500\u2500\u2500\u2500\u2500\u2500\u2500\u2500\u2500\u2500\u2500\u2500\u2500\u2500\u2500\u2500\u2500\u2500\u2500\u2500\u2500\u2500\u2500\u2500\u2500\u2500\u2500\u2500\u2500\u2500\u2500\u2500\u2500\u2500\u2500\u2500\u2500\u2500\u2500\u2500\u2500\u2500\u2500, \u2500\u2500\u2500\u2500\u2500\u2500\u2500\u2500\u2500\u2500\u2500\u2500\u2500\u2500\u2500\u2500\u2500\u2500\u2500\u2500\u2500\u2500\u2500\u2500\u2500\u2500\u2500\u2500\u2500\n",
        "                                                                              \n",
        "                                                                              \n",
        "\n",
        "______________________________________________________________________________\n",
        " 4  2.0\u22c5k              3  k              3  2.0\u22c5k               2  k        2 \n",
        "k \u22c5\u212f      - -2.0\u22c5(-1)\u22c5k \u22c5\u212f  - -6.0\u22c5(-1)\u22c5k \u22c5\u212f      - -10.0\u22c5(-1)\u22c5k \u22c5\u212f  + 9.0\u22c5k \u22c5\n",
        "\u2500\u2500\u2500\u2500\u2500\u2500\u2500\u2500\u2500\u2500\u2500\u2500\u2500\u2500\u2500\u2500\u2500\u2500\u2500\u2500\u2500\u2500\u2500\u2500\u2500\u2500\u2500\u2500\u2500\u2500\u2500\u2500\u2500\u2500\u2500\u2500\u2500\u2500\u2500\u2500\u2500\u2500\u2500\u2500\u2500\u2500\u2500\u2500\u2500\u2500\u2500\u2500\u2500\u2500\u2500\u2500\u2500\u2500\u2500\u2500\u2500\u2500\u2500\u2500\u2500\u2500\u2500\u2500\u2500\u2500\u2500\u2500\u2500\u2500\u2500\u2500\u2500\u2500\n",
        "                                 2                                            \n",
        "                                k                                             \n",
        "\n",
        "____________\u239e                        \u23a4\n",
        " 2.0\u22c5k    2 \u239f  -k      \u239b k      \u239e  -k\u23a5\n",
        "\u212f      + k  \u23a0\u22c5\u212f    0.5\u22c5\u239d\u212f  - 1.0\u23a0\u22c5\u212f  \u23a5\n",
        "\u2500\u2500\u2500\u2500\u2500\u2500\u2500\u2500\u2500\u2500\u2500\u2500\u2500\u2500\u2500\u2500\u2500, \u2500\u2500\u2500\u2500\u2500\u2500\u2500\u2500\u2500\u2500\u2500\u2500\u2500\u2500\u2500\u2500\u2500\u2500\u23a5\n",
        "                           k         \u23a5\n",
        "                                     \u23a6"
       ]
      }
     ],
     "prompt_number": 7
    },
    {
     "cell_type": "code",
     "collapsed": false,
     "input": [
      "dk = np.arange(0.01, 2.5, 0.01)\n",
      "\n",
      "C1, C2, C3 = [], [], []\n",
      "\n",
      "for i in np.arange(np.size(dk)):\n",
      "    C1.append(K[0].subs(k, dk[i]))\n",
      "    C2.append(K[1].subs(k, dk[i]))\n",
      "    C3.append(K[2].subs(k, dk[i]))\n",
      "    \n",
      "C1, C2, C3 = map(lambda x: np.asanyarray(x, np.complex_), (C1, C2, C3))"
     ],
     "language": "python",
     "metadata": {},
     "outputs": [],
     "prompt_number": 8
    },
    {
     "cell_type": "code",
     "collapsed": false,
     "input": [
      "print(\"NaNs in C1: %s\" % np.isnan(C1).all())\n",
      "print(\"NaNs in C2: %s\" % np.isnan(C2).all())\n",
      "print(\"NaNs in C3: %s\" % np.isnan(C3).all())"
     ],
     "language": "python",
     "metadata": {},
     "outputs": [
      {
       "output_type": "stream",
       "stream": "stdout",
       "text": [
        "NaNs in C1: False\n",
        "NaNs in C2: False\n",
        "NaNs in C3: False\n"
       ]
      }
     ],
     "prompt_number": 9
    },
    {
     "cell_type": "code",
     "collapsed": false,
     "input": [
      "print(\"Complex in C1: %s\" % np.iscomplex(C1).all())\n",
      "print(\"Complex in C2: %s\" % np.iscomplex(C2).all())\n",
      "print(\"Complex in C3: %s\" % np.iscomplex(C3).all())"
     ],
     "language": "python",
     "metadata": {},
     "outputs": [
      {
       "output_type": "stream",
       "stream": "stdout",
       "text": [
        "Complex in C1: True\n",
        "Complex in C2: True\n",
        "Complex in C3: False\n"
       ]
      }
     ],
     "prompt_number": 10
    },
    {
     "cell_type": "code",
     "collapsed": false,
     "input": [
      "C3 = C3.real  # No need to be imaginary."
     ],
     "language": "python",
     "metadata": {},
     "outputs": [],
     "prompt_number": 11
    },
    {
     "cell_type": "code",
     "collapsed": false,
     "input": [
      "fig, ax = plt.subplots()\n",
      "l1, = ax.plot(dk, C1.real, ':', label='C1')\n",
      "l2, = ax.plot(dk, C2.real, '--', label='C2')\n",
      "l3, = ax.plot(dk, C3, '-', label='C3')\n",
      "ax.legend()\n",
      "ax.margins(0)"
     ],
     "language": "python",
     "metadata": {},
     "outputs": [
      {
       "metadata": {},
       "output_type": "display_data",
       "png": "[encoded data removed]",
       "text": [
        "<matplotlib.figure.Figure at 0x7f6bb2e1fc50>"
       ]
      }
     ],
     "prompt_number": 12
    },
    {
     "cell_type": "code",
     "collapsed": false,
     "input": [
      "fig, ax = plt.subplots()\n",
      "l1, = ax.plot(dk, C1.imag, '-,', label='C1')\n",
      "l2, = ax.plot(dk, C2.imag, '--', label='C2')\n",
      "l3, = ax.plot(dk, C3, '-', label='C3')\n",
      "ax.legend()\n",
      "ax.margins(0)"
     ],
     "language": "python",
     "metadata": {},
     "outputs": [
      {
       "metadata": {},
       "output_type": "display_data",
       "png": "[encoded data removed]",
       "text": [
        "<matplotlib.figure.Figure at 0x7f6bb2bbd310>"
       ]
      }
     ],
     "prompt_number": 13
    },
    {
     "cell_type": "code",
     "collapsed": false,
     "input": [
      "HTML(html)"
     ],
     "language": "python",
     "metadata": {},
     "outputs": [
      {
       "html": [
        "\n",
        "<small>\n",
        "<p> This post was written as an IPython notebook.  It is available for\n",
        "<a href=\"https://ocefpaf.github.com/python4oceanographers/downloads/\n",
        "notebooks/2013-05-06-First_post.ipynb\">download</a> or as a static\n",
        "<a href=\"https://nbviewer.ipython.org/url/ocefpaf.github.com/\n",
        "python4oceanographers/downloads/notebooks/2013-05-06-First_post.ipynb\">html</a>.</p>\n",
        "<p></p>\n",
        "<a rel=\"license\" href=\"https://creativecommons.org/licenses/by-sa/4.0/\"><img\n",
        "alt=\"Creative Commons License\" style=\"border-width:0\"\n",
        "src=\"https://i.creativecommons.org/l/by-sa/4.0/88x31.png\" /></a><br /><span\n",
        "xmlns:dct=\"https://purl.org/dc/terms/\"\n",
        "property=\"dct:title\">python4oceanographers</span> by <a\n",
        "xmlns:cc=\"https://creativecommons.org/ns#\" href=\"https://ocefpaf.github.io/\"\n",
        "property=\"cc:attributionName\" rel=\"cc:attributionURL\">Filipe Fernandes</a> is\n",
        "licensed under a <a rel=\"license\"\n",
        "href=\"https://creativecommons.org/licenses/by-sa/4.0/\">Creative Commons\n",
        "Attribution-ShareAlike 4.0 International License</a>.<br />Based on a work at <a\n",
        "xmlns:dct=\"https://purl.org/dc/terms/\" href=\"https://ocefpaf.github.io/\"\n",
        "rel=\"dct:source\">https://ocefpaf.github.io/</a>.\n",
        " "
       ],
       "metadata": {},
       "output_type": "pyout",
       "prompt_number": 14,
       "text": [
        "<IPython.core.display.HTML at 0x7f6bb2e0c3d0>"
       ]
      }
     ],
     "prompt_number": 14
    }
   ],
   "metadata": {}
  }
 ]
}