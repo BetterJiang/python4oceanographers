{
 "metadata": {
  "name": "",
  "signature": "sha256:231ec14d6fe3e0c8468276ddc325e93875eea56948bbe41a1fad2cd497687530"
 },
 "nbformat": 3,
 "nbformat_minor": 0,
 "worksheets": [
  {
   "cells": [
    {
     "cell_type": "code",
     "collapsed": false,
     "input": [
      "from IPython.core.display import HTML\n",
      "\n",
      "with open('creative_commons.txt', 'r') as f:\n",
      "    html = f.read()\n",
      "    \n",
      "name = '2013-05-27-CTD2DataFrame'\n",
      "\n",
      "\n",
      "html = \"\"\"\n",
      "<small>\n",
      "<p> This post was written as an IPython notebook.  It is available for\n",
      "<a href=\"https://ocefpaf.github.com/python4oceanographers/downloads/\n",
      "notebooks/%s.ipynb\">download</a> or as a static\n",
      "<a href=\"https://nbviewer.ipython.org/url/ocefpaf.github.com/\n",
      "python4oceanographers/downloads/notebooks/%s.ipynb\">html</a>.</p>\n",
      "<p></p>\n",
      "%s \"\"\" % (name, name, html)\n",
      "\n",
      "%matplotlib inline\n",
      "from matplotlib import style\n",
      "style.use('ggplot')"
     ],
     "language": "python",
     "metadata": {},
     "outputs": [],
     "prompt_number": 1
    },
    {
     "cell_type": "markdown",
     "metadata": {},
     "source": [
      "[Pandas](http://pandas.pydata.org/) is an amazing python module to deal with\n",
      "data.  It has tons of features worthwhile learning, but the best of all is how\n",
      "quick one can explore a data with just a few code lines once you learn the\n",
      "basics.\n",
      "\n",
      "I wrote a small [module](http://code.google.com/p/python-oceans/source/browse/oceans/ctd/ctd.py#619)\n",
      "to read CTD (also XBT's EDF and FSI's CTD format) data directly as a pandas\n",
      "DataFrame.  Here is an example how to use it:"
     ]
    },
    {
     "cell_type": "code",
     "collapsed": false,
     "input": [
      "import gsw\n",
      "import numpy as np\n",
      "from oceans.sw_extras import gamma_GP_from_SP_pt\n",
      "from ctd import DataFrame, Series, movingaverage, rosette_summary, lp_filter\n",
      "\n",
      "def o2sat(s, pt):\n",
      "    from seawater.library import T68conv\n",
      "    t = T68conv(pt) + 273.16\n",
      "    a = (-177.7888, 255.5907, 146.4813, -22.2040)\n",
      "    b = (-0.037362, 0.016504, -0.0020564)\n",
      "    lnC = (a[0] + a[1] * (100. / t) + a[2] * np.log(t / 100.) + a[3] *\n",
      "           (t / 100.) +\n",
      "           s * (b[0] + b[1] * (t / 100.) + b[2] * (t / 100.) ** 2))\n",
      "    return np.exp(lnC) * 1000. / 22.392"
     ],
     "language": "python",
     "metadata": {},
     "outputs": [],
     "prompt_number": 2
    },
    {
     "cell_type": "code",
     "collapsed": false,
     "input": [
      "cast = DataFrame.from_cnv('./data/CTD_001.cnv.gz', compression='gzip')"
     ],
     "language": "python",
     "metadata": {},
     "outputs": [],
     "prompt_number": 3
    },
    {
     "cell_type": "markdown",
     "metadata": {},
     "source": [
      "That's it! One line to load the compressed\n",
      "[SeaBird](http://www.seabird.com/software/SBEDataProcforWindows.htm)\n",
      "cnv file into memory.  If you have the Rosette file you can load it as well and\n",
      "print the bottle summary with just two lines:"
     ]
    },
    {
     "cell_type": "code",
     "collapsed": false,
     "input": [
      "rossum = rosette_summary('./data/CTD_001.ros')\n",
      "rossum.groupby(rossum.index)['t090C', 't190C', 'c0S/m', 'c1S/m'].mean()"
     ],
     "language": "python",
     "metadata": {},
     "outputs": [
      {
       "html": [
        "<div style=\"max-width:1500px;overflow:auto;\">\n",
        "<table border=\"1\" class=\"dataframe\">\n",
        "  <thead>\n",
        "    <tr style=\"text-align: right;\">\n",
        "      <th></th>\n",
        "      <th>t090C</th>\n",
        "      <th>t190C</th>\n",
        "      <th>c0S/m</th>\n",
        "      <th>c1S/m</th>\n",
        "    </tr>\n",
        "    <tr>\n",
        "      <th>nbf</th>\n",
        "      <th></th>\n",
        "      <th></th>\n",
        "      <th></th>\n",
        "      <th></th>\n",
        "    </tr>\n",
        "  </thead>\n",
        "  <tbody>\n",
        "    <tr>\n",
        "      <th>1</th>\n",
        "      <td>0.928043</td>\n",
        "      <td>0.924906</td>\n",
        "      <td>3.119878</td>\n",
        "      <td>3.119614</td>\n",
        "    </tr>\n",
        "    <tr>\n",
        "      <th>2</th>\n",
        "      <td>0.925949</td>\n",
        "      <td>0.922761</td>\n",
        "      <td>3.119751</td>\n",
        "      <td>3.119480</td>\n",
        "    </tr>\n",
        "    <tr>\n",
        "      <th>3</th>\n",
        "      <td>0.926014</td>\n",
        "      <td>0.923645</td>\n",
        "      <td>3.119753</td>\n",
        "      <td>3.119537</td>\n",
        "    </tr>\n",
        "    <tr>\n",
        "      <th>4</th>\n",
        "      <td>0.925939</td>\n",
        "      <td>0.923045</td>\n",
        "      <td>3.119767</td>\n",
        "      <td>3.119535</td>\n",
        "    </tr>\n",
        "    <tr>\n",
        "      <th>5</th>\n",
        "      <td>0.927427</td>\n",
        "      <td>0.924004</td>\n",
        "      <td>3.119817</td>\n",
        "      <td>3.119534</td>\n",
        "    </tr>\n",
        "    <tr>\n",
        "      <th>6</th>\n",
        "      <td>0.927300</td>\n",
        "      <td>0.923857</td>\n",
        "      <td>3.119881</td>\n",
        "      <td>3.119604</td>\n",
        "    </tr>\n",
        "    <tr>\n",
        "      <th>7</th>\n",
        "      <td>2.442392</td>\n",
        "      <td>2.439239</td>\n",
        "      <td>3.242547</td>\n",
        "      <td>3.242271</td>\n",
        "    </tr>\n",
        "    <tr>\n",
        "      <th>8</th>\n",
        "      <td>2.443031</td>\n",
        "      <td>2.439859</td>\n",
        "      <td>3.242581</td>\n",
        "      <td>3.242297</td>\n",
        "    </tr>\n",
        "    <tr>\n",
        "      <th>9</th>\n",
        "      <td>2.442831</td>\n",
        "      <td>2.440165</td>\n",
        "      <td>3.242537</td>\n",
        "      <td>3.242277</td>\n",
        "    </tr>\n",
        "    <tr>\n",
        "      <th>10</th>\n",
        "      <td>3.230039</td>\n",
        "      <td>3.227310</td>\n",
        "      <td>3.277096</td>\n",
        "      <td>3.276797</td>\n",
        "    </tr>\n",
        "    <tr>\n",
        "      <th>11</th>\n",
        "      <td>3.230059</td>\n",
        "      <td>3.227284</td>\n",
        "      <td>3.277093</td>\n",
        "      <td>3.276799</td>\n",
        "    </tr>\n",
        "    <tr>\n",
        "      <th>12</th>\n",
        "      <td>3.229876</td>\n",
        "      <td>3.227224</td>\n",
        "      <td>3.277075</td>\n",
        "      <td>3.276790</td>\n",
        "    </tr>\n",
        "    <tr>\n",
        "      <th>13</th>\n",
        "      <td>3.838278</td>\n",
        "      <td>3.835665</td>\n",
        "      <td>3.283290</td>\n",
        "      <td>3.283006</td>\n",
        "    </tr>\n",
        "    <tr>\n",
        "      <th>14</th>\n",
        "      <td>3.834353</td>\n",
        "      <td>3.833296</td>\n",
        "      <td>3.282793</td>\n",
        "      <td>3.282687</td>\n",
        "    </tr>\n",
        "    <tr>\n",
        "      <th>15</th>\n",
        "      <td>3.836551</td>\n",
        "      <td>3.833398</td>\n",
        "      <td>3.283059</td>\n",
        "      <td>3.282718</td>\n",
        "    </tr>\n",
        "    <tr>\n",
        "      <th>16</th>\n",
        "      <td>4.507531</td>\n",
        "      <td>4.505259</td>\n",
        "      <td>3.281205</td>\n",
        "      <td>3.280923</td>\n",
        "    </tr>\n",
        "    <tr>\n",
        "      <th>17</th>\n",
        "      <td>4.507973</td>\n",
        "      <td>4.505092</td>\n",
        "      <td>3.281235</td>\n",
        "      <td>3.280895</td>\n",
        "    </tr>\n",
        "    <tr>\n",
        "      <th>18</th>\n",
        "      <td>4.508949</td>\n",
        "      <td>4.505784</td>\n",
        "      <td>3.281321</td>\n",
        "      <td>3.280968</td>\n",
        "    </tr>\n",
        "    <tr>\n",
        "      <th>19</th>\n",
        "      <td>14.905559</td>\n",
        "      <td>14.907837</td>\n",
        "      <td>4.343548</td>\n",
        "      <td>4.343580</td>\n",
        "    </tr>\n",
        "    <tr>\n",
        "      <th>20</th>\n",
        "      <td>14.873559</td>\n",
        "      <td>14.869651</td>\n",
        "      <td>4.339898</td>\n",
        "      <td>4.339350</td>\n",
        "    </tr>\n",
        "    <tr>\n",
        "      <th>21</th>\n",
        "      <td>14.946447</td>\n",
        "      <td>14.941363</td>\n",
        "      <td>4.348168</td>\n",
        "      <td>4.347379</td>\n",
        "    </tr>\n",
        "    <tr>\n",
        "      <th>22</th>\n",
        "      <td>23.996061</td>\n",
        "      <td>23.987796</td>\n",
        "      <td>5.500221</td>\n",
        "      <td>5.498812</td>\n",
        "    </tr>\n",
        "    <tr>\n",
        "      <th>23</th>\n",
        "      <td>23.987096</td>\n",
        "      <td>23.963898</td>\n",
        "      <td>5.499071</td>\n",
        "      <td>5.495626</td>\n",
        "    </tr>\n",
        "    <tr>\n",
        "      <th>24</th>\n",
        "      <td>23.975698</td>\n",
        "      <td>23.965688</td>\n",
        "      <td>5.497590</td>\n",
        "      <td>5.495803</td>\n",
        "    </tr>\n",
        "  </tbody>\n",
        "</table>\n",
        "</div>"
       ],
       "metadata": {},
       "output_type": "pyout",
       "prompt_number": 4,
       "text": [
        "         t090C      t190C     c0S/m     c1S/m\n",
        "nbf                                          \n",
        "1     0.928043   0.924906  3.119878  3.119614\n",
        "2     0.925949   0.922761  3.119751  3.119480\n",
        "3     0.926014   0.923645  3.119753  3.119537\n",
        "4     0.925939   0.923045  3.119767  3.119535\n",
        "5     0.927427   0.924004  3.119817  3.119534\n",
        "6     0.927300   0.923857  3.119881  3.119604\n",
        "7     2.442392   2.439239  3.242547  3.242271\n",
        "8     2.443031   2.439859  3.242581  3.242297\n",
        "9     2.442831   2.440165  3.242537  3.242277\n",
        "10    3.230039   3.227310  3.277096  3.276797\n",
        "11    3.230059   3.227284  3.277093  3.276799\n",
        "12    3.229876   3.227224  3.277075  3.276790\n",
        "13    3.838278   3.835665  3.283290  3.283006\n",
        "14    3.834353   3.833296  3.282793  3.282687\n",
        "15    3.836551   3.833398  3.283059  3.282718\n",
        "16    4.507531   4.505259  3.281205  3.280923\n",
        "17    4.507973   4.505092  3.281235  3.280895\n",
        "18    4.508949   4.505784  3.281321  3.280968\n",
        "19   14.905559  14.907837  4.343548  4.343580\n",
        "20   14.873559  14.869651  4.339898  4.339350\n",
        "21   14.946447  14.941363  4.348168  4.347379\n",
        "22   23.996061  23.987796  5.500221  5.498812\n",
        "23   23.987096  23.963898  5.499071  5.495626\n",
        "24   23.975698  23.965688  5.497590  5.495803"
       ]
      }
     ],
     "prompt_number": 4
    },
    {
     "cell_type": "markdown",
     "metadata": {},
     "source": [
      "Metadata and data flags are also easily accessed."
     ]
    },
    {
     "cell_type": "code",
     "collapsed": false,
     "input": [
      "# Read metadata.\n",
      "hours = cast['timeS'].max() / 60. / 60.\n",
      "lon, lat = cast.longitude.mean(), cast.latitude.mean()\n",
      "\n",
      "# Apply 'bad pump' and 'flag'.\n",
      "cast = cast[cast['pumps']]  # True for good values.\n",
      "cast = cast[~cast['flag']]  # True for bad values blame SBE!\n",
      "\n",
      "print(\"Cast duration was: %2.2f hours.\" % hours)\n",
      "cast[['t090C', 't190C', 'c0S/m', 'c1S/m']].describe()  # Statistics for sensors pairs 0, 1."
     ],
     "language": "python",
     "metadata": {},
     "outputs": [
      {
       "output_type": "stream",
       "stream": "stdout",
       "text": [
        "Cast duration was: 3.91 hours.\n"
       ]
      },
      {
       "html": [
        "<div style=\"max-width:1500px;overflow:auto;\">\n",
        "<table border=\"1\" class=\"dataframe\">\n",
        "  <thead>\n",
        "    <tr style=\"text-align: right;\">\n",
        "      <th></th>\n",
        "      <th>t090C</th>\n",
        "      <th>t190C</th>\n",
        "      <th>c0S/m</th>\n",
        "      <th>c1S/m</th>\n",
        "    </tr>\n",
        "  </thead>\n",
        "  <tbody>\n",
        "    <tr>\n",
        "      <th>count</th>\n",
        "      <td>337916.000000</td>\n",
        "      <td>337916.000000</td>\n",
        "      <td>337916.000000</td>\n",
        "      <td>3.379160e+05</td>\n",
        "    </tr>\n",
        "    <tr>\n",
        "      <th>mean</th>\n",
        "      <td>4.665746</td>\n",
        "      <td>4.661965</td>\n",
        "      <td>3.417277</td>\n",
        "      <td>3.416835e+00</td>\n",
        "    </tr>\n",
        "    <tr>\n",
        "      <th>std</th>\n",
        "      <td>5.100514</td>\n",
        "      <td>5.099301</td>\n",
        "      <td>0.516788</td>\n",
        "      <td>5.165796e-01</td>\n",
        "    </tr>\n",
        "    <tr>\n",
        "      <th>min</th>\n",
        "      <td>0.925100</td>\n",
        "      <td>0.921800</td>\n",
        "      <td>3.119202</td>\n",
        "      <td>-9.990000e-29</td>\n",
        "    </tr>\n",
        "    <tr>\n",
        "      <th>25%</th>\n",
        "      <td>2.569000</td>\n",
        "      <td>2.565900</td>\n",
        "      <td>3.228872</td>\n",
        "      <td>3.228444e+00</td>\n",
        "    </tr>\n",
        "    <tr>\n",
        "      <th>50%</th>\n",
        "      <td>3.234400</td>\n",
        "      <td>3.231500</td>\n",
        "      <td>3.262658</td>\n",
        "      <td>3.262342e+00</td>\n",
        "    </tr>\n",
        "    <tr>\n",
        "      <th>75%</th>\n",
        "      <td>3.875200</td>\n",
        "      <td>3.871600</td>\n",
        "      <td>3.300690</td>\n",
        "      <td>3.300353e+00</td>\n",
        "    </tr>\n",
        "    <tr>\n",
        "      <th>max</th>\n",
        "      <td>24.240500</td>\n",
        "      <td>24.240200</td>\n",
        "      <td>5.529971</td>\n",
        "      <td>5.529486e+00</td>\n",
        "    </tr>\n",
        "  </tbody>\n",
        "</table>\n",
        "</div>"
       ],
       "metadata": {},
       "output_type": "pyout",
       "prompt_number": 5,
       "text": [
        "               t090C          t190C          c0S/m         c1S/m\n",
        "count  337916.000000  337916.000000  337916.000000  3.379160e+05\n",
        "mean        4.665746       4.661965       3.417277  3.416835e+00\n",
        "std         5.100514       5.099301       0.516788  5.165796e-01\n",
        "min         0.925100       0.921800       3.119202 -9.990000e-29\n",
        "25%         2.569000       2.565900       3.228872  3.228444e+00\n",
        "50%         3.234400       3.231500       3.262658  3.262342e+00\n",
        "75%         3.875200       3.871600       3.300690  3.300353e+00\n",
        "max        24.240500      24.240200       5.529971  5.529486e+00"
       ]
      }
     ],
     "prompt_number": 5
    },
    {
     "cell_type": "markdown",
     "metadata": {},
     "source": [
      "Cleaning the DataFrame and manipulating the variables:"
     ]
    },
    {
     "cell_type": "code",
     "collapsed": false,
     "input": [
      "keep = set(['t090C', 'c0S/m', 'sbeox0Mm/Kg', 'dz/dtM'])\n",
      "cast = cast.drop(keep.symmetric_difference(cast.columns), axis=1)"
     ],
     "language": "python",
     "metadata": {},
     "outputs": [],
     "prompt_number": 6
    },
    {
     "cell_type": "markdown",
     "metadata": {},
     "source": [
      "The module also contains some rudimentary CTD processing steps akin to those\n",
      "found in the [SBE Software](ftp://ftp.halcyon.com/pub/seabird/OUT/SeasoftV2/SBEDataProcessing/):"
     ]
    },
    {
     "cell_type": "markdown",
     "metadata": {},
     "source": [
      "- Smooth velocity and Oxygen with a 2 seconds window:"
     ]
    },
    {
     "cell_type": "code",
     "collapsed": false,
     "input": [
      "cast['dz/dtM'] = movingaverage(cast['dz/dtM'], window_size=48)\n",
      "cast['sbeox0Mm/Kg'] = movingaverage(cast['sbeox0Mm/Kg'], window_size=48)"
     ],
     "language": "python",
     "metadata": {},
     "outputs": [],
     "prompt_number": 7
    },
    {
     "cell_type": "markdown",
     "metadata": {},
     "source": [
      "- Filter pressure:"
     ]
    },
    {
     "cell_type": "code",
     "collapsed": false,
     "input": [
      "kw = dict(sample_rate=24.0, time_constant=0.15)\n",
      "cast.index = lp_filter(cast.index, **kw)"
     ],
     "language": "python",
     "metadata": {},
     "outputs": [],
     "prompt_number": 8
    },
    {
     "cell_type": "markdown",
     "metadata": {},
     "source": [
      "- Split:"
     ]
    },
    {
     "cell_type": "code",
     "collapsed": false,
     "input": [
      "downcast, upcast = cast.split()"
     ],
     "language": "python",
     "metadata": {},
     "outputs": [],
     "prompt_number": 9
    },
    {
     "cell_type": "markdown",
     "metadata": {},
     "source": [
      "- Loop Edit:"
     ]
    },
    {
     "cell_type": "code",
     "collapsed": false,
     "input": [
      "downcast = downcast.press_check()  # Remove pressure reversals.\n",
      "downcast = downcast[downcast['dz/dtM'] >= 0.25]  # Threshold velocity."
     ],
     "language": "python",
     "metadata": {},
     "outputs": [],
     "prompt_number": 10
    },
    {
     "cell_type": "markdown",
     "metadata": {},
     "source": [
      "- Wild Edit:"
     ]
    },
    {
     "cell_type": "code",
     "collapsed": false,
     "input": [
      "kw = dict(n1=2, n2=20, block=150)\n",
      "downcast = downcast.apply(Series.despike, **kw)"
     ],
     "language": "python",
     "metadata": {},
     "outputs": [],
     "prompt_number": 11
    },
    {
     "cell_type": "markdown",
     "metadata": {},
     "source": [
      "- Bin-average:"
     ]
    },
    {
     "cell_type": "code",
     "collapsed": false,
     "input": [
      "downcast = downcast.apply(Series.bindata, **dict(delta=1.))\n",
      "downcast = downcast.apply(Series.interpolate)"
     ],
     "language": "python",
     "metadata": {},
     "outputs": [],
     "prompt_number": 12
    },
    {
     "cell_type": "markdown",
     "metadata": {},
     "source": [
      "- Smooth:"
     ]
    },
    {
     "cell_type": "code",
     "collapsed": false,
     "input": [
      "pmax = max(cast.index)\n",
      "if pmax >= 500:\n",
      "    window_len = 21\n",
      "elif pmax >= 100:\n",
      "    window_len = 11\n",
      "else:\n",
      "    window_len = 5\n",
      "kw = dict(window_len=window_len, window='hanning')\n",
      "downcast = downcast.apply(Series.smooth, **kw)"
     ],
     "language": "python",
     "metadata": {},
     "outputs": [],
     "prompt_number": 13
    },
    {
     "cell_type": "markdown",
     "metadata": {},
     "source": [
      "- The module also allows for a more \"customized\" `Derive` step:"
     ]
    },
    {
     "cell_type": "code",
     "collapsed": false,
     "input": [
      "p = downcast.index.values.astype(float)\n",
      "downcast['depth'] = -gsw.z_from_p(p, lat)\n",
      "# ctm [mS/cm] = ctm [S/m] * 10\n",
      "downcast['SP'] = gsw.SP_from_C(downcast['c0S/m'].values * 10, downcast['t090C'].values, p)\n",
      "downcast['SA'] = gsw.SA_from_SP(downcast['SP'].values, p, lon, lat)\n",
      "downcast['CT'] = gsw.CT_from_t(downcast['SA'].values, downcast['t090C'].values, p)\n",
      "downcast['sigma0_CT'] = gsw.sigma0_CT_exact(downcast['SA'].values, downcast['CT'].values)\n",
      "downcast['sound'] = gsw.sound_speed_CT_exact(downcast['SA'].values, downcast['CT'].values, p)\n",
      "downcast['gamma'] = gamma_GP_from_SP_pt(downcast['SA'].values, downcast['CT'].values, p, lon, lat)\n",
      "# Does't fit the DataFrame because the index in at the middle (p_mid) point of the original data.\n",
      "N2, p_mid = gsw.Nsquared(downcast['SA'].values, downcast['CT'].values, p, lat=lat)\n",
      "downcast['aou'] = o2sat(downcast['SA'].values, downcast['CT'].values) - downcast['sbeox0Mm/Kg']"
     ],
     "language": "python",
     "metadata": {},
     "outputs": [],
     "prompt_number": 14
    },
    {
     "cell_type": "markdown",
     "metadata": {},
     "source": [
      "Last but not least, a handy way for plotting the data:"
     ]
    },
    {
     "cell_type": "code",
     "collapsed": false,
     "input": [
      "figsize = (4, 6)\n",
      "kw_t = dict(linestyle='-', color='#6699cc', linewidth=3, label=r\"Temperature [$^\\circ$C]\")\n",
      "kw_ct = dict(linestyle='-', color='#ffcc33', alpha=0.75, linewidth=3, label=r\"Conservative temperature [$^\\circ$C]\")\n",
      "\n",
      "fig, ax = downcast['t090C'].plot(**kw_t)\n",
      "ax.plot(downcast['CT'], downcast.index, **kw_ct)\n",
      "ax.grid(True)\n",
      "ax.set_xlabel(\"Temperature\")\n",
      "ax.set_ylabel(\"Pressure [dbar]\")\n",
      "l = ax.legend(loc=\"lower right\")\n",
      "fig.set_size_inches(figsize)"
     ],
     "language": "python",
     "metadata": {},
     "outputs": [
      {
       "metadata": {},
       "output_type": "display_data",
       "png": "[encoded data removed]",
       "text": [
        "<matplotlib.figure.Figure at 0x7f584941f790>"
       ]
      }
     ],
     "prompt_number": 15
    },
    {
     "cell_type": "code",
     "collapsed": false,
     "input": [
      "kw_sp = dict(linestyle='-', color='#339933', linewidth=3, label=r\"Practical Salinity\")\n",
      "kw_sa = dict(linestyle='-', color='#999999', linewidth=3, label=r\"Absolute Salinity [g kg$^{-1}$]\")\n",
      "fig, ax = downcast['SP'].plot(**kw_sp)\n",
      "ax.plot(downcast['SA'], downcast.index, **kw_sa)\n",
      "ax.grid(True)\n",
      "ax.set_xlabel(\"Salinity\")\n",
      "ax.set_ylabel(\"Pressure [dbar]\")\n",
      "l = ax.legend(loc=\"lower right\")\n",
      "fig.set_size_inches(figsize)"
     ],
     "language": "python",
     "metadata": {},
     "outputs": [
      {
       "metadata": {},
       "output_type": "display_data",
       "png": "[encoded data removed]",
       "text": [
        "<matplotlib.figure.Figure at 0x7f583f760d50>"
       ]
      }
     ],
     "prompt_number": 16
    },
    {
     "cell_type": "code",
     "collapsed": false,
     "input": [
      "kw_gm = dict(linestyle='-', color='#0000ff', linewidth=3, label=r\"Gamma\")\n",
      "kw_sg = dict(linestyle='-', color='#ff3333', linewidth=3, label=r\"Sigma\")\n",
      "fig, ax = downcast['gamma'].plot(**kw_sg)\n",
      "ax.plot(downcast['sigma0_CT'], downcast.index, **kw_gm)\n",
      "ax.grid(True)\n",
      "ax.set_xlabel(\"Density [kg m $^{-3}$]\")\n",
      "ax.set_ylabel(\"Pressure [dbar]\")\n",
      "l = ax.legend(loc=\"lower left\")\n",
      "fig.set_size_inches(figsize)\n",
      "_ = ax.set_xlim(25.3, 28.5)"
     ],
     "language": "python",
     "metadata": {},
     "outputs": [
      {
       "metadata": {},
       "output_type": "display_data",
       "png": "[encoded data removed]",
       "text": [
        "<matplotlib.figure.Figure at 0x7f5875162250>"
       ]
      }
     ],
     "prompt_number": 17
    },
    {
     "cell_type": "code",
     "collapsed": false,
     "input": [
      "HTML(html)"
     ],
     "language": "python",
     "metadata": {},
     "outputs": [
      {
       "html": [
        "\n",
        "<small>\n",
        "<p> This post was written as an IPython notebook.  It is available for\n",
        "<a href=\"https://ocefpaf.github.com/python4oceanographers/downloads/\n",
        "notebooks/2013-05-27-CTD2DataFrame.ipynb\">download</a> or as a static\n",
        "<a href=\"https://nbviewer.ipython.org/url/ocefpaf.github.com/\n",
        "python4oceanographers/downloads/notebooks/2013-05-27-CTD2DataFrame.ipynb\">html</a>.</p>\n",
        "<p></p>\n",
        "<a rel=\"license\" href=\"https://creativecommons.org/licenses/by-sa/4.0/\"><img\n",
        "alt=\"Creative Commons License\" style=\"border-width:0\"\n",
        "src=\"https://i.creativecommons.org/l/by-sa/4.0/88x31.png\" /></a><br /><span\n",
        "xmlns:dct=\"https://purl.org/dc/terms/\"\n",
        "property=\"dct:title\">python4oceanographers</span> by <a\n",
        "xmlns:cc=\"https://creativecommons.org/ns#\" href=\"https://ocefpaf.github.io/\"\n",
        "property=\"cc:attributionName\" rel=\"cc:attributionURL\">Filipe Fernandes</a> is\n",
        "licensed under a <a rel=\"license\"\n",
        "href=\"https://creativecommons.org/licenses/by-sa/4.0/\">Creative Commons\n",
        "Attribution-ShareAlike 4.0 International License</a>.<br />Based on a work at <a\n",
        "xmlns:dct=\"https://purl.org/dc/terms/\" href=\"https://ocefpaf.github.io/\"\n",
        "rel=\"dct:source\">https://ocefpaf.github.io/</a>.\n",
        " "
       ],
       "metadata": {},
       "output_type": "pyout",
       "prompt_number": 18,
       "text": [
        "<IPython.core.display.HTML at 0x7f585aa90a10>"
       ]
      }
     ],
     "prompt_number": 18
    }
   ],
   "metadata": {}
  }
 ]
}