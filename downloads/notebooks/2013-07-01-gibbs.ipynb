{
 "metadata": {
  "name": "",
  "signature": "sha256:2ceabe8d27dde1dd31d3531f03ffaedeadb30aa7c367e4955124e7c401882d31"
 },
 "nbformat": 3,
 "nbformat_minor": 0,
 "worksheets": [
  {
   "cells": [
    {
     "cell_type": "code",
     "collapsed": false,
     "input": [
      "from IPython.core.display import HTML\n",
      "\n",
      "with open('creative_commons.txt', 'r') as f:\n",
      "    html = f.read()\n",
      "    \n",
      "name = '2013-07-01-gibbs'\n",
      "\n",
      "html = \"\"\"\n",
      "<small>\n",
      "<p> This post was written as an IPython notebook.  It is available for\n",
      "<a href=\"https://ocefpaf.github.com/python4oceanographers/downloads/\n",
      "notebooks/%s.ipynb\">download</a> or as a static\n",
      "<a href=\"https://nbviewer.ipython.org/url/ocefpaf.github.com/\n",
      "python4oceanographers/downloads/notebooks/%s.ipynb\">html</a>.</p>\n",
      "<p></p>\n",
      "%s \"\"\" % (name, name, html)\n",
      "\n",
      "%matplotlib inline\n",
      "from matplotlib import style\n",
      "style.use('ggplot')"
     ],
     "language": "python",
     "metadata": {},
     "outputs": [],
     "prompt_number": 1
    },
    {
     "cell_type": "markdown",
     "metadata": {},
     "source": [
      "The [python-gsw](http://code.google.com/p/python-gsw/) module, used in some of\n",
      "my previous posts, is an incomplete and unstable version for the\n",
      "[Matlab gibbs toolbox](http://www.teos-10.org/software.htm#1).  Because it is\n",
      "in constant development the best way to obtain it is to go straight to the\n",
      "[source code](http://code.google.com/p/python-gsw/source/browse/).\n",
      "\n",
      "The TEOS-10 [primer](http://www.teos-10.org/pubs/TEOS-10_Primer.pdf) is an\n",
      "excellent place to start before using this toolbox.  It supersedes the now\n",
      "obsolete [EOS-80](http://code.google.com/p/python-seawater/) seawater module.\n",
      "\n",
      "To obtain the latest version of this module you must install [mercurial](http://mercurial.selenic.com/) first, then you'll be able to clone the\n",
      "repository:\n",
      "\n",
      "~~~~~~~~~~~~~~~~~~~~~~~~~~~~~~~~~~~~~~~~~~~~~~~ {.bash}\n",
      "hg clone https://code.google.com/p/python-gsw/\n",
      "~~~~~~~~~~~~~~~~~~~~~~~~~~~~~~~~~~~~~~~~~~~~~~~\n",
      "\n",
      "Then just add the **python-gsw/gsw** directory into your **PYTHONPATH** so you\n",
      "can import it from anywhere.  To update just go into that directory and type:\n",
      "\n",
      "~~~~~~~~~~~~~~~~~~~~~~~~~~~~~~~~~~~~~~~~~~~~~~~ {.bash}\n",
      "hg pull\n",
      "hg update\n",
      "~~~~~~~~~~~~~~~~~~~~~~~~~~~~~~~~~~~~~~~~~~~~~~~\n",
      "\n",
      "My work-flow is to download all modules that are in a development phase into a\n",
      "\"pymodules\" directory and then create a `symlink` inside a local folder that is\n",
      "added to the **PYTHONPATH** in my .bashrc.\n",
      "\n",
      "Here is a small example of some functions present in the module:"
     ]
    },
    {
     "cell_type": "code",
     "collapsed": false,
     "input": [
      "import gsw\n",
      "import numpy as np\n",
      "from oceans.sw_extras import gamma_GP_from_SP_pt\n",
      "from ctd import DataFrame, Series, movingaverage, rosette_summary, lp_filter\n",
      "\n",
      "def o2sat(s, pt):\n",
      "    from seawater.library import T68conv\n",
      "    t = T68conv(pt) + 273.16\n",
      "    a = (-177.7888, 255.5907, 146.4813, -22.2040)\n",
      "    b = (-0.037362, 0.016504, -0.0020564)\n",
      "    lnC = (a[0] + a[1] * (100. / t) + a[2] * np.log(t / 100.) + a[3] *\n",
      "           (t / 100.) +\n",
      "           s * (b[0] + b[1] * (t / 100.) + b[2] * (t / 100.) ** 2))\n",
      "    return np.exp(lnC) * 1000. / 22.392"
     ],
     "language": "python",
     "metadata": {},
     "outputs": [],
     "prompt_number": 2
    },
    {
     "cell_type": "code",
     "collapsed": false,
     "input": [
      "cast = DataFrame.from_cnv('./data/CTD_001.cnv.gz', compression='gzip')\n",
      "\n",
      "hours = cast['timeS'].max() / 60. / 60.  # Read metadata.\n",
      "lon, lat = cast.longitude.mean(), cast.latitude.mean()\n",
      "\n",
      "# Apply 'bad pump' and 'flag'.\n",
      "cast = cast[cast['pumps']]  # True for good values.\n",
      "cast = cast[~cast['flag']]  # True for bad values blame SBE!\n",
      "\n",
      "keep = set(['t090C', 'c0S/m', 'sbeox0Mm/Kg', 'dz/dtM'])\n",
      "cast = cast.drop(keep.symmetric_difference(cast.columns), axis=1)\n",
      "\n",
      "cast['dz/dtM'] = movingaverage(cast['dz/dtM'], window_size=48)\n",
      "cast['sbeox0Mm/Kg'] = movingaverage(cast['sbeox0Mm/Kg'], window_size=48)\n",
      "\n",
      "kw = dict(sample_rate=24.0, time_constant=0.15)\n",
      "cast.index = lp_filter(cast.index, **kw)\n",
      "\n",
      "downcast, upcast = cast.split()\n",
      "\n",
      "downcast = downcast.press_check()  # Remove pressure reversals.\n",
      "downcast = downcast[downcast['dz/dtM'] >= 0.25]  # Threshold velocity.\n",
      "\n",
      "kw = dict(n1=2, n2=20, block=150)\n",
      "downcast = downcast.apply(Series.despike, **kw)\n",
      "\n",
      "downcast = downcast.apply(Series.bindata, **dict(delta=1.))\n",
      "downcast = downcast.apply(Series.interpolate)\n",
      "\n",
      "pmax = max(cast.index)\n",
      "if pmax >= 500:\n",
      "    window_len = 21\n",
      "elif pmax >= 100:\n",
      "    window_len = 11\n",
      "else:\n",
      "    window_len = 5\n",
      "kw = dict(window_len=window_len, window='hanning')\n",
      "downcast = downcast.apply(Series.smooth, **kw)"
     ],
     "language": "python",
     "metadata": {},
     "outputs": [],
     "prompt_number": 3
    },
    {
     "cell_type": "code",
     "collapsed": false,
     "input": [
      "p = downcast.index.values.astype(float)\n",
      "downcast['depth'] = -gsw.z_from_p(p, lat)\n",
      "# ctm [mS/cm] = ctm [S/m] * 10\n",
      "downcast['SP'] = gsw.SP_from_C(downcast['c0S/m'].values * 10, downcast['t090C'].values, p)\n",
      "downcast['SA'] = gsw.SA_from_SP(downcast['SP'].values, p, lon, lat)\n",
      "downcast['CT'] = gsw.CT_from_t(downcast['SA'].values, downcast['t090C'].values, p)\n",
      "downcast['sigma0_CT'] = gsw.sigma0_CT_exact(downcast['SA'].values, downcast['CT'].values)\n",
      "downcast['sound'] = gsw.sound_speed_CT_exact(downcast['SA'].values, downcast['CT'].values, p)\n",
      "downcast['gamma'] = gamma_GP_from_SP_pt(downcast['SA'].values, downcast['CT'].values, p, lon, lat)\n",
      "# Does't fit the DataFrame because the index in at the middle (p_mid) point of the original data.\n",
      "N2, p_mid = gsw.Nsquared(downcast['SA'].values, downcast['CT'].values, p, lat=lat)\n",
      "downcast['aou'] = o2sat(downcast['SA'].values, downcast['CT'].values) - downcast['sbeox0Mm/Kg']"
     ],
     "language": "python",
     "metadata": {},
     "outputs": [],
     "prompt_number": 4
    },
    {
     "cell_type": "code",
     "collapsed": false,
     "input": [
      "HTML(html)"
     ],
     "language": "python",
     "metadata": {},
     "outputs": [
      {
       "html": [
        "\n",
        "<small>\n",
        "<p> This post was written as an IPython notebook.  It is available for\n",
        "<a href=\"https://ocefpaf.github.com/python4oceanographers/downloads/\n",
        "notebooks/2013-07-01-gibbs.ipynb\">download</a> or as a static\n",
        "<a href=\"https://nbviewer.ipython.org/url/ocefpaf.github.com/\n",
        "python4oceanographers/downloads/notebooks/2013-07-01-gibbs.ipynb\">html</a>.</p>\n",
        "<p></p>\n",
        "<a rel=\"license\" href=\"https://creativecommons.org/licenses/by-sa/4.0/\"><img\n",
        "alt=\"Creative Commons License\" style=\"border-width:0\"\n",
        "src=\"https://i.creativecommons.org/l/by-sa/4.0/88x31.png\" /></a><br /><span\n",
        "xmlns:dct=\"https://purl.org/dc/terms/\"\n",
        "property=\"dct:title\">python4oceanographers</span> by <a\n",
        "xmlns:cc=\"https://creativecommons.org/ns#\" href=\"https://ocefpaf.github.io/\"\n",
        "property=\"cc:attributionName\" rel=\"cc:attributionURL\">Filipe Fernandes</a> is\n",
        "licensed under a <a rel=\"license\"\n",
        "href=\"https://creativecommons.org/licenses/by-sa/4.0/\">Creative Commons\n",
        "Attribution-ShareAlike 4.0 International License</a>.<br />Based on a work at <a\n",
        "xmlns:dct=\"https://purl.org/dc/terms/\" href=\"https://ocefpaf.github.io/\"\n",
        "rel=\"dct:source\">https://ocefpaf.github.io/</a>.\n",
        " "
       ],
       "metadata": {},
       "output_type": "pyout",
       "prompt_number": 5,
       "text": [
        "<IPython.core.display.HTML at 0x7f9790ebb5d0>"
       ]
      }
     ],
     "prompt_number": 5
    }
   ],
   "metadata": {}
  }
 ]
}